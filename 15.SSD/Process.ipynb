{
 "cells": [
  {
   "cell_type": "markdown",
   "metadata": {
    "id": "yxqy7WEFFmHU"
   },
   "source": [
    "# Tensorflow Object Detection API\n",
    "- Tensorflow Object Detection API는 TensorFlow를 이용해서 Object Detection 모델을 train하고 deploy하는 것을 쉽게 도와주는 오픈소스 프레임워크.\n",
    "- https://github.com/tensorflow/models/tree/master/research/object_detection\n",
    "- Tutorial: https://tensorflow-object-detection-api-tutorial.readthedocs.io/en/latest/"
   ]
  },
  {
   "cell_type": "markdown",
   "metadata": {
    "id": "xJ4r9OWhFmHd"
   },
   "source": [
    "# Custom (Image) Data 구하기"
   ]
  },
  {
   "cell_type": "markdown",
   "metadata": {
    "id": "t_wiuh0WFmHe"
   },
   "source": [
    "# Custom (Image) Data Labeling"
   ]
  },
  {
   "cell_type": "markdown",
   "metadata": {
    "id": "3RWHj-JxFmHf"
   },
   "source": [
    "# 전단계\n",
    "- 구글드라이브 연결\n",
    "- raw_data의 데이터압축파일을 VM local에 압축 푼다."
   ]
  },
  {
   "cell_type": "code",
   "execution_count": 1,
   "metadata": {
    "colab": {
     "base_uri": "https://localhost:8080/"
    },
    "executionInfo": {
     "elapsed": 25568,
     "status": "ok",
     "timestamp": 1632795038580,
     "user": {
      "displayName": "Sunghwan KIM",
      "photoUrl": "https://lh3.googleusercontent.com/a/default-user=s64",
      "userId": "06010856989212311727"
     },
     "user_tz": -540
    },
    "id": "5tag0DTwKqMb",
    "outputId": "523ee80a-dc54-4475-8900-5085f9f56e8e"
   },
   "outputs": [
    {
     "name": "stdout",
     "output_type": "stream",
     "text": [
      "Mounted at /content/drive\n"
     ]
    }
   ],
   "source": [
    "from google.colab import drive\n",
    "drive.mount('/content/drive')"
   ]
  },
  {
   "cell_type": "code",
   "execution_count": 3,
   "metadata": {
    "colab": {
     "base_uri": "https://localhost:8080/"
    },
    "executionInfo": {
     "elapsed": 401,
     "status": "ok",
     "timestamp": 1632795089926,
     "user": {
      "displayName": "Sunghwan KIM",
      "photoUrl": "https://lh3.googleusercontent.com/a/default-user=s64",
      "userId": "06010856989212311727"
     },
     "user_tz": -540
    },
    "id": "A6hBEOE_FmHf",
    "outputId": "b2a5ec8e-6468-4c16-e110-42453dcdc387"
   },
   "outputs": [
    {
     "name": "stdout",
     "output_type": "stream",
     "text": [
      "/content\n"
     ]
    }
   ],
   "source": [
    "# 현재 디렉토리\n",
    "!pwd"
   ]
  },
  {
   "cell_type": "code",
   "execution_count": 4,
   "metadata": {
    "executionInfo": {
     "elapsed": 2462,
     "status": "ok",
     "timestamp": 1632795242953,
     "user": {
      "displayName": "Sunghwan KIM",
      "photoUrl": "https://lh3.googleusercontent.com/a/default-user=s64",
      "userId": "06010856989212311727"
     },
     "user_tz": -540
    },
    "id": "S0z4cgB4FmHg"
   },
   "outputs": [],
   "source": [
    "# 압축풀기. zip파일=>unzip 명령어로 푼다. unzip 압축파일 -d 압축풀 디렉토리\n",
    "!unzip -q /content/drive/MyDrive/object_detection_src/sign_language_letters/raw_data/american_sign_language_letters.zip  -d /content/images"
   ]
  },
  {
   "cell_type": "markdown",
   "metadata": {
    "id": "yDjXGaXpFmHh"
   },
   "source": [
    "# Tensorflow Object Detection 2 API 설치\n",
    "1. clone \n",
    "    - `!git clone https://github.com/tensorflow/models.git`\n",
    "1. PYTHONPATH 환경설정에 models/research 추가  \n",
    "1. 필요 모듈 설치\n",
    "    - `!apt-get install -qq protobuf-compiler python-pil python-lxml python-tk`\n",
    "    - `!pip install -qq Cython contextlib2 pillow lxml matplotlib pycocotools`\n",
    "1. proto 파일 컴파일\n",
    "    - models/research 경로로 이동\n",
    "        - `%cd models/research`\n",
    "    - `!protoc object_detection/protos/*.proto --python_out=.`\n",
    "1. setup.py 를 이용해 필요한 모듈 추가 설치\n",
    "    - setup.py를 현재 디렉토리로 카피\n",
    "        - `!cp object_detection/packages/tf2/setup.py . `\n",
    "    - 설치\n",
    "        - `!python -m pip install . `\n",
    "    - 설치 확인 - 아래 스크립트 실행시 오류 없이 실행되면 설치 잘 된 것임.\n",
    "        - `!python object_detection/builders/model_builder_tf2_test.py`\n",
    "1. 원래 디렉토리로 이동\n",
    "    - `%cd ../..`        "
   ]
  },
  {
   "cell_type": "code",
   "execution_count": 5,
   "metadata": {
    "colab": {
     "base_uri": "https://localhost:8080/"
    },
    "executionInfo": {
     "elapsed": 24757,
     "status": "ok",
     "timestamp": 1632795504496,
     "user": {
      "displayName": "Sunghwan KIM",
      "photoUrl": "https://lh3.googleusercontent.com/a/default-user=s64",
      "userId": "06010856989212311727"
     },
     "user_tz": -540
    },
    "id": "pXjma-57FmHi",
    "outputId": "9cef6f2a-272b-4c3b-f19c-c8557cb4df03"
   },
   "outputs": [
    {
     "name": "stdout",
     "output_type": "stream",
     "text": [
      "Cloning into 'models'...\n",
      "remote: Enumerating objects: 63338, done.\u001b[K\n",
      "remote: Counting objects: 100% (672/672), done.\u001b[K\n",
      "remote: Compressing objects: 100% (140/140), done.\u001b[K\n",
      "remote: Total 63338 (delta 547), reused 648 (delta 532), pack-reused 62666\u001b[K\n",
      "Receiving objects: 100% (63338/63338), 574.78 MiB | 29.49 MiB/s, done.\n",
      "Resolving deltas: 100% (44240/44240), done.\n",
      "Checking out files: 100% (2671/2671), done.\n"
     ]
    }
   ],
   "source": [
    "# Tensorflow Object Detection API2 를 clone\n",
    "!git clone https://github.com/tensorflow/models.git"
   ]
  },
  {
   "cell_type": "code",
   "execution_count": 8,
   "metadata": {
    "executionInfo": {
     "elapsed": 327,
     "status": "ok",
     "timestamp": 1632795937832,
     "user": {
      "displayName": "Sunghwan KIM",
      "photoUrl": "https://lh3.googleusercontent.com/a/default-user=s64",
      "userId": "06010856989212311727"
     },
     "user_tz": -540
    },
    "id": "nfUf6dAzFmHi"
   },
   "outputs": [],
   "source": [
    "# 환경설정 - PYTHONPATH = models/research\n",
    "import os\n",
    "os.environ['PYTHONPATH'] += \":/content/models/research\""
   ]
  },
  {
   "cell_type": "code",
   "execution_count": 9,
   "metadata": {
    "colab": {
     "base_uri": "https://localhost:8080/",
     "height": 36
    },
    "executionInfo": {
     "elapsed": 339,
     "status": "ok",
     "timestamp": 1632795943137,
     "user": {
      "displayName": "Sunghwan KIM",
      "photoUrl": "https://lh3.googleusercontent.com/a/default-user=s64",
      "userId": "06010856989212311727"
     },
     "user_tz": -540
    },
    "id": "OaxAExrKFmHj",
    "outputId": "32e74378-bbce-4850-9e76-b9a97c6b33d5"
   },
   "outputs": [
    {
     "data": {
      "application/vnd.google.colaboratory.intrinsic+json": {
       "type": "string"
      },
      "text/plain": [
       "'/env/python:/content/models/research'"
      ]
     },
     "execution_count": 9,
     "metadata": {},
     "output_type": "execute_result"
    }
   ],
   "source": [
    "os.environ['PYTHONPATH']"
   ]
  },
  {
   "cell_type": "code",
   "execution_count": 10,
   "metadata": {
    "colab": {
     "base_uri": "https://localhost:8080/"
    },
    "executionInfo": {
     "elapsed": 15632,
     "status": "ok",
     "timestamp": 1632796152543,
     "user": {
      "displayName": "Sunghwan KIM",
      "photoUrl": "https://lh3.googleusercontent.com/a/default-user=s64",
      "userId": "06010856989212311727"
     },
     "user_tz": -540
    },
    "id": "XP4q2LnTFmHk",
    "outputId": "7eec901d-5dc9-45fe-fcf6-ac22b11aade8"
   },
   "outputs": [
    {
     "name": "stdout",
     "output_type": "stream",
     "text": [
      "Selecting previously unselected package python-bs4.\n",
      "(Reading database ... 155013 files and directories currently installed.)\n",
      "Preparing to unpack .../0-python-bs4_4.6.0-1_all.deb ...\n",
      "Unpacking python-bs4 (4.6.0-1) ...\n",
      "Selecting previously unselected package python-pkg-resources.\n",
      "Preparing to unpack .../1-python-pkg-resources_39.0.1-2_all.deb ...\n",
      "Unpacking python-pkg-resources (39.0.1-2) ...\n",
      "Selecting previously unselected package python-chardet.\n",
      "Preparing to unpack .../2-python-chardet_3.0.4-1_all.deb ...\n",
      "Unpacking python-chardet (3.0.4-1) ...\n",
      "Selecting previously unselected package python-six.\n",
      "Preparing to unpack .../3-python-six_1.11.0-2_all.deb ...\n",
      "Unpacking python-six (1.11.0-2) ...\n",
      "Selecting previously unselected package python-webencodings.\n",
      "Preparing to unpack .../4-python-webencodings_0.5-2_all.deb ...\n",
      "Unpacking python-webencodings (0.5-2) ...\n",
      "Selecting previously unselected package python-html5lib.\n",
      "Preparing to unpack .../5-python-html5lib_0.999999999-1_all.deb ...\n",
      "Unpacking python-html5lib (0.999999999-1) ...\n",
      "Selecting previously unselected package python-lxml:amd64.\n",
      "Preparing to unpack .../6-python-lxml_4.2.1-1ubuntu0.4_amd64.deb ...\n",
      "Unpacking python-lxml:amd64 (4.2.1-1ubuntu0.4) ...\n",
      "Selecting previously unselected package python-olefile.\n",
      "Preparing to unpack .../7-python-olefile_0.45.1-1_all.deb ...\n",
      "Unpacking python-olefile (0.45.1-1) ...\n",
      "Selecting previously unselected package python-pil:amd64.\n",
      "Preparing to unpack .../8-python-pil_5.1.0-1ubuntu0.6_amd64.deb ...\n",
      "Unpacking python-pil:amd64 (5.1.0-1ubuntu0.6) ...\n",
      "Setting up python-pkg-resources (39.0.1-2) ...\n",
      "Setting up python-six (1.11.0-2) ...\n",
      "Setting up python-bs4 (4.6.0-1) ...\n",
      "Setting up python-lxml:amd64 (4.2.1-1ubuntu0.4) ...\n",
      "Setting up python-olefile (0.45.1-1) ...\n",
      "Setting up python-pil:amd64 (5.1.0-1ubuntu0.6) ...\n",
      "Setting up python-webencodings (0.5-2) ...\n",
      "Setting up python-chardet (3.0.4-1) ...\n",
      "Setting up python-html5lib (0.999999999-1) ...\n",
      "Processing triggers for man-db (2.8.3-2ubuntu0.1) ...\n"
     ]
    }
   ],
   "source": [
    "#3. 추가 필요모듈 설치\n",
    "!apt-get install -qq protobuf-compiler python-pil python-lxml python-tk"
   ]
  },
  {
   "cell_type": "code",
   "execution_count": 11,
   "metadata": {
    "executionInfo": {
     "elapsed": 4175,
     "status": "ok",
     "timestamp": 1632796175513,
     "user": {
      "displayName": "Sunghwan KIM",
      "photoUrl": "https://lh3.googleusercontent.com/a/default-user=s64",
      "userId": "06010856989212311727"
     },
     "user_tz": -540
    },
    "id": "qTVaTwiHFmHk"
   },
   "outputs": [],
   "source": [
    "!pip install -qq Cython contextlib2 pillow lxml matplotlib pycocotools"
   ]
  },
  {
   "cell_type": "code",
   "execution_count": 12,
   "metadata": {
    "colab": {
     "base_uri": "https://localhost:8080/"
    },
    "executionInfo": {
     "elapsed": 323,
     "status": "ok",
     "timestamp": 1632796241354,
     "user": {
      "displayName": "Sunghwan KIM",
      "photoUrl": "https://lh3.googleusercontent.com/a/default-user=s64",
      "userId": "06010856989212311727"
     },
     "user_tz": -540
    },
    "id": "wGnZeOJ8FmHl",
    "outputId": "898bad4d-f108-48ca-9977-b9e727f40200"
   },
   "outputs": [
    {
     "name": "stdout",
     "output_type": "stream",
     "text": [
      "/content/models/research\n"
     ]
    }
   ],
   "source": [
    "# 4. protos 컴파일\n",
    "%cd models/research"
   ]
  },
  {
   "cell_type": "code",
   "execution_count": 13,
   "metadata": {
    "executionInfo": {
     "elapsed": 338,
     "status": "ok",
     "timestamp": 1632796333031,
     "user": {
      "displayName": "Sunghwan KIM",
      "photoUrl": "https://lh3.googleusercontent.com/a/default-user=s64",
      "userId": "06010856989212311727"
     },
     "user_tz": -540
    },
    "id": "nX-sLsjaFmHm"
   },
   "outputs": [],
   "source": [
    "!protoc object_detection/protos/*.proto --python_out=."
   ]
  },
  {
   "cell_type": "code",
   "execution_count": 14,
   "metadata": {
    "executionInfo": {
     "elapsed": 313,
     "status": "ok",
     "timestamp": 1632796462943,
     "user": {
      "displayName": "Sunghwan KIM",
      "photoUrl": "https://lh3.googleusercontent.com/a/default-user=s64",
      "userId": "06010856989212311727"
     },
     "user_tz": -540
    },
    "id": "Ha6ywhaHP3e1"
   },
   "outputs": [],
   "source": [
    "#5. setup.py 실행\n",
    "# setup.py 를 현재 디렉토리로 카피. cp 대상파일 카피경로\n",
    "!cp object_detection/packages/tf2/setup.py ."
   ]
  },
  {
   "cell_type": "code",
   "execution_count": 15,
   "metadata": {
    "colab": {
     "base_uri": "https://localhost:8080/",
     "height": 1000
    },
    "executionInfo": {
     "elapsed": 38297,
     "status": "ok",
     "timestamp": 1632796538190,
     "user": {
      "displayName": "Sunghwan KIM",
      "photoUrl": "https://lh3.googleusercontent.com/a/default-user=s64",
      "userId": "06010856989212311727"
     },
     "user_tz": -540
    },
    "id": "1DRHpB8oP3Ud",
    "outputId": "a4c9a7a8-2a71-43e8-c488-1254aa3f108e"
   },
   "outputs": [
    {
     "name": "stdout",
     "output_type": "stream",
     "text": [
      "Processing /content/models/research\n",
      "\u001b[33m  DEPRECATION: A future pip version will change local packages to be built in-place without first copying to a temporary directory. We recommend you use --use-feature=in-tree-build to test your packages with this new behavior before it becomes the default.\n",
      "   pip 21.3 will remove support for this functionality. You can find discussion regarding this at https://github.com/pypa/pip/issues/7555.\u001b[0m\n",
      "Collecting avro-python3\n",
      "  Downloading avro-python3-1.10.2.tar.gz (38 kB)\n",
      "Collecting apache-beam\n",
      "  Downloading apache_beam-2.32.0-cp37-cp37m-manylinux2010_x86_64.whl (9.8 MB)\n",
      "\u001b[K     |████████████████████████████████| 9.8 MB 8.2 MB/s \n",
      "\u001b[?25hRequirement already satisfied: pillow in /usr/local/lib/python3.7/dist-packages (from object-detection==0.1) (7.1.2)\n",
      "Requirement already satisfied: lxml in /usr/local/lib/python3.7/dist-packages (from object-detection==0.1) (4.2.6)\n",
      "Requirement already satisfied: matplotlib in /usr/local/lib/python3.7/dist-packages (from object-detection==0.1) (3.2.2)\n",
      "Requirement already satisfied: Cython in /usr/local/lib/python3.7/dist-packages (from object-detection==0.1) (0.29.24)\n",
      "Requirement already satisfied: contextlib2 in /usr/local/lib/python3.7/dist-packages (from object-detection==0.1) (0.5.5)\n",
      "Collecting tf-slim\n",
      "  Downloading tf_slim-1.1.0-py2.py3-none-any.whl (352 kB)\n",
      "\u001b[K     |████████████████████████████████| 352 kB 30.1 MB/s \n",
      "\u001b[?25hRequirement already satisfied: six in /usr/local/lib/python3.7/dist-packages (from object-detection==0.1) (1.15.0)\n",
      "Requirement already satisfied: pycocotools in /usr/local/lib/python3.7/dist-packages (from object-detection==0.1) (2.0.2)\n",
      "Collecting lvis\n",
      "  Downloading lvis-0.5.3-py3-none-any.whl (14 kB)\n",
      "Requirement already satisfied: scipy in /usr/local/lib/python3.7/dist-packages (from object-detection==0.1) (1.4.1)\n",
      "Requirement already satisfied: pandas in /usr/local/lib/python3.7/dist-packages (from object-detection==0.1) (1.1.5)\n",
      "Collecting tf-models-official>=2.5.1\n",
      "  Downloading tf_models_official-2.6.0-py2.py3-none-any.whl (1.8 MB)\n",
      "\u001b[K     |████████████████████████████████| 1.8 MB 40.5 MB/s \n",
      "\u001b[?25hRequirement already satisfied: oauth2client in /usr/local/lib/python3.7/dist-packages (from tf-models-official>=2.5.1->object-detection==0.1) (4.1.3)\n",
      "Requirement already satisfied: psutil>=5.4.3 in /usr/local/lib/python3.7/dist-packages (from tf-models-official>=2.5.1->object-detection==0.1) (5.4.8)\n",
      "Collecting tensorflow-text>=2.5.0\n",
      "  Downloading tensorflow_text-2.6.0-cp37-cp37m-manylinux1_x86_64.whl (4.4 MB)\n",
      "\u001b[K     |████████████████████████████████| 4.4 MB 38.3 MB/s \n",
      "\u001b[?25hCollecting tensorflow-model-optimization>=0.4.1\n",
      "  Downloading tensorflow_model_optimization-0.6.0-py2.py3-none-any.whl (211 kB)\n",
      "\u001b[K     |████████████████████████████████| 211 kB 57.6 MB/s \n",
      "\u001b[?25hCollecting sentencepiece\n",
      "  Downloading sentencepiece-0.1.96-cp37-cp37m-manylinux_2_17_x86_64.manylinux2014_x86_64.whl (1.2 MB)\n",
      "\u001b[K     |████████████████████████████████| 1.2 MB 44.4 MB/s \n",
      "\u001b[?25hCollecting opencv-python-headless\n",
      "  Downloading opencv_python_headless-4.5.3.56-cp37-cp37m-manylinux2014_x86_64.whl (37.1 MB)\n",
      "\u001b[K     |████████████████████████████████| 37.1 MB 46 kB/s \n",
      "\u001b[?25hRequirement already satisfied: tensorflow-datasets in /usr/local/lib/python3.7/dist-packages (from tf-models-official>=2.5.1->object-detection==0.1) (4.0.1)\n",
      "Requirement already satisfied: kaggle>=1.3.9 in /usr/local/lib/python3.7/dist-packages (from tf-models-official>=2.5.1->object-detection==0.1) (1.5.12)\n",
      "Collecting py-cpuinfo>=3.3.0\n",
      "  Downloading py-cpuinfo-8.0.0.tar.gz (99 kB)\n",
      "\u001b[K     |████████████████████████████████| 99 kB 9.2 MB/s \n",
      "\u001b[?25hCollecting seqeval\n",
      "  Downloading seqeval-1.2.2.tar.gz (43 kB)\n",
      "\u001b[K     |████████████████████████████████| 43 kB 1.8 MB/s \n",
      "\u001b[?25hRequirement already satisfied: tensorflow>=2.5.0 in /usr/local/lib/python3.7/dist-packages (from tf-models-official>=2.5.1->object-detection==0.1) (2.6.0)\n",
      "Requirement already satisfied: tensorflow-hub>=0.6.0 in /usr/local/lib/python3.7/dist-packages (from tf-models-official>=2.5.1->object-detection==0.1) (0.12.0)\n",
      "Collecting pyyaml>=5.1\n",
      "  Downloading PyYAML-5.4.1-cp37-cp37m-manylinux1_x86_64.whl (636 kB)\n",
      "\u001b[K     |████████████████████████████████| 636 kB 55.2 MB/s \n",
      "\u001b[?25hRequirement already satisfied: google-api-python-client>=1.6.7 in /usr/local/lib/python3.7/dist-packages (from tf-models-official>=2.5.1->object-detection==0.1) (1.12.8)\n",
      "Collecting sacrebleu\n",
      "  Downloading sacrebleu-2.0.0-py3-none-any.whl (90 kB)\n",
      "\u001b[K     |████████████████████████████████| 90 kB 9.2 MB/s \n",
      "\u001b[?25hRequirement already satisfied: numpy>=1.15.4 in /usr/local/lib/python3.7/dist-packages (from tf-models-official>=2.5.1->object-detection==0.1) (1.19.5)\n",
      "Collecting tensorflow-addons\n",
      "  Downloading tensorflow_addons-0.14.0-cp37-cp37m-manylinux_2_12_x86_64.manylinux2010_x86_64.whl (1.1 MB)\n",
      "\u001b[K     |████████████████████████████████| 1.1 MB 36.8 MB/s \n",
      "\u001b[?25hRequirement already satisfied: gin-config in /usr/local/lib/python3.7/dist-packages (from tf-models-official>=2.5.1->object-detection==0.1) (0.4.0)\n",
      "Requirement already satisfied: google-api-core<2dev,>=1.21.0 in /usr/local/lib/python3.7/dist-packages (from google-api-python-client>=1.6.7->tf-models-official>=2.5.1->object-detection==0.1) (1.26.3)\n",
      "Requirement already satisfied: google-auth-httplib2>=0.0.3 in /usr/local/lib/python3.7/dist-packages (from google-api-python-client>=1.6.7->tf-models-official>=2.5.1->object-detection==0.1) (0.0.4)\n",
      "Requirement already satisfied: httplib2<1dev,>=0.15.0 in /usr/local/lib/python3.7/dist-packages (from google-api-python-client>=1.6.7->tf-models-official>=2.5.1->object-detection==0.1) (0.17.4)\n",
      "Requirement already satisfied: google-auth>=1.16.0 in /usr/local/lib/python3.7/dist-packages (from google-api-python-client>=1.6.7->tf-models-official>=2.5.1->object-detection==0.1) (1.35.0)\n",
      "Requirement already satisfied: uritemplate<4dev,>=3.0.0 in /usr/local/lib/python3.7/dist-packages (from google-api-python-client>=1.6.7->tf-models-official>=2.5.1->object-detection==0.1) (3.0.1)\n",
      "Requirement already satisfied: packaging>=14.3 in /usr/local/lib/python3.7/dist-packages (from google-api-core<2dev,>=1.21.0->google-api-python-client>=1.6.7->tf-models-official>=2.5.1->object-detection==0.1) (21.0)\n",
      "Requirement already satisfied: pytz in /usr/local/lib/python3.7/dist-packages (from google-api-core<2dev,>=1.21.0->google-api-python-client>=1.6.7->tf-models-official>=2.5.1->object-detection==0.1) (2018.9)\n",
      "Requirement already satisfied: googleapis-common-protos<2.0dev,>=1.6.0 in /usr/local/lib/python3.7/dist-packages (from google-api-core<2dev,>=1.21.0->google-api-python-client>=1.6.7->tf-models-official>=2.5.1->object-detection==0.1) (1.53.0)\n",
      "Requirement already satisfied: requests<3.0.0dev,>=2.18.0 in /usr/local/lib/python3.7/dist-packages (from google-api-core<2dev,>=1.21.0->google-api-python-client>=1.6.7->tf-models-official>=2.5.1->object-detection==0.1) (2.23.0)\n",
      "Requirement already satisfied: protobuf>=3.12.0 in /usr/local/lib/python3.7/dist-packages (from google-api-core<2dev,>=1.21.0->google-api-python-client>=1.6.7->tf-models-official>=2.5.1->object-detection==0.1) (3.17.3)\n",
      "Requirement already satisfied: setuptools>=40.3.0 in /usr/local/lib/python3.7/dist-packages (from google-api-core<2dev,>=1.21.0->google-api-python-client>=1.6.7->tf-models-official>=2.5.1->object-detection==0.1) (57.4.0)\n",
      "Requirement already satisfied: cachetools<5.0,>=2.0.0 in /usr/local/lib/python3.7/dist-packages (from google-auth>=1.16.0->google-api-python-client>=1.6.7->tf-models-official>=2.5.1->object-detection==0.1) (4.2.2)\n",
      "Requirement already satisfied: pyasn1-modules>=0.2.1 in /usr/local/lib/python3.7/dist-packages (from google-auth>=1.16.0->google-api-python-client>=1.6.7->tf-models-official>=2.5.1->object-detection==0.1) (0.2.8)\n",
      "Requirement already satisfied: rsa<5,>=3.1.4 in /usr/local/lib/python3.7/dist-packages (from google-auth>=1.16.0->google-api-python-client>=1.6.7->tf-models-official>=2.5.1->object-detection==0.1) (4.7.2)\n",
      "Requirement already satisfied: urllib3 in /usr/local/lib/python3.7/dist-packages (from kaggle>=1.3.9->tf-models-official>=2.5.1->object-detection==0.1) (1.24.3)\n",
      "Requirement already satisfied: certifi in /usr/local/lib/python3.7/dist-packages (from kaggle>=1.3.9->tf-models-official>=2.5.1->object-detection==0.1) (2021.5.30)\n",
      "Requirement already satisfied: tqdm in /usr/local/lib/python3.7/dist-packages (from kaggle>=1.3.9->tf-models-official>=2.5.1->object-detection==0.1) (4.62.2)\n",
      "Requirement already satisfied: python-slugify in /usr/local/lib/python3.7/dist-packages (from kaggle>=1.3.9->tf-models-official>=2.5.1->object-detection==0.1) (5.0.2)\n",
      "Requirement already satisfied: python-dateutil in /usr/local/lib/python3.7/dist-packages (from kaggle>=1.3.9->tf-models-official>=2.5.1->object-detection==0.1) (2.8.2)\n",
      "Requirement already satisfied: pyparsing>=2.0.2 in /usr/local/lib/python3.7/dist-packages (from packaging>=14.3->google-api-core<2dev,>=1.21.0->google-api-python-client>=1.6.7->tf-models-official>=2.5.1->object-detection==0.1) (2.4.7)\n",
      "Requirement already satisfied: pyasn1<0.5.0,>=0.4.6 in /usr/local/lib/python3.7/dist-packages (from pyasn1-modules>=0.2.1->google-auth>=1.16.0->google-api-python-client>=1.6.7->tf-models-official>=2.5.1->object-detection==0.1) (0.4.8)\n",
      "Requirement already satisfied: idna<3,>=2.5 in /usr/local/lib/python3.7/dist-packages (from requests<3.0.0dev,>=2.18.0->google-api-core<2dev,>=1.21.0->google-api-python-client>=1.6.7->tf-models-official>=2.5.1->object-detection==0.1) (2.10)\n",
      "Requirement already satisfied: chardet<4,>=3.0.2 in /usr/local/lib/python3.7/dist-packages (from requests<3.0.0dev,>=2.18.0->google-api-core<2dev,>=1.21.0->google-api-python-client>=1.6.7->tf-models-official>=2.5.1->object-detection==0.1) (3.0.4)\n",
      "Requirement already satisfied: absl-py~=0.10 in /usr/local/lib/python3.7/dist-packages (from tensorflow>=2.5.0->tf-models-official>=2.5.1->object-detection==0.1) (0.12.0)\n",
      "Requirement already satisfied: tensorflow-estimator~=2.6 in /usr/local/lib/python3.7/dist-packages (from tensorflow>=2.5.0->tf-models-official>=2.5.1->object-detection==0.1) (2.6.0)\n",
      "Requirement already satisfied: clang~=5.0 in /usr/local/lib/python3.7/dist-packages (from tensorflow>=2.5.0->tf-models-official>=2.5.1->object-detection==0.1) (5.0)\n",
      "Requirement already satisfied: opt-einsum~=3.3.0 in /usr/local/lib/python3.7/dist-packages (from tensorflow>=2.5.0->tf-models-official>=2.5.1->object-detection==0.1) (3.3.0)\n",
      "Requirement already satisfied: h5py~=3.1.0 in /usr/local/lib/python3.7/dist-packages (from tensorflow>=2.5.0->tf-models-official>=2.5.1->object-detection==0.1) (3.1.0)\n",
      "Requirement already satisfied: flatbuffers~=1.12.0 in /usr/local/lib/python3.7/dist-packages (from tensorflow>=2.5.0->tf-models-official>=2.5.1->object-detection==0.1) (1.12)\n",
      "Requirement already satisfied: keras-preprocessing~=1.1.2 in /usr/local/lib/python3.7/dist-packages (from tensorflow>=2.5.0->tf-models-official>=2.5.1->object-detection==0.1) (1.1.2)\n",
      "Requirement already satisfied: google-pasta~=0.2 in /usr/local/lib/python3.7/dist-packages (from tensorflow>=2.5.0->tf-models-official>=2.5.1->object-detection==0.1) (0.2.0)\n",
      "Requirement already satisfied: typing-extensions~=3.7.4 in /usr/local/lib/python3.7/dist-packages (from tensorflow>=2.5.0->tf-models-official>=2.5.1->object-detection==0.1) (3.7.4.3)\n",
      "Requirement already satisfied: keras~=2.6 in /usr/local/lib/python3.7/dist-packages (from tensorflow>=2.5.0->tf-models-official>=2.5.1->object-detection==0.1) (2.6.0)\n",
      "Requirement already satisfied: gast==0.4.0 in /usr/local/lib/python3.7/dist-packages (from tensorflow>=2.5.0->tf-models-official>=2.5.1->object-detection==0.1) (0.4.0)\n",
      "Requirement already satisfied: astunparse~=1.6.3 in /usr/local/lib/python3.7/dist-packages (from tensorflow>=2.5.0->tf-models-official>=2.5.1->object-detection==0.1) (1.6.3)\n",
      "Requirement already satisfied: grpcio<2.0,>=1.37.0 in /usr/local/lib/python3.7/dist-packages (from tensorflow>=2.5.0->tf-models-official>=2.5.1->object-detection==0.1) (1.40.0)\n",
      "Requirement already satisfied: tensorboard~=2.6 in /usr/local/lib/python3.7/dist-packages (from tensorflow>=2.5.0->tf-models-official>=2.5.1->object-detection==0.1) (2.6.0)\n",
      "Requirement already satisfied: termcolor~=1.1.0 in /usr/local/lib/python3.7/dist-packages (from tensorflow>=2.5.0->tf-models-official>=2.5.1->object-detection==0.1) (1.1.0)\n",
      "Requirement already satisfied: wheel~=0.35 in /usr/local/lib/python3.7/dist-packages (from tensorflow>=2.5.0->tf-models-official>=2.5.1->object-detection==0.1) (0.37.0)\n",
      "Requirement already satisfied: wrapt~=1.12.1 in /usr/local/lib/python3.7/dist-packages (from tensorflow>=2.5.0->tf-models-official>=2.5.1->object-detection==0.1) (1.12.1)\n",
      "Requirement already satisfied: cached-property in /usr/local/lib/python3.7/dist-packages (from h5py~=3.1.0->tensorflow>=2.5.0->tf-models-official>=2.5.1->object-detection==0.1) (1.5.2)\n",
      "Requirement already satisfied: tensorboard-data-server<0.7.0,>=0.6.0 in /usr/local/lib/python3.7/dist-packages (from tensorboard~=2.6->tensorflow>=2.5.0->tf-models-official>=2.5.1->object-detection==0.1) (0.6.1)\n",
      "Requirement already satisfied: werkzeug>=0.11.15 in /usr/local/lib/python3.7/dist-packages (from tensorboard~=2.6->tensorflow>=2.5.0->tf-models-official>=2.5.1->object-detection==0.1) (1.0.1)\n",
      "Requirement already satisfied: tensorboard-plugin-wit>=1.6.0 in /usr/local/lib/python3.7/dist-packages (from tensorboard~=2.6->tensorflow>=2.5.0->tf-models-official>=2.5.1->object-detection==0.1) (1.8.0)\n",
      "Requirement already satisfied: google-auth-oauthlib<0.5,>=0.4.1 in /usr/local/lib/python3.7/dist-packages (from tensorboard~=2.6->tensorflow>=2.5.0->tf-models-official>=2.5.1->object-detection==0.1) (0.4.6)\n",
      "Requirement already satisfied: markdown>=2.6.8 in /usr/local/lib/python3.7/dist-packages (from tensorboard~=2.6->tensorflow>=2.5.0->tf-models-official>=2.5.1->object-detection==0.1) (3.3.4)\n",
      "Requirement already satisfied: requests-oauthlib>=0.7.0 in /usr/local/lib/python3.7/dist-packages (from google-auth-oauthlib<0.5,>=0.4.1->tensorboard~=2.6->tensorflow>=2.5.0->tf-models-official>=2.5.1->object-detection==0.1) (1.3.0)\n",
      "Requirement already satisfied: importlib-metadata in /usr/local/lib/python3.7/dist-packages (from markdown>=2.6.8->tensorboard~=2.6->tensorflow>=2.5.0->tf-models-official>=2.5.1->object-detection==0.1) (4.8.1)\n",
      "Requirement already satisfied: oauthlib>=3.0.0 in /usr/local/lib/python3.7/dist-packages (from requests-oauthlib>=0.7.0->google-auth-oauthlib<0.5,>=0.4.1->tensorboard~=2.6->tensorflow>=2.5.0->tf-models-official>=2.5.1->object-detection==0.1) (3.1.1)\n",
      "Requirement already satisfied: dm-tree~=0.1.1 in /usr/local/lib/python3.7/dist-packages (from tensorflow-model-optimization>=0.4.1->tf-models-official>=2.5.1->object-detection==0.1) (0.1.6)\n",
      "Collecting fastavro<2,>=0.21.4\n",
      "  Downloading fastavro-1.4.5-cp37-cp37m-manylinux_2_17_x86_64.manylinux2014_x86_64.whl (2.3 MB)\n",
      "\u001b[K     |████████████████████████████████| 2.3 MB 59.6 MB/s \n",
      "\u001b[?25hRequirement already satisfied: pydot<2,>=1.2.0 in /usr/local/lib/python3.7/dist-packages (from apache-beam->object-detection==0.1) (1.3.0)\n",
      "Collecting requests<3.0.0dev,>=2.18.0\n",
      "  Downloading requests-2.26.0-py2.py3-none-any.whl (62 kB)\n",
      "\u001b[K     |████████████████████████████████| 62 kB 761 kB/s \n",
      "\u001b[?25hRequirement already satisfied: pyarrow<5.0.0,>=0.15.1 in /usr/local/lib/python3.7/dist-packages (from apache-beam->object-detection==0.1) (3.0.0)\n",
      "Requirement already satisfied: pymongo<4.0.0,>=3.8.0 in /usr/local/lib/python3.7/dist-packages (from apache-beam->object-detection==0.1) (3.12.0)\n",
      "Collecting dill<0.3.2,>=0.3.1.1\n",
      "  Downloading dill-0.3.1.1.tar.gz (151 kB)\n",
      "\u001b[K     |████████████████████████████████| 151 kB 56.3 MB/s \n",
      "\u001b[?25hCollecting hdfs<3.0.0,>=2.1.0\n",
      "  Downloading hdfs-2.6.0-py3-none-any.whl (33 kB)\n",
      "Requirement already satisfied: crcmod<2.0,>=1.7 in /usr/local/lib/python3.7/dist-packages (from apache-beam->object-detection==0.1) (1.7)\n",
      "Collecting future<1.0.0,>=0.18.2\n",
      "  Downloading future-0.18.2.tar.gz (829 kB)\n",
      "\u001b[K     |████████████████████████████████| 829 kB 45.7 MB/s \n",
      "\u001b[?25hCollecting avro-python3\n",
      "  Downloading avro-python3-1.9.2.1.tar.gz (37 kB)\n",
      "Collecting orjson<4.0\n",
      "  Downloading orjson-3.6.3-cp37-cp37m-manylinux_2_24_x86_64.whl (234 kB)\n",
      "\u001b[K     |████████████████████████████████| 234 kB 62.9 MB/s \n",
      "\u001b[?25hRequirement already satisfied: docopt in /usr/local/lib/python3.7/dist-packages (from hdfs<3.0.0,>=2.1.0->apache-beam->object-detection==0.1) (0.6.2)\n",
      "Requirement already satisfied: charset-normalizer~=2.0.0 in /usr/local/lib/python3.7/dist-packages (from requests<3.0.0dev,>=2.18.0->google-api-core<2dev,>=1.21.0->google-api-python-client>=1.6.7->tf-models-official>=2.5.1->object-detection==0.1) (2.0.6)\n",
      "Requirement already satisfied: zipp>=0.5 in /usr/local/lib/python3.7/dist-packages (from importlib-metadata->markdown>=2.6.8->tensorboard~=2.6->tensorflow>=2.5.0->tf-models-official>=2.5.1->object-detection==0.1) (3.5.0)\n",
      "Requirement already satisfied: kiwisolver>=1.1.0 in /usr/local/lib/python3.7/dist-packages (from lvis->object-detection==0.1) (1.3.2)\n",
      "Requirement already satisfied: opencv-python>=4.1.0.25 in /usr/local/lib/python3.7/dist-packages (from lvis->object-detection==0.1) (4.1.2.30)\n",
      "Requirement already satisfied: cycler>=0.10.0 in /usr/local/lib/python3.7/dist-packages (from lvis->object-detection==0.1) (0.10.0)\n",
      "Requirement already satisfied: text-unidecode>=1.3 in /usr/local/lib/python3.7/dist-packages (from python-slugify->kaggle>=1.3.9->tf-models-official>=2.5.1->object-detection==0.1) (1.3)\n",
      "Requirement already satisfied: regex in /usr/local/lib/python3.7/dist-packages (from sacrebleu->tf-models-official>=2.5.1->object-detection==0.1) (2019.12.20)\n",
      "Requirement already satisfied: tabulate>=0.8.9 in /usr/local/lib/python3.7/dist-packages (from sacrebleu->tf-models-official>=2.5.1->object-detection==0.1) (0.8.9)\n",
      "Collecting portalocker\n",
      "  Downloading portalocker-2.3.2-py2.py3-none-any.whl (15 kB)\n",
      "Collecting colorama\n",
      "  Downloading colorama-0.4.4-py2.py3-none-any.whl (16 kB)\n",
      "Requirement already satisfied: scikit-learn>=0.21.3 in /usr/local/lib/python3.7/dist-packages (from seqeval->tf-models-official>=2.5.1->object-detection==0.1) (0.22.2.post1)\n",
      "Requirement already satisfied: joblib>=0.11 in /usr/local/lib/python3.7/dist-packages (from scikit-learn>=0.21.3->seqeval->tf-models-official>=2.5.1->object-detection==0.1) (1.0.1)\n",
      "Requirement already satisfied: typeguard>=2.7 in /usr/local/lib/python3.7/dist-packages (from tensorflow-addons->tf-models-official>=2.5.1->object-detection==0.1) (2.7.1)\n",
      "Requirement already satisfied: tensorflow-metadata in /usr/local/lib/python3.7/dist-packages (from tensorflow-datasets->tf-models-official>=2.5.1->object-detection==0.1) (1.2.0)\n",
      "Requirement already satisfied: importlib-resources in /usr/local/lib/python3.7/dist-packages (from tensorflow-datasets->tf-models-official>=2.5.1->object-detection==0.1) (5.2.2)\n",
      "Requirement already satisfied: attrs>=18.1.0 in /usr/local/lib/python3.7/dist-packages (from tensorflow-datasets->tf-models-official>=2.5.1->object-detection==0.1) (21.2.0)\n",
      "Requirement already satisfied: promise in /usr/local/lib/python3.7/dist-packages (from tensorflow-datasets->tf-models-official>=2.5.1->object-detection==0.1) (2.3)\n",
      "Building wheels for collected packages: object-detection, py-cpuinfo, avro-python3, dill, future, seqeval\n",
      "  Building wheel for object-detection (setup.py) ... \u001b[?25l\u001b[?25hdone\n",
      "  Created wheel for object-detection: filename=object_detection-0.1-py3-none-any.whl size=1665976 sha256=c1c06a31517fa95c75179183b8499814ca61d51df84959e2aaee7673adffd226\n",
      "  Stored in directory: /tmp/pip-ephem-wheel-cache-djj11wpo/wheels/fa/a4/d2/e9a5057e414fd46c8e543d2706cd836d64e1fcd9eccceb2329\n",
      "  Building wheel for py-cpuinfo (setup.py) ... \u001b[?25l\u001b[?25hdone\n",
      "  Created wheel for py-cpuinfo: filename=py_cpuinfo-8.0.0-py3-none-any.whl size=22258 sha256=ea3967cc159c46bebd745eec4211ee95723b5b46c7bd5570e3c19c089d6ddcab\n",
      "  Stored in directory: /root/.cache/pip/wheels/d2/f1/1f/041add21dc9c4220157f1bd2bd6afe1f1a49524c3396b94401\n",
      "  Building wheel for avro-python3 (setup.py) ... \u001b[?25l\u001b[?25hdone\n",
      "  Created wheel for avro-python3: filename=avro_python3-1.9.2.1-py3-none-any.whl size=43512 sha256=6bf5fb887aca0f2037d726ec23a29cd4cd0d2d379afa4400192815aee36b2b6b\n",
      "  Stored in directory: /root/.cache/pip/wheels/bc/49/5f/fdb5b9d85055c478213e0158ac122b596816149a02d82e0ab1\n",
      "  Building wheel for dill (setup.py) ... \u001b[?25l\u001b[?25hdone\n",
      "  Created wheel for dill: filename=dill-0.3.1.1-py3-none-any.whl size=78546 sha256=992dec0798ce8082d36c55b9ba2a6ccd444531d111c443090ea8280bb936542a\n",
      "  Stored in directory: /root/.cache/pip/wheels/a4/61/fd/c57e374e580aa78a45ed78d5859b3a44436af17e22ca53284f\n",
      "  Building wheel for future (setup.py) ... \u001b[?25l\u001b[?25hdone\n",
      "  Created wheel for future: filename=future-0.18.2-py3-none-any.whl size=491070 sha256=096dcf48b3b8ac935efbedcf114cc7b389afbd095aac823b10bddfe1731b95c2\n",
      "  Stored in directory: /root/.cache/pip/wheels/56/b0/fe/4410d17b32f1f0c3cf54cdfb2bc04d7b4b8f4ae377e2229ba0\n",
      "  Building wheel for seqeval (setup.py) ... \u001b[?25l\u001b[?25hdone\n",
      "  Created wheel for seqeval: filename=seqeval-1.2.2-py3-none-any.whl size=16181 sha256=bf8842e9f72a2f86328c91d25a87bf4edef8afd5cc996de1b01c49a8d70172bb\n",
      "  Stored in directory: /root/.cache/pip/wheels/05/96/ee/7cac4e74f3b19e3158dce26a20a1c86b3533c43ec72a549fd7\n",
      "Successfully built object-detection py-cpuinfo avro-python3 dill future seqeval\n",
      "Installing collected packages: requests, portalocker, future, dill, colorama, tf-slim, tensorflow-text, tensorflow-model-optimization, tensorflow-addons, seqeval, sentencepiece, sacrebleu, pyyaml, py-cpuinfo, orjson, opencv-python-headless, hdfs, fastavro, avro-python3, tf-models-official, lvis, apache-beam, object-detection\n",
      "  Attempting uninstall: requests\n",
      "    Found existing installation: requests 2.23.0\n",
      "    Uninstalling requests-2.23.0:\n",
      "      Successfully uninstalled requests-2.23.0\n",
      "  Attempting uninstall: future\n",
      "    Found existing installation: future 0.16.0\n",
      "    Uninstalling future-0.16.0:\n",
      "      Successfully uninstalled future-0.16.0\n",
      "  Attempting uninstall: dill\n",
      "    Found existing installation: dill 0.3.4\n",
      "    Uninstalling dill-0.3.4:\n",
      "      Successfully uninstalled dill-0.3.4\n",
      "  Attempting uninstall: pyyaml\n",
      "    Found existing installation: PyYAML 3.13\n",
      "    Uninstalling PyYAML-3.13:\n",
      "      Successfully uninstalled PyYAML-3.13\n",
      "\u001b[31mERROR: pip's dependency resolver does not currently take into account all the packages that are installed. This behaviour is the source of the following dependency conflicts.\n",
      "multiprocess 0.70.12.2 requires dill>=0.3.4, but you have dill 0.3.1.1 which is incompatible.\n",
      "google-colab 1.0.0 requires requests~=2.23.0, but you have requests 2.26.0 which is incompatible.\n",
      "datascience 0.10.6 requires folium==0.2.1, but you have folium 0.8.3 which is incompatible.\u001b[0m\n",
      "Successfully installed apache-beam-2.32.0 avro-python3-1.9.2.1 colorama-0.4.4 dill-0.3.1.1 fastavro-1.4.5 future-0.18.2 hdfs-2.6.0 lvis-0.5.3 object-detection-0.1 opencv-python-headless-4.5.3.56 orjson-3.6.3 portalocker-2.3.2 py-cpuinfo-8.0.0 pyyaml-5.4.1 requests-2.26.0 sacrebleu-2.0.0 sentencepiece-0.1.96 seqeval-1.2.2 tensorflow-addons-0.14.0 tensorflow-model-optimization-0.6.0 tensorflow-text-2.6.0 tf-models-official-2.6.0 tf-slim-1.1.0\n"
     ]
    },
    {
     "data": {
      "application/vnd.colab-display-data+json": {
       "pip_warning": {
        "packages": [
         "requests"
        ]
       }
      }
     },
     "metadata": {},
     "output_type": "display_data"
    }
   ],
   "source": [
    "# setup.py 를 이용해 추가 패키지 설치\n",
    "!pip install ."
   ]
  },
  {
   "cell_type": "code",
   "execution_count": 16,
   "metadata": {
    "colab": {
     "base_uri": "https://localhost:8080/"
    },
    "executionInfo": {
     "elapsed": 357,
     "status": "ok",
     "timestamp": 1632796638191,
     "user": {
      "displayName": "Sunghwan KIM",
      "photoUrl": "https://lh3.googleusercontent.com/a/default-user=s64",
      "userId": "06010856989212311727"
     },
     "user_tz": -540
    },
    "id": "oJbKD8qgP3F9",
    "outputId": "64704da2-2da9-48e2-e3c7-f36ab4b96c15"
   },
   "outputs": [
    {
     "name": "stdout",
     "output_type": "stream",
     "text": [
      "/content/models/research\n"
     ]
    }
   ],
   "source": [
    "!pwd"
   ]
  },
  {
   "cell_type": "code",
   "execution_count": 19,
   "metadata": {
    "colab": {
     "base_uri": "https://localhost:8080/"
    },
    "executionInfo": {
     "elapsed": 295,
     "status": "ok",
     "timestamp": 1632796685114,
     "user": {
      "displayName": "Sunghwan KIM",
      "photoUrl": "https://lh3.googleusercontent.com/a/default-user=s64",
      "userId": "06010856989212311727"
     },
     "user_tz": -540
    },
    "id": "uW9oNva-P3DL",
    "outputId": "702103b6-c13b-4852-939c-9ab77bb3399e"
   },
   "outputs": [
    {
     "name": "stdout",
     "output_type": "stream",
     "text": [
      "/content\n"
     ]
    }
   ],
   "source": [
    "# 작업 디렉토리 /content 로 이동\n",
    "%cd  ../..\n"
   ]
  },
  {
   "cell_type": "code",
   "execution_count": 20,
   "metadata": {
    "colab": {
     "base_uri": "https://localhost:8080/"
    },
    "executionInfo": {
     "elapsed": 44806,
     "status": "ok",
     "timestamp": 1632796835969,
     "user": {
      "displayName": "Sunghwan KIM",
      "photoUrl": "https://lh3.googleusercontent.com/a/default-user=s64",
      "userId": "06010856989212311727"
     },
     "user_tz": -540
    },
    "id": "FJiZYYuLRGGr",
    "outputId": "5892fa78-4ca7-4306-afa1-4ecffe54bd9c"
   },
   "outputs": [
    {
     "name": "stdout",
     "output_type": "stream",
     "text": [
      "2021-09-28 02:40:04.289979: E tensorflow/stream_executor/cuda/cuda_driver.cc:271] failed call to cuInit: CUDA_ERROR_NO_DEVICE: no CUDA-capable device is detected\n",
      "2021-09-28 02:40:04.290072: I tensorflow/stream_executor/cuda/cuda_diagnostics.cc:156] kernel driver does not appear to be running on this host (765987fbba18): /proc/driver/nvidia/version does not exist\n",
      "Running tests under Python 3.7.12: /usr/bin/python3\n",
      "[ RUN      ] ModelBuilderTF2Test.test_create_center_net_deepmac\n",
      "W0928 02:40:04.719065 140694408537984 model_builder.py:1091] Building experimental DeepMAC meta-arch. Some features may be omitted.\n",
      "INFO:tensorflow:time(__main__.ModelBuilderTF2Test.test_create_center_net_deepmac): 0.88s\n",
      "I0928 02:40:05.171876 140694408537984 test_util.py:2189] time(__main__.ModelBuilderTF2Test.test_create_center_net_deepmac): 0.88s\n",
      "[       OK ] ModelBuilderTF2Test.test_create_center_net_deepmac\n",
      "[ RUN      ] ModelBuilderTF2Test.test_create_center_net_model0 (customize_head_params=True)\n",
      "INFO:tensorflow:time(__main__.ModelBuilderTF2Test.test_create_center_net_model0 (customize_head_params=True)): 0.61s\n",
      "I0928 02:40:05.783800 140694408537984 test_util.py:2189] time(__main__.ModelBuilderTF2Test.test_create_center_net_model0 (customize_head_params=True)): 0.61s\n",
      "[       OK ] ModelBuilderTF2Test.test_create_center_net_model0 (customize_head_params=True)\n",
      "[ RUN      ] ModelBuilderTF2Test.test_create_center_net_model1 (customize_head_params=False)\n",
      "INFO:tensorflow:time(__main__.ModelBuilderTF2Test.test_create_center_net_model1 (customize_head_params=False)): 0.35s\n",
      "I0928 02:40:06.130697 140694408537984 test_util.py:2189] time(__main__.ModelBuilderTF2Test.test_create_center_net_model1 (customize_head_params=False)): 0.35s\n",
      "[       OK ] ModelBuilderTF2Test.test_create_center_net_model1 (customize_head_params=False)\n",
      "[ RUN      ] ModelBuilderTF2Test.test_create_center_net_model_from_keypoints\n",
      "INFO:tensorflow:time(__main__.ModelBuilderTF2Test.test_create_center_net_model_from_keypoints): 0.31s\n",
      "I0928 02:40:06.439739 140694408537984 test_util.py:2189] time(__main__.ModelBuilderTF2Test.test_create_center_net_model_from_keypoints): 0.31s\n",
      "[       OK ] ModelBuilderTF2Test.test_create_center_net_model_from_keypoints\n",
      "[ RUN      ] ModelBuilderTF2Test.test_create_center_net_model_mobilenet\n",
      "INFO:tensorflow:time(__main__.ModelBuilderTF2Test.test_create_center_net_model_mobilenet): 2.62s\n",
      "I0928 02:40:09.059606 140694408537984 test_util.py:2189] time(__main__.ModelBuilderTF2Test.test_create_center_net_model_mobilenet): 2.62s\n",
      "[       OK ] ModelBuilderTF2Test.test_create_center_net_model_mobilenet\n",
      "[ RUN      ] ModelBuilderTF2Test.test_create_experimental_model\n",
      "INFO:tensorflow:time(__main__.ModelBuilderTF2Test.test_create_experimental_model): 0.0s\n",
      "I0928 02:40:09.060893 140694408537984 test_util.py:2189] time(__main__.ModelBuilderTF2Test.test_create_experimental_model): 0.0s\n",
      "[       OK ] ModelBuilderTF2Test.test_create_experimental_model\n",
      "[ RUN      ] ModelBuilderTF2Test.test_create_faster_rcnn_from_config_with_crop_feature0 (True)\n",
      "INFO:tensorflow:time(__main__.ModelBuilderTF2Test.test_create_faster_rcnn_from_config_with_crop_feature0 (True)): 0.03s\n",
      "I0928 02:40:09.090447 140694408537984 test_util.py:2189] time(__main__.ModelBuilderTF2Test.test_create_faster_rcnn_from_config_with_crop_feature0 (True)): 0.03s\n",
      "[       OK ] ModelBuilderTF2Test.test_create_faster_rcnn_from_config_with_crop_feature0 (True)\n",
      "[ RUN      ] ModelBuilderTF2Test.test_create_faster_rcnn_from_config_with_crop_feature1 (False)\n",
      "INFO:tensorflow:time(__main__.ModelBuilderTF2Test.test_create_faster_rcnn_from_config_with_crop_feature1 (False)): 0.02s\n",
      "I0928 02:40:09.109429 140694408537984 test_util.py:2189] time(__main__.ModelBuilderTF2Test.test_create_faster_rcnn_from_config_with_crop_feature1 (False)): 0.02s\n",
      "[       OK ] ModelBuilderTF2Test.test_create_faster_rcnn_from_config_with_crop_feature1 (False)\n",
      "[ RUN      ] ModelBuilderTF2Test.test_create_faster_rcnn_model_from_config_with_example_miner\n",
      "INFO:tensorflow:time(__main__.ModelBuilderTF2Test.test_create_faster_rcnn_model_from_config_with_example_miner): 0.02s\n",
      "I0928 02:40:09.129600 140694408537984 test_util.py:2189] time(__main__.ModelBuilderTF2Test.test_create_faster_rcnn_model_from_config_with_example_miner): 0.02s\n",
      "[       OK ] ModelBuilderTF2Test.test_create_faster_rcnn_model_from_config_with_example_miner\n",
      "[ RUN      ] ModelBuilderTF2Test.test_create_faster_rcnn_models_from_config_faster_rcnn_with_matmul\n",
      "INFO:tensorflow:time(__main__.ModelBuilderTF2Test.test_create_faster_rcnn_models_from_config_faster_rcnn_with_matmul): 0.14s\n",
      "I0928 02:40:09.265343 140694408537984 test_util.py:2189] time(__main__.ModelBuilderTF2Test.test_create_faster_rcnn_models_from_config_faster_rcnn_with_matmul): 0.14s\n",
      "[       OK ] ModelBuilderTF2Test.test_create_faster_rcnn_models_from_config_faster_rcnn_with_matmul\n",
      "[ RUN      ] ModelBuilderTF2Test.test_create_faster_rcnn_models_from_config_faster_rcnn_without_matmul\n",
      "INFO:tensorflow:time(__main__.ModelBuilderTF2Test.test_create_faster_rcnn_models_from_config_faster_rcnn_without_matmul): 0.12s\n",
      "I0928 02:40:09.386372 140694408537984 test_util.py:2189] time(__main__.ModelBuilderTF2Test.test_create_faster_rcnn_models_from_config_faster_rcnn_without_matmul): 0.12s\n",
      "[       OK ] ModelBuilderTF2Test.test_create_faster_rcnn_models_from_config_faster_rcnn_without_matmul\n",
      "[ RUN      ] ModelBuilderTF2Test.test_create_faster_rcnn_models_from_config_mask_rcnn_with_matmul\n",
      "INFO:tensorflow:time(__main__.ModelBuilderTF2Test.test_create_faster_rcnn_models_from_config_mask_rcnn_with_matmul): 0.12s\n",
      "I0928 02:40:09.510276 140694408537984 test_util.py:2189] time(__main__.ModelBuilderTF2Test.test_create_faster_rcnn_models_from_config_mask_rcnn_with_matmul): 0.12s\n",
      "[       OK ] ModelBuilderTF2Test.test_create_faster_rcnn_models_from_config_mask_rcnn_with_matmul\n",
      "[ RUN      ] ModelBuilderTF2Test.test_create_faster_rcnn_models_from_config_mask_rcnn_without_matmul\n",
      "INFO:tensorflow:time(__main__.ModelBuilderTF2Test.test_create_faster_rcnn_models_from_config_mask_rcnn_without_matmul): 0.12s\n",
      "I0928 02:40:09.634557 140694408537984 test_util.py:2189] time(__main__.ModelBuilderTF2Test.test_create_faster_rcnn_models_from_config_mask_rcnn_without_matmul): 0.12s\n",
      "[       OK ] ModelBuilderTF2Test.test_create_faster_rcnn_models_from_config_mask_rcnn_without_matmul\n",
      "[ RUN      ] ModelBuilderTF2Test.test_create_rfcn_model_from_config\n",
      "INFO:tensorflow:time(__main__.ModelBuilderTF2Test.test_create_rfcn_model_from_config): 0.12s\n",
      "I0928 02:40:09.755723 140694408537984 test_util.py:2189] time(__main__.ModelBuilderTF2Test.test_create_rfcn_model_from_config): 0.12s\n",
      "[       OK ] ModelBuilderTF2Test.test_create_rfcn_model_from_config\n",
      "[ RUN      ] ModelBuilderTF2Test.test_create_ssd_fpn_model_from_config\n",
      "INFO:tensorflow:time(__main__.ModelBuilderTF2Test.test_create_ssd_fpn_model_from_config): 0.03s\n",
      "I0928 02:40:09.789469 140694408537984 test_util.py:2189] time(__main__.ModelBuilderTF2Test.test_create_ssd_fpn_model_from_config): 0.03s\n",
      "[       OK ] ModelBuilderTF2Test.test_create_ssd_fpn_model_from_config\n",
      "[ RUN      ] ModelBuilderTF2Test.test_create_ssd_models_from_config\n",
      "I0928 02:40:10.170455 140694408537984 ssd_efficientnet_bifpn_feature_extractor.py:143] EfficientDet EfficientNet backbone version: efficientnet-b0\n",
      "I0928 02:40:10.170687 140694408537984 ssd_efficientnet_bifpn_feature_extractor.py:144] EfficientDet BiFPN num filters: 64\n",
      "I0928 02:40:10.170753 140694408537984 ssd_efficientnet_bifpn_feature_extractor.py:146] EfficientDet BiFPN num iterations: 3\n",
      "I0928 02:40:10.173522 140694408537984 efficientnet_model.py:147] round_filter input=32 output=32\n",
      "I0928 02:40:10.193342 140694408537984 efficientnet_model.py:147] round_filter input=32 output=32\n",
      "I0928 02:40:10.193564 140694408537984 efficientnet_model.py:147] round_filter input=16 output=16\n",
      "I0928 02:40:10.261859 140694408537984 efficientnet_model.py:147] round_filter input=16 output=16\n",
      "I0928 02:40:10.262068 140694408537984 efficientnet_model.py:147] round_filter input=24 output=24\n",
      "I0928 02:40:10.446344 140694408537984 efficientnet_model.py:147] round_filter input=24 output=24\n",
      "I0928 02:40:10.446620 140694408537984 efficientnet_model.py:147] round_filter input=40 output=40\n",
      "I0928 02:40:10.627379 140694408537984 efficientnet_model.py:147] round_filter input=40 output=40\n",
      "I0928 02:40:10.627621 140694408537984 efficientnet_model.py:147] round_filter input=80 output=80\n",
      "I0928 02:40:10.918687 140694408537984 efficientnet_model.py:147] round_filter input=80 output=80\n",
      "I0928 02:40:10.918896 140694408537984 efficientnet_model.py:147] round_filter input=112 output=112\n",
      "I0928 02:40:11.221074 140694408537984 efficientnet_model.py:147] round_filter input=112 output=112\n",
      "I0928 02:40:11.221304 140694408537984 efficientnet_model.py:147] round_filter input=192 output=192\n",
      "I0928 02:40:11.668522 140694408537984 efficientnet_model.py:147] round_filter input=192 output=192\n",
      "I0928 02:40:11.668732 140694408537984 efficientnet_model.py:147] round_filter input=320 output=320\n",
      "I0928 02:40:11.776101 140694408537984 efficientnet_model.py:147] round_filter input=1280 output=1280\n",
      "I0928 02:40:11.839797 140694408537984 efficientnet_model.py:458] Building model efficientnet with params ModelConfig(width_coefficient=1.0, depth_coefficient=1.0, resolution=224, dropout_rate=0.2, blocks=(BlockConfig(input_filters=32, output_filters=16, kernel_size=3, num_repeat=1, expand_ratio=1, strides=(1, 1), se_ratio=0.25, id_skip=True, fused_conv=False, conv_type='depthwise'), BlockConfig(input_filters=16, output_filters=24, kernel_size=3, num_repeat=2, expand_ratio=6, strides=(2, 2), se_ratio=0.25, id_skip=True, fused_conv=False, conv_type='depthwise'), BlockConfig(input_filters=24, output_filters=40, kernel_size=5, num_repeat=2, expand_ratio=6, strides=(2, 2), se_ratio=0.25, id_skip=True, fused_conv=False, conv_type='depthwise'), BlockConfig(input_filters=40, output_filters=80, kernel_size=3, num_repeat=3, expand_ratio=6, strides=(2, 2), se_ratio=0.25, id_skip=True, fused_conv=False, conv_type='depthwise'), BlockConfig(input_filters=80, output_filters=112, kernel_size=5, num_repeat=3, expand_ratio=6, strides=(1, 1), se_ratio=0.25, id_skip=True, fused_conv=False, conv_type='depthwise'), BlockConfig(input_filters=112, output_filters=192, kernel_size=5, num_repeat=4, expand_ratio=6, strides=(2, 2), se_ratio=0.25, id_skip=True, fused_conv=False, conv_type='depthwise'), BlockConfig(input_filters=192, output_filters=320, kernel_size=3, num_repeat=1, expand_ratio=6, strides=(1, 1), se_ratio=0.25, id_skip=True, fused_conv=False, conv_type='depthwise')), stem_base_filters=32, top_base_filters=1280, activation='simple_swish', batch_norm='default', bn_momentum=0.99, bn_epsilon=0.001, weight_decay=5e-06, drop_connect_rate=0.2, depth_divisor=8, min_depth=None, use_se=True, input_channels=3, num_classes=1000, model_name='efficientnet', rescale_input=False, data_format='channels_last', dtype='float32')\n",
      "I0928 02:40:11.904087 140694408537984 ssd_efficientnet_bifpn_feature_extractor.py:143] EfficientDet EfficientNet backbone version: efficientnet-b1\n",
      "I0928 02:40:11.904327 140694408537984 ssd_efficientnet_bifpn_feature_extractor.py:144] EfficientDet BiFPN num filters: 88\n",
      "I0928 02:40:11.904434 140694408537984 ssd_efficientnet_bifpn_feature_extractor.py:146] EfficientDet BiFPN num iterations: 4\n",
      "I0928 02:40:11.906634 140694408537984 efficientnet_model.py:147] round_filter input=32 output=32\n",
      "I0928 02:40:11.925292 140694408537984 efficientnet_model.py:147] round_filter input=32 output=32\n",
      "I0928 02:40:11.925568 140694408537984 efficientnet_model.py:147] round_filter input=16 output=16\n",
      "I0928 02:40:12.074268 140694408537984 efficientnet_model.py:147] round_filter input=16 output=16\n",
      "I0928 02:40:12.074516 140694408537984 efficientnet_model.py:147] round_filter input=24 output=24\n",
      "I0928 02:40:12.361982 140694408537984 efficientnet_model.py:147] round_filter input=24 output=24\n",
      "I0928 02:40:12.362201 140694408537984 efficientnet_model.py:147] round_filter input=40 output=40\n",
      "I0928 02:40:12.633964 140694408537984 efficientnet_model.py:147] round_filter input=40 output=40\n",
      "I0928 02:40:12.634199 140694408537984 efficientnet_model.py:147] round_filter input=80 output=80\n",
      "I0928 02:40:13.017007 140694408537984 efficientnet_model.py:147] round_filter input=80 output=80\n",
      "I0928 02:40:13.017225 140694408537984 efficientnet_model.py:147] round_filter input=112 output=112\n",
      "I0928 02:40:13.408026 140694408537984 efficientnet_model.py:147] round_filter input=112 output=112\n",
      "I0928 02:40:13.408236 140694408537984 efficientnet_model.py:147] round_filter input=192 output=192\n",
      "I0928 02:40:13.951756 140694408537984 efficientnet_model.py:147] round_filter input=192 output=192\n",
      "I0928 02:40:13.951987 140694408537984 efficientnet_model.py:147] round_filter input=320 output=320\n",
      "I0928 02:40:14.212293 140694408537984 efficientnet_model.py:147] round_filter input=1280 output=1280\n",
      "I0928 02:40:14.282320 140694408537984 efficientnet_model.py:458] Building model efficientnet with params ModelConfig(width_coefficient=1.0, depth_coefficient=1.1, resolution=240, dropout_rate=0.2, blocks=(BlockConfig(input_filters=32, output_filters=16, kernel_size=3, num_repeat=1, expand_ratio=1, strides=(1, 1), se_ratio=0.25, id_skip=True, fused_conv=False, conv_type='depthwise'), BlockConfig(input_filters=16, output_filters=24, kernel_size=3, num_repeat=2, expand_ratio=6, strides=(2, 2), se_ratio=0.25, id_skip=True, fused_conv=False, conv_type='depthwise'), BlockConfig(input_filters=24, output_filters=40, kernel_size=5, num_repeat=2, expand_ratio=6, strides=(2, 2), se_ratio=0.25, id_skip=True, fused_conv=False, conv_type='depthwise'), BlockConfig(input_filters=40, output_filters=80, kernel_size=3, num_repeat=3, expand_ratio=6, strides=(2, 2), se_ratio=0.25, id_skip=True, fused_conv=False, conv_type='depthwise'), BlockConfig(input_filters=80, output_filters=112, kernel_size=5, num_repeat=3, expand_ratio=6, strides=(1, 1), se_ratio=0.25, id_skip=True, fused_conv=False, conv_type='depthwise'), BlockConfig(input_filters=112, output_filters=192, kernel_size=5, num_repeat=4, expand_ratio=6, strides=(2, 2), se_ratio=0.25, id_skip=True, fused_conv=False, conv_type='depthwise'), BlockConfig(input_filters=192, output_filters=320, kernel_size=3, num_repeat=1, expand_ratio=6, strides=(1, 1), se_ratio=0.25, id_skip=True, fused_conv=False, conv_type='depthwise')), stem_base_filters=32, top_base_filters=1280, activation='simple_swish', batch_norm='default', bn_momentum=0.99, bn_epsilon=0.001, weight_decay=5e-06, drop_connect_rate=0.2, depth_divisor=8, min_depth=None, use_se=True, input_channels=3, num_classes=1000, model_name='efficientnet', rescale_input=False, data_format='channels_last', dtype='float32')\n",
      "I0928 02:40:14.508633 140694408537984 ssd_efficientnet_bifpn_feature_extractor.py:143] EfficientDet EfficientNet backbone version: efficientnet-b2\n",
      "I0928 02:40:14.508859 140694408537984 ssd_efficientnet_bifpn_feature_extractor.py:144] EfficientDet BiFPN num filters: 112\n",
      "I0928 02:40:14.508953 140694408537984 ssd_efficientnet_bifpn_feature_extractor.py:146] EfficientDet BiFPN num iterations: 5\n",
      "I0928 02:40:14.510913 140694408537984 efficientnet_model.py:147] round_filter input=32 output=32\n",
      "I0928 02:40:14.528178 140694408537984 efficientnet_model.py:147] round_filter input=32 output=32\n",
      "I0928 02:40:14.528383 140694408537984 efficientnet_model.py:147] round_filter input=16 output=16\n",
      "I0928 02:40:14.670435 140694408537984 efficientnet_model.py:147] round_filter input=16 output=16\n",
      "I0928 02:40:14.670656 140694408537984 efficientnet_model.py:147] round_filter input=24 output=24\n",
      "I0928 02:40:14.971868 140694408537984 efficientnet_model.py:147] round_filter input=24 output=24\n",
      "I0928 02:40:14.972093 140694408537984 efficientnet_model.py:147] round_filter input=40 output=48\n",
      "I0928 02:40:15.267625 140694408537984 efficientnet_model.py:147] round_filter input=40 output=48\n",
      "I0928 02:40:15.267849 140694408537984 efficientnet_model.py:147] round_filter input=80 output=88\n",
      "I0928 02:40:15.678761 140694408537984 efficientnet_model.py:147] round_filter input=80 output=88\n",
      "I0928 02:40:15.678981 140694408537984 efficientnet_model.py:147] round_filter input=112 output=120\n",
      "I0928 02:40:16.089775 140694408537984 efficientnet_model.py:147] round_filter input=112 output=120\n",
      "I0928 02:40:16.089995 140694408537984 efficientnet_model.py:147] round_filter input=192 output=208\n",
      "I0928 02:40:16.652721 140694408537984 efficientnet_model.py:147] round_filter input=192 output=208\n",
      "I0928 02:40:16.652934 140694408537984 efficientnet_model.py:147] round_filter input=320 output=352\n",
      "I0928 02:40:16.954818 140694408537984 efficientnet_model.py:147] round_filter input=1280 output=1408\n",
      "I0928 02:40:17.028987 140694408537984 efficientnet_model.py:458] Building model efficientnet with params ModelConfig(width_coefficient=1.1, depth_coefficient=1.2, resolution=260, dropout_rate=0.3, blocks=(BlockConfig(input_filters=32, output_filters=16, kernel_size=3, num_repeat=1, expand_ratio=1, strides=(1, 1), se_ratio=0.25, id_skip=True, fused_conv=False, conv_type='depthwise'), BlockConfig(input_filters=16, output_filters=24, kernel_size=3, num_repeat=2, expand_ratio=6, strides=(2, 2), se_ratio=0.25, id_skip=True, fused_conv=False, conv_type='depthwise'), BlockConfig(input_filters=24, output_filters=40, kernel_size=5, num_repeat=2, expand_ratio=6, strides=(2, 2), se_ratio=0.25, id_skip=True, fused_conv=False, conv_type='depthwise'), BlockConfig(input_filters=40, output_filters=80, kernel_size=3, num_repeat=3, expand_ratio=6, strides=(2, 2), se_ratio=0.25, id_skip=True, fused_conv=False, conv_type='depthwise'), BlockConfig(input_filters=80, output_filters=112, kernel_size=5, num_repeat=3, expand_ratio=6, strides=(1, 1), se_ratio=0.25, id_skip=True, fused_conv=False, conv_type='depthwise'), BlockConfig(input_filters=112, output_filters=192, kernel_size=5, num_repeat=4, expand_ratio=6, strides=(2, 2), se_ratio=0.25, id_skip=True, fused_conv=False, conv_type='depthwise'), BlockConfig(input_filters=192, output_filters=320, kernel_size=3, num_repeat=1, expand_ratio=6, strides=(1, 1), se_ratio=0.25, id_skip=True, fused_conv=False, conv_type='depthwise')), stem_base_filters=32, top_base_filters=1280, activation='simple_swish', batch_norm='default', bn_momentum=0.99, bn_epsilon=0.001, weight_decay=5e-06, drop_connect_rate=0.2, depth_divisor=8, min_depth=None, use_se=True, input_channels=3, num_classes=1000, model_name='efficientnet', rescale_input=False, data_format='channels_last', dtype='float32')\n",
      "I0928 02:40:17.106957 140694408537984 ssd_efficientnet_bifpn_feature_extractor.py:143] EfficientDet EfficientNet backbone version: efficientnet-b3\n",
      "I0928 02:40:17.107167 140694408537984 ssd_efficientnet_bifpn_feature_extractor.py:144] EfficientDet BiFPN num filters: 160\n",
      "I0928 02:40:17.107236 140694408537984 ssd_efficientnet_bifpn_feature_extractor.py:146] EfficientDet BiFPN num iterations: 6\n",
      "I0928 02:40:17.109278 140694408537984 efficientnet_model.py:147] round_filter input=32 output=40\n",
      "I0928 02:40:17.129297 140694408537984 efficientnet_model.py:147] round_filter input=32 output=40\n",
      "I0928 02:40:17.129516 140694408537984 efficientnet_model.py:147] round_filter input=16 output=24\n",
      "I0928 02:40:17.278288 140694408537984 efficientnet_model.py:147] round_filter input=16 output=24\n",
      "I0928 02:40:17.278517 140694408537984 efficientnet_model.py:147] round_filter input=24 output=32\n",
      "I0928 02:40:17.560162 140694408537984 efficientnet_model.py:147] round_filter input=24 output=32\n",
      "I0928 02:40:17.560399 140694408537984 efficientnet_model.py:147] round_filter input=40 output=48\n",
      "I0928 02:40:17.833162 140694408537984 efficientnet_model.py:147] round_filter input=40 output=48\n",
      "I0928 02:40:17.833391 140694408537984 efficientnet_model.py:147] round_filter input=80 output=96\n",
      "I0928 02:40:18.321451 140694408537984 efficientnet_model.py:147] round_filter input=80 output=96\n",
      "I0928 02:40:18.321681 140694408537984 efficientnet_model.py:147] round_filter input=112 output=136\n",
      "I0928 02:40:18.833795 140694408537984 efficientnet_model.py:147] round_filter input=112 output=136\n",
      "I0928 02:40:18.834005 140694408537984 efficientnet_model.py:147] round_filter input=192 output=232\n",
      "I0928 02:40:19.548364 140694408537984 efficientnet_model.py:147] round_filter input=192 output=232\n",
      "I0928 02:40:19.548585 140694408537984 efficientnet_model.py:147] round_filter input=320 output=384\n",
      "I0928 02:40:19.830470 140694408537984 efficientnet_model.py:147] round_filter input=1280 output=1536\n",
      "I0928 02:40:19.913290 140694408537984 efficientnet_model.py:458] Building model efficientnet with params ModelConfig(width_coefficient=1.2, depth_coefficient=1.4, resolution=300, dropout_rate=0.3, blocks=(BlockConfig(input_filters=32, output_filters=16, kernel_size=3, num_repeat=1, expand_ratio=1, strides=(1, 1), se_ratio=0.25, id_skip=True, fused_conv=False, conv_type='depthwise'), BlockConfig(input_filters=16, output_filters=24, kernel_size=3, num_repeat=2, expand_ratio=6, strides=(2, 2), se_ratio=0.25, id_skip=True, fused_conv=False, conv_type='depthwise'), BlockConfig(input_filters=24, output_filters=40, kernel_size=5, num_repeat=2, expand_ratio=6, strides=(2, 2), se_ratio=0.25, id_skip=True, fused_conv=False, conv_type='depthwise'), BlockConfig(input_filters=40, output_filters=80, kernel_size=3, num_repeat=3, expand_ratio=6, strides=(2, 2), se_ratio=0.25, id_skip=True, fused_conv=False, conv_type='depthwise'), BlockConfig(input_filters=80, output_filters=112, kernel_size=5, num_repeat=3, expand_ratio=6, strides=(1, 1), se_ratio=0.25, id_skip=True, fused_conv=False, conv_type='depthwise'), BlockConfig(input_filters=112, output_filters=192, kernel_size=5, num_repeat=4, expand_ratio=6, strides=(2, 2), se_ratio=0.25, id_skip=True, fused_conv=False, conv_type='depthwise'), BlockConfig(input_filters=192, output_filters=320, kernel_size=3, num_repeat=1, expand_ratio=6, strides=(1, 1), se_ratio=0.25, id_skip=True, fused_conv=False, conv_type='depthwise')), stem_base_filters=32, top_base_filters=1280, activation='simple_swish', batch_norm='default', bn_momentum=0.99, bn_epsilon=0.001, weight_decay=5e-06, drop_connect_rate=0.2, depth_divisor=8, min_depth=None, use_se=True, input_channels=3, num_classes=1000, model_name='efficientnet', rescale_input=False, data_format='channels_last', dtype='float32')\n",
      "I0928 02:40:20.251896 140694408537984 ssd_efficientnet_bifpn_feature_extractor.py:143] EfficientDet EfficientNet backbone version: efficientnet-b4\n",
      "I0928 02:40:20.252110 140694408537984 ssd_efficientnet_bifpn_feature_extractor.py:144] EfficientDet BiFPN num filters: 224\n",
      "I0928 02:40:20.252196 140694408537984 ssd_efficientnet_bifpn_feature_extractor.py:146] EfficientDet BiFPN num iterations: 7\n",
      "I0928 02:40:20.254341 140694408537984 efficientnet_model.py:147] round_filter input=32 output=48\n",
      "I0928 02:40:20.273379 140694408537984 efficientnet_model.py:147] round_filter input=32 output=48\n",
      "I0928 02:40:20.273592 140694408537984 efficientnet_model.py:147] round_filter input=16 output=24\n",
      "I0928 02:40:20.417580 140694408537984 efficientnet_model.py:147] round_filter input=16 output=24\n",
      "I0928 02:40:20.417780 140694408537984 efficientnet_model.py:147] round_filter input=24 output=32\n",
      "I0928 02:40:20.793024 140694408537984 efficientnet_model.py:147] round_filter input=24 output=32\n",
      "I0928 02:40:20.793235 140694408537984 efficientnet_model.py:147] round_filter input=40 output=56\n",
      "I0928 02:40:21.178550 140694408537984 efficientnet_model.py:147] round_filter input=40 output=56\n",
      "I0928 02:40:21.178763 140694408537984 efficientnet_model.py:147] round_filter input=80 output=112\n",
      "I0928 02:40:21.804557 140694408537984 efficientnet_model.py:147] round_filter input=80 output=112\n",
      "I0928 02:40:21.804816 140694408537984 efficientnet_model.py:147] round_filter input=112 output=160\n",
      "I0928 02:40:22.416342 140694408537984 efficientnet_model.py:147] round_filter input=112 output=160\n",
      "I0928 02:40:22.416571 140694408537984 efficientnet_model.py:147] round_filter input=192 output=272\n",
      "I0928 02:40:23.395326 140694408537984 efficientnet_model.py:147] round_filter input=192 output=272\n",
      "I0928 02:40:23.395585 140694408537984 efficientnet_model.py:147] round_filter input=320 output=448\n",
      "I0928 02:40:23.722804 140694408537984 efficientnet_model.py:147] round_filter input=1280 output=1792\n",
      "I0928 02:40:23.810692 140694408537984 efficientnet_model.py:458] Building model efficientnet with params ModelConfig(width_coefficient=1.4, depth_coefficient=1.8, resolution=380, dropout_rate=0.4, blocks=(BlockConfig(input_filters=32, output_filters=16, kernel_size=3, num_repeat=1, expand_ratio=1, strides=(1, 1), se_ratio=0.25, id_skip=True, fused_conv=False, conv_type='depthwise'), BlockConfig(input_filters=16, output_filters=24, kernel_size=3, num_repeat=2, expand_ratio=6, strides=(2, 2), se_ratio=0.25, id_skip=True, fused_conv=False, conv_type='depthwise'), BlockConfig(input_filters=24, output_filters=40, kernel_size=5, num_repeat=2, expand_ratio=6, strides=(2, 2), se_ratio=0.25, id_skip=True, fused_conv=False, conv_type='depthwise'), BlockConfig(input_filters=40, output_filters=80, kernel_size=3, num_repeat=3, expand_ratio=6, strides=(2, 2), se_ratio=0.25, id_skip=True, fused_conv=False, conv_type='depthwise'), BlockConfig(input_filters=80, output_filters=112, kernel_size=5, num_repeat=3, expand_ratio=6, strides=(1, 1), se_ratio=0.25, id_skip=True, fused_conv=False, conv_type='depthwise'), BlockConfig(input_filters=112, output_filters=192, kernel_size=5, num_repeat=4, expand_ratio=6, strides=(2, 2), se_ratio=0.25, id_skip=True, fused_conv=False, conv_type='depthwise'), BlockConfig(input_filters=192, output_filters=320, kernel_size=3, num_repeat=1, expand_ratio=6, strides=(1, 1), se_ratio=0.25, id_skip=True, fused_conv=False, conv_type='depthwise')), stem_base_filters=32, top_base_filters=1280, activation='simple_swish', batch_norm='default', bn_momentum=0.99, bn_epsilon=0.001, weight_decay=5e-06, drop_connect_rate=0.2, depth_divisor=8, min_depth=None, use_se=True, input_channels=3, num_classes=1000, model_name='efficientnet', rescale_input=False, data_format='channels_last', dtype='float32')\n",
      "I0928 02:40:23.908847 140694408537984 ssd_efficientnet_bifpn_feature_extractor.py:143] EfficientDet EfficientNet backbone version: efficientnet-b5\n",
      "I0928 02:40:23.909055 140694408537984 ssd_efficientnet_bifpn_feature_extractor.py:144] EfficientDet BiFPN num filters: 288\n",
      "I0928 02:40:23.909120 140694408537984 ssd_efficientnet_bifpn_feature_extractor.py:146] EfficientDet BiFPN num iterations: 7\n",
      "I0928 02:40:23.911074 140694408537984 efficientnet_model.py:147] round_filter input=32 output=48\n",
      "I0928 02:40:23.933483 140694408537984 efficientnet_model.py:147] round_filter input=32 output=48\n",
      "I0928 02:40:23.933718 140694408537984 efficientnet_model.py:147] round_filter input=16 output=24\n",
      "I0928 02:40:24.155198 140694408537984 efficientnet_model.py:147] round_filter input=16 output=24\n",
      "I0928 02:40:24.155428 140694408537984 efficientnet_model.py:147] round_filter input=24 output=40\n",
      "I0928 02:40:24.619708 140694408537984 efficientnet_model.py:147] round_filter input=24 output=40\n",
      "I0928 02:40:24.620065 140694408537984 efficientnet_model.py:147] round_filter input=40 output=64\n",
      "I0928 02:40:25.102280 140694408537984 efficientnet_model.py:147] round_filter input=40 output=64\n",
      "I0928 02:40:25.102509 140694408537984 efficientnet_model.py:147] round_filter input=80 output=128\n",
      "I0928 02:40:25.800949 140694408537984 efficientnet_model.py:147] round_filter input=80 output=128\n",
      "I0928 02:40:25.801162 140694408537984 efficientnet_model.py:147] round_filter input=112 output=176\n",
      "I0928 02:40:26.838401 140694408537984 efficientnet_model.py:147] round_filter input=112 output=176\n",
      "I0928 02:40:26.838639 140694408537984 efficientnet_model.py:147] round_filter input=192 output=304\n",
      "I0928 02:40:28.086839 140694408537984 efficientnet_model.py:147] round_filter input=192 output=304\n",
      "I0928 02:40:28.087050 140694408537984 efficientnet_model.py:147] round_filter input=320 output=512\n",
      "I0928 02:40:28.656527 140694408537984 efficientnet_model.py:147] round_filter input=1280 output=2048\n",
      "I0928 02:40:28.755350 140694408537984 efficientnet_model.py:458] Building model efficientnet with params ModelConfig(width_coefficient=1.6, depth_coefficient=2.2, resolution=456, dropout_rate=0.4, blocks=(BlockConfig(input_filters=32, output_filters=16, kernel_size=3, num_repeat=1, expand_ratio=1, strides=(1, 1), se_ratio=0.25, id_skip=True, fused_conv=False, conv_type='depthwise'), BlockConfig(input_filters=16, output_filters=24, kernel_size=3, num_repeat=2, expand_ratio=6, strides=(2, 2), se_ratio=0.25, id_skip=True, fused_conv=False, conv_type='depthwise'), BlockConfig(input_filters=24, output_filters=40, kernel_size=5, num_repeat=2, expand_ratio=6, strides=(2, 2), se_ratio=0.25, id_skip=True, fused_conv=False, conv_type='depthwise'), BlockConfig(input_filters=40, output_filters=80, kernel_size=3, num_repeat=3, expand_ratio=6, strides=(2, 2), se_ratio=0.25, id_skip=True, fused_conv=False, conv_type='depthwise'), BlockConfig(input_filters=80, output_filters=112, kernel_size=5, num_repeat=3, expand_ratio=6, strides=(1, 1), se_ratio=0.25, id_skip=True, fused_conv=False, conv_type='depthwise'), BlockConfig(input_filters=112, output_filters=192, kernel_size=5, num_repeat=4, expand_ratio=6, strides=(2, 2), se_ratio=0.25, id_skip=True, fused_conv=False, conv_type='depthwise'), BlockConfig(input_filters=192, output_filters=320, kernel_size=3, num_repeat=1, expand_ratio=6, strides=(1, 1), se_ratio=0.25, id_skip=True, fused_conv=False, conv_type='depthwise')), stem_base_filters=32, top_base_filters=1280, activation='simple_swish', batch_norm='default', bn_momentum=0.99, bn_epsilon=0.001, weight_decay=5e-06, drop_connect_rate=0.2, depth_divisor=8, min_depth=None, use_se=True, input_channels=3, num_classes=1000, model_name='efficientnet', rescale_input=False, data_format='channels_last', dtype='float32')\n",
      "I0928 02:40:28.864567 140694408537984 ssd_efficientnet_bifpn_feature_extractor.py:143] EfficientDet EfficientNet backbone version: efficientnet-b6\n",
      "I0928 02:40:28.864778 140694408537984 ssd_efficientnet_bifpn_feature_extractor.py:144] EfficientDet BiFPN num filters: 384\n",
      "I0928 02:40:28.864842 140694408537984 ssd_efficientnet_bifpn_feature_extractor.py:146] EfficientDet BiFPN num iterations: 8\n",
      "I0928 02:40:28.866803 140694408537984 efficientnet_model.py:147] round_filter input=32 output=56\n",
      "I0928 02:40:28.885365 140694408537984 efficientnet_model.py:147] round_filter input=32 output=56\n",
      "I0928 02:40:28.885580 140694408537984 efficientnet_model.py:147] round_filter input=16 output=32\n",
      "I0928 02:40:29.118594 140694408537984 efficientnet_model.py:147] round_filter input=16 output=32\n",
      "I0928 02:40:29.118802 140694408537984 efficientnet_model.py:147] round_filter input=24 output=40\n",
      "I0928 02:40:29.693008 140694408537984 efficientnet_model.py:147] round_filter input=24 output=40\n",
      "I0928 02:40:29.693222 140694408537984 efficientnet_model.py:147] round_filter input=40 output=72\n",
      "I0928 02:40:30.254051 140694408537984 efficientnet_model.py:147] round_filter input=40 output=72\n",
      "I0928 02:40:30.254258 140694408537984 efficientnet_model.py:147] round_filter input=80 output=144\n",
      "I0928 02:40:31.051447 140694408537984 efficientnet_model.py:147] round_filter input=80 output=144\n",
      "I0928 02:40:31.051685 140694408537984 efficientnet_model.py:147] round_filter input=112 output=200\n",
      "I0928 02:40:31.943766 140694408537984 efficientnet_model.py:147] round_filter input=112 output=200\n",
      "I0928 02:40:31.943991 140694408537984 efficientnet_model.py:147] round_filter input=192 output=344\n",
      "I0928 02:40:33.750019 140694408537984 efficientnet_model.py:147] round_filter input=192 output=344\n",
      "I0928 02:40:33.750252 140694408537984 efficientnet_model.py:147] round_filter input=320 output=576\n",
      "I0928 02:40:34.373106 140694408537984 efficientnet_model.py:147] round_filter input=1280 output=2304\n",
      "I0928 02:40:34.478944 140694408537984 efficientnet_model.py:458] Building model efficientnet with params ModelConfig(width_coefficient=1.8, depth_coefficient=2.6, resolution=528, dropout_rate=0.5, blocks=(BlockConfig(input_filters=32, output_filters=16, kernel_size=3, num_repeat=1, expand_ratio=1, strides=(1, 1), se_ratio=0.25, id_skip=True, fused_conv=False, conv_type='depthwise'), BlockConfig(input_filters=16, output_filters=24, kernel_size=3, num_repeat=2, expand_ratio=6, strides=(2, 2), se_ratio=0.25, id_skip=True, fused_conv=False, conv_type='depthwise'), BlockConfig(input_filters=24, output_filters=40, kernel_size=5, num_repeat=2, expand_ratio=6, strides=(2, 2), se_ratio=0.25, id_skip=True, fused_conv=False, conv_type='depthwise'), BlockConfig(input_filters=40, output_filters=80, kernel_size=3, num_repeat=3, expand_ratio=6, strides=(2, 2), se_ratio=0.25, id_skip=True, fused_conv=False, conv_type='depthwise'), BlockConfig(input_filters=80, output_filters=112, kernel_size=5, num_repeat=3, expand_ratio=6, strides=(1, 1), se_ratio=0.25, id_skip=True, fused_conv=False, conv_type='depthwise'), BlockConfig(input_filters=112, output_filters=192, kernel_size=5, num_repeat=4, expand_ratio=6, strides=(2, 2), se_ratio=0.25, id_skip=True, fused_conv=False, conv_type='depthwise'), BlockConfig(input_filters=192, output_filters=320, kernel_size=3, num_repeat=1, expand_ratio=6, strides=(1, 1), se_ratio=0.25, id_skip=True, fused_conv=False, conv_type='depthwise')), stem_base_filters=32, top_base_filters=1280, activation='simple_swish', batch_norm='default', bn_momentum=0.99, bn_epsilon=0.001, weight_decay=5e-06, drop_connect_rate=0.2, depth_divisor=8, min_depth=None, use_se=True, input_channels=3, num_classes=1000, model_name='efficientnet', rescale_input=False, data_format='channels_last', dtype='float32')\n",
      "I0928 02:40:34.602271 140694408537984 ssd_efficientnet_bifpn_feature_extractor.py:143] EfficientDet EfficientNet backbone version: efficientnet-b7\n",
      "I0928 02:40:34.602510 140694408537984 ssd_efficientnet_bifpn_feature_extractor.py:144] EfficientDet BiFPN num filters: 384\n",
      "I0928 02:40:34.602613 140694408537984 ssd_efficientnet_bifpn_feature_extractor.py:146] EfficientDet BiFPN num iterations: 8\n",
      "I0928 02:40:34.604635 140694408537984 efficientnet_model.py:147] round_filter input=32 output=64\n",
      "I0928 02:40:34.622922 140694408537984 efficientnet_model.py:147] round_filter input=32 output=64\n",
      "I0928 02:40:34.623130 140694408537984 efficientnet_model.py:147] round_filter input=16 output=32\n",
      "I0928 02:40:34.932620 140694408537984 efficientnet_model.py:147] round_filter input=16 output=32\n",
      "I0928 02:40:34.932858 140694408537984 efficientnet_model.py:147] round_filter input=24 output=48\n",
      "I0928 02:40:35.595293 140694408537984 efficientnet_model.py:147] round_filter input=24 output=48\n",
      "I0928 02:40:35.595530 140694408537984 efficientnet_model.py:147] round_filter input=40 output=80\n",
      "I0928 02:40:36.277056 140694408537984 efficientnet_model.py:147] round_filter input=40 output=80\n",
      "I0928 02:40:36.277284 140694408537984 efficientnet_model.py:147] round_filter input=80 output=160\n",
      "I0928 02:40:37.325946 140694408537984 efficientnet_model.py:147] round_filter input=80 output=160\n",
      "I0928 02:40:37.326158 140694408537984 efficientnet_model.py:147] round_filter input=112 output=224\n",
      "I0928 02:40:38.474640 140694408537984 efficientnet_model.py:147] round_filter input=112 output=224\n",
      "I0928 02:40:38.474859 140694408537984 efficientnet_model.py:147] round_filter input=192 output=384\n",
      "I0928 02:40:40.499332 140694408537984 efficientnet_model.py:147] round_filter input=192 output=384\n",
      "I0928 02:40:40.499582 140694408537984 efficientnet_model.py:147] round_filter input=320 output=640\n",
      "I0928 02:40:41.750560 140694408537984 efficientnet_model.py:147] round_filter input=1280 output=2560\n",
      "I0928 02:40:41.856989 140694408537984 efficientnet_model.py:458] Building model efficientnet with params ModelConfig(width_coefficient=2.0, depth_coefficient=3.1, resolution=600, dropout_rate=0.5, blocks=(BlockConfig(input_filters=32, output_filters=16, kernel_size=3, num_repeat=1, expand_ratio=1, strides=(1, 1), se_ratio=0.25, id_skip=True, fused_conv=False, conv_type='depthwise'), BlockConfig(input_filters=16, output_filters=24, kernel_size=3, num_repeat=2, expand_ratio=6, strides=(2, 2), se_ratio=0.25, id_skip=True, fused_conv=False, conv_type='depthwise'), BlockConfig(input_filters=24, output_filters=40, kernel_size=5, num_repeat=2, expand_ratio=6, strides=(2, 2), se_ratio=0.25, id_skip=True, fused_conv=False, conv_type='depthwise'), BlockConfig(input_filters=40, output_filters=80, kernel_size=3, num_repeat=3, expand_ratio=6, strides=(2, 2), se_ratio=0.25, id_skip=True, fused_conv=False, conv_type='depthwise'), BlockConfig(input_filters=80, output_filters=112, kernel_size=5, num_repeat=3, expand_ratio=6, strides=(1, 1), se_ratio=0.25, id_skip=True, fused_conv=False, conv_type='depthwise'), BlockConfig(input_filters=112, output_filters=192, kernel_size=5, num_repeat=4, expand_ratio=6, strides=(2, 2), se_ratio=0.25, id_skip=True, fused_conv=False, conv_type='depthwise'), BlockConfig(input_filters=192, output_filters=320, kernel_size=3, num_repeat=1, expand_ratio=6, strides=(1, 1), se_ratio=0.25, id_skip=True, fused_conv=False, conv_type='depthwise')), stem_base_filters=32, top_base_filters=1280, activation='simple_swish', batch_norm='default', bn_momentum=0.99, bn_epsilon=0.001, weight_decay=5e-06, drop_connect_rate=0.2, depth_divisor=8, min_depth=None, use_se=True, input_channels=3, num_classes=1000, model_name='efficientnet', rescale_input=False, data_format='channels_last', dtype='float32')\n",
      "INFO:tensorflow:time(__main__.ModelBuilderTF2Test.test_create_ssd_models_from_config): 32.21s\n",
      "I0928 02:40:42.004572 140694408537984 test_util.py:2189] time(__main__.ModelBuilderTF2Test.test_create_ssd_models_from_config): 32.21s\n",
      "[       OK ] ModelBuilderTF2Test.test_create_ssd_models_from_config\n",
      "[ RUN      ] ModelBuilderTF2Test.test_invalid_faster_rcnn_batchnorm_update\n",
      "INFO:tensorflow:time(__main__.ModelBuilderTF2Test.test_invalid_faster_rcnn_batchnorm_update): 0.0s\n",
      "I0928 02:40:42.018885 140694408537984 test_util.py:2189] time(__main__.ModelBuilderTF2Test.test_invalid_faster_rcnn_batchnorm_update): 0.0s\n",
      "[       OK ] ModelBuilderTF2Test.test_invalid_faster_rcnn_batchnorm_update\n",
      "[ RUN      ] ModelBuilderTF2Test.test_invalid_first_stage_nms_iou_threshold\n",
      "INFO:tensorflow:time(__main__.ModelBuilderTF2Test.test_invalid_first_stage_nms_iou_threshold): 0.0s\n",
      "I0928 02:40:42.021176 140694408537984 test_util.py:2189] time(__main__.ModelBuilderTF2Test.test_invalid_first_stage_nms_iou_threshold): 0.0s\n",
      "[       OK ] ModelBuilderTF2Test.test_invalid_first_stage_nms_iou_threshold\n",
      "[ RUN      ] ModelBuilderTF2Test.test_invalid_model_config_proto\n",
      "INFO:tensorflow:time(__main__.ModelBuilderTF2Test.test_invalid_model_config_proto): 0.0s\n",
      "I0928 02:40:42.021809 140694408537984 test_util.py:2189] time(__main__.ModelBuilderTF2Test.test_invalid_model_config_proto): 0.0s\n",
      "[       OK ] ModelBuilderTF2Test.test_invalid_model_config_proto\n",
      "[ RUN      ] ModelBuilderTF2Test.test_invalid_second_stage_batch_size\n",
      "INFO:tensorflow:time(__main__.ModelBuilderTF2Test.test_invalid_second_stage_batch_size): 0.0s\n",
      "I0928 02:40:42.023626 140694408537984 test_util.py:2189] time(__main__.ModelBuilderTF2Test.test_invalid_second_stage_batch_size): 0.0s\n",
      "[       OK ] ModelBuilderTF2Test.test_invalid_second_stage_batch_size\n",
      "[ RUN      ] ModelBuilderTF2Test.test_session\n",
      "[  SKIPPED ] ModelBuilderTF2Test.test_session\n",
      "[ RUN      ] ModelBuilderTF2Test.test_unknown_faster_rcnn_feature_extractor\n",
      "INFO:tensorflow:time(__main__.ModelBuilderTF2Test.test_unknown_faster_rcnn_feature_extractor): 0.0s\n",
      "I0928 02:40:42.025186 140694408537984 test_util.py:2189] time(__main__.ModelBuilderTF2Test.test_unknown_faster_rcnn_feature_extractor): 0.0s\n",
      "[       OK ] ModelBuilderTF2Test.test_unknown_faster_rcnn_feature_extractor\n",
      "[ RUN      ] ModelBuilderTF2Test.test_unknown_meta_architecture\n",
      "INFO:tensorflow:time(__main__.ModelBuilderTF2Test.test_unknown_meta_architecture): 0.0s\n",
      "I0928 02:40:42.025660 140694408537984 test_util.py:2189] time(__main__.ModelBuilderTF2Test.test_unknown_meta_architecture): 0.0s\n",
      "[       OK ] ModelBuilderTF2Test.test_unknown_meta_architecture\n",
      "[ RUN      ] ModelBuilderTF2Test.test_unknown_ssd_feature_extractor\n",
      "INFO:tensorflow:time(__main__.ModelBuilderTF2Test.test_unknown_ssd_feature_extractor): 0.0s\n",
      "I0928 02:40:42.026772 140694408537984 test_util.py:2189] time(__main__.ModelBuilderTF2Test.test_unknown_ssd_feature_extractor): 0.0s\n",
      "[       OK ] ModelBuilderTF2Test.test_unknown_ssd_feature_extractor\n",
      "----------------------------------------------------------------------\n",
      "Ran 24 tests in 37.733s\n",
      "\n",
      "OK (skipped=1)\n"
     ]
    }
   ],
   "source": [
    "# 설치 잘되었는지 확인\n",
    "!python models/research/object_detection/builders/model_builder_tf2_test.py"
   ]
  },
  {
   "cell_type": "markdown",
   "metadata": {
    "id": "lq7nfAo7FmHn"
   },
   "source": [
    "# 경로 설정\n",
    "- 프로젝트 진행도중 필요한 파일들을 저장하는 디렉토리나 파일의 경로들을 문자열로 미리 저장해 놓는다."
   ]
  },
  {
   "cell_type": "code",
   "execution_count": 23,
   "metadata": {
    "executionInfo": {
     "elapsed": 332,
     "status": "ok",
     "timestamp": 1632800112239,
     "user": {
      "displayName": "Sunghwan KIM",
      "photoUrl": "https://lh3.googleusercontent.com/a/default-user=s64",
      "userId": "06010856989212311727"
     },
     "user_tz": -540
    },
    "id": "qLnMcfIrYGfS"
   },
   "outputs": [],
   "source": [
    "import os\n",
    "\n",
    "# ROOT 경로 (workspace)\n",
    "BASE_PATH = \"/content/drive/MyDrive/object_detection_src/sign_language_letters/workspace\"\n",
    "# utility 기능을 구현한 python script 파일들이 있는 디렉토리.\n",
    "SCRIPTS_PATH = \"/content/drive/MyDrive/object_detection_src/sign_language_letters/scripts\"\n",
    "# Tensorflow Object Detection API2 경로\n",
    "TF_OD_API_PATH = \"/content/models\"\n",
    "# Image/Annotation 파일들의 경로\n",
    "IMAGE_PATH = '/content/images'\n",
    "\n",
    "# Label Map 파일을 저장할 디렉토리 경로, 파일 경로 - Label map 설정파일: 분류할 class 들을 정의한 파일.\n",
    "LABEL_MAP_PATH = os.path.join(BASE_PATH, 'labelmap')\n",
    "LABEL_MAP_FILE_PATH = os.path.join(LABEL_MAP_PATH, 'label_map.pbtxt')\n",
    "\n",
    "# TF Record를 저장할 경로\n",
    "# Dataset 관련 파일들은 Google Drive 보다는 local 에 저장\n",
    "TF_RECORD_PATH = '/content/tfrecord'\n",
    "if not os.path.isdir(TF_RECORD_PATH):\n",
    "    os.mkdir(TF_RECORD_PATH)\n",
    "\n",
    "# CUSTOM DATASET을 학습한 모델(모델, wegith파일)을 저장할 경로\n",
    "MODEL_PATH = os.path.join(BASE_PATH, 'model')\n",
    "CHECK_POINT_PATH = os.path.join(MODEL_PATH, 'checkpoint') # weights(파라미터) 저장할 디렉토리.\n",
    "EXPORT_MODEL_PATH = os.path.join(MODEL_PATH, 'export_model') # 학습된 모델(모델+wegiht)을 추출하여 저장할 디렉토리.\n",
    "\n",
    "# pipeline.config 파일: 모델구조, 학습에 필요한 정보, 평가시 필요한 정보를 설정하는 파일. 이 파일의 경로지정.\n",
    "PIPELINE_CONFIG_PATH = os.path.join(MODEL_PATH, \"pipeline.config\")\n",
    "\n",
    "# 전이학습에 사용할 다운받은 모델을 저장할 디렉토리.\n",
    "PRE_TRAINED_MODEL_PATH = os.path.join(BASE_PATH, 'pre_trained_model')"
   ]
  },
  {
   "cell_type": "markdown",
   "metadata": {
    "id": "Dkj5sgNGf7ud"
   },
   "source": [
    "# 수업시작전에 이 위까지 실행.\n",
    "# 2:10"
   ]
  },
  {
   "cell_type": "code",
   "execution_count": null,
   "metadata": {
    "id": "bblzTVfuFmHp"
   },
   "outputs": [],
   "source": []
  },
  {
   "cell_type": "code",
   "execution_count": null,
   "metadata": {
    "id": "wzjA1WXPFmHq"
   },
   "outputs": [],
   "source": []
  },
  {
   "cell_type": "markdown",
   "metadata": {
    "id": "XLD2Wh-JFmHq"
   },
   "source": [
    "# Custom data 학습 시키기\n",
    "\n",
    "## 다음 세가지 작업이 필요\n",
    "<span style='font-weight:bold;font-size:1.3em'>1. Label Map 파일 생성</span>\n",
    "- 분류 하고자 하는 object의 class와 그 class id 를 pbtxt text 파일로 작성\n",
    "- `models\\research\\object_detection\\data`\n",
    "\n",
    "```\n",
    "item {\n",
    "  id: 1\n",
    "  name: 'aeroplane'\n",
    "}\n",
    "\n",
    "item {\n",
    "  id: 2\n",
    "  name: 'bicycle'\n",
    "}\n",
    "...\n",
    "```\n",
    "\n",
    "<span style='font-weight:bold;font-size:1.3em'>2. pipeline.config</span>\n",
    "- Model을 학습, 검증하기 위해 필요한 설정을 하는 파일\n",
    "- `models\\research\\object_detection\\samples\\configs`\n",
    "\n",
    "<span style='font-weight:bold;font-size:1.3em'>3. 학습/검증/테스트에 사용할 데이터셋을 TFRecord 로 구성</span>\n",
    "- 주요 데이터셋을 TFRecord로 생성하는 코드\n",
    "- `models\\research\\object_detection\\dataset_tools`"
   ]
  },
  {
   "cell_type": "markdown",
   "metadata": {
    "id": "SB479b3vFmHr"
   },
   "source": [
    "# 설정파일 설정 및 데이터셋 준비"
   ]
  },
  {
   "cell_type": "markdown",
   "metadata": {
    "id": "7eiA31MaFmHs"
   },
   "source": [
    "# Label Map 생성"
   ]
  },
  {
   "cell_type": "code",
   "execution_count": null,
   "metadata": {
    "id": "X4H4j0ZMFmHu"
   },
   "outputs": [],
   "source": []
  },
  {
   "cell_type": "code",
   "execution_count": null,
   "metadata": {
    "id": "HTBD3R2GFmHv"
   },
   "outputs": [],
   "source": []
  },
  {
   "cell_type": "code",
   "execution_count": null,
   "metadata": {
    "id": "WhIb_ZF2FmHv"
   },
   "outputs": [],
   "source": []
  },
  {
   "cell_type": "markdown",
   "metadata": {
    "id": "j3EdviO8FmHw"
   },
   "source": [
    "# TFRecord 생성"
   ]
  },
  {
   "cell_type": "code",
   "execution_count": null,
   "metadata": {
    "id": "MnvV8ZsHFmHw"
   },
   "outputs": [],
   "source": []
  },
  {
   "cell_type": "code",
   "execution_count": null,
   "metadata": {
    "id": "X_KKWivCFmHx"
   },
   "outputs": [],
   "source": []
  },
  {
   "cell_type": "code",
   "execution_count": null,
   "metadata": {
    "id": "iOvkka4cFmHx"
   },
   "outputs": [],
   "source": []
  },
  {
   "cell_type": "code",
   "execution_count": null,
   "metadata": {
    "id": "ywLMwDS0FmHx"
   },
   "outputs": [],
   "source": []
  },
  {
   "cell_type": "markdown",
   "metadata": {
    "id": "n26aEg3vFmHy"
   },
   "source": [
    "# Pretrained Model Download\n",
    "- Tensorflow object detection API는 MS COCO 2017 dataset으로 미리 학습시킨 다양한 Object Detection 모델을 제공한다.\n",
    "- tf2 detection Model Zoo: https://github.com/tensorflow/models/blob/master/research/object_detection/g3doc/tf2_detection_zoo.md\n",
    "- SSD MobileNet V2 FPNLite 320x320 다운로드\n",
    "    - 성능은 떨어지지만 학습속도가 빠르다."
   ]
  },
  {
   "cell_type": "code",
   "execution_count": null,
   "metadata": {
    "id": "85O-5lRNFmHz"
   },
   "outputs": [],
   "source": []
  },
  {
   "cell_type": "code",
   "execution_count": null,
   "metadata": {
    "id": "uCrIMBrDFmHz"
   },
   "outputs": [],
   "source": []
  },
  {
   "cell_type": "code",
   "execution_count": null,
   "metadata": {
    "id": "qTcagnUUFmH0"
   },
   "outputs": [],
   "source": []
  },
  {
   "cell_type": "code",
   "execution_count": null,
   "metadata": {
    "id": "aTLWKfF7FmH0"
   },
   "outputs": [],
   "source": []
  },
  {
   "cell_type": "markdown",
   "metadata": {
    "id": "a2nJ7z1ZFmH0"
   },
   "source": [
    "# Pipeline.config 설정 변경"
   ]
  },
  {
   "cell_type": "markdown",
   "metadata": {
    "id": "M3kNbo6_FmH1"
   },
   "source": [
    "## pipeline.config  파일 개요\n",
    "- Model을 학습, 검증하기 위해 필요한 설정을 하는 파일\n",
    "- 구조\n",
    "    - https://github.com/tensorflow/models/blob/master/research/object_detection/g3doc/configuring_jobs.md\n",
    "    - **model**\n",
    "        - 사용하는 모델에 대한 설정\n",
    "        - class 개수\n",
    "        - 입력이미지 size\n",
    "        - anchor 설정\n",
    "    - **train_config**\n",
    "        - Train(학습)관련 설정\n",
    "        - batch_size\n",
    "            - 사용하는 GPU의 메모리 크기에 맞게 조절한다.\n",
    "        - image augmentation관련 설정 등\n",
    "        - optimizer관련 설정\n",
    "        - 학습에 사용할 weight 파일의 경로\n",
    "    - **train_input_reader**\n",
    "        - labelmap 파일 경로\n",
    "        - train tfrecord 파일 경로\n",
    "    - **eval_config**\n",
    "        - evaluation(평가)을 위해 사용하는 metric 설정\n",
    "    - **eval_input_reader**\n",
    "        - labelmap 파일 경로\n",
    "        - evaluation tfreord 파일 경로\n",
    "        "
   ]
  },
  {
   "cell_type": "markdown",
   "metadata": {
    "id": "B7RbkQiEFmH2"
   },
   "source": [
    "## Pretrain model의 pipeline.config 파일 카피\n",
    "- pretrained 모델의 압축을 풀면 pipeline.config 파일이 있다.\n",
    "- workspace\\model 로 copy 한다."
   ]
  },
  {
   "cell_type": "code",
   "execution_count": null,
   "metadata": {
    "id": "votNHuQ2FmH2"
   },
   "outputs": [],
   "source": []
  },
  {
   "cell_type": "code",
   "execution_count": null,
   "metadata": {
    "id": "Lcmr8W92FmH3"
   },
   "outputs": [],
   "source": []
  },
  {
   "cell_type": "markdown",
   "metadata": {
    "id": "8zlPVf-kFmH3"
   },
   "source": [
    "## pipeline.config 설정 변경\n",
    "- pipeline.config 내용 변경은 파일을 **직접 변경**할 수도 있고 **코드상에서 변경**할 수도 있다.\n",
    "\n",
    "### 필수 변경사항\n",
    "-  class개수 변경\n",
    "-  train 배치 사이즈 변경 - gpu 메모리 사양에 맞게 변경한다.\n",
    "-  pretrained model 경로 설정\n",
    "-  pretrained model이 어떤 종류의 모델인지 설정\n",
    "-  train 관련 변경\n",
    "    -  labelmap 파일 경로 설정\n",
    "    -  train 용 tfrecord 파일 경로 지정\n",
    "-  evaluation 관련 변경\n",
    "    -  labelmap 파일 경로 설정\n",
    "    -  evaluation 용 tfrecord 파일 경로 지정"
   ]
  },
  {
   "cell_type": "code",
   "execution_count": null,
   "metadata": {
    "id": "rBmhxexzFmIC"
   },
   "outputs": [],
   "source": []
  },
  {
   "cell_type": "code",
   "execution_count": null,
   "metadata": {
    "id": "0CFp02c0FmIH"
   },
   "outputs": [],
   "source": []
  },
  {
   "cell_type": "code",
   "execution_count": null,
   "metadata": {
    "id": "HbsOgh7-FmIH"
   },
   "outputs": [],
   "source": []
  },
  {
   "cell_type": "code",
   "execution_count": null,
   "metadata": {
    "id": "8SZHqX27FmIM"
   },
   "outputs": [],
   "source": []
  },
  {
   "cell_type": "code",
   "execution_count": null,
   "metadata": {
    "id": "k_XKqVSHFmIN"
   },
   "outputs": [],
   "source": []
  },
  {
   "cell_type": "code",
   "execution_count": null,
   "metadata": {
    "id": "yDQK35T_FmIO"
   },
   "outputs": [],
   "source": []
  },
  {
   "cell_type": "markdown",
   "metadata": {
    "id": "R1dChcDEFmIO"
   },
   "source": [
    "# Model 학습\n",
    "- 다음 명령어를 실행한다.\n",
    "- 시간이 오래 걸리므로 terminal에서 실행한다.\n",
    "```\n",
    "python models/research/object_detection/model_main_tf2.py --model_dir=workspace/model/checkpoint --pipeline_config_path=workspace/model/pipeline.config --num_train_steps=3000\n",
    "```\n",
    "\n",
    "## 옵션\n",
    "- model_dir: 학습한 모델의 checkpoint 파일을 저장할 경로. (1000 step당 저장한다.)\n",
    "- pipeline_config_path: pipeline.config 파일 경로\n",
    "- num_train_steps: 학습할 step 수"
   ]
  },
  {
   "cell_type": "code",
   "execution_count": null,
   "metadata": {
    "id": "AIozlc_DFmIP"
   },
   "outputs": [],
   "source": []
  },
  {
   "cell_type": "code",
   "execution_count": null,
   "metadata": {
    "id": "2CW2oetjFmIQ"
   },
   "outputs": [],
   "source": []
  },
  {
   "cell_type": "markdown",
   "metadata": {
    "id": "mdssqw2xFmIQ"
   },
   "source": [
    "# 학습한 모델 추출(export)\n",
    "- `models/research/object_detection/exporter_main_v2.py` 사용\n",
    "- 옵션\n",
    "    - `exporter_main_v2.py --helpshort || exporter_main_v2.py --helpfull`\n",
    "    - input_type : input node type\n",
    "        - image_tensor, encoded_image_string_tensor\n",
    "    - train_checkpoint: 학습된 checkpoint 파일이 저장된 경로(folder/directory)\n",
    "    - pipeline_config_path: pipeline.config 파일의 경로 (파일명 포함)\n",
    "    - output_directory: export된 모델을 저장할 경로.\n",
    "- 추출된 디렉토리 구조\n",
    "```bash\n",
    "output_dir\n",
    "├─ checkpoint/\n",
    "├─ saved_model/\n",
    "└─ pipeline.config\n",
    "```\n",
    "    - checkpoint: custom data 학습한 checkpoint 파일들을 이 디렉토리로 복사한다.\n",
    "    - save_model: pipeline.config 설정에 맞춰 생성된 model\n",
    "    - pipeline.config: pipeline.config 설정파일"
   ]
  },
  {
   "cell_type": "code",
   "execution_count": null,
   "metadata": {
    "id": "NBDxDDvFFmIR"
   },
   "outputs": [],
   "source": []
  },
  {
   "cell_type": "code",
   "execution_count": null,
   "metadata": {
    "id": "GKtShy0LFmIS"
   },
   "outputs": [],
   "source": []
  },
  {
   "cell_type": "code",
   "execution_count": null,
   "metadata": {
    "id": "R48-qlLoFmIS"
   },
   "outputs": [],
   "source": []
  },
  {
   "cell_type": "markdown",
   "metadata": {
    "id": "_9knRnd6FmIT"
   },
   "source": [
    "# Inference(추론)"
   ]
  },
  {
   "cell_type": "markdown",
   "metadata": {
    "id": "7UAV_LuxFmIU"
   },
   "source": [
    "### 사용 함수,메소드\n",
    "-  ### tf.convert_to_tensor(array_like, dtype)\n",
    "    - array_like 를 Tensoflow Tensor 객체로 변환\n",
    "    - `tf.convert_to_tensor([[1,2],[3,4]])`\n",
    "- ### detection_model.preprocess(image 4차원 ndarray)\n",
    "    - 전달받은 이미지를 model의 input shape에 맞게 resizing 한다.\n",
    "    - 반환값: (resize된 image Tensor, 이미지의 shape) 을 tuple로 반환\n",
    "- ### detection_model.predict(image tensor, image_shape tensor)\n",
    "    - 추론/detection 메소드\n",
    "    - 이미지와 image shape을 받아서 detection한 결과를 딕셔너리로 반환한다.\n",
    "    - **반환 dictionary key**\n",
    "        - **preprocessed_inputs**:  입력 이미지 Tensor. preprocess()로 처리된 이미지. \n",
    "        - **feature_maps**: List. feature map 들을 반환\n",
    "        - **anchors**: 2D Tensor. normalize 된 anchor box들의 좌표를 반환. 2-D float tensor: \\[num_anchors, 4\\]\n",
    "        - **final_anchors**: 3D Tensor. batch 당 anchors. (anchors에 batch가 포함된 것). \\[batch_size, num_anchors, 4\\]\n",
    "        - **box_encodings**: 3D float tensor. predict한 box들의 normalize된 좌표. \\[batch_size, num_anchors,box_code_dimension\\]\n",
    "        - **class_predictions_with_background**: 3D Tensor. 클래스 확률을 반환.(logit). \\[batch_size, num_anchors, num_classes+1]\\\n",
    "            - background 확률을 포함해서 num_classes+1개가 된다. (index 0: background)\n",
    "            \n",
    "- ### detection_model.postprocess(prediction_dict, shape)\n",
    "    - predict()가 예측한 결과에서 **Non-Maxinum Suppression**을 실행해서 최종 Detection 결과를 반환한다.\n",
    "        - predict()는 anchor별로 예측결과를 모아서 주고 post-process는 최종 결과를 추출해서 반환.\n",
    "    - **반환 dictionary key**\n",
    "        - **num_detections**: Detect한 개수 (bounding box 개수)\n",
    "        - **detection_boxes**: [batch, max_detections, 4]. 후처리한 detection box\n",
    "        - **detection_scores**: [batch, max_detections]. post-processed detection box들의 detection score들 (detection score는 box안에 물체가 있을 확률값 - confidence score).\n",
    "        - **detection_classes**: [batch, max_detections] tensor with classes for post-processed detection classes.\n",
    "        - **raw_detection_boxes**:[batch, total_detections, 4] Non-Max Suppression 하기 전의 감지된 box들\n",
    "        - **raw_detection_scores**: [batch, total_detections, num_classes_with_background]. raw detection box들의 class별 점수\n",
    "        - **detection_multiclass_scores**: [batch, max_detections, num_classes_with_background] post-processed이후 남은 bounding box 들의 class별 점수. LabelMap의 class에 background가 추가되어 계산된다.\n",
    "        - **detection_anchor_indices**: [batch, max_detections] post-processed 이후 나은 anchor box의 index들."
   ]
  },
  {
   "cell_type": "code",
   "execution_count": null,
   "metadata": {
    "id": "IQJH7HiuFmIV"
   },
   "outputs": [],
   "source": []
  },
  {
   "cell_type": "code",
   "execution_count": null,
   "metadata": {
    "id": "6gkxzoDjFmIV"
   },
   "outputs": [],
   "source": []
  },
  {
   "cell_type": "code",
   "execution_count": null,
   "metadata": {
    "id": "PD_TkmADFmIW"
   },
   "outputs": [],
   "source": []
  },
  {
   "cell_type": "code",
   "execution_count": null,
   "metadata": {
    "id": "2RVS6lhgFmIW"
   },
   "outputs": [],
   "source": []
  },
  {
   "cell_type": "code",
   "execution_count": null,
   "metadata": {
    "id": "CDeYImc0FmIX"
   },
   "outputs": [],
   "source": []
  },
  {
   "cell_type": "code",
   "execution_count": null,
   "metadata": {
    "id": "q6wM4m-2FmIX"
   },
   "outputs": [],
   "source": []
  },
  {
   "cell_type": "code",
   "execution_count": null,
   "metadata": {
    "id": "Igtxn7B1FmIY"
   },
   "outputs": [],
   "source": []
  },
  {
   "cell_type": "markdown",
   "metadata": {
    "id": "DC89wPxVFmIa"
   },
   "source": [
    "# 새로운 이미지 Detection"
   ]
  },
  {
   "cell_type": "code",
   "execution_count": null,
   "metadata": {
    "id": "SC_w0h_qFmIi"
   },
   "outputs": [],
   "source": []
  },
  {
   "cell_type": "code",
   "execution_count": null,
   "metadata": {
    "id": "TqqmMUF7FmIj"
   },
   "outputs": [],
   "source": []
  },
  {
   "cell_type": "code",
   "execution_count": null,
   "metadata": {
    "id": "s944g3nEFmIk"
   },
   "outputs": [],
   "source": []
  },
  {
   "cell_type": "code",
   "execution_count": null,
   "metadata": {
    "id": "h8-z3ZrsFmIk"
   },
   "outputs": [],
   "source": []
  }
 ],
 "metadata": {
  "colab": {
   "collapsed_sections": [
    "XLD2Wh-JFmHq",
    "SB479b3vFmHr",
    "7eiA31MaFmHs",
    "j3EdviO8FmHw",
    "n26aEg3vFmHy",
    "a2nJ7z1ZFmH0",
    "M3kNbo6_FmH1",
    "B7RbkQiEFmH2",
    "8zlPVf-kFmH3",
    "R1dChcDEFmIO",
    "mdssqw2xFmIQ",
    "_9knRnd6FmIT",
    "7UAV_LuxFmIU",
    "DC89wPxVFmIa"
   ],
   "name": "Process.ipynb",
   "provenance": []
  },
  "kernelspec": {
   "display_name": "Python 3 (ipykernel)",
   "language": "python",
   "name": "python3"
  },
  "language_info": {
   "codemirror_mode": {
    "name": "ipython",
    "version": 3
   },
   "file_extension": ".py",
   "mimetype": "text/x-python",
   "name": "python",
   "nbconvert_exporter": "python",
   "pygments_lexer": "ipython3",
   "version": "3.8.11"
  },
  "toc": {
   "base_numbering": 1,
   "nav_menu": {},
   "number_sections": true,
   "sideBar": true,
   "skip_h1_title": false,
   "title_cell": "Table of Contents",
   "title_sidebar": "Contents",
   "toc_cell": false,
   "toc_position": {},
   "toc_section_display": true,
   "toc_window_display": false
  },
  "varInspector": {
   "cols": {
    "lenName": 16,
    "lenType": 16,
    "lenVar": 40
   },
   "kernels_config": {
    "python": {
     "delete_cmd_postfix": "",
     "delete_cmd_prefix": "del ",
     "library": "var_list.py",
     "varRefreshCmd": "print(var_dic_list())"
    },
    "r": {
     "delete_cmd_postfix": ") ",
     "delete_cmd_prefix": "rm(",
     "library": "var_list.r",
     "varRefreshCmd": "cat(var_dic_list()) "
    }
   },
   "types_to_exclude": [
    "module",
    "function",
    "builtin_function_or_method",
    "instance",
    "_Feature"
   ],
   "window_display": false
  }
 },
 "nbformat": 4,
 "nbformat_minor": 1
}
