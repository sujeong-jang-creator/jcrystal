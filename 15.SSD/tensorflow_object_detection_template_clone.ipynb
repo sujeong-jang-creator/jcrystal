{
 "cells": [
  {
   "cell_type": "markdown",
   "metadata": {
    "id": "p1GOtQbkwulD"
   },
   "source": [
    "1. 구글 드라이브 root 에 clone\n",
    "1. clone한 workspace를 코드 디렉토리로 옮긴다."
   ]
  },
  {
   "cell_type": "code",
   "execution_count": 1,
   "metadata": {
    "colab": {
     "base_uri": "https://localhost:8080/"
    },
    "executionInfo": {
     "elapsed": 27011,
     "status": "ok",
     "timestamp": 1632718046755,
     "user": {
      "displayName": "김성환",
      "photoUrl": "https://lh3.googleusercontent.com/a-/AOh14GjqNkeEG8Sp5Fmsq56VZoiRsSxwUXmtH2Mb14M3YQA=s64",
      "userId": "02802166581970122576"
     },
     "user_tz": -540
    },
    "id": "DLyQ3R3Jd8T2",
    "outputId": "faed228f-f981-4723-dda9-6609257d41a6"
   },
   "outputs": [
    {
     "name": "stdout",
     "output_type": "stream",
     "text": [
      "Mounted at /content/drive\n"
     ]
    }
   ],
   "source": [
    "from google.colab import drive\n",
    "drive.mount('/content/drive')"
   ]
  },
  {
   "cell_type": "code",
   "execution_count": 2,
   "metadata": {
    "executionInfo": {
     "elapsed": 332,
     "status": "ok",
     "timestamp": 1632718091786,
     "user": {
      "displayName": "김성환",
      "photoUrl": "https://lh3.googleusercontent.com/a-/AOh14GjqNkeEG8Sp5Fmsq56VZoiRsSxwUXmtH2Mb14M3YQA=s64",
      "userId": "02802166581970122576"
     },
     "user_tz": -540
    },
    "id": "D0U-tO7SlJDW"
   },
   "outputs": [],
   "source": [
    "!mkdir /content/drive/MyDrive/object_detection_src/"
   ]
  },
  {
   "cell_type": "code",
   "execution_count": 3,
   "metadata": {
    "colab": {
     "base_uri": "https://localhost:8080/"
    },
    "executionInfo": {
     "elapsed": 339,
     "status": "ok",
     "timestamp": 1632718104367,
     "user": {
      "displayName": "김성환",
      "photoUrl": "https://lh3.googleusercontent.com/a-/AOh14GjqNkeEG8Sp5Fmsq56VZoiRsSxwUXmtH2Mb14M3YQA=s64",
      "userId": "02802166581970122576"
     },
     "user_tz": -540
    },
    "id": "joi3oDlzBMAC",
    "outputId": "f36d6f25-f3df-48f1-b4ee-2a5627d85c48"
   },
   "outputs": [
    {
     "name": "stdout",
     "output_type": "stream",
     "text": [
      "/content/drive/MyDrive/object_detection_src\n"
     ]
    }
   ],
   "source": [
    "# google drive 연결 후\n",
    "%cd /content/drive/MyDrive/object_detection_src"
   ]
  },
  {
   "cell_type": "code",
   "execution_count": 4,
   "metadata": {
    "colab": {
     "base_uri": "https://localhost:8080/"
    },
    "executionInfo": {
     "elapsed": 4435,
     "status": "ok",
     "timestamp": 1632718112013,
     "user": {
      "displayName": "김성환",
      "photoUrl": "https://lh3.googleusercontent.com/a-/AOh14GjqNkeEG8Sp5Fmsq56VZoiRsSxwUXmtH2Mb14M3YQA=s64",
      "userId": "02802166581970122576"
     },
     "user_tz": -540
    },
    "id": "TNVM3yqjBdoa",
    "outputId": "31e9c5c8-1076-400a-b4d9-99bd6acf5647"
   },
   "outputs": [
    {
     "name": "stdout",
     "output_type": "stream",
     "text": [
      "Cloning into 'object_detection_workspace'...\n",
      "remote: Enumerating objects: 52, done.\u001b[K\n",
      "remote: Counting objects: 100% (52/52), done.\u001b[K\n",
      "remote: Compressing objects: 100% (32/32), done.\u001b[K\n",
      "remote: Total 52 (delta 20), reused 42 (delta 13), pack-reused 0\u001b[K\n",
      "Unpacking objects: 100% (52/52), done.\n"
     ]
    }
   ],
   "source": [
    "!git clone https://github.com/dbgmlek/object_detection_workspace.git"
   ]
  },
  {
   "cell_type": "code",
   "execution_count": 5,
   "metadata": {
    "colab": {
     "base_uri": "https://localhost:8080/"
    },
    "executionInfo": {
     "elapsed": 396,
     "status": "ok",
     "timestamp": 1632718133945,
     "user": {
      "displayName": "김성환",
      "photoUrl": "https://lh3.googleusercontent.com/a-/AOh14GjqNkeEG8Sp5Fmsq56VZoiRsSxwUXmtH2Mb14M3YQA=s64",
      "userId": "02802166581970122576"
     },
     "user_tz": -540
    },
    "id": "IyTiNGPlvKqz",
    "outputId": "e6b8eb9e-2926-4d45-9b85-c0a71a28553b"
   },
   "outputs": [
    {
     "name": "stdout",
     "output_type": "stream",
     "text": [
      "total 4\n",
      "drwx------ 6 root root 4096 Sep 27 04:48 \u001b[0m\u001b[01;34mobject_detection_workspace\u001b[0m/\n"
     ]
    }
   ],
   "source": [
    "%ls -al"
   ]
  },
  {
   "cell_type": "code",
   "execution_count": 6,
   "metadata": {
    "executionInfo": {
     "elapsed": 354,
     "status": "ok",
     "timestamp": 1632718137711,
     "user": {
      "displayName": "김성환",
      "photoUrl": "https://lh3.googleusercontent.com/a-/AOh14GjqNkeEG8Sp5Fmsq56VZoiRsSxwUXmtH2Mb14M3YQA=s64",
      "userId": "02802166581970122576"
     },
     "user_tz": -540
    },
    "id": "rpk9qydgvLmS"
   },
   "outputs": [],
   "source": [
    "# 폴더명 변경\n",
    "!mv object_detection_workspace/  sign_language_letters/"
   ]
  },
  {
   "cell_type": "code",
   "execution_count": null,
   "metadata": {
    "colab": {
     "base_uri": "https://localhost:8080/"
    },
    "executionInfo": {
     "elapsed": 422,
     "status": "ok",
     "timestamp": 1631017988297,
     "user": {
      "displayName": "김성환",
      "photoUrl": "https://lh3.googleusercontent.com/a-/AOh14GjqNkeEG8Sp5Fmsq56VZoiRsSxwUXmtH2Mb14M3YQA=s64",
      "userId": "02802166581970122576"
     },
     "user_tz": -540
    },
    "id": "Ur3_J3MgxAHk",
    "outputId": "ffc47fe8-a108-46ff-ffad-08055c879483"
   },
   "outputs": [
    {
     "name": "stdout",
     "output_type": "stream",
     "text": [
      "total 14\n",
      "drwx------ 6 root root 4096 Sep  7 12:32 handsign_detection\n",
      "drwx------ 2 root root 4096 Sep  7 04:25 sign_language_letters\n",
      "-rw------- 1 root root 5200 Sep  7 12:32 tensorflow_object_detection_template_clone.ipynb\n"
     ]
    }
   ],
   "source": [
    "!ls -al"
   ]
  },
  {
   "cell_type": "code",
   "execution_count": null,
   "metadata": {
    "colab": {
     "base_uri": "https://localhost:8080/"
    },
    "executionInfo": {
     "elapsed": 15,
     "status": "ok",
     "timestamp": 1631017989648,
     "user": {
      "displayName": "김성환",
      "photoUrl": "https://lh3.googleusercontent.com/a-/AOh14GjqNkeEG8Sp5Fmsq56VZoiRsSxwUXmtH2Mb14M3YQA=s64",
      "userId": "02802166581970122576"
     },
     "user_tz": -540
    },
    "id": "c6k1ldY8eqA_",
    "outputId": "c366361f-5bfb-4e26-fb5c-72f1e739c441"
   },
   "outputs": [
    {
     "name": "stdout",
     "output_type": "stream",
     "text": [
      "total 35\n",
      "drwx------ 8 root root  4096 Sep  7 12:32 .git\n",
      "-rw------- 1 root root    19 Sep  7 12:32 .gitignore\n",
      "-rw------- 1 root root 17535 Sep  7 12:32 Process.ipynb\n",
      "drwx------ 2 root root  4096 Sep  7 12:32 raw_data\n",
      "-rw------- 1 root root    63 Sep  7 12:32 README.md\n",
      "drwx------ 2 root root  4096 Sep  7 12:32 scripts\n",
      "drwx------ 6 root root  4096 Sep  7 12:32 workspace\n"
     ]
    }
   ],
   "source": [
    "!ls -al sign_language_letters"
   ]
  },
  {
   "cell_type": "markdown",
   "metadata": {
    "id": "vwr7aX1DkTYR"
   },
   "source": [
    "# Dataset download"
   ]
  },
  {
   "cell_type": "code",
   "execution_count": 1,
   "metadata": {
    "colab": {
     "base_uri": "https://localhost:8080/",
     "height": 106
    },
    "executionInfo": {
     "elapsed": 23039,
     "status": "ok",
     "timestamp": 1632718182740,
     "user": {
      "displayName": "김성환",
      "photoUrl": "https://lh3.googleusercontent.com/a-/AOh14GjqNkeEG8Sp5Fmsq56VZoiRsSxwUXmtH2Mb14M3YQA=s64",
      "userId": "02802166581970122576"
     },
     "user_tz": -540
    },
    "id": "qlXqVS57P3GJ",
    "outputId": "e38243bf-dfae-4f13-cdc3-80b408a95a3d"
   },
   "outputs": [
    {
     "name": "stderr",
     "output_type": "stream",
     "text": [
      "Downloading...\n",
      "From: https://drive.google.com/uc?id=1qSkS6DaoSvVtFMlmNRssBNAb5eZRAEnI\n",
      "To: C:\\202105_lab\\01.playdata\\15.SSD\\american_sign_language_letters.zip\n",
      "24.3MB [00:03, 6.35MB/s]\n"
     ]
    },
    {
     "data": {
      "text/plain": [
       "'american_sign_language_letters.zip'"
      ]
     },
     "execution_count": 1,
     "metadata": {},
     "output_type": "execute_result"
    }
   ],
   "source": [
    "import gdown \n",
    "url = 'https://drive.google.com/uc?id=1qSkS6DaoSvVtFMlmNRssBNAb5eZRAEnI'\n",
    "fname = 'american_sign_language_letters.zip'\n",
    "gdown.download(url, fname, quiet=False)"
   ]
  },
  {
   "cell_type": "code",
   "execution_count": 8,
   "metadata": {
    "executionInfo": {
     "elapsed": 311,
     "status": "ok",
     "timestamp": 1632718627959,
     "user": {
      "displayName": "김성환",
      "photoUrl": "https://lh3.googleusercontent.com/a-/AOh14GjqNkeEG8Sp5Fmsq56VZoiRsSxwUXmtH2Mb14M3YQA=s64",
      "userId": "02802166581970122576"
     },
     "user_tz": -540
    },
    "id": "VpUrKPtenG3T"
   },
   "outputs": [],
   "source": [
    "!mv american_sign_language_letters.zip /content/drive/MyDrive/object_detection_src/sign_language_letters/raw_data"
   ]
  },
  {
   "cell_type": "code",
   "execution_count": null,
   "metadata": {
    "id": "aPXQvm7RnSFi"
   },
   "outputs": [],
   "source": []
  }
 ],
 "metadata": {
  "colab": {
   "authorship_tag": "ABX9TyMFmU1iJ3ysWXeUq8z5VFr9",
   "collapsed_sections": [],
   "mount_file_id": "1WGCx8v5vn1soO2x9tQOcpRpolCldT_DL",
   "name": "tensorflow_object_detection_template_clone.ipynb",
   "provenance": []
  },
  "kernelspec": {
   "display_name": "Python 3 (ipykernel)",
   "language": "python",
   "name": "python3"
  },
  "language_info": {
   "codemirror_mode": {
    "name": "ipython",
    "version": 3
   },
   "file_extension": ".py",
   "mimetype": "text/x-python",
   "name": "python",
   "nbconvert_exporter": "python",
   "pygments_lexer": "ipython3",
   "version": "3.8.11"
  },
  "toc": {
   "base_numbering": 1,
   "nav_menu": {},
   "number_sections": true,
   "sideBar": true,
   "skip_h1_title": false,
   "title_cell": "Table of Contents",
   "title_sidebar": "Contents",
   "toc_cell": false,
   "toc_position": {},
   "toc_section_display": true,
   "toc_window_display": false
  }
 },
 "nbformat": 4,
 "nbformat_minor": 1
}
