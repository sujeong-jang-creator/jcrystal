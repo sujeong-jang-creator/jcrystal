{
 "cells": [
  {
   "cell_type": "code",
   "execution_count": 1,
   "id": "bc6700eb",
   "metadata": {},
   "outputs": [],
   "source": [
    "# django shell 환경설정\n",
    "import os\n",
    "import django\n",
    "os.environ['DJANGO_SETTINGS_MODULE'] = 'config.settings'\n",
    "os.environ['DJANGO_ALLOW_ASYNC_UNSAFE'] = 'true'\n",
    "\n",
    "django.setup()"
   ]
  },
  {
   "cell_type": "markdown",
   "id": "3adbb7a6",
   "metadata": {},
   "source": [
    "# Paginator 클래스\n",
    "- 전체 페이징 처리를 관리하는 클래스\n",
    "- 전체 데이터관련 정보, 각 페이지당 보여줄 데이터의 정보 등을 제공\n",
    "- ListView에서 paginate_by를 설정하면 자동으로 생성되어 context data에 저장된다.\n",
    "\n",
    "# Page 클래스\n",
    "- 한페이지에대한 데이터를 관리\n",
    "- Paginator가 생성해서 제공.\n",
    "- iterable 타입. 원소로 데이터를 제공\n",
    "- Page객체.object_list 속성: 페이지가 가진 데이터들을 List로 반환"
   ]
  },
  {
   "cell_type": "code",
   "execution_count": 6,
   "id": "3e67b599",
   "metadata": {},
   "outputs": [
    {
     "data": {
      "text/plain": [
       "62"
      ]
     },
     "execution_count": 6,
     "metadata": {},
     "output_type": "execute_result"
    }
   ],
   "source": [
    "data_list = list(\"0123456789abcdefghijklmnopqrstuvwxyzABCDEFGHIJKLMNOPQRSTUVWXYZ\")"
   ]
  },
  {
   "cell_type": "code",
   "execution_count": 7,
   "id": "691cb0db",
   "metadata": {},
   "outputs": [],
   "source": [
    "from django.core.paginator import Paginator"
   ]
  },
  {
   "cell_type": "code",
   "execution_count": 8,
   "id": "1a4c7f89",
   "metadata": {},
   "outputs": [],
   "source": [
    "# paginator 생성\n",
    "pn = Paginator(data_list, 5)  # 전체데이터목록, 한페이지당 데이터수(paginate_by설정한 값)"
   ]
  },
  {
   "cell_type": "code",
   "execution_count": 12,
   "id": "d64b43c8",
   "metadata": {},
   "outputs": [
    {
     "name": "stdout",
     "output_type": "stream",
     "text": [
      "전체 데이터 수: 62\n",
      "총 페이지 수: 13\n",
      "시작페이,끝페이지+1: range(1, 14)\n"
     ]
    }
   ],
   "source": [
    "# paginator속성\n",
    "print('전체 데이터 수:', pn.count)\n",
    "print('총 페이지 수:', pn.num_pages)\n",
    "print(\"시작페이~끝페이지+1:\", pn.page_range) #시작페이지~끝페이지의 범위를 range객체로 반환"
   ]
  },
  {
   "cell_type": "code",
   "execution_count": 13,
   "id": "c3eb1d70",
   "metadata": {},
   "outputs": [
    {
     "name": "stdout",
     "output_type": "stream",
     "text": [
      "1\t2\t3\t4\t5\t6\t7\t8\t9\t10\t11\t12\t13\t"
     ]
    }
   ],
   "source": [
    "for p in pn.page_range:\n",
    "    print(p, end='\\t')"
   ]
  },
  {
   "cell_type": "code",
   "execution_count": 15,
   "id": "6b7d2192",
   "metadata": {},
   "outputs": [
    {
     "name": "stdout",
     "output_type": "stream",
     "text": [
      "<class 'django.core.paginator.Page'> <Page 1 of 13>\n",
      "<Page 10 of 13>\n"
     ]
    }
   ],
   "source": [
    "# Paginator에서 특정 페이지정보가지는 Page 객체를 조회\n",
    "# Page - iterable ->그 페이지의 데이터를 반환\n",
    "page1 = pn.page(1) #pn.page(페이지번호)\n",
    "print(type(page1), page1)\n",
    "print(pn.page(10))"
   ]
  },
  {
   "cell_type": "code",
   "execution_count": 17,
   "id": "b475f47f",
   "metadata": {},
   "outputs": [],
   "source": [
    "# pn.page(50) #없는 페이지 조회시 EmptyPage Exception발생"
   ]
  },
  {
   "cell_type": "code",
   "execution_count": 20,
   "id": "956147f2",
   "metadata": {},
   "outputs": [
    {
     "name": "stdout",
     "output_type": "stream",
     "text": [
      "0\n",
      "1\n",
      "2\n",
      "3\n",
      "4\n"
     ]
    }
   ],
   "source": [
    "for data in page1:\n",
    "    print(data)"
   ]
  },
  {
   "cell_type": "code",
   "execution_count": 21,
   "id": "e63543c1",
   "metadata": {},
   "outputs": [
    {
     "name": "stdout",
     "output_type": "stream",
     "text": [
      "J\n",
      "K\n",
      "L\n",
      "M\n",
      "N\n"
     ]
    }
   ],
   "source": [
    "for data in pn.page(10):\n",
    "    print(data)"
   ]
  },
  {
   "cell_type": "code",
   "execution_count": 22,
   "id": "4339d9d9",
   "metadata": {},
   "outputs": [
    {
     "name": "stdout",
     "output_type": "stream",
     "text": [
      "['0', '1', '2', '3', '4']\n"
     ]
    }
   ],
   "source": [
    "# 페이지가 가진 데이터(원소)들을 List 반환\n",
    "page1_list = page1.object_list\n",
    "print(page1_list)"
   ]
  },
  {
   "cell_type": "code",
   "execution_count": null,
   "id": "acdb1cde",
   "metadata": {},
   "outputs": [],
   "source": [
    "# 함수형 View로 List 처리 구현\n",
    "# url?page=번호  : 페이지번호 querystring = 요청파라미터\n",
    "def list_view(request):\n",
    "    page_no = request.GET.get('page', 1)\n",
    "    pn = Paginator(Model.objects.all(), 10)\n",
    "    page = pn.page(page_no)\n",
    "    # + 페이지링크를 위한 값들 조회->context_data로 전달.\n",
    "    return render(request, '템플릿 경로', {'object_list':page})\n"
   ]
  },
  {
   "cell_type": "markdown",
   "id": "e6b65836",
   "metadata": {},
   "source": [
    "## 이전/다음 페이지 유무\n",
    "- Page.has_previous() / Page.has_next()\n",
    "- 1페이지: 이전페이지? X, 다음페이지? O\n",
    "- 13페이지: 이전? O, 다음페이지? X\n",
    "- 10페이지: 이전페이지? O, 다음페이지? O"
   ]
  },
  {
   "cell_type": "code",
   "execution_count": 23,
   "id": "0139d67a",
   "metadata": {},
   "outputs": [],
   "source": [
    "page1 = pn.page(1)\n",
    "page10 = pn.page(10)\n",
    "page13 = pn.page(13)"
   ]
  },
  {
   "cell_type": "code",
   "execution_count": 28,
   "id": "ae74e035",
   "metadata": {},
   "outputs": [
    {
     "name": "stdout",
     "output_type": "stream",
     "text": [
      "page1 - False - True\n",
      "page10 - True - True\n",
      "page13 - True - False\n"
     ]
    }
   ],
   "source": [
    "print('page1', page1.has_previous(), page1.has_next(), sep=' - ')\n",
    "print('page10', page10.has_previous(), page10.has_next(), sep=' - ')\n",
    "print('page13', page13.has_previous(), page13.has_next(), sep=' - ')"
   ]
  },
  {
   "cell_type": "markdown",
   "id": "97d01906",
   "metadata": {},
   "source": [
    "## 현재/이전/다음페이지 번호 조회\n",
    "- Page.number : 현재 페이지 번호\n",
    "- Page.previous_page_number(): 이전 페이지 번호\n",
    "- Page.next_page_number(): 다음 페이지 번호"
   ]
  },
  {
   "cell_type": "code",
   "execution_count": 33,
   "id": "4b6f06a1",
   "metadata": {},
   "outputs": [
    {
     "name": "stdout",
     "output_type": "stream",
     "text": [
      "페이지번호: 1\n",
      "첫번째 페이지입니다.\n",
      "다음페이지번호: 2\n"
     ]
    }
   ],
   "source": [
    "print(\"페이지번호:\", page1.number)\n",
    "if page1.has_previous():\n",
    "    print(\"이전페이지번호:\", page1.previous_page_number())\n",
    "else:\n",
    "    print(\"첫번째 페이지입니다.\")\n",
    "\n",
    "if page1.has_next():\n",
    "    print('다음페이지번호:', page1.next_page_number())\n",
    "else:\n",
    "    print(\"마지막 페이지입니다.\")"
   ]
  },
  {
   "cell_type": "code",
   "execution_count": 34,
   "id": "c8bc84e2",
   "metadata": {},
   "outputs": [
    {
     "name": "stdout",
     "output_type": "stream",
     "text": [
      "페이지번호: 10\n",
      "이전페이지번호: 9\n",
      "다음페이지번호: 11\n"
     ]
    }
   ],
   "source": [
    "print(\"페이지번호:\", page10.number)\n",
    "if page10.has_previous():\n",
    "    print(\"이전페이지번호:\", page10.previous_page_number())\n",
    "else:\n",
    "    print(\"첫번째 페이지입니다.\")\n",
    "\n",
    "if page10.has_next():\n",
    "    print('다음페이지번호:', page10.next_page_number())\n",
    "else:\n",
    "    print(\"마지막 페이지입니다.\")"
   ]
  },
  {
   "cell_type": "markdown",
   "id": "fd6f4092",
   "metadata": {},
   "source": [
    "### 각 페이지별 데이터 조회"
   ]
  },
  {
   "cell_type": "code",
   "execution_count": 35,
   "id": "a23d28c6",
   "metadata": {
    "collapsed": true
   },
   "outputs": [
    {
     "data": {
      "text/plain": [
       "['0',\n",
       " '1',\n",
       " '2',\n",
       " '3',\n",
       " '4',\n",
       " '5',\n",
       " '6',\n",
       " '7',\n",
       " '8',\n",
       " '9',\n",
       " 'a',\n",
       " 'b',\n",
       " 'c',\n",
       " 'd',\n",
       " 'e',\n",
       " 'f',\n",
       " 'g',\n",
       " 'h',\n",
       " 'i',\n",
       " 'j',\n",
       " 'k',\n",
       " 'l',\n",
       " 'm',\n",
       " 'n',\n",
       " 'o',\n",
       " 'p',\n",
       " 'q',\n",
       " 'r',\n",
       " 's',\n",
       " 't',\n",
       " 'u',\n",
       " 'v',\n",
       " 'w',\n",
       " 'x',\n",
       " 'y',\n",
       " 'z',\n",
       " 'A',\n",
       " 'B',\n",
       " 'C',\n",
       " 'D',\n",
       " 'E',\n",
       " 'F',\n",
       " 'G',\n",
       " 'H',\n",
       " 'I',\n",
       " 'J',\n",
       " 'K',\n",
       " 'L',\n",
       " 'M',\n",
       " 'N',\n",
       " 'O',\n",
       " 'P',\n",
       " 'Q',\n",
       " 'R',\n",
       " 'S',\n",
       " 'T',\n",
       " 'U',\n",
       " 'V',\n",
       " 'W',\n",
       " 'X',\n",
       " 'Y',\n",
       " 'Z']"
      ]
     },
     "execution_count": 35,
     "metadata": {},
     "output_type": "execute_result"
    }
   ],
   "source": [
    "data_list # Post.objects.all() - 원소1개 Post객체 1개"
   ]
  },
  {
   "cell_type": "code",
   "execution_count": 39,
   "id": "1af62455",
   "metadata": {
    "collapsed": true
   },
   "outputs": [
    {
     "name": "stdout",
     "output_type": "stream",
     "text": [
      "1 페이지\n",
      "0, 1, 2, 3, 4, 5, 6, 7, 8, 9, \n",
      "============================================\n",
      "2 페이지\n",
      "a, b, c, d, e, f, g, h, i, j, \n",
      "============================================\n",
      "3 페이지\n",
      "k, l, m, n, o, p, q, r, s, t, \n",
      "============================================\n",
      "4 페이지\n",
      "u, v, w, x, y, z, A, B, C, D, \n",
      "============================================\n",
      "5 페이지\n",
      "E, F, G, H, I, J, K, L, M, N, \n",
      "============================================\n",
      "6 페이지\n",
      "O, P, Q, R, S, T, U, V, W, X, \n",
      "============================================\n",
      "7 페이지\n",
      "Y, Z, \n",
      "============================================\n"
     ]
    }
   ],
   "source": [
    "# template\n",
    "pn = Paginator(data_list, 10) #paginate_by=10\n",
    "for page_no in pn.page_range:\n",
    "    print(f\"{page_no} 페이지\")\n",
    "    for data in pn.page(page_no):\n",
    "        print(data, end=', ')\n",
    "    print('\\n============================================')"
   ]
  },
  {
   "cell_type": "markdown",
   "id": "fd01b375",
   "metadata": {},
   "source": [
    "# 현재 페이지(요청페이지)가 속한 page 그룹의 (page_range)에서의 시작 index와 끝 index를 조회"
   ]
  },
  {
   "cell_type": "code",
   "execution_count": 42,
   "id": "aa2a82f8",
   "metadata": {
    "collapsed": true
   },
   "outputs": [
    {
     "name": "stdout",
     "output_type": "stream",
     "text": [
      "<a href=\"/board/list?page=1\">1</a>\n",
      "<a href=\"/board/list?page=2\">2</a>\n",
      "<a href=\"/board/list?page=3\">3</a>\n",
      "<a href=\"/board/list?page=4\">4</a>\n",
      "<a href=\"/board/list?page=5\">5</a>\n",
      "<a href=\"/board/list?page=6\">6</a>\n",
      "<a href=\"/board/list?page=7\">7</a>\n",
      "<a href=\"/board/list?page=8\">8</a>\n",
      "<a href=\"/board/list?page=9\">9</a>\n",
      "<a href=\"/board/list?page=10\">10</a>\n",
      "<a href=\"/board/list?page=11\">11</a>\n",
      "<a href=\"/board/list?page=12\">12</a>\n",
      "<a href=\"/board/list?page=13\">13</a>\n",
      "<a href=\"/board/list?page=14\">14</a>\n",
      "<a href=\"/board/list?page=15\">15</a>\n",
      "<a href=\"/board/list?page=16\">16</a>\n",
      "<a href=\"/board/list?page=17\">17</a>\n",
      "<a href=\"/board/list?page=18\">18</a>\n",
      "<a href=\"/board/list?page=19\">19</a>\n",
      "<a href=\"/board/list?page=20\">20</a>\n",
      "<a href=\"/board/list?page=21\">21</a>\n"
     ]
    }
   ],
   "source": [
    "pn = Paginator(data_list, 3)\n",
    "for page_no in pn.page_range:\n",
    "    print(f'<a href=\"/board/list?page={page_no}\">{page_no}</a>')"
   ]
  },
  {
   "cell_type": "code",
   "execution_count": 47,
   "id": "6361430b",
   "metadata": {},
   "outputs": [
    {
     "data": {
      "text/plain": [
       "range(11, 21)"
      ]
     },
     "execution_count": 47,
     "metadata": {},
     "output_type": "execute_result"
    }
   ],
   "source": [
    "# page그룹당 10 페이지번호를 묶는다고 했을때 \n",
    "# 1 page 그룹의 시작, 끝: 1 ~ 10\n",
    "pn.page_range[0:10]\n",
    "# 2 page 글부의 시작, 끝: 11 ~ 20\n",
    "pn.page_range[10:20]"
   ]
  },
  {
   "cell_type": "code",
   "execution_count": 48,
   "id": "b26e194f",
   "metadata": {},
   "outputs": [
    {
     "data": {
      "text/plain": [
       "range(1, 22)"
      ]
     },
     "execution_count": 48,
     "metadata": {},
     "output_type": "execute_result"
    }
   ],
   "source": [
    "pn.page_range"
   ]
  },
  {
   "cell_type": "code",
   "execution_count": 62,
   "id": "2f357d20",
   "metadata": {},
   "outputs": [
    {
     "name": "stdout",
     "output_type": "stream",
     "text": [
      "15 20\n",
      "페이지\n",
      "range(16, 21)\n"
     ]
    }
   ],
   "source": [
    "pn = Paginator(data_list, 3)\n",
    "current_page = 20\n",
    "page_group_count = 5 # 한페이지 그룹에 속한 페이지수 (페이지를 몇페이지씩 묶을 것인지.)\n",
    "\n",
    "# 현재페이지가 속한 페이지그룹의 시작 페이지의 index\n",
    "start_index = int((current_page-1)/page_group_count)*page_group_count\n",
    "# 현재페이지가 속한 페이지그룹의 마지막 페이지의 index\n",
    "end_index = start_index + page_group_count\n",
    "print(start_index, end_index)\n",
    "print(\"페이지\")\n",
    "pagegroup_page_range = pn.page_range[start_index:end_index]\n",
    "print(pagegroup_page_range)"
   ]
  },
  {
   "cell_type": "code",
   "execution_count": 63,
   "id": "04ff2f29",
   "metadata": {},
   "outputs": [
    {
     "name": "stdout",
     "output_type": "stream",
     "text": [
      "<a href=\"/board/list?page=16\">16</a>\n",
      "<a href=\"/board/list?page=17\">17</a>\n",
      "<a href=\"/board/list?page=18\">18</a>\n",
      "<a href=\"/board/list?page=19\">19</a>\n",
      "<a href=\"/board/list?page=20\">20</a>\n"
     ]
    }
   ],
   "source": [
    "for page_no in pagegroup_page_range:\n",
    "     print(f'<a href=\"/board/list?page={page_no}\">{page_no}</a>')"
   ]
  },
  {
   "cell_type": "code",
   "execution_count": null,
   "id": "6d1a65e9",
   "metadata": {},
   "outputs": [],
   "source": []
  },
  {
   "cell_type": "code",
   "execution_count": null,
   "id": "d291c00c",
   "metadata": {},
   "outputs": [],
   "source": []
  },
  {
   "cell_type": "markdown",
   "id": "6227698d",
   "metadata": {},
   "source": [
    "# Post  데이터를 추가"
   ]
  },
  {
   "cell_type": "code",
   "execution_count": 2,
   "id": "e88eedac",
   "metadata": {},
   "outputs": [],
   "source": [
    "from board.models import Post, Category"
   ]
  },
  {
   "cell_type": "code",
   "execution_count": 3,
   "id": "c501c2ff",
   "metadata": {},
   "outputs": [],
   "source": [
    "cate = Category(pk=1)"
   ]
  },
  {
   "cell_type": "code",
   "execution_count": 4,
   "id": "be9c8ad1",
   "metadata": {},
   "outputs": [],
   "source": [
    "# 352\n",
    "for i in range(352): \n",
    "    post = Post(title=f\"제목-{i}\", content=f\"내용{i}\\n내용{i}\\n내용{i}\", category=cate)\n",
    "    post.save()"
   ]
  },
  {
   "cell_type": "code",
   "execution_count": 5,
   "id": "dd125040",
   "metadata": {},
   "outputs": [
    {
     "data": {
      "text/plain": [
       "355"
      ]
     },
     "execution_count": 5,
     "metadata": {},
     "output_type": "execute_result"
    }
   ],
   "source": [
    "Post.objects.all().count()"
   ]
  },
  {
   "cell_type": "code",
   "execution_count": null,
   "id": "6b1a4c04",
   "metadata": {},
   "outputs": [],
   "source": []
  },
  {
   "cell_type": "code",
   "execution_count": null,
   "id": "0e4f93e9",
   "metadata": {},
   "outputs": [],
   "source": []
  },
  {
   "cell_type": "code",
   "execution_count": null,
   "id": "9fe0d972",
   "metadata": {},
   "outputs": [],
   "source": []
  },
  {
   "cell_type": "code",
   "execution_count": null,
   "id": "7e99fd7e",
   "metadata": {},
   "outputs": [],
   "source": []
  },
  {
   "cell_type": "code",
   "execution_count": null,
   "id": "1659cee1",
   "metadata": {},
   "outputs": [],
   "source": []
  },
  {
   "cell_type": "code",
   "execution_count": null,
   "id": "96681903",
   "metadata": {},
   "outputs": [],
   "source": []
  }
 ],
 "metadata": {
  "kernelspec": {
   "display_name": "Python 3 (ipykernel)",
   "language": "python",
   "name": "python3"
  },
  "language_info": {
   "codemirror_mode": {
    "name": "ipython",
    "version": 3
   },
   "file_extension": ".py",
   "mimetype": "text/x-python",
   "name": "python",
   "nbconvert_exporter": "python",
   "pygments_lexer": "ipython3",
   "version": "3.8.11"
  },
  "varInspector": {
   "cols": {
    "lenName": 16,
    "lenType": 16,
    "lenVar": 40
   },
   "kernels_config": {
    "python": {
     "delete_cmd_postfix": "",
     "delete_cmd_prefix": "del ",
     "library": "var_list.py",
     "varRefreshCmd": "print(var_dic_list())"
    },
    "r": {
     "delete_cmd_postfix": ") ",
     "delete_cmd_prefix": "rm(",
     "library": "var_list.r",
     "varRefreshCmd": "cat(var_dic_list()) "
    }
   },
   "types_to_exclude": [
    "module",
    "function",
    "builtin_function_or_method",
    "instance",
    "_Feature"
   ],
   "window_display": false
  }
 },
 "nbformat": 4,
 "nbformat_minor": 5
}
