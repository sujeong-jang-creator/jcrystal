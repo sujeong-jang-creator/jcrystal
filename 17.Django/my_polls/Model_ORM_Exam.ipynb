{
 "cells": [
  {
   "cell_type": "code",
   "execution_count": 2,
   "id": "a95082ec",
   "metadata": {},
   "outputs": [],
   "source": [
    "# django shell 기능을 jupter notebook을 이용해 작업\n",
    "# - django 프로젝트 ROOT 디렉토리에서 주피터노트북을 실행\n",
    "# - jupyter notebook에서 django shell을 사용하기 위해서 환경설정\n",
    "import os\n",
    "os.environ['DJANGO_SETTINGS_MODULE'] = 'config.settings'  # root/config/settings.py 경로 지정.\n",
    "os.environ['DJANGO_ALLOW_ASYNC_UNSAFE'] = 'true'\n",
    "\n",
    "import django\n",
    "django.setup()"
   ]
  },
  {
   "cell_type": "code",
   "execution_count": 3,
   "id": "5cb20c2d",
   "metadata": {},
   "outputs": [],
   "source": [
    "from poll.models import Question, Choice"
   ]
  },
  {
   "cell_type": "code",
   "execution_count": 4,
   "id": "a16acd4d",
   "metadata": {},
   "outputs": [
    {
     "name": "stdout",
     "output_type": "stream",
     "text": [
      "<class 'django.db.models.manager.Manager'>\n"
     ]
    }
   ],
   "source": [
    "mm = Question.objects\n",
    "print(type(mm))"
   ]
  },
  {
   "cell_type": "code",
   "execution_count": 5,
   "id": "5427d92d",
   "metadata": {},
   "outputs": [
    {
     "data": {
      "text/plain": [
       "<QuerySet [<Question: 좋아하는 색깔은 무엇입니까?>, <Question: 좋아하는 동물은 무엇입니까?>, <Question: 가고 싶은 나라를 선택하세요>, <Question: 싫어하는 생물은 무엇입니까?>, <Question: 좋아하는 음료는 무엇입니까?>, <Question: 좋아하는 음식은 무엇입니까?>, <Question: 싫어하는 음식은 무엇입니까?>, <Question: 취미는 무엇입니까?>]>"
      ]
     },
     "execution_count": 5,
     "metadata": {},
     "output_type": "execute_result"
    }
   ],
   "source": [
    "mm.all()"
   ]
  },
  {
   "cell_type": "markdown",
   "id": "eac3ac4e",
   "metadata": {},
   "source": [
    "# 조회(select)\n",
    "- all() : 전체조회"
   ]
  },
  {
   "cell_type": "code",
   "execution_count": 6,
   "id": "1f9e776c",
   "metadata": {},
   "outputs": [
    {
     "name": "stdout",
     "output_type": "stream",
     "text": [
      "<class 'django.db.models.query.QuerySet'>\n",
      "SELECT \"poll_question\".\"id\", \"poll_question\".\"question_text\", \"poll_question\".\"pub_date\" FROM \"poll_question\"\n"
     ]
    }
   ],
   "source": [
    "qs = Question.objects.all()  # select * from quesiton \n",
    "# 조회결과는 QuerySet 객체 반환\n",
    "# QuestSet - 조회결과를 조회, 추가 SQL문을 실행\n",
    "print(type(qs))\n",
    "print(qs.query)  # 실행된 sql문을 조회"
   ]
  },
  {
   "cell_type": "code",
   "execution_count": 7,
   "id": "a2302b3f",
   "metadata": {},
   "outputs": [
    {
     "data": {
      "text/plain": [
       "<QuerySet [<Question: 좋아하는 색깔은 무엇입니까?>, <Question: 좋아하는 동물은 무엇입니까?>, <Question: 가고 싶은 나라를 선택하세요>, <Question: 싫어하는 생물은 무엇입니까?>, <Question: 좋아하는 음료는 무엇입니까?>, <Question: 좋아하는 음식은 무엇입니까?>, <Question: 싫어하는 음식은 무엇입니까?>, <Question: 취미는 무엇입니까?>]>"
      ]
     },
     "execution_count": 7,
     "metadata": {},
     "output_type": "execute_result"
    }
   ],
   "source": [
    "qs  # iterable"
   ]
  },
  {
   "cell_type": "code",
   "execution_count": 8,
   "id": "479866f0",
   "metadata": {},
   "outputs": [
    {
     "name": "stdout",
     "output_type": "stream",
     "text": [
      "<class 'poll.models.Question'> 좋아하는 색깔은 무엇입니까? -- 좋아하는 색깔은 무엇입니까? 2021-10-05 08:17:25.995438+00:00 1 1\n",
      "<class 'poll.models.Question'> 좋아하는 동물은 무엇입니까? -- 좋아하는 동물은 무엇입니까? 2021-10-05 08:17:53.396382+00:00 2 2\n",
      "<class 'poll.models.Question'> 가고 싶은 나라를 선택하세요 -- 가고 싶은 나라를 선택하세요 2021-10-05 08:18:04.822499+00:00 3 3\n",
      "<class 'poll.models.Question'> 싫어하는 생물은 무엇입니까? -- 싫어하는 생물은 무엇입니까? 2021-10-05 08:18:12.638679+00:00 4 4\n",
      "<class 'poll.models.Question'> 좋아하는 음료는 무엇입니까? -- 좋아하는 음료는 무엇입니까? 2021-10-05 08:39:48.548109+00:00 6 6\n",
      "<class 'poll.models.Question'> 좋아하는 음식은 무엇입니까? -- 좋아하는 음식은 무엇입니까? 2021-10-05 08:39:59.301268+00:00 7 7\n",
      "<class 'poll.models.Question'> 싫어하는 음식은 무엇입니까? -- 싫어하는 음식은 무엇입니까? 2021-10-05 08:40:09.059864+00:00 8 8\n",
      "<class 'poll.models.Question'> 취미는 무엇입니까? -- 취미는 무엇입니까? 2021-10-05 08:40:15.948636+00:00 9 9\n"
     ]
    }
   ],
   "source": [
    "for m in qs:\n",
    "    print(type(m), m, \"--\", m.question_text, m.pub_date, m.id, m.pk)  # model.pk : primary 컬럼의 값을 조회"
   ]
  },
  {
   "cell_type": "code",
   "execution_count": 9,
   "id": "8fa082c6",
   "metadata": {},
   "outputs": [],
   "source": [
    "# QuerySet : iterable - 반복문으로 조회, indexing, slicing"
   ]
  },
  {
   "cell_type": "code",
   "execution_count": 10,
   "id": "acb0cb70",
   "metadata": {},
   "outputs": [
    {
     "name": "stdout",
     "output_type": "stream",
     "text": [
      "id: 3 , 등록일시 2021-10-05 08:18:04.822499+00:00 , 질문 가고 싶은 나라를 선택하세요\n"
     ]
    }
   ],
   "source": [
    "qs[2]\n",
    "print(\"id:\", qs[2].pk, \", 등록일시\", qs[2].pub_date, \", 질문\", qs[2].question_text)"
   ]
  },
  {
   "cell_type": "code",
   "execution_count": 11,
   "id": "caee8e17",
   "metadata": {},
   "outputs": [],
   "source": [
    "# 음수 indexing은 지원안한다.\n",
    "# qs[-1]"
   ]
  },
  {
   "cell_type": "code",
   "execution_count": 12,
   "id": "3f84b9c4",
   "metadata": {},
   "outputs": [
    {
     "data": {
      "text/plain": [
       "[<Question: 가고 싶은 나라를 선택하세요>,\n",
       " <Question: 싫어하는 생물은 무엇입니까?>,\n",
       " <Question: 좋아하는 음료는 무엇입니까?>]"
      ]
     },
     "execution_count": 12,
     "metadata": {},
     "output_type": "execute_result"
    }
   ],
   "source": [
    "qs[2:5]"
   ]
  },
  {
   "cell_type": "code",
   "execution_count": 13,
   "id": "0d4c303a",
   "metadata": {},
   "outputs": [
    {
     "data": {
      "text/plain": [
       "[<Question: 좋아하는 색깔은 무엇입니까?>,\n",
       " <Question: 가고 싶은 나라를 선택하세요>,\n",
       " <Question: 좋아하는 음료는 무엇입니까?>,\n",
       " <Question: 싫어하는 음식은 무엇입니까?>]"
      ]
     },
     "execution_count": 13,
     "metadata": {},
     "output_type": "execute_result"
    }
   ],
   "source": [
    "qs[::2]"
   ]
  },
  {
   "cell_type": "code",
   "execution_count": 14,
   "id": "86a0e1e0",
   "metadata": {},
   "outputs": [
    {
     "data": {
      "text/plain": [
       "<Question: 좋아하는 색깔은 무엇입니까?>"
      ]
     },
     "execution_count": 14,
     "metadata": {},
     "output_type": "execute_result"
    }
   ],
   "source": [
    "qs.first()  # 조회결과 중 첫번째 것 반환"
   ]
  },
  {
   "cell_type": "code",
   "execution_count": 15,
   "id": "ad5710f4",
   "metadata": {},
   "outputs": [
    {
     "data": {
      "text/plain": [
       "<Question: 취미는 무엇입니까?>"
      ]
     },
     "execution_count": 15,
     "metadata": {},
     "output_type": "execute_result"
    }
   ],
   "source": [
    "qs.last()  # 조회결과중 마지막 것 반환"
   ]
  },
  {
   "cell_type": "markdown",
   "id": "7ebcfa96",
   "metadata": {},
   "source": [
    "## where 절 이용한 조회\n",
    "조회조건이 있는 조회\n",
    "- filter(조회조건) : 조건을 만족하는 행이 0개 이상일 경우\n",
    "- exclued(조회조건) : filter()반대. 조건을 만족하지 않는 0개이상의 행들을 조회\n",
    "- get(조회조건) : 조회조건을 만족하는 1개 행 조회. PK 로 조회할 때 사용. 조회결과가 0개이거나 2개 이상인 경우 Exception 발생.\n",
    "-  filter/exclude() 반환타입 : QuerySet\n",
    "- get() 반환타입 : Model 객체 반환"
   ]
  },
  {
   "cell_type": "code",
   "execution_count": 16,
   "id": "e210421a",
   "metadata": {},
   "outputs": [
    {
     "data": {
      "text/plain": [
       "(2,\n",
       " '좋아하는 동물은 무엇입니까?',\n",
       " datetime.datetime(2021, 10, 5, 8, 17, 53, 396382, tzinfo=<UTC>))"
      ]
     },
     "execution_count": 16,
     "metadata": {},
     "output_type": "execute_result"
    }
   ],
   "source": [
    "# pk(id) = 2\n",
    "qs = Question.objects.filter(id=2)\n",
    "r = qs.first()\n",
    "r.id, r.question_text, r.pub_date\n",
    "# qs.id"
   ]
  },
  {
   "cell_type": "code",
   "execution_count": 17,
   "id": "c5dc2b91",
   "metadata": {},
   "outputs": [
    {
     "name": "stdout",
     "output_type": "stream",
     "text": [
      "<class 'poll.models.Question'>\n"
     ]
    },
    {
     "data": {
      "text/plain": [
       "(2, '좋아하는 동물은 무엇입니까?')"
      ]
     },
     "execution_count": 17,
     "metadata": {},
     "output_type": "execute_result"
    }
   ],
   "source": [
    "question = Question.objects.get(pk=2)\n",
    "print(type(question))\n",
    "question.pk, question.question_text"
   ]
  },
  {
   "cell_type": "code",
   "execution_count": 18,
   "id": "e49e50ba",
   "metadata": {},
   "outputs": [
    {
     "name": "stdout",
     "output_type": "stream",
     "text": [
      "SELECT \"poll_question\".\"id\", \"poll_question\".\"question_text\", \"poll_question\".\"pub_date\" FROM \"poll_question\" WHERE NOT (\"poll_question\".\"id\" = 2)\n"
     ]
    },
    {
     "data": {
      "text/plain": [
       "<QuerySet [<Question: 좋아하는 색깔은 무엇입니까?>, <Question: 가고 싶은 나라를 선택하세요>, <Question: 싫어하는 생물은 무엇입니까?>, <Question: 좋아하는 음료는 무엇입니까?>, <Question: 좋아하는 음식은 무엇입니까?>, <Question: 싫어하는 음식은 무엇입니까?>, <Question: 취미는 무엇입니까?>]>"
      ]
     },
     "execution_count": 18,
     "metadata": {},
     "output_type": "execute_result"
    }
   ],
   "source": [
    "qs = Question.objects.exclude(pk=2)  # where pk <> 2\n",
    "print(qs.query)\n",
    "qs"
   ]
  },
  {
   "cell_type": "code",
   "execution_count": 19,
   "id": "9997387d",
   "metadata": {},
   "outputs": [
    {
     "name": "stdout",
     "output_type": "stream",
     "text": [
      "id가 100인 질문은 없습니다.\n"
     ]
    }
   ],
   "source": [
    "try:\n",
    "    q = Question.objects.get(pk=100)  # 없는 것 조회: DoesNotExist Exception 발생\n",
    "#     추가작업\n",
    "except:\n",
    "    print(\"id가 100인 질문은 없습니다.\")"
   ]
  },
  {
   "cell_type": "code",
   "execution_count": 20,
   "id": "cd3f7553",
   "metadata": {},
   "outputs": [
    {
     "data": {
      "text/plain": [
       "<QuerySet []>"
      ]
     },
     "execution_count": 20,
     "metadata": {},
     "output_type": "execute_result"
    }
   ],
   "source": [
    "Question.objects.filter(pk=100)"
   ]
  },
  {
   "cell_type": "code",
   "execution_count": 62,
   "id": "fa91eae9",
   "metadata": {
    "collapsed": true
   },
   "outputs": [
    {
     "ename": "MultipleObjectsReturned",
     "evalue": "get() returned more than one Question -- it returned 7!",
     "output_type": "error",
     "traceback": [
      "\u001b[1;31m---------------------------------------------------------------------------\u001b[0m",
      "\u001b[1;31mMultipleObjectsReturned\u001b[0m                   Traceback (most recent call last)",
      "\u001b[1;32m~\\AppData\\Local\\Temp/ipykernel_18128/4156505230.py\u001b[0m in \u001b[0;36m<module>\u001b[1;34m\u001b[0m\n\u001b[1;32m----> 1\u001b[1;33m \u001b[0mq\u001b[0m \u001b[1;33m=\u001b[0m \u001b[0mQuestion\u001b[0m\u001b[1;33m.\u001b[0m\u001b[0mobjects\u001b[0m\u001b[1;33m.\u001b[0m\u001b[0mget\u001b[0m\u001b[1;33m(\u001b[0m\u001b[0mpk__gt\u001b[0m\u001b[1;33m=\u001b[0m\u001b[1;36m1\u001b[0m\u001b[1;33m)\u001b[0m  \u001b[1;31m#  where pk>1 : 1개 이상이 조회되는 경우 get()-MultipleObjectㄴReturned Exception 발생\u001b[0m\u001b[1;33m\u001b[0m\u001b[1;33m\u001b[0m\u001b[0m\n\u001b[0m",
      "\u001b[1;32m~\\anaconda3\\envs\\django\\lib\\site-packages\\django\\db\\models\\manager.py\u001b[0m in \u001b[0;36mmanager_method\u001b[1;34m(self, *args, **kwargs)\u001b[0m\n\u001b[0;32m     83\u001b[0m         \u001b[1;32mdef\u001b[0m \u001b[0mcreate_method\u001b[0m\u001b[1;33m(\u001b[0m\u001b[0mname\u001b[0m\u001b[1;33m,\u001b[0m \u001b[0mmethod\u001b[0m\u001b[1;33m)\u001b[0m\u001b[1;33m:\u001b[0m\u001b[1;33m\u001b[0m\u001b[1;33m\u001b[0m\u001b[0m\n\u001b[0;32m     84\u001b[0m             \u001b[1;32mdef\u001b[0m \u001b[0mmanager_method\u001b[0m\u001b[1;33m(\u001b[0m\u001b[0mself\u001b[0m\u001b[1;33m,\u001b[0m \u001b[1;33m*\u001b[0m\u001b[0margs\u001b[0m\u001b[1;33m,\u001b[0m \u001b[1;33m**\u001b[0m\u001b[0mkwargs\u001b[0m\u001b[1;33m)\u001b[0m\u001b[1;33m:\u001b[0m\u001b[1;33m\u001b[0m\u001b[1;33m\u001b[0m\u001b[0m\n\u001b[1;32m---> 85\u001b[1;33m                 \u001b[1;32mreturn\u001b[0m \u001b[0mgetattr\u001b[0m\u001b[1;33m(\u001b[0m\u001b[0mself\u001b[0m\u001b[1;33m.\u001b[0m\u001b[0mget_queryset\u001b[0m\u001b[1;33m(\u001b[0m\u001b[1;33m)\u001b[0m\u001b[1;33m,\u001b[0m \u001b[0mname\u001b[0m\u001b[1;33m)\u001b[0m\u001b[1;33m(\u001b[0m\u001b[1;33m*\u001b[0m\u001b[0margs\u001b[0m\u001b[1;33m,\u001b[0m \u001b[1;33m**\u001b[0m\u001b[0mkwargs\u001b[0m\u001b[1;33m)\u001b[0m\u001b[1;33m\u001b[0m\u001b[1;33m\u001b[0m\u001b[0m\n\u001b[0m\u001b[0;32m     86\u001b[0m             \u001b[0mmanager_method\u001b[0m\u001b[1;33m.\u001b[0m\u001b[0m__name__\u001b[0m \u001b[1;33m=\u001b[0m \u001b[0mmethod\u001b[0m\u001b[1;33m.\u001b[0m\u001b[0m__name__\u001b[0m\u001b[1;33m\u001b[0m\u001b[1;33m\u001b[0m\u001b[0m\n\u001b[0;32m     87\u001b[0m             \u001b[0mmanager_method\u001b[0m\u001b[1;33m.\u001b[0m\u001b[0m__doc__\u001b[0m \u001b[1;33m=\u001b[0m \u001b[0mmethod\u001b[0m\u001b[1;33m.\u001b[0m\u001b[0m__doc__\u001b[0m\u001b[1;33m\u001b[0m\u001b[1;33m\u001b[0m\u001b[0m\n",
      "\u001b[1;32m~\\anaconda3\\envs\\django\\lib\\site-packages\\django\\db\\models\\query.py\u001b[0m in \u001b[0;36mget\u001b[1;34m(self, *args, **kwargs)\u001b[0m\n\u001b[0;32m    437\u001b[0m                 \u001b[0mself\u001b[0m\u001b[1;33m.\u001b[0m\u001b[0mmodel\u001b[0m\u001b[1;33m.\u001b[0m\u001b[0m_meta\u001b[0m\u001b[1;33m.\u001b[0m\u001b[0mobject_name\u001b[0m\u001b[1;33m\u001b[0m\u001b[1;33m\u001b[0m\u001b[0m\n\u001b[0;32m    438\u001b[0m             )\n\u001b[1;32m--> 439\u001b[1;33m         raise self.model.MultipleObjectsReturned(\n\u001b[0m\u001b[0;32m    440\u001b[0m             'get() returned more than one %s -- it returned %s!' % (\n\u001b[0;32m    441\u001b[0m                 \u001b[0mself\u001b[0m\u001b[1;33m.\u001b[0m\u001b[0mmodel\u001b[0m\u001b[1;33m.\u001b[0m\u001b[0m_meta\u001b[0m\u001b[1;33m.\u001b[0m\u001b[0mobject_name\u001b[0m\u001b[1;33m,\u001b[0m\u001b[1;33m\u001b[0m\u001b[1;33m\u001b[0m\u001b[0m\n",
      "\u001b[1;31mMultipleObjectsReturned\u001b[0m: get() returned more than one Question -- it returned 7!"
     ]
    }
   ],
   "source": [
    "q = Question.objects.get(pk__gt=1)  #  where pk>1 : 1개 이상이 조회되는 경우 get()-MultipleObjectㄴReturned Exception 발생"
   ]
  },
  {
   "cell_type": "code",
   "execution_count": 22,
   "id": "c2dd8b55",
   "metadata": {},
   "outputs": [
    {
     "name": "stdout",
     "output_type": "stream",
     "text": [
      "SELECT \"poll_question\".\"id\", \"poll_question\".\"question_text\", \"poll_question\".\"pub_date\" FROM \"poll_question\" WHERE \"poll_question\".\"question_text\" LIKE %동물?% ESCAPE '\\'\n"
     ]
    }
   ],
   "source": [
    "# 조회조건\n",
    "qs = Question.objects.filter(pk__lt=3) # pk < 3\n",
    "qs = Question.objects.filter(pk__lte=3) # pk <= 3\n",
    "qs = Question.objects.filter(pk__gt=3) # pk > 3\n",
    "qs = Question.objects.filter(pk__gte=3) # pk >= 3\n",
    "qs = Question.objects.filter(pk__in=[1,4,6]) # pk = (1,4,6)\n",
    "qs = Question.objects.filter(pk__range=[2,5]) # pk between 2 and 5\n",
    "qs = Question.objects.filter(question_text__startswith=\"좋아하는\") # question_text like '좋아하는%' 좋아하는 으로 시작하는\n",
    "qs = Question.objects.filter(question_text__endswith=\"무엇입니까?\") # question_text like '%무엇입니까?' 무엇입니까로 끝나는\n",
    "qs = Question.objects.filter(question_text__contains=\"동물?\") # question_text like '%동물%' 동물이 들어간\n",
    "print(qs.query)\n",
    "\n",
    "for m in qs:\n",
    "    print(m.pk, m.question_text)"
   ]
  },
  {
   "cell_type": "code",
   "execution_count": 23,
   "id": "90a45eb0",
   "metadata": {},
   "outputs": [],
   "source": [
    "qs = Question.objects.filter(question_text__contains=\"동물?\") # question_text like '%동물%' 동물이 들어간\n",
    "\n",
    "for m in qs:\n",
    "    print(m.pk, m.question_text)"
   ]
  },
  {
   "cell_type": "code",
   "execution_count": 24,
   "id": "3e7683a8",
   "metadata": {},
   "outputs": [
    {
     "name": "stdout",
     "output_type": "stream",
     "text": [
      "<QuerySet [<Question: 좋아하는 동물은 무엇입니까?>]>\n"
     ]
    }
   ],
   "source": [
    "print(Question.objects.filter(pk=2))"
   ]
  },
  {
   "cell_type": "markdown",
   "id": "f29fc9a2",
   "metadata": {},
   "source": [
    "## AND 로 조건을 묶는 경우\n",
    "- 조회함수들의 매개변수에 조건들을 나열해 준다."
   ]
  },
  {
   "cell_type": "code",
   "execution_count": 25,
   "id": "cb80bcfd",
   "metadata": {},
   "outputs": [
    {
     "name": "stdout",
     "output_type": "stream",
     "text": [
      "SELECT \"poll_question\".\"id\", \"poll_question\".\"question_text\", \"poll_question\".\"pub_date\" FROM \"poll_question\" WHERE (\"poll_question\".\"id\" = 2 AND \"poll_question\".\"question_text\" LIKE 좋아하는% ESCAPE '\\')\n",
      "2 좋아하는 동물은 무엇입니까?\n"
     ]
    }
   ],
   "source": [
    "# pk=2 and q_text가 \"좋아하는으로 시작\"\n",
    "qs = Question.objects.filter(pk=2, question_text__startswith='좋아하는')\n",
    "\n",
    "print(qs.query)\n",
    "for m in qs:\n",
    "    print(m.pk, m.question_text)"
   ]
  },
  {
   "cell_type": "markdown",
   "id": "63c75020",
   "metadata": {},
   "source": [
    "## OR 로 조건들을 묶는 경우\n",
    "- 개별 조건을 Q()에 넣고 `|` 사용"
   ]
  },
  {
   "cell_type": "code",
   "execution_count": 26,
   "id": "ae80d994",
   "metadata": {},
   "outputs": [
    {
     "name": "stdout",
     "output_type": "stream",
     "text": [
      "SELECT \"poll_question\".\"id\", \"poll_question\".\"question_text\", \"poll_question\".\"pub_date\" FROM \"poll_question\" WHERE (\"poll_question\".\"id\" < 3 OR \"poll_question\".\"question_text\" LIKE %어디인가요? ESCAPE '\\')\n",
      "1 좋아하는 색깔은 무엇입니까?\n",
      "2 좋아하는 동물은 무엇입니까?\n"
     ]
    }
   ],
   "source": [
    "# pk<3 or question_text like '%무엇입니까?'\n",
    "from django.db.models import Q\n",
    "\n",
    "qs = Question.objects.filter(Q(pk__lt=3) | Q(question_text__endswith='어디인가요?'))\n",
    "\n",
    "print(qs.query)\n",
    "for m in qs:\n",
    "    print(m.pk, m.question_text)"
   ]
  },
  {
   "cell_type": "markdown",
   "id": "e4a9204d",
   "metadata": {},
   "source": [
    "## 컬럼선택, 정렬\n",
    "- values(조회할 컬럼 변수 나열): 컬럼선택\n",
    "    - 조회한 데이터를 dictionary에 넣어서 반환. QuerySet[{},{}]\n",
    "- order_by(기준컬럼): 정렬-ASC(기본) \"-컬럼명\": DESC"
   ]
  },
  {
   "cell_type": "code",
   "execution_count": 27,
   "id": "c89f8cb4",
   "metadata": {},
   "outputs": [
    {
     "name": "stdout",
     "output_type": "stream",
     "text": [
      "SELECT \"poll_choice\".\"choice_text\", \"poll_choice\".\"vote\" FROM \"poll_choice\"\n",
      "검정색\t0\n",
      "빨강색\t0\n",
      "파랑색\t0\n",
      "강아지\t0\n",
      "고양이\t0\n",
      "수달\t0\n",
      "아일랜드\t0\n",
      "중국\t0\n",
      "아르헨티나\t0\n",
      "바퀴벌레\t0\n",
      "귀뚜라미\t0\n",
      "돈벌레\t0\n",
      "아메리카노\t0\n",
      "콜라\t0\n",
      "포카리스웨트\t0\n",
      "김치찌개\t0\n",
      "카레라이스\t0\n",
      "삼겹살\t0\n",
      "닭머리구이\t0\n",
      "가지볶음\t0\n",
      "레몬\t0\n",
      "게임하기\t0\n",
      "수다떨기\t0\n",
      "잠자기\t0\n"
     ]
    }
   ],
   "source": [
    "qs = Choice.objects.all().values('choice_text', 'vote') # select choice_text, vote from choice\n",
    "# qs = Choice.objects.values('choice_text', 'vote').all() # 순서가 바뀌어도 상관 없다\n",
    "\n",
    "print(qs.query)\n",
    "# qs\n",
    "for m in qs:\n",
    "#     print(m.pk, m.choice_text, m.vote, m.question, sep='\\t')\n",
    "    print(m['choice_text'], m['vote'], sep='\\t')"
   ]
  },
  {
   "cell_type": "code",
   "execution_count": 28,
   "id": "160c20c7",
   "metadata": {},
   "outputs": [
    {
     "name": "stdout",
     "output_type": "stream",
     "text": [
      "SELECT \"poll_choice\".\"id\", \"poll_choice\".\"choice_text\" FROM \"poll_choice\" WHERE \"poll_choice\".\"id\" < 7 ORDER BY \"poll_choice\".\"choice_text\" DESC, \"poll_choice\".\"id\" ASC\n",
      "3 파랑색\n",
      "6 수달\n",
      "2 빨강색\n",
      "5 고양이\n",
      "1 검정색\n",
      "4 강아지\n"
     ]
    }
   ],
   "source": [
    "# qs = Choice.objects.values('id', 'choice_text').all().order_by('choice_text')  # choice_text를 기준으로 ASC정렬\n",
    "# qs = Choice.objects.values('id', 'choice_text').all().order_by('-choice_text')  # choice_text를 기준으로 DESC정렬\n",
    "# qs = Choice.objects.values('id', 'choice_text').all().order_by('-choice_text', 'id')  # choice DESC, id ASC?\n",
    "qs = Choice.objects.values('id', 'choice_text').filter(pk__lt=7).order_by('-choice_text', 'id')\n",
    "print(qs.query)\n",
    "for m in qs:\n",
    "    print(m['id'], m['choice_text'])"
   ]
  },
  {
   "cell_type": "markdown",
   "id": "a80e17aa",
   "metadata": {},
   "source": [
    "## 집계함수"
   ]
  },
  {
   "cell_type": "code",
   "execution_count": 29,
   "id": "3fae1866",
   "metadata": {},
   "outputs": [
    {
     "name": "stdout",
     "output_type": "stream",
     "text": [
      "24 24\n"
     ]
    }
   ],
   "source": [
    "# 조회한 데이터에 개수 조회\n",
    "# QuerySet.count()\n",
    "qs = Choice.objects.all()\n",
    "print(qs.count(), len(qs))"
   ]
  },
  {
   "cell_type": "markdown",
   "id": "a6edb6b1",
   "metadata": {},
   "source": [
    "```\n",
    "select 컬럼명 - values()\n",
    "from 테이블명 - 모델클래스명\n",
    "where 조건 - filter, exclude, get 메소드\n",
    "\n",
    "order by 정렬조건 - order_by()메소드\n",
    "```"
   ]
  },
  {
   "cell_type": "code",
   "execution_count": 30,
   "id": "28fbfcf2",
   "metadata": {},
   "outputs": [],
   "source": [
    "# 집계함수들 import\n",
    "from django.db.models import Count, Sum, Avg, Min, Max, StdDev, Variance"
   ]
  },
  {
   "cell_type": "code",
   "execution_count": 31,
   "id": "b9257cd8",
   "metadata": {},
   "outputs": [
    {
     "data": {
      "text/plain": [
       "{'vote__count': 24,\n",
       " 'vote__sum': 0,\n",
       " 'vote__avg': 0.0,\n",
       " 'vote__min': 0,\n",
       " 'vote__max': 0,\n",
       " 'vote__stddev': 0.0,\n",
       " 'vote__variance': 0.0}"
      ]
     },
     "execution_count": 31,
     "metadata": {},
     "output_type": "execute_result"
    }
   ],
   "source": [
    "# 전체 데이터셋 기준 집계\n",
    "# select count(vote)\n",
    "result = Choice.objects.aggregate(Count('vote'), Sum('vote'),\n",
    "                                  Avg('vote'), Min('vote'), Max('vote'),\n",
    "                                 StdDev('vote'), Variance('vote'))\n",
    "result"
   ]
  },
  {
   "cell_type": "code",
   "execution_count": 32,
   "id": "1a165df9",
   "metadata": {},
   "outputs": [
    {
     "data": {
      "text/plain": [
       "0.0"
      ]
     },
     "execution_count": 32,
     "metadata": {},
     "output_type": "execute_result"
    }
   ],
   "source": [
    "# 결과 key: field이름__집계이름\n",
    "# result.keys()\n",
    "result['vote__avg']"
   ]
  },
  {
   "cell_type": "code",
   "execution_count": 33,
   "id": "98f484d8",
   "metadata": {},
   "outputs": [
    {
     "data": {
      "text/plain": [
       "{'pub_date__min': datetime.datetime(2021, 10, 5, 8, 17, 25, 995438, tzinfo=<UTC>),\n",
       " 'pub_date__max': datetime.datetime(2021, 10, 5, 8, 40, 15, 948636, tzinfo=<UTC>)}"
      ]
     },
     "execution_count": 33,
     "metadata": {},
     "output_type": "execute_result"
    }
   ],
   "source": [
    "# select min(pub_date)\n",
    "# datetime, data, time 타입: min-과거, max-미래\n",
    "result2 = Question.objects.aggregate(Min('pub_date'), Max('pub_date'))\n",
    "result2"
   ]
  },
  {
   "cell_type": "code",
   "execution_count": 34,
   "id": "9765a7a2",
   "metadata": {},
   "outputs": [
    {
     "name": "stdout",
     "output_type": "stream",
     "text": [
      "<class 'datetime.datetime'>\n"
     ]
    },
    {
     "data": {
      "text/plain": [
       "(2021, 10, 5, 8, 17, 25)"
      ]
     },
     "execution_count": 34,
     "metadata": {},
     "output_type": "execute_result"
    }
   ],
   "source": [
    "min_date  = result2['pub_date__min']\n",
    "print(type(min_date))\n",
    "min_date.year, min_date.month, min_date.day, min_date.hour, min_date.minute, min_date.second"
   ]
  },
  {
   "cell_type": "code",
   "execution_count": 35,
   "id": "3657c3c9",
   "metadata": {},
   "outputs": [
    {
     "name": "stdout",
     "output_type": "stream",
     "text": [
      "2021년 10월 <class 'str'>\n"
     ]
    }
   ],
   "source": [
    "# datetime.strftime(\"형식문자\") %Y: 연도, %m:월, %d:일, %M:분, %S: 초 => 원하는 형식의 문자열로 변환\n",
    "r = min_date.strftime(\"%Y년 %m월\")\n",
    "print(r, type(r))"
   ]
  },
  {
   "cell_type": "code",
   "execution_count": 36,
   "id": "63d8748f",
   "metadata": {},
   "outputs": [
    {
     "name": "stdout",
     "output_type": "stream",
     "text": [
      "{'question': 1, 'vote__sum': 0, 'vote__avg': 0.0, 'choice_text__max': '파랑색'}\n",
      "{'question': 2, 'vote__sum': 0, 'vote__avg': 0.0, 'choice_text__max': '수달'}\n",
      "{'question': 3, 'vote__sum': 0, 'vote__avg': 0.0, 'choice_text__max': '중국'}\n",
      "{'question': 4, 'vote__sum': 0, 'vote__avg': 0.0, 'choice_text__max': '바퀴벌레'}\n",
      "{'question': 6, 'vote__sum': 0, 'vote__avg': 0.0, 'choice_text__max': '포카리스웨트'}\n",
      "{'question': 7, 'vote__sum': 0, 'vote__avg': 0.0, 'choice_text__max': '카레라이스'}\n",
      "{'question': 8, 'vote__sum': 0, 'vote__avg': 0.0, 'choice_text__max': '레몬'}\n",
      "{'question': 9, 'vote__sum': 0, 'vote__avg': 0.0, 'choice_text__max': '잠자기'}\n"
     ]
    }
   ],
   "source": [
    "# groupby\n",
    "# select sum(vote),...from choice groupby question\n",
    "# 문자열 min:a max:z\n",
    "result3 = Choice.objects.values('question').annotate(Sum(\"vote\"), Avg('vote'), Max('choice_text'))  \n",
    "for d in result3:\n",
    "    print(d)"
   ]
  },
  {
   "cell_type": "code",
   "execution_count": 37,
   "id": "dc979395",
   "metadata": {},
   "outputs": [
    {
     "name": "stdout",
     "output_type": "stream",
     "text": [
      "8\n"
     ]
    }
   ],
   "source": [
    "# having절 처리 함수는 없다.\n",
    "# select sum(vote),... from choice groupby question having sum(vote)>50\n",
    "print(result3.count())\n",
    "for d in result3:\n",
    "    if d['vote__sum'] > 50:  # having절 조건\n",
    "        print(d)"
   ]
  },
  {
   "cell_type": "code",
   "execution_count": 38,
   "id": "f4a94506",
   "metadata": {},
   "outputs": [],
   "source": [
    "for d in result3:\n",
    "    if d['vote__sum'] > 50:\n",
    "        print(d)"
   ]
  },
  {
   "cell_type": "markdown",
   "id": "4c3c6f2d",
   "metadata": {},
   "source": [
    "## 테이블간의 관계\n",
    "### JOIN\n",
    "자식테이블에서 부모테이블값을 조회\n",
    "- Question: 부모\n",
    "- Choice: 자식"
   ]
  },
  {
   "cell_type": "code",
   "execution_count": 39,
   "id": "6dd78cd2",
   "metadata": {},
   "outputs": [
    {
     "data": {
      "text/plain": [
       "('검정색', 0)"
      ]
     },
     "execution_count": 39,
     "metadata": {},
     "output_type": "execute_result"
    }
   ],
   "source": [
    "c = Choice.objects.get(pk=1)\n",
    "type(c), c\n",
    "c.choice_text, c.vote"
   ]
  },
  {
   "cell_type": "code",
   "execution_count": 40,
   "id": "0dc0534d",
   "metadata": {},
   "outputs": [
    {
     "data": {
      "text/plain": [
       "(poll.models.Question,\n",
       " 1,\n",
       " '좋아하는 색깔은 무엇입니까?',\n",
       " datetime.datetime(2021, 10, 5, 8, 17, 25, 995438, tzinfo=<UTC>))"
      ]
     },
     "execution_count": 40,
     "metadata": {},
     "output_type": "execute_result"
    }
   ],
   "source": [
    "# pk가 1인 보기의 질문?\n",
    "q = c.question\n",
    "type(q), q.pk, q.question_text, q.pub_date"
   ]
  },
  {
   "cell_type": "code",
   "execution_count": 41,
   "id": "37237404",
   "metadata": {},
   "outputs": [],
   "source": [
    "# pk 2인 choice(보기)의 보기내용, vote, 질문"
   ]
  },
  {
   "cell_type": "code",
   "execution_count": 47,
   "id": "37e3c853",
   "metadata": {},
   "outputs": [
    {
     "data": {
      "text/plain": [
       "('빨강색', 1, '좋아하는 색깔은 무엇입니까?')"
      ]
     },
     "execution_count": 47,
     "metadata": {},
     "output_type": "execute_result"
    }
   ],
   "source": [
    "# quiz\n",
    "c = Choice.objects.get(pk=2)\n",
    "q = c.question\n",
    "c.choice_text, q.pk, q.question_text"
   ]
  },
  {
   "cell_type": "code",
   "execution_count": 49,
   "id": "18afc741",
   "metadata": {},
   "outputs": [
    {
     "name": "stdout",
     "output_type": "stream",
     "text": [
      "빨강색 0 좋아하는 색깔은 무엇입니까?\n"
     ]
    }
   ],
   "source": [
    "# pk 2인 choice(보기)의 보기내용, vote, 질문\n",
    "try:\n",
    "    id=2\n",
    "    result_choice = Choice.objects.get(pk=id)\n",
    "    print(result_choice.choice_text, result_choice.vote, result_choice.question.question_text)\n",
    "#     result_choice.question: Question 객체\n",
    "except:\n",
    "    print(f\"{id}는 없는 보기입니다.\")"
   ]
  },
  {
   "cell_type": "code",
   "execution_count": 50,
   "id": "bc615a2f",
   "metadata": {},
   "outputs": [
    {
     "name": "stdout",
     "output_type": "stream",
     "text": [
      "2\t빨강색\t좋아하는 색깔은 무엇입니까?\n",
      "3\t파랑색\t좋아하는 색깔은 무엇입니까?\n",
      "4\t강아지\t좋아하는 동물은 무엇입니까?\n",
      "5\t고양이\t좋아하는 동물은 무엇입니까?\n"
     ]
    }
   ],
   "source": [
    "# pk 2~5인 보기의 text, vote, 질문\n",
    "result = Choice.objects.filter(pk__range=[2,5])\n",
    "for choice in result:\n",
    "    print(choice.pk, choice.choice_text, choice.question.question_text, sep='\\t')"
   ]
  },
  {
   "cell_type": "markdown",
   "id": "752e5ac1",
   "metadata": {},
   "source": [
    "### 부모테이블에서 자식테이블값 조회"
   ]
  },
  {
   "cell_type": "code",
   "execution_count": 51,
   "id": "7ddf39ba",
   "metadata": {},
   "outputs": [
    {
     "name": "stdout",
     "output_type": "stream",
     "text": [
      "<class 'poll.models.Question'> 좋아하는 색깔은 무엇입니까?\n",
      "1 좋아하는 색깔은 무엇입니까? 2021-10-05 08:17:25.995438+00:00\n"
     ]
    }
   ],
   "source": [
    "q = Question.objects.get(pk=1)\n",
    "print(type(q), q)\n",
    "print(q.pk, q.question_text, q.pub_date)"
   ]
  },
  {
   "cell_type": "code",
   "execution_count": 55,
   "id": "97d86a28",
   "metadata": {},
   "outputs": [
    {
     "data": {
      "text/plain": [
       "django.db.models.query.QuerySet"
      ]
     },
     "execution_count": 55,
     "metadata": {},
     "output_type": "execute_result"
    }
   ],
   "source": [
    "# 조회한 Question(부모)의 Choice(자식)들 조회\n",
    "c_qs = q.choice_set.all()\n",
    "type(c_qs)"
   ]
  },
  {
   "cell_type": "code",
   "execution_count": 56,
   "id": "d7846210",
   "metadata": {},
   "outputs": [
    {
     "data": {
      "text/plain": [
       "django.db.models.manager.Manager"
      ]
     },
     "execution_count": 56,
     "metadata": {},
     "output_type": "execute_result"
    }
   ],
   "source": [
    "type(Choice.objects)"
   ]
  },
  {
   "cell_type": "code",
   "execution_count": 58,
   "id": "7bb2322e",
   "metadata": {},
   "outputs": [
    {
     "name": "stdout",
     "output_type": "stream",
     "text": [
      "1\t검정색\t0\n",
      "2\t빨강색\t0\n",
      "3\t파랑색\t0\n"
     ]
    }
   ],
   "source": [
    "for c in c_qs:\n",
    "    print(c.pk, c.choice_text, c.vote, sep='\\t')"
   ]
  },
  {
   "cell_type": "code",
   "execution_count": 61,
   "id": "8c83a76f",
   "metadata": {},
   "outputs": [
    {
     "name": "stdout",
     "output_type": "stream",
     "text": [
      "1 좋아하는 색깔은 무엇입니까?\n",
      "\t 1 검정색 0\n",
      "\t 2 빨강색 0\n",
      "\t 3 파랑색 0\n",
      "2 좋아하는 동물은 무엇입니까?\n",
      "\t 4 강아지 0\n",
      "\t 5 고양이 0\n",
      "\t 6 수달 0\n",
      "3 가고 싶은 나라를 선택하세요\n",
      "\t 7 아일랜드 0\n",
      "\t 8 중국 0\n",
      "\t 9 아르헨티나 0\n",
      "4 싫어하는 생물은 무엇입니까?\n",
      "\t 10 바퀴벌레 0\n",
      "\t 11 귀뚜라미 0\n",
      "\t 12 돈벌레 0\n"
     ]
    }
   ],
   "source": [
    "# pk가 5~7 인 질문으 ㅣ질문 id, 질문내용, 보기의 id, 보기의내용 출력\n",
    "result = Question.objects.filter(pk__range=[1,4])\n",
    "for q in result:\n",
    "    print(q.pk, q.question_text)\n",
    "    choice_qs = q.choice_set.all()\n",
    "    for choice in choice_qs:\n",
    "        print(\"\\t\", choice.pk, choice.choice_text, choice.vote)"
   ]
  },
  {
   "cell_type": "markdown",
   "id": "de5dcfaf",
   "metadata": {},
   "source": [
    "# insert/update/delete\n",
    "- insert/update\n",
    "    - 모델객체.save()\n",
    "    - 모델객체가 insert/update할 데이터를 가지고 있다.\n",
    "- delete\n",
    "    - 모델객체.delete()\n",
    "    - 모델객체가 삭제할 데이터의 pk를 가지고 있다."
   ]
  },
  {
   "cell_type": "code",
   "execution_count": 64,
   "id": "71a55b06",
   "metadata": {},
   "outputs": [
    {
     "name": "stdout",
     "output_type": "stream",
     "text": [
      "1\t좋아하는 색깔은 무엇입니까?\t2021-10-05 08:17:25.995438+00:00\n",
      "2\t좋아하는 동물은 무엇입니까?\t2021-10-05 08:17:53.396382+00:00\n",
      "3\t가고 싶은 나라를 선택하세요\t2021-10-05 08:18:04.822499+00:00\n",
      "4\t싫어하는 생물은 무엇입니까?\t2021-10-05 08:18:12.638679+00:00\n",
      "6\t좋아하는 음료는 무엇입니까?\t2021-10-05 08:39:48.548109+00:00\n",
      "7\t좋아하는 음식은 무엇입니까?\t2021-10-05 08:39:59.301268+00:00\n",
      "8\t싫어하는 음식은 무엇입니까?\t2021-10-05 08:40:09.059864+00:00\n",
      "9\t취미는 무엇입니까?\t2021-10-05 08:40:15.948636+00:00\n"
     ]
    }
   ],
   "source": [
    "def get_question_list():\n",
    "    qs = Question.objects.all()\n",
    "    for q in qs:\n",
    "        print(q.pk, q.question_text, q.pub_date, sep='\\t')\n",
    "\n",
    "get_question_list()"
   ]
  },
  {
   "cell_type": "code",
   "execution_count": 67,
   "id": "98e3ba32",
   "metadata": {},
   "outputs": [
    {
     "name": "stdout",
     "output_type": "stream",
     "text": [
      "None 새로운 질문 2021-10-06 16:08:25.361248\n"
     ]
    }
   ],
   "source": [
    "from datetime import datetime\n",
    "# insert\n",
    "# insert할 데이터를 가진 Model 객체를 생성. 객체. save()\n",
    "new_q = Question(question_text=\"새로운 질문\", pub_date=datetime.now())  # pk(id)는 자동증가이므로 넣지 않음.\n",
    "print(new_q.pk, new_q.question_text, new_q.pub_date)\n",
    "new_q.save()"
   ]
  },
  {
   "cell_type": "code",
   "execution_count": 68,
   "id": "56aacdbd",
   "metadata": {},
   "outputs": [
    {
     "name": "stdout",
     "output_type": "stream",
     "text": [
      "1\t좋아하는 색깔은 무엇입니까?\t2021-10-05 08:17:25.995438+00:00\n",
      "2\t좋아하는 동물은 무엇입니까?\t2021-10-05 08:17:53.396382+00:00\n",
      "3\t가고 싶은 나라를 선택하세요\t2021-10-05 08:18:04.822499+00:00\n",
      "4\t싫어하는 생물은 무엇입니까?\t2021-10-05 08:18:12.638679+00:00\n",
      "6\t좋아하는 음료는 무엇입니까?\t2021-10-05 08:39:48.548109+00:00\n",
      "7\t좋아하는 음식은 무엇입니까?\t2021-10-05 08:39:59.301268+00:00\n",
      "8\t싫어하는 음식은 무엇입니까?\t2021-10-05 08:40:09.059864+00:00\n",
      "9\t취미는 무엇입니까?\t2021-10-05 08:40:15.948636+00:00\n",
      "10\t새로운 질문\t2021-10-06 07:08:25.369236+00:00\n"
     ]
    }
   ],
   "source": [
    "get_question_list()"
   ]
  },
  {
   "cell_type": "code",
   "execution_count": 70,
   "id": "51179aec",
   "metadata": {},
   "outputs": [
    {
     "name": "stderr",
     "output_type": "stream",
     "text": [
      "C:\\Users\\Playdata\\anaconda3\\envs\\django\\lib\\site-packages\\django\\db\\models\\fields\\__init__.py:1416: RuntimeWarning: DateTimeField Question.pub_date received a naive datetime (2021-10-06 16:13:21.442500) while time zone support is active.\n",
      "  warnings.warn(\"DateTimeField %s received a naive datetime (%s)\"\n"
     ]
    }
   ],
   "source": [
    "# update\n",
    "# update 할 데이터를 가진 Model 객체를 생성, 객체.save()\n",
    "# pk는 테이블에 있는 값을 가지고 있어야 한다. 변경되지 않을 값은 원래값을 그대로 가지고 있어야 한다.\n",
    "update_q = Question(pk=10, question_text=\"새로운 질문\", pub_date=datetime.now())\n",
    "# id가 9인 질문의 pub_date값을 현재시간으로 update\n",
    "# update question set pub_date=sysdate where id=9\n",
    "update_q.save()"
   ]
  },
  {
   "cell_type": "code",
   "execution_count": 71,
   "id": "3c3d8639",
   "metadata": {},
   "outputs": [
    {
     "name": "stdout",
     "output_type": "stream",
     "text": [
      "1\t좋아하는 색깔은 무엇입니까?\t2021-10-05 08:17:25.995438+00:00\n",
      "2\t좋아하는 동물은 무엇입니까?\t2021-10-05 08:17:53.396382+00:00\n",
      "3\t가고 싶은 나라를 선택하세요\t2021-10-05 08:18:04.822499+00:00\n",
      "4\t싫어하는 생물은 무엇입니까?\t2021-10-05 08:18:12.638679+00:00\n",
      "6\t좋아하는 음료는 무엇입니까?\t2021-10-05 08:39:48.548109+00:00\n",
      "7\t좋아하는 음식은 무엇입니까?\t2021-10-05 08:39:59.301268+00:00\n",
      "8\t싫어하는 음식은 무엇입니까?\t2021-10-05 08:40:09.059864+00:00\n",
      "9\t취미는 무엇입니까?\t2021-10-05 08:40:15.948636+00:00\n",
      "10\t새로운 질문\t2021-10-06 07:13:21.442500+00:00\n"
     ]
    }
   ],
   "source": [
    "get_question_list()"
   ]
  },
  {
   "cell_type": "code",
   "execution_count": 76,
   "id": "8f4878b0",
   "metadata": {},
   "outputs": [],
   "source": [
    "q = Question.objects.get(pk=9)\n",
    "q.question_text = '취미는 무엇입니까?'\n",
    "# q.pk, q.question_text, q.pub_date\n",
    "q.save()"
   ]
  },
  {
   "cell_type": "code",
   "execution_count": 77,
   "id": "66f9c479",
   "metadata": {},
   "outputs": [
    {
     "name": "stdout",
     "output_type": "stream",
     "text": [
      "1\t좋아하는 색깔은 무엇입니까?\t2021-10-05 08:17:25.995438+00:00\n",
      "2\t좋아하는 동물은 무엇입니까?\t2021-10-05 08:17:53.396382+00:00\n",
      "3\t가고 싶은 나라를 선택하세요\t2021-10-05 08:18:04.822499+00:00\n",
      "4\t싫어하는 생물은 무엇입니까?\t2021-10-05 08:18:12.638679+00:00\n",
      "6\t좋아하는 음료는 무엇입니까?\t2021-10-05 08:39:48.548109+00:00\n",
      "7\t좋아하는 음식은 무엇입니까?\t2021-10-05 08:39:59.301268+00:00\n",
      "8\t싫어하는 음식은 무엇입니까?\t2021-10-05 08:40:09.059864+00:00\n",
      "9\t취미는 무엇입니까?\t2021-10-05 08:40:15.948636+00:00\n",
      "10\t새로운 질문\t2021-10-06 07:13:21.442500+00:00\n"
     ]
    }
   ],
   "source": [
    "get_question_list()"
   ]
  },
  {
   "cell_type": "code",
   "execution_count": 78,
   "id": "fdfc3ae0",
   "metadata": {},
   "outputs": [
    {
     "data": {
      "text/plain": [
       "(10, '', None)"
      ]
     },
     "execution_count": 78,
     "metadata": {},
     "output_type": "execute_result"
    }
   ],
   "source": [
    "# delete\n",
    "# 삭제할 pk값을 가진 model을 생성. model.delete()\n",
    "delete_q = Question(pk=10)\n",
    "delete_q.pk, delete_q.question_text, delete_q.pub_date"
   ]
  },
  {
   "cell_type": "code",
   "execution_count": 79,
   "id": "756ec829",
   "metadata": {},
   "outputs": [
    {
     "name": "stdout",
     "output_type": "stream",
     "text": [
      "1\t좋아하는 색깔은 무엇입니까?\t2021-10-05 08:17:25.995438+00:00\n",
      "2\t좋아하는 동물은 무엇입니까?\t2021-10-05 08:17:53.396382+00:00\n",
      "3\t가고 싶은 나라를 선택하세요\t2021-10-05 08:18:04.822499+00:00\n",
      "4\t싫어하는 생물은 무엇입니까?\t2021-10-05 08:18:12.638679+00:00\n",
      "6\t좋아하는 음료는 무엇입니까?\t2021-10-05 08:39:48.548109+00:00\n",
      "7\t좋아하는 음식은 무엇입니까?\t2021-10-05 08:39:59.301268+00:00\n",
      "8\t싫어하는 음식은 무엇입니까?\t2021-10-05 08:40:09.059864+00:00\n",
      "9\t취미는 무엇입니까?\t2021-10-05 08:40:15.948636+00:00\n",
      "10\t새로운 질문\t2021-10-06 07:13:21.442500+00:00\n"
     ]
    }
   ],
   "source": [
    "get_question_list()"
   ]
  },
  {
   "cell_type": "code",
   "execution_count": 80,
   "id": "b695ce0d",
   "metadata": {},
   "outputs": [
    {
     "data": {
      "text/plain": [
       "(1,\n",
       " '좋아하는 색깔은 무엇입니까?',\n",
       " datetime.datetime(2021, 10, 5, 8, 17, 25, 995438, tzinfo=<UTC>))"
      ]
     },
     "execution_count": 80,
     "metadata": {},
     "output_type": "execute_result"
    }
   ],
   "source": [
    "delete_q2 = Question.objects.get(pk=1)\n",
    "delete_q2.pk, delete_q2.question_text, delete_q2.pub_date"
   ]
  },
  {
   "cell_type": "code",
   "execution_count": 86,
   "id": "cc810981",
   "metadata": {
    "collapsed": true
   },
   "outputs": [
    {
     "ename": "AssertionError",
     "evalue": "Question object can't be deleted because its id attribute is set to None.",
     "output_type": "error",
     "traceback": [
      "\u001b[1;31m---------------------------------------------------------------------------\u001b[0m",
      "\u001b[1;31mAssertionError\u001b[0m                            Traceback (most recent call last)",
      "\u001b[1;32m~\\AppData\\Local\\Temp/ipykernel_18128/2528136663.py\u001b[0m in \u001b[0;36m<module>\u001b[1;34m\u001b[0m\n\u001b[1;32m----> 1\u001b[1;33m \u001b[0mdelete_q2\u001b[0m\u001b[1;33m.\u001b[0m\u001b[0mdelete\u001b[0m\u001b[1;33m(\u001b[0m\u001b[1;33m)\u001b[0m\u001b[1;33m\u001b[0m\u001b[1;33m\u001b[0m\u001b[0m\n\u001b[0m\u001b[0;32m      2\u001b[0m \u001b[1;31m# (4: 총 delete된 데이터 수, {'poll.Choice': Choice 테이블에서 삭제된 데이터 수, 'poll.Question': Question 테이블에서 삭제된 데이터수})\u001b[0m\u001b[1;33m\u001b[0m\u001b[1;33m\u001b[0m\u001b[1;33m\u001b[0m\u001b[0m\n",
      "\u001b[1;32m~\\anaconda3\\envs\\django\\lib\\site-packages\\django\\db\\models\\base.py\u001b[0m in \u001b[0;36mdelete\u001b[1;34m(self, using, keep_parents)\u001b[0m\n\u001b[0;32m    945\u001b[0m     \u001b[1;32mdef\u001b[0m \u001b[0mdelete\u001b[0m\u001b[1;33m(\u001b[0m\u001b[0mself\u001b[0m\u001b[1;33m,\u001b[0m \u001b[0musing\u001b[0m\u001b[1;33m=\u001b[0m\u001b[1;32mNone\u001b[0m\u001b[1;33m,\u001b[0m \u001b[0mkeep_parents\u001b[0m\u001b[1;33m=\u001b[0m\u001b[1;32mFalse\u001b[0m\u001b[1;33m)\u001b[0m\u001b[1;33m:\u001b[0m\u001b[1;33m\u001b[0m\u001b[1;33m\u001b[0m\u001b[0m\n\u001b[0;32m    946\u001b[0m         \u001b[0musing\u001b[0m \u001b[1;33m=\u001b[0m \u001b[0musing\u001b[0m \u001b[1;32mor\u001b[0m \u001b[0mrouter\u001b[0m\u001b[1;33m.\u001b[0m\u001b[0mdb_for_write\u001b[0m\u001b[1;33m(\u001b[0m\u001b[0mself\u001b[0m\u001b[1;33m.\u001b[0m\u001b[0m__class__\u001b[0m\u001b[1;33m,\u001b[0m \u001b[0minstance\u001b[0m\u001b[1;33m=\u001b[0m\u001b[0mself\u001b[0m\u001b[1;33m)\u001b[0m\u001b[1;33m\u001b[0m\u001b[1;33m\u001b[0m\u001b[0m\n\u001b[1;32m--> 947\u001b[1;33m         assert self.pk is not None, (\n\u001b[0m\u001b[0;32m    948\u001b[0m             \u001b[1;34m\"%s object can't be deleted because its %s attribute is set to None.\"\u001b[0m \u001b[1;33m%\u001b[0m\u001b[1;33m\u001b[0m\u001b[1;33m\u001b[0m\u001b[0m\n\u001b[0;32m    949\u001b[0m             \u001b[1;33m(\u001b[0m\u001b[0mself\u001b[0m\u001b[1;33m.\u001b[0m\u001b[0m_meta\u001b[0m\u001b[1;33m.\u001b[0m\u001b[0mobject_name\u001b[0m\u001b[1;33m,\u001b[0m \u001b[0mself\u001b[0m\u001b[1;33m.\u001b[0m\u001b[0m_meta\u001b[0m\u001b[1;33m.\u001b[0m\u001b[0mpk\u001b[0m\u001b[1;33m.\u001b[0m\u001b[0mattname\u001b[0m\u001b[1;33m)\u001b[0m\u001b[1;33m\u001b[0m\u001b[1;33m\u001b[0m\u001b[0m\n",
      "\u001b[1;31mAssertionError\u001b[0m: Question object can't be deleted because its id attribute is set to None."
     ]
    }
   ],
   "source": [
    "delete_q2.delete()\n",
    "# (4: 총 delete된 데이터 수, {'poll.Choice': Choice 테이블에서 삭제된 데이터 수, 'poll.Question': Question 테이블에서 삭제된 데이터수})"
   ]
  },
  {
   "cell_type": "code",
   "execution_count": 85,
   "id": "a44affb4",
   "metadata": {},
   "outputs": [
    {
     "data": {
      "text/plain": [
       "<QuerySet []>"
      ]
     },
     "execution_count": 85,
     "metadata": {},
     "output_type": "execute_result"
    }
   ],
   "source": [
    "# 1번 테이블을 지우니까 1번 밑에 있던 답들도 다 지워짐. 이유는 model에서 cascade\n",
    "Choice.objects.filter(question=1)"
   ]
  },
  {
   "cell_type": "markdown",
   "id": "7f810b5d",
   "metadata": {},
   "source": [
    "# 직접 SQL문을 작성해서 실행\n",
    "- 모델.objects.raw(\"select문\")\n",
    "    - select 문만 가능. "
   ]
  },
  {
   "cell_type": "code",
   "execution_count": 92,
   "id": "cb2aa9ce",
   "metadata": {},
   "outputs": [
    {
     "name": "stdout",
     "output_type": "stream",
     "text": [
      "4 강아지 0\n",
      "5 고양이 0\n",
      "6 수달 0\n",
      "7 아일랜드 0\n",
      "8 중국 0\n",
      "9 아르헨티나 0\n",
      "10 바퀴벌레 0\n",
      "11 귀뚜라미 0\n",
      "12 돈벌레 0\n",
      "13 아메리카노 0\n",
      "14 콜라 0\n",
      "15 포카리스웨트 0\n",
      "16 김치찌개 0\n",
      "17 카레라이스 0\n",
      "18 삼겹살 0\n",
      "19 닭머리구이 0\n",
      "20 가지볶음 0\n",
      "21 레몬 0\n",
      "22 게임하기 0\n",
      "23 수다떨기 0\n",
      "24 잠자기 0\n"
     ]
    }
   ],
   "source": [
    "sql = 'SELECT * FROM poll_choice'\n",
    "rq = Choice.objects.raw(sql)  # select 문을 실행하고 그 결과를 Choice객체에 담에준다.\n",
    "for d in rq:\n",
    "    print(d.id, d.choice_text, d.vote)"
   ]
  },
  {
   "cell_type": "code",
   "execution_count": null,
   "id": "6617737c",
   "metadata": {},
   "outputs": [],
   "source": []
  },
  {
   "cell_type": "code",
   "execution_count": null,
   "id": "04610077",
   "metadata": {},
   "outputs": [],
   "source": []
  },
  {
   "cell_type": "code",
   "execution_count": null,
   "id": "dbbad5af",
   "metadata": {},
   "outputs": [],
   "source": []
  }
 ],
 "metadata": {
  "kernelspec": {
   "display_name": "Python 3 (ipykernel)",
   "language": "python",
   "name": "python3"
  },
  "language_info": {
   "codemirror_mode": {
    "name": "ipython",
    "version": 3
   },
   "file_extension": ".py",
   "mimetype": "text/x-python",
   "name": "python",
   "nbconvert_exporter": "python",
   "pygments_lexer": "ipython3",
   "version": "3.8.11"
  }
 },
 "nbformat": 4,
 "nbformat_minor": 5
}
