{
 "cells": [
  {
   "cell_type": "markdown",
   "metadata": {
    "id": "0N_pyZBFPq-6"
   },
   "source": [
    "[[step14. 정규표현식 학습 page로 이동](step14RegExp.ipynb) ] | [[step16.Decorator 학습 page로 이동](step16Decorator.ipynb) ]"
   ]
  },
  {
   "cell_type": "markdown",
   "metadata": {
    "id": "YihzMiVmPq-_"
   },
   "source": [
    "### 정규 표현식 익숙해 지기"
   ]
  },
  {
   "cell_type": "markdown",
   "metadata": {
    "id": "CxFsuQR4Pq_A"
   },
   "source": [
    "### [문자 클래스]\n",
    "\n",
    "1. [abc] - a, b, c중 한 개의 문자와 매치\n",
    "  - a : 매치여부 OK\n",
    "  - apple : ok\n",
    "  - double : no\n",
    "\n",
    "2. \\d   : 숫자와 매치, [0-9]와 동일\n",
    "\n",
    "3. \\D : 숫자가 아닌 것과 매치 [^0-9]와 동일\n",
    "\n",
    "4. \\s : whitespace 문자와 매치\n",
    "\n",
    "5. \\S : whitespace 문자가 아닌것과 매치, \n",
    "\n",
    "6. \\w : 문자 + 숫자와 매치, [a-zA-Z0-9]와 동일\n",
    "\n",
    "7. \\W : 문자+숫자가 아닌 문자와 매치. [^a-zA-Z0-9]와 동일\n",
    "  \n",
    "\n",
    "\n",
    "8. a.b : a와 b 사이에 줄바꿈 문자를 제외한 모든 문자 허용\n",
    "\n",
    "9. a[.]b : a와 b 사이에 dot 문자만 허용\n",
    "\n",
    "10. ca*t  : a 문자가 0번 이상 반복 허용\n",
    "\n",
    "11. ca+t :  a 문자가 1번 이상 반복 허용\n",
    "\n",
    "12. ca?t : a 문자가 없거나, 1번만 허용\n",
    "\n",
    "13. ca{3}t : a 문자가 3번 반복되면 매치\n",
    "\n",
    "14. ca{2, 3}t : a 문자가 2~3번 반복되면 매치\n"
   ]
  },
  {
   "cell_type": "code",
   "execution_count": 57,
   "metadata": {
    "id": "Srjq7riEPq_B"
   },
   "outputs": [],
   "source": [
    "import re"
   ]
  },
  {
   "cell_type": "code",
   "execution_count": 71,
   "metadata": {},
   "outputs": [
    {
     "name": "stdout",
     "output_type": "stream",
     "text": [
      "<re.Match object; span=(0, 6), match='python'>\n"
     ]
    }
   ],
   "source": [
    "p = re.compile('[a-z]+')\n",
    "m = p.match('python')\n",
    "print(m)"
   ]
  },
  {
   "cell_type": "code",
   "execution_count": 72,
   "metadata": {},
   "outputs": [
    {
     "name": "stdout",
     "output_type": "stream",
     "text": [
      "<re.Match object; span=(0, 1), match='p'>\n"
     ]
    }
   ],
   "source": [
    "p = re.compile('[a-z]')\n",
    "m = p.match('python')\n",
    "print(m)"
   ]
  },
  {
   "cell_type": "code",
   "execution_count": 69,
   "metadata": {},
   "outputs": [
    {
     "name": "stdout",
     "output_type": "stream",
     "text": [
      "<re.Match object; span=(0, 6), match='python'>\n"
     ]
    }
   ],
   "source": [
    "print(re.match('[a-z]+', 'python'))"
   ]
  },
  {
   "cell_type": "code",
   "execution_count": 73,
   "metadata": {},
   "outputs": [
    {
     "name": "stdout",
     "output_type": "stream",
     "text": [
      "<re.Match object; span=(0, 6), match='python'>\n"
     ]
    }
   ],
   "source": [
    "#search\n",
    "p = re.compile('[a-z]+')\n",
    "m = p.search('python')\n",
    "print(m)"
   ]
  },
  {
   "cell_type": "code",
   "execution_count": 75,
   "metadata": {},
   "outputs": [
    {
     "name": "stdout",
     "output_type": "stream",
     "text": [
      "<re.Match object; span=(0, 1), match='p'>\n"
     ]
    }
   ],
   "source": [
    "p = re.compile('[a-z]')\n",
    "m = p.search('python')\n",
    "print(m)"
   ]
  },
  {
   "cell_type": "code",
   "execution_count": 76,
   "metadata": {},
   "outputs": [
    {
     "name": "stdout",
     "output_type": "stream",
     "text": [
      "<re.Match object; span=(2, 3), match='p'>\n"
     ]
    }
   ],
   "source": [
    "p = re.compile('[a-z]')\n",
    "m = p.search('3 python')\n",
    "print(m)"
   ]
  },
  {
   "cell_type": "code",
   "execution_count": 80,
   "metadata": {},
   "outputs": [
    {
     "name": "stdout",
     "output_type": "stream",
     "text": [
      "['life', 'is', 'too', 'short']\n"
     ]
    }
   ],
   "source": [
    "p = re.compile('[a-z]+')\n",
    "m = p.findall('life is too short')\n",
    "print(m)"
   ]
  },
  {
   "cell_type": "code",
   "execution_count": 82,
   "metadata": {},
   "outputs": [
    {
     "name": "stdout",
     "output_type": "stream",
     "text": [
      "['life', 'is', 'too', 'short']\n"
     ]
    }
   ],
   "source": [
    "print(re.findall('[a-z]+','life is too short'))"
   ]
  },
  {
   "cell_type": "code",
   "execution_count": 83,
   "metadata": {},
   "outputs": [
    {
     "name": "stdout",
     "output_type": "stream",
     "text": [
      "['l', 'i', 'f', 'e', 'i', 's', 't', 'o', 'o', 's', 'h', 'o', 'r', 't']\n"
     ]
    }
   ],
   "source": [
    "p = re.compile('[a-z]')\n",
    "m = p.findall('life is too short')\n",
    "print(m)"
   ]
  },
  {
   "cell_type": "code",
   "execution_count": 95,
   "metadata": {},
   "outputs": [
    {
     "name": "stdout",
     "output_type": "stream",
     "text": [
      "<callable_iterator object at 0x000001FC34650F70>\n"
     ]
    }
   ],
   "source": [
    "p = re.compile('[a-z]')\n",
    "m = p.finditer('life is too short')\n",
    "print(m)"
   ]
  },
  {
   "cell_type": "code",
   "execution_count": 97,
   "metadata": {},
   "outputs": [
    {
     "name": "stdout",
     "output_type": "stream",
     "text": [
      "<callable_iterator object at 0x000001FC34743E20>\n"
     ]
    }
   ],
   "source": [
    "print(re.finditer('[a-z]','life is too short'))"
   ]
  },
  {
   "cell_type": "code",
   "execution_count": 92,
   "metadata": {},
   "outputs": [
    {
     "name": "stdout",
     "output_type": "stream",
     "text": [
      "<re.Match object; span=(0, 4), match='life'>\n",
      "<re.Match object; span=(5, 7), match='is'>\n",
      "<re.Match object; span=(8, 11), match='too'>\n",
      "<re.Match object; span=(12, 17), match='short'>\n"
     ]
    }
   ],
   "source": [
    "p = re.compile('[a-z]+')\n",
    "m = p.finditer('life is too short')\n",
    "for v in m:\n",
    "    print(v)"
   ]
  },
  {
   "cell_type": "code",
   "execution_count": 108,
   "metadata": {},
   "outputs": [
    {
     "name": "stdout",
     "output_type": "stream",
     "text": [
      "<re.Match object; span=(0, 4), match='life'>\n",
      "<re.Match object; span=(5, 7), match='is'>\n",
      "<re.Match object; span=(8, 11), match='too'>\n",
      "<re.Match object; span=(12, 17), match='short'>\n"
     ]
    }
   ],
   "source": [
    "m= re.finditer('[a-z]+','life is too short')\n",
    "for v in m:\n",
    "    print(v)"
   ]
  },
  {
   "cell_type": "markdown",
   "metadata": {},
   "source": [
    "match 객체의 메서드1"
   ]
  },
  {
   "cell_type": "code",
   "execution_count": 109,
   "metadata": {},
   "outputs": [
    {
     "name": "stdout",
     "output_type": "stream",
     "text": [
      "python\n",
      "0\n",
      "6\n",
      "(0, 6)\n"
     ]
    }
   ],
   "source": [
    "import re\n",
    "p = re.compile('[a-z]+')\n",
    "m = p.match('python')\n",
    "print(m.group())\n",
    "print(m.start())\n",
    "print(m.end())\n",
    "print(m.span())"
   ]
  },
  {
   "cell_type": "markdown",
   "metadata": {
    "id": "Fb_62GrPPq_C"
   },
   "source": [
    "1. 문제 : exxxxe 단어형식 즉 시작과 끝 철자가 e로 구성될수 있도록 정규식을 만들어 보기"
   ]
  },
  {
   "cell_type": "code",
   "execution_count": 111,
   "metadata": {},
   "outputs": [],
   "source": [
    "pattern = re.compile(\"e....e\")    # 가운데는 4글자(점 4개라서)"
   ]
  },
  {
   "cell_type": "code",
   "execution_count": 115,
   "metadata": {},
   "outputs": [
    {
     "name": "stdout",
     "output_type": "stream",
     "text": [
      "<re.Match object; span=(0, 6), match='encore'>\n"
     ]
    }
   ],
   "source": [
    "print(pattern.match('encore'))"
   ]
  },
  {
   "cell_type": "code",
   "execution_count": 116,
   "metadata": {},
   "outputs": [
    {
     "name": "stdout",
     "output_type": "stream",
     "text": [
      "None\n"
     ]
    }
   ],
   "source": [
    "print(pattern.match('enc-re'))"
   ]
  },
  {
   "cell_type": "code",
   "execution_count": 113,
   "metadata": {},
   "outputs": [],
   "source": [
    "pattern = re.compile(\"e[a-z]+e\")"
   ]
  },
  {
   "cell_type": "code",
   "execution_count": 117,
   "metadata": {},
   "outputs": [
    {
     "name": "stdout",
     "output_type": "stream",
     "text": [
      "<re.Match object; span=(0, 6), match='encore'>\n"
     ]
    }
   ],
   "source": [
    "print(pattern.match('encore'))"
   ]
  },
  {
   "cell_type": "code",
   "execution_count": 118,
   "metadata": {},
   "outputs": [
    {
     "name": "stdout",
     "output_type": "stream",
     "text": [
      "None\n"
     ]
    }
   ],
   "source": [
    "print(pattern.match('enc-re'))"
   ]
  },
  {
   "cell_type": "markdown",
   "metadata": {
    "id": "cKLN_iFDPq_C"
   },
   "source": [
    "2. 문제 - 설명에 부합되는 정규 표현식을 만들어라<br><br>\n",
    "data로 시작하며 data 다음에는 whitespace가 와야 하며, 그 뒤에는 문자와 숫자등이 조합될수 있는 단어가 와야 한다\n"
   ]
  },
  {
   "cell_type": "code",
   "execution_count": 119,
   "metadata": {
    "id": "TIIdZ4NDPq_D"
   },
   "outputs": [
    {
     "ename": "SyntaxError",
     "evalue": "invalid syntax (<ipython-input-119-9236ebb98535>, line 1)",
     "output_type": "error",
     "traceback": [
      "\u001b[1;36m  File \u001b[1;32m\"<ipython-input-119-9236ebb98535>\"\u001b[1;36m, line \u001b[1;32m1\u001b[0m\n\u001b[1;33m    ^data\\s\\w+\u001b[0m\n\u001b[1;37m    ^\u001b[0m\n\u001b[1;31mSyntaxError\u001b[0m\u001b[1;31m:\u001b[0m invalid syntax\n"
     ]
    }
   ],
   "source": [
    "^data\\s\\w+"
   ]
  },
  {
   "cell_type": "markdown",
   "metadata": {
    "id": "ao3-qz-CPq_D"
   },
   "source": [
    "3-1. 문제 - 000-0000-0000과 같은 전화번호 형태의 정규 표현식 만들기\n"
   ]
  },
  {
   "cell_type": "code",
   "execution_count": null,
   "metadata": {},
   "outputs": [],
   "source": [
    "\\d{3}-\\d{4}-\\d{4}"
   ]
  },
  {
   "cell_type": "markdown",
   "metadata": {
    "id": "mymX6WSXPq_E"
   },
   "source": [
    "3-2. 추가 문제 - 이름 000-0000-0000과 같은 전화번호 형태의 정규 표현식 만들기\n"
   ]
  },
  {
   "cell_type": "code",
   "execution_count": null,
   "metadata": {},
   "outputs": [],
   "source": [
    "(\\w+)\\s\\d+[-]\\d+[-]\\d+"
   ]
  },
  {
   "cell_type": "code",
   "execution_count": 141,
   "metadata": {},
   "outputs": [
    {
     "name": "stdout",
     "output_type": "stream",
     "text": [
      "<re.Match object; span=(0, 17), match='장수정 010-1234-5678'>\n"
     ]
    }
   ],
   "source": [
    "import re\n",
    "print(re.match('(\\w+)\\s\\d+[-]\\d+[-]\\d+','장수정 010-1234-5678'))"
   ]
  },
  {
   "cell_type": "markdown",
   "metadata": {
    "id": "tgiadhlCPq_E"
   },
   "source": [
    "4. 문제 : 제시된 실행 결과를 보고 pattern을 완성해 보기<br>\n",
    "t로 시작하는 단어 착출 가능한 pattern<br>\n",
    "\\* 결과 : 검색된 데이터 :  two<br>\n",
    "\\* 참고 : group() : 매치된 문자열을 리턴<br>"
   ]
  },
  {
   "cell_type": "code",
   "execution_count": 146,
   "metadata": {},
   "outputs": [
    {
     "name": "stdout",
     "output_type": "stream",
     "text": [
      "<re.Match object; span=(4, 7), match='two'>\n",
      "검색된 데이터 :  two\n"
     ]
    }
   ],
   "source": [
    "p = re.compile(\"t\\w+\")\n",
    "\n",
    "# 데이터가 존재하면 데이터 반환\n",
    "# 데이터가 미 존재하면 None 값 반환\n",
    "\n",
    "m = p.search('one two three') \n",
    "\n",
    "print(m)\n",
    "\n",
    "if m != None:\n",
    "    print('검색된 데이터 : ', m.group(0))\n",
    "else:\n",
    "    print('검색 불가')"
   ]
  },
  {
   "cell_type": "code",
   "execution_count": 147,
   "metadata": {},
   "outputs": [
    {
     "name": "stdout",
     "output_type": "stream",
     "text": [
      "None\n",
      "검색 불가\n"
     ]
    }
   ],
   "source": [
    "p = re.compile(\"^t\\w+\")\n",
    "m = p.search('one two three') \n",
    "print(m)\n",
    "\n",
    "if m != None:\n",
    "    print('검색된 데이터 : ', m.group(0))\n",
    "else:\n",
    "    print('검색 불가')"
   ]
  },
  {
   "cell_type": "markdown",
   "metadata": {
    "id": "KqEMKEJbPq_F"
   },
   "source": [
    "5. 문자열에서 \"python one\"만을 착출 할수 있는 pattern 만들기"
   ]
  },
  {
   "cell_type": "code",
   "execution_count": 55,
   "metadata": {
    "id": "Lm-csl0HPq_F"
   },
   "outputs": [
    {
     "name": "stdout",
     "output_type": "stream",
     "text": [
      "['python one', 'python two ', 'python three']\n"
     ]
    }
   ],
   "source": [
    "p = re.compile('python.+(?='')')\n",
    "\n",
    "data = \"\"\"python one\n",
    "life is too short\n",
    "python two \n",
    "you need python\n",
    "python three\"\"\"\n",
    "\n",
    "print(p.findall(data))"
   ]
  },
  {
   "cell_type": "code",
   "execution_count": null,
   "metadata": {
    "id": "Dxd07L7zPq_G",
    "outputId": "f1787d66-38e0-4fcc-890d-07a0ae110184"
   },
   "outputs": [
    {
     "name": "stdout",
     "output_type": "stream",
     "text": [
      "<re.Match object; span=(0, 10), match='python one'>\n"
     ]
    }
   ],
   "source": [
    "data = \"\"\"python one life is too short python two\n",
    "you need python\n",
    "python three\"\"\"\n",
    "\n",
    "print(p.search(data))"
   ]
  },
  {
   "cell_type": "code",
   "execution_count": null,
   "metadata": {
    "id": "oWFG5LTyPq_H",
    "outputId": "95d2f468-fcae-4ede-909e-9710c139d9e5"
   },
   "outputs": [
    {
     "name": "stdout",
     "output_type": "stream",
     "text": [
      "['python one']\n"
     ]
    }
   ],
   "source": [
    "\n",
    "data = \"\"\"python one \n",
    "life is too short \n",
    "python two \n",
    "you need python \n",
    "python three\"\"\"\n",
    "\n",
    "print(p.findall(data))"
   ]
  },
  {
   "cell_type": "code",
   "execution_count": null,
   "metadata": {
    "id": "paOa2WGXPq_I",
    "outputId": "4276b30d-63ce-4324-db12-7e26cf6599f2"
   },
   "outputs": [
    {
     "name": "stdout",
     "output_type": "stream",
     "text": [
      "['python one', 'python two', 'python three']\n"
     ]
    }
   ],
   "source": [
    "\n",
    "data = \"\"\"python one\n",
    "life is too short\n",
    "python two\n",
    "you need python\n",
    "python three\"\"\"\n",
    "\n",
    "print(p.findall(data))"
   ]
  },
  {
   "cell_type": "markdown",
   "metadata": {
    "id": "wWvjNUw6Pq_J"
   },
   "source": [
    "6. 문제 : 입력되는 데이터값을 주민등록 구조에 맞게 검증 및 뒷자리는 * 문자로 변경해 보기\n",
    "\\* 검증되는 데이터 구조 : 000000-0000000 여야 함<br>\n",
    "\\*힌트<br>\n",
    "\n",
    "> - \\\\d{숫자} : 숫자 및 숫자 자리수 표현\n",
    "> - sub(pattern, \"변경하게될데이터\", 원본데이터)\n",
    "        "
   ]
  },
  {
   "cell_type": "code",
   "execution_count": 158,
   "metadata": {},
   "outputs": [
    {
     "name": "stdout",
     "output_type": "stream",
     "text": [
      "970414-9999999\n",
      "970414-*******\n"
     ]
    }
   ],
   "source": [
    "string = input()\n",
    "p = re.compile('\\d{6}-\\d{7}')\n",
    "\n",
    "if p.match(string) == 'None':\n",
    "    print(\"무효\")\n",
    "else:\n",
    "    data = re.sub('\\d{7}','*******', string)\n",
    "    \n",
    "    print(data)"
   ]
  },
  {
   "cell_type": "markdown",
   "metadata": {
    "id": "SBBtmhiKPq_J"
   },
   "source": [
    "7. 문제 - 그룹핑 패턴을 활용하여 2222만 검색되게 해 주세요"
   ]
  },
  {
   "cell_type": "code",
   "execution_count": 150,
   "metadata": {
    "id": "klo7_776Pq_K"
   },
   "outputs": [
    {
     "name": "stdout",
     "output_type": "stream",
     "text": [
      "2222\n"
     ]
    }
   ],
   "source": [
    "# 실행시 데이터가 이상하게 표현이 잘 안된다 할 경우 r 표기 넣기\n",
    "pattern = re.compile(r\"(\\w+)(\\s+)(\\d+)[-](\\d+)[-](\\d+)\")\n",
    "\n",
    "data = pattern.search(\"유관순    010-1111-2222\")\n",
    "print(data.group(5))"
   ]
  },
  {
   "cell_type": "markdown",
   "metadata": {
    "id": "AMS2mrigPq_K"
   },
   "source": [
    "8. 문제 - \"파일명.확장자\" 형태의 패턴 구성하기 문제들"
   ]
  },
  {
   "cell_type": "code",
   "execution_count": null,
   "metadata": {
    "id": "vklfzepdPq_L",
    "outputId": "2c26c497-15b0-4e68-9ed2-d12d2e4ea0f1"
   },
   "outputs": [
    {
     "name": "stdout",
     "output_type": "stream",
     "text": [
      "<re.Match object; span=(0, 8), match='test.zip'>\n"
     ]
    }
   ],
   "source": [
    "# \"파일명.확장자\" 형태의 패턴 구성\n",
    "pattern = re.compile(?)\n",
    "\n",
    "data = pattern.match(\"test.zip\")\n",
    "print(data) "
   ]
  },
  {
   "cell_type": "code",
   "execution_count": null,
   "metadata": {
    "id": "_W5JN0-VPq_L",
    "outputId": "59f47c7d-84ac-43e3-d334-69ef9d01c56b"
   },
   "outputs": [
    {
     "name": "stdout",
     "output_type": "stream",
     "text": [
      "<re.Match object; span=(0, 8), match='test.txt'>\n"
     ]
    }
   ],
   "source": [
    "data = pattern.match(\"test.txt\")\n",
    "print(data) "
   ]
  },
  {
   "cell_type": "code",
   "execution_count": null,
   "metadata": {
    "id": "gZQnOxZAPq_M",
    "outputId": "314e2356-a428-4bb6-8961-b77524f559ae"
   },
   "outputs": [
    {
     "name": "stdout",
     "output_type": "stream",
     "text": [
      "None\n"
     ]
    }
   ],
   "source": [
    "data = p.match(\"testzip\")\n",
    "print(data) # None"
   ]
  },
  {
   "cell_type": "code",
   "execution_count": null,
   "metadata": {
    "id": "f466pAU6Pq_M",
    "outputId": "d17dd745-f06f-437e-b1b7-4cc44c2a846f"
   },
   "outputs": [
    {
     "name": "stdout",
     "output_type": "stream",
     "text": [
      "<re.Match object; span=(0, 8), match='test.zip'>\n"
     ]
    }
   ],
   "source": [
    "# # \"파일명.확장자\" 형태의 패턴 구성\n",
    "# 단 bat는 제외(힌트 : b로 시작하는 것 제외하기)\n",
    "pattern = re.compile(?)\n",
    "\n",
    "data = pattern.match(\"test.zip\")\n",
    "print(data) \n"
   ]
  },
  {
   "cell_type": "code",
   "execution_count": null,
   "metadata": {
    "id": "W8s5OtEYPq_N",
    "outputId": "773253db-5262-4c22-febc-1332876638fd"
   },
   "outputs": [
    {
     "name": "stdout",
     "output_type": "stream",
     "text": [
      "None\n"
     ]
    }
   ],
   "source": [
    "data = pattern.match(\"test.bat\")\n",
    "print(data) "
   ]
  },
  {
   "cell_type": "markdown",
   "metadata": {
    "id": "fUCMDfBLPq_N"
   },
   "source": [
    "9. 문제 - 별도의 함수로 개발 하기 <br>\n",
    "문자열에 특정 문자 집합 (이 경우 a-z, A-Z 및 0-9)으로만 구성되어 있는지 확인하는 함수 개발 하기\n",
    "\n",
    "- compile(\"정규표현식패턴만\")\n",
    "pattern = re.compile(  ?  )  정규표현식으로 컴파일(기능을 보유하게 만든 상태)한 패턴을 변수에 대입\n",
    "- pattern.search('검증받을 데이터만 적용') data = pattern.search(data)\n"
   ]
  },
  {
   "cell_type": "code",
   "execution_count": 152,
   "metadata": {
    "id": "s-dqftx3Pq_O",
    "outputId": "c4f6ba46-5ad1-4c46-abfe-87d9cf20ad9f"
   },
   "outputs": [
    {
     "name": "stdout",
     "output_type": "stream",
     "text": [
      "<re.Match object; span=(0, 1), match='t'>\n",
      "True\n",
      "None\n",
      "False\n"
     ]
    }
   ],
   "source": [
    "def dataCheck(data):\n",
    "    pattern = re.compile('[a-zA-Z0-9]')\n",
    "    data = pattern.search(data)\n",
    "    print(data)\n",
    "    return bool(data)    # True 또는 False 로 변환 \n",
    "    \n",
    "print (dataCheck(\"test\"))  # True\n",
    "\n",
    "print (dataCheck(\"*@#%$^\")) # False"
   ]
  },
  {
   "cell_type": "code",
   "execution_count": null,
   "metadata": {
    "id": "1V4KUq5wPq_O",
    "outputId": "51d017c1-cf1f-4c0c-83ee-33f715b20ae0"
   },
   "outputs": [
    {
     "name": "stdout",
     "output_type": "stream",
     "text": [
      "<class 'bool'>\n"
     ]
    }
   ],
   "source": [
    "print(type(bool()))"
   ]
  },
  {
   "cell_type": "code",
   "execution_count": null,
   "metadata": {
    "id": "O99_82NOPq_P",
    "outputId": "07bf508b-b732-470d-a305-322d8f426a6b"
   },
   "outputs": [
    {
     "name": "stdout",
     "output_type": "stream",
     "text": [
      "False\n"
     ]
    }
   ],
   "source": [
    "print(bool(None))"
   ]
  },
  {
   "cell_type": "code",
   "execution_count": null,
   "metadata": {
    "id": "7_YT-AvsPq_P",
    "outputId": "7b94496c-0ce0-4467-b527-28d266e709a5"
   },
   "outputs": [
    {
     "name": "stdout",
     "output_type": "stream",
     "text": [
      "True\n"
     ]
    }
   ],
   "source": [
    "print(bool(\"None\"))"
   ]
  },
  {
   "cell_type": "code",
   "execution_count": null,
   "metadata": {
    "id": "F_swYxjDPq_Q",
    "outputId": "b168a800-762f-43e7-9530-4070a5e67790"
   },
   "outputs": [
    {
     "name": "stdout",
     "output_type": "stream",
     "text": [
      "True\n"
     ]
    }
   ],
   "source": [
    "print(bool(\"data\"))"
   ]
  },
  {
   "cell_type": "markdown",
   "metadata": {
    "id": "ZMwhtOGOPq_Q"
   },
   "source": [
    "10. 문제 : 실행 결과가 True True True True True False False False 처럼 출력되게 정규 표현식을 완성하세요"
   ]
  },
  {
   "cell_type": "code",
   "execution_count": null,
   "metadata": {
    "id": "cBfpAcjzPq_Q",
    "outputId": "73210b25-294a-4f3e-f4c9-7ee5c7a956c1"
   },
   "outputs": [
    {
     "name": "stdout",
     "output_type": "stream",
     "text": [
      "True True True True True False False False "
     ]
    }
   ],
   "source": [
    "import re\n",
    "\n",
    "p = re.compile( ? )\n",
    "\n",
    "emails = ['python@mail.example.com', 'python+kr@example.com',              # 올바른 형식\n",
    "          'python-dojang@example.co.kr', 'python_10@example.info',         # 올바른 형식\n",
    "          'python.dojang@e-xample.com',                                    # 올바른 형식\n",
    "          '@example.com', 'python@example', 'python@example-com']          # 잘못된 형식\n",
    "\n",
    "for email in emails:\n",
    "    print(p.match(email) != None, end=' ')\n"
   ]
  },
  {
   "cell_type": "code",
   "execution_count": null,
   "metadata": {
    "id": "dYVIrJh3Pq_R"
   },
   "outputs": [],
   "source": []
  }
 ],
 "metadata": {
  "colab": {
   "collapsed_sections": [],
   "name": "step15RegExpTest.ipynb",
   "provenance": []
  },
  "kernelspec": {
   "display_name": "Python 3",
   "language": "python",
   "name": "python3"
  },
  "language_info": {
   "codemirror_mode": {
    "name": "ipython",
    "version": 3
   },
   "file_extension": ".py",
   "mimetype": "text/x-python",
   "name": "python",
   "nbconvert_exporter": "python",
   "pygments_lexer": "ipython3",
   "version": "3.8.5"
  }
 },
 "nbformat": 4,
 "nbformat_minor": 1
}
