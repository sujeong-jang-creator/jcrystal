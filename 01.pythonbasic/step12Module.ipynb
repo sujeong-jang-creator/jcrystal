{
 "cells": [
  {
   "cell_type": "markdown",
   "metadata": {},
   "source": [
    "<!--NAVIGATION-->\n",
    "\n",
    "\n",
    "[[step11.Object Oriented Programming 학습 page로 이동](step11OOP.ipynb) ] | [[step13.Fiile IO 학습 page로 이동](step13FileIO.ipynb) ]"
   ]
  },
  {
   "cell_type": "markdown",
   "metadata": {},
   "source": [
    "### 모듈이란?\n",
    "\n",
    "> 1. 함수나 변수들을 모아 놓은 library들 의미<br>\n",
    "&nbsp;&nbsp; 외부 library들 사용하는 방법, 외부에 내 코드를 공유하는 방법<br>\n",
    "\n",
    "> 2. 모듈 사용 방법 <br>\n",
    "2-1. 모듈의 파일 확장자 : py <br>\n",
    "2-2. 모듈 사용 문법<br>\n",
    "  &nbsp;&nbsp;&nbsp; a. import file명 <br>\n",
    "  &nbsp;&nbsp;&nbsp; b. from file명 import 함수명<br>\n"
   ]
  },
  {
   "cell_type": "code",
   "execution_count": null,
   "metadata": {},
   "outputs": [],
   "source": [
    "?\n",
    "\n",
    "def fib(n):\n",
    "    a, b = 0, 1\n",
    "    \n",
    "    while b<n:\n",
    "        print(b, end=' ')\n",
    "        a, b = b, a+b\n",
    "        \n",
    "        \n",
    "if __name__ == \"__main__\":\n",
    "    print(\"python은 직접 명령어로 실행 시 자동 호출되는 영역\")"
   ]
  },
  {
   "cell_type": "code",
   "execution_count": null,
   "metadata": {},
   "outputs": [],
   "source": [
    "import fibo \n",
    "\n",
    "fibo.fib.__name__"
   ]
  },
  {
   "cell_type": "markdown",
   "metadata": {},
   "source": [
    "python 명령어로 직접 프로그램 실행하는 방법\n",
    "\n",
    "도스창에선 >python file명.py"
   ]
  },
  {
   "cell_type": "code",
   "execution_count": null,
   "metadata": {},
   "outputs": [],
   "source": [
    "!python fibo.py"
   ]
  },
  {
   "cell_type": "code",
   "execution_count": null,
   "metadata": {},
   "outputs": [],
   "source": [
    "?"
   ]
  },
  {
   "cell_type": "code",
   "execution_count": null,
   "metadata": {},
   "outputs": [],
   "source": [
    "%%writefile mymath.py\n",
    "\n",
    "# jupyter notebook에서 python 파일 생성하는 명령어\n",
    "\n",
    "\n",
    "mypi = 3.14\n",
    "def add(a,b):\n",
    "    return a+b\n",
    "\n",
    "def area(r):\n",
    "    return r*r*mypi"
   ]
  },
  {
   "cell_type": "markdown",
   "metadata": {},
   "source": [
    "**미션- mymath 모듈의 각 메소드 호출 및 출력해 보기**"
   ]
  },
  {
   "cell_type": "code",
   "execution_count": null,
   "metadata": {},
   "outputs": [],
   "source": []
  },
  {
   "cell_type": "code",
   "execution_count": null,
   "metadata": {},
   "outputs": [],
   "source": []
  },
  {
   "cell_type": "code",
   "execution_count": null,
   "metadata": {},
   "outputs": [],
   "source": []
  }
 ],
 "metadata": {
  "kernelspec": {
   "display_name": "Python 3",
   "language": "python",
   "name": "python3"
  },
  "language_info": {
   "codemirror_mode": {
    "name": "ipython",
    "version": 3
   },
   "file_extension": ".py",
   "mimetype": "text/x-python",
   "name": "python",
   "nbconvert_exporter": "python",
   "pygments_lexer": "ipython3",
   "version": "3.8.5"
  }
 },
 "nbformat": 4,
 "nbformat_minor": 2
}
