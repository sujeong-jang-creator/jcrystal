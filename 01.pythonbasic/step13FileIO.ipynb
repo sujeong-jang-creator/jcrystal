{
 "cells": [
  {
   "cell_type": "markdown",
   "metadata": {},
   "source": [
    "[[step12. Module 학습 page로 이동](step12Module.ipynb) ] | [[step14. 정규표현식 학습 page로 이동](step14RegExp.ipynb) ]"
   ]
  },
  {
   "cell_type": "markdown",
   "metadata": {},
   "source": [
    "### 논리적인 파일 구조(데이터 입출력, IO(input/output))\n",
    "* 데이터 입출력 기본 : 오픈 -> 사용 -> 자원반환\n",
    "\n",
    ">1. 파일 안에는 바이트들이 순차적으로 저장되어 있고 맨 끝에는 <font color='red'> EOF(end-of-file) </font> 마커가 있음\n",
    "\n",
    ">2. 모든 파일은 입출력 동작이 발생하는 위치를 나타내는 위치 표시자(position indicator)를 가지고 있음\n",
    "\n",
    ">3. 텍스트 파일 읽고 쓰기<br>\n",
    "   - open(\"file 이름\", 파일열기모드, 인코딩) - 읽고 쓰기 둘다 가능<br>\n",
    "   \n",
    "   - 파일 열기 모드<br>\n",
    "       1. r : 읽기 모드(파일의 처음부터 read)<br>\n",
    "       2. w : 쓰기 모드(파일의 처음부터 쓰기, 파일이 없으면 생성, 존재하면 기존 내용은 지우고 새로 작성)<br>\n",
    "       3. a : 추가 모드(파일의 끝에 씀, 파일이 없으면 생성)<br>\n",
    "       4. r+ : 읽기 쓰기 모드(파일에 읽고 쓸수 있는 모드)\n",
    "    \n",
    ">4. test를 위한 데이터(파일들) 위치 : dataSet이라는 폴더에 저장되어 있음   \n",
    "\n",
    "<hr>\n",
    "\n",
    "**용어**\n",
    "library = api\n",
    "\n"
   ]
  },
  {
   "cell_type": "markdown",
   "metadata": {},
   "source": [
    "output.txt 파일 생성 및 데이터 출력\n",
    "\n",
    "한글 데이터 고려 - utf-8\n",
    "\n",
    "- 파일 생성 -> 데이터 출력 "
   ]
  },
  {
   "cell_type": "code",
   "execution_count": 4,
   "metadata": {},
   "outputs": [],
   "source": [
    "# output.txt 라는 파일에 utf-8 형식으로 생성 및 데이터 출력 기능의 객체 생성\n",
    "# 시스템에서 데이터 입출력시에는 IO 기능을 담당하는 시스템 자체의 기능 사용\n",
    "# open() : 시스템 자원 빌려 사용하겠다는 설정 \n",
    "# close()  : 시스템 자원 반납 필수 \n",
    "\n",
    "f = open('output.txt', 'w', encoding='utf-8')\n",
    "\n",
    "# 데이터 출력\n",
    "f.write('string')\n",
    "f.write('한글')\n",
    "f.write('\\ndata')  # \\n : newline 표현의 특수 기호\n",
    "\n",
    "# 자원 반납(필수, 생략시 시스템 메모리 이슈 발생 있음)\n",
    "f.close()"
   ]
  },
  {
   "cell_type": "markdown",
   "metadata": {},
   "source": [
    "파일 읽기 - 외부 일반 파일의 내용을 python 으로 read 하는 것 의미\n",
    "\n",
    "필수인 자원 반환을 자동으로 적용되게 코드 수정\n",
    "\n",
    "with로 시작되는 IO는 close() 자동 호출"
   ]
  },
  {
   "cell_type": "code",
   "execution_count": 5,
   "metadata": {},
   "outputs": [
    {
     "name": "stdout",
     "output_type": "stream",
     "text": [
      "string한글\n",
      "data\n",
      "--------------------\n"
     ]
    }
   ],
   "source": [
    "# 자원 점유 -> 활용 -> close 즉 자원 반환\n",
    "with open('output.txt', 'r', encoding='utf-8') as f:\n",
    "    print(f.read())  # file 내용을 한번에 read\n",
    "    print('-'*20)"
   ]
  },
  {
   "cell_type": "code",
   "execution_count": null,
   "metadata": {},
   "outputs": [],
   "source": []
  },
  {
   "cell_type": "markdown",
   "metadata": {},
   "source": [
    "줄단위로 파일에 쓰기\n",
    "\n",
    "- writelines()\n",
    "- join()"
   ]
  },
  {
   "cell_type": "code",
   "execution_count": 6,
   "metadata": {},
   "outputs": [
    {
     "name": "stdout",
     "output_type": "stream",
     "text": [
      "------------------------------\n"
     ]
    }
   ],
   "source": [
    "lines = ['a\\n', 'b\\n']\n",
    "\n",
    "with open('dataSet/output.txt', 'w', encoding='utf-8') as f:\n",
    "    f.writelines(lines) \n",
    "    print('-' * 30)\n",
    "    f.write('====')"
   ]
  },
  {
   "cell_type": "code",
   "execution_count": 7,
   "metadata": {},
   "outputs": [],
   "source": [
    "lines = ['a', 'b', 'c']\n",
    "\n",
    "with open('dataSet/output.txt', 'w', encoding='utf-8') as f:\n",
    "    f.writelines(lines)  #abc"
   ]
  },
  {
   "cell_type": "code",
   "execution_count": 1,
   "metadata": {},
   "outputs": [],
   "source": [
    "# lines 변수값 수정 불가, 6line에서 join 함수 활용하셔서 a newline b newline \n",
    "# 식으로 출력되게 가공\n",
    "\n",
    "lines = ['a', 'b', 'c']\n",
    "\n",
    "with open('dataSet/output.txt', 'w', encoding='utf-8') as f:\n",
    "    f.write('\\n'.join(lines)) "
   ]
  },
  {
   "cell_type": "code",
   "execution_count": 9,
   "metadata": {},
   "outputs": [],
   "source": [
    "lines = ['a', 'b', 'c']\n",
    "\n",
    "with open('dataSet/output.txt', 'w', encoding='utf-8') as f:\n",
    "    f.writelines('\\n'.join(lines))"
   ]
  },
  {
   "cell_type": "markdown",
   "metadata": {},
   "source": [
    "파일 데이터 읽기\n",
    "\n",
    "- read() : file의 모든 내용 read\n",
    "- readline() : file의 한 line read\n",
    "- readlines() : file의 모든 내용을 list 형태로 read/new line까지 read"
   ]
  },
  {
   "cell_type": "code",
   "execution_count": 10,
   "metadata": {},
   "outputs": [
    {
     "name": "stdout",
     "output_type": "stream",
     "text": [
      "a\n",
      "b\n",
      "c\n"
     ]
    }
   ],
   "source": [
    "with open('dataSet/output.txt', 'r', encoding='utf-8') as f:\n",
    "    print(f.read())"
   ]
  },
  {
   "cell_type": "code",
   "execution_count": 11,
   "metadata": {},
   "outputs": [
    {
     "name": "stdout",
     "output_type": "stream",
     "text": [
      "a\n",
      "\n"
     ]
    }
   ],
   "source": [
    "with open('dataSet/output.txt', 'r', encoding='utf-8') as f:\n",
    "    print(f.readline())"
   ]
  },
  {
   "cell_type": "code",
   "execution_count": 12,
   "metadata": {},
   "outputs": [
    {
     "name": "stdout",
     "output_type": "stream",
     "text": [
      "['a\\n', 'b\\n', 'c']\n"
     ]
    }
   ],
   "source": [
    "with open('dataSet/output.txt', 'r', encoding='utf-8') as f:\n",
    "    print(f.readlines())  "
   ]
  },
  {
   "cell_type": "code",
   "execution_count": 13,
   "metadata": {},
   "outputs": [
    {
     "name": "stdout",
     "output_type": "stream",
     "text": [
      "a\n",
      "b\n",
      "c"
     ]
    }
   ],
   "source": [
    "with open('dataSet/output.txt', 'r', encoding='utf-8') as f:\n",
    "    datas = f.readlines()\n",
    "    for v in datas:\n",
    "#         print(v) # 출력하고 newline 반영\n",
    "        print(v, end='')  # end='' 출력 "
   ]
  },
  {
   "cell_type": "markdown",
   "metadata": {},
   "source": [
    "**미션 - dataSet이라는 폴더 하위에 poem.txt 내용 read해서 콘솔에 출력**"
   ]
  },
  {
   "cell_type": "code",
   "execution_count": 14,
   "metadata": {},
   "outputs": [
    {
     "name": "stdout",
     "output_type": "stream",
     "text": [
      "내 속엔 내가 너무도 많아 당신의 쉴 곳 없네\n",
      "\n"
     ]
    }
   ],
   "source": [
    "with open('dataSet/poem.txt', 'r', encoding='utf-8') as f:\n",
    "    print(f.readline())"
   ]
  },
  {
   "cell_type": "code",
   "execution_count": 15,
   "metadata": {},
   "outputs": [
    {
     "name": "stdout",
     "output_type": "stream",
     "text": [
      "['내 속엔 내가 너무도 많아 당신의 쉴 곳 없네\\n', '내 속엔 헛된바램들로 당신의 편할 곳 없네\\n', '내 속엔 내가 어쩔 수 없는 어둠 당신의 쉴 자리를 뺏고\\n', '내 속엔 내가 이길 수 없는 슬픔 무성한 가시나무숲같네\\n', ' \\n', '바람만 불면 그 메마른가지 서로 부대끼며 울어대고\\n', '쉴곳을 찾아 지쳐 날아온 어린새들도 가시에 찔려 날아가고\\n', '바람만 불면 외롭고 또 괴로워 슬픈 노래를 부르던 날이 많았는데\\n', '\\n', '내 속엔 내가 너무도 많아서 당신의 쉴 곳 없네\\n', '\\n', '\\n', '바람만 불면 그 메마른가지 서로 부대끼며 울어대고\\n', '쉴곳을 찾아 지쳐 날아온 어린새들도 가시에 찔려 날아가고\\n', '바람만 불면 외롭고 또 괴로워 슬픈 노래를 부르던 날이 많았는데\\n', '\\n', '내 속엔 내가 너무도 많아서 당신의 쉴 곳 없네']\n"
     ]
    }
   ],
   "source": [
    "with open('dataSet/poem.txt', 'r', encoding='utf-8') as f:\n",
    "    print(f.readlines())"
   ]
  },
  {
   "cell_type": "code",
   "execution_count": 16,
   "metadata": {},
   "outputs": [
    {
     "name": "stdout",
     "output_type": "stream",
     "text": [
      "내 속엔 내가 너무도 많아 당신의 쉴 곳 없네\n",
      "내 속엔 헛된바램들로 당신의 편할 곳 없네\n",
      "내 속엔 내가 어쩔 수 없는 어둠 당신의 쉴 자리를 뺏고\n",
      "내 속엔 내가 이길 수 없는 슬픔 무성한 가시나무숲같네\n",
      " \n",
      "바람만 불면 그 메마른가지 서로 부대끼며 울어대고\n",
      "쉴곳을 찾아 지쳐 날아온 어린새들도 가시에 찔려 날아가고\n",
      "바람만 불면 외롭고 또 괴로워 슬픈 노래를 부르던 날이 많았는데\n",
      "\n",
      "내 속엔 내가 너무도 많아서 당신의 쉴 곳 없네\n",
      "\n",
      "\n",
      "바람만 불면 그 메마른가지 서로 부대끼며 울어대고\n",
      "쉴곳을 찾아 지쳐 날아온 어린새들도 가시에 찔려 날아가고\n",
      "바람만 불면 외롭고 또 괴로워 슬픈 노래를 부르던 날이 많았는데\n",
      "\n",
      "내 속엔 내가 너무도 많아서 당신의 쉴 곳 없네"
     ]
    }
   ],
   "source": [
    "with open('dataSet/poem.txt', 'r', encoding='utf-8') as f:\n",
    "    datas = f.readlines()\n",
    "   \n",
    "    for v in datas:\n",
    "        print(v, end='')  # end='' 출력 "
   ]
  },
  {
   "cell_type": "markdown",
   "metadata": {},
   "source": [
    "**미션 - dataSet.txt 파일을 만들고 #으로 시작하는 문장만 출력해 보기**\n",
    "- startwith() \n",
    "- 참고 : %%file dataSet.txt, 별도의 cell에 독립적으로 코딩시 실행 불가"
   ]
  },
  {
   "cell_type": "code",
   "execution_count": 17,
   "metadata": {
    "scrolled": true
   },
   "outputs": [
    {
     "name": "stdout",
     "output_type": "stream",
     "text": [
      "True\n",
      "False\n"
     ]
    }
   ],
   "source": [
    "data = 'encore'\n",
    "\n",
    "print(data.startswith('e'))\n",
    "print(data.startswith('p'))"
   ]
  },
  {
   "cell_type": "code",
   "execution_count": 18,
   "metadata": {},
   "outputs": [
    {
     "name": "stdout",
     "output_type": "stream",
     "text": [
      "True\n",
      "False\n"
     ]
    }
   ],
   "source": [
    "data = 'encore'\n",
    "\n",
    "print(data.startswith('en'))\n",
    "print(data.startswith('p'))"
   ]
  },
  {
   "cell_type": "code",
   "execution_count": 19,
   "metadata": {},
   "outputs": [
    {
     "name": "stdout",
     "output_type": "stream",
     "text": [
      "Overwriting dataSet.txt\n"
     ]
    }
   ],
   "source": [
    "%%file dataSet.txt   \n",
    "\n",
    "NumPy is the fundamental package for scientific computing with Python. It contains among other things:\n",
    "\n",
    "# comment1..\n",
    "\n",
    "  * a powerful N-dimensional array object\n",
    "  * sophisticated (broadcasting) functions\n",
    "  * tools for integrating C/C++ and Fortran code\n",
    "  * useful linear algebra, Fourier transform, and random number capabilities\n",
    "\n",
    "# comment2..\n",
    "\n",
    "Besides its obvious scientific uses, NumPy can also be used as an efficient multi-dimensional container of generic data. Arbitrary data-types can be defined. This allows NumPy to seamlessly and speedily integrate with a wide variety of databases.\n",
    "\n",
    "Numpy is licensed under the BSD license, enabling reuse with few restrictions."
   ]
  },
  {
   "cell_type": "markdown",
   "metadata": {},
   "source": [
    "답안 "
   ]
  },
  {
   "cell_type": "code",
   "execution_count": 20,
   "metadata": {},
   "outputs": [
    {
     "name": "stdout",
     "output_type": "stream",
     "text": [
      "# comment1..\n",
      "# comment2..\n"
     ]
    }
   ],
   "source": [
    "# ./dataSet.txt  or dataSet.txt 가 의미하는 경로 : 현재 위치 의미\n",
    "# . : 현재경로\n",
    "# .. : 상위경로\n",
    "\n",
    "with open('./dataSet.txt', 'r', encoding='utf-8') as f:\n",
    "    datas = f.readlines()\n",
    "   \n",
    "    for v in datas:\n",
    "        if v.startswith('#'):\n",
    "            print(v, end='')"
   ]
  },
  {
   "cell_type": "code",
   "execution_count": null,
   "metadata": {},
   "outputs": [],
   "source": []
  },
  {
   "cell_type": "markdown",
   "metadata": {},
   "source": [
    "**미션-줄 앞에 번호붙이기**\n",
    "\n",
    "- 텍스트 파일을 열어서 각 줄의 앞에 번호를 매겨서 다시 파일에 쓰는 프로그램을 작성해보자<br>\n",
    "- 참조 파일명 : dataSet/lineInsert.txt (dataSet 폴더에 있음)<br>\n",
    "- 출력 파일명 : dataSet/lineinsertoutput.txt <br>\n",
    "\n",
    "- 출력형식<br>\n",
    "1.All's well that ends well. <br>\n",
    "2.Bad news travels fast. <br>\n",
    "3.Well begun is half done. <br>\n",
    "4.Birds of a feather flock together. \n"
   ]
  },
  {
   "cell_type": "code",
   "execution_count": 21,
   "metadata": {},
   "outputs": [],
   "source": [
    "# 읽어 들일 파일 / 출력 해야 할 파일\n",
    "\n",
    "in_f = open('dataSet/lineInsert.txt', 'r', encoding='utf-8')\n",
    "output_f = open('dataSet/lineinsertoutput.txt', 'w', encoding='utf-8')\n",
    "\n",
    "for line in in_f:\n",
    "    output_f.write(line)\n",
    "    \n",
    "in_f.close()\n",
    "output_f.close()"
   ]
  },
  {
   "cell_type": "code",
   "execution_count": 22,
   "metadata": {},
   "outputs": [
    {
     "ename": "TypeError",
     "evalue": "write() takes exactly one argument (2 given)",
     "output_type": "error",
     "traceback": [
      "\u001b[1;31m---------------------------------------------------------------------------\u001b[0m",
      "\u001b[1;31mTypeError\u001b[0m                                 Traceback (most recent call last)",
      "\u001b[1;32m<ipython-input-22-05a0cdc1a63e>\u001b[0m in \u001b[0;36m<module>\u001b[1;34m\u001b[0m\n\u001b[0;32m      5\u001b[0m \u001b[1;33m\u001b[0m\u001b[0m\n\u001b[0;32m      6\u001b[0m \u001b[1;32mfor\u001b[0m \u001b[0mline\u001b[0m \u001b[1;32min\u001b[0m \u001b[0min_f\u001b[0m\u001b[1;33m:\u001b[0m\u001b[1;33m\u001b[0m\u001b[1;33m\u001b[0m\u001b[0m\n\u001b[1;32m----> 7\u001b[1;33m     \u001b[0moutput_f\u001b[0m\u001b[1;33m.\u001b[0m\u001b[0mwrite\u001b[0m\u001b[1;33m(\u001b[0m\u001b[1;36m1\u001b[0m\u001b[1;33m,\u001b[0m \u001b[0mline\u001b[0m\u001b[1;33m)\u001b[0m  \u001b[1;31m# 에러, argument는 하나여아만 함\u001b[0m\u001b[1;33m\u001b[0m\u001b[1;33m\u001b[0m\u001b[0m\n\u001b[0m\u001b[0;32m      8\u001b[0m \u001b[1;33m\u001b[0m\u001b[0m\n\u001b[0;32m      9\u001b[0m \u001b[0min_f\u001b[0m\u001b[1;33m.\u001b[0m\u001b[0mclose\u001b[0m\u001b[1;33m(\u001b[0m\u001b[1;33m)\u001b[0m\u001b[1;33m\u001b[0m\u001b[1;33m\u001b[0m\u001b[0m\n",
      "\u001b[1;31mTypeError\u001b[0m: write() takes exactly one argument (2 given)"
     ]
    }
   ],
   "source": [
    "# 읽어 들일 파일 / 출력 해야 할 파일\n",
    "\n",
    "in_f = open('dataSet/lineInsert.txt', 'r', encoding='utf-8')\n",
    "output_f = open('dataSet/lineinsertoutput.txt', 'w', encoding='utf-8')\n",
    "\n",
    "for line in in_f:\n",
    "    output_f.write(1, line)  # 에러, argument는 하나여아만 함\n",
    "    \n",
    "in_f.close()\n",
    "output_f.close()"
   ]
  },
  {
   "cell_type": "code",
   "execution_count": 23,
   "metadata": {},
   "outputs": [
    {
     "ename": "TypeError",
     "evalue": "unsupported operand type(s) for +: 'int' and 'str'",
     "output_type": "error",
     "traceback": [
      "\u001b[1;31m---------------------------------------------------------------------------\u001b[0m",
      "\u001b[1;31mTypeError\u001b[0m                                 Traceback (most recent call last)",
      "\u001b[1;32m<ipython-input-23-6462bc9d7b57>\u001b[0m in \u001b[0;36m<module>\u001b[1;34m\u001b[0m\n\u001b[0;32m      5\u001b[0m \u001b[1;33m\u001b[0m\u001b[0m\n\u001b[0;32m      6\u001b[0m \u001b[1;32mfor\u001b[0m \u001b[0mline\u001b[0m \u001b[1;32min\u001b[0m \u001b[0min_f\u001b[0m\u001b[1;33m:\u001b[0m\u001b[1;33m\u001b[0m\u001b[1;33m\u001b[0m\u001b[0m\n\u001b[1;32m----> 7\u001b[1;33m     \u001b[0moutput_f\u001b[0m\u001b[1;33m.\u001b[0m\u001b[0mwrite\u001b[0m\u001b[1;33m(\u001b[0m\u001b[1;36m1\u001b[0m \u001b[1;33m+\u001b[0m \u001b[0mline\u001b[0m\u001b[1;33m)\u001b[0m  \u001b[1;31m# 에러, int 와 str 태클, 1이 int 따라서 str 변환\u001b[0m\u001b[1;33m\u001b[0m\u001b[1;33m\u001b[0m\u001b[0m\n\u001b[0m\u001b[0;32m      8\u001b[0m \u001b[1;33m\u001b[0m\u001b[0m\n\u001b[0;32m      9\u001b[0m \u001b[0min_f\u001b[0m\u001b[1;33m.\u001b[0m\u001b[0mclose\u001b[0m\u001b[1;33m(\u001b[0m\u001b[1;33m)\u001b[0m\u001b[1;33m\u001b[0m\u001b[1;33m\u001b[0m\u001b[0m\n",
      "\u001b[1;31mTypeError\u001b[0m: unsupported operand type(s) for +: 'int' and 'str'"
     ]
    }
   ],
   "source": [
    "# 읽어 들일 파일 / 출력 해야 할 파일\n",
    "\n",
    "in_f = open('dataSet/lineInsert.txt', 'r', encoding='utf-8')\n",
    "output_f = open('dataSet/lineinsertoutput.txt', 'w', encoding='utf-8')\n",
    "\n",
    "for line in in_f:\n",
    "    output_f.write(1 + line)  # 에러, int 와 str 태클, 1이 int 따라서 str 변환\n",
    "    \n",
    "in_f.close()\n",
    "output_f.close()"
   ]
  },
  {
   "cell_type": "code",
   "execution_count": 25,
   "metadata": {},
   "outputs": [],
   "source": [
    "# 읽어 들일 파일 / 출력 해야 할 파일\n",
    "\n",
    "in_f = open('dataSet/lineInsert.txt', 'r', encoding='utf-8')\n",
    "output_f = open('dataSet/lineinsertoutput.txt', 'w', encoding='utf-8')\n",
    "\n",
    "for line in in_f:\n",
    "    output_f.write(str(1) + line)  # 정상 실행 \n",
    "    \n",
    "in_f.close()\n",
    "output_f.close()"
   ]
  },
  {
   "cell_type": "code",
   "execution_count": 26,
   "metadata": {},
   "outputs": [],
   "source": [
    "# 읽어 들일 파일 / 출력 해야 할 파일\n",
    "\n",
    "in_f = open('dataSet/lineInsert.txt', 'r', encoding='utf-8')\n",
    "output_f = open('dataSet/lineinsertoutput.txt', 'w', encoding='utf-8')\n",
    "\n",
    "for line in in_f:\n",
    "    output_f.write(str(1)+ '. ' + line)  # 정상 실행 \n",
    "    \n",
    "in_f.close()\n",
    "output_f.close()"
   ]
  },
  {
   "cell_type": "code",
   "execution_count": 27,
   "metadata": {},
   "outputs": [],
   "source": [
    "# 읽어 들일 파일 / 출력 해야 할 파일\n",
    "\n",
    "in_f = open('dataSet/lineInsert.txt', 'r', encoding='utf-8')\n",
    "output_f = open('dataSet/lineinsertoutput.txt', 'w', encoding='utf-8')\n",
    "\n",
    "i = 1\n",
    "\n",
    "for line in in_f:\n",
    "    output_f.write(str(i) + '. ' + line)\n",
    "    i += 1\n",
    "    \n",
    "in_f.close()\n",
    "output_f.close()"
   ]
  },
  {
   "cell_type": "code",
   "execution_count": 28,
   "metadata": {},
   "outputs": [
    {
     "name": "stdout",
     "output_type": "stream",
     "text": [
      "\n",
      "  * a powerful N-dimensional array object\n",
      "  * sophisticated (broadcasting) functions\n",
      "  * tools for integrating C/C++ and Fortran code\n",
      "  * useful linear algebra, Fourier transform, and random number capabilities\n",
      "\n"
     ]
    }
   ],
   "source": [
    "flag = False\n",
    "with open('dataSet.txt', 'r', encoding = 'utf-8') as f:\n",
    "    lst = f.readlines()\n",
    "    for row in lst:\n",
    "        if row.startswith('#') == True and flag == False:\n",
    "            flag = True\n",
    "        elif flag == True and row.startswith('#') == True:\n",
    "            flag = False\n",
    "        elif flag == True:\n",
    "            print(row, end = '')"
   ]
  },
  {
   "cell_type": "markdown",
   "metadata": {},
   "source": [
    "**미션-매출 파일 처리**\n",
    "\n",
    "- 텍스트 파일에 상점의 매출이 저장되어 있다. read해서 평균 매출과 총 매출을 계산한 후에 'result.txt'라는 파일에 출력하는 프로그램 작성해 보기<br>\n",
    "- 참조 파일명 : dataSet/sales.txt \n",
    "- 출력 형식 \n",
    "\n",
    "> 총매출 = 1000<br>\n",
    "평균 매출 = 200.0"
   ]
  },
  {
   "cell_type": "code",
   "execution_count": 29,
   "metadata": {},
   "outputs": [
    {
     "name": "stdout",
     "output_type": "stream",
     "text": [
      "[1000000, 1000000, 1000000, 500000, 1500000]\n",
      "1000000\n",
      "<class 'int'>\n"
     ]
    }
   ],
   "source": [
    "# sales.txt 파일의 각 line의 데이터 값들을 read해서 list에 저장\n",
    "# file 내용(데이터)을 프로그램에서 사용하기 위해 변수에 저장\n",
    "# 데이터값이 여러개 따라서 list에 저장\n",
    "# 연산을 해야 하기 때문에 타입이 숫자 유지\n",
    "values = []\n",
    "\n",
    "with open('dataSet/sales.txt', 'r', encoding='utf-8') as f:\n",
    "    for linedata in f:  \n",
    "        values.append(int(linedata))  \n",
    "        \n",
    "print(values)\n",
    "print(values[0])\n",
    "print(type(values[0]))"
   ]
  },
  {
   "cell_type": "code",
   "execution_count": 30,
   "metadata": {},
   "outputs": [
    {
     "name": "stdout",
     "output_type": "stream",
     "text": [
      "총매출 =  5000000\n",
      "총평균 =  1000000.0\n"
     ]
    }
   ],
   "source": [
    "sum = 0   \n",
    "for v in values:   \n",
    "    sum = sum + v    \n",
    "    \n",
    "print('총매출 = ', sum)\n",
    "print('총평균 = ', sum/len(values))\n",
    "\n",
    "with open('dataSet/result.txt', 'w', encoding='utf-8') as f:\n",
    "    f.write('총매출 = ' + str(sum) + '\\n')   \n",
    "    f.write('총평균 = ' + str(sum/len(values)))"
   ]
  },
  {
   "cell_type": "code",
   "execution_count": 60,
   "metadata": {},
   "outputs": [],
   "source": []
  },
  {
   "cell_type": "code",
   "execution_count": null,
   "metadata": {},
   "outputs": [],
   "source": []
  },
  {
   "cell_type": "code",
   "execution_count": null,
   "metadata": {},
   "outputs": [],
   "source": []
  }
 ],
 "metadata": {
  "kernelspec": {
   "display_name": "Python 3",
   "language": "python",
   "name": "python3"
  },
  "language_info": {
   "codemirror_mode": {
    "name": "ipython",
    "version": 3
   },
   "file_extension": ".py",
   "mimetype": "text/x-python",
   "name": "python",
   "nbconvert_exporter": "python",
   "pygments_lexer": "ipython3",
   "version": "3.8.5"
  }
 },
 "nbformat": 4,
 "nbformat_minor": 2
}
