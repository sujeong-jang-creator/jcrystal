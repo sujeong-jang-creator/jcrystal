{
 "cells": [
  {
   "cell_type": "markdown",
   "metadata": {
    "id": "niLpGsx9R06B"
   },
   "source": [
    "<!--NAVIGATION-->\n",
    "\n",
    "\n",
    "[[step01. 기본 연산 학습 page로 이동](step01Calculation.ipynb) ]   |   [[step03_1. 데이터 타입 학습 page로 이동](step03_1DataType.ipynb) ]"
   ]
  },
  {
   "cell_type": "markdown",
   "metadata": {
    "id": "bwhZBiyRR06H"
   },
   "source": [
    "## 조건문 & 반복문을 이용한 프로그램 응용력 향상하기\n",
    "\n",
    "1. 연산자\n",
    "> 1. = : 오른쪽의 데이터를 왼쪽에 대입(할당) 연산자\n",
    "> 2. == : 동등비교 연산자\n",
    "> 3. != : 부정 연산자\n",
    "\n",
    "2. 조건식\n",
    "> 1. pass : 아무것도 실행하지 않음, 단순히 실행할 코드가 없다는 의미\n",
    "> 2. continue : 해당 로직을 제외하고 다음 loop 실행하란 의미\n",
    "\n",
    "3. 반복문 : 동일한 명령문을 여러번 실행\n",
    "> 1. for : 정해진 횟수만큼  반복하는 구조<br>\n",
    "> 2. while : 어떤 조건이 만족되는 동안, 반복을 계속하는 구조"
   ]
  },
  {
   "cell_type": "markdown",
   "metadata": {
    "id": "AwuFhNV3shUb"
   },
   "source": [
    "4. 키워드\n",
    "> 1. def - 사용자 정의 함수를 만들겠다는 선언구\n",
    "> 2. return - 함수 내부에서 해당 함수를 호출한 곳으로 값을 돌려주는 키워드\n",
    "> 3. if / elif / else - 조건식\n",
    "> 4. True / Fals - boolean 표현\n"
   ]
  },
  {
   "cell_type": "code",
   "execution_count": 2,
   "metadata": {
    "id": "bSFXEulAR06K"
   },
   "outputs": [
    {
     "data": {
      "text/plain": [
       "'\\n조건문\\n1. 조건이 True인 경우에만 상황\\n\\n2. 조건이 True인 경우와 False인 경우 실행되는 로직이 명확히 구분되어야 할 상황\\n\\n3. 조건이 여러개인 경우의 상황\\n\\n\\n---\\n1. 로그인 인증\\n  ID/PW 둘다 인증\\n    경우의 수 1 - ID와 PW 비교시 ID도 True 그리고 PW도 True    O\\n    경우의 수 2 - ID는 True 또는 PW는 True   (ID가 True이거나 PW가 True 즉 둘중에 하나만 True여도 가능한 상황) X\\n    경우의 수 3 - ID는 True 그리고 PW는 False    X\\n    경우의 수 4 - ID는 False 그리고 PW는 True    X\\n    경우의 수 5 - ID는 False 그리고 PW는 False    X\\n\\n2. 의사 코드\\n  말로 하는 코딩\\n  말로 하는 로직의 흐름을 서술하는 형식 의사코드\\n  문법은 고려하지 않음을 표현\\n\\n  경우의 수 1 :  O\\n  만약에 ID가 True라면        if id==True\\n     PW가 True인지 비교          if pw==True\\n\\n  \\n  경우의 수 2 : O\\n  만약에 ID가 True이고 PW가 True인지 비교            if id==True and pw==True\\n\\n  경우의 수 3 - 부적합\\n      만약에 ID가 True이고 PW가 True인지 비교\\n    if id==True 개별 문장\\n    if pw==True 개별 문장    \\n\\n  '"
      ]
     },
     "execution_count": 2,
     "metadata": {},
     "output_type": "execute_result"
    }
   ],
   "source": [
    "'''\n",
    "조건문\n",
    "1. 조건이 True인 경우에만 상황\n",
    "\n",
    "2. 조건이 True인 경우와 False인 경우 실행되는 로직이 명확히 구분되어야 할 상황\n",
    "\n",
    "3. 조건이 여러개인 경우의 상황\n",
    "\n",
    "\n",
    "---\n",
    "1. 로그인 인증\n",
    "  ID/PW 둘다 인증\n",
    "    경우의 수 1 - ID와 PW 비교시 ID도 True 그리고 PW도 True    O\n",
    "    경우의 수 2 - ID는 True 또는 PW는 True   (ID가 True이거나 PW가 True 즉 둘중에 하나만 True여도 가능한 상황) X\n",
    "    경우의 수 3 - ID는 True 그리고 PW는 False    X\n",
    "    경우의 수 4 - ID는 False 그리고 PW는 True    X\n",
    "    경우의 수 5 - ID는 False 그리고 PW는 False    X\n",
    "\n",
    "2. 의사 코드\n",
    "  말로 하는 코딩\n",
    "  말로 하는 로직의 흐름을 서술하는 형식 의사코드\n",
    "  문법은 고려하지 않음을 표현\n",
    "\n",
    "  경우의 수 1 :  O\n",
    "  만약에 ID가 True라면        if id==True\n",
    "     PW가 True인지 비교          if pw==True\n",
    "\n",
    "  \n",
    "  경우의 수 2 : O\n",
    "  만약에 ID가 True이고 PW가 True인지 비교            if id==True and pw==True\n",
    "\n",
    "  경우의 수 3 - 부적합\n",
    "      만약에 ID가 True이고 PW가 True인지 비교\n",
    "    if id==True 개별 문장\n",
    "    if pw==True 개별 문장    \n",
    "\n",
    "  '''"
   ]
  },
  {
   "cell_type": "code",
   "execution_count": 1,
   "metadata": {
    "colab": {
     "base_uri": "https://localhost:8080/"
    },
    "executionInfo": {
     "elapsed": 616,
     "status": "ok",
     "timestamp": 1620874495523,
     "user": {
      "displayName": "장크리수탉",
      "photoUrl": "https://lh3.googleusercontent.com/a-/AOh14Gj_tF0bGYk1bA9R_pQsl8UBkVu_yPo_Yv3CGHQ6Gg=s64",
      "userId": "08446625624793440405"
     },
     "user_tz": -540
    },
    "id": "bmpG2n_9bRhR",
    "outputId": "77c672cf-c112-49cc-d273-169175a8a88f"
   },
   "outputs": [
    {
     "name": "stdout",
     "output_type": "stream",
     "text": [
      "True인 경우만 실행\n"
     ]
    }
   ],
   "source": [
    "# True인 경우만 고려하는 단일 조건식\n",
    "if True:\n",
    "  print(\"True인 경우만 실행\")"
   ]
  },
  {
   "cell_type": "code",
   "execution_count": 4,
   "metadata": {
    "colab": {
     "base_uri": "https://localhost:8080/"
    },
    "executionInfo": {
     "elapsed": 589,
     "status": "ok",
     "timestamp": 1620870872425,
     "user": {
      "displayName": "장크리수탉",
      "photoUrl": "https://lh3.googleusercontent.com/a-/AOh14Gj_tF0bGYk1bA9R_pQsl8UBkVu_yPo_Yv3CGHQ6Gg=s64",
      "userId": "08446625624793440405"
     },
     "user_tz": -540
    },
    "id": "vbm5_KCwbcrH",
    "outputId": "0a829f00-05f7-4108-835d-02cacb02e819"
   },
   "outputs": [
    {
     "name": "stdout",
     "output_type": "stream",
     "text": [
      "True인 경우만 실행\n"
     ]
    }
   ],
   "source": [
    "if'a' == 'a':\n",
    "  print(\"True인 경우만 실행\")"
   ]
  },
  {
   "cell_type": "code",
   "execution_count": 5,
   "metadata": {
    "id": "Km3njL9ebl-q"
   },
   "outputs": [],
   "source": [
    "if'a' != 'a':\n",
    "  print(\"True인 경우만 실행\")"
   ]
  },
  {
   "cell_type": "code",
   "execution_count": 17,
   "metadata": {
    "colab": {
     "base_uri": "https://localhost:8080/"
    },
    "executionInfo": {
     "elapsed": 596,
     "status": "ok",
     "timestamp": 1620880622162,
     "user": {
      "displayName": "장크리수탉",
      "photoUrl": "https://lh3.googleusercontent.com/a-/AOh14Gj_tF0bGYk1bA9R_pQsl8UBkVu_yPo_Yv3CGHQ6Gg=s64",
      "userId": "08446625624793440405"
     },
     "user_tz": -540
    },
    "id": "WtC7wcHzbxxd",
    "outputId": "0a3e2b76-f994-4dbf-a9d4-f15cd61228c5"
   },
   "outputs": [
    {
     "name": "stdout",
     "output_type": "stream",
     "text": [
      "조건식이 False인 경우만 실행\n"
     ]
    }
   ],
   "source": [
    "# True인 경우와 False 경우를 고려하는 조건식\n",
    "# if else\n",
    "# :  콜론이라 읽음       , 콤마 : 세미콜론\n",
    "if'a' != 'a':\n",
    "  print(\"True인 경우만 실행\")\n",
    "  \n",
    "else :\n",
    "  print(\"조건식이 False인 경우만 실행\") "
   ]
  },
  {
   "cell_type": "code",
   "execution_count": 24,
   "metadata": {},
   "outputs": [
    {
     "name": "stdout",
     "output_type": "stream",
     "text": [
      "조건식이 False인 경우만 실행\n"
     ]
    }
   ],
   "source": [
    "if 'a'!='a':\n",
    "    print(\"True인 경우만 실행\")\n",
    "    \n",
    "else :\n",
    "    print(\"조건식이 False인 경우만 실행\")"
   ]
  },
  {
   "cell_type": "code",
   "execution_count": 25,
   "metadata": {
    "colab": {
     "base_uri": "https://localhost:8080/"
    },
    "executionInfo": {
     "elapsed": 582,
     "status": "ok",
     "timestamp": 1620871801019,
     "user": {
      "displayName": "장크리수탉",
      "photoUrl": "https://lh3.googleusercontent.com/a-/AOh14Gj_tF0bGYk1bA9R_pQsl8UBkVu_yPo_Yv3CGHQ6Gg=s64",
      "userId": "08446625624793440405"
     },
     "user_tz": -540
    },
    "id": "Hetxj7zocTvD",
    "outputId": "92579925-c6c2-4ef7-edeb-ffc03b966a88"
   },
   "outputs": [
    {
     "name": "stdout",
     "output_type": "stream",
     "text": [
      "10보다 작거나 같다\n"
     ]
    }
   ],
   "source": [
    "# 다중 조건식\n",
    "# if/elif/else\n",
    "a=10\n",
    "\n",
    "if a < 5:\n",
    "  print(\"5보다 작다\")\n",
    "elif a <= 10: \n",
    "  print(\"10보다 작거나 같다\")\n",
    "else:\n",
    "  print(\"이도저도 아니더라\")"
   ]
  },
  {
   "cell_type": "code",
   "execution_count": 27,
   "metadata": {},
   "outputs": [
    {
     "name": "stdout",
     "output_type": "stream",
     "text": [
      "5보다 작거나 같다\n"
     ]
    }
   ],
   "source": [
    "a = 5\n",
    "\n",
    "if a < 2:              # 경우의수1 : 2보다 작다\n",
    "    print(\"2보다 작다\")\n",
    "elif a <=5:             # 경우의수2 : 5보다 작거나 같다\n",
    "    print(\"5보다 작거나 같다\")\n",
    "else:                  # 경우의수3 : 그 외\n",
    "    print(\"이도저도 아니다\")"
   ]
  },
  {
   "cell_type": "code",
   "execution_count": 8,
   "metadata": {
    "colab": {
     "base_uri": "https://localhost:8080/"
    },
    "executionInfo": {
     "elapsed": 565,
     "status": "ok",
     "timestamp": 1620873185515,
     "user": {
      "displayName": "장크리수탉",
      "photoUrl": "https://lh3.googleusercontent.com/a-/AOh14Gj_tF0bGYk1bA9R_pQsl8UBkVu_yPo_Yv3CGHQ6Gg=s64",
      "userId": "08446625624793440405"
     },
     "user_tz": -540
    },
    "id": "Ndby1vJHfOY9",
    "outputId": "31c4e53f-4d1e-4b08-d5ed-43d11148bef5"
   },
   "outputs": [
    {
     "name": "stdout",
     "output_type": "stream",
     "text": [
      "이도저도 아니더라\n"
     ]
    }
   ],
   "source": [
    "# python 에서 기능을 재사용 할 수 있게 구현하는 함수 개발\n",
    "# def 함수명 (new데이터 받을 수 있는 문법 공간):\n",
    "#   함수로직\n",
    "#   [결과값 반환 로직]\n",
    "\n",
    "def my_fun(a):\n",
    "  if a < 5:\n",
    "    print(\"5보다 작다\")\n",
    "  elif a <= 10: \n",
    "    print(\"10보다 작거나 같다\")\n",
    "  else:\n",
    "    print(\"이도저도 아니더라\")\n",
    "\n",
    "\n",
    "my_fun(12)"
   ]
  },
  {
   "cell_type": "code",
   "execution_count": 9,
   "metadata": {
    "colab": {
     "base_uri": "https://localhost:8080/"
    },
    "executionInfo": {
     "elapsed": 601,
     "status": "ok",
     "timestamp": 1620873202267,
     "user": {
      "displayName": "장크리수탉",
      "photoUrl": "https://lh3.googleusercontent.com/a-/AOh14Gj_tF0bGYk1bA9R_pQsl8UBkVu_yPo_Yv3CGHQ6Gg=s64",
      "userId": "08446625624793440405"
     },
     "user_tz": -540
    },
    "id": "oiCDKzWokgZ8",
    "outputId": "7e20f226-7287-4866-9843-8fd4745bbc39"
   },
   "outputs": [
    {
     "name": "stdout",
     "output_type": "stream",
     "text": [
      "10보다 작거나 같다\n"
     ]
    }
   ],
   "source": [
    "my_fun(10)"
   ]
  },
  {
   "cell_type": "code",
   "execution_count": 10,
   "metadata": {
    "id": "Fyc5uz-xkkfS"
   },
   "outputs": [],
   "source": [
    "# ??? 실시간 입력되는 데이터는 문자열, playdata 라는 문자열에 한해서만 encore 출력되게 만들기\n",
    "\n",
    "def edu_name(msg):\n",
    "  if msg == 'playdata':\n",
    "    print('encore')\n",
    "  else:\n",
    "    print('틀렸어')\n",
    "\n"
   ]
  },
  {
   "cell_type": "code",
   "execution_count": 11,
   "metadata": {
    "colab": {
     "base_uri": "https://localhost:8080/"
    },
    "executionInfo": {
     "elapsed": 618,
     "status": "ok",
     "timestamp": 1620873891806,
     "user": {
      "displayName": "장크리수탉",
      "photoUrl": "https://lh3.googleusercontent.com/a-/AOh14Gj_tF0bGYk1bA9R_pQsl8UBkVu_yPo_Yv3CGHQ6Gg=s64",
      "userId": "08446625624793440405"
     },
     "user_tz": -540
    },
    "id": "HZsCm1Ibk1AK",
    "outputId": "a659bc03-1dff-4e97-c550-7b63dd1dbce1"
   },
   "outputs": [
    {
     "name": "stdout",
     "output_type": "stream",
     "text": [
      "틀렸어\n"
     ]
    }
   ],
   "source": [
    "edu_name('encore')   # 틀렸어 출력"
   ]
  },
  {
   "cell_type": "code",
   "execution_count": 12,
   "metadata": {
    "colab": {
     "base_uri": "https://localhost:8080/"
    },
    "executionInfo": {
     "elapsed": 595,
     "status": "ok",
     "timestamp": 1620873898355,
     "user": {
      "displayName": "장크리수탉",
      "photoUrl": "https://lh3.googleusercontent.com/a-/AOh14Gj_tF0bGYk1bA9R_pQsl8UBkVu_yPo_Yv3CGHQ6Gg=s64",
      "userId": "08446625624793440405"
     },
     "user_tz": -540
    },
    "id": "beSclYwpk86O",
    "outputId": "f304facd-a883-4014-c9a5-d1af6d2c6330"
   },
   "outputs": [
    {
     "name": "stdout",
     "output_type": "stream",
     "text": [
      "encore\n"
     ]
    }
   ],
   "source": [
    "edu_name('playdata')   # encore 출력"
   ]
  },
  {
   "cell_type": "code",
   "execution_count": 13,
   "metadata": {
    "id": "kHzsoywkkyOO"
   },
   "outputs": [],
   "source": [
    "def edu_name2(msg):\n",
    "  if msg == 'playdata':\n",
    "    return 'encore'\n",
    "  else:\n",
    "    return '틀렸어'"
   ]
  },
  {
   "cell_type": "code",
   "execution_count": 14,
   "metadata": {
    "colab": {
     "base_uri": "https://localhost:8080/"
    },
    "executionInfo": {
     "elapsed": 619,
     "status": "ok",
     "timestamp": 1620874260278,
     "user": {
      "displayName": "장크리수탉",
      "photoUrl": "https://lh3.googleusercontent.com/a-/AOh14Gj_tF0bGYk1bA9R_pQsl8UBkVu_yPo_Yv3CGHQ6Gg=s64",
      "userId": "08446625624793440405"
     },
     "user_tz": -540
    },
    "id": "aF0KnVj1nl95",
    "outputId": "b586ae18-3c71-448b-9ed3-30b05d11acac",
    "scrolled": true
   },
   "outputs": [
    {
     "name": "stdout",
     "output_type": "stream",
     "text": [
      "반환된 결과값 틀렸어\n"
     ]
    }
   ],
   "source": [
    "# 함수 실행 결과값을 받아서 새로운 문자열 조합해서 출력\n",
    "print(\"반환된 결과값 \" + edu_name2('encore'))"
   ]
  },
  {
   "cell_type": "code",
   "execution_count": null,
   "metadata": {
    "id": "c__WSbiloUsF"
   },
   "outputs": [],
   "source": [
    " print(\"반환된 결과값 \" + edu_name2('encore')) \n",
    " \n",
    "  1. print() : 콘솔창에 출력하는 기능의 내장 함수\n",
    "  2. eud_name2() : python 사용하는 개발자를 [python 언어] 사용자가 구현한 함수 (사용자 정의 함수)\n",
    " \n",
    "  3. 실행 순서\n",
    "    print() 호출(call) -> \"반환된 결과값 \" 문자열이 메모리에 생성 -> + 실행 시작 -> edu_name2('encore') 호출 시작 -> \n",
    "    encore 문자열 생성 -> 실행 edu_name2 실행 -> 결과값이 반환되어 옴 -> + 연산자가 결과값 결합 -> print() 실행 즉 출력 마무리 "
   ]
  },
  {
   "cell_type": "code",
   "execution_count": 15,
   "metadata": {
    "id": "5zk_RUU9eOL3"
   },
   "outputs": [
    {
     "ename": "SyntaxError",
     "evalue": "invalid syntax (<ipython-input-15-c463573eabd1>, line 5)",
     "output_type": "error",
     "traceback": [
      "\u001b[1;36m  File \u001b[1;32m\"<ipython-input-15-c463573eabd1>\"\u001b[1;36m, line \u001b[1;32m5\u001b[0m\n\u001b[1;33m    데이터 받고 - 받을 수 가변적인 문법\u001b[0m\n\u001b[1;37m        ^\u001b[0m\n\u001b[1;31mSyntaxError\u001b[0m\u001b[1;31m:\u001b[0m invalid syntax\n"
     ]
    }
   ],
   "source": [
    "# 입력하는 id값(실시간 가변적인 동적 데이터)을 받아서 로직 수행 후 검증한 결과값을 client에게 반환\n",
    "# client는 데이터를 입력 -> server에 전송\n",
    "# server는 데이터를 받고 -> 검증 -> 인증 결과값을 client에게 응답(출력, 결과 리턴)\n",
    "\n",
    "데이터 받고 - 받을 수 가변적인 문법 \n",
    "처리하고 - 조건비교\n",
    "리턴 - return\n",
    "\n",
    "여러명이 요청하는 로직 - 재사용성 고려\n",
    "필요시 마다 호출 - 이름"
   ]
  },
  {
   "cell_type": "code",
   "execution_count": 37,
   "metadata": {
    "id": "PlO_yCbyqG0H"
   },
   "outputs": [],
   "source": [
    "# ??? 두개의 데이터 받아서 더한 결과값을 반환(return)하는 더하기(산술연산 + ) 함수 만들기\n",
    "\n",
    "def my_sum(v1, v2):\n",
    "  return v1 + v2   # return : 이 기능의 함수를 호출한 곳으로 값을 전달하는 기능의 키워드"
   ]
  },
  {
   "cell_type": "code",
   "execution_count": 38,
   "metadata": {},
   "outputs": [],
   "source": [
    "def sum(v1, v2):\n",
    "    return v1+v2"
   ]
  },
  {
   "cell_type": "code",
   "execution_count": 39,
   "metadata": {
    "colab": {
     "base_uri": "https://localhost:8080/"
    },
    "executionInfo": {
     "elapsed": 612,
     "status": "ok",
     "timestamp": 1620875074036,
     "user": {
      "displayName": "장크리수탉",
      "photoUrl": "https://lh3.googleusercontent.com/a-/AOh14Gj_tF0bGYk1bA9R_pQsl8UBkVu_yPo_Yv3CGHQ6Gg=s64",
      "userId": "08446625624793440405"
     },
     "user_tz": -540
    },
    "id": "CAYsp5PjqaQd",
    "outputId": "b5c531ed-2078-4e08-9be7-a4e0648cbde8"
   },
   "outputs": [
    {
     "name": "stdout",
     "output_type": "stream",
     "text": [
      "30\n"
     ]
    }
   ],
   "source": [
    "# 다수의 데이터들은 , 가 구분자\n",
    "# 두개의 메모리 필요\n",
    "print(my_sum(10, 20))    # 30 "
   ]
  },
  {
   "cell_type": "code",
   "execution_count": 40,
   "metadata": {},
   "outputs": [
    {
     "name": "stdout",
     "output_type": "stream",
     "text": [
      "30\n"
     ]
    }
   ],
   "source": [
    "def my_sum(v1, v2):\n",
    "    return v1 + v2\n",
    "\n",
    "print(my_sum(10,20))"
   ]
  },
  {
   "cell_type": "code",
   "execution_count": null,
   "metadata": {
    "colab": {
     "base_uri": "https://localhost:8080/"
    },
    "executionInfo": {
     "elapsed": 506,
     "status": "ok",
     "timestamp": 1620875156359,
     "user": {
      "displayName": "장크리수탉",
      "photoUrl": "https://lh3.googleusercontent.com/a-/AOh14Gj_tF0bGYk1bA9R_pQsl8UBkVu_yPo_Yv3CGHQ6Gg=s64",
      "userId": "08446625624793440405"
     },
     "user_tz": -540
    },
    "id": "2uGkT-xsquOT",
    "outputId": "52d724f8-c642-4287-faf2-b32cc656cb9a"
   },
   "outputs": [],
   "source": [
    "print(my_sum(100, 20))    # 120"
   ]
  },
  {
   "cell_type": "code",
   "execution_count": null,
   "metadata": {
    "id": "C49Qa3XhsBky"
   },
   "outputs": [],
   "source": [
    "def my_sum(v1, v2):\n",
    "  v1 + v2  # 더하기만 하고 끝남 즉 이 함수 기능을 통해서 더한 결과값을 활용하기 위해 다른 곳에서 호출한 경우 더한 결과값 못받음."
   ]
  },
  {
   "cell_type": "code",
   "execution_count": null,
   "metadata": {},
   "outputs": [],
   "source": [
    "if 'a'=='a' and 'b'=='b':\n",
    "    print('두 조건 true')"
   ]
  },
  {
   "cell_type": "code",
   "execution_count": null,
   "metadata": {},
   "outputs": [],
   "source": [
    "if 'a'=='a' or 'b'=='b':\n",
    "    print('두 조건 중 하나만 true여도 가능')"
   ]
  },
  {
   "cell_type": "code",
   "execution_count": null,
   "metadata": {},
   "outputs": [],
   "source": [
    "if 'a'=='a2' or 'b'=='b':\n",
    "    print('두 조건 중 하나만 true여도 가능')"
   ]
  },
  {
   "cell_type": "code",
   "execution_count": null,
   "metadata": {},
   "outputs": [],
   "source": [
    "if 'a'=='a2' and 'b'=='b':\n",
    "    print('두 조건 중 하나만 true여도 가능')"
   ]
  },
  {
   "cell_type": "code",
   "execution_count": 41,
   "metadata": {},
   "outputs": [],
   "source": [
    "# id/pw를 인증해주는 함수 - encore / 77만 유효 가정\n",
    "# 방법 1\n",
    "\n",
    "def login_check(id,pw):\n",
    "    if id=='encore' and pw==77:\n",
    "        print('인증성공')\n",
    "    else:\n",
    "        print('인증실패')\n",
    "        "
   ]
  },
  {
   "cell_type": "code",
   "execution_count": null,
   "metadata": {},
   "outputs": [],
   "source": [
    "login_check('encore',77)"
   ]
  },
  {
   "cell_type": "code",
   "execution_count": null,
   "metadata": {},
   "outputs": [],
   "source": [
    "login_check('p',77)"
   ]
  },
  {
   "cell_type": "code",
   "execution_count": 44,
   "metadata": {},
   "outputs": [],
   "source": [
    "# 방법 2 - 중첩 조건문\n",
    "\n",
    "def login_check(id,pw):\n",
    "    if id=='encore': \n",
    "        if pw==77:\n",
    "            print('인증성공')\n",
    "        else:\n",
    "            print('pw만 인증 실패')\n",
    "    else:\n",
    "        print('id 인증 실패')\n",
    "        "
   ]
  },
  {
   "cell_type": "code",
   "execution_count": 53,
   "metadata": {},
   "outputs": [
    {
     "name": "stdout",
     "output_type": "stream",
     "text": [
      "인증실패\n"
     ]
    }
   ],
   "source": [
    "login_check('p',77)"
   ]
  },
  {
   "cell_type": "code",
   "execution_count": 16,
   "metadata": {
    "scrolled": true
   },
   "outputs": [
    {
     "name": "stdout",
     "output_type": "stream",
     "text": [
      "True\n"
     ]
    }
   ],
   "source": [
    "v = 'string'\n",
    "\n",
    "if v:    # v에 테이더 있어? 없어? 에 대한 조건식\n",
    "    print(True)\n",
    "else:\n",
    "    print(False)"
   ]
  },
  {
   "cell_type": "code",
   "execution_count": 19,
   "metadata": {},
   "outputs": [
    {
     "name": "stdout",
     "output_type": "stream",
     "text": [
      "False\n"
     ]
    }
   ],
   "source": [
    "v = ''   # 길이가 0인 black 문자열\n",
    "\n",
    "if v:    # v에 테이더 있어? 없어? 에 대한 조건식\n",
    "    print(True)\n",
    "else:\n",
    "    print(False)"
   ]
  },
  {
   "cell_type": "code",
   "execution_count": 18,
   "metadata": {},
   "outputs": [],
   "source": [
    "# 다수의 데이터들을 하나의 변수로 관리\n",
    "v = 1   # v에 데이터 있어? 없어? 에 대한 조건식\n",
    "v2 = [1, 2, 3]      # list 구조의 다수의 데이터 관리"
   ]
  },
  {
   "cell_type": "code",
   "execution_count": 21,
   "metadata": {
    "scrolled": true
   },
   "outputs": [
    {
     "name": "stdout",
     "output_type": "stream",
     "text": [
      "5\n",
      "5\n",
      "<class 'str'>\n",
      "<class 'int'>\n"
     ]
    }
   ],
   "source": [
    "v = input()   # 실행시 실시간 입력 가능하게 해주는 함수\n",
    "print(v)      # 입력된 데이터를 출력\n",
    "print(type(v))  # 입력되는 모든 데이터는 str(python 문자열)\n",
    "# 사칙 연산과 같은 연산작업이 필수인 경우 str -> 숫자(int or float)\n",
    "print( type( int(v) ) )   # int() int로 형변환 하는 함수"
   ]
  },
  {
   "cell_type": "code",
   "execution_count": 6,
   "metadata": {},
   "outputs": [
    {
     "name": "stdout",
     "output_type": "stream",
     "text": [
      "1\n",
      "2\n",
      "5\n"
     ]
    }
   ],
   "source": [
    "v = [1, 2, 3, 4, 5]\n",
    "\n",
    "print(v[0])       # [0+1=1]이므로 v의 1번째를 묻는것임\n",
    "print(v[1])       # v의 2번째\n",
    "print(v[4])       # v의 5번째"
   ]
  },
  {
   "cell_type": "markdown",
   "metadata": {
    "id": "DMqMD9V3sOip"
   },
   "source": []
  },
  {
   "cell_type": "markdown",
   "metadata": {
    "id": "rI57zoE7R06L"
   },
   "source": [
    "**미션1. 윤년  프로그램을 통한 연산자 및 조건식 이해하기**\n",
    "\n",
    "- 4로 나누어 떨어지는 년도 : 값 % 4이 0    \n",
    "- 그 중 100으로 나누어 떨어지는 년도는 윤년이 아님 : 값 % 100 의 0과 비교\n",
    "- 400으로 나누어 떨어지는 년도는 무조건 윤년 : 1+2 또는 3번째 조건식 비교( 값 % 400와 0 비교)"
   ]
  },
  {
   "cell_type": "code",
   "execution_count": 32,
   "metadata": {
    "colab": {
     "base_uri": "https://localhost:8080/"
    },
    "executionInfo": {
     "elapsed": 593,
     "status": "ok",
     "timestamp": 1620883427819,
     "user": {
      "displayName": "장크리수탉",
      "photoUrl": "https://lh3.googleusercontent.com/a-/AOh14Gj_tF0bGYk1bA9R_pQsl8UBkVu_yPo_Yv3CGHQ6Gg=s64",
      "userId": "08446625624793440405"
     },
     "user_tz": -540
    },
    "id": "p5RndAGxR06M",
    "outputId": "aa133089-364f-437b-c6b2-846f1d099b38"
   },
   "outputs": [
    {
     "name": "stdout",
     "output_type": "stream",
     "text": [
      "윤년 확인을 위한 년도를 입력해 주세요:  1700\n",
      "1700년은 윤년이 아닙니다.\n"
     ]
    }
   ],
   "source": [
    "# 윤년 프로그램\n",
    "\n",
    "# 4로 나누어 떨어지고 + 100으로 나누어 떨어지지 않는 값 윤년\n",
    "# 400으로 나누어 떨어지는 조건 윤년\n",
    "\n",
    "year = input(\"윤년 확인을 위한 년도를 입력해 주세요:  \")\n",
    "\n",
    "def check_year(year):\n",
    "    if int(year)%400==0:\n",
    "        #1\n",
    "        print(year+\"년은 윤년 입니다.\")\n",
    "    elif a%4 == 0:\n",
    "        if a%100 != 0:\n",
    "            #2\n",
    "            print(year+\"년은 윤년 입니다.\")\n",
    "        else:\n",
    "            #3\n",
    "            print(year+\"년은 윤년이 아닙니다.\")\n",
    "    else:      \n",
    "        print(year+\"년은 윤년이 아닙니다.\")\n",
    "    \n",
    "check_year(year)"
   ]
  },
  {
   "cell_type": "markdown",
   "metadata": {
    "id": "2Mip93stR06N"
   },
   "source": [
    "**미션2. 문자열의 중간 문자를 추출해 보기**\n",
    "\n",
    "문자열의 중앙에 있는 문자를 출력한다. 예를 들어서 문자열이 \"weekday\"이라면 중앙의 문자는 \"k\"가 된다.<br>\n",
    "하지만 만약 문자열이 짝수개의 문자를 가지고 있다면 중앙의 2개의 글자를 출력한다.<br>\n",
    "예를 들어서 \"string\" 문자열에서는 \"ri\"를 반환한다. "
   ]
  },
  {
   "cell_type": "code",
   "execution_count": 33,
   "metadata": {
    "id": "0-a10Gc3R06O"
   },
   "outputs": [
    {
     "data": {
      "text/plain": [
       "(4, 6, 7)"
      ]
     },
     "execution_count": 33,
     "metadata": {},
     "output_type": "execute_result"
    }
   ],
   "source": [
    "# 문자열의 길이값을 반환\n",
    "# 문자열 길이 확인 후에 호출한 곳으로 길이값 반환(리턴값)\n",
    "\n",
    "len('test'), len('string'), len('weekday')"
   ]
  },
  {
   "cell_type": "code",
   "execution_count": 9,
   "metadata": {},
   "outputs": [
    {
     "name": "stdout",
     "output_type": "stream",
     "text": [
      "문자를 입력해 주세요.school\n"
     ]
    },
    {
     "data": {
      "text/plain": [
       "'ho'"
      ]
     },
     "execution_count": 9,
     "metadata": {},
     "output_type": "execute_result"
    }
   ],
   "source": [
    "word = input(\"문자를 입력해 주세요.\")\n",
    "\n",
    "def check_middleword(word):\n",
    "    if len(word)%2==1:\n",
    "        return word[len(word)//2]\n",
    "    else:\n",
    "        return word[len(word)//2-1] + word[len(word)//2]\n",
    "        \n",
    "check_middleword(word)"
   ]
  },
  {
   "cell_type": "markdown",
   "metadata": {
    "id": "4NUEtnh_R06P"
   },
   "source": [
    "**미션3. 임금 계산해 보기**\n",
    "\n",
    "사용자에게 근무 시간과 시간당 임금을 물어보고, 주당 근무 시간이 40시간을 넘으면 1.5배의 임금을 지급해야 한다고 가정할 경우<br> \n",
    "이번주에 받는 총임금을 계산하는 프로그램을 만들어 보자"
   ]
  },
  {
   "cell_type": "code",
   "execution_count": 54,
   "metadata": {
    "colab": {
     "base_uri": "https://localhost:8080/",
     "height": 35
    },
    "executionInfo": {
     "elapsed": 616,
     "status": "ok",
     "timestamp": 1620884125141,
     "user": {
      "displayName": "장크리수탉",
      "photoUrl": "https://lh3.googleusercontent.com/a-/AOh14Gj_tF0bGYk1bA9R_pQsl8UBkVu_yPo_Yv3CGHQ6Gg=s64",
      "userId": "08446625624793440405"
     },
     "user_tz": -540
    },
    "id": "n4Na5-oSR06Q",
    "outputId": "d0dcba54-97b3-4b9e-9d56-3449e7c2a2f1"
   },
   "outputs": [
    {
     "name": "stdout",
     "output_type": "stream",
     "text": [
      "주간 근무시간을 입력해 주세요.50\n",
      "시간당 임금을 입력해 주세요.9000\n",
      "총 임금은 675000.0원 입니다.\n"
     ]
    }
   ],
   "source": [
    "# 임금 계산 해보기\n",
    "# print(total_price = a * b)\n",
    "\n",
    "a = int(input(\"주간 근무시간을 입력해 주세요.\"))\n",
    "b = int(input(\"시간당 임금을 입력해 주세요.\"))\n",
    "\n",
    "def work_calculate(a, b):\n",
    "  total_price = a * b\n",
    "  if a >= 40:\n",
    "    return '총 임금은 ' + str(total_price * 1.5) + '원 입니다.'\n",
    "  else :\n",
    "    return '총 임금은 ' + str(total_price) + '원 입니다.'\n",
    "\n",
    "print(work_calculate(a,b))\n"
   ]
  },
  {
   "cell_type": "markdown",
   "metadata": {
    "id": "cCgIbH_4R06R"
   },
   "source": [
    "## 반복문"
   ]
  },
  {
   "cell_type": "code",
   "execution_count": null,
   "metadata": {
    "id": "StR5vBqsR06S"
   },
   "outputs": [],
   "source": []
  },
  {
   "cell_type": "markdown",
   "metadata": {
    "id": "9gtlf8i1R06T"
   },
   "source": [
    "**미션 - 숫자로 pyramid 만들기**\n",
    "\n",
    "- 중첩 for문과 range() 함수 활용"
   ]
  },
  {
   "cell_type": "code",
   "execution_count": null,
   "metadata": {
    "id": "tIsj6fX9R06U"
   },
   "outputs": [],
   "source": []
  },
  {
   "cell_type": "markdown",
   "metadata": {
    "id": "kOMwwTGMR06V"
   },
   "source": [
    "**미션- 팩토리얼 계산하기**\n",
    ">반복문을 활용하여 팩토리얼 계산해 보기<br>\n",
    "for문과 while문을 활용하여 각각 만들어 보기<br>\n",
    "팩토리얼 n!은 1~n까지의 정수를 모두 곱한 것을 의미한다<br>\n",
    "n! = 1*2*3*...(n-1)*n\n",
    "\n",
    ">힌트 : range() 함수를 이용"
   ]
  },
  {
   "cell_type": "code",
   "execution_count": null,
   "metadata": {
    "id": "UyA4IcErR06W"
   },
   "outputs": [],
   "source": []
  },
  {
   "cell_type": "markdown",
   "metadata": {
    "id": "l30fK4b3R06X"
   },
   "source": [
    "**미션-계좌번호 처리하기**\n",
    "\n",
    "> 인터넷 뱅킹을 사용하다보면 계좌번호를 입력할 때, \"312-02-1234567\"과 사용자로부터 \"-\"가 포함된 계좌 번호를 받아서 \"-\"을 삭제한 문자열을 만들어보자. \n"
   ]
  },
  {
   "cell_type": "code",
   "execution_count": null,
   "metadata": {
    "id": "vWAjdQTdR06Y"
   },
   "outputs": [],
   "source": []
  },
  {
   "cell_type": "markdown",
   "metadata": {
    "id": "XslKMc1cR06Z"
   },
   "source": [
    "**미션 - 알파벳, 숫자, 스페이스의 처리**\n",
    "\n",
    "> 문자열을 조사하여서 알파벳 문자의 개수, 숫자의 개수, 스페이스의 개수를 출력하는 프로그램을 작성하라"
   ]
  },
  {
   "cell_type": "code",
   "execution_count": null,
   "metadata": {
    "id": "Bolhbr2QR06Z"
   },
   "outputs": [],
   "source": []
  },
  {
   "cell_type": "markdown",
   "metadata": {
    "id": "Qzgg-UUGR06a"
   },
   "source": [
    "**실행 결과와 비교해 보면서 분석해 보기**"
   ]
  },
  {
   "cell_type": "code",
   "execution_count": null,
   "metadata": {
    "id": "-4-exbJSR06b",
    "outputId": "36315d99-c99a-4eff-91ea-13482533e3f6"
   },
   "outputs": [
    {
     "name": "stdout",
     "output_type": "stream",
     "text": [
      "3 4 5\n",
      "4 3 5\n",
      "5 12 13\n",
      "6 8 10\n",
      "7 24 25\n",
      "8 6 10\n",
      "8 15 17\n",
      "9 12 15\n",
      "9 40 41\n",
      "10 24 26\n",
      "11 60 61\n",
      "12 5 13\n",
      "12 9 15\n",
      "12 16 20\n",
      "12 35 37\n",
      "13 84 85\n",
      "14 48 50\n",
      "15 8 17\n",
      "15 20 25\n",
      "15 36 39\n",
      "16 12 20\n",
      "16 30 34\n",
      "16 63 65\n",
      "18 24 30\n",
      "18 80 82\n",
      "20 15 25\n",
      "20 21 29\n",
      "20 48 52\n",
      "21 20 29\n",
      "21 28 35\n",
      "21 72 75\n",
      "24 7 25\n",
      "24 10 26\n",
      "24 18 30\n",
      "24 32 40\n",
      "24 45 51\n",
      "24 70 74\n",
      "25 60 65\n",
      "27 36 45\n",
      "28 21 35\n",
      "28 45 53\n",
      "28 96 100\n",
      "30 16 34\n",
      "30 40 50\n",
      "30 72 78\n",
      "32 24 40\n",
      "32 60 68\n",
      "33 44 55\n",
      "33 56 65\n",
      "35 12 37\n",
      "35 84 91\n",
      "36 15 39\n",
      "36 27 45\n",
      "36 48 60\n",
      "36 77 85\n",
      "39 52 65\n",
      "39 80 89\n",
      "40 9 41\n",
      "40 30 50\n",
      "40 42 58\n",
      "40 75 85\n",
      "42 40 58\n",
      "42 56 70\n",
      "44 33 55\n",
      "45 24 51\n",
      "45 28 53\n",
      "45 60 75\n",
      "48 14 50\n",
      "48 20 52\n",
      "48 36 60\n",
      "48 55 73\n",
      "48 64 80\n",
      "51 68 85\n",
      "52 39 65\n",
      "54 72 90\n",
      "55 48 73\n",
      "56 33 65\n",
      "56 42 70\n",
      "57 76 95\n",
      "60 11 61\n",
      "60 25 65\n",
      "60 32 68\n",
      "60 45 75\n",
      "60 63 87\n",
      "60 80 100\n",
      "63 16 65\n",
      "63 60 87\n",
      "64 48 80\n",
      "65 72 97\n",
      "68 51 85\n",
      "70 24 74\n",
      "72 21 75\n",
      "72 30 78\n",
      "72 54 90\n",
      "72 65 97\n",
      "75 40 85\n",
      "76 57 95\n",
      "77 36 85\n",
      "80 18 82\n",
      "80 39 89\n",
      "80 60 100\n",
      "84 13 85\n",
      "84 35 91\n",
      "96 28 100\n"
     ]
    }
   ],
   "source": [
    "for a in range(1, 101, 1):\n",
    "    for b in range(1, 101, 1):\n",
    "        for c in range(1, 101, 1):\n",
    "            if( (a*a+b*b)==c*c ):\n",
    "                print(a, b, c)"
   ]
  },
  {
   "cell_type": "code",
   "execution_count": null,
   "metadata": {
    "id": "GN9-i5-vR06d"
   },
   "outputs": [],
   "source": []
  }
 ],
 "metadata": {
  "colab": {
   "collapsed_sections": [],
   "name": "step02ConditionLoop.ipynb",
   "provenance": []
  },
  "kernelspec": {
   "display_name": "Python 3",
   "language": "python",
   "name": "python3"
  },
  "language_info": {
   "codemirror_mode": {
    "name": "ipython",
    "version": 3
   },
   "file_extension": ".py",
   "mimetype": "text/x-python",
   "name": "python",
   "nbconvert_exporter": "python",
   "pygments_lexer": "ipython3",
   "version": "3.8.5"
  }
 },
 "nbformat": 4,
 "nbformat_minor": 1
}
