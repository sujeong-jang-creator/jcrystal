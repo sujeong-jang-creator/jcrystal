{
 "cells": [
  {
   "cell_type": "markdown",
   "metadata": {},
   "source": [
    "<!--NAVIGATION-->\n",
    "\n",
    "[[step09_2goodCode 학습 page로 이동](step09_2goodCode.ipynb) ] | \n",
    "[[step10_2Class 학습 page로 이동](step10_2Class.ipynb) ]"
   ]
  },
  {
   "cell_type": "markdown",
   "metadata": {},
   "source": [
    "### python을 활용한 객체 지향 프로그래밍 개발 기술 학습\n",
    "\n",
    "\n",
    "**주요 용어**\n",
    "\n",
    "1. class - 객체(데이터들을 하나의 단위로 관리하는 실제 사용 가능한 메모리상의 영역)를 사용 가능하게 해 주는 설계도(붕어빵과 비교시 붕어빵 - 객체, 붕어빵틀 - class)\n",
    "\n",
    "2. 객체(object) - 메모리에 사용 가능하게 생성된 데이터 집합\n",
    "\n",
    "3. 객체 지향 프로그램 방식의 주 목적 <br>\n",
    "> 클래스 하나 제대로 설계 후에 데이터 표현을 위한 재사용을 위함<br>\n",
    "> 아파트 건축 설계도(class)/개발한 아파트(object=instance)"
   ]
  },
  {
   "cell_type": "code",
   "execution_count": 1,
   "metadata": {},
   "outputs": [],
   "source": [
    "# class - 다수의 데이터값을 보유할 수 있는 프로그래 구조\n",
    "# java script, java 라는 프로그램 언어에 동일한 개발 형식, 개념도 동일\n",
    "\n",
    "class Person:\n",
    "    \n",
    "    # 특별한 메소드 - 생성자(객체 생성시에 호출되는 기능)\n",
    "    def __init__(self, name, age):\n",
    "        # name이란 멤버 변수 생성 및 값 할당\n",
    "        # self.name : Person 클래스의 멤버 변수\n",
    "        # name : __init__ 이라는 특별한 메소드 내에서만 사용 가능한 로컬 변수\n",
    "        self.name = name\n",
    "        self.age = age"
   ]
  },
  {
   "cell_type": "code",
   "execution_count": 2,
   "metadata": {},
   "outputs": [
    {
     "name": "stdout",
     "output_type": "stream",
     "text": [
      "John\n",
      "36\n"
     ]
    }
   ],
   "source": [
    "# 객체(메모리에 사용 가능하게 생성된 의미 - instance)\n",
    "p1 = Person(\"John\", 36)  # Person 객체 생성, Person instance 생성\n",
    "\n",
    "print(p1.name)  # 생성된 객체를 관리(참조)하는 p1 변수로 name이라는 멤버 변수 호출 및 출력 \n",
    "print(p1.age)"
   ]
  },
  {
   "cell_type": "code",
   "execution_count": 3,
   "metadata": {},
   "outputs": [
    {
     "name": "stdout",
     "output_type": "stream",
     "text": [
      "유재석\n",
      "36\n"
     ]
    }
   ],
   "source": [
    "p2 = Person(\"유재석\", 36)  # Person 객체 생성, Person instance 생성\n",
    "\n",
    "print(p2.name)\n",
    "print(p2.age)"
   ]
  },
  {
   "cell_type": "code",
   "execution_count": 20,
   "metadata": {},
   "outputs": [],
   "source": [
    "# 학생들 정보를 관리하는 프로그램\n",
    "# 데이터 = 학번(no)/이름(name)/학년(grade)...\n",
    "# 메소드 : 데이터를 관리할 수 있는 기능의 메소드들도 주로 포함해서 개발 \n",
    "\n",
    "class Student:\n",
    "    \n",
    "    # 특별한 메소드로 객체 생성시 자동 호출되는 생성자 기능\n",
    "    def __init__(self, no, name, grade):\n",
    "        # 클래스를 구성하는 멤버 변수 = 로컬 변수\n",
    "        self.no = no\n",
    "        self.name = name\n",
    "        self.grade = grade  \n",
    "        \n",
    "    # 사용 관점(호출 관점)에서 데이터를 획득\n",
    "    # 학생 이름을 호출한 곳으로 반환\n",
    "    # 함수명(js, java 와 흡사) - getXxx : 값을 호출한 곳으로 제공 / setXxx : 존재하는 멤변수값 수정\n",
    "    def getName(self):     # 멤버 메소드 의미\n",
    "        return self.name   # 멤버 변수값 반환 \n",
    "    \n",
    "    # 호출시 문제 발생\n",
    "#     def getName():     # 멤버 메소드 의미\n",
    "#         return name   # 멤버 변수값 반환\n",
    "    \n",
    "    # name 멤버 변수값을 수정하는 메소드 \n",
    "    def setName(self, name):\n",
    "        self.name = name   "
   ]
  },
  {
   "cell_type": "code",
   "execution_count": 21,
   "metadata": {},
   "outputs": [],
   "source": [
    "s1 = Student(1, '유재석', '1학년')\n",
    "\n",
    "s2 = Student(2, '백종원', '1학년')"
   ]
  },
  {
   "cell_type": "code",
   "execution_count": 22,
   "metadata": {},
   "outputs": [],
   "source": [
    "s1.setName('신동엽')"
   ]
  },
  {
   "cell_type": "code",
   "execution_count": 23,
   "metadata": {},
   "outputs": [
    {
     "name": "stdout",
     "output_type": "stream",
     "text": [
      "신동엽\n"
     ]
    }
   ],
   "source": [
    "print(s1.getName())"
   ]
  },
  {
   "cell_type": "code",
   "execution_count": null,
   "metadata": {},
   "outputs": [],
   "source": []
  }
 ],
 "metadata": {
  "kernelspec": {
   "display_name": "Python 3",
   "language": "python",
   "name": "python3"
  },
  "language_info": {
   "codemirror_mode": {
    "name": "ipython",
    "version": 3
   },
   "file_extension": ".py",
   "mimetype": "text/x-python",
   "name": "python",
   "nbconvert_exporter": "python",
   "pygments_lexer": "ipython3",
   "version": "3.8.5"
  }
 },
 "nbformat": 4,
 "nbformat_minor": 4
}
