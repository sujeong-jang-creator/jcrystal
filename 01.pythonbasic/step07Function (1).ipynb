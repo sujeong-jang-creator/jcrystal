{
 "cells": [
  {
   "cell_type": "markdown",
   "metadata": {},
   "source": [
    "<!--NAVIGATION-->\n",
    "\n",
    "\n",
    "[[step06. 변수 학습 page로 이동](step06VariableOperators.ipynb) ] | [[step08.comprehension 학습 page로 이동](step08Comprehension.ipynb) ]"
   ]
  },
  {
   "cell_type": "markdown",
   "metadata": {},
   "source": [
    "**기호가 의미하는 횟수**\n",
    "\n",
    "1. 아무것도 없음 : 무조건 한번\n",
    "2. \\+ : 1 ~ 무한대를 의미\n",
    "3. \\* : 0 ~ 무한대를 의미\n",
    "4. ? : 0 또는 1"
   ]
  },
  {
   "cell_type": "markdown",
   "metadata": {},
   "source": [
    "### 함수 구현의 다양한 문법 \n",
    "\n",
    "- 인수(argument) - 호출 프로그램에 의하여 함수에 전달되는 값\n",
    "- 매개변수(parameter) - 인수값을 전달받는 변수\n",
    "\n",
    "--------------------------------------------------------\n",
    "\n",
    "- 디폴트 인수 : 함수의 매개 변수가 기본값 보유\n",
    "- 키워드 인수 : 인수들 앞에 키워드를 두어 인수 구분\n",
    "- 임의의 인수 목록 : 인자의 개수가 정해지지 않은 가변 인수를 전달\n",
    "- 람다 함수 : 이름이 없는 한줄짜리 함수(식을 함수처럼 표현하는 식, 대부분 프로그램 언어가 보유한 구조)\n"
   ]
  },
  {
   "cell_type": "markdown",
   "metadata": {},
   "source": [
    "- cell 구분 단축키 : ctrl + Shift + -"
   ]
  },
  {
   "cell_type": "code",
   "execution_count": 1,
   "metadata": {},
   "outputs": [
    {
     "name": "stdout",
     "output_type": "stream",
     "text": [
      "(1, 2)\n"
     ]
    }
   ],
   "source": [
    "# 반환값이 여러개도 가능, 반환시 tuple 타입으로 자동 변환 되면서 반환 \n",
    "# python은 타입이 실행시 동적으로 자동 변경 \n",
    "\n",
    "def f1():\n",
    "    return 1, 2\n",
    "\n",
    "print(f1())"
   ]
  },
  {
   "cell_type": "code",
   "execution_count": 2,
   "metadata": {},
   "outputs": [
    {
     "name": "stdout",
     "output_type": "stream",
     "text": [
      "(1, 2, 3)\n",
      "<class 'tuple'>\n"
     ]
    }
   ],
   "source": [
    "def f1():\n",
    "    return 1, 2, 3\n",
    "\n",
    "v = f1()\n",
    "print(v)\n",
    "print(type(v))"
   ]
  },
  {
   "cell_type": "code",
   "execution_count": 4,
   "metadata": {},
   "outputs": [
    {
     "name": "stdout",
     "output_type": "stream",
     "text": [
      "('a', 2)\n",
      "a 2\n"
     ]
    }
   ],
   "source": [
    "def f2():\n",
    "    return 'a', 2\n",
    "\n",
    "print(f2())   # ('a', 2)\n",
    "v1, v2 = f2() # 언패킹\n",
    "print(v1, v2)"
   ]
  },
  {
   "cell_type": "markdown",
   "metadata": {},
   "source": [
    "### 1. 디폴트(default) 인수"
   ]
  },
  {
   "cell_type": "code",
   "execution_count": 5,
   "metadata": {},
   "outputs": [
    {
     "name": "stdout",
     "output_type": "stream",
     "text": [
      "유재석 10\n",
      "백종원 50\n"
     ]
    }
   ],
   "source": [
    "# 매개변수 기본 초기화값 활용하는 함수\n",
    "# 호출 : 함수명(값1), 함수명(값1, 값2)\n",
    "\n",
    "def fun1(name, age=10):\n",
    "    print(name, age)\n",
    "\n",
    "fun1('유재석')\n",
    "fun1('백종원', 50)"
   ]
  },
  {
   "cell_type": "code",
   "execution_count": 6,
   "metadata": {},
   "outputs": [
    {
     "ename": "TypeError",
     "evalue": "fun1() missing 1 required positional argument: 'name'",
     "output_type": "error",
     "traceback": [
      "\u001b[1;31m---------------------------------------------------------------------------\u001b[0m",
      "\u001b[1;31mTypeError\u001b[0m                                 Traceback (most recent call last)",
      "\u001b[1;32m<ipython-input-6-c007234036e7>\u001b[0m in \u001b[0;36m<module>\u001b[1;34m\u001b[0m\n\u001b[1;32m----> 1\u001b[1;33m \u001b[0mfun1\u001b[0m\u001b[1;33m(\u001b[0m\u001b[1;33m)\u001b[0m\u001b[1;33m\u001b[0m\u001b[1;33m\u001b[0m\u001b[0m\n\u001b[0m",
      "\u001b[1;31mTypeError\u001b[0m: fun1() missing 1 required positional argument: 'name'"
     ]
    }
   ],
   "source": [
    "fun1()"
   ]
  },
  {
   "cell_type": "markdown",
   "metadata": {},
   "source": [
    "### 2. 키워드 인수\n",
    "\n",
    "- **kwargs : keyword argument 줄임말\n",
    "- **kwargs : 키워드=특정값 형태로호출"
   ]
  },
  {
   "cell_type": "code",
   "execution_count": 7,
   "metadata": {},
   "outputs": [],
   "source": [
    "def fun2(x, y, z):\n",
    "    return x + y + z    "
   ]
  },
  {
   "cell_type": "code",
   "execution_count": 8,
   "metadata": {},
   "outputs": [
    {
     "data": {
      "text/plain": [
       "60"
      ]
     },
     "execution_count": 8,
     "metadata": {},
     "output_type": "execute_result"
    }
   ],
   "source": [
    "fun2(10, 20, 30)"
   ]
  },
  {
   "cell_type": "code",
   "execution_count": 9,
   "metadata": {},
   "outputs": [
    {
     "data": {
      "text/plain": [
       "60"
      ]
     },
     "execution_count": 9,
     "metadata": {},
     "output_type": "execute_result"
    }
   ],
   "source": [
    "fun2(x=10, y=20, z=30)"
   ]
  },
  {
   "cell_type": "code",
   "execution_count": 10,
   "metadata": {},
   "outputs": [
    {
     "data": {
      "text/plain": [
       "60"
      ]
     },
     "execution_count": 10,
     "metadata": {},
     "output_type": "execute_result"
    }
   ],
   "source": [
    "fun2(z=10, y=20, x=30)"
   ]
  },
  {
   "cell_type": "code",
   "execution_count": 11,
   "metadata": {},
   "outputs": [
    {
     "ename": "TypeError",
     "evalue": "fun2() got an unexpected keyword argument 'xx'",
     "output_type": "error",
     "traceback": [
      "\u001b[1;31m---------------------------------------------------------------------------\u001b[0m",
      "\u001b[1;31mTypeError\u001b[0m                                 Traceback (most recent call last)",
      "\u001b[1;32m<ipython-input-11-a1f65bbb30e6>\u001b[0m in \u001b[0;36m<module>\u001b[1;34m\u001b[0m\n\u001b[1;32m----> 1\u001b[1;33m \u001b[0mfun2\u001b[0m\u001b[1;33m(\u001b[0m\u001b[0mxx\u001b[0m\u001b[1;33m=\u001b[0m\u001b[1;36m10\u001b[0m\u001b[1;33m,\u001b[0m \u001b[0my\u001b[0m\u001b[1;33m=\u001b[0m\u001b[1;36m20\u001b[0m\u001b[1;33m,\u001b[0m \u001b[0mz\u001b[0m\u001b[1;33m=\u001b[0m\u001b[1;36m30\u001b[0m\u001b[1;33m)\u001b[0m\u001b[1;33m\u001b[0m\u001b[1;33m\u001b[0m\u001b[0m\n\u001b[0m",
      "\u001b[1;31mTypeError\u001b[0m: fun2() got an unexpected keyword argument 'xx'"
     ]
    }
   ],
   "source": [
    "fun2(xx=10, y=20, z=30)"
   ]
  },
  {
   "cell_type": "code",
   "execution_count": 1,
   "metadata": {},
   "outputs": [],
   "source": [
    "# **kwargs 사용\n",
    "def fun3(**kwargs):       # x=10, y=20, z=30\n",
    "    print(type(kwargs))   # <class 'dict'>\n",
    "    print(kwargs)         # {'x': 10, 'y': 20, 'z': 30}\n",
    "    print(kwargs['x'])    # dict 데이터 사용 문법으로 활용\n",
    "    print(kwargs.items()) # [('x', 10), ('y', 20), ('z', 30)]"
   ]
  },
  {
   "cell_type": "code",
   "execution_count": 22,
   "metadata": {},
   "outputs": [
    {
     "name": "stdout",
     "output_type": "stream",
     "text": [
      "<class 'dict'>\n",
      "{'x': 10, 'y': 20, 'z': 30}\n",
      "10\n",
      "dict_items([('x', 10), ('y', 20), ('z', 30)])\n"
     ]
    }
   ],
   "source": [
    "fun3(x=10, y=20, z=30)"
   ]
  },
  {
   "cell_type": "code",
   "execution_count": 2,
   "metadata": {},
   "outputs": [
    {
     "name": "stdout",
     "output_type": "stream",
     "text": [
      "<class 'dict'>\n",
      "{'x': 10, 'y': 20}\n",
      "10\n",
      "dict_items([('x', 10), ('y', 20)])\n"
     ]
    }
   ],
   "source": [
    "fun3(x=10, y=20)"
   ]
  },
  {
   "cell_type": "code",
   "execution_count": 23,
   "metadata": {},
   "outputs": [],
   "source": [
    "# **kwargs 사용 + 반복문과 items()\n",
    "def fun4(**kwargs):\n",
    "    for v  in [('x', 10), ('y', 20), ('z', 30)]:\n",
    "        print(v)\n"
   ]
  },
  {
   "cell_type": "code",
   "execution_count": 24,
   "metadata": {
    "scrolled": true
   },
   "outputs": [
    {
     "name": "stdout",
     "output_type": "stream",
     "text": [
      "('x', 10)\n",
      "('y', 20)\n",
      "('z', 30)\n"
     ]
    }
   ],
   "source": [
    "fun4(x=10, y=20, z=30)"
   ]
  },
  {
   "cell_type": "code",
   "execution_count": 26,
   "metadata": {},
   "outputs": [],
   "source": [
    "# **kwargs 사용 + 반복문과 items()\n",
    "def fun4(**kwargs):\n",
    "    for k, v  in [('x', 10), ('y', 20), ('z', 30)]:\n",
    "        print(k, v)"
   ]
  },
  {
   "cell_type": "code",
   "execution_count": 27,
   "metadata": {},
   "outputs": [
    {
     "name": "stdout",
     "output_type": "stream",
     "text": [
      "x 10\n",
      "y 20\n",
      "z 30\n"
     ]
    }
   ],
   "source": [
    "fun4(x=10, y=20, z=30)"
   ]
  },
  {
   "cell_type": "code",
   "execution_count": 28,
   "metadata": {},
   "outputs": [],
   "source": [
    "# **kwargs 사용 + 반복문과 items()\n",
    "def fun4(**kwargs):\n",
    "    for k, v  in kwargs.items():\n",
    "        print(k, ':', v)"
   ]
  },
  {
   "cell_type": "code",
   "execution_count": 29,
   "metadata": {},
   "outputs": [
    {
     "name": "stdout",
     "output_type": "stream",
     "text": [
      "x : 10\n",
      "y : 20\n",
      "z : 30\n"
     ]
    }
   ],
   "source": [
    "fun4(x=10, y=20, z=30)"
   ]
  },
  {
   "cell_type": "code",
   "execution_count": null,
   "metadata": {},
   "outputs": [],
   "source": []
  },
  {
   "cell_type": "markdown",
   "metadata": {},
   "source": [
    "### 3. 임의의 인수\n",
    "\n",
    "- *를 사용할 경우 인수는 튜퓰 형식\n",
    "- 가변인자 활용"
   ]
  },
  {
   "cell_type": "code",
   "execution_count": 34,
   "metadata": {},
   "outputs": [],
   "source": [
    "# args = arguments들 복수형의 인수들 의미\n",
    "\n",
    "def fun3(*args, sep='-'):\n",
    "    print(sep.join(args))  # '-'.join(args)"
   ]
  },
  {
   "cell_type": "code",
   "execution_count": 35,
   "metadata": {},
   "outputs": [
    {
     "name": "stdout",
     "output_type": "stream",
     "text": [
      "a-b\n"
     ]
    }
   ],
   "source": [
    "fun3('a', 'b')"
   ]
  },
  {
   "cell_type": "code",
   "execution_count": 36,
   "metadata": {},
   "outputs": [
    {
     "name": "stdout",
     "output_type": "stream",
     "text": [
      "a-b-c\n"
     ]
    }
   ],
   "source": [
    "fun3('a', 'b', 'c')"
   ]
  },
  {
   "cell_type": "code",
   "execution_count": 19,
   "metadata": {},
   "outputs": [],
   "source": [
    "def fun3(*args):\n",
    "    print(type(args))\n",
    "    print(args)"
   ]
  },
  {
   "cell_type": "code",
   "execution_count": 20,
   "metadata": {},
   "outputs": [
    {
     "name": "stdout",
     "output_type": "stream",
     "text": [
      "<class 'tuple'>\n",
      "('a', 'b', 'c')\n"
     ]
    }
   ],
   "source": [
    "fun3('a', 'b', 'c')"
   ]
  },
  {
   "cell_type": "code",
   "execution_count": 21,
   "metadata": {},
   "outputs": [
    {
     "name": "stdout",
     "output_type": "stream",
     "text": [
      "<class 'tuple'>\n",
      "('a', 'b')\n"
     ]
    }
   ],
   "source": [
    "fun3('a', 'b')"
   ]
  },
  {
   "cell_type": "code",
   "execution_count": null,
   "metadata": {},
   "outputs": [],
   "source": []
  },
  {
   "cell_type": "markdown",
   "metadata": {},
   "source": [
    "**미션-\n",
    "일회용 패스워드 생성기를 이용하여서 3개의 패스워드를 생성하여 출력하는 프로그램을 작성해 보기**\n",
    "\n",
    "출력 예시 : \n",
    "    \n",
    "ouuc4c <br>\n",
    "uuahtp <br>\n",
    "79s6oz <br>"
   ]
  },
  {
   "cell_type": "code",
   "execution_count": 166,
   "metadata": {},
   "outputs": [
    {
     "name": "stdout",
     "output_type": "stream",
     "text": [
      "21\n"
     ]
    }
   ],
   "source": [
    "# print()는 별도의 표기 없이도 호출해서 사용이 가능한 내장 함수\n",
    "# import 는 제공받은 library이기는 하나 사용시 사용하겠다는 설정이 필요한 library\n",
    "\n",
    "# 난수 : 정해진 범위 내에서 발생되는 알수 없는 수\n",
    "\n",
    "import random  # random이라는 library 사용하겠다 또는 random 이라는 moudle 사용하겠다..\n",
    "\n",
    "# random.randrange(36)\n",
    "\n",
    "# random : 난수 발생 기능의 library\n",
    "# randrange(숫자) : 숫자 범위 내에서의 실제 난수 발생 시키는 기능의 함수\n",
    "# 정수값에 해당하는 난수 발생 \n",
    "print(random.randrange(36)) #0~35\n"
   ]
  },
  {
   "cell_type": "code",
   "execution_count": 152,
   "metadata": {},
   "outputs": [
    {
     "data": {
      "text/plain": [
       "'9'"
      ]
     },
     "execution_count": 152,
     "metadata": {},
     "output_type": "execute_result"
    }
   ],
   "source": [
    "alphabet = \"abcdefghijklmnopqrstuvwxyz0123456789\"\n",
    "#print(len(alphabet))\n",
    "alphabet[35]"
   ]
  },
  {
   "cell_type": "markdown",
   "metadata": {},
   "source": [
    "random.random() :0.0 이상 1.0 미만\n",
    "\n",
    "rondom.randrange() : 1에서 6까지의 정수 중 하나를 무작위로 반환"
   ]
  },
  {
   "cell_type": "code",
   "execution_count": 153,
   "metadata": {},
   "outputs": [
    {
     "name": "stdout",
     "output_type": "stream",
     "text": [
      "0.5950729810837521\n"
     ]
    }
   ],
   "source": [
    "print(random.random())"
   ]
  },
  {
   "cell_type": "code",
   "execution_count": 150,
   "metadata": {},
   "outputs": [
    {
     "name": "stdout",
     "output_type": "stream",
     "text": [
      "5\n"
     ]
    }
   ],
   "source": [
    "print(random.randrange(9))"
   ]
  },
  {
   "cell_type": "code",
   "execution_count": 177,
   "metadata": {},
   "outputs": [
    {
     "name": "stdout",
     "output_type": "stream",
     "text": [
      "y7wvwr\n",
      "aikxi8\n",
      "s51z4a\n"
     ]
    }
   ],
   "source": [
    "import random\n",
    "\n",
    "def genPass():\n",
    "    # 제공되는 raw 데이터\n",
    "    alphabet = \"abcdefghijklmnopqrstuvwxyz0123456789\"\n",
    "    \n",
    "    # 6개 착출된 데이터를 보유하게 되는 변수\n",
    "    # 반복을 6번 해서 6개의 문자열 구성\n",
    "    # 데이터가 적재되는 변수\n",
    "    password = \"\"\n",
    "    \n",
    "    \n",
    "    for i in range(6): #0~5까지 6개의 숫자 반환, 6번으로 사용되는 반복문 \n",
    "        index = random.randrange(36)\n",
    "        password = password+alphabet[index]  #   password += alphabet[index]     \n",
    "        \n",
    "    return password\n",
    "\n",
    "\n",
    "print(genPass())\n",
    "print(genPass())\n",
    "print(genPass())"
   ]
  },
  {
   "cell_type": "markdown",
   "metadata": {},
   "source": [
    "### 4. 람다 함수\n",
    "\n",
    "- 이름없이 정의된 익명함수 \n",
    "- 매개변수 제한이 없음, 단 하나의 값만 반환\n",
    "- 함수의 반환, 변수의 데이터값으로 사용 가능\n",
    "- list의 sort의 key속성의 값으로도 사용 가능(실전 응용)\n",
    "- 문법 :<br>\n",
    "lambda 인자[,..] : 표현식(수식)\n"
   ]
  },
  {
   "cell_type": "code",
   "execution_count": null,
   "metadata": {},
   "outputs": [],
   "source": [
    "# https://www.w3schools.com/python/trypython.asp?filename=demo_lambda\n",
    "\n",
    "# x는 대입 받는 변수\n",
    "# lambda : 식으로 함수처럼 기능 구현 하겠다는 표기의 선언, 이름없는 함수 또는 식이라 표현\n",
    "# a : 식 수행시 필요로 하는 데이터를 받는 변수(argument or parameter) \n",
    "# : 구분자\n",
    "# a + 10 : 함수의 실행 로직 영역과 동일한 위치, 호출한 곳으로 값을 return(돌려주기)\n",
    "\n",
    "x = lambda a: a + 10\n",
    "\n",
    "# 실행시에는 식을 대입받은 변수명(값) 으로 호출하고 return 받은 데이터 활용 \n",
    "print(x(5))"
   ]
  },
  {
   "cell_type": "code",
   "execution_count": 178,
   "metadata": {},
   "outputs": [
    {
     "name": "stdout",
     "output_type": "stream",
     "text": [
      "110\n"
     ]
    }
   ],
   "source": [
    "def sum(x):\n",
    "    return x + 10\n",
    "\n",
    "print(sum(100))"
   ]
  },
  {
   "cell_type": "code",
   "execution_count": 180,
   "metadata": {},
   "outputs": [
    {
     "name": "stdout",
     "output_type": "stream",
     "text": [
      "110\n"
     ]
    }
   ],
   "source": [
    "#? 상단 코드를 lambda 식으로 구성해 보기\n",
    "\n",
    "sum2 = lambda x : x + 10\n",
    "\n",
    "print(sum2(100))"
   ]
  },
  {
   "cell_type": "code",
   "execution_count": 181,
   "metadata": {},
   "outputs": [
    {
     "name": "stdout",
     "output_type": "stream",
     "text": [
      "300\n"
     ]
    }
   ],
   "source": [
    "sum3 = lambda x, y : x + y\n",
    "\n",
    "\n",
    "print(sum3(100, 200))   # 300"
   ]
  },
  {
   "cell_type": "code",
   "execution_count": 182,
   "metadata": {},
   "outputs": [],
   "source": [
    "mylist=[1, 5, 3, 9, 8, 4, 2]\n",
    "mylist.sort()"
   ]
  },
  {
   "cell_type": "code",
   "execution_count": 183,
   "metadata": {},
   "outputs": [
    {
     "data": {
      "text/plain": [
       "[1, 2, 3, 4, 5, 8, 9]"
      ]
     },
     "execution_count": 183,
     "metadata": {},
     "output_type": "execute_result"
    }
   ],
   "source": [
    "mylist"
   ]
  },
  {
   "cell_type": "code",
   "execution_count": 184,
   "metadata": {},
   "outputs": [
    {
     "name": "stdout",
     "output_type": "stream",
     "text": [
      "[('kim', 23, 100), ('lee', 27, 99), ('park', 43, 102)]\n"
     ]
    }
   ],
   "source": [
    "mylist2 = [('kim', 23, 100), ('lee', 27, 99), ('park', 43, 102)]\n",
    "print(mylist2)"
   ]
  },
  {
   "cell_type": "code",
   "execution_count": 185,
   "metadata": {},
   "outputs": [
    {
     "data": {
      "text/plain": [
       "[('lee', 27, 99), ('kim', 23, 100), ('park', 43, 102)]"
      ]
     },
     "execution_count": 185,
     "metadata": {},
     "output_type": "execute_result"
    }
   ],
   "source": [
    "# ? 동작에 대한 설명 주석 달기 \n",
    "# ㅣist 내에 존재하는 각각의 tuple들의 index 2 즉 세번째 요소(데이터) 들로 오름차순 정렬\n",
    "mylist2.sort(key=lambda a : a[2])\n",
    "mylist2"
   ]
  },
  {
   "cell_type": "code",
   "execution_count": 187,
   "metadata": {},
   "outputs": [
    {
     "data": {
      "text/plain": [
       "[('park', 43, 102), ('kim', 23, 100), ('lee', 27, 99)]"
      ]
     },
     "execution_count": 187,
     "metadata": {},
     "output_type": "execute_result"
    }
   ],
   "source": [
    "# ? 동작에 대한 설명 주석 달기 \n",
    "# ㅣist 내에 존재하는 각각의 tuple들의 index 2 즉 세번째 요소(데이터) 들로 내림차순 정렬\n",
    "mylist2.sort(key=lambda a : a[2], reverse=True)\n",
    "mylist2"
   ]
  },
  {
   "cell_type": "code",
   "execution_count": 186,
   "metadata": {},
   "outputs": [
    {
     "data": {
      "text/plain": [
       "[('kim', 23, 100), ('lee', 27, 99), ('park', 43, 102)]"
      ]
     },
     "execution_count": 186,
     "metadata": {},
     "output_type": "execute_result"
    }
   ],
   "source": [
    "mylist2 = [('kim', 23, 100), ('lee', 27, 99), ('park', 43, 102)]\n",
    "mylist2.sort(key=lambda a : a[0])\n",
    "mylist2"
   ]
  },
  {
   "cell_type": "code",
   "execution_count": 192,
   "metadata": {},
   "outputs": [
    {
     "name": "stdout",
     "output_type": "stream",
     "text": [
      "spam\n",
      "egg\n",
      "ham\n",
      "['Spam', 'egg', 'Ham']\n",
      "['egg', 'Ham', 'Spam']\n"
     ]
    }
   ],
   "source": [
    "# 대소문자 구분없이 sort 함수로 정렬 \n",
    "# 람다 사용해서 소문자로 변경해서 정렬 \n",
    "# lower() - 소문자로 변경하는 함수\n",
    "# upper() - 대문자로 변경하는 함수 \n",
    "mylist3 = ['Spam', 'egg', 'Ham']\n",
    "\n",
    "for v in mylist3:\n",
    "    print(v.lower())   # 대소문자의 유니코드 또는 아스키 코드의 번호를 고려한 대소문자 맞춤\n",
    "    \n",
    " \n",
    "print(mylist3)\n",
    "\n",
    "# sort() 원본 데이터 정렬만 관리\n",
    "# 람다식으로 처리한 기능은 원본 데이터 활용해서 임시로 \n",
    "# 변경된 후에 휘발되는 구조\n",
    "# key=lambda x: x.lower() : \n",
    "\n",
    "'''\n",
    "['Spam', 'egg', 'Ham']\n",
    "Spam, egg, Ham\n",
    "S, e, H 뽑아서 아스키 또는 유니코드의 숫자 체계 비교\n",
    "문제는 대소 문자의 숫자가 비교에 부적합\n",
    "따라서 소문자로 다 변경 또는 대문자로 변경해서 비교하는 로직이 필요\n",
    "로직은 대(소)문자로 변경하고자 하는게 주요 로직이 아니라\n",
    "단순 정렬이 주요 로직이 중요한데\n",
    "데이터 손실이 발생되는 것을 방지하고자 sort() 정렬 책임지고\n",
    "lamdba식은 대소문자 변경으로만 처리\n",
    "Spam -> spam(메모리에 생성되어 존재) 반환 / 'egg -> egg / Ham -> ham으로 \n",
    "비교 \n",
    "메모리에서 휘발 (메모리에서 삭제의미)\n",
    "'''\n",
    "\n",
    "mylist3.sort(key=lambda x: x.lower())\n",
    "\n",
    "print(mylist3)"
   ]
  },
  {
   "cell_type": "code",
   "execution_count": 193,
   "metadata": {},
   "outputs": [
    {
     "name": "stdout",
     "output_type": "stream",
     "text": [
      "['Ham', 'Spam', 'egg']\n"
     ]
    }
   ],
   "source": [
    "mylist3 = ['Spam', 'egg', 'Ham']\n",
    "mylist3.sort()\n",
    "print(mylist3)"
   ]
  },
  {
   "cell_type": "code",
   "execution_count": 38,
   "metadata": {},
   "outputs": [
    {
     "data": {
      "text/plain": [
       "['one', 'three', 'two']"
      ]
     },
     "execution_count": 38,
     "metadata": {},
     "output_type": "execute_result"
    }
   ],
   "source": [
    "mydict1 = {'one':1, 'two':2, 'three':3}\n",
    "sorted(mydict1)"
   ]
  },
  {
   "cell_type": "code",
   "execution_count": null,
   "metadata": {},
   "outputs": [],
   "source": []
  },
  {
   "cell_type": "markdown",
   "metadata": {},
   "source": [
    "### 5. map() 함수\n",
    "\n",
    "- 문법 : map(함수, 리스트)\n",
    "- 시퀀스의 모든 항목에 함수를 적용한 결과 리스트 반환"
   ]
  },
  {
   "cell_type": "code",
   "execution_count": 209,
   "metadata": {},
   "outputs": [
    {
     "data": {
      "text/plain": [
       "[1, 4, 9, 16, 25, 36, 49, 64, 81, 100]"
      ]
     },
     "execution_count": 209,
     "metadata": {},
     "output_type": "execute_result"
    }
   ],
   "source": [
    "def cube(x):\n",
    "    return x**2\n",
    "\n",
    "list(map(cube, range(1, 11)))   # 1, 11 - 1~10"
   ]
  },
  {
   "cell_type": "code",
   "execution_count": 210,
   "metadata": {},
   "outputs": [
    {
     "data": {
      "text/plain": [
       "[1, 4, 9, 16, 25, 36, 49, 64, 81, 100]"
      ]
     },
     "execution_count": 210,
     "metadata": {},
     "output_type": "execute_result"
    }
   ],
   "source": [
    "list(map(lambda x : x**2, range(1, 11)))"
   ]
  },
  {
   "cell_type": "code",
   "execution_count": 58,
   "metadata": {},
   "outputs": [
    {
     "name": "stdout",
     "output_type": "stream",
     "text": [
      "0\n",
      "1\n",
      "4\n",
      "9\n",
      "16\n"
     ]
    }
   ],
   "source": [
    "for i in range(5):\n",
    "    print(i**2)"
   ]
  },
  {
   "cell_type": "code",
   "execution_count": 206,
   "metadata": {},
   "outputs": [
    {
     "name": "stdout",
     "output_type": "stream",
     "text": [
      "<map object at 0x00000272D30D8040>\n",
      "[5, 6, 6]\n"
     ]
    }
   ],
   "source": [
    "# map() :  다수의 데이터에 공통된 로직 일괄 처리 가능한 기능의 함수\n",
    "# 사용 방법 : map(기능보유한함수명 or 람다식, \n",
    "#                  첫번째parameter로입력된기능이 사용할 데이터)\n",
    "# 대량의 빅데이터 일괄처리 하는 기능의 sw 대표적인 하둡 내부에서도\n",
    "# 사용되는 기능\n",
    "\n",
    "def myfunc(n):\n",
    "#     print(n)\n",
    "    return len(n)\n",
    "\n",
    "# tuple\n",
    "x = map(myfunc, ('apple', 'banana', 'cherry'))\n",
    "\n",
    "print(x)  # <map object at 0x00000272D30D8040>\n",
    "\n",
    "# list(x) : map 이라는 객체가 보유한 데이터들을 실제 사용 가능하게 가공한 구조\n",
    "print(list(x))  # [5, 6, 6]"
   ]
  },
  {
   "cell_type": "code",
   "execution_count": 207,
   "metadata": {},
   "outputs": [
    {
     "data": {
      "text/plain": [
       "[5, 6, 6]"
      ]
     },
     "execution_count": 207,
     "metadata": {},
     "output_type": "execute_result"
    }
   ],
   "source": [
    "def myfunc(n):\n",
    "    return len(n)\n",
    "\n",
    "# list\n",
    "x = map(myfunc, ['apple', 'banana', 'cherry'])\n",
    "\n",
    "list(x)"
   ]
  },
  {
   "cell_type": "code",
   "execution_count": 208,
   "metadata": {},
   "outputs": [
    {
     "data": {
      "text/plain": [
       "[5, 6, 6]"
      ]
     },
     "execution_count": 208,
     "metadata": {},
     "output_type": "execute_result"
    }
   ],
   "source": [
    "list(map(lambda n : len(n), ['apple', 'banana', 'cherry']))"
   ]
  },
  {
   "cell_type": "markdown",
   "metadata": {},
   "source": [
    "### 6. reduce() 함수\n",
    "- 주로 집계용으로 사용\n",
    "- 사용을 위해서는 functools 모듈 선언"
   ]
  },
  {
   "cell_type": "code",
   "execution_count": 212,
   "metadata": {},
   "outputs": [
    {
     "name": "stdout",
     "output_type": "stream",
     "text": [
      "15\n"
     ]
    }
   ],
   "source": [
    "from functools import reduce\n",
    "\n",
    "'''\n",
    "x, y\n",
    "    1, 2  => 3\n",
    "    3, 3  => 6 \n",
    "    6, 4  => 10\n",
    "    10, 5 => 15\n",
    "'''\n",
    "\n",
    "data = reduce(lambda x, y: x+y, [1, 2, 3, 4, 5])\n",
    "print(data)"
   ]
  },
  {
   "cell_type": "code",
   "execution_count": 213,
   "metadata": {},
   "outputs": [
    {
     "name": "stdout",
     "output_type": "stream",
     "text": [
      "15\n"
     ]
    }
   ],
   "source": [
    "#상단 reduce에 사용된 lambda의 로직을 단순 python 문법으로 개발한 코드\n",
    "\n",
    "def userReduce():\n",
    "    datas = [1, 2, 3, 4, 5]\n",
    "    r = 0\n",
    "    \n",
    "    for x in datas:\n",
    "        r =  r + x\n",
    "    \n",
    "    print(r)  # 15\n",
    "\n",
    "userReduce()"
   ]
  },
  {
   "cell_type": "markdown",
   "metadata": {},
   "source": [
    "### 7. filter()\n",
    "\n",
    "- 데이터의 일부만 착출 가능한 기능의 즉 필터링 기능의 함수\n",
    "- 시퀀스의 항목들 중 함수 조건이 True인 항목만 추출\n",
    "- 문법 : filter(함수 or 람다식, 필터링당할데이터들)\n"
   ]
  },
  {
   "cell_type": "code",
   "execution_count": 217,
   "metadata": {},
   "outputs": [
    {
     "data": {
      "text/plain": [
       "[0, 1, 2, 3, 4]"
      ]
     },
     "execution_count": 217,
     "metadata": {},
     "output_type": "execute_result"
    }
   ],
   "source": [
    "list(filter(lambda x : x < 5, range(10)))"
   ]
  },
  {
   "cell_type": "code",
   "execution_count": 218,
   "metadata": {},
   "outputs": [
    {
     "data": {
      "text/plain": [
       "[True, True, True, True, True, False, False, False, False, False]"
      ]
     },
     "execution_count": 218,
     "metadata": {},
     "output_type": "execute_result"
    }
   ],
   "source": [
    "list(map(lambda x : x < 5, range(10)))"
   ]
  },
  {
   "cell_type": "markdown",
   "metadata": {},
   "source": [
    "**미션** : (123,) 값이 출력될 수 있도록 ? 부분 완성하세요\n",
    "\n",
    "% 사용하셔서 나누고 난 나머지 값이 0인 경우로만 필터링 해 주세요"
   ]
  },
  {
   "cell_type": "code",
   "execution_count": 219,
   "metadata": {},
   "outputs": [],
   "source": [
    "list2 = (10, 22, 37, 41, 100, 123, 29)  "
   ]
  },
  {
   "cell_type": "code",
   "execution_count": 220,
   "metadata": {},
   "outputs": [
    {
     "data": {
      "text/plain": [
       "(123,)"
      ]
     },
     "execution_count": 220,
     "metadata": {},
     "output_type": "execute_result"
    }
   ],
   "source": [
    "tuple( filter( lambda x : x % 3 == 0, list2 ) )"
   ]
  },
  {
   "cell_type": "code",
   "execution_count": 221,
   "metadata": {},
   "outputs": [
    {
     "data": {
      "text/plain": [
       "[123]"
      ]
     },
     "execution_count": 221,
     "metadata": {},
     "output_type": "execute_result"
    }
   ],
   "source": [
    "list( filter( lambda x : x % 3 == 0, list2 ) )"
   ]
  },
  {
   "cell_type": "markdown",
   "metadata": {},
   "source": [
    "### 8. Collection 함수\n",
    "\n",
    "- 순서값과 요소값을 한번에 구하는 내장 함수\n",
    "- 기본 for문을 활용해서 학생 순번에 맞게 list 점수 출력\n",
    "- enumerate() 활용해서 순서와 요소값을 한번에 튜플로 반환"
   ]
  },
  {
   "cell_type": "code",
   "execution_count": 3,
   "metadata": {},
   "outputs": [
    {
     "name": "stdout",
     "output_type": "stream",
     "text": [
      "1번 학생의 성적 :  80\n",
      "2번 학생의 성적 :  30\n",
      "3번 학생의 성적 :  70\n",
      "4번 학생의 성적 :  85\n",
      "5번 학생의 성적 :  90\n"
     ]
    }
   ],
   "source": [
    "score = [80, 30, 70, 85, 90]\n",
    "\n",
    "for no in range(len(score)):\n",
    "    print(str(no+1) + '번 학생의 성적 : ', score[no])"
   ]
  },
  {
   "cell_type": "code",
   "execution_count": 15,
   "metadata": {},
   "outputs": [
    {
     "name": "stdout",
     "output_type": "stream",
     "text": [
      "1번 학생의 성적 :  80\n",
      "2번 학생의 성적 :  30\n",
      "3번 학생의 성적 :  70\n",
      "4번 학생의 성적 :  85\n",
      "5번 학생의 성적 :  90\n"
     ]
    }
   ],
   "source": [
    "#? enumerate() 함수 사용하셔서 상단 결과와 같이 출력해 주세요\n",
    "score = [80, 30, 70, 85, 90]\n",
    "\n",
    "for i, v in enumerate(score):\n",
    "#     print(i + '번 학생의 성적 : ', v)  에러\n",
    "#     print(i, '번 학생의 성적 : ', v)   # 타입이 서로 다른 문자열 결합시에는 print에선 ,\n",
    "    print(str(i+1) + '번 학생의 성적 : ', v) # + 결합 연산자로 결합시에는 str() 문자열로 변환후 작업"
   ]
  },
  {
   "cell_type": "code",
   "execution_count": 6,
   "metadata": {},
   "outputs": [
    {
     "name": "stdout",
     "output_type": "stream",
     "text": [
      "[(0, 'Spring'), (1, 'Summer'), (2, 'Fall'), (3, 'Winter')]\n",
      "[(1, 'Spring'), (2, 'Summer'), (3, 'Fall'), (4, 'Winter')]\n"
     ]
    }
   ],
   "source": [
    "seasons = ['Spring', 'Summer', 'Fall', 'Winter']\n",
    "print(list(enumerate(seasons)))\n",
    "\n",
    "print(list(enumerate(seasons, start=1)))"
   ]
  },
  {
   "cell_type": "code",
   "execution_count": 7,
   "metadata": {},
   "outputs": [
    {
     "name": "stdout",
     "output_type": "stream",
     "text": [
      "(0, 'Spring')\n",
      "(1, 'Summer')\n",
      "(2, 'Fall')\n",
      "(3, 'Winter')\n"
     ]
    }
   ],
   "source": [
    "seasons = ['Spring', 'Summer', 'Fall', 'Winter']\n",
    "\n",
    "for i in enumerate(seasons):\n",
    "    print(i)"
   ]
  },
  {
   "cell_type": "code",
   "execution_count": 8,
   "metadata": {},
   "outputs": [
    {
     "name": "stdout",
     "output_type": "stream",
     "text": [
      "0 Spring\n",
      "1 Summer\n",
      "2 Fall\n",
      "3 Winter\n"
     ]
    }
   ],
   "source": [
    "for i, v in enumerate(seasons):\n",
    "    print(i, v)"
   ]
  },
  {
   "cell_type": "code",
   "execution_count": null,
   "metadata": {},
   "outputs": [],
   "source": []
  }
 ],
 "metadata": {
  "kernelspec": {
   "display_name": "Python 3",
   "language": "python",
   "name": "python3"
  },
  "language_info": {
   "codemirror_mode": {
    "name": "ipython",
    "version": 3
   },
   "file_extension": ".py",
   "mimetype": "text/x-python",
   "name": "python",
   "nbconvert_exporter": "python",
   "pygments_lexer": "ipython3",
   "version": "3.8.5"
  }
 },
 "nbformat": 4,
 "nbformat_minor": 2
}
