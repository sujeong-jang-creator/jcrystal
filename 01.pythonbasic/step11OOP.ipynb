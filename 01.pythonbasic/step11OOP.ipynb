{
 "cells": [
  {
   "cell_type": "markdown",
   "metadata": {},
   "source": [
    "[[step10_2. class 학습 page로 이동](step10_2Class.ipynb) ] | [[step12. Module 학습 page로 이동](step12Module.ipynb) ] "
   ]
  },
  {
   "cell_type": "markdown",
   "metadata": {},
   "source": [
    "# 상속과 다형성\n",
    "\n",
    "1. **코드의 재사용성을 위한 구조**\n",
    "2. 상속 : 이미 존재하는 클래스를 상속받아 새로운 자식 클래스 생성\n",
    "- 다형성 : 상속 관계에서 동일한 부모 클래스를 상속받아서 작성된 자식 클래스들을 동일하게 처리"
   ]
  },
  {
   "cell_type": "code",
   "execution_count": 7,
   "metadata": {},
   "outputs": [],
   "source": [
    "from IPython.display import Image"
   ]
  },
  {
   "cell_type": "markdown",
   "metadata": {},
   "source": [
    "### 1. 상속\n",
    "\n",
    "- 상속 문법<br>\n",
    "&nbsp;&nbsp;&nbsp;클래스 선언구 - class 자식클래스명(부모클래스명)<br>\n",
    "&nbsp;&nbsp;&nbsp;자식 생성자에서 부모 생성자 호출 - super().\\__init__(인수)\n",
    "\n",
    "- 메소드 재정의\n"
   ]
  },
  {
   "cell_type": "markdown",
   "metadata": {},
   "source": [
    "**상속 Syntax**"
   ]
  },
  {
   "cell_type": "code",
   "execution_count": 6,
   "metadata": {
    "scrolled": true
   },
   "outputs": [
    {
     "data": {
      "image/png": "[encoded data removed]",
      "text/plain": [
       "<IPython.core.display.Image object>"
      ]
     },
     "execution_count": 6,
     "metadata": {},
     "output_type": "execute_result"
    }
   ],
   "source": [
    "Image('img/inheritance.png')"
   ]
  },
  {
   "cell_type": "markdown",
   "metadata": {},
   "source": [
    "**미션-문법 확인후 상속 관계 적용해 보기**"
   ]
  },
  {
   "cell_type": "code",
   "execution_count": 14,
   "metadata": {},
   "outputs": [],
   "source": [
    "# 부모 클래스 - Parent / Super\n",
    "class Parent:\n",
    "    def __init__(self, name):\n",
    "        self.name = name\n",
    "        \n",
    "    def getName(self):\n",
    "        return self.name\n",
    "\n",
    "    \n",
    "# 자식 클래스 - Child / Sub\n",
    "class Child(Parent):   # Parent를 상속받는 Child 클래스/ name & getName() 상속받음\n",
    "    \n",
    "    # 생성자 - 보유하고 있는 모든 멤버 변수들 초기화로 주로 개발\n",
    "    # Child는 Parent를 상속 따라서 총 멤버변수는 name, age\n",
    "    # name은 상속 : 부모가 물려주는 name에 초기화 \n",
    "    # 부모로부터 상속받은 변수 따라서 부모의 __init__ 호출하면서 초기화 진행\n",
    "    # super().__init__(name) 부모의 생성자를 name 변수 초기화 요청하면서 호출하는 문법 \n",
    "    # age는 새로 선언 따라서 초기화  self.age = age\n",
    "    def __init__(self, name, age): \n",
    "        super().__init__(name)   # Parent의 __init__ 호출 문법\n",
    "        self.age = age\n",
    "    \n",
    "    def printAll(self):\n",
    "        print(self.name, ' ', self.age)"
   ]
  },
  {
   "cell_type": "code",
   "execution_count": 15,
   "metadata": {},
   "outputs": [],
   "source": [
    "p = Child('유재석', 10)"
   ]
  },
  {
   "cell_type": "code",
   "execution_count": 16,
   "metadata": {},
   "outputs": [
    {
     "name": "stdout",
     "output_type": "stream",
     "text": [
      "유재석   10\n"
     ]
    }
   ],
   "source": [
    "p.printAll()"
   ]
  },
  {
   "cell_type": "code",
   "execution_count": 18,
   "metadata": {},
   "outputs": [
    {
     "name": "stdout",
     "output_type": "stream",
     "text": [
      "유재석\n"
     ]
    }
   ],
   "source": [
    "# 상속받은 메소드 호출 \n",
    "print(p.getName())"
   ]
  },
  {
   "cell_type": "code",
   "execution_count": 20,
   "metadata": {},
   "outputs": [
    {
     "name": "stdout",
     "output_type": "stream",
     "text": [
      "유재석\n"
     ]
    }
   ],
   "source": [
    "# 상속 받은 변수 호출 \n",
    "print(p.name)"
   ]
  },
  {
   "cell_type": "markdown",
   "metadata": {},
   "source": [
    "### 2. 메소드 재정의"
   ]
  },
  {
   "cell_type": "code",
   "execution_count": 51,
   "metadata": {},
   "outputs": [],
   "source": [
    "class Animal:\n",
    "    \n",
    "    # Animal() / Animal('값')  / super().__init__() / super().__init__('값')\n",
    "    def __init__(self, name=\"동물\")  :\n",
    "        self.name = name\n",
    "        print('Animal 생성자')\n",
    "        \n",
    "    def eat(self):\n",
    "        print('동물이 먹는다')\n",
    "        \n",
    "    # ....\n",
    "        \n",
    "class Dog(Animal):\n",
    "    \n",
    "    def __init__(self):        \n",
    "        super().__init__('강아지')  # or super().__init__('값') \n",
    "        print('Dog 생성자')\n",
    "    \n",
    "    #? eat() 메소드 재정의 하기\n",
    "    def eat(self):\n",
    "        print('강아지가 먹는다')"
   ]
  },
  {
   "cell_type": "code",
   "execution_count": 52,
   "metadata": {},
   "outputs": [
    {
     "name": "stdout",
     "output_type": "stream",
     "text": [
      "Animal 생성자\n",
      "Dog 생성자\n",
      "강아지\n"
     ]
    }
   ],
   "source": [
    "a = Dog()\n",
    "print(a.name)  # 동물"
   ]
  },
  {
   "cell_type": "code",
   "execution_count": 34,
   "metadata": {},
   "outputs": [
    {
     "name": "stdout",
     "output_type": "stream",
     "text": [
      "Animal 생성자\n",
      "Dog 생성자\n",
      "강아지가 먹는다\n"
     ]
    }
   ],
   "source": [
    "a = Dog()\n",
    "a.eat()"
   ]
  },
  {
   "cell_type": "code",
   "execution_count": 37,
   "metadata": {},
   "outputs": [
    {
     "name": "stdout",
     "output_type": "stream",
     "text": [
      "Animal 생성자\n",
      "동물이 먹는다\n"
     ]
    }
   ],
   "source": [
    "class Animal:\n",
    "    def __init__(self, name=\"\"):  \n",
    "        self.name = name\n",
    "        print('Animal 생성자')\n",
    "        \n",
    "    def eat(self):\n",
    "        print('동물이 먹는다')\n",
    "        \n",
    "        \n",
    "class Dog(Animal):\n",
    "    \n",
    "    def __init__(self):        \n",
    "        super().__init__()  # or super().__init__('값') \n",
    "        print('Dog 생성자')\n",
    "    \n",
    "    #? eat() 메소드 재정의 하기\n",
    "    def eat(self):\n",
    "        print('강아지가 먹는다')\n",
    "        \n",
    "a = Animal()\n",
    "a.eat()         "
   ]
  },
  {
   "cell_type": "code",
   "execution_count": 38,
   "metadata": {},
   "outputs": [],
   "source": [
    "# root 최상위 클래스 - Object\n",
    "class Animal:\n",
    "    def __init__(self, name=\"\"):\n",
    "        self.name = name\n",
    "        print('Animal 생성자')\n",
    "        \n",
    "    def eat(self):\n",
    "        print('동물이 먹는다')\n",
    "\n",
    "# 상속 관계명으로 즉 부모 클래스명 생략시에는 Object 라는 클래스가 자동으로 부모로 적용\n",
    "# root 최상위 클래스 - Object\n",
    "class Dog():\n",
    "    def __init__(self):        \n",
    "        super().__init__()      # ? 부모가 있으니 에러가 없네???? \n",
    "        print('Dog 생성자')\n",
    "    \n",
    "    def eat(self):\n",
    "        print('강아지가 먹는다')"
   ]
  },
  {
   "cell_type": "code",
   "execution_count": 39,
   "metadata": {},
   "outputs": [
    {
     "name": "stdout",
     "output_type": "stream",
     "text": [
      "Dog 생성자\n",
      "강아지가 먹는다\n"
     ]
    }
   ],
   "source": [
    "a = Dog()\n",
    "a.eat()"
   ]
  },
  {
   "cell_type": "code",
   "execution_count": 57,
   "metadata": {},
   "outputs": [],
   "source": [
    "class Animal:\n",
    "    def __init__(self, name=\"동물\"):  \n",
    "        self.name = name\n",
    "        print('Animal 생성자')\n",
    "        \n",
    "    def eat(self):\n",
    "        print('동물이 먹는다')\n",
    "\n",
    "class Dog(Animal):\n",
    "    def __init__(self):   \n",
    "        # 부모 생성자 실행 즉 부모 객체 생성하면서 name 변수 공간을 메모리에 생성 의미\n",
    "        super().__init__()  # or super().__init__('값')  코드 생략시 name 변수 사용 불가\n",
    "        print('Dog 생성자')\n",
    "    \n",
    "    def eat(self):\n",
    "        print('강아지가 먹는다')"
   ]
  },
  {
   "cell_type": "code",
   "execution_count": 58,
   "metadata": {},
   "outputs": [
    {
     "name": "stdout",
     "output_type": "stream",
     "text": [
      "Animal 생성자\n",
      "Dog 생성자\n",
      "강아지가 먹는다\n",
      "동물\n"
     ]
    }
   ],
   "source": [
    "d = Dog()\n",
    "d.eat()\n",
    "print(d.name)  # super().__init__()가 생략되어 있을 경우 name 변수가 없다는 오류 발생"
   ]
  },
  {
   "cell_type": "markdown",
   "metadata": {},
   "source": [
    "**미션-상속 문제**\n",
    "\n",
    "\n",
    "회사에 직원(Employee)과 매니저(Manager)가 있다. 직원은 월급만 있지만 매니저는 월급외에 보너스가 있다<br>\n",
    "Employee 클래스를 상속받아서 Manager 클래스를 작성한다. <br>\n",
    "Employee 클래스의 getSalary()는 Manager 클래스에서 재정의된다 <br><br>\n",
    "- 조건 : 미완성 문법을 완성하기\n",
    "- 출력 결과 : 이름: 김철수; 월급: 2000000; 보너스: 1000000"
   ]
  },
  {
   "cell_type": "code",
   "execution_count": 61,
   "metadata": {},
   "outputs": [
    {
     "name": "stdout",
     "output_type": "stream",
     "text": [
      "이름: 공자; 월급: 2000000; 보너스: 1000000\n"
     ]
    }
   ],
   "source": [
    "class Employee:\n",
    "    def __init__(self, name, salary):\n",
    "        self.name = name\n",
    "        self.salary = salary\n",
    "        \n",
    "    def  getSalary(self):\n",
    "        return salary\n",
    "\n",
    "class Manager(Employee):\n",
    "  \n",
    "    def __init__(self, name, salary, bonus):\n",
    "        super().__init__(name, salary) #super().__init__(\"공자\", 2000000) 호출하는 상황\n",
    "        self.bonus = bonus\n",
    "      \n",
    "    \n",
    "    # 객체의 문자열 표현을 반환\n",
    "    # \\ - line에 코드가 엄청 긴 경우 문법 오류 발생없이 line을 구분할 필요가 있을때 \n",
    "    # 한 line의 문장입니다 라는 표현의 표기 \n",
    "    def __str__(self):\n",
    "        return \"이름: \"+ self.name + \"; 월급: \"+ str(self.salary) \\\n",
    "                +\"; 보너스: \"+str(self.bonus)\n",
    "\n",
    "kim = Manager(\"공자\", 2000000, 1000000)\n",
    "print(kim) #__str__(self) 메소드 자동 호출  , 이름: 공자; 월급: 2000000; 보너스: 1000000\n"
   ]
  },
  {
   "cell_type": "markdown",
   "metadata": {},
   "source": [
    "### 3. 다형성\n",
    "- 코드의 재사용성 및 간결성을 위함\n",
    "\n",
    "- 파이썬 : 상속 관계에서 다형성 성립\n",
    "- 문법 : list 에 저장하는 각각의 데이터 타입 제한이 없음\n"
   ]
  },
  {
   "cell_type": "markdown",
   "metadata": {},
   "source": [
    "소스 보고 이해하기"
   ]
  },
  {
   "cell_type": "code",
   "execution_count": 5,
   "metadata": {},
   "outputs": [],
   "source": [
    "class Animal:\n",
    "    def __init__(self, name):    \n",
    "        self.name = name\n",
    "        \n",
    "    def speak(self):             \n",
    "        return '알 수 없음'\n",
    "\n",
    "class Dog(Animal):\n",
    "    def speak(self): # 재정의\n",
    "        return '멍멍!'\n",
    "    \n",
    "class Cat(Animal):\n",
    "    def speak(self):\n",
    "        return '야옹!'\n",
    "    \n",
    "# 다형성을 적용한 list 만들기 \n",
    "# list에는 모든 데이터 다 저장 가능\n",
    "# 현 예제에선 speak() 함수 호출의 간결성을 위한 list 타입 활용 \n",
    "animalList = [Dog('dog1'), Dog('dog2'), Cat('cat1')]\n",
    " "
   ]
  },
  {
   "cell_type": "code",
   "execution_count": null,
   "metadata": {},
   "outputs": [],
   "source": [
    "# ? 각 클래스의 speak() 메소두 호출 후 출력하기"
   ]
  }
 ],
 "metadata": {
  "kernelspec": {
   "display_name": "Python 3",
   "language": "python",
   "name": "python3"
  },
  "language_info": {
   "codemirror_mode": {
    "name": "ipython",
    "version": 3
   },
   "file_extension": ".py",
   "mimetype": "text/x-python",
   "name": "python",
   "nbconvert_exporter": "python",
   "pygments_lexer": "ipython3",
   "version": "3.8.5"
  }
 },
 "nbformat": 4,
 "nbformat_minor": 2
}
