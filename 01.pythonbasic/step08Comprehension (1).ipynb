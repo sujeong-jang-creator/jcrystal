{
 "cells": [
  {
   "cell_type": "markdown",
   "metadata": {
    "id": "pgcfDW85qPYD"
   },
   "source": [
    "<!--NAVIGATION-->\n",
    "\n",
    "\n",
    "[[step07. 함수 학습 page로 이동](step07Function.ipynb) ] | [[step09.예외 처리 학습 page로 이동](step09_1Exception.ipynb) ] | "
   ]
  },
  {
   "cell_type": "markdown",
   "metadata": {
    "id": "KEuYXoCzqPYN"
   },
   "source": [
    "### 컴프리헨션\n",
    "\n",
    "- **리스트, 세트, 딕셔너리 내에서 실행 할 수 있는 한 줄 for문**\n",
    "- 리스트 컴프리헨션, 세트 컴프리헨션, 딕셔너리 컴프리헨션라고 함\n",
    "- 컴프리헨션 : 내장, 내포의 의미"
   ]
  },
  {
   "cell_type": "code",
   "execution_count": 1,
   "metadata": {
    "id": "1t_jW3uWqPYP"
   },
   "outputs": [],
   "source": [
    "# 0~9까지 제곱하는 로직\n",
    "\n",
    "datas = []\n",
    "\n",
    "for x in range(10):\n",
    "    datas.append(x**2)"
   ]
  },
  {
   "cell_type": "code",
   "execution_count": 2,
   "metadata": {
    "id": "FyRGQmo1qPYQ",
    "outputId": "083ca48e-82af-4019-fbdd-aeedc43098c9"
   },
   "outputs": [
    {
     "data": {
      "text/plain": [
       "[0, 1, 4, 9, 16, 25, 36, 49, 64, 81]"
      ]
     },
     "execution_count": 2,
     "metadata": {},
     "output_type": "execute_result"
    }
   ],
   "source": [
    "datas"
   ]
  },
  {
   "cell_type": "code",
   "execution_count": 3,
   "metadata": {
    "id": "Tmtq7kL-qPYS",
    "outputId": "2ca8e003-45e4-4330-af81-6982b627513b"
   },
   "outputs": [
    {
     "data": {
      "text/plain": [
       "[0, 1, 4, 9, 16, 25, 36, 49, 64, 81]"
      ]
     },
     "execution_count": 3,
     "metadata": {},
     "output_type": "execute_result"
    }
   ],
   "source": [
    "# datas.append() 문장과 동일한 표현시 [ ]\n",
    "\n",
    "datas = [ x**2 for x in range(10) ]\n",
    "\n",
    "datas"
   ]
  },
  {
   "cell_type": "code",
   "execution_count": null,
   "metadata": {
    "id": "Oa-ewDDrqPYS",
    "outputId": "459be834-e7e0-4392-8bd9-4b94d17ffddd"
   },
   "outputs": [
    {
     "data": {
      "text/plain": [
       "[2, 3, 4, 5, 6, 7]"
      ]
     },
     "execution_count": 78,
     "metadata": {
      "tags": []
     },
     "output_type": "execute_result"
    }
   ],
   "source": [
    "# 0~5까지 반복해서 순차적으로 +2를 한 결과값들을 하나의 list에 저장 후 출력\n",
    "# 0~5까지 반복(range(6), for)해서 순차적으로 +2(변수+2)를 한 결과값들을 하나의 list에 저장([]) 후 출력\n",
    "\n",
    "datas2"
   ]
  },
  {
   "cell_type": "code",
   "execution_count": null,
   "metadata": {
    "id": "GF00rAESqPYT"
   },
   "outputs": [],
   "source": []
  },
  {
   "cell_type": "markdown",
   "metadata": {
    "id": "rKP9QjtcqPYT"
   },
   "source": [
    "**조건식 추가**"
   ]
  },
  {
   "cell_type": "markdown",
   "metadata": {
    "id": "vsNpIzfeqPYU"
   },
   "source": [
    "0~5까지의 데이터 중 양수인 경우만 +2를 해서 list에 저장 및 출력하기"
   ]
  },
  {
   "cell_type": "code",
   "execution_count": null,
   "metadata": {
    "id": "6xdKQiRVqPYU",
    "outputId": "32db48d3-596c-487f-f0ef-e347a593919f"
   },
   "outputs": [
    {
     "data": {
      "text/plain": [
       "[2, 4, 6]"
      ]
     },
     "execution_count": 79,
     "metadata": {
      "tags": []
     },
     "output_type": "execute_result"
    }
   ],
   "source": [
    "# 일반 코드\n",
    "\n",
    "datas2 =[]\n",
    "\n",
    "for v in range(6):\n",
    "    if v%2 == 0:\n",
    "        datas2.append(v+2)\n",
    "        \n",
    "datas2"
   ]
  },
  {
   "cell_type": "code",
   "execution_count": 5,
   "metadata": {
    "id": "K621SSIWqPYV",
    "outputId": "3ebcfcfd-6868-4e8f-e1bb-f7948de2cd06"
   },
   "outputs": [
    {
     "data": {
      "text/plain": [
       "[2, 4, 6]"
      ]
     },
     "execution_count": 5,
     "metadata": {},
     "output_type": "execute_result"
    }
   ],
   "source": [
    "# comprehension 적용 코드\n",
    "\n",
    "datas2 = [v+2 for v in range(6) if v%2 == 0]\n",
    "\n",
    "datas2"
   ]
  },
  {
   "cell_type": "code",
   "execution_count": null,
   "metadata": {
    "id": "9qBJdnaTqPYV"
   },
   "outputs": [],
   "source": []
  },
  {
   "cell_type": "code",
   "execution_count": 6,
   "metadata": {
    "id": "oWs37NGUqPYW",
    "outputId": "68001c2b-4a5e-495e-b81c-bfcc8923ad2f"
   },
   "outputs": [
    {
     "data": {
      "text/plain": [
       "[(1, 3), (1, 4), (2, 3), (2, 1), (2, 4), (3, 1), (3, 4)]"
      ]
     },
     "execution_count": 6,
     "metadata": {},
     "output_type": "execute_result"
    }
   ],
   "source": [
    "# list에 튜플 생성해서 저장하는 로직\n",
    "combs = []\n",
    "\n",
    "for x in [1, 2, 3]:\n",
    "    for y in [3, 1, 4]:\n",
    "        if x != y:\n",
    "            combs.append((x, y))\n",
    "            \n",
    "combs       "
   ]
  },
  {
   "cell_type": "code",
   "execution_count": 7,
   "metadata": {
    "id": "3wRCERoGqPYW",
    "outputId": "59563194-85b3-47af-b429-a2cd4521dd69"
   },
   "outputs": [
    {
     "data": {
      "text/plain": [
       "[(1, 3), (1, 4), (2, 3), (2, 1), (2, 4), (3, 1), (3, 4)]"
      ]
     },
     "execution_count": 7,
     "metadata": {},
     "output_type": "execute_result"
    }
   ],
   "source": [
    "# comprehension \n",
    "\n",
    "combs2 = [(x, y) for x in [1, 2, 3] for y in [3, 1, 4] if x != y ]\n",
    "\n",
    "combs2"
   ]
  },
  {
   "cell_type": "code",
   "execution_count": null,
   "metadata": {
    "id": "9V9iUwaAqPYX"
   },
   "outputs": [],
   "source": []
  },
  {
   "cell_type": "markdown",
   "metadata": {
    "id": "zq0D6BM0qPYX"
   },
   "source": [
    "- 딕셔너리와 세트에도 리스트 컴프리헨션에 해당하는 문법 존재"
   ]
  },
  {
   "cell_type": "code",
   "execution_count": 8,
   "metadata": {
    "id": "_tP7OC0RqPYX",
    "outputId": "b8ce78c8-c6c3-4a97-9531-9fb4ddf6c2de"
   },
   "outputs": [
    {
     "name": "stdout",
     "output_type": "stream",
     "text": [
      "<class 'dict'>\n",
      "{1: 'one', 2: 'two'}\n",
      "one\n"
     ]
    }
   ],
   "source": [
    "# {key:value, ... } - dict 구조에 comprehension 적용해 보기\n",
    "'''\n",
    "() : 불변인 튜플\n",
    "[] : list는 데이터 타입과 무관하게 혼용해서 다 수용\n",
    "[(1, 'one'), (2, 'two')] : 튜플들을 보유한 리스트\n",
    "\n",
    "이 리스트로 딕셔너리 생성\n",
    "'''\n",
    "data = {x:y for x, y in [(1, 'one'), (2, 'two')]}\n",
    "\n",
    "print(type(data))\n",
    "print(data)\n",
    "print(data[1])"
   ]
  },
  {
   "cell_type": "code",
   "execution_count": 9,
   "metadata": {
    "id": "CGcnDBDVqPYY"
   },
   "outputs": [],
   "source": [
    "v = {1:2, 2:3, 3:4}"
   ]
  },
  {
   "cell_type": "code",
   "execution_count": 10,
   "metadata": {
    "id": "F5dXh_iYqPYZ",
    "outputId": "660412b0-8c0e-4c60-81c0-940bf08f10ed"
   },
   "outputs": [
    {
     "data": {
      "text/plain": [
       "dict"
      ]
     },
     "execution_count": 10,
     "metadata": {},
     "output_type": "execute_result"
    }
   ],
   "source": [
    "type(v)"
   ]
  },
  {
   "cell_type": "code",
   "execution_count": 11,
   "metadata": {
    "id": "SQU2W_USqPYZ",
    "scrolled": true
   },
   "outputs": [
    {
     "data": {
      "text/plain": [
       "{1: 2, 2: 3, 3: 4}"
      ]
     },
     "execution_count": 11,
     "metadata": {},
     "output_type": "execute_result"
    }
   ],
   "source": [
    "#? range(1, 4) 함수로 {1:2, 2:3, 3:4} 결과값이 나올수 있게컴프리헨션 사용하셔서 개발해 보기\n",
    "\n",
    "data = {x:x+1 for x in range(1, 4)}\n",
    "data"
   ]
  },
  {
   "cell_type": "code",
   "execution_count": null,
   "metadata": {
    "id": "d4EFMOIdqPYZ"
   },
   "outputs": [],
   "source": []
  },
  {
   "cell_type": "markdown",
   "metadata": {
    "id": "n69mHDmGqPYa"
   },
   "source": [
    "- 딕셔너리와 세트에 적용한 컴프리헨션"
   ]
  },
  {
   "cell_type": "code",
   "execution_count": 16,
   "metadata": {
    "id": "bYV6DNZBqPYa",
    "outputId": "b517fde2-1f83-4b9c-fd30-1c366dcc4f90"
   },
   "outputs": [
    {
     "name": "stdout",
     "output_type": "stream",
     "text": [
      "{'A': 90, 'B': 80, 'C': 70}\n",
      "{80, 90, 70}\n"
     ]
    }
   ],
   "source": [
    "score = {'A' : 90, 'B' : 80, 'C' : 70}  # dict 타입\n",
    "rank_dict = {rank : name for rank, name in score.items()}\n",
    "print(rank_dict)\n",
    "\n",
    "# {80, 90, 70} 값만 출력되게 comprehension 문법 적용하기\n",
    "rank_set = {v for v in score.values()} # set은 순서 관리 안 함\n",
    "print(rank_set)   # {80, 90, 70}"
   ]
  },
  {
   "cell_type": "code",
   "execution_count": 14,
   "metadata": {},
   "outputs": [
    {
     "name": "stdout",
     "output_type": "stream",
     "text": [
      "A 90\n",
      "B 80\n",
      "C 70\n"
     ]
    }
   ],
   "source": [
    "for rank, name in score.items():\n",
    "    print(rank, name)"
   ]
  },
  {
   "cell_type": "code",
   "execution_count": 15,
   "metadata": {},
   "outputs": [
    {
     "name": "stdout",
     "output_type": "stream",
     "text": [
      "90\n",
      "80\n",
      "70\n"
     ]
    }
   ],
   "source": [
    "for v in score.values():\n",
    "    print(v)"
   ]
  },
  {
   "cell_type": "code",
   "execution_count": 19,
   "metadata": {},
   "outputs": [
    {
     "name": "stdout",
     "output_type": "stream",
     "text": [
      "<zip object at 0x0000021C3C296180>\n",
      "[(1, 4), (2, 5), (3, 6)]\n"
     ]
    },
    {
     "ename": "TypeError",
     "evalue": "'type' object is not subscriptable",
     "output_type": "error",
     "traceback": [
      "\u001b[1;31m---------------------------------------------------------------------------\u001b[0m",
      "\u001b[1;31mTypeError\u001b[0m                                 Traceback (most recent call last)",
      "\u001b[1;32m<ipython-input-19-2227d2d24116>\u001b[0m in \u001b[0;36m<module>\u001b[1;34m\u001b[0m\n\u001b[0;32m      5\u001b[0m \u001b[0mprint\u001b[0m\u001b[1;33m(\u001b[0m\u001b[0mzipped\u001b[0m\u001b[1;33m)\u001b[0m\u001b[1;33m\u001b[0m\u001b[1;33m\u001b[0m\u001b[0m\n\u001b[0;32m      6\u001b[0m \u001b[0mprint\u001b[0m\u001b[1;33m(\u001b[0m\u001b[0mlist\u001b[0m\u001b[1;33m(\u001b[0m\u001b[0mzipped\u001b[0m\u001b[1;33m)\u001b[0m\u001b[1;33m)\u001b[0m\u001b[1;33m\u001b[0m\u001b[1;33m\u001b[0m\u001b[0m\n\u001b[1;32m----> 7\u001b[1;33m \u001b[0mprint\u001b[0m\u001b[1;33m(\u001b[0m\u001b[0mlist\u001b[0m\u001b[1;33m[\u001b[0m\u001b[1;36m0\u001b[0m\u001b[1;33m]\u001b[0m\u001b[1;33m)\u001b[0m\u001b[1;33m\u001b[0m\u001b[1;33m\u001b[0m\u001b[0m\n\u001b[0m",
      "\u001b[1;31mTypeError\u001b[0m: 'type' object is not subscriptable"
     ]
    }
   ],
   "source": [
    "x = [1, 2, 3]\n",
    "y = [4, 5, 6]\n",
    "zipped = zip(x, y)  # <zip object at 0x0000021C3C296180>\n",
    "\n",
    "print(zipped)  #  <zip object at 0x0000021C3C296180>\n",
    "print(list(zipped))  # 주소번지에 저장된 데이터를 쉽게 활용하기 위해서 list화 \n",
    "\n",
    "print(list[0])  # list라는 변수가 보유한 데이터의 0번째 값 도출해서 출력"
   ]
  },
  {
   "cell_type": "code",
   "execution_count": 42,
   "metadata": {},
   "outputs": [
    {
     "name": "stdout",
     "output_type": "stream",
     "text": [
      "<zip object at 0x0000021C3C56C480>\n",
      "[(1, 4), (2, 5), (3, 6)]\n",
      "(1, 4)\n",
      "(2, 5)\n"
     ]
    }
   ],
   "source": [
    "x = [1, 2, 3]\n",
    "y = [4, 5, 6]\n",
    "\n",
    "zipped = zip(x, y)\n",
    "\n",
    "print(zipped)  # <zip object at 0x0000021C3C56C480>\n",
    "\n",
    "all = list(zipped)  # 사용을 위해서 all 변수에 데이터 저장\n",
    "print(all)\n",
    "print(all[0])\n",
    "print(all[1])"
   ]
  },
  {
   "cell_type": "code",
   "execution_count": 21,
   "metadata": {},
   "outputs": [
    {
     "name": "stdout",
     "output_type": "stream",
     "text": [
      "<zip object at 0x0000021C3C49F8C0>\n"
     ]
    },
    {
     "ename": "TypeError",
     "evalue": "'zip' object is not subscriptable",
     "output_type": "error",
     "traceback": [
      "\u001b[1;31m---------------------------------------------------------------------------\u001b[0m",
      "\u001b[1;31mTypeError\u001b[0m                                 Traceback (most recent call last)",
      "\u001b[1;32m<ipython-input-21-8e4df90e11c4>\u001b[0m in \u001b[0;36m<module>\u001b[1;34m\u001b[0m\n\u001b[0;32m      4\u001b[0m \u001b[1;33m\u001b[0m\u001b[0m\n\u001b[0;32m      5\u001b[0m \u001b[0mprint\u001b[0m\u001b[1;33m(\u001b[0m\u001b[0mzipped\u001b[0m\u001b[1;33m)\u001b[0m\u001b[1;33m\u001b[0m\u001b[1;33m\u001b[0m\u001b[0m\n\u001b[1;32m----> 6\u001b[1;33m \u001b[0mprint\u001b[0m\u001b[1;33m(\u001b[0m\u001b[0mzipped\u001b[0m \u001b[1;33m[\u001b[0m\u001b[1;36m0\u001b[0m\u001b[1;33m]\u001b[0m\u001b[1;33m)\u001b[0m\u001b[1;33m\u001b[0m\u001b[1;33m\u001b[0m\u001b[0m\n\u001b[0m\u001b[0;32m      7\u001b[0m \u001b[1;33m\u001b[0m\u001b[0m\n\u001b[0;32m      8\u001b[0m \u001b[1;33m\u001b[0m\u001b[0m\n",
      "\u001b[1;31mTypeError\u001b[0m: 'zip' object is not subscriptable"
     ]
    }
   ],
   "source": [
    "x = [1, 2, 3]\n",
    "y = [4, 5, 6]\n",
    "zipped = zip(x, y)\n",
    "\n",
    "print(zipped)\n",
    "# print(zipped[0])  # zip은 index로 데이터 관리 불가 에러\n",
    "\n",
    "\n",
    "# print(list(zipped [0]))"
   ]
  },
  {
   "cell_type": "code",
   "execution_count": 3,
   "metadata": {},
   "outputs": [
    {
     "data": {
      "text/plain": [
       "True"
      ]
     },
     "execution_count": 3,
     "metadata": {},
     "output_type": "execute_result"
    }
   ],
   "source": [
    "# 코드의 100% 이해가 학습이 아니고 코드를 분해해 가는 연습이 주 학습\n",
    "# *zip(x, y) 표현법이 있어야만 unpacking 가능\n",
    "\n",
    "x = [1, 2, 3]\n",
    "y = [4, 5, 6]\n",
    "\n",
    "x2, y2 = zip( *zip(x, y) )  # *(아스타)라는 가변인수를 지정해줘야 출력됨\n",
    "\n",
    "x == list(x2) and y == list(y2)"
   ]
  },
  {
   "cell_type": "code",
   "execution_count": 49,
   "metadata": {},
   "outputs": [
    {
     "name": "stdout",
     "output_type": "stream",
     "text": [
      "(1, 2, 3) <class 'list'> <class 'tuple'>\n",
      "(4, 5, 6)\n",
      "True\n",
      "False\n"
     ]
    }
   ],
   "source": [
    "x = [1, 2, 3]  # <class 'list'>\n",
    "y = [4, 5, 6]\n",
    "\n",
    "x2, y2 = zip(*zip([1, 2, 3], [4, 5, 6]))\n",
    "\n",
    "print(x2, type(x), type(x2))  # (1, 2, 3) <class 'list'> <class 'tuple'>\n",
    "print(y2)\n",
    "\n",
    "print( x == list(x2) ) # True\n",
    "print(x == x2) # False  타입이 달라서 False"
   ]
  },
  {
   "cell_type": "code",
   "execution_count": 53,
   "metadata": {},
   "outputs": [
    {
     "name": "stdout",
     "output_type": "stream",
     "text": [
      "([1, 2, 3],) <class 'list'> <class 'tuple'>\n",
      "([4, 5, 6],)\n",
      "False\n",
      "False\n",
      "******************************\n",
      "([1, 2, 3],)\n",
      "<class 'tuple'>\n"
     ]
    }
   ],
   "source": [
    "x = [1, 2, 3]  # <class 'list'>\n",
    "y = [4, 5, 6]\n",
    "\n",
    "# unpack : 하나의 데이터를 다수의 변수에 대입하는 메카니즘 \n",
    "x2, y2 = zip( ( [1, 2, 3], [4, 5, 6] ) )\n",
    "\n",
    "print(x2, type(x), type(x2))  # (1, 2, 3) <class 'list'> <class 'tuple'>\n",
    "print(y2)\n",
    "\n",
    "print(x == list(x2)) # False\n",
    "print(x == x2) # False  타입이 달라서 False\n",
    "\n",
    "print(\"*\" * 30)\n",
    "print(x2)   # ([1, 2, 3],)\n",
    "print(type(x2))  # <class 'tuple'>"
   ]
  },
  {
   "cell_type": "code",
   "execution_count": null,
   "metadata": {},
   "outputs": [],
   "source": []
  },
  {
   "cell_type": "code",
   "execution_count": 45,
   "metadata": {},
   "outputs": [
    {
     "name": "stdout",
     "output_type": "stream",
     "text": [
      "<class 'zip'>\n"
     ]
    },
    {
     "data": {
      "text/plain": [
       "[(1, 4), (2, 5), (3, 6)]"
      ]
     },
     "execution_count": 45,
     "metadata": {},
     "output_type": "execute_result"
    }
   ],
   "source": [
    "x = [1, 2, 3]\n",
    "y = [4, 5, 6]\n",
    "zipped = zip(x, y)  # <class 'zip'>\n",
    "\n",
    "print(type(zipped))  # <class 'zip'>\n",
    "\n",
    "all = list(zipped)\n",
    "all  # [(1, 4), (2, 5), (3, 6)]"
   ]
  },
  {
   "cell_type": "code",
   "execution_count": 40,
   "metadata": {},
   "outputs": [
    {
     "ename": "ValueError",
     "evalue": "too many values to unpack (expected 2)",
     "output_type": "error",
     "traceback": [
      "\u001b[1;31m---------------------------------------------------------------------------\u001b[0m",
      "\u001b[1;31mValueError\u001b[0m                                Traceback (most recent call last)",
      "\u001b[1;32m<ipython-input-40-826b74562947>\u001b[0m in \u001b[0;36m<module>\u001b[1;34m\u001b[0m\n\u001b[0;32m      2\u001b[0m \u001b[0my\u001b[0m \u001b[1;33m=\u001b[0m \u001b[1;33m[\u001b[0m\u001b[1;36m4\u001b[0m\u001b[1;33m,\u001b[0m \u001b[1;36m5\u001b[0m\u001b[1;33m,\u001b[0m \u001b[1;36m6\u001b[0m\u001b[1;33m]\u001b[0m\u001b[1;33m\u001b[0m\u001b[1;33m\u001b[0m\u001b[0m\n\u001b[0;32m      3\u001b[0m \u001b[1;33m\u001b[0m\u001b[0m\n\u001b[1;32m----> 4\u001b[1;33m \u001b[0mx2\u001b[0m\u001b[1;33m,\u001b[0m \u001b[0my2\u001b[0m \u001b[1;33m=\u001b[0m \u001b[0mzip\u001b[0m\u001b[1;33m(\u001b[0m \u001b[0mx\u001b[0m\u001b[1;33m,\u001b[0m \u001b[0my\u001b[0m \u001b[1;33m)\u001b[0m\u001b[1;33m\u001b[0m\u001b[1;33m\u001b[0m\u001b[0m\n\u001b[0m\u001b[0;32m      5\u001b[0m \u001b[1;33m\u001b[0m\u001b[0m\n\u001b[0;32m      6\u001b[0m \u001b[0mprint\u001b[0m\u001b[1;33m(\u001b[0m\u001b[0mx2\u001b[0m\u001b[1;33m)\u001b[0m\u001b[1;33m\u001b[0m\u001b[1;33m\u001b[0m\u001b[0m\n",
      "\u001b[1;31mValueError\u001b[0m: too many values to unpack (expected 2)"
     ]
    }
   ],
   "source": [
    "x = [1, 2, 3]\n",
    "y = [4, 5, 6]\n",
    "\n",
    "x2, y2 = zip( x, y )\n",
    "\n",
    "print(x2)\n",
    "print(y2)\n"
   ]
  },
  {
   "cell_type": "code",
   "execution_count": 39,
   "metadata": {},
   "outputs": [
    {
     "name": "stdout",
     "output_type": "stream",
     "text": [
      "([1, 2, 3],)\n",
      "([4, 5, 6],)\n"
     ]
    }
   ],
   "source": [
    "x = [1, 2, 3]\n",
    "y = [4, 5, 6]\n",
    "\n",
    "x2, y2 = zip( (x, y) )\n",
    "print(x2)\n",
    "print(y2)\n"
   ]
  },
  {
   "cell_type": "code",
   "execution_count": 30,
   "metadata": {},
   "outputs": [
    {
     "name": "stdout",
     "output_type": "stream",
     "text": [
      "(1, 2, 3)\n",
      "(4, 5, 6)\n"
     ]
    }
   ],
   "source": [
    "x = [1, 2, 3]\n",
    "y = [4, 5, 6]\n",
    "\n",
    "x2, y2 = zip( *zip(x, y) )\n",
    "\n",
    "print(x2)\n",
    "print(y2)"
   ]
  },
  {
   "cell_type": "code",
   "execution_count": null,
   "metadata": {},
   "outputs": [],
   "source": [
    "# ? 상단 cell의 코드를 이해하기 위한 본인만의 해석법이 적용된 코드는?\n",
    "# 엄청엄청 어렵다!!!\n",
    "\n"
   ]
  },
  {
   "cell_type": "code",
   "execution_count": 10,
   "metadata": {
    "id": "PzPlhOtmqPYb"
   },
   "outputs": [
    {
     "name": "stdout",
     "output_type": "stream",
     "text": [
      "[0, 1, 4, 9, 16, 25, 36, 49, 64, 81]\n",
      "[0, 4, 16, 36, 64]\n"
     ]
    }
   ],
   "source": [
    "# ? 함축( value * value 식이 수행되는 로직 개발)\n",
    "# 데이터 값 : 0~9까지 (0*0, 1*1, 2*2,...)\n",
    "\n",
    "\n",
    "print([ v*v for v in range(10)])\n",
    "print([ v*v for v in range(10) if v%2 == 0])"
   ]
  },
  {
   "cell_type": "code",
   "execution_count": null,
   "metadata": {
    "id": "Gl6FaP6qqPYb",
    "outputId": "e2c86f9c-6856-4959-ad40-19bc4a6aaae4"
   },
   "outputs": [
    {
     "data": {
      "text/plain": [
       "[0, 4, 16, 36, 64]"
      ]
     },
     "execution_count": 15,
     "metadata": {
      "tags": []
     },
     "output_type": "execute_result"
    }
   ],
   "source": [
    "#? 앞단 예제의 결과중에 짝수값만으로 새로운 list 구성해서 출력하기\n",
    "\n"
   ]
  },
  {
   "cell_type": "code",
   "execution_count": null,
   "metadata": {
    "id": "y4ya7VFmqPYc",
    "outputId": "45972d59-a827-4c0c-9d33-a7636f5446ee"
   },
   "outputs": [
    {
     "name": "stdout",
     "output_type": "stream",
     "text": [
      "0 4 16 36 64 "
     ]
    }
   ],
   "source": [
    "for v in range(10):\n",
    "    if v%2 == 0:\n",
    "        print(v*v, end=' ')"
   ]
  },
  {
   "cell_type": "code",
   "execution_count": 82,
   "metadata": {
    "id": "OrRq94qlqPYc"
   },
   "outputs": [
    {
     "data": {
      "text/plain": [
       "[[10, 11, 12], [13, 14, 15], [16, 17, 18]]"
      ]
     },
     "execution_count": 82,
     "metadata": {},
     "output_type": "execute_result"
    }
   ],
   "source": [
    "# 결과치가 다음과 같을 경우 어떻게 함축 표현식을 만들어야 하는지?\n",
    "# [ [10, 11, 12], [13, 14, 15], [16, 17, 18] ]\n",
    "\n",
    "# 제시된 데이터 : [10, 11, 12] 과 [0, 1, 2]\n",
    "# 힌트 : 값1 * 3 + 값2\n",
    "\n",
    "\n",
    "[ [v1 * 3 + v2 for v2 in [10, 11, 12]] for v1 in [0, 1, 2]   ]"
   ]
  },
  {
   "cell_type": "code",
   "execution_count": 73,
   "metadata": {},
   "outputs": [
    {
     "data": {
      "text/plain": [
       "[[10, 11, 12], [13, 14, 15], [16, 17, 18]]"
      ]
     },
     "execution_count": 73,
     "metadata": {},
     "output_type": "execute_result"
    }
   ],
   "source": [
    "lst = []\n",
    "\n",
    "for v1 in [0, 1, 2]:\n",
    "    lst2 = []\n",
    "    \n",
    "    for v2 in [10, 11, 12]:\n",
    "        lst2.append(v1*3+v2) \n",
    "        \n",
    "    lst.append(lst2)\n",
    "        \n",
    "lst"
   ]
  },
  {
   "cell_type": "code",
   "execution_count": 1,
   "metadata": {},
   "outputs": [
    {
     "name": "stdout",
     "output_type": "stream",
     "text": [
      "0 10 - [10]\n",
      "0 11 - [11]\n",
      "0 12 - [12]\n",
      "1 10 - [13]\n",
      "1 11 - [14]\n",
      "1 12 - [15]\n",
      "2 10 - [16]\n",
      "2 11 - [17]\n",
      "2 12 - [18]\n"
     ]
    }
   ],
   "source": [
    "lst = []\n",
    "lst2 = []    # 1\n",
    "\n",
    "for v1 in [0, 1, 2]:\n",
    "    \n",
    "    lst2 = []    # 2\n",
    "    \n",
    "    for v2 in [10, 11, 12]:\n",
    "        \n",
    "        lst2 = []    # 3\n",
    "        lst2.append(v1*3+v2)\n",
    "        print(v1, v2, '-', lst2)\n",
    "        \n",
    "    lst.append(lst2)"
   ]
  },
  {
   "cell_type": "code",
   "execution_count": 23,
   "metadata": {},
   "outputs": [
    {
     "name": "stdout",
     "output_type": "stream",
     "text": [
      "[[10, 11, 12, 13, 14, 15, 16, 17, 18], [10, 11, 12, 13, 14, 15, 16, 17, 18], [10, 11, 12, 13, 14, 15, 16, 17, 18]]\n",
      "[10, 11, 12, 13, 14, 15, 16, 17, 18]\n"
     ]
    }
   ],
   "source": [
    "lst = []\n",
    "lst2 = []\n",
    "\n",
    "for v1 in [0, 1, 2]:\n",
    "\n",
    "    for v2 in [10, 11, 12]:\n",
    "        lst2.append(v1*3+v2) \n",
    "        \n",
    "    lst.append(lst2)\n",
    "        \n",
    "print(lst)\n",
    "print(lst2)"
   ]
  },
  {
   "cell_type": "markdown",
   "metadata": {
    "id": "8TPzkY0NqPYd"
   },
   "source": [
    "**미션 - comprehension 문법으로 변경하기**"
   ]
  },
  {
   "cell_type": "code",
   "execution_count": null,
   "metadata": {
    "id": "KrcN5BhqqPYd",
    "outputId": "dd9ede5e-a8d7-4f84-ea48-f88a9191d222"
   },
   "outputs": [
    {
     "name": "stdout",
     "output_type": "stream",
     "text": [
      "[121, 242, 252, 252, 272, 464, 272, 323, 252, 414, 323, 494, 252, 525, 242, 484, 616, 414, 575, 696, 525, 575, 494, 676, 616, 464, 696]\n"
     ]
    }
   ],
   "source": [
    "eve = []\n",
    "for i in range(10, 30):\n",
    "    for j in range(10, 30):\n",
    "        a = i * j\n",
    "        if str(a) == str(a)[::-1]:\n",
    "            eve.append(a)\n",
    "print(eve)"
   ]
  },
  {
   "cell_type": "code",
   "execution_count": 31,
   "metadata": {
    "id": "XAKiHT5CqPYd"
   },
   "outputs": [
    {
     "name": "stdout",
     "output_type": "stream",
     "text": [
      "[121, 242, 252, 252, 272, 464, 272, 323, 252, 414, 323, 494, 252, 525, 242, 484, 616, 414, 575, 696, 525, 575, 494, 676, 616, 464, 696]\n"
     ]
    }
   ],
   "source": [
    "print([ i * j for j in range(10, 30) for i in range(10, 30) if str(i * j) == str(i * j)[::-1 ]])"
   ]
  },
  {
   "cell_type": "markdown",
   "metadata": {
    "id": "68OgFs8ZqPYe"
   },
   "source": [
    "**미션 : 제시된 코드와 동일한 로직의 comprehension 구성하기**"
   ]
  },
  {
   "cell_type": "code",
   "execution_count": null,
   "metadata": {
    "id": "dWV2btFgqPYe",
    "outputId": "9da7f805-b873-4b78-c277-c0211788a28e"
   },
   "outputs": [
    {
     "name": "stdout",
     "output_type": "stream",
     "text": [
      "[1, 3, 5]\n"
     ]
    }
   ],
   "source": [
    "\n",
    "reference = [1, 2, 3, 4, 5, 6]\n",
    "\n",
    "output = []\n",
    "\n",
    "for number in reference:\n",
    "    if number % 2 == 0:\n",
    "        prev_num = number-1  # calculate previous number\n",
    "        output.append(prev_num)  # append to the list\n",
    "\n",
    "print(output)\n"
   ]
  },
  {
   "cell_type": "code",
   "execution_count": 33,
   "metadata": {
    "id": "HTsdg5IEqPYf"
   },
   "outputs": [
    {
     "data": {
      "text/plain": [
       "[1, 3, 5]"
      ]
     },
     "execution_count": 33,
     "metadata": {},
     "output_type": "execute_result"
    }
   ],
   "source": [
    "[number-1 for number in [1, 2, 3, 4, 5, 6] if number % 2 == 0]"
   ]
  },
  {
   "cell_type": "code",
   "execution_count": 34,
   "metadata": {},
   "outputs": [
    {
     "data": {
      "text/plain": [
       "[1, 3, 5]"
      ]
     },
     "execution_count": 34,
     "metadata": {},
     "output_type": "execute_result"
    }
   ],
   "source": [
    "reference = [1, 2, 3, 4, 5, 6]\n",
    "[number-1 for number in reference if number % 2 == 0]"
   ]
  },
  {
   "cell_type": "markdown",
   "metadata": {
    "id": "AHqDXYEJqPYf"
   },
   "source": [
    "**미션 : 제시된 반복문등을 분석 하고 comprehension 문법 적용해서 결과에 맞게 구성하기**"
   ]
  },
  {
   "cell_type": "code",
   "execution_count": 46,
   "metadata": {
    "colab": {
     "base_uri": "https://localhost:8080/"
    },
    "executionInfo": {
     "elapsed": 3039,
     "status": "ok",
     "timestamp": 1621529049220,
     "user": {
      "displayName": "김혜경",
      "photoUrl": "https://lh3.googleusercontent.com/a-/AOh14Ghj6yCOWfas3c-RFEZg9yZi0Y8GAll6IHR_nygo=s64",
      "userId": "05956990831563294642"
     },
     "user_tz": -540
    },
    "id": "hlpG75pXqPYf",
    "outputId": "eed76e10-5e31-4ebd-e5be-a11e4f648d55"
   },
   "outputs": [
    {
     "name": "stdout",
     "output_type": "stream",
     "text": [
      "encore\n",
      "playdata\n",
      "교육\n",
      "4차 산업 인재상\n",
      "----- split() -----\n",
      "['encore']\n",
      "['playdata']\n",
      "['교육']\n",
      "['4차', '산업', '인재상']\n",
      "----- list에 저장 -----\n",
      "[['encore'], ['playdata'], ['교육'], ['4차', '산업', '인재상']]\n"
     ]
    }
   ],
   "source": [
    "list_string = ['encore', 'playdata', '교육', '4차 산업 인재상']\n",
    "\n",
    "for word in list_string:\n",
    "    print(word)\n",
    "    \n",
    "print(\"----- split() -----\")\n",
    "    \n",
    "for word in list_string:\n",
    "    print(word.split())    # split 문자열을 기준으로 나눠서(slice) 리스트로 저장해줌.\n",
    "    \n",
    "    \n",
    "print('----- list에 저장 -----')\n",
    "list = []\n",
    "for word in list_string:\n",
    "    list.append(word.split())\n",
    "\n",
    "\n",
    "# list.reverse()\n",
    "print(list)"
   ]
  },
  {
   "cell_type": "code",
   "execution_count": 47,
   "metadata": {
    "id": "6bkLq2nIqPYg"
   },
   "outputs": [
    {
     "data": {
      "text/plain": [
       "[['encore'], ['playdata'], ['교육'], ['4차', '산업', '인재상']]"
      ]
     },
     "execution_count": 47,
     "metadata": {},
     "output_type": "execute_result"
    }
   ],
   "source": [
    "[ word.split()  for word in ['encore', 'playdata', '교육', '4차 산업 인재상']]"
   ]
  },
  {
   "cell_type": "markdown",
   "metadata": {
    "id": "3nkp4oQsqPYg"
   },
   "source": [
    "**미션 : 제시된 데이터를 활용하여 철자 길이가 4이상인 경우의 데이터에 한해서만 문자열의 첫 글자만 대문자로 및 출력**"
   ]
  },
  {
   "cell_type": "code",
   "execution_count": 48,
   "metadata": {
    "id": "gmCbaXttqPYg"
   },
   "outputs": [
    {
     "name": "stdout",
     "output_type": "stream",
     "text": [
      "['E', 'P', 'S']\n"
     ]
    }
   ],
   "source": [
    "words = ['encore', 'playdata', 'sw응용&분석', 'hi']\n",
    "lst5 = []\n",
    "\n",
    "for v in words:\n",
    "    if len(v) >= 4:\n",
    "        lst5.append(v[0].upper())\n",
    "        \n",
    "print(lst5)"
   ]
  },
  {
   "cell_type": "code",
   "execution_count": 28,
   "metadata": {
    "id": "de-mPS41qPYh"
   },
   "outputs": [
    {
     "data": {
      "text/plain": [
       "['E', 'P', 'S']"
      ]
     },
     "execution_count": 28,
     "metadata": {},
     "output_type": "execute_result"
    }
   ],
   "source": [
    "[ v[0].upper() for v in['encore', 'playdata', 'sw응용&분석', 'hi'] if len(v) >= 4]"
   ]
  },
  {
   "cell_type": "markdown",
   "metadata": {
    "id": "a-GyAnsDqPYh"
   },
   "source": [
    "slicing 기술 적용해서 sw응용&분석 유지하는 코드"
   ]
  }
 ],
 "metadata": {
  "colab": {
   "name": "step08Comprehension.ipynb",
   "provenance": []
  },
  "kernelspec": {
   "display_name": "Python 3",
   "language": "python",
   "name": "python3"
  },
  "language_info": {
   "codemirror_mode": {
    "name": "ipython",
    "version": 3
   },
   "file_extension": ".py",
   "mimetype": "text/x-python",
   "name": "python",
   "nbconvert_exporter": "python",
   "pygments_lexer": "ipython3",
   "version": "3.8.5"
  }
 },
 "nbformat": 4,
 "nbformat_minor": 1
}
