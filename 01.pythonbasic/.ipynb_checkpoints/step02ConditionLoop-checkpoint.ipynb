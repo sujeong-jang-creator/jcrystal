{
 "cells": [
  {
   "cell_type": "markdown",
   "metadata": {
    "id": "niLpGsx9R06B"
   },
   "source": [
    "<!--NAVIGATION-->\n",
    "\n",
    "\n",
    "[[step01. 기본 연산 학습 page로 이동](step01Calculation.ipynb) ]   |   [[step03_1. 데이터 타입 학습 page로 이동](step03_1DataType.ipynb) ]"
   ]
  },
  {
   "cell_type": "markdown",
   "metadata": {
    "id": "bwhZBiyRR06H"
   },
   "source": [
    "## 조건문 & 반복문을 이용한 프로그램 응용력 향상하기\n",
    "\n",
    "1. 연산자\n",
    "> 1. = : 오른쪽의 데이터를 왼쪽에 대입(할당) 연산자\n",
    "> 2. == : 동등비교 연산자\n",
    "> 3. != : 부정 연산자\n",
    "\n",
    "2. 조건식\n",
    "> 1. pass : 아무것도 실행하지 않음, 단순히 실행할 코드가 없다는 의미\n",
    "> 2. continue : 해당 로직을 제외하고 다음 loop 실행하란 의미\n",
    "\n",
    "3. 반복문 : 동일한 명령문을 여러번 실행\n",
    "> 1. for : 정해진 횟수만큼  반복하는 구조<br>\n",
    "> 2. while : 어떤 조건이 만족되는 동안, 반복을 계속하는 구조"
   ]
  },
  {
   "cell_type": "markdown",
   "metadata": {
    "id": "AwuFhNV3shUb"
   },
   "source": [
    "4. 키워드\n",
    "> 1. def - 사용자 정의 함수를 만들겠다는 선언구\n",
    "> 2. return - 함수 내부에서 해당 함수를 호출한 곳으로 값을 돌려주는 키워드\n",
    "> 3. if / elif / else - 조건식\n",
    "> 4. True / Fals - boolean 표현\n"
   ]
  },
  {
   "cell_type": "markdown",
   "metadata": {},
   "source": [
    "5. IT 언어 표현\n",
    "\n",
    ">1. 함수 실행시 새로운 데이터를 () 표기로 선언된 변수로 받음\n",
    ">2. def 함수명(변수선언):\n",
    ">3. 변수선언 자체를 parameter 또는 argument 또는 인자 또는 매게인자."
   ]
  },
  {
   "cell_type": "markdown",
   "metadata": {
    "id": "bSFXEulAR06K"
   },
   "source": [
    "'''\n",
    "조건문\n",
    "1. 조건이 True인 경우에만 상황\n",
    "\n",
    "2. 조건이 True인 경우와 False인 경우 실행되는 로직이 명확히 구분되어야 할 상황\n",
    "\n",
    "3. 조건이 여러개인 경우의 상황\n",
    "\n",
    "\n",
    "---\n",
    "1. 로그인 인증\n",
    "  ID/PW 둘다 인증\n",
    "    경우의 수 1 - ID와 PW 비교시 ID도 True 그리고 PW도 True    O\n",
    "    경우의 수 2 - ID는 True 또는 PW는 True   (ID가 True이거나 PW가 True 즉 둘중에 하나만 True여도 가능한 상황) X\n",
    "    경우의 수 3 - ID는 True 그리고 PW는 False    X\n",
    "    경우의 수 4 - ID는 False 그리고 PW는 True    X\n",
    "    경우의 수 5 - ID는 False 그리고 PW는 False    X\n",
    "\n",
    "2. 의사 코드\n",
    "  말로 하는 코딩\n",
    "  말로 하는 로직의 흐름을 서술하는 형식 의사코드\n",
    "  문법은 고려하지 않음을 표현\n",
    "\n",
    "  경우의 수 1 :  O\n",
    "  만약에 ID가 True라면        if id==True\n",
    "     PW가 True인지 비교          if pw==True\n",
    "\n",
    "  \n",
    "  경우의 수 2 : O\n",
    "  만약에 ID가 True이고 PW가 True인지 비교            if id==True and pw==True\n",
    "\n",
    "  경우의 수 3 - 부적합\n",
    "      만약에 ID가 True이고 PW가 True인지 비교\n",
    "    if id==True 개별 문장\n",
    "    if pw==True 개별 문장    \n",
    "\n",
    "  '''"
   ]
  },
  {
   "cell_type": "code",
   "execution_count": 1,
   "metadata": {
    "colab": {
     "base_uri": "https://localhost:8080/"
    },
    "executionInfo": {
     "elapsed": 616,
     "status": "ok",
     "timestamp": 1620874495523,
     "user": {
      "displayName": "장크리수탉",
      "photoUrl": "https://lh3.googleusercontent.com/a-/AOh14Gj_tF0bGYk1bA9R_pQsl8UBkVu_yPo_Yv3CGHQ6Gg=s64",
      "userId": "08446625624793440405"
     },
     "user_tz": -540
    },
    "id": "bmpG2n_9bRhR",
    "outputId": "77c672cf-c112-49cc-d273-169175a8a88f"
   },
   "outputs": [
    {
     "name": "stdout",
     "output_type": "stream",
     "text": [
      "True인 경우만 실행\n"
     ]
    }
   ],
   "source": [
    "# True인 경우만 고려하는 단일 조건식\n",
    "if True:\n",
    "  print(\"True인 경우만 실행\")"
   ]
  },
  {
   "cell_type": "code",
   "execution_count": 4,
   "metadata": {
    "colab": {
     "base_uri": "https://localhost:8080/"
    },
    "executionInfo": {
     "elapsed": 589,
     "status": "ok",
     "timestamp": 1620870872425,
     "user": {
      "displayName": "장크리수탉",
      "photoUrl": "https://lh3.googleusercontent.com/a-/AOh14Gj_tF0bGYk1bA9R_pQsl8UBkVu_yPo_Yv3CGHQ6Gg=s64",
      "userId": "08446625624793440405"
     },
     "user_tz": -540
    },
    "id": "vbm5_KCwbcrH",
    "outputId": "0a829f00-05f7-4108-835d-02cacb02e819"
   },
   "outputs": [
    {
     "name": "stdout",
     "output_type": "stream",
     "text": [
      "True인 경우만 실행\n"
     ]
    }
   ],
   "source": [
    "if'a' == 'a':\n",
    "  print(\"True인 경우만 실행\")"
   ]
  },
  {
   "cell_type": "code",
   "execution_count": 5,
   "metadata": {
    "id": "Km3njL9ebl-q"
   },
   "outputs": [],
   "source": [
    "if'a' != 'a':\n",
    "  print(\"True인 경우만 실행\")"
   ]
  },
  {
   "cell_type": "code",
   "execution_count": 17,
   "metadata": {
    "colab": {
     "base_uri": "https://localhost:8080/"
    },
    "executionInfo": {
     "elapsed": 596,
     "status": "ok",
     "timestamp": 1620880622162,
     "user": {
      "displayName": "장크리수탉",
      "photoUrl": "https://lh3.googleusercontent.com/a-/AOh14Gj_tF0bGYk1bA9R_pQsl8UBkVu_yPo_Yv3CGHQ6Gg=s64",
      "userId": "08446625624793440405"
     },
     "user_tz": -540
    },
    "id": "WtC7wcHzbxxd",
    "outputId": "0a3e2b76-f994-4dbf-a9d4-f15cd61228c5"
   },
   "outputs": [
    {
     "name": "stdout",
     "output_type": "stream",
     "text": [
      "조건식이 False인 경우만 실행\n"
     ]
    }
   ],
   "source": [
    "# True인 경우와 False 경우를 고려하는 조건식\n",
    "# if else\n",
    "# :  콜론이라 읽음       , 콤마 : 세미콜론\n",
    "if'a' != 'a':\n",
    "  print(\"True인 경우만 실행\")\n",
    "  \n",
    "else :\n",
    "  print(\"조건식이 False인 경우만 실행\") "
   ]
  },
  {
   "cell_type": "code",
   "execution_count": 24,
   "metadata": {},
   "outputs": [
    {
     "name": "stdout",
     "output_type": "stream",
     "text": [
      "조건식이 False인 경우만 실행\n"
     ]
    }
   ],
   "source": [
    "if 'a'!='a':\n",
    "    print(\"True인 경우만 실행\")\n",
    "    \n",
    "else :\n",
    "    print(\"조건식이 False인 경우만 실행\")"
   ]
  },
  {
   "cell_type": "code",
   "execution_count": 25,
   "metadata": {
    "colab": {
     "base_uri": "https://localhost:8080/"
    },
    "executionInfo": {
     "elapsed": 582,
     "status": "ok",
     "timestamp": 1620871801019,
     "user": {
      "displayName": "장크리수탉",
      "photoUrl": "https://lh3.googleusercontent.com/a-/AOh14Gj_tF0bGYk1bA9R_pQsl8UBkVu_yPo_Yv3CGHQ6Gg=s64",
      "userId": "08446625624793440405"
     },
     "user_tz": -540
    },
    "id": "Hetxj7zocTvD",
    "outputId": "92579925-c6c2-4ef7-edeb-ffc03b966a88"
   },
   "outputs": [
    {
     "name": "stdout",
     "output_type": "stream",
     "text": [
      "10보다 작거나 같다\n"
     ]
    }
   ],
   "source": [
    "# 다중 조건식\n",
    "# if/elif/else\n",
    "a=10\n",
    "\n",
    "if a < 5:\n",
    "  print(\"5보다 작다\")\n",
    "elif a <= 10: \n",
    "  print(\"10보다 작거나 같다\")\n",
    "else:\n",
    "  print(\"이도저도 아니더라\")"
   ]
  },
  {
   "cell_type": "code",
   "execution_count": 1,
   "metadata": {},
   "outputs": [
    {
     "name": "stdout",
     "output_type": "stream",
     "text": [
      "2보다 작다\n"
     ]
    }
   ],
   "source": [
    "a = 1\n",
    "\n",
    "if a < 2:              # 경우의수1 : 2보다 작다\n",
    "    print(\"2보다 작다\")\n",
    "elif a <=5:             # 경우의수2 : 5보다 작거나 같다\n",
    "    print(\"5보다 작거나 같다\")\n",
    "else:                  # 경우의수3 : 그 외\n",
    "    print(\"이도저도 아니다\")"
   ]
  },
  {
   "cell_type": "code",
   "execution_count": 8,
   "metadata": {
    "colab": {
     "base_uri": "https://localhost:8080/"
    },
    "executionInfo": {
     "elapsed": 565,
     "status": "ok",
     "timestamp": 1620873185515,
     "user": {
      "displayName": "장크리수탉",
      "photoUrl": "https://lh3.googleusercontent.com/a-/AOh14Gj_tF0bGYk1bA9R_pQsl8UBkVu_yPo_Yv3CGHQ6Gg=s64",
      "userId": "08446625624793440405"
     },
     "user_tz": -540
    },
    "id": "Ndby1vJHfOY9",
    "outputId": "31c4e53f-4d1e-4b08-d5ed-43d11148bef5"
   },
   "outputs": [
    {
     "name": "stdout",
     "output_type": "stream",
     "text": [
      "이도저도 아니더라\n"
     ]
    }
   ],
   "source": [
    "# python 에서 기능을 재사용 할 수 있게 구현하는 함수 개발\n",
    "# def 함수명 (new데이터 받을 수 있는 문법 공간):\n",
    "#   함수로직\n",
    "#   [결과값 반환 로직]\n",
    "\n",
    "def my_fun(a):\n",
    "  if a < 5:\n",
    "    print(\"5보다 작다\")\n",
    "  elif a <= 10: \n",
    "    print(\"10보다 작거나 같다\")\n",
    "  else:\n",
    "    print(\"이도저도 아니더라\")\n",
    "\n",
    "\n",
    "my_fun(12)"
   ]
  },
  {
   "cell_type": "code",
   "execution_count": 9,
   "metadata": {
    "colab": {
     "base_uri": "https://localhost:8080/"
    },
    "executionInfo": {
     "elapsed": 601,
     "status": "ok",
     "timestamp": 1620873202267,
     "user": {
      "displayName": "장크리수탉",
      "photoUrl": "https://lh3.googleusercontent.com/a-/AOh14Gj_tF0bGYk1bA9R_pQsl8UBkVu_yPo_Yv3CGHQ6Gg=s64",
      "userId": "08446625624793440405"
     },
     "user_tz": -540
    },
    "id": "oiCDKzWokgZ8",
    "outputId": "7e20f226-7287-4866-9843-8fd4745bbc39"
   },
   "outputs": [
    {
     "name": "stdout",
     "output_type": "stream",
     "text": [
      "10보다 작거나 같다\n"
     ]
    }
   ],
   "source": [
    "my_fun(10)"
   ]
  },
  {
   "cell_type": "code",
   "execution_count": 10,
   "metadata": {
    "id": "Fyc5uz-xkkfS"
   },
   "outputs": [],
   "source": [
    "# ??? 실시간 입력되는 데이터는 문자열, playdata 라는 문자열에 한해서만 encore 출력되게 만들기\n",
    "\n",
    "def edu_name(msg):\n",
    "  if msg == 'playdata':\n",
    "    print('encore')\n",
    "  else:\n",
    "    print('틀렸어')\n",
    "\n"
   ]
  },
  {
   "cell_type": "code",
   "execution_count": 11,
   "metadata": {
    "colab": {
     "base_uri": "https://localhost:8080/"
    },
    "executionInfo": {
     "elapsed": 618,
     "status": "ok",
     "timestamp": 1620873891806,
     "user": {
      "displayName": "장크리수탉",
      "photoUrl": "https://lh3.googleusercontent.com/a-/AOh14Gj_tF0bGYk1bA9R_pQsl8UBkVu_yPo_Yv3CGHQ6Gg=s64",
      "userId": "08446625624793440405"
     },
     "user_tz": -540
    },
    "id": "HZsCm1Ibk1AK",
    "outputId": "a659bc03-1dff-4e97-c550-7b63dd1dbce1"
   },
   "outputs": [
    {
     "name": "stdout",
     "output_type": "stream",
     "text": [
      "틀렸어\n"
     ]
    }
   ],
   "source": [
    "edu_name('encore')   # 틀렸어 출력"
   ]
  },
  {
   "cell_type": "code",
   "execution_count": 12,
   "metadata": {
    "colab": {
     "base_uri": "https://localhost:8080/"
    },
    "executionInfo": {
     "elapsed": 595,
     "status": "ok",
     "timestamp": 1620873898355,
     "user": {
      "displayName": "장크리수탉",
      "photoUrl": "https://lh3.googleusercontent.com/a-/AOh14Gj_tF0bGYk1bA9R_pQsl8UBkVu_yPo_Yv3CGHQ6Gg=s64",
      "userId": "08446625624793440405"
     },
     "user_tz": -540
    },
    "id": "beSclYwpk86O",
    "outputId": "f304facd-a883-4014-c9a5-d1af6d2c6330"
   },
   "outputs": [
    {
     "name": "stdout",
     "output_type": "stream",
     "text": [
      "encore\n"
     ]
    }
   ],
   "source": [
    "edu_name('playdata')   # encore 출력"
   ]
  },
  {
   "cell_type": "code",
   "execution_count": 13,
   "metadata": {
    "id": "kHzsoywkkyOO"
   },
   "outputs": [],
   "source": [
    "def edu_name2(msg):\n",
    "  if msg == 'playdata':\n",
    "    return 'encore'\n",
    "  else:\n",
    "    return '틀렸어'"
   ]
  },
  {
   "cell_type": "code",
   "execution_count": 14,
   "metadata": {
    "colab": {
     "base_uri": "https://localhost:8080/"
    },
    "executionInfo": {
     "elapsed": 619,
     "status": "ok",
     "timestamp": 1620874260278,
     "user": {
      "displayName": "장크리수탉",
      "photoUrl": "https://lh3.googleusercontent.com/a-/AOh14Gj_tF0bGYk1bA9R_pQsl8UBkVu_yPo_Yv3CGHQ6Gg=s64",
      "userId": "08446625624793440405"
     },
     "user_tz": -540
    },
    "id": "aF0KnVj1nl95",
    "outputId": "b586ae18-3c71-448b-9ed3-30b05d11acac",
    "scrolled": true
   },
   "outputs": [
    {
     "name": "stdout",
     "output_type": "stream",
     "text": [
      "반환된 결과값 틀렸어\n"
     ]
    }
   ],
   "source": [
    "# 함수 실행 결과값을 받아서 새로운 문자열 조합해서 출력\n",
    "print(\"반환된 결과값 \" + edu_name2('encore'))"
   ]
  },
  {
   "cell_type": "code",
   "execution_count": null,
   "metadata": {
    "id": "c__WSbiloUsF"
   },
   "outputs": [],
   "source": [
    " print(\"반환된 결과값 \" + edu_name2('encore')) \n",
    " \n",
    "  1. print() : 콘솔창에 출력하는 기능의 내장 함수\n",
    "  2. eud_name2() : python 사용하는 개발자를 [python 언어] 사용자가 구현한 함수 (사용자 정의 함수)\n",
    " \n",
    "  3. 실행 순서\n",
    "    print() 호출(call) -> \"반환된 결과값 \" 문자열이 메모리에 생성 -> + 실행 시작 -> edu_name2('encore') 호출 시작 -> \n",
    "    encore 문자열 생성 -> 실행 edu_name2 실행 -> 결과값이 반환되어 옴 -> + 연산자가 결과값 결합 -> print() 실행 즉 출력 마무리 "
   ]
  },
  {
   "cell_type": "markdown",
   "metadata": {
    "id": "5zk_RUU9eOL3"
   },
   "source": [
    "# 입력하는 id값(실시간 가변적인 동적 데이터)을 받아서 로직 수행 후 검증한 결과값을 client에게 반환\n",
    "# client는 데이터를 입력 -> server에 전송\n",
    "# server는 데이터를 받고 -> 검증 -> 인증 결과값을 client에게 응답(출력, 결과 리턴)\n",
    "\n",
    "데이터 받고 - 받을 수 가변적인 문법 \n",
    "처리하고 - 조건비교\n",
    "리턴 - return\n",
    "\n",
    "여러명이 요청하는 로직 - 재사용성 고려\n",
    "필요시 마다 호출 - 이름"
   ]
  },
  {
   "cell_type": "code",
   "execution_count": 37,
   "metadata": {
    "id": "PlO_yCbyqG0H"
   },
   "outputs": [],
   "source": [
    "# ??? 두개의 데이터 받아서 더한 결과값을 반환(return)하는 더하기(산술연산 + ) 함수 만들기\n",
    "\n",
    "def my_sum(v1, v2):\n",
    "  return v1 + v2   # return : 이 기능의 함수를 호출한 곳으로 값을 전달하는 기능의 키워드"
   ]
  },
  {
   "cell_type": "code",
   "execution_count": 38,
   "metadata": {},
   "outputs": [],
   "source": [
    "def sum(v1, v2):\n",
    "    return v1+v2"
   ]
  },
  {
   "cell_type": "code",
   "execution_count": 39,
   "metadata": {
    "colab": {
     "base_uri": "https://localhost:8080/"
    },
    "executionInfo": {
     "elapsed": 612,
     "status": "ok",
     "timestamp": 1620875074036,
     "user": {
      "displayName": "장크리수탉",
      "photoUrl": "https://lh3.googleusercontent.com/a-/AOh14Gj_tF0bGYk1bA9R_pQsl8UBkVu_yPo_Yv3CGHQ6Gg=s64",
      "userId": "08446625624793440405"
     },
     "user_tz": -540
    },
    "id": "CAYsp5PjqaQd",
    "outputId": "b5c531ed-2078-4e08-9be7-a4e0648cbde8"
   },
   "outputs": [
    {
     "name": "stdout",
     "output_type": "stream",
     "text": [
      "30\n"
     ]
    }
   ],
   "source": [
    "# 다수의 데이터들은 , 가 구분자\n",
    "# 두개의 메모리 필요\n",
    "print(my_sum(10, 20))    # 30 "
   ]
  },
  {
   "cell_type": "code",
   "execution_count": 40,
   "metadata": {},
   "outputs": [
    {
     "name": "stdout",
     "output_type": "stream",
     "text": [
      "30\n"
     ]
    }
   ],
   "source": [
    "def my_sum(v1, v2):\n",
    "    return v1 + v2\n",
    "\n",
    "print(my_sum(10,20))"
   ]
  },
  {
   "cell_type": "code",
   "execution_count": null,
   "metadata": {
    "colab": {
     "base_uri": "https://localhost:8080/"
    },
    "executionInfo": {
     "elapsed": 506,
     "status": "ok",
     "timestamp": 1620875156359,
     "user": {
      "displayName": "장크리수탉",
      "photoUrl": "https://lh3.googleusercontent.com/a-/AOh14Gj_tF0bGYk1bA9R_pQsl8UBkVu_yPo_Yv3CGHQ6Gg=s64",
      "userId": "08446625624793440405"
     },
     "user_tz": -540
    },
    "id": "2uGkT-xsquOT",
    "outputId": "52d724f8-c642-4287-faf2-b32cc656cb9a"
   },
   "outputs": [],
   "source": [
    "print(my_sum(100, 20))    # 120"
   ]
  },
  {
   "cell_type": "code",
   "execution_count": null,
   "metadata": {
    "id": "C49Qa3XhsBky"
   },
   "outputs": [],
   "source": [
    "def my_sum(v1, v2):\n",
    "  v1 + v2  # 더하기만 하고 끝남 즉 이 함수 기능을 통해서 더한 결과값을 활용하기 위해 다른 곳에서 호출한 경우 더한 결과값 못받음."
   ]
  },
  {
   "cell_type": "code",
   "execution_count": null,
   "metadata": {},
   "outputs": [],
   "source": [
    "if 'a'=='a' and 'b'=='b':\n",
    "    print('두 조건 true')"
   ]
  },
  {
   "cell_type": "code",
   "execution_count": null,
   "metadata": {},
   "outputs": [],
   "source": [
    "if 'a'=='a' or 'b'=='b':\n",
    "    print('두 조건 중 하나만 true여도 가능')"
   ]
  },
  {
   "cell_type": "code",
   "execution_count": null,
   "metadata": {},
   "outputs": [],
   "source": [
    "if 'a'=='a2' or 'b'=='b':\n",
    "    print('두 조건 중 하나만 true여도 가능')"
   ]
  },
  {
   "cell_type": "code",
   "execution_count": null,
   "metadata": {},
   "outputs": [],
   "source": [
    "if 'a'=='a2' and 'b'=='b':\n",
    "    print('두 조건 중 하나만 true여도 가능')"
   ]
  },
  {
   "cell_type": "code",
   "execution_count": 41,
   "metadata": {},
   "outputs": [],
   "source": [
    "# id/pw를 인증해주는 함수 - encore / 77만 유효 가정\n",
    "# 방법 1\n",
    "\n",
    "def login_check(id,pw):\n",
    "    if id=='encore' and pw==77:\n",
    "        print('인증성공')\n",
    "    else:\n",
    "        print('인증실패')\n",
    "        "
   ]
  },
  {
   "cell_type": "code",
   "execution_count": null,
   "metadata": {},
   "outputs": [],
   "source": [
    "login_check('encore',77)"
   ]
  },
  {
   "cell_type": "code",
   "execution_count": null,
   "metadata": {},
   "outputs": [],
   "source": [
    "login_check('p',77)"
   ]
  },
  {
   "cell_type": "code",
   "execution_count": 44,
   "metadata": {},
   "outputs": [],
   "source": [
    "# 방법 2 - 중첩 조건문\n",
    "\n",
    "def login_check(id,pw):\n",
    "    if id=='encore': \n",
    "        if pw==77:\n",
    "            print('인증성공')\n",
    "        else:\n",
    "            print('pw만 인증 실패')\n",
    "    else:\n",
    "        print('id 인증 실패')\n",
    "        "
   ]
  },
  {
   "cell_type": "code",
   "execution_count": 53,
   "metadata": {},
   "outputs": [
    {
     "name": "stdout",
     "output_type": "stream",
     "text": [
      "인증실패\n"
     ]
    }
   ],
   "source": [
    "login_check('p',77)"
   ]
  },
  {
   "cell_type": "code",
   "execution_count": 16,
   "metadata": {
    "scrolled": true
   },
   "outputs": [
    {
     "name": "stdout",
     "output_type": "stream",
     "text": [
      "True\n"
     ]
    }
   ],
   "source": [
    "v = 'string'\n",
    "\n",
    "if v:    # v에 테이더 있어? 없어? 에 대한 조건식\n",
    "    print(True)\n",
    "else:\n",
    "    print(False)"
   ]
  },
  {
   "cell_type": "code",
   "execution_count": 19,
   "metadata": {},
   "outputs": [
    {
     "name": "stdout",
     "output_type": "stream",
     "text": [
      "False\n"
     ]
    }
   ],
   "source": [
    "v = ''   # 길이가 0인 black 문자열\n",
    "\n",
    "if v:    # v에 테이더 있어? 없어? 에 대한 조건식\n",
    "    print(True)\n",
    "else:\n",
    "    print(False)"
   ]
  },
  {
   "cell_type": "code",
   "execution_count": 18,
   "metadata": {},
   "outputs": [],
   "source": [
    "# 다수의 데이터들을 하나의 변수로 관리\n",
    "v = 1   # v에 데이터 있어? 없어? 에 대한 조건식\n",
    "v2 = [1, 2, 3]      # list 구조의 다수의 데이터 관리"
   ]
  },
  {
   "cell_type": "code",
   "execution_count": 21,
   "metadata": {
    "scrolled": true
   },
   "outputs": [
    {
     "name": "stdout",
     "output_type": "stream",
     "text": [
      "5\n",
      "5\n",
      "<class 'str'>\n",
      "<class 'int'>\n"
     ]
    }
   ],
   "source": [
    "v = input()   # 실행시 실시간 입력 가능하게 해주는 함수\n",
    "print(v)      # 입력된 데이터를 출력\n",
    "print(type(v))  # 입력되는 모든 데이터는 str(python 문자열)\n",
    "# 사칙 연산과 같은 연산작업이 필수인 경우 str -> 숫자(int or float)\n",
    "print( type( int(v) ) )   # int() int로 형변환 하는 함수"
   ]
  },
  {
   "cell_type": "code",
   "execution_count": 6,
   "metadata": {},
   "outputs": [
    {
     "name": "stdout",
     "output_type": "stream",
     "text": [
      "1\n",
      "2\n",
      "5\n"
     ]
    }
   ],
   "source": [
    "v = [1, 2, 3, 4, 5]\n",
    "\n",
    "print(v[0])       # [0+1=1]이므로 v의 1번째를 묻는것임\n",
    "print(v[1])       # v의 2번째\n",
    "print(v[4])       # v의 5번째"
   ]
  },
  {
   "cell_type": "markdown",
   "metadata": {
    "id": "DMqMD9V3sOip"
   },
   "source": []
  },
  {
   "cell_type": "markdown",
   "metadata": {
    "id": "rI57zoE7R06L"
   },
   "source": [
    "**미션1. 윤년  프로그램을 통한 연산자 및 조건식 이해하기**\n",
    "\n",
    "- 4로 나누어 떨어지는 년도 : 값 % 4이 0    \n",
    "- 그 중 100으로 나누어 떨어지는 년도는 윤년이 아님 : 값 % 100 의 0과 비교\n",
    "- 400으로 나누어 떨어지는 년도는 무조건 윤년 : 1+2 또는 3번째 조건식 비교( 값 % 400와 0 비교)"
   ]
  },
  {
   "cell_type": "code",
   "execution_count": 32,
   "metadata": {
    "colab": {
     "base_uri": "https://localhost:8080/"
    },
    "executionInfo": {
     "elapsed": 593,
     "status": "ok",
     "timestamp": 1620883427819,
     "user": {
      "displayName": "장크리수탉",
      "photoUrl": "https://lh3.googleusercontent.com/a-/AOh14Gj_tF0bGYk1bA9R_pQsl8UBkVu_yPo_Yv3CGHQ6Gg=s64",
      "userId": "08446625624793440405"
     },
     "user_tz": -540
    },
    "id": "p5RndAGxR06M",
    "outputId": "aa133089-364f-437b-c6b2-846f1d099b38"
   },
   "outputs": [
    {
     "name": "stdout",
     "output_type": "stream",
     "text": [
      "윤년 확인을 위한 년도를 입력해 주세요:  1700\n",
      "1700년은 윤년이 아닙니다.\n"
     ]
    }
   ],
   "source": [
    "# 윤년 프로그램\n",
    "\n",
    "# 4로 나누어 떨어지고 + 100으로 나누어 떨어지지 않는 값 윤년\n",
    "# 400으로 나누어 떨어지는 조건 윤년\n",
    "\n",
    "year = input(\"윤년 확인을 위한 년도를 입력해 주세요:  \")\n",
    "\n",
    "def check_year(year):\n",
    "    if int(year)%400==0:\n",
    "        print(year+\"년은 윤년 입니다.\")\n",
    "    elif a%4 == 0:\n",
    "        if a%100 != 0:\n",
    "            print(year+\"년은 윤년 입니다.\")\n",
    "        else:\n",
    "            print(year+\"년은 윤년이 아닙니다.\")\n",
    "    else:      \n",
    "        print(year+\"년은 윤년이 아닙니다.\")\n",
    "    \n",
    "check_year(year)"
   ]
  },
  {
   "cell_type": "markdown",
   "metadata": {
    "id": "2Mip93stR06N"
   },
   "source": [
    "**미션2. 문자열의 중간 문자를 추출해 보기**\n",
    "\n",
    "문자열의 중앙에 있는 문자를 출력한다. 예를 들어서 문자열이 \"weekday\"이라면 중앙의 문자는 \"k\"가 된다.<br>\n",
    "하지만 만약 문자열이 짝수개의 문자를 가지고 있다면 중앙의 2개의 글자를 출력한다.<br>\n",
    "예를 들어서 \"string\" 문자열에서는 \"ri\"를 반환한다. "
   ]
  },
  {
   "cell_type": "code",
   "execution_count": 33,
   "metadata": {
    "id": "0-a10Gc3R06O"
   },
   "outputs": [
    {
     "data": {
      "text/plain": [
       "(4, 6, 7)"
      ]
     },
     "execution_count": 33,
     "metadata": {},
     "output_type": "execute_result"
    }
   ],
   "source": [
    "# 문자열의 길이값을 반환\n",
    "# 문자열 길이 확인 후에 호출한 곳으로 길이값 반환(리턴값)\n",
    "\n",
    "len('test'), len('string'), len('weekday')"
   ]
  },
  {
   "cell_type": "code",
   "execution_count": 18,
   "metadata": {},
   "outputs": [
    {
     "name": "stdout",
     "output_type": "stream",
     "text": [
      "문자를 입력해 주세요.calm\n"
     ]
    },
    {
     "data": {
      "text/plain": [
       "'al'"
      ]
     },
     "execution_count": 18,
     "metadata": {},
     "output_type": "execute_result"
    }
   ],
   "source": [
    "word = input(\"문자를 입력해 주세요.\")\n",
    "\n",
    "def check_middleword(word):\n",
    "    if len(word)%2==1:\n",
    "        return word[len(word)//2]\n",
    "    else:\n",
    "        return word[len(word)//2-1] + word[len(word)//2]\n",
    "        \n",
    "check_middleword(word)"
   ]
  },
  {
   "cell_type": "code",
   "execution_count": 19,
   "metadata": {},
   "outputs": [
    {
     "name": "stdout",
     "output_type": "stream",
     "text": [
      "영어 문자를 입력해 주세요. : calm\n",
      "가운데 글자는 'a, l' 입니다.\n"
     ]
    }
   ],
   "source": [
    "word = input(\"영어 문자를 입력해 주세요. : \")\n",
    "\n",
    "def check_middleword(word):\n",
    "    if len(word) % 2 == 1:\n",
    "        print(\"가운데 글자는 '\" + word[len(word) // 2] + \"' 입니다.\")\n",
    "    else:\n",
    "        print(\"가운데 글자는 '\" + word[len(word) // 2 - 1] + \", \" + word[len(word) // 2] + \"' 입니다.\")\n",
    "    \n",
    "check_middleword(word)"
   ]
  },
  {
   "cell_type": "markdown",
   "metadata": {
    "id": "4NUEtnh_R06P"
   },
   "source": [
    "**미션3. 임금 계산해 보기**\n",
    "\n",
    "사용자에게 근무 시간과 시간당 임금을 물어보고, 주당 근무 시간이 40시간을 넘으면 1.5배의 임금을 지급해야 한다고 가정할 경우<br> \n",
    "이번주에 받는 총임금을 계산하는 프로그램을 만들어 보자"
   ]
  },
  {
   "cell_type": "code",
   "execution_count": 22,
   "metadata": {
    "colab": {
     "base_uri": "https://localhost:8080/",
     "height": 35
    },
    "executionInfo": {
     "elapsed": 616,
     "status": "ok",
     "timestamp": 1620884125141,
     "user": {
      "displayName": "장크리수탉",
      "photoUrl": "https://lh3.googleusercontent.com/a-/AOh14Gj_tF0bGYk1bA9R_pQsl8UBkVu_yPo_Yv3CGHQ6Gg=s64",
      "userId": "08446625624793440405"
     },
     "user_tz": -540
    },
    "id": "n4Na5-oSR06Q",
    "outputId": "d0dcba54-97b3-4b9e-9d56-3449e7c2a2f1",
    "scrolled": true
   },
   "outputs": [
    {
     "name": "stdout",
     "output_type": "stream",
     "text": [
      "주간 근무시간을 입력해 주세요. : 50\n",
      "시간당 임금을 입력해 주세요. : 9000\n",
      "총 임금은 675000원 입니다.\n"
     ]
    }
   ],
   "source": [
    "# 임금 계산 해보기\n",
    "# print(total_price = a * b)\n",
    "\n",
    "a = int(input(\"주간 근무시간을 입력해 주세요. : \"))\n",
    "b = int(input(\"시간당 임금을 입력해 주세요. : \"))\n",
    "\n",
    "def work_calculate(a, b):\n",
    "  total_price = a * b\n",
    "  if a >= 40:\n",
    "    return '총 임금은 ' + str(int(total_price * 1.5)) + '원 입니다.'\n",
    "  else :\n",
    "    return '총 임금은 ' + str(int(total_price)) + '원 입니다.'\n",
    "\n",
    "print(work_calculate(a,b))\n"
   ]
  },
  {
   "cell_type": "code",
   "execution_count": 52,
   "metadata": {},
   "outputs": [
    {
     "name": "stdout",
     "output_type": "stream",
     "text": [
      "주간 근무시간을 입력해 주세요. : 45\n",
      "시간당 임금을 입력해 주세요. : 9000\n",
      "이번 주 총 임금은 607500원 입니다.\n"
     ]
    }
   ],
   "source": [
    "time = int(input(\"주간 근무시간을 입력해 주세요. : \"))\n",
    "hour_wage = int(input(\"시간당 임금을 입력해 주세요. : \"))\n",
    "\n",
    "def wage_calculator(time, hour_wage):\n",
    "    total_wage = time * hour_wage\n",
    "    if time >= 40:\n",
    "        print(\"이번 주 총 임금은 \" + str(int(total_wage * 1.5)) + \"원 입니다.\")\n",
    "    else:\n",
    "        print(\"이번 주 총 임금은 \" + str(int(total_wage)) + \"원 입니다.\")\n",
    "        \n",
    "wage_calculator(time, hour_wage)"
   ]
  },
  {
   "cell_type": "markdown",
   "metadata": {
    "id": "cCgIbH_4R06R"
   },
   "source": [
    "## 반복문"
   ]
  },
  {
   "cell_type": "code",
   "execution_count": 40,
   "metadata": {
    "scrolled": true
   },
   "outputs": [
    {
     "name": "stdout",
     "output_type": "stream",
     "text": [
      "[1, 2, 3, 4, 5]\n",
      "<class 'list'>\n",
      "5\n"
     ]
    }
   ],
   "source": [
    "multi = [1, 2, 3, 4, 5]\n",
    "\n",
    "print(multi)\n",
    "print(type(multi))\n",
    "print(multi[4])"
   ]
  },
  {
   "cell_type": "code",
   "execution_count": 55,
   "metadata": {
    "id": "StR5vBqsR06S"
   },
   "outputs": [
    {
     "name": "stdout",
     "output_type": "stream",
     "text": [
      "1\n",
      "2\n",
      "3\n",
      "4\n",
      "5\n"
     ]
    }
   ],
   "source": [
    "# 다수의 데이터가 존재할 경우 하나씩 하나씩 뽑아서 화면에 출력 for in\n",
    "# 다수의 데이터가 있어야 하고 -> 하나씩 뽑은 데이터를 관리하는 변수 -> 출력\n",
    "\n",
    "# 다수의 데이터 = multi\n",
    "# 뽑은 데이터 보유 변수 = one\n",
    "# for문은 순서가 계속 반복됨\n",
    "\n",
    "# 실행순서 1번 -> 할당된 2번 -> 프린트 3번 -> 실행순서 1번\n",
    "# one 은 인덱스 중 하나 뽑아서 주는데 눈에 보이는 식 없음 >> for문 로직에 들어가 있음.\n",
    "\n",
    "\n",
    "multi = [1, 2, 3, 4, 5]\n",
    "\n",
    "for one in multi:\n",
    "    print(one)\n"
   ]
  },
  {
   "cell_type": "code",
   "execution_count": 56,
   "metadata": {},
   "outputs": [
    {
     "name": "stdout",
     "output_type": "stream",
     "text": [
      "1\n",
      "2\n",
      "3\n",
      "4\n",
      "5\n"
     ]
    }
   ],
   "source": [
    "multi = [1, 2, 3, 4, 5]\n",
    "\n",
    "for one in multi:\n",
    "    print(one)"
   ]
  },
  {
   "cell_type": "code",
   "execution_count": 57,
   "metadata": {},
   "outputs": [
    {
     "name": "stdout",
     "output_type": "stream",
     "text": [
      "1 2 3 4 5 "
     ]
    }
   ],
   "source": [
    "for one in multi:\n",
    "    print(one, end = ' ')  # 반복 하면서 한 line에 데이터 출력 가능한 속성"
   ]
  },
  {
   "cell_type": "code",
   "execution_count": 5,
   "metadata": {},
   "outputs": [
    {
     "name": "stdout",
     "output_type": "stream",
     "text": [
      "1-2-3-4-5-"
     ]
    }
   ],
   "source": [
    "for one in multi:\n",
    "    print(one, end = '-')  # end를 써서 문장 가공이 가능함"
   ]
  },
  {
   "cell_type": "code",
   "execution_count": 8,
   "metadata": {},
   "outputs": [
    {
     "name": "stdout",
     "output_type": "stream",
     "text": [
      "0\n",
      "1\n",
      "2\n",
      "3\n",
      "4\n"
     ]
    }
   ],
   "source": [
    "# 0~100까지 101개의 숫자값을 출력 line단위로\n",
    "# range() : 일정 범위의 숫자값을 자동 생성해 주는 함수\n",
    "\n",
    "for data in range(5):\n",
    "    print(data)"
   ]
  },
  {
   "cell_type": "code",
   "execution_count": 65,
   "metadata": {},
   "outputs": [
    {
     "name": "stdout",
     "output_type": "stream",
     "text": [
      "1\n",
      "2\n",
      "3\n",
      "4\n"
     ]
    }
   ],
   "source": [
    "for data in range(1,5):        # 1부터 시작하는 법\n",
    "    print(data)"
   ]
  },
  {
   "cell_type": "code",
   "execution_count": 73,
   "metadata": {},
   "outputs": [
    {
     "name": "stdout",
     "output_type": "stream",
     "text": [
      "0\n",
      "1\n",
      "2\n",
      "3\n",
      "4\n",
      "5\n",
      "6\n",
      "7\n",
      "8\n",
      "9\n",
      "\n",
      "3\n",
      "4\n",
      "5\n",
      "6\n",
      "7\n",
      "8\n",
      "9\n"
     ]
    }
   ],
   "source": [
    "for one in range(10):         # 인덱스 0번 ~ 9번까지 출력 됨 -> 숫자 0~10까지 출력 됨\n",
    "    print(one)\n",
    "print()    \n",
    "for one in range(3, 10):      # 1 ~ 인덱스10번 까지 출력 됨 -> 숫자1~9까지 출력 됨\n",
    "    print(one)"
   ]
  },
  {
   "cell_type": "code",
   "execution_count": 74,
   "metadata": {},
   "outputs": [
    {
     "name": "stdout",
     "output_type": "stream",
     "text": [
      "1\n",
      "3\n",
      "5\n"
     ]
    }
   ],
   "source": [
    "for data in range(1, 6, 2):        # 뒤에 2부분은 점프!!\n",
    "    print(data)"
   ]
  },
  {
   "cell_type": "code",
   "execution_count": 75,
   "metadata": {},
   "outputs": [
    {
     "name": "stdout",
     "output_type": "stream",
     "text": [
      "1\n",
      "4\n",
      "7\n",
      "10\n"
     ]
    }
   ],
   "source": [
    "for data in range(1, 11, 3):\n",
    "    print(data)"
   ]
  },
  {
   "cell_type": "code",
   "execution_count": 12,
   "metadata": {},
   "outputs": [
    {
     "name": "stdout",
     "output_type": "stream",
     "text": [
      "0\n",
      "1\n",
      "2\n",
      "3\n"
     ]
    }
   ],
   "source": [
    "for i in range(9):\n",
    "  if i > 3:    # 4인 경우가 true\n",
    "    break      # 반복문 종료\n",
    "  print(i)"
   ]
  },
  {
   "cell_type": "code",
   "execution_count": 14,
   "metadata": {},
   "outputs": [
    {
     "name": "stdout",
     "output_type": "stream",
     "text": [
      "0\n",
      "1\n",
      "2\n",
      "3\n",
      "4\n",
      "5\n",
      "6\n",
      "7\n",
      "8\n"
     ]
    }
   ],
   "source": [
    "for i in range(9):\n",
    "  print(i)"
   ]
  },
  {
   "cell_type": "code",
   "execution_count": 77,
   "metadata": {},
   "outputs": [
    {
     "name": "stdout",
     "output_type": "stream",
     "text": [
      "0\n",
      "1\n",
      "2\n",
      "3\n",
      "-  4\n",
      "-  5\n",
      "-  6\n",
      "-  7\n",
      "-  8\n"
     ]
    }
   ],
   "source": [
    "for i in range(9):\n",
    "      if i > 3:             \n",
    "        print('- ', i)\n",
    "        continue          # 반복문 파괴가 아닌 해당 조건 실행만 skip\n",
    "      print(i)"
   ]
  },
  {
   "cell_type": "code",
   "execution_count": 85,
   "metadata": {},
   "outputs": [
    {
     "name": "stdout",
     "output_type": "stream",
     "text": [
      "0\n",
      "1\n",
      "2\n",
      "3\n",
      "-  4\n"
     ]
    }
   ],
   "source": [
    "for i in range(9):\n",
    "    if i > 3:     \n",
    "        print('- ', i)\n",
    "        break\n",
    "    print(i)"
   ]
  },
  {
   "cell_type": "code",
   "execution_count": 86,
   "metadata": {},
   "outputs": [
    {
     "name": "stdout",
     "output_type": "stream",
     "text": [
      "0\n",
      "1\n",
      "2\n"
     ]
    }
   ],
   "source": [
    "for i in range(9):\n",
    "  if i == 3:      # 동등연산자만 True라서 3만 빼고 나옴\n",
    "    break\n",
    "  print(i)"
   ]
  },
  {
   "cell_type": "code",
   "execution_count": 87,
   "metadata": {},
   "outputs": [],
   "source": [
    "# 가변적인 입력 숫자값(재사용성)으로\n",
    "# range 함수에 적용해서 그 수만큼 반복\n",
    "# 단, 만일 반복되는 데이터가 5인 경우만 skip - if continue\n",
    "\n",
    "# 구현\n",
    "def my_for(v):\n",
    "    for d in range(v):\n",
    "        if d == 5:\n",
    "            continue\n",
    "        print(d)"
   ]
  },
  {
   "cell_type": "code",
   "execution_count": 95,
   "metadata": {},
   "outputs": [
    {
     "name": "stdout",
     "output_type": "stream",
     "text": [
      "5\n",
      "10\n"
     ]
    }
   ],
   "source": [
    "def my_test(t):\n",
    "    for one in range(1,t):\n",
    "        if one%5 != 0:\n",
    "            continue\n",
    "        print(one)\n",
    "        \n",
    "my_test(11)"
   ]
  },
  {
   "cell_type": "code",
   "execution_count": 35,
   "metadata": {},
   "outputs": [
    {
     "name": "stdout",
     "output_type": "stream",
     "text": [
      "0\n",
      "1\n",
      "2\n",
      "3\n",
      "4\n",
      "6\n",
      "7\n",
      "8\n",
      "9\n",
      "10\n",
      "11\n",
      "12\n",
      "13\n",
      "14\n",
      "15\n",
      "16\n",
      "17\n",
      "18\n",
      "19\n"
     ]
    }
   ],
   "source": [
    "# 구현된 함수 호출\n",
    "my_for(20)"
   ]
  },
  {
   "cell_type": "code",
   "execution_count": 111,
   "metadata": {},
   "outputs": [
    {
     "name": "stdout",
     "output_type": "stream",
     "text": [
      "1\n",
      "2\n",
      "3\n"
     ]
    }
   ],
   "source": [
    "# while 문 - 수업외\n",
    "\n",
    "number = 1\n",
    "while number <= 3:\n",
    "    print(number)\n",
    "    number += 1"
   ]
  },
  {
   "cell_type": "code",
   "execution_count": 113,
   "metadata": {},
   "outputs": [
    {
     "name": "stdout",
     "output_type": "stream",
     "text": [
      "무한루프\n"
     ]
    }
   ],
   "source": [
    "while True:\n",
    "    print(\"무한루프\")\n",
    "    break"
   ]
  },
  {
   "cell_type": "code",
   "execution_count": 115,
   "metadata": {},
   "outputs": [
    {
     "name": "stdout",
     "output_type": "stream",
     "text": [
      "1\n",
      "2\n",
      "3\n"
     ]
    }
   ],
   "source": [
    "number = 1\n",
    "while True:\n",
    "    print(number)\n",
    "    number += 1\n",
    "    if number > 3:\n",
    "        break"
   ]
  },
  {
   "cell_type": "markdown",
   "metadata": {},
   "source": [
    "두개의 정수를 입력 받아서 더하는 코드를 작성하시오.<br>\n",
    "(단, 두개의 정수가 0이 들어올 때 까지 반복한다.)"
   ]
  },
  {
   "cell_type": "code",
   "execution_count": null,
   "metadata": {},
   "outputs": [],
   "source": [
    "while True:\n",
    "    num1 = int(input(\"첫 번째 정수 입력 >> \"))\n",
    "    num2 = int(input(\"두 번째 정수 입력 >> \"))\n",
    "    \n",
    "    print(\"두 수의 합 : {}\". format(num1+num2))"
   ]
  },
  {
   "cell_type": "code",
   "execution_count": 117,
   "metadata": {},
   "outputs": [
    {
     "name": "stdout",
     "output_type": "stream",
     "text": [
      "첫 번째 정수 입력 >> 3\n",
      "두 번째 정수 입력 >> 4\n",
      "두 수의 합 : 7\n",
      "첫 번째 정수 입력 >> 15\n",
      "두 번째 정수 입력 >> 15\n",
      "두 수의 합 : 30\n",
      "첫 번째 정수 입력 >> 0\n",
      "두 번째 정수 입력 >> 0\n",
      "프로그램이 종료 되었습니다.\n"
     ]
    }
   ],
   "source": [
    "while True:\n",
    "    num1 = int(input(\"첫 번째 정수 입력 >> \"))\n",
    "    num2 = int(input(\"두 번째 정수 입력 >> \"))\n",
    "    \n",
    "    if num1 == 0 and num2 ==0:\n",
    "        break\n",
    "    \n",
    "    print(\"두 수의 합 : {}\". format(num1+num2))\n",
    "print(\"프로그램이 종료 되었습니다.\")"
   ]
  },
  {
   "cell_type": "markdown",
   "metadata": {
    "id": "9gtlf8i1R06T"
   },
   "source": [
    "**미션 - 숫자로 pyramid 만들기**\n",
    "\n",
    "- 중첩 for문과 range() 함수 활용\n",
    "- 함수로 구현"
   ]
  },
  {
   "cell_type": "code",
   "execution_count": 44,
   "metadata": {
    "id": "tIsj6fX9R06U"
   },
   "outputs": [],
   "source": [
    "def pyramid(v):\n",
    "    \n",
    "    for data in range(1, v+1):\n",
    "        for j in range(data):\n",
    "            print(data, end='')\n",
    "        print()        # block new line"
   ]
  },
  {
   "cell_type": "code",
   "execution_count": 45,
   "metadata": {
    "scrolled": true
   },
   "outputs": [
    {
     "name": "stdout",
     "output_type": "stream",
     "text": [
      "1\n",
      "22\n",
      "333\n",
      "4444\n",
      "55555\n"
     ]
    }
   ],
   "source": [
    "pyramid(5)"
   ]
  },
  {
   "cell_type": "code",
   "execution_count": 10,
   "metadata": {},
   "outputs": [
    {
     "name": "stdout",
     "output_type": "stream",
     "text": [
      "2 X 1 = 2\n",
      "2 X 2 = 4\n",
      "2 X 3 = 6\n",
      "2 X 4 = 8\n",
      "2 X 5 = 10\n",
      "2 X 6 = 12\n",
      "2 X 7 = 14\n",
      "2 X 8 = 16\n",
      "2 X 9 = 18\n"
     ]
    }
   ],
   "source": [
    "for i in range(1,10):\n",
    "    print(\"2 X\", i, \"=\", 2 * i)"
   ]
  },
  {
   "cell_type": "code",
   "execution_count": 12,
   "metadata": {},
   "outputs": [
    {
     "name": "stdout",
     "output_type": "stream",
     "text": [
      "2 X 1 = 2\n",
      "2 X 2 = 4\n",
      "2 X 3 = 6\n",
      "2 X 4 = 8\n",
      "2 X 5 = 10\n",
      "2 X 6 = 12\n",
      "2 X 7 = 14\n",
      "2 X 8 = 16\n",
      "2 X 9 = 18\n"
     ]
    }
   ],
   "source": [
    "dan = 2\n",
    "for i in range(1,10):\n",
    "    print(dan, \"X\", i, \"=\", dan * i)"
   ]
  },
  {
   "cell_type": "code",
   "execution_count": 27,
   "metadata": {},
   "outputs": [
    {
     "name": "stdout",
     "output_type": "stream",
     "text": [
      "1 X 1 = 1\n",
      "1 X 2 = 2\n",
      "1 X 3 = 3\n",
      "1 X 4 = 4\n",
      "1 X 5 = 5\n",
      "1 X 6 = 6\n",
      "1 X 7 = 7\n",
      "1 X 8 = 8\n",
      "1 X 9 = 9\n",
      "\n",
      "2 X 1 = 2\n",
      "2 X 2 = 4\n",
      "2 X 3 = 6\n",
      "2 X 4 = 8\n",
      "2 X 5 = 10\n",
      "2 X 6 = 12\n",
      "2 X 7 = 14\n",
      "2 X 8 = 16\n",
      "2 X 9 = 18\n",
      "\n",
      "3 X 1 = 3\n",
      "3 X 2 = 6\n",
      "3 X 3 = 9\n",
      "3 X 4 = 12\n",
      "3 X 5 = 15\n",
      "3 X 6 = 18\n",
      "3 X 7 = 21\n",
      "3 X 8 = 24\n",
      "3 X 9 = 27\n",
      "\n",
      "4 X 1 = 4\n",
      "4 X 2 = 8\n",
      "4 X 3 = 12\n",
      "4 X 4 = 16\n",
      "4 X 5 = 20\n",
      "4 X 6 = 24\n",
      "4 X 7 = 28\n",
      "4 X 8 = 32\n",
      "4 X 9 = 36\n",
      "\n",
      "5 X 1 = 5\n",
      "5 X 2 = 10\n",
      "5 X 3 = 15\n",
      "5 X 4 = 20\n",
      "5 X 5 = 25\n",
      "5 X 6 = 30\n",
      "5 X 7 = 35\n",
      "5 X 8 = 40\n",
      "5 X 9 = 45\n",
      "\n",
      "6 X 1 = 6\n",
      "6 X 2 = 12\n",
      "6 X 3 = 18\n",
      "6 X 4 = 24\n",
      "6 X 5 = 30\n",
      "6 X 6 = 36\n",
      "6 X 7 = 42\n",
      "6 X 8 = 48\n",
      "6 X 9 = 54\n",
      "\n",
      "7 X 1 = 7\n",
      "7 X 2 = 14\n",
      "7 X 3 = 21\n",
      "7 X 4 = 28\n",
      "7 X 5 = 35\n",
      "7 X 6 = 42\n",
      "7 X 7 = 49\n",
      "7 X 8 = 56\n",
      "7 X 9 = 63\n",
      "\n",
      "8 X 1 = 8\n",
      "8 X 2 = 16\n",
      "8 X 3 = 24\n",
      "8 X 4 = 32\n",
      "8 X 5 = 40\n",
      "8 X 6 = 48\n",
      "8 X 7 = 56\n",
      "8 X 8 = 64\n",
      "8 X 9 = 72\n",
      "\n",
      "9 X 1 = 9\n",
      "9 X 2 = 18\n",
      "9 X 3 = 27\n",
      "9 X 4 = 36\n",
      "9 X 5 = 45\n",
      "9 X 6 = 54\n",
      "9 X 7 = 63\n",
      "9 X 8 = 72\n",
      "9 X 9 = 81\n",
      "\n"
     ]
    }
   ],
   "source": [
    "for dan in range(1,10):\n",
    "    for i in range(1,10):\n",
    "        print(dan, \"X\", i, \"=\", dan * i)\n",
    "    print()"
   ]
  },
  {
   "cell_type": "code",
   "execution_count": 1,
   "metadata": {},
   "outputs": [],
   "source": [
    "def pyramid(v):\n",
    "    \n",
    "    for data in range(1, v+1):\n",
    "        for j in range(data):\n",
    "            print(j, '', data)\n",
    "        print()        # black new line"
   ]
  },
  {
   "cell_type": "code",
   "execution_count": 6,
   "metadata": {},
   "outputs": [],
   "source": [
    "def pyramid(v):\n",
    "    \n",
    "    for data in range(1, v+1):\n",
    "        for j in range(data):\n",
    "            print(j,'',data)\n",
    "        print()        # black new line"
   ]
  },
  {
   "cell_type": "code",
   "execution_count": 5,
   "metadata": {},
   "outputs": [
    {
     "name": "stdout",
     "output_type": "stream",
     "text": [
      "1\n",
      "22\n",
      "333\n",
      "4444\n",
      "55555\n"
     ]
    }
   ],
   "source": [
    "pyramid(5)"
   ]
  },
  {
   "cell_type": "markdown",
   "metadata": {
    "id": "kOMwwTGMR06V"
   },
   "source": [
    "**미션- 팩토리얼 계산하기**\n",
    ">반복문을 활용하여 팩토리얼 계산해 보기<br>\n",
    "for문과 while문을 활용하여 각각 만들어 보기<br>\n",
    "팩토리얼 n!은 1~n까지의 정수를 모두 곱한 것을 의미한다<br>\n",
    "n! = 1*2*3*...(n-1)*n\n",
    "\n",
    ">힌트 : range() 함수를 이용"
   ]
  },
  {
   "cell_type": "code",
   "execution_count": 46,
   "metadata": {
    "id": "UyA4IcErR06W"
   },
   "outputs": [
    {
     "ename": "KeyboardInterrupt",
     "evalue": "Interrupted by user",
     "output_type": "error",
     "traceback": [
      "\u001b[1;31m---------------------------------------------------------------------------\u001b[0m",
      "\u001b[1;31mKeyboardInterrupt\u001b[0m                         Traceback (most recent call last)",
      "\u001b[1;32m<ipython-input-46-9eeee32f5f6b>\u001b[0m in \u001b[0;36m<module>\u001b[1;34m\u001b[0m\n\u001b[1;32m----> 1\u001b[1;33m \u001b[0mn\u001b[0m \u001b[1;33m=\u001b[0m \u001b[0mint\u001b[0m\u001b[1;33m(\u001b[0m\u001b[0minput\u001b[0m\u001b[1;33m(\u001b[0m\u001b[1;34m\"숫자를 입력하시오. \"\u001b[0m\u001b[1;33m)\u001b[0m\u001b[1;33m)\u001b[0m\u001b[1;33m\u001b[0m\u001b[1;33m\u001b[0m\u001b[0m\n\u001b[0m\u001b[0;32m      2\u001b[0m \u001b[0mfact\u001b[0m \u001b[1;33m=\u001b[0m \u001b[1;36m1\u001b[0m\u001b[1;33m\u001b[0m\u001b[1;33m\u001b[0m\u001b[0m\n\u001b[0;32m      3\u001b[0m \u001b[1;33m\u001b[0m\u001b[0m\n\u001b[0;32m      4\u001b[0m \u001b[1;31m# range(1, 3) -> 1,3-1\u001b[0m\u001b[1;33m\u001b[0m\u001b[1;33m\u001b[0m\u001b[1;33m\u001b[0m\u001b[0m\n\u001b[0;32m      5\u001b[0m \u001b[1;32mfor\u001b[0m \u001b[0mi\u001b[0m \u001b[1;32min\u001b[0m \u001b[0mrange\u001b[0m\u001b[1;33m(\u001b[0m\u001b[1;36m1\u001b[0m\u001b[1;33m,\u001b[0m\u001b[0mn\u001b[0m\u001b[1;33m+\u001b[0m\u001b[1;36m1\u001b[0m\u001b[1;33m)\u001b[0m\u001b[1;33m:\u001b[0m    \u001b[1;31m# 1,2,3 값 반복\u001b[0m\u001b[1;33m\u001b[0m\u001b[1;33m\u001b[0m\u001b[0m\n",
      "\u001b[1;32m~\\anaconda3\\lib\\site-packages\\ipykernel\\kernelbase.py\u001b[0m in \u001b[0;36mraw_input\u001b[1;34m(self, prompt)\u001b[0m\n\u001b[0;32m    858\u001b[0m                 \u001b[1;34m\"raw_input was called, but this frontend does not support input requests.\"\u001b[0m\u001b[1;33m\u001b[0m\u001b[1;33m\u001b[0m\u001b[0m\n\u001b[0;32m    859\u001b[0m             )\n\u001b[1;32m--> 860\u001b[1;33m         return self._input_request(str(prompt),\n\u001b[0m\u001b[0;32m    861\u001b[0m             \u001b[0mself\u001b[0m\u001b[1;33m.\u001b[0m\u001b[0m_parent_ident\u001b[0m\u001b[1;33m,\u001b[0m\u001b[1;33m\u001b[0m\u001b[1;33m\u001b[0m\u001b[0m\n\u001b[0;32m    862\u001b[0m             \u001b[0mself\u001b[0m\u001b[1;33m.\u001b[0m\u001b[0m_parent_header\u001b[0m\u001b[1;33m,\u001b[0m\u001b[1;33m\u001b[0m\u001b[1;33m\u001b[0m\u001b[0m\n",
      "\u001b[1;32m~\\anaconda3\\lib\\site-packages\\ipykernel\\kernelbase.py\u001b[0m in \u001b[0;36m_input_request\u001b[1;34m(self, prompt, ident, parent, password)\u001b[0m\n\u001b[0;32m    902\u001b[0m             \u001b[1;32mexcept\u001b[0m \u001b[0mKeyboardInterrupt\u001b[0m\u001b[1;33m:\u001b[0m\u001b[1;33m\u001b[0m\u001b[1;33m\u001b[0m\u001b[0m\n\u001b[0;32m    903\u001b[0m                 \u001b[1;31m# re-raise KeyboardInterrupt, to truncate traceback\u001b[0m\u001b[1;33m\u001b[0m\u001b[1;33m\u001b[0m\u001b[1;33m\u001b[0m\u001b[0m\n\u001b[1;32m--> 904\u001b[1;33m                 \u001b[1;32mraise\u001b[0m \u001b[0mKeyboardInterrupt\u001b[0m\u001b[1;33m(\u001b[0m\u001b[1;34m\"Interrupted by user\"\u001b[0m\u001b[1;33m)\u001b[0m \u001b[1;32mfrom\u001b[0m \u001b[1;32mNone\u001b[0m\u001b[1;33m\u001b[0m\u001b[1;33m\u001b[0m\u001b[0m\n\u001b[0m\u001b[0;32m    905\u001b[0m             \u001b[1;32mexcept\u001b[0m \u001b[0mException\u001b[0m \u001b[1;32mas\u001b[0m \u001b[0me\u001b[0m\u001b[1;33m:\u001b[0m\u001b[1;33m\u001b[0m\u001b[1;33m\u001b[0m\u001b[0m\n\u001b[0;32m    906\u001b[0m                 \u001b[0mself\u001b[0m\u001b[1;33m.\u001b[0m\u001b[0mlog\u001b[0m\u001b[1;33m.\u001b[0m\u001b[0mwarning\u001b[0m\u001b[1;33m(\u001b[0m\u001b[1;34m\"Invalid Message:\"\u001b[0m\u001b[1;33m,\u001b[0m \u001b[0mexc_info\u001b[0m\u001b[1;33m=\u001b[0m\u001b[1;32mTrue\u001b[0m\u001b[1;33m)\u001b[0m\u001b[1;33m\u001b[0m\u001b[1;33m\u001b[0m\u001b[0m\n",
      "\u001b[1;31mKeyboardInterrupt\u001b[0m: Interrupted by user"
     ]
    }
   ],
   "source": [
    "n = int(input(\"숫자를 입력하시오. \"))\n",
    "fact = 1\n",
    "\n",
    "# range(1, 3) -> 1,3-1\n",
    "for i in range(1,n+1):    # 1,2,3 값 반복\n",
    "    fact = fact * i       # 1*1 =1 / 1 * 2 = 2 / 2 * 3 = 6\n",
    "   \n",
    "print(str(n) + \"! 은\" + str(fact) + \"입니다.\")"
   ]
  },
  {
   "cell_type": "code",
   "execution_count": 1,
   "metadata": {},
   "outputs": [
    {
     "name": "stdout",
     "output_type": "stream",
     "text": [
      "숫자를 입력하시오. 3\n",
      "3! 은6입니다.\n"
     ]
    }
   ],
   "source": [
    "n = int(input(\"숫자를 입력하시오. \"))\n",
    "fact = 1\n",
    "\n",
    "for i in range(1, n+1):\n",
    "    fact = fact * i\n",
    "    \n",
    "print(str(n) + \"! 은\" + str(fact) + \"입니다.\")"
   ]
  },
  {
   "cell_type": "code",
   "execution_count": 50,
   "metadata": {},
   "outputs": [
    {
     "ename": "KeyboardInterrupt",
     "evalue": "Interrupted by user",
     "output_type": "error",
     "traceback": [
      "\u001b[1;31m---------------------------------------------------------------------------\u001b[0m",
      "\u001b[1;31mKeyboardInterrupt\u001b[0m                         Traceback (most recent call last)",
      "\u001b[1;32m<ipython-input-50-35eae42ea842>\u001b[0m in \u001b[0;36m<module>\u001b[1;34m\u001b[0m\n\u001b[1;32m----> 1\u001b[1;33m \u001b[0mn\u001b[0m \u001b[1;33m=\u001b[0m \u001b[0mint\u001b[0m\u001b[1;33m(\u001b[0m\u001b[0minput\u001b[0m\u001b[1;33m(\u001b[0m\u001b[1;34m\"숫자를 입력하시오. \"\u001b[0m\u001b[1;33m)\u001b[0m\u001b[1;33m)\u001b[0m\u001b[1;33m\u001b[0m\u001b[1;33m\u001b[0m\u001b[0m\n\u001b[0m\u001b[0;32m      2\u001b[0m \u001b[0mfact\u001b[0m \u001b[1;33m=\u001b[0m \u001b[1;36m1\u001b[0m\u001b[1;33m\u001b[0m\u001b[1;33m\u001b[0m\u001b[0m\n\u001b[0;32m      3\u001b[0m \u001b[1;33m\u001b[0m\u001b[0m\n\u001b[0;32m      4\u001b[0m \u001b[1;32mfor\u001b[0m \u001b[0mi\u001b[0m \u001b[1;32min\u001b[0m \u001b[0mrange\u001b[0m\u001b[1;33m(\u001b[0m\u001b[1;36m1\u001b[0m\u001b[1;33m,\u001b[0m\u001b[0mn\u001b[0m\u001b[1;33m+\u001b[0m\u001b[1;36m1\u001b[0m\u001b[1;33m)\u001b[0m\u001b[1;33m:\u001b[0m    \u001b[1;31m# 1,2 값 반복\u001b[0m\u001b[1;33m\u001b[0m\u001b[1;33m\u001b[0m\u001b[0m\n\u001b[0;32m      5\u001b[0m     \u001b[0mfact\u001b[0m \u001b[1;33m=\u001b[0m \u001b[0mfact\u001b[0m \u001b[1;33m*\u001b[0m \u001b[0mi\u001b[0m\u001b[1;33m\u001b[0m\u001b[1;33m\u001b[0m\u001b[0m\n",
      "\u001b[1;32m~\\anaconda3\\lib\\site-packages\\ipykernel\\kernelbase.py\u001b[0m in \u001b[0;36mraw_input\u001b[1;34m(self, prompt)\u001b[0m\n\u001b[0;32m    858\u001b[0m                 \u001b[1;34m\"raw_input was called, but this frontend does not support input requests.\"\u001b[0m\u001b[1;33m\u001b[0m\u001b[1;33m\u001b[0m\u001b[0m\n\u001b[0;32m    859\u001b[0m             )\n\u001b[1;32m--> 860\u001b[1;33m         return self._input_request(str(prompt),\n\u001b[0m\u001b[0;32m    861\u001b[0m             \u001b[0mself\u001b[0m\u001b[1;33m.\u001b[0m\u001b[0m_parent_ident\u001b[0m\u001b[1;33m,\u001b[0m\u001b[1;33m\u001b[0m\u001b[1;33m\u001b[0m\u001b[0m\n\u001b[0;32m    862\u001b[0m             \u001b[0mself\u001b[0m\u001b[1;33m.\u001b[0m\u001b[0m_parent_header\u001b[0m\u001b[1;33m,\u001b[0m\u001b[1;33m\u001b[0m\u001b[1;33m\u001b[0m\u001b[0m\n",
      "\u001b[1;32m~\\anaconda3\\lib\\site-packages\\ipykernel\\kernelbase.py\u001b[0m in \u001b[0;36m_input_request\u001b[1;34m(self, prompt, ident, parent, password)\u001b[0m\n\u001b[0;32m    902\u001b[0m             \u001b[1;32mexcept\u001b[0m \u001b[0mKeyboardInterrupt\u001b[0m\u001b[1;33m:\u001b[0m\u001b[1;33m\u001b[0m\u001b[1;33m\u001b[0m\u001b[0m\n\u001b[0;32m    903\u001b[0m                 \u001b[1;31m# re-raise KeyboardInterrupt, to truncate traceback\u001b[0m\u001b[1;33m\u001b[0m\u001b[1;33m\u001b[0m\u001b[1;33m\u001b[0m\u001b[0m\n\u001b[1;32m--> 904\u001b[1;33m                 \u001b[1;32mraise\u001b[0m \u001b[0mKeyboardInterrupt\u001b[0m\u001b[1;33m(\u001b[0m\u001b[1;34m\"Interrupted by user\"\u001b[0m\u001b[1;33m)\u001b[0m \u001b[1;32mfrom\u001b[0m \u001b[1;32mNone\u001b[0m\u001b[1;33m\u001b[0m\u001b[1;33m\u001b[0m\u001b[0m\n\u001b[0m\u001b[0;32m    905\u001b[0m             \u001b[1;32mexcept\u001b[0m \u001b[0mException\u001b[0m \u001b[1;32mas\u001b[0m \u001b[0me\u001b[0m\u001b[1;33m:\u001b[0m\u001b[1;33m\u001b[0m\u001b[1;33m\u001b[0m\u001b[0m\n\u001b[0;32m    906\u001b[0m                 \u001b[0mself\u001b[0m\u001b[1;33m.\u001b[0m\u001b[0mlog\u001b[0m\u001b[1;33m.\u001b[0m\u001b[0mwarning\u001b[0m\u001b[1;33m(\u001b[0m\u001b[1;34m\"Invalid Message:\"\u001b[0m\u001b[1;33m,\u001b[0m \u001b[0mexc_info\u001b[0m\u001b[1;33m=\u001b[0m\u001b[1;32mTrue\u001b[0m\u001b[1;33m)\u001b[0m\u001b[1;33m\u001b[0m\u001b[1;33m\u001b[0m\u001b[0m\n",
      "\u001b[1;31mKeyboardInterrupt\u001b[0m: Interrupted by user"
     ]
    }
   ],
   "source": [
    "n = int(input(\"숫자를 입력하시오. \"))\n",
    "fact = 1\n",
    "\n",
    "for i in range(1,n+1):    # 1,2 값 반복\n",
    "    fact = fact * i       \n",
    "\n",
    "print((str(n) + \"! 은\" + str(fact) + \"입니다.\"))"
   ]
  },
  {
   "cell_type": "code",
   "execution_count": 7,
   "metadata": {},
   "outputs": [
    {
     "name": "stdout",
     "output_type": "stream",
     "text": [
      "숫자를 입력하시오. 6\n",
      "6! 은720입니다.\n"
     ]
    }
   ],
   "source": [
    "n = int(input(\"숫자를 입력하시오. \"))\n",
    "fact = 1\n",
    "\n",
    "for i in range(1,n+1):    # 1,2 값 반복\n",
    "    fact = fact * i       # fact *= i\n",
    "\n",
    "print(str(n) + \"! 은\" + str(fact) + \"입니다.\")"
   ]
  },
  {
   "cell_type": "code",
   "execution_count": 57,
   "metadata": {
    "id": "UyA4IcErR06W"
   },
   "outputs": [
    {
     "name": "stdout",
     "output_type": "stream",
     "text": [
      "2\n",
      "4\n",
      "12\n",
      "48\n",
      "240\n"
     ]
    }
   ],
   "source": [
    "n = 5\n",
    "fact = 2\n",
    "\n",
    "for i in range(1,n+1):    # 1,2 값 반복\n",
    "    fact = fact * i       \n",
    "    print(fact)"
   ]
  },
  {
   "cell_type": "code",
   "execution_count": null,
   "metadata": {},
   "outputs": [],
   "source": []
  },
  {
   "cell_type": "markdown",
   "metadata": {
    "id": "l30fK4b3R06X"
   },
   "source": [
    "**미션-계좌번호 처리하기**\n",
    "\n",
    "> 인터넷 뱅킹을 사용하다보면 계좌번호를 입력할 때, \"312-02-1234567\"과 사용자로부터 \"-\"가 포함된 계좌 번호를 받아서 \"-\"을 삭제한 문자열을 만들어보자. \n"
   ]
  },
  {
   "cell_type": "markdown",
   "metadata": {},
   "source": [
    "문자열 데이터 획득 -> 문자열을 철자 하나하나씩 뽑아 -> - 여부 검증\n",
    "-> - 입니다 또는 - 아닙니다\n",
    "   - 를 지우기 : 방법몰라\n",
    "   - 아닌경우 : 유지"
   ]
  },
  {
   "cell_type": "code",
   "execution_count": 14,
   "metadata": {},
   "outputs": [
    {
     "name": "stdout",
     "output_type": "stream",
     "text": [
      "312021234567\n"
     ]
    }
   ],
   "source": [
    "raw = \"312-02-1234567\"\n",
    "\n",
    "final_data = ''      # 방법 1\n",
    "\n",
    "for v in raw:\n",
    "    if v != \"-\":\n",
    "        print(v, end='')\n",
    "        \n",
    "print(final_data)"
   ]
  },
  {
   "cell_type": "code",
   "execution_count": 1,
   "metadata": {},
   "outputs": [
    {
     "name": "stdout",
     "output_type": "stream",
     "text": [
      "312021234567\n"
     ]
    }
   ],
   "source": [
    "raw = \"312-02-1234567\"\n",
    "\n",
    "final_data = ''      # 방법 2\n",
    "\n",
    "for v in raw:\n",
    "    if v != \"-\":\n",
    "        final_data = final_data + v\n",
    "        \n",
    "print(final_data)"
   ]
  },
  {
   "cell_type": "code",
   "execution_count": 1,
   "metadata": {
    "id": "vWAjdQTdR06Y"
   },
   "outputs": [
    {
     "name": "stdout",
     "output_type": "stream",
     "text": [
      "s\n",
      "t\n",
      "r\n",
      "i\n",
      "n\n",
      "g\n"
     ]
    }
   ],
   "source": [
    "data = 'string'\n",
    "\n",
    "# 문자열도 반복문에 적용 가능\n",
    "# 문자열의 철자 개수 만큼 반복해서 하나씩 뽑음\n",
    "for v in data:\n",
    "    print(v)   # 출력 + new line 자동 반영"
   ]
  },
  {
   "cell_type": "markdown",
   "metadata": {
    "id": "XslKMc1cR06Z"
   },
   "source": [
    "**미션 - 알파벳, 숫자, 스페이스의 처리**\n",
    "\n",
    "> 문자열을 조사하여서 알파벳 문자의 개수, 숫자의 개수, 스페이스의 개수를 출력하는 프로그램을 작성하라"
   ]
  },
  {
   "cell_type": "code",
   "execution_count": null,
   "metadata": {},
   "outputs": [],
   "source": [
    "statement = input(\"문자열을 입력하시오: \")\n",
    "\n",
    "# 개수 counting을 위한 변수 선언, 0으로 초기화\n",
    "alphas = 0\n",
    "digits = 0\n",
    "spaces = 0\n",
    "\n",
    "for c in statement:\n",
    "    if c.isalpha():   # 알파벳 여부 검증\n",
    "        alphas = alphas + 1\n",
    "        \n",
    "    if c.isdigit():   # 숫자 여부 검증\n",
    "        digits = digits + 1\n",
    "        \n",
    "    if c.isspace():   # space 여부 검증 함수\n",
    "          spaces = spaces + 1\n",
    "            \n",
    "print (\" 알파벳 문자의 개수=\", alphas)\n",
    "print (\" 숫자 문자의 개수=\", digits)\n",
    "print (\" 스페이스  문자의 개수=\", spaces)"
   ]
  },
  {
   "cell_type": "code",
   "execution_count": 8,
   "metadata": {
    "id": "Bolhbr2QR06Z"
   },
   "outputs": [
    {
     "ename": "KeyboardInterrupt",
     "evalue": "Interrupted by user",
     "output_type": "error",
     "traceback": [
      "\u001b[1;31m---------------------------------------------------------------------------\u001b[0m",
      "\u001b[1;31mKeyboardInterrupt\u001b[0m                         Traceback (most recent call last)",
      "\u001b[1;32m<ipython-input-8-4845f39b2f9f>\u001b[0m in \u001b[0;36m<module>\u001b[1;34m\u001b[0m\n\u001b[0;32m      1\u001b[0m \u001b[1;31m# 다중 조건식으로 성능 향상을 위해 개선한 코드\u001b[0m\u001b[1;33m\u001b[0m\u001b[1;33m\u001b[0m\u001b[1;33m\u001b[0m\u001b[0m\n\u001b[0;32m      2\u001b[0m \u001b[1;33m\u001b[0m\u001b[0m\n\u001b[1;32m----> 3\u001b[1;33m \u001b[0mstatement\u001b[0m \u001b[1;33m=\u001b[0m \u001b[0minput\u001b[0m\u001b[1;33m(\u001b[0m\u001b[1;34m\"문자열을 입력하시오: \"\u001b[0m\u001b[1;33m)\u001b[0m\u001b[1;33m\u001b[0m\u001b[1;33m\u001b[0m\u001b[0m\n\u001b[0m\u001b[0;32m      4\u001b[0m \u001b[1;33m\u001b[0m\u001b[0m\n\u001b[0;32m      5\u001b[0m \u001b[1;31m# 개수 counting을 위한 변수 선언, 0으로 초기화\u001b[0m\u001b[1;33m\u001b[0m\u001b[1;33m\u001b[0m\u001b[1;33m\u001b[0m\u001b[0m\n",
      "\u001b[1;32m~\\anaconda3\\lib\\site-packages\\ipykernel\\kernelbase.py\u001b[0m in \u001b[0;36mraw_input\u001b[1;34m(self, prompt)\u001b[0m\n\u001b[0;32m    858\u001b[0m                 \u001b[1;34m\"raw_input was called, but this frontend does not support input requests.\"\u001b[0m\u001b[1;33m\u001b[0m\u001b[1;33m\u001b[0m\u001b[0m\n\u001b[0;32m    859\u001b[0m             )\n\u001b[1;32m--> 860\u001b[1;33m         return self._input_request(str(prompt),\n\u001b[0m\u001b[0;32m    861\u001b[0m             \u001b[0mself\u001b[0m\u001b[1;33m.\u001b[0m\u001b[0m_parent_ident\u001b[0m\u001b[1;33m,\u001b[0m\u001b[1;33m\u001b[0m\u001b[1;33m\u001b[0m\u001b[0m\n\u001b[0;32m    862\u001b[0m             \u001b[0mself\u001b[0m\u001b[1;33m.\u001b[0m\u001b[0m_parent_header\u001b[0m\u001b[1;33m,\u001b[0m\u001b[1;33m\u001b[0m\u001b[1;33m\u001b[0m\u001b[0m\n",
      "\u001b[1;32m~\\anaconda3\\lib\\site-packages\\ipykernel\\kernelbase.py\u001b[0m in \u001b[0;36m_input_request\u001b[1;34m(self, prompt, ident, parent, password)\u001b[0m\n\u001b[0;32m    902\u001b[0m             \u001b[1;32mexcept\u001b[0m \u001b[0mKeyboardInterrupt\u001b[0m\u001b[1;33m:\u001b[0m\u001b[1;33m\u001b[0m\u001b[1;33m\u001b[0m\u001b[0m\n\u001b[0;32m    903\u001b[0m                 \u001b[1;31m# re-raise KeyboardInterrupt, to truncate traceback\u001b[0m\u001b[1;33m\u001b[0m\u001b[1;33m\u001b[0m\u001b[1;33m\u001b[0m\u001b[0m\n\u001b[1;32m--> 904\u001b[1;33m                 \u001b[1;32mraise\u001b[0m \u001b[0mKeyboardInterrupt\u001b[0m\u001b[1;33m(\u001b[0m\u001b[1;34m\"Interrupted by user\"\u001b[0m\u001b[1;33m)\u001b[0m \u001b[1;32mfrom\u001b[0m \u001b[1;32mNone\u001b[0m\u001b[1;33m\u001b[0m\u001b[1;33m\u001b[0m\u001b[0m\n\u001b[0m\u001b[0;32m    905\u001b[0m             \u001b[1;32mexcept\u001b[0m \u001b[0mException\u001b[0m \u001b[1;32mas\u001b[0m \u001b[0me\u001b[0m\u001b[1;33m:\u001b[0m\u001b[1;33m\u001b[0m\u001b[1;33m\u001b[0m\u001b[0m\n\u001b[0;32m    906\u001b[0m                 \u001b[0mself\u001b[0m\u001b[1;33m.\u001b[0m\u001b[0mlog\u001b[0m\u001b[1;33m.\u001b[0m\u001b[0mwarning\u001b[0m\u001b[1;33m(\u001b[0m\u001b[1;34m\"Invalid Message:\"\u001b[0m\u001b[1;33m,\u001b[0m \u001b[0mexc_info\u001b[0m\u001b[1;33m=\u001b[0m\u001b[1;32mTrue\u001b[0m\u001b[1;33m)\u001b[0m\u001b[1;33m\u001b[0m\u001b[1;33m\u001b[0m\u001b[0m\n",
      "\u001b[1;31mKeyboardInterrupt\u001b[0m: Interrupted by user"
     ]
    }
   ],
   "source": [
    "# 다중 조건식으로 성능 향상을 위해 개선한 코드\n",
    "\n",
    "statement = input(\"문자열을 입력하시오: \")\n",
    "\n",
    "# 개수 counting을 위한 변수 선언, 0으로 초기화\n",
    "alphas = 0\n",
    "digits = 0\n",
    "spaces = 0\n",
    "\n",
    "for c in statement:\n",
    "    if c.isalpha():\n",
    "        alphas = alphas + 1\n",
    "        \n",
    "    if c.isdigit():\n",
    "        digits = digits + 1\n",
    "        \n",
    "    if c.isspace():\n",
    "          spaces = spaces + 1\n",
    "            \n",
    "print (\" 알파벳 문자의 개수=\", alphas)\n",
    "print (\" 숫자 문자의 개수=\", digits)\n",
    "print (\" 스페이스  문자의 개수=\", spaces)"
   ]
  },
  {
   "cell_type": "code",
   "execution_count": 13,
   "metadata": {},
   "outputs": [
    {
     "name": "stdout",
     "output_type": "stream",
     "text": [
      "문자열을 입력하시오: 안녕\n",
      " 알파벳 문자의 개수= 2\n",
      " 숫자 문자의 개수= 0\n",
      " 스페이스  문자의 개수= 0\n"
     ]
    }
   ],
   "source": [
    "statement = input(\"문자열을 입력하시오: \")\n",
    "\n",
    "# 개수 counting을 위한 변수 선언, 0으로 초기화\n",
    "alphas = 0\n",
    "digits = 0\n",
    "spaces = 0\n",
    "\n",
    "for c in statement:\n",
    "    if c.isalpha():\n",
    "        alphas = alphas + 1\n",
    "        \n",
    "    if c.isdigit():\n",
    "        digits = digits + 1\n",
    "        \n",
    "    if c.isspace():\n",
    "          spaces = spaces + 1\n",
    "            \n",
    "print (\" 알파벳 문자의 개수=\", alphas)\n",
    "print (\" 숫자 문자의 개수=\", digits)\n",
    "print (\" 스페이스  문자의 개수=\", spaces)"
   ]
  },
  {
   "cell_type": "code",
   "execution_count": 46,
   "metadata": {},
   "outputs": [
    {
     "name": "stdout",
     "output_type": "stream",
     "text": [
      "영어문자를 입력하시오: kfjaofhawpfjdfla\n",
      "세고싶은 영어문자를 입력하시오: a\n",
      "kfjaofhawpfjdfla 에서 ' a ' 글자는 3 개 입니다.\n"
     ]
    }
   ],
   "source": [
    "statement = input(\"영어문자를 입력하시오: \")\n",
    "a = input(\"세고싶은 영어문자를 입력하시오: \")\n",
    "\n",
    "# 개수 counting을 위한 변수 선언, 0으로 초기화\n",
    "alphas = 0\n",
    "\n",
    "for c in range(0,len(statement)):\n",
    "    if statement[c] == a:\n",
    "        alphas += 1 \n",
    "        \n",
    "print(statement, \"에서 '\", a, \"' 글자는\", alphas, \"개 입니다.\")"
   ]
  },
  {
   "cell_type": "code",
   "execution_count": 28,
   "metadata": {},
   "outputs": [
    {
     "data": {
      "text/plain": [
       "9"
      ]
     },
     "execution_count": 28,
     "metadata": {},
     "output_type": "execute_result"
    }
   ],
   "source": [
    "len(\"statement\")"
   ]
  },
  {
   "cell_type": "code",
   "execution_count": null,
   "metadata": {},
   "outputs": [],
   "source": [
    "for c in ['a','b']:\n",
    "    print(c, isalpha())"
   ]
  },
  {
   "cell_type": "markdown",
   "metadata": {
    "id": "Qzgg-UUGR06a"
   },
   "source": [
    "**실행 결과와 비교해 보면서 분석해 보기**"
   ]
  },
  {
   "cell_type": "code",
   "execution_count": null,
   "metadata": {
    "id": "-4-exbJSR06b",
    "outputId": "36315d99-c99a-4eff-91ea-13482533e3f6"
   },
   "outputs": [
    {
     "name": "stdout",
     "output_type": "stream",
     "text": [
      "3 4 5\n",
      "4 3 5\n",
      "5 12 13\n",
      "6 8 10\n",
      "7 24 25\n",
      "8 6 10\n",
      "8 15 17\n",
      "9 12 15\n",
      "9 40 41\n",
      "10 24 26\n",
      "11 60 61\n",
      "12 5 13\n",
      "12 9 15\n",
      "12 16 20\n",
      "12 35 37\n",
      "13 84 85\n",
      "14 48 50\n",
      "15 8 17\n",
      "15 20 25\n",
      "15 36 39\n",
      "16 12 20\n",
      "16 30 34\n",
      "16 63 65\n",
      "18 24 30\n",
      "18 80 82\n",
      "20 15 25\n",
      "20 21 29\n",
      "20 48 52\n",
      "21 20 29\n",
      "21 28 35\n",
      "21 72 75\n",
      "24 7 25\n",
      "24 10 26\n",
      "24 18 30\n",
      "24 32 40\n",
      "24 45 51\n",
      "24 70 74\n",
      "25 60 65\n",
      "27 36 45\n",
      "28 21 35\n",
      "28 45 53\n",
      "28 96 100\n",
      "30 16 34\n",
      "30 40 50\n",
      "30 72 78\n",
      "32 24 40\n",
      "32 60 68\n",
      "33 44 55\n",
      "33 56 65\n",
      "35 12 37\n",
      "35 84 91\n",
      "36 15 39\n",
      "36 27 45\n",
      "36 48 60\n",
      "36 77 85\n",
      "39 52 65\n",
      "39 80 89\n",
      "40 9 41\n",
      "40 30 50\n",
      "40 42 58\n",
      "40 75 85\n",
      "42 40 58\n",
      "42 56 70\n",
      "44 33 55\n",
      "45 24 51\n",
      "45 28 53\n",
      "45 60 75\n",
      "48 14 50\n",
      "48 20 52\n",
      "48 36 60\n",
      "48 55 73\n",
      "48 64 80\n",
      "51 68 85\n",
      "52 39 65\n",
      "54 72 90\n",
      "55 48 73\n",
      "56 33 65\n",
      "56 42 70\n",
      "57 76 95\n",
      "60 11 61\n",
      "60 25 65\n",
      "60 32 68\n",
      "60 45 75\n",
      "60 63 87\n",
      "60 80 100\n",
      "63 16 65\n",
      "63 60 87\n",
      "64 48 80\n",
      "65 72 97\n",
      "68 51 85\n",
      "70 24 74\n",
      "72 21 75\n",
      "72 30 78\n",
      "72 54 90\n",
      "72 65 97\n",
      "75 40 85\n",
      "76 57 95\n",
      "77 36 85\n",
      "80 18 82\n",
      "80 39 89\n",
      "80 60 100\n",
      "84 13 85\n",
      "84 35 91\n",
      "96 28 100\n"
     ]
    }
   ],
   "source": [
    "for a in range(1, 101, 1):\n",
    "    for b in range(1, 101, 1):\n",
    "        for c in range(1, 101, 1):\n",
    "            if( (a*a+b*b)==c*c ):\n",
    "                print(a, b, c)"
   ]
  },
  {
   "cell_type": "code",
   "execution_count": 51,
   "metadata": {
    "id": "GN9-i5-vR06d"
   },
   "outputs": [
    {
     "name": "stdout",
     "output_type": "stream",
     "text": [
      "물건값을 입력하세요. 단, 금액은 십원단위 불가능함. : 800\n",
      "투입한 1000원 지폐개수: 1\n",
      "투입한 500원 동전개수: 1\n",
      "투입한 100원 동전개수: 1\n",
      "총 투입 금액은 1600 원 입니다.\n",
      "총 거스름 돈은 500원 = 1 , 100원 = 3\n"
     ]
    }
   ],
   "source": [
    "itemprice = int(input(\"물건값을 입력하세요. 단, 금액은 십원단위 불가능함. : \"))\n",
    "note = int(input(\"투입한 1000원 지폐개수: \"))\n",
    "coin500 = int(input(\"투입한 500원 동전개수: \"))\n",
    "coin100 = int(input(\"투입한 100원 동전개수: \"))\n",
    "\n",
    "total_input = note * 1000 + coin500 * 500 + coin100 * 100\n",
    "change = total_input - itemprice\n",
    "\n",
    "ncoin500 = change//500\n",
    "change = change%500\n",
    "\n",
    "ncoin100 = change//100\n",
    "change = change%100\n",
    "\n",
    "print(\"총 투입 금액은\", total_input, \"원 입니다.\" )\n",
    "print(\"총 거스름 돈은 500원 =\", ncoin500, \", 100원 =\", ncoin100)"
   ]
  }
 ],
 "metadata": {
  "colab": {
   "collapsed_sections": [],
   "name": "step02ConditionLoop.ipynb",
   "provenance": []
  },
  "kernelspec": {
   "display_name": "Python 3",
   "language": "python",
   "name": "python3"
  },
  "language_info": {
   "codemirror_mode": {
    "name": "ipython",
    "version": 3
   },
   "file_extension": ".py",
   "mimetype": "text/x-python",
   "name": "python",
   "nbconvert_exporter": "python",
   "pygments_lexer": "ipython3",
   "version": "3.8.5"
  }
 },
 "nbformat": 4,
 "nbformat_minor": 1
}
