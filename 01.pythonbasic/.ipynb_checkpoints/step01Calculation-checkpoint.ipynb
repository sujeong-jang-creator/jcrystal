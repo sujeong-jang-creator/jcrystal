{
 "cells": [
  {
   "cell_type": "markdown",
   "metadata": {
    "id": "wXiK-mGyDVsV"
   },
   "source": [
    "<!--NAVIGATION-->\n",
    "[[step02. 조건문 & 반복문 학습 page로 이동](step02ConditionLoop.ipynb) ]"
   ]
  },
  {
   "cell_type": "code",
   "execution_count": 21,
   "metadata": {},
   "outputs": [
    {
     "ename": "SyntaxError",
     "evalue": "invalid syntax (<ipython-input-21-a2674377672e>, line 2)",
     "output_type": "error",
     "traceback": [
      "\u001b[1;36m  File \u001b[1;32m\"<ipython-input-21-a2674377672e>\"\u001b[1;36m, line \u001b[1;32m2\u001b[0m\n\u001b[1;33m    - 기능(함수) 호출해서 사용, 내장 함수\u001b[0m\n\u001b[1;37m             ^\u001b[0m\n\u001b[1;31mSyntaxError\u001b[0m\u001b[1;31m:\u001b[0m invalid syntax\n"
     ]
    }
   ],
   "source": [
    "### type()\n",
    "\n",
    "- 기능(함수) 호출해서 사용, 내장 함수\n",
    "- 함수 사용해서 데이터의 타입 확인\n",
    "-python : int(정수) / float(실수) / str(문자열)\n",
    "    \n",
    "### 항목추가"
   ]
  },
  {
   "cell_type": "markdown",
   "metadata": {
    "id": "wCplQvbkDVsm"
   },
   "source": [
    "## 파이썬을 계산기 처럼 이용하기\n",
    "\n",
    "- 사칙연산\n",
    "- 거듭 제곱과 나머지\n",
    "- 과학적 표기법\n",
    "- 논리 연산 및 비교 연산"
   ]
  },
  {
   "cell_type": "markdown",
   "metadata": {
    "id": "iuIDjwLDDVso"
   },
   "source": [
    "1. 사칙연산"
   ]
  },
  {
   "cell_type": "code",
   "execution_count": 1,
   "metadata": {
    "colab": {
     "base_uri": "https://localhost:8080/"
    },
    "executionInfo": {
     "elapsed": 759,
     "status": "ok",
     "timestamp": 1620869218399,
     "user": {
      "displayName": "장크리수탉",
      "photoUrl": "https://lh3.googleusercontent.com/a-/AOh14Gj_tF0bGYk1bA9R_pQsl8UBkVu_yPo_Yv3CGHQ6Gg=s64",
      "userId": "08446625624793440405"
     },
     "user_tz": -540
    },
    "id": "u2Ca9PBHUety",
    "outputId": "1f5c39b2-c25c-4ccc-a128-eba64e3448bd"
   },
   "outputs": [
    {
     "data": {
      "text/plain": [
       "int"
      ]
     },
     "execution_count": 1,
     "metadata": {},
     "output_type": "execute_result"
    }
   ],
   "source": [
    "type(1+2)"
   ]
  },
  {
   "cell_type": "code",
   "execution_count": 1,
   "metadata": {},
   "outputs": [
    {
     "data": {
      "text/plain": [
       "3"
      ]
     },
     "execution_count": 1,
     "metadata": {},
     "output_type": "execute_result"
    }
   ],
   "source": [
    "1+2"
   ]
  },
  {
   "cell_type": "code",
   "execution_count": 4,
   "metadata": {
    "colab": {
     "base_uri": "https://localhost:8080/"
    },
    "executionInfo": {
     "elapsed": 779,
     "status": "ok",
     "timestamp": 1620868998717,
     "user": {
      "displayName": "장크리수탉",
      "photoUrl": "https://lh3.googleusercontent.com/a-/AOh14Gj_tF0bGYk1bA9R_pQsl8UBkVu_yPo_Yv3CGHQ6Gg=s64",
      "userId": "08446625624793440405"
     },
     "user_tz": -540
    },
    "id": "cknyn_URUgi6",
    "outputId": "33b95a0b-82fd-42b3-de2e-c29353ed28dd"
   },
   "outputs": [
    {
     "data": {
      "text/plain": [
       "1.0"
      ]
     },
     "execution_count": 4,
     "metadata": {},
     "output_type": "execute_result"
    }
   ],
   "source": [
    "3/3"
   ]
  },
  {
   "cell_type": "code",
   "execution_count": 6,
   "metadata": {
    "colab": {
     "base_uri": "https://localhost:8080/"
    },
    "executionInfo": {
     "elapsed": 692,
     "status": "ok",
     "timestamp": 1620868864442,
     "user": {
      "displayName": "장크리수탉",
      "photoUrl": "https://lh3.googleusercontent.com/a-/AOh14Gj_tF0bGYk1bA9R_pQsl8UBkVu_yPo_Yv3CGHQ6Gg=s64",
      "userId": "08446625624793440405"
     },
     "user_tz": -540
    },
    "id": "UwtFyUJUDVsp",
    "outputId": "b541d93c-d44b-4ba8-9dae-2e6d609c6dd9"
   },
   "outputs": [
    {
     "data": {
      "text/plain": [
       "str"
      ]
     },
     "execution_count": 6,
     "metadata": {
      "tags": []
     },
     "output_type": "execute_result"
    }
   ],
   "source": [
    "# type 확인\n",
    "type(\"string\")"
   ]
  },
  {
   "cell_type": "code",
   "execution_count": 8,
   "metadata": {
    "colab": {
     "base_uri": "https://localhost:8080/"
    },
    "executionInfo": {
     "elapsed": 725,
     "status": "ok",
     "timestamp": 1620869335790,
     "user": {
      "displayName": "장크리수탉",
      "photoUrl": "https://lh3.googleusercontent.com/a-/AOh14Gj_tF0bGYk1bA9R_pQsl8UBkVu_yPo_Yv3CGHQ6Gg=s64",
      "userId": "08446625624793440405"
     },
     "user_tz": -540
    },
    "id": "65-5_lvTUBa8",
    "outputId": "8c28f9bc-bde6-4e30-a9b4-6da2dc9b7ceb"
   },
   "outputs": [
    {
     "data": {
      "text/plain": [
       "2"
      ]
     },
     "execution_count": 8,
     "metadata": {},
     "output_type": "execute_result"
    }
   ],
   "source": [
    "# 나누고 난 나머지 - %\n",
    "5%3"
   ]
  },
  {
   "cell_type": "code",
   "execution_count": 9,
   "metadata": {},
   "outputs": [
    {
     "data": {
      "text/plain": [
       "0"
      ]
     },
     "execution_count": 9,
     "metadata": {},
     "output_type": "execute_result"
    }
   ],
   "source": [
    "6%3"
   ]
  },
  {
   "cell_type": "code",
   "execution_count": 12,
   "metadata": {
    "colab": {
     "base_uri": "https://localhost:8080/"
    },
    "executionInfo": {
     "elapsed": 859,
     "status": "ok",
     "timestamp": 1620869374655,
     "user": {
      "displayName": "장크리수탉",
      "photoUrl": "https://lh3.googleusercontent.com/a-/AOh14Gj_tF0bGYk1bA9R_pQsl8UBkVu_yPo_Yv3CGHQ6Gg=s64",
      "userId": "08446625624793440405"
     },
     "user_tz": -540
    },
    "id": "X5tpH8TzV0fB",
    "outputId": "5522ac1f-aa34-4e7e-9ca6-95595f679c40"
   },
   "outputs": [
    {
     "data": {
      "text/plain": [
       "1"
      ]
     },
     "execution_count": 12,
     "metadata": {
      "tags": []
     },
     "output_type": "execute_result"
    }
   ],
   "source": [
    "# 나눈 몫 : 나누고 나머지를 제가하는 연산자\n",
    "5//3"
   ]
  },
  {
   "cell_type": "code",
   "execution_count": 13,
   "metadata": {
    "colab": {
     "base_uri": "https://localhost:8080/"
    },
    "executionInfo": {
     "elapsed": 762,
     "status": "ok",
     "timestamp": 1620869439044,
     "user": {
      "displayName": "장크리수탉",
      "photoUrl": "https://lh3.googleusercontent.com/a-/AOh14Gj_tF0bGYk1bA9R_pQsl8UBkVu_yPo_Yv3CGHQ6Gg=s64",
      "userId": "08446625624793440405"
     },
     "user_tz": -540
    },
    "id": "YkD1NS8iV98u",
    "outputId": "fc4ec5a9-bbca-4c77-adad-66ccc699aa82"
   },
   "outputs": [
    {
     "name": "stdout",
     "output_type": "stream",
     "text": [
      "2\n",
      "1\n"
     ]
    }
   ],
   "source": [
    "print(5%3)\n",
    "print(5//3)"
   ]
  },
  {
   "cell_type": "markdown",
   "metadata": {
    "id": "hnjGMRHDDVsr"
   },
   "source": [
    "2. 거듭제곱"
   ]
  },
  {
   "cell_type": "code",
   "execution_count": 17,
   "metadata": {
    "colab": {
     "base_uri": "https://localhost:8080/"
    },
    "executionInfo": {
     "elapsed": 758,
     "status": "ok",
     "timestamp": 1620869536407,
     "user": {
      "displayName": "장크리수탉",
      "photoUrl": "https://lh3.googleusercontent.com/a-/AOh14Gj_tF0bGYk1bA9R_pQsl8UBkVu_yPo_Yv3CGHQ6Gg=s64",
      "userId": "08446625624793440405"
     },
     "user_tz": -540
    },
    "id": "94m6Ntt_DVsr",
    "outputId": "6680e43c-cc21-4be2-d9fc-a179b5c30209"
   },
   "outputs": [
    {
     "data": {
      "text/plain": [
       "9"
      ]
     },
     "execution_count": 17,
     "metadata": {
      "tags": []
     },
     "output_type": "execute_result"
    }
   ],
   "source": [
    "# 거듭제곱 연산자 \n",
    "# 제곱 - **\n",
    "3 ** 2"
   ]
  },
  {
   "cell_type": "code",
   "execution_count": 15,
   "metadata": {
    "id": "7vE_99NmWWYC"
   },
   "outputs": [
    {
     "data": {
      "text/plain": [
       "27"
      ]
     },
     "execution_count": 15,
     "metadata": {},
     "output_type": "execute_result"
    }
   ],
   "source": [
    "3**3"
   ]
  },
  {
   "cell_type": "markdown",
   "metadata": {
    "id": "mie3pgTGDVsr"
   },
   "source": [
    "3. 과학적 표기법"
   ]
  },
  {
   "cell_type": "code",
   "execution_count": null,
   "metadata": {
    "id": "uxas9PKgDVss"
   },
   "outputs": [],
   "source": []
  },
  {
   "cell_type": "markdown",
   "metadata": {
    "id": "6CWBFJQrDVss"
   },
   "source": [
    "4. 논리 연산과 비교 연산\n",
    "> 자바의 true/false 소문자 키워드 <br>\n",
    "> 파이썬 True/False 키워드"
   ]
  },
  {
   "cell_type": "code",
   "execution_count": 16,
   "metadata": {
    "colab": {
     "base_uri": "https://localhost:8080/"
    },
    "executionInfo": {
     "elapsed": 750,
     "status": "ok",
     "timestamp": 1620869714251,
     "user": {
      "displayName": "장크리수탉",
      "photoUrl": "https://lh3.googleusercontent.com/a-/AOh14Gj_tF0bGYk1bA9R_pQsl8UBkVu_yPo_Yv3CGHQ6Gg=s64",
      "userId": "08446625624793440405"
     },
     "user_tz": -540
    },
    "id": "ytWqiWarWsjC",
    "outputId": "dba5e0a3-56ce-469f-df63-d0b005b0c542"
   },
   "outputs": [
    {
     "name": "stdout",
     "output_type": "stream",
     "text": [
      "장수정\n"
     ]
    }
   ],
   "source": [
    "# = : 할당연산자 / 대입 연산자\n",
    "name = \"장수정\"\n",
    "print(name)"
   ]
  },
  {
   "cell_type": "code",
   "execution_count": 18,
   "metadata": {
    "colab": {
     "base_uri": "https://localhost:8080/"
    },
    "executionInfo": {
     "elapsed": 745,
     "status": "ok",
     "timestamp": 1620869873227,
     "user": {
      "displayName": "장크리수탉",
      "photoUrl": "https://lh3.googleusercontent.com/a-/AOh14Gj_tF0bGYk1bA9R_pQsl8UBkVu_yPo_Yv3CGHQ6Gg=s64",
      "userId": "08446625624793440405"
     },
     "user_tz": -540
    },
    "id": "DSD9JC72XOTQ",
    "outputId": "d49a7d60-d806-4b19-c428-169727565794"
   },
   "outputs": [
    {
     "name": "stdout",
     "output_type": "stream",
     "text": [
      "True\n",
      "False\n"
     ]
    }
   ],
   "source": [
    "# == : 동등 비교 연산자 - 값이 동일할 경우 True\n",
    "# !# : 부정 연산자 - 값이 다른 경우에 True\n",
    "\n",
    "# 실행순서 : 1==1 비교 -> print()\n",
    "print(1 == 1)\n",
    "print(1 != 1)"
   ]
  },
  {
   "cell_type": "code",
   "execution_count": null,
   "metadata": {
    "id": "dSChBrnQX3sK"
   },
   "outputs": [],
   "source": [
    "# 문자열 타입 비교\n"
   ]
  }
 ],
 "metadata": {
  "colab": {
   "collapsed_sections": [],
   "name": "step01Calculation.ipynb",
   "provenance": []
  },
  "kernelspec": {
   "display_name": "Python 3",
   "language": "python",
   "name": "python3"
  },
  "language_info": {
   "codemirror_mode": {
    "name": "ipython",
    "version": 3
   },
   "file_extension": ".py",
   "mimetype": "text/x-python",
   "name": "python",
   "nbconvert_exporter": "python",
   "pygments_lexer": "ipython3",
   "version": "3.8.5"
  }
 },
 "nbformat": 4,
 "nbformat_minor": 1
}
