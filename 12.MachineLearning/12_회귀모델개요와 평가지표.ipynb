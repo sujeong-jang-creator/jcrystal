{
 "cells": [
  {
   "cell_type": "markdown",
   "metadata": {},
   "source": [
    "# 회귀(Regression)\n",
    "\n",
    "지도 학습(Supervised Learning)으로 예측할 Target이 연속형(continuous) 데이터(float)인 경우"
   ]
  },
  {
   "cell_type": "markdown",
   "metadata": {},
   "source": [
    "## 회귀의 주요 평가 지표\n",
    "예측값과 실제 값간의 차이를 구한다\n",
    "\n",
    "- ### MSE (Mean Squared Error)\n",
    "    - 실제 값과 예측값의 차를 제곱해 평균 낸 것\n",
    "    - mean_squared_error() \n",
    "    - 'neg_mean_squared_error'\n",
    "    $$\n",
    "    MSE = \\frac{1}{n}\\sum_{i=1}^{n}(y_i - \\hat{y_i})^2\\\\\n",
    "    y_i: 실제값, \\hat{y_i}: 모델이 예측한 값\n",
    "    $$\n",
    "    \n",
    "- ### RMSE (Root Mean Squared Error)\n",
    "    - MSE는 오차의 제곱한 값이므로 실제 오차의 평균보다 큰 값이 나온다.  MSE의 제곱근이 RMSE이다.\n",
    "    - scikit-learn은 함수를 지원하지 않는다. (MSE를 구한 뒤 np.sqrt()로 제곱근을 구한다.)\n",
    "    $$\n",
    "    RMSE = \\sqrt{\\frac{1}{n}\\sum_{i=1}^{n}(y_i - \\hat{y_i})^2}\n",
    "    $$\n",
    "\n",
    "- ### $R^2$ (R square, 결정계수)\n",
    "    - 평균으로 예측했을 때 오차(총오차) 보다 모델을 사용했을 때 얼마 만큼 더 좋은 성능을 내는지를 비율로 나타낸 값. \n",
    "    - 1에 가까울 수록 좋은 모델.\n",
    "    - r2_score()\n",
    "    - 'r2'\n",
    "    - [참고](https://ko.khanacademy.org/math/statistics-probability/describing-relationships-quantitative-data/assessing-the-fit-in-least-squares-regression/a/r-squared-intuition)\n",
    "    $$\n",
    "    R^2 = \\cfrac{\\sum_{i=1}^{n}(\\hat{y_i}-\\bar{y})^2}{\\sum_{i=1}^{n}(y_i - \\bar{y})^2}\n",
    "    $$\n",
    "\n",
    "- $y_i$ : i번째 실제 값, \n",
    "- $\\hat{y_i}$ : i 번째 예측 값, \n",
    "- $\\bar{y}$ : y의 평균    \n",
    "\n"
   ]
  },
  {
   "cell_type": "code",
   "execution_count": 4,
   "metadata": {},
   "outputs": [],
   "source": [
    "import numpy as np\n",
    "import matplotlib.pyplot as plt\n",
    "\n",
    "from sklearn.datasets import make_regression\n",
    "from sklearn.model_selection import cross_val_score\n",
    "from sklearn.linear_model import LinearRegression"
   ]
  },
  {
   "cell_type": "code",
   "execution_count": 25,
   "metadata": {},
   "outputs": [],
   "source": [
    "# 회귀문제에 사용할 수 있는 가상의 데이터셋을 원하는 조건을 설정해서 생성하는 함수(make_xxxxx())\n",
    "X, y = make_regression(n_samples=100, #데이터의 개수\n",
    "                       n_features=1, #feature(커럼) 개수\n",
    "                       n_informative=1, #target(label)에 영향을 주는 feature 개수\n",
    "                       noise=30, # 잡음, 모델이 찾을수 없는 값의 범위\n",
    "                       random_state=0)"
   ]
  },
  {
   "cell_type": "code",
   "execution_count": 21,
   "metadata": {},
   "outputs": [
    {
     "data": {
      "text/plain": [
       "((100, 1), (100,))"
      ]
     },
     "execution_count": 21,
     "metadata": {},
     "output_type": "execute_result"
    }
   ],
   "source": [
    "X.shape, y.shape"
   ]
  },
  {
   "cell_type": "code",
   "execution_count": 22,
   "metadata": {},
   "outputs": [
    {
     "data": {
      "text/plain": [
       "array([[-0.35955316],\n",
       "       [ 0.97663904],\n",
       "       [ 0.40234164],\n",
       "       [-0.81314628],\n",
       "       [-0.88778575]])"
      ]
     },
     "execution_count": 22,
     "metadata": {},
     "output_type": "execute_result"
    }
   ],
   "source": [
    "X[:5]"
   ]
  },
  {
   "cell_type": "code",
   "execution_count": 23,
   "metadata": {},
   "outputs": [
    {
     "data": {
      "text/plain": [
       "array([-29.38797228, -18.77135911,   0.56377656,  19.90502386,\n",
       "       -31.84342122])"
      ]
     },
     "execution_count": 23,
     "metadata": {},
     "output_type": "execute_result"
    }
   ],
   "source": [
    "y[:5]"
   ]
  },
  {
   "cell_type": "code",
   "execution_count": 24,
   "metadata": {},
   "outputs": [
    {
     "data": {
      "image/png": "[encoded data removed]",
      "text/plain": [
       "<Figure size 432x288 with 1 Axes>"
      ]
     },
     "metadata": {
      "needs_background": "light"
     },
     "output_type": "display_data"
    }
   ],
   "source": [
    "plt.scatter(X, y)\n",
    "plt.show()"
   ]
  },
  {
   "cell_type": "code",
   "execution_count": 26,
   "metadata": {},
   "outputs": [
    {
     "data": {
      "text/plain": [
       "(0.1344193000112442,\n",
       " -141.9934839876259,\n",
       " 117.54737632470687,\n",
       " 1.2075194195120451)"
      ]
     },
     "execution_count": 26,
     "metadata": {},
     "output_type": "execute_result"
    }
   ],
   "source": [
    "np.mean(y), np.min(y), np.max(y), np.median(y)"
   ]
  },
  {
   "cell_type": "code",
   "execution_count": 27,
   "metadata": {},
   "outputs": [
    {
     "data": {
      "text/plain": [
       "LinearRegression()"
      ]
     },
     "execution_count": 27,
     "metadata": {},
     "output_type": "execute_result"
    }
   ],
   "source": [
    "# LinearRegression 모델을 이용해서 추론 후 모델평가\n",
    "lr = LinearRegression()\n",
    "lr.fit(X, y)"
   ]
  },
  {
   "cell_type": "code",
   "execution_count": 37,
   "metadata": {},
   "outputs": [],
   "source": [
    "pred = lr.predict(X)"
   ]
  },
  {
   "cell_type": "code",
   "execution_count": 41,
   "metadata": {},
   "outputs": [
    {
     "data": {
      "text/plain": [
       "array([ 21.68633197,  49.26219191, -32.60364229])"
      ]
     },
     "execution_count": 41,
     "metadata": {},
     "output_type": "execute_result"
    }
   ],
   "source": [
    "# new_X = [[0.56],[1.2],[-0.7]]   # y?\n",
    "# lr.predict(new_X)"
   ]
  },
  {
   "cell_type": "code",
   "execution_count": 43,
   "metadata": {},
   "outputs": [
    {
     "name": "stdout",
     "output_type": "stream",
     "text": [
      "MSE: 1027.5433755137535, RMSE: 32.055317429620835, R2: 0.6473091780922585\n"
     ]
    }
   ],
   "source": [
    "# 모델 평가 \n",
    "# MSE, RMSE, R2\n",
    "from sklearn.metrics import mean_squared_error, r2_score\n",
    "mse = mean_squared_error(y, pred) #(정답, 모델예측결과)\n",
    "rmse = np.sqrt(mse)\n",
    "r2 = r2_score(y, pred)\n",
    "print(f\"MSE: {mse}, RMSE: {rmse}, R2: {r2}\")"
   ]
  },
  {
   "cell_type": "code",
   "execution_count": 46,
   "metadata": {},
   "outputs": [],
   "source": [
    "# cross validation\n",
    "lr2 = LinearRegression()\n",
    "score_list = cross_val_score(lr2, #모델\n",
    "                             X, y, \n",
    "                             cv=3, #fold 개수\n",
    "                             scoring=\"r2\",  #생략: 기본-분류모델: accuracy, 회귀모델: r2(R square)\n",
    "                            )"
   ]
  },
  {
   "cell_type": "code",
   "execution_count": 48,
   "metadata": {},
   "outputs": [
    {
     "name": "stdout",
     "output_type": "stream",
     "text": [
      "[0.57447588 0.58987265 0.55276667]\n",
      "0.5723717334851716\n"
     ]
    }
   ],
   "source": [
    "print(score_list) #fold별 검증결과\n",
    "print(np.mean(score_list))"
   ]
  },
  {
   "cell_type": "code",
   "execution_count": 49,
   "metadata": {},
   "outputs": [],
   "source": [
    "score_list = cross_val_score(lr2, #모델\n",
    "                             X, y, \n",
    "                             cv=3, #fold 개수\n",
    "                             scoring=\"neg_mean_squared_error\", #MSE * -1\n",
    "                            )"
   ]
  },
  {
   "cell_type": "code",
   "execution_count": 52,
   "metadata": {},
   "outputs": [
    {
     "name": "stdout",
     "output_type": "stream",
     "text": [
      "[1307.38952617 1332.84952275  859.62106567]\n"
     ]
    },
    {
     "data": {
      "text/plain": [
       "1166.6200381987528"
      ]
     },
     "execution_count": 52,
     "metadata": {},
     "output_type": "execute_result"
    }
   ],
   "source": [
    "print(score_list*-1)\n",
    "np.mean(score_list*-1)"
   ]
  },
  {
   "cell_type": "code",
   "execution_count": 53,
   "metadata": {},
   "outputs": [
    {
     "name": "stdout",
     "output_type": "stream",
     "text": [
      "[36.15784184 36.50821172 29.31929511]\n"
     ]
    },
    {
     "data": {
      "text/plain": [
       "34.155819975499824"
      ]
     },
     "execution_count": 53,
     "metadata": {},
     "output_type": "execute_result"
    }
   ],
   "source": [
    "#RMSE\n",
    "print(np.sqrt(score_list*-1))\n",
    "np.sqrt(np.mean(score_list*-1))"
   ]
  },
  {
   "cell_type": "code",
   "execution_count": 54,
   "metadata": {},
   "outputs": [
    {
     "data": {
      "text/plain": [
       "LinearRegression()"
      ]
     },
     "execution_count": 54,
     "metadata": {},
     "output_type": "execute_result"
    }
   ],
   "source": [
    "lr = LinearRegression()\n",
    "lr.fit(X, y)"
   ]
  },
  {
   "cell_type": "code",
   "execution_count": 56,
   "metadata": {},
   "outputs": [
    {
     "name": "stdout",
     "output_type": "stream",
     "text": [
      "[43.08728116] -2.442545481092178\n"
     ]
    }
   ],
   "source": [
    "# LR.coef_ (Feature별 가중치), LR.intercept_ (bias)\n",
    "print(lr.coef_, lr.intercept_)"
   ]
  },
  {
   "cell_type": "code",
   "execution_count": 57,
   "metadata": {},
   "outputs": [],
   "source": [
    "def my_pred(X):\n",
    "    return lr.coef_[0] * X + lr.intercept_"
   ]
  },
  {
   "cell_type": "code",
   "execution_count": 62,
   "metadata": {},
   "outputs": [
    {
     "data": {
      "text/plain": [
       "array([[ 21.68633197],\n",
       "       [ 49.26219191],\n",
       "       [-32.60364229]])"
      ]
     },
     "execution_count": 62,
     "metadata": {},
     "output_type": "execute_result"
    }
   ],
   "source": [
    "new_X = np.array(new_X)\n",
    "my_pred(new_X)"
   ]
  },
  {
   "cell_type": "code",
   "execution_count": 63,
   "metadata": {},
   "outputs": [
    {
     "data": {
      "text/plain": [
       "array([ 21.68633197,  49.26219191, -32.60364229])"
      ]
     },
     "execution_count": 63,
     "metadata": {},
     "output_type": "execute_result"
    }
   ],
   "source": [
    "lr.predict(new_X)"
   ]
  },
  {
   "cell_type": "code",
   "execution_count": 68,
   "metadata": {},
   "outputs": [
    {
     "data": {
      "image/png": "[encoded data removed]",
      "text/plain": [
       "<Figure size 504x432 with 1 Axes>"
      ]
     },
     "metadata": {
      "needs_background": "light"
     },
     "output_type": "display_data"
    }
   ],
   "source": [
    "# X, y와 예측결과를 시각\n",
    "plt.figure(figsize=(7,6))\n",
    "\n",
    "plt.scatter(X, y)\n",
    "y_hat = my_pred(X)  #lr.predict(X)\n",
    "plt.plot(X, y_hat, color='red')\n",
    "\n",
    "plt.show()"
   ]
  },
  {
   "cell_type": "code",
   "execution_count": null,
   "metadata": {},
   "outputs": [],
   "source": []
  },
  {
   "cell_type": "markdown",
   "metadata": {},
   "source": [
    "## 기존 분류 모델의 회귀 모델"
   ]
  },
  {
   "cell_type": "code",
   "execution_count": 69,
   "metadata": {},
   "outputs": [],
   "source": [
    "from sklearn.model_selection import train_test_split\n",
    "\n",
    "\n",
    "# XXXXClassifier (분류), XXXXRegressor\n",
    "from sklearn.neighbors import KNeighborsRegressor\n",
    "from sklearn.tree import DecisionTreeRegressor\n",
    "from sklearn.ensemble import RandomForestRegressor, GradientBoostingRegressor, VotingRegressor\n",
    "from sklearn.svm import SVR"
   ]
  },
  {
   "cell_type": "code",
   "execution_count": 70,
   "metadata": {},
   "outputs": [],
   "source": [
    "X_train, X_test, y_train, y_test = train_test_split(X, y, test_size=0.2, random_state=0) #stratify: 회귀에서는 지정하지 않는다."
   ]
  },
  {
   "cell_type": "code",
   "execution_count": 72,
   "metadata": {},
   "outputs": [],
   "source": [
    "knn = KNeighborsRegressor()\n",
    "tree = DecisionTreeRegressor()\n",
    "rf = RandomForestRegressor()\n",
    "gb = GradientBoostingRegressor()\n",
    "svr = SVR()\n",
    "\n",
    "est = [\n",
    "    (\"knn\", knn), \n",
    "    (\"tree\", tree),\n",
    "    (\"rf\", rf),\n",
    "    ('GB', gb),\n",
    "    (\"svr\",svr)\n",
    "]"
   ]
  },
  {
   "cell_type": "code",
   "execution_count": 73,
   "metadata": {},
   "outputs": [],
   "source": [
    "def print_regression_metrics(y, pred, title=None):\n",
    "    mse = mean_squared_error(y, pred)\n",
    "    rmse = np.sqrt(mse)\n",
    "    r2 = r2_score(y, pred)\n",
    "    if title:\n",
    "        print(title)\n",
    "    print(f\"MSE: {mse}, RMSE: {rmse}, R Square: {r2}\")"
   ]
  },
  {
   "cell_type": "code",
   "execution_count": 76,
   "metadata": {},
   "outputs": [
    {
     "name": "stdout",
     "output_type": "stream",
     "text": [
      "knn-Train\n",
      "MSE: 848.1395842397269, RMSE: 29.12283612974064, R Square: 0.7239989948587914\n",
      "knn-Test\n",
      "MSE: 1181.4263196957993, RMSE: 34.371882690591725, R Square: 0.47404777230081696\n",
      "----------------------------------------------------------------------------------------------------\n",
      "tree-Train\n",
      "MSE: 0.0, RMSE: 0.0, R Square: 1.0\n",
      "tree-Test\n",
      "MSE: 1774.249296708706, RMSE: 42.12183871471788, R Square: 0.21013240136893951\n",
      "----------------------------------------------------------------------------------------------------\n",
      "rf-Train\n",
      "MSE: 226.63828248496992, RMSE: 15.054510370150533, R Square: 0.9262475246625814\n",
      "rf-Test\n",
      "MSE: 1367.4213678317697, RMSE: 36.978660979432036, R Square: 0.3912457318542162\n",
      "----------------------------------------------------------------------------------------------------\n",
      "GB-Train\n",
      "MSE: 158.09406068470207, RMSE: 12.573546066432575, R Square: 0.9485531385792508\n",
      "GB-Test\n",
      "MSE: 1377.898258279898, RMSE: 37.120051970328625, R Square: 0.3865815866775857\n",
      "----------------------------------------------------------------------------------------------------\n",
      "svr-Train\n",
      "MSE: 2351.4063767585512, RMSE: 48.49130207324352, R Square: 0.23480694034276983\n",
      "svr-Test\n",
      "MSE: 1629.5501050987923, RMSE: 40.36768639764722, R Square: 0.2745501825752198\n",
      "----------------------------------------------------------------------------------------------------\n"
     ]
    }
   ],
   "source": [
    "for model_name, model in est:\n",
    "    #학습\n",
    "    model.fit(X_train, y_train)\n",
    "    #모델 평가\n",
    "    pred_train = model.predict(X_train)\n",
    "    pred_test = model.predict(X_test)\n",
    "    \n",
    "    print_regression_metrics(y_train, pred_train, title=f'{model_name}-Train')\n",
    "    print_regression_metrics(y_test, pred_test, title=f'{model_name}-Test')\n",
    "    print('-'*100)"
   ]
  },
  {
   "cell_type": "code",
   "execution_count": 79,
   "metadata": {},
   "outputs": [
    {
     "name": "stdout",
     "output_type": "stream",
     "text": [
      "Voting Train\n",
      "MSE: 359.42056771276003, RMSE: 18.9583904304337, R Square: 0.8830376039504524\n",
      "Voting Test\n",
      "MSE: 1187.160990455263, RMSE: 34.4552026616484, R Square: 0.471494787987891\n"
     ]
    }
   ],
   "source": [
    "vote = VotingRegressor(est)\n",
    "vote.fit(X_train, y_train)\n",
    "\n",
    "print_regression_metrics(y_train, vote.predict(X_train), title=\"Voting Train\")\n",
    "print_regression_metrics(y_test, vote.predict(X_test), title=\"Voting Test\")\n"
   ]
  },
  {
   "cell_type": "code",
   "execution_count": null,
   "metadata": {},
   "outputs": [],
   "source": []
  },
  {
   "cell_type": "code",
   "execution_count": 80,
   "metadata": {},
   "outputs": [
    {
     "data": {
      "text/plain": [
       "DecisionTreeRegressor(max_depth=3)"
      ]
     },
     "execution_count": 80,
     "metadata": {},
     "output_type": "execute_result"
    }
   ],
   "source": [
    "tree = DecisionTreeRegressor(max_depth=3)\n",
    "tree.fit(X_train, y_train)"
   ]
  },
  {
   "cell_type": "code",
   "execution_count": 81,
   "metadata": {},
   "outputs": [],
   "source": [
    "from sklearn.tree import export_graphviz\n",
    "from graphviz import Source\n",
    "graph = Source(export_graphviz(tree, out_file=None, rounded=True, filled=True))"
   ]
  },
  {
   "cell_type": "code",
   "execution_count": 82,
   "metadata": {},
   "outputs": [
    {
     "data": {
      "image/svg+xml": [
       "<?xml version=\"1.0\" encoding=\"UTF-8\" standalone=\"no\"?>\r\n",
       "<!DOCTYPE svg PUBLIC \"-//W3C//DTD SVG 1.1//EN\"\r\n",
       " \"http://www.w3.org/Graphics/SVG/1.1/DTD/svg11.dtd\">\r\n",
       "<!-- Generated by graphviz version 2.48.0 (20210717.1556)\r\n",
       " -->\r\n",
       "<!-- Title: Tree Pages: 1 -->\r\n",
       "<svg width=\"1068pt\" height=\"373pt\"\r\n",
       " viewBox=\"0.00 0.00 1068.00 373.00\" xmlns=\"http://www.w3.org/2000/svg\" xmlns:xlink=\"http://www.w3.org/1999/xlink\">\r\n",
       "<g id=\"graph0\" class=\"graph\" transform=\"scale(1 1) rotate(0) translate(4 369)\">\r\n",
       "<title>Tree</title>\r\n",
       "<polygon fill=\"white\" stroke=\"transparent\" points=\"-4,4 -4,-369 1064,-369 1064,4 -4,4\"/>\r\n",
       "<!-- 0 -->\r\n",
       "<g id=\"node1\" class=\"node\">\r\n",
       "<title>0</title>\r\n",
       "<path fill=\"#f1bc96\" stroke=\"black\" d=\"M578.5,-365C578.5,-365 480.5,-365 480.5,-365 474.5,-365 468.5,-359 468.5,-353 468.5,-353 468.5,-309 468.5,-309 468.5,-303 474.5,-297 480.5,-297 480.5,-297 578.5,-297 578.5,-297 584.5,-297 590.5,-303 590.5,-309 590.5,-309 590.5,-353 590.5,-353 590.5,-359 584.5,-365 578.5,-365\"/>\r\n",
       "<text text-anchor=\"middle\" x=\"529.5\" y=\"-349.8\" font-family=\"Helvetica,sans-Serif\" font-size=\"14.00\">X[0] &lt;= 0.094</text>\r\n",
       "<text text-anchor=\"middle\" x=\"529.5\" y=\"-334.8\" font-family=\"Helvetica,sans-Serif\" font-size=\"14.00\">mse = 3072.958</text>\r\n",
       "<text text-anchor=\"middle\" x=\"529.5\" y=\"-319.8\" font-family=\"Helvetica,sans-Serif\" font-size=\"14.00\">samples = 80</text>\r\n",
       "<text text-anchor=\"middle\" x=\"529.5\" y=\"-304.8\" font-family=\"Helvetica,sans-Serif\" font-size=\"14.00\">value = &#45;1.072</text>\r\n",
       "</g>\r\n",
       "<!-- 1 -->\r\n",
       "<g id=\"node2\" class=\"node\">\r\n",
       "<title>1</title>\r\n",
       "<path fill=\"#f5d0b5\" stroke=\"black\" d=\"M446.5,-261C446.5,-261 348.5,-261 348.5,-261 342.5,-261 336.5,-255 336.5,-249 336.5,-249 336.5,-205 336.5,-205 336.5,-199 342.5,-193 348.5,-193 348.5,-193 446.5,-193 446.5,-193 452.5,-193 458.5,-199 458.5,-205 458.5,-205 458.5,-249 458.5,-249 458.5,-255 452.5,-261 446.5,-261\"/>\r\n",
       "<text text-anchor=\"middle\" x=\"397.5\" y=\"-245.8\" font-family=\"Helvetica,sans-Serif\" font-size=\"14.00\">X[0] &lt;= &#45;0.942</text>\r\n",
       "<text text-anchor=\"middle\" x=\"397.5\" y=\"-230.8\" font-family=\"Helvetica,sans-Serif\" font-size=\"14.00\">mse = 1646.453</text>\r\n",
       "<text text-anchor=\"middle\" x=\"397.5\" y=\"-215.8\" font-family=\"Helvetica,sans-Serif\" font-size=\"14.00\">samples = 42</text>\r\n",
       "<text text-anchor=\"middle\" x=\"397.5\" y=\"-200.8\" font-family=\"Helvetica,sans-Serif\" font-size=\"14.00\">value = &#45;36.59</text>\r\n",
       "</g>\r\n",
       "<!-- 0&#45;&gt;1 -->\r\n",
       "<g id=\"edge1\" class=\"edge\">\r\n",
       "<title>0&#45;&gt;1</title>\r\n",
       "<path fill=\"none\" stroke=\"black\" d=\"M486.64,-296.88C474.54,-287.53 461.25,-277.26 448.71,-267.57\"/>\r\n",
       "<polygon fill=\"black\" stroke=\"black\" points=\"450.65,-264.64 440.59,-261.3 446.37,-270.18 450.65,-264.64\"/>\r\n",
       "<text text-anchor=\"middle\" x=\"443.77\" y=\"-282.4\" font-family=\"Helvetica,sans-Serif\" font-size=\"14.00\">True</text>\r\n",
       "</g>\r\n",
       "<!-- 8 -->\r\n",
       "<g id=\"node9\" class=\"node\">\r\n",
       "<title>8</title>\r\n",
       "<path fill=\"#eda673\" stroke=\"black\" d=\"M715.5,-261C715.5,-261 617.5,-261 617.5,-261 611.5,-261 605.5,-255 605.5,-249 605.5,-249 605.5,-205 605.5,-205 605.5,-199 611.5,-193 617.5,-193 617.5,-193 715.5,-193 715.5,-193 721.5,-193 727.5,-199 727.5,-205 727.5,-205 727.5,-249 727.5,-249 727.5,-255 721.5,-261 715.5,-261\"/>\r\n",
       "<text text-anchor=\"middle\" x=\"666.5\" y=\"-245.8\" font-family=\"Helvetica,sans-Serif\" font-size=\"14.00\">X[0] &lt;= 1.226</text>\r\n",
       "<text text-anchor=\"middle\" x=\"666.5\" y=\"-230.8\" font-family=\"Helvetica,sans-Serif\" font-size=\"14.00\">mse = 1714.211</text>\r\n",
       "<text text-anchor=\"middle\" x=\"666.5\" y=\"-215.8\" font-family=\"Helvetica,sans-Serif\" font-size=\"14.00\">samples = 38</text>\r\n",
       "<text text-anchor=\"middle\" x=\"666.5\" y=\"-200.8\" font-family=\"Helvetica,sans-Serif\" font-size=\"14.00\">value = 38.185</text>\r\n",
       "</g>\r\n",
       "<!-- 0&#45;&gt;8 -->\r\n",
       "<g id=\"edge8\" class=\"edge\">\r\n",
       "<title>0&#45;&gt;8</title>\r\n",
       "<path fill=\"none\" stroke=\"black\" d=\"M573.98,-296.88C586.66,-287.44 600.6,-277.06 613.73,-267.29\"/>\r\n",
       "<polygon fill=\"black\" stroke=\"black\" points=\"615.84,-270.08 621.77,-261.3 611.66,-264.46 615.84,-270.08\"/>\r\n",
       "<text text-anchor=\"middle\" x=\"618.15\" y=\"-282.34\" font-family=\"Helvetica,sans-Serif\" font-size=\"14.00\">False</text>\r\n",
       "</g>\r\n",
       "<!-- 2 -->\r\n",
       "<g id=\"node3\" class=\"node\">\r\n",
       "<title>2</title>\r\n",
       "<path fill=\"#fae4d5\" stroke=\"black\" d=\"M247.5,-157C247.5,-157 149.5,-157 149.5,-157 143.5,-157 137.5,-151 137.5,-145 137.5,-145 137.5,-101 137.5,-101 137.5,-95 143.5,-89 149.5,-89 149.5,-89 247.5,-89 247.5,-89 253.5,-89 259.5,-95 259.5,-101 259.5,-101 259.5,-145 259.5,-145 259.5,-151 253.5,-157 247.5,-157\"/>\r\n",
       "<text text-anchor=\"middle\" x=\"198.5\" y=\"-141.8\" font-family=\"Helvetica,sans-Serif\" font-size=\"14.00\">X[0] &lt;= &#45;1.716</text>\r\n",
       "<text text-anchor=\"middle\" x=\"198.5\" y=\"-126.8\" font-family=\"Helvetica,sans-Serif\" font-size=\"14.00\">mse = 1183.681</text>\r\n",
       "<text text-anchor=\"middle\" x=\"198.5\" y=\"-111.8\" font-family=\"Helvetica,sans-Serif\" font-size=\"14.00\">samples = 14</text>\r\n",
       "<text text-anchor=\"middle\" x=\"198.5\" y=\"-96.8\" font-family=\"Helvetica,sans-Serif\" font-size=\"14.00\">value = &#45;73.773</text>\r\n",
       "</g>\r\n",
       "<!-- 1&#45;&gt;2 -->\r\n",
       "<g id=\"edge2\" class=\"edge\">\r\n",
       "<title>1&#45;&gt;2</title>\r\n",
       "<path fill=\"none\" stroke=\"black\" d=\"M336.44,-194.7C315.05,-183.74 290.86,-171.34 268.78,-160.02\"/>\r\n",
       "<polygon fill=\"black\" stroke=\"black\" points=\"270.28,-156.86 259.79,-155.41 267.09,-163.09 270.28,-156.86\"/>\r\n",
       "</g>\r\n",
       "<!-- 5 -->\r\n",
       "<g id=\"node6\" class=\"node\">\r\n",
       "<title>5</title>\r\n",
       "<path fill=\"#f3c5a5\" stroke=\"black\" d=\"M443,-157C443,-157 352,-157 352,-157 346,-157 340,-151 340,-145 340,-145 340,-101 340,-101 340,-95 346,-89 352,-89 352,-89 443,-89 443,-89 449,-89 455,-95 455,-101 455,-101 455,-145 455,-145 455,-151 449,-157 443,-157\"/>\r\n",
       "<text text-anchor=\"middle\" x=\"397.5\" y=\"-141.8\" font-family=\"Helvetica,sans-Serif\" font-size=\"14.00\">X[0] &lt;= &#45;0.33</text>\r\n",
       "<text text-anchor=\"middle\" x=\"397.5\" y=\"-126.8\" font-family=\"Helvetica,sans-Serif\" font-size=\"14.00\">mse = 840.905</text>\r\n",
       "<text text-anchor=\"middle\" x=\"397.5\" y=\"-111.8\" font-family=\"Helvetica,sans-Serif\" font-size=\"14.00\">samples = 28</text>\r\n",
       "<text text-anchor=\"middle\" x=\"397.5\" y=\"-96.8\" font-family=\"Helvetica,sans-Serif\" font-size=\"14.00\">value = &#45;17.998</text>\r\n",
       "</g>\r\n",
       "<!-- 1&#45;&gt;5 -->\r\n",
       "<g id=\"edge5\" class=\"edge\">\r\n",
       "<title>1&#45;&gt;5</title>\r\n",
       "<path fill=\"none\" stroke=\"black\" d=\"M397.5,-192.88C397.5,-184.78 397.5,-175.98 397.5,-167.47\"/>\r\n",
       "<polygon fill=\"black\" stroke=\"black\" points=\"401,-167.3 397.5,-157.3 394,-167.3 401,-167.3\"/>\r\n",
       "</g>\r\n",
       "<!-- 3 -->\r\n",
       "<g id=\"node4\" class=\"node\">\r\n",
       "<title>3</title>\r\n",
       "<path fill=\"#ffffff\" stroke=\"black\" d=\"M111,-53C111,-53 12,-53 12,-53 6,-53 0,-47 0,-41 0,-41 0,-12 0,-12 0,-6 6,0 12,0 12,0 111,0 111,0 117,0 123,-6 123,-12 123,-12 123,-41 123,-41 123,-47 117,-53 111,-53\"/>\r\n",
       "<text text-anchor=\"middle\" x=\"61.5\" y=\"-37.8\" font-family=\"Helvetica,sans-Serif\" font-size=\"14.00\">mse = 353.063</text>\r\n",
       "<text text-anchor=\"middle\" x=\"61.5\" y=\"-22.8\" font-family=\"Helvetica,sans-Serif\" font-size=\"14.00\">samples = 3</text>\r\n",
       "<text text-anchor=\"middle\" x=\"61.5\" y=\"-7.8\" font-family=\"Helvetica,sans-Serif\" font-size=\"14.00\">value = &#45;121.454</text>\r\n",
       "</g>\r\n",
       "<!-- 2&#45;&gt;3 -->\r\n",
       "<g id=\"edge3\" class=\"edge\">\r\n",
       "<title>2&#45;&gt;3</title>\r\n",
       "<path fill=\"none\" stroke=\"black\" d=\"M150.58,-88.95C136.53,-79.25 121.19,-68.68 107.27,-59.07\"/>\r\n",
       "<polygon fill=\"black\" stroke=\"black\" points=\"109.03,-56.03 98.81,-53.24 105.06,-61.8 109.03,-56.03\"/>\r\n",
       "</g>\r\n",
       "<!-- 4 -->\r\n",
       "<g id=\"node5\" class=\"node\">\r\n",
       "<title>4</title>\r\n",
       "<path fill=\"#f8ddca\" stroke=\"black\" d=\"M244,-53C244,-53 153,-53 153,-53 147,-53 141,-47 141,-41 141,-41 141,-12 141,-12 141,-6 147,0 153,0 153,0 244,0 244,0 250,0 256,-6 256,-12 256,-12 256,-41 256,-41 256,-47 250,-53 244,-53\"/>\r\n",
       "<text text-anchor=\"middle\" x=\"198.5\" y=\"-37.8\" font-family=\"Helvetica,sans-Serif\" font-size=\"14.00\">mse = 621.083</text>\r\n",
       "<text text-anchor=\"middle\" x=\"198.5\" y=\"-22.8\" font-family=\"Helvetica,sans-Serif\" font-size=\"14.00\">samples = 11</text>\r\n",
       "<text text-anchor=\"middle\" x=\"198.5\" y=\"-7.8\" font-family=\"Helvetica,sans-Serif\" font-size=\"14.00\">value = &#45;60.769</text>\r\n",
       "</g>\r\n",
       "<!-- 2&#45;&gt;4 -->\r\n",
       "<g id=\"edge4\" class=\"edge\">\r\n",
       "<title>2&#45;&gt;4</title>\r\n",
       "<path fill=\"none\" stroke=\"black\" d=\"M198.5,-88.95C198.5,-80.72 198.5,-71.85 198.5,-63.48\"/>\r\n",
       "<polygon fill=\"black\" stroke=\"black\" points=\"202,-63.24 198.5,-53.24 195,-63.24 202,-63.24\"/>\r\n",
       "</g>\r\n",
       "<!-- 6 -->\r\n",
       "<g id=\"node7\" class=\"node\">\r\n",
       "<title>6</title>\r\n",
       "<path fill=\"#f2c19d\" stroke=\"black\" d=\"M375,-53C375,-53 286,-53 286,-53 280,-53 274,-47 274,-41 274,-41 274,-12 274,-12 274,-6 280,0 286,0 286,0 375,0 375,0 381,0 387,-6 387,-12 387,-12 387,-41 387,-41 387,-47 381,-53 375,-53\"/>\r\n",
       "<text text-anchor=\"middle\" x=\"330.5\" y=\"-37.8\" font-family=\"Helvetica,sans-Serif\" font-size=\"14.00\">mse = 567.092</text>\r\n",
       "<text text-anchor=\"middle\" x=\"330.5\" y=\"-22.8\" font-family=\"Helvetica,sans-Serif\" font-size=\"14.00\">samples = 15</text>\r\n",
       "<text text-anchor=\"middle\" x=\"330.5\" y=\"-7.8\" font-family=\"Helvetica,sans-Serif\" font-size=\"14.00\">value = &#45;9.34</text>\r\n",
       "</g>\r\n",
       "<!-- 5&#45;&gt;6 -->\r\n",
       "<g id=\"edge6\" class=\"edge\">\r\n",
       "<title>5&#45;&gt;6</title>\r\n",
       "<path fill=\"none\" stroke=\"black\" d=\"M374.07,-88.95C367.78,-80.07 360.96,-70.46 354.63,-61.54\"/>\r\n",
       "<polygon fill=\"black\" stroke=\"black\" points=\"357.39,-59.37 348.75,-53.24 351.68,-63.42 357.39,-59.37\"/>\r\n",
       "</g>\r\n",
       "<!-- 7 -->\r\n",
       "<g id=\"node8\" class=\"node\">\r\n",
       "<title>7</title>\r\n",
       "<path fill=\"#f4cbad\" stroke=\"black\" d=\"M508,-53C508,-53 417,-53 417,-53 411,-53 405,-47 405,-41 405,-41 405,-12 405,-12 405,-6 411,0 417,0 417,0 508,0 508,0 514,0 520,-6 520,-12 520,-12 520,-41 520,-41 520,-47 514,-53 508,-53\"/>\r\n",
       "<text text-anchor=\"middle\" x=\"462.5\" y=\"-37.8\" font-family=\"Helvetica,sans-Serif\" font-size=\"14.00\">mse = 970.529</text>\r\n",
       "<text text-anchor=\"middle\" x=\"462.5\" y=\"-22.8\" font-family=\"Helvetica,sans-Serif\" font-size=\"14.00\">samples = 13</text>\r\n",
       "<text text-anchor=\"middle\" x=\"462.5\" y=\"-7.8\" font-family=\"Helvetica,sans-Serif\" font-size=\"14.00\">value = &#45;27.989</text>\r\n",
       "</g>\r\n",
       "<!-- 5&#45;&gt;7 -->\r\n",
       "<g id=\"edge7\" class=\"edge\">\r\n",
       "<title>5&#45;&gt;7</title>\r\n",
       "<path fill=\"none\" stroke=\"black\" d=\"M420.23,-88.95C426.34,-80.07 432.95,-70.46 439.09,-61.54\"/>\r\n",
       "<polygon fill=\"black\" stroke=\"black\" points=\"442.01,-63.46 444.8,-53.24 436.25,-59.49 442.01,-63.46\"/>\r\n",
       "</g>\r\n",
       "<!-- 9 -->\r\n",
       "<g id=\"node10\" class=\"node\">\r\n",
       "<title>9</title>\r\n",
       "<path fill=\"#eeaf81\" stroke=\"black\" d=\"M715.5,-157C715.5,-157 617.5,-157 617.5,-157 611.5,-157 605.5,-151 605.5,-145 605.5,-145 605.5,-101 605.5,-101 605.5,-95 611.5,-89 617.5,-89 617.5,-89 715.5,-89 715.5,-89 721.5,-89 727.5,-95 727.5,-101 727.5,-101 727.5,-145 727.5,-145 727.5,-151 721.5,-157 715.5,-157\"/>\r\n",
       "<text text-anchor=\"middle\" x=\"666.5\" y=\"-141.8\" font-family=\"Helvetica,sans-Serif\" font-size=\"14.00\">X[0] &lt;= 0.56</text>\r\n",
       "<text text-anchor=\"middle\" x=\"666.5\" y=\"-126.8\" font-family=\"Helvetica,sans-Serif\" font-size=\"14.00\">mse = 1257.178</text>\r\n",
       "<text text-anchor=\"middle\" x=\"666.5\" y=\"-111.8\" font-family=\"Helvetica,sans-Serif\" font-size=\"14.00\">samples = 28</text>\r\n",
       "<text text-anchor=\"middle\" x=\"666.5\" y=\"-96.8\" font-family=\"Helvetica,sans-Serif\" font-size=\"14.00\">value = 22.339</text>\r\n",
       "</g>\r\n",
       "<!-- 8&#45;&gt;9 -->\r\n",
       "<g id=\"edge9\" class=\"edge\">\r\n",
       "<title>8&#45;&gt;9</title>\r\n",
       "<path fill=\"none\" stroke=\"black\" d=\"M666.5,-192.88C666.5,-184.78 666.5,-175.98 666.5,-167.47\"/>\r\n",
       "<polygon fill=\"black\" stroke=\"black\" points=\"670,-167.3 666.5,-157.3 663,-167.3 670,-167.3\"/>\r\n",
       "</g>\r\n",
       "<!-- 12 -->\r\n",
       "<g id=\"node13\" class=\"node\">\r\n",
       "<title>12</title>\r\n",
       "<path fill=\"#e88d4d\" stroke=\"black\" d=\"M914,-157C914,-157 825,-157 825,-157 819,-157 813,-151 813,-145 813,-145 813,-101 813,-101 813,-95 819,-89 825,-89 825,-89 914,-89 914,-89 920,-89 926,-95 926,-101 926,-101 926,-145 926,-145 926,-151 920,-157 914,-157\"/>\r\n",
       "<text text-anchor=\"middle\" x=\"869.5\" y=\"-141.8\" font-family=\"Helvetica,sans-Serif\" font-size=\"14.00\">X[0] &lt;= 1.462</text>\r\n",
       "<text text-anchor=\"middle\" x=\"869.5\" y=\"-126.8\" font-family=\"Helvetica,sans-Serif\" font-size=\"14.00\">mse = 322.236</text>\r\n",
       "<text text-anchor=\"middle\" x=\"869.5\" y=\"-111.8\" font-family=\"Helvetica,sans-Serif\" font-size=\"14.00\">samples = 10</text>\r\n",
       "<text text-anchor=\"middle\" x=\"869.5\" y=\"-96.8\" font-family=\"Helvetica,sans-Serif\" font-size=\"14.00\">value = 82.554</text>\r\n",
       "</g>\r\n",
       "<!-- 8&#45;&gt;12 -->\r\n",
       "<g id=\"edge12\" class=\"edge\">\r\n",
       "<title>8&#45;&gt;12</title>\r\n",
       "<path fill=\"none\" stroke=\"black\" d=\"M727.68,-195.26C751.7,-183.19 779.31,-169.32 803.75,-157.04\"/>\r\n",
       "<polygon fill=\"black\" stroke=\"black\" points=\"805.58,-160.03 812.95,-152.41 802.44,-153.78 805.58,-160.03\"/>\r\n",
       "</g>\r\n",
       "<!-- 10 -->\r\n",
       "<g id=\"node11\" class=\"node\">\r\n",
       "<title>10</title>\r\n",
       "<path fill=\"#f0b68c\" stroke=\"black\" d=\"M648.5,-53C648.5,-53 550.5,-53 550.5,-53 544.5,-53 538.5,-47 538.5,-41 538.5,-41 538.5,-12 538.5,-12 538.5,-6 544.5,0 550.5,0 550.5,0 648.5,0 648.5,0 654.5,0 660.5,-6 660.5,-12 660.5,-12 660.5,-41 660.5,-41 660.5,-47 654.5,-53 648.5,-53\"/>\r\n",
       "<text text-anchor=\"middle\" x=\"599.5\" y=\"-37.8\" font-family=\"Helvetica,sans-Serif\" font-size=\"14.00\">mse = 1091.109</text>\r\n",
       "<text text-anchor=\"middle\" x=\"599.5\" y=\"-22.8\" font-family=\"Helvetica,sans-Serif\" font-size=\"14.00\">samples = 16</text>\r\n",
       "<text text-anchor=\"middle\" x=\"599.5\" y=\"-7.8\" font-family=\"Helvetica,sans-Serif\" font-size=\"14.00\">value = 10.293</text>\r\n",
       "</g>\r\n",
       "<!-- 9&#45;&gt;10 -->\r\n",
       "<g id=\"edge10\" class=\"edge\">\r\n",
       "<title>9&#45;&gt;10</title>\r\n",
       "<path fill=\"none\" stroke=\"black\" d=\"M643.07,-88.95C636.78,-80.07 629.96,-70.46 623.63,-61.54\"/>\r\n",
       "<polygon fill=\"black\" stroke=\"black\" points=\"626.39,-59.37 617.75,-53.24 620.68,-63.42 626.39,-59.37\"/>\r\n",
       "</g>\r\n",
       "<!-- 11 -->\r\n",
       "<g id=\"node12\" class=\"node\">\r\n",
       "<title>11</title>\r\n",
       "<path fill=\"#eda673\" stroke=\"black\" d=\"M780,-53C780,-53 691,-53 691,-53 685,-53 679,-47 679,-41 679,-41 679,-12 679,-12 679,-6 685,0 691,0 691,0 780,0 780,0 786,0 792,-6 792,-12 792,-12 792,-41 792,-41 792,-47 786,-53 780,-53\"/>\r\n",
       "<text text-anchor=\"middle\" x=\"735.5\" y=\"-37.8\" font-family=\"Helvetica,sans-Serif\" font-size=\"14.00\">mse = 1027.18</text>\r\n",
       "<text text-anchor=\"middle\" x=\"735.5\" y=\"-22.8\" font-family=\"Helvetica,sans-Serif\" font-size=\"14.00\">samples = 12</text>\r\n",
       "<text text-anchor=\"middle\" x=\"735.5\" y=\"-7.8\" font-family=\"Helvetica,sans-Serif\" font-size=\"14.00\">value = 38.4</text>\r\n",
       "</g>\r\n",
       "<!-- 9&#45;&gt;11 -->\r\n",
       "<g id=\"edge11\" class=\"edge\">\r\n",
       "<title>9&#45;&gt;11</title>\r\n",
       "<path fill=\"none\" stroke=\"black\" d=\"M690.63,-88.95C697.11,-80.07 704.13,-70.46 710.65,-61.54\"/>\r\n",
       "<polygon fill=\"black\" stroke=\"black\" points=\"713.64,-63.38 716.71,-53.24 707.98,-59.25 713.64,-63.38\"/>\r\n",
       "</g>\r\n",
       "<!-- 13 -->\r\n",
       "<g id=\"node14\" class=\"node\">\r\n",
       "<title>13</title>\r\n",
       "<path fill=\"#e58139\" stroke=\"black\" d=\"M917,-53C917,-53 822,-53 822,-53 816,-53 810,-47 810,-41 810,-41 810,-12 810,-12 810,-6 816,0 822,0 822,0 917,0 917,0 923,0 929,-6 929,-12 929,-12 929,-41 929,-41 929,-47 923,-53 917,-53\"/>\r\n",
       "<text text-anchor=\"middle\" x=\"869.5\" y=\"-37.8\" font-family=\"Helvetica,sans-Serif\" font-size=\"14.00\">mse = 157.28</text>\r\n",
       "<text text-anchor=\"middle\" x=\"869.5\" y=\"-22.8\" font-family=\"Helvetica,sans-Serif\" font-size=\"14.00\">samples = 2</text>\r\n",
       "<text text-anchor=\"middle\" x=\"869.5\" y=\"-7.8\" font-family=\"Helvetica,sans-Serif\" font-size=\"14.00\">value = 105.006</text>\r\n",
       "</g>\r\n",
       "<!-- 12&#45;&gt;13 -->\r\n",
       "<g id=\"edge13\" class=\"edge\">\r\n",
       "<title>12&#45;&gt;13</title>\r\n",
       "<path fill=\"none\" stroke=\"black\" d=\"M869.5,-88.95C869.5,-80.72 869.5,-71.85 869.5,-63.48\"/>\r\n",
       "<polygon fill=\"black\" stroke=\"black\" points=\"873,-63.24 869.5,-53.24 866,-63.24 873,-63.24\"/>\r\n",
       "</g>\r\n",
       "<!-- 14 -->\r\n",
       "<g id=\"node15\" class=\"node\">\r\n",
       "<title>14</title>\r\n",
       "<path fill=\"#e89152\" stroke=\"black\" d=\"M1048,-53C1048,-53 959,-53 959,-53 953,-53 947,-47 947,-41 947,-41 947,-12 947,-12 947,-6 953,0 959,0 959,0 1048,0 1048,0 1054,0 1060,-6 1060,-12 1060,-12 1060,-41 1060,-41 1060,-47 1054,-53 1048,-53\"/>\r\n",
       "<text text-anchor=\"middle\" x=\"1003.5\" y=\"-37.8\" font-family=\"Helvetica,sans-Serif\" font-size=\"14.00\">mse = 205.938</text>\r\n",
       "<text text-anchor=\"middle\" x=\"1003.5\" y=\"-22.8\" font-family=\"Helvetica,sans-Serif\" font-size=\"14.00\">samples = 8</text>\r\n",
       "<text text-anchor=\"middle\" x=\"1003.5\" y=\"-7.8\" font-family=\"Helvetica,sans-Serif\" font-size=\"14.00\">value = 76.941</text>\r\n",
       "</g>\r\n",
       "<!-- 12&#45;&gt;14 -->\r\n",
       "<g id=\"edge14\" class=\"edge\">\r\n",
       "<title>12&#45;&gt;14</title>\r\n",
       "<path fill=\"none\" stroke=\"black\" d=\"M916.37,-88.95C930.12,-79.25 945.11,-68.68 958.73,-59.07\"/>\r\n",
       "<polygon fill=\"black\" stroke=\"black\" points=\"960.85,-61.86 967.01,-53.24 956.82,-56.14 960.85,-61.86\"/>\r\n",
       "</g>\r\n",
       "</g>\r\n",
       "</svg>\r\n"
      ],
      "text/plain": [
       "<graphviz.files.Source at 0x28e2bd26e50>"
      ]
     },
     "execution_count": 82,
     "metadata": {},
     "output_type": "execute_result"
    }
   ],
   "source": [
    "graph"
   ]
  },
  {
   "cell_type": "code",
   "execution_count": 83,
   "metadata": {},
   "outputs": [
    {
     "name": "stdout",
     "output_type": "stream",
     "text": [
      "MSE: 759.5041257600093, RMSE: 27.559102412088993, R Square: 0.7528426853151011\n"
     ]
    }
   ],
   "source": [
    "print_regression_metrics(y_train, tree.predict(X_train))"
   ]
  },
  {
   "cell_type": "code",
   "execution_count": 84,
   "metadata": {},
   "outputs": [
    {
     "name": "stdout",
     "output_type": "stream",
     "text": [
      "MSE: 1249.1987990885523, RMSE: 35.34400655116158, R Square: 0.4438765412057678\n"
     ]
    }
   ],
   "source": [
    "print_regression_metrics(y_test, tree.predict(X_test))"
   ]
  },
  {
   "cell_type": "code",
   "execution_count": null,
   "metadata": {},
   "outputs": [],
   "source": []
  }
 ],
 "metadata": {
  "kernelspec": {
   "display_name": "Python 3 (ipykernel)",
   "language": "python",
   "name": "python3"
  },
  "language_info": {
   "codemirror_mode": {
    "name": "ipython",
    "version": 3
   },
   "file_extension": ".py",
   "mimetype": "text/x-python",
   "name": "python",
   "nbconvert_exporter": "python",
   "pygments_lexer": "ipython3",
   "version": "3.8.10"
  },
  "toc": {
   "base_numbering": 1,
   "nav_menu": {},
   "number_sections": false,
   "sideBar": true,
   "skip_h1_title": false,
   "title_cell": "Table of Contents",
   "title_sidebar": "Contents",
   "toc_cell": false,
   "toc_position": {},
   "toc_section_display": true,
   "toc_window_display": false
  },
  "varInspector": {
   "cols": {
    "lenName": 16,
    "lenType": 16,
    "lenVar": 40
   },
   "kernels_config": {
    "python": {
     "delete_cmd_postfix": "",
     "delete_cmd_prefix": "del ",
     "library": "var_list.py",
     "varRefreshCmd": "print(var_dic_list())"
    },
    "r": {
     "delete_cmd_postfix": ") ",
     "delete_cmd_prefix": "rm(",
     "library": "var_list.r",
     "varRefreshCmd": "cat(var_dic_list()) "
    }
   },
   "types_to_exclude": [
    "module",
    "function",
    "builtin_function_or_method",
    "instance",
    "_Feature"
   ],
   "window_display": false
  }
 },
 "nbformat": 4,
 "nbformat_minor": 2
}
