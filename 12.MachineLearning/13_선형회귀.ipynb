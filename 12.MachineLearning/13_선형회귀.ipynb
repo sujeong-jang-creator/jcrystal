{
 "cells": [
  {
   "cell_type": "markdown",
   "metadata": {},
   "source": [
    "# 선형회귀 개요\n",
    "\n",
    "선형 회귀(線型回歸, Linear regression)는 종속 변수 y와 한 개 이상의 독립 변수 (또는 설명 변수) X와의 선형 상관 관계를 모델링하는 회귀분석 기법. [위키백과](https://ko.wikipedia.org/wiki/%EC%84%A0%ED%98%95_%ED%9A%8C%EA%B7%80)\n",
    "\n",
    "## 선형회귀 모델\n",
    "$$\n",
    "\\hat{y_i} = w_1 x_{i1} + w_2 x_{i2}... + w_{p} x_{ip} + b\n",
    "$$\n",
    "\n",
    "\n",
    "- $\\hat{y_i}$: 예측값\n",
    "- $x$: 특성(feature-컬럼)\n",
    "- $w$: 가중치(weight), 회귀계수(regression coefficient). 특성이 $\\hat{y_i}$ 에 얼마나 영향을 주는지 정도\n",
    "- $b$: 절편\n",
    "- $p$: p 번째 특성(feature)/p번째 가중치\n",
    "- $i$: i번째 관측치(sample)\n"
   ]
  },
  {
   "cell_type": "markdown",
   "metadata": {},
   "source": [
    "## 손실(loss)함수/오차(error)함수/비용(cost)함수/목적(objective)함수\n",
    "\n",
    "- 모델이 출력한 예측값과 실제 값 사이의 차이를 계산하는 함수\n",
    "- 평가 지표로 사용되기도 하고 모델을 최적화하는데 사용된다.\n",
    "\n",
    "## 최적화(Optimize)\n",
    "\n",
    "- 손실함수의 값이 최소화 되도록 모델을 학습하는 과정.\n",
    "- 최적화의 두가지 방법\n",
    "    - 정규방정식\n",
    "    - 경사하강법"
   ]
  },
  {
   "cell_type": "markdown",
   "metadata": {},
   "source": [
    "### Boston DataSet\n",
    " - CRIM\t: 지역별 범죄 발생률\n",
    " - ZN\t: 25,000 평방피트를 초과하는 거주지역의 비율\n",
    " - INDUS: 비상업지역 토지의 비율\n",
    " - CHAS\t: 찰스강에 대한 더미변수(강의 경계에 위치한 경우는 1, 아니면 0)\n",
    " - NOX\t: 일산화질소 농도\n",
    " - RM\t: 주택 1가구당 평균 방의 개수\n",
    " - AGE\t: 1940년 이전에 건축된 소유주택의 비율\n",
    " - DIS\t: 5개의 보스턴 고용센터까지의 접근성 지수\n",
    " - RAD\t: 고속도로까지의 접근성 지수\n",
    " - TAX\t: 10,000 달러 당 재산세율\n",
    " - PTRATIO : 지역별 교사 한명당 학생 비율\n",
    " - B\t: 지역의 흑인 거주 비율\n",
    " - LSTAT: 하위계층의 비율(%)\n",
    " \n",
    " - MEDV\t: Target.  본인 소유의 주택가격(중앙값) (단위: $1,000)\n"
   ]
  },
  {
   "cell_type": "code",
   "execution_count": 50,
   "metadata": {},
   "outputs": [
    {
     "data": {
      "text/plain": [
       "dict_keys(['data', 'target', 'feature_names', 'DESCR', 'filename'])"
      ]
     },
     "execution_count": 50,
     "metadata": {},
     "output_type": "execute_result"
    }
   ],
   "source": [
    "import pandas as pd\n",
    "import numpy as np\n",
    "from sklearn.datasets import load_boston\n",
    "data = load_boston()\n",
    "data.keys()"
   ]
  },
  {
   "cell_type": "code",
   "execution_count": 51,
   "metadata": {},
   "outputs": [],
   "source": [
    "X, y = data['data'], data['target']\n",
    "df = pd.DataFrame(X, columns=data['feature_names'])\n",
    "df['MEDV'] = y"
   ]
  },
  {
   "cell_type": "code",
   "execution_count": 52,
   "metadata": {},
   "outputs": [
    {
     "data": {
      "text/plain": [
       "(506, 14)"
      ]
     },
     "execution_count": 52,
     "metadata": {},
     "output_type": "execute_result"
    }
   ],
   "source": [
    "df.shape"
   ]
  },
  {
   "cell_type": "code",
   "execution_count": 53,
   "metadata": {},
   "outputs": [
    {
     "data": {
      "text/html": [
       "<div>\n",
       "<style scoped>\n",
       "    .dataframe tbody tr th:only-of-type {\n",
       "        vertical-align: middle;\n",
       "    }\n",
       "\n",
       "    .dataframe tbody tr th {\n",
       "        vertical-align: top;\n",
       "    }\n",
       "\n",
       "    .dataframe thead th {\n",
       "        text-align: right;\n",
       "    }\n",
       "</style>\n",
       "<table border=\"1\" class=\"dataframe\">\n",
       "  <thead>\n",
       "    <tr style=\"text-align: right;\">\n",
       "      <th></th>\n",
       "      <th>CRIM</th>\n",
       "      <th>ZN</th>\n",
       "      <th>INDUS</th>\n",
       "      <th>CHAS</th>\n",
       "      <th>NOX</th>\n",
       "      <th>RM</th>\n",
       "      <th>AGE</th>\n",
       "      <th>DIS</th>\n",
       "      <th>RAD</th>\n",
       "      <th>TAX</th>\n",
       "      <th>PTRATIO</th>\n",
       "      <th>B</th>\n",
       "      <th>LSTAT</th>\n",
       "      <th>MEDV</th>\n",
       "    </tr>\n",
       "  </thead>\n",
       "  <tbody>\n",
       "    <tr>\n",
       "      <th>0</th>\n",
       "      <td>0.00632</td>\n",
       "      <td>18.0</td>\n",
       "      <td>2.31</td>\n",
       "      <td>0.0</td>\n",
       "      <td>0.538</td>\n",
       "      <td>6.575</td>\n",
       "      <td>65.2</td>\n",
       "      <td>4.0900</td>\n",
       "      <td>1.0</td>\n",
       "      <td>296.0</td>\n",
       "      <td>15.3</td>\n",
       "      <td>396.90</td>\n",
       "      <td>4.98</td>\n",
       "      <td>24.0</td>\n",
       "    </tr>\n",
       "    <tr>\n",
       "      <th>1</th>\n",
       "      <td>0.02731</td>\n",
       "      <td>0.0</td>\n",
       "      <td>7.07</td>\n",
       "      <td>0.0</td>\n",
       "      <td>0.469</td>\n",
       "      <td>6.421</td>\n",
       "      <td>78.9</td>\n",
       "      <td>4.9671</td>\n",
       "      <td>2.0</td>\n",
       "      <td>242.0</td>\n",
       "      <td>17.8</td>\n",
       "      <td>396.90</td>\n",
       "      <td>9.14</td>\n",
       "      <td>21.6</td>\n",
       "    </tr>\n",
       "    <tr>\n",
       "      <th>2</th>\n",
       "      <td>0.02729</td>\n",
       "      <td>0.0</td>\n",
       "      <td>7.07</td>\n",
       "      <td>0.0</td>\n",
       "      <td>0.469</td>\n",
       "      <td>7.185</td>\n",
       "      <td>61.1</td>\n",
       "      <td>4.9671</td>\n",
       "      <td>2.0</td>\n",
       "      <td>242.0</td>\n",
       "      <td>17.8</td>\n",
       "      <td>392.83</td>\n",
       "      <td>4.03</td>\n",
       "      <td>34.7</td>\n",
       "    </tr>\n",
       "    <tr>\n",
       "      <th>3</th>\n",
       "      <td>0.03237</td>\n",
       "      <td>0.0</td>\n",
       "      <td>2.18</td>\n",
       "      <td>0.0</td>\n",
       "      <td>0.458</td>\n",
       "      <td>6.998</td>\n",
       "      <td>45.8</td>\n",
       "      <td>6.0622</td>\n",
       "      <td>3.0</td>\n",
       "      <td>222.0</td>\n",
       "      <td>18.7</td>\n",
       "      <td>394.63</td>\n",
       "      <td>2.94</td>\n",
       "      <td>33.4</td>\n",
       "    </tr>\n",
       "    <tr>\n",
       "      <th>4</th>\n",
       "      <td>0.06905</td>\n",
       "      <td>0.0</td>\n",
       "      <td>2.18</td>\n",
       "      <td>0.0</td>\n",
       "      <td>0.458</td>\n",
       "      <td>7.147</td>\n",
       "      <td>54.2</td>\n",
       "      <td>6.0622</td>\n",
       "      <td>3.0</td>\n",
       "      <td>222.0</td>\n",
       "      <td>18.7</td>\n",
       "      <td>396.90</td>\n",
       "      <td>5.33</td>\n",
       "      <td>36.2</td>\n",
       "    </tr>\n",
       "  </tbody>\n",
       "</table>\n",
       "</div>"
      ],
      "text/plain": [
       "      CRIM    ZN  INDUS  CHAS    NOX     RM   AGE     DIS  RAD    TAX  \\\n",
       "0  0.00632  18.0   2.31   0.0  0.538  6.575  65.2  4.0900  1.0  296.0   \n",
       "1  0.02731   0.0   7.07   0.0  0.469  6.421  78.9  4.9671  2.0  242.0   \n",
       "2  0.02729   0.0   7.07   0.0  0.469  7.185  61.1  4.9671  2.0  242.0   \n",
       "3  0.03237   0.0   2.18   0.0  0.458  6.998  45.8  6.0622  3.0  222.0   \n",
       "4  0.06905   0.0   2.18   0.0  0.458  7.147  54.2  6.0622  3.0  222.0   \n",
       "\n",
       "   PTRATIO       B  LSTAT  MEDV  \n",
       "0     15.3  396.90   4.98  24.0  \n",
       "1     17.8  396.90   9.14  21.6  \n",
       "2     17.8  392.83   4.03  34.7  \n",
       "3     18.7  394.63   2.94  33.4  \n",
       "4     18.7  396.90   5.33  36.2  "
      ]
     },
     "execution_count": 53,
     "metadata": {},
     "output_type": "execute_result"
    }
   ],
   "source": [
    "df.head()"
   ]
  },
  {
   "cell_type": "code",
   "execution_count": 54,
   "metadata": {},
   "outputs": [
    {
     "data": {
      "text/plain": [
       "0.0    471\n",
       "1.0     35\n",
       "Name: CHAS, dtype: int64"
      ]
     },
     "execution_count": 54,
     "metadata": {},
     "output_type": "execute_result"
    }
   ],
   "source": [
    "df['CHAS'].value_counts() #범주형"
   ]
  },
  {
   "cell_type": "code",
   "execution_count": 55,
   "metadata": {},
   "outputs": [
    {
     "name": "stdout",
     "output_type": "stream",
     "text": [
      "<class 'pandas.core.frame.DataFrame'>\n",
      "RangeIndex: 506 entries, 0 to 505\n",
      "Data columns (total 14 columns):\n",
      " #   Column   Non-Null Count  Dtype  \n",
      "---  ------   --------------  -----  \n",
      " 0   CRIM     506 non-null    float64\n",
      " 1   ZN       506 non-null    float64\n",
      " 2   INDUS    506 non-null    float64\n",
      " 3   CHAS     506 non-null    float64\n",
      " 4   NOX      506 non-null    float64\n",
      " 5   RM       506 non-null    float64\n",
      " 6   AGE      506 non-null    float64\n",
      " 7   DIS      506 non-null    float64\n",
      " 8   RAD      506 non-null    float64\n",
      " 9   TAX      506 non-null    float64\n",
      " 10  PTRATIO  506 non-null    float64\n",
      " 11  B        506 non-null    float64\n",
      " 12  LSTAT    506 non-null    float64\n",
      " 13  MEDV     506 non-null    float64\n",
      "dtypes: float64(14)\n",
      "memory usage: 55.5 KB\n"
     ]
    }
   ],
   "source": [
    "df.info()"
   ]
  },
  {
   "cell_type": "markdown",
   "metadata": {},
   "source": [
    "## LinearRegression\n",
    "- 가장 기본적인 선형 회귀 모델\n",
    "- Feature 전처리\n",
    "    - 범주형(CHAS): One hot encoding\n",
    "    - 연속형(나머지): Feature Scaling 한다. (StandardScaler를 사용하는 경우 성능이 더 잘나오는 경향이 있다.)"
   ]
  },
  {
   "cell_type": "code",
   "execution_count": 56,
   "metadata": {},
   "outputs": [
    {
     "data": {
      "text/html": [
       "<div>\n",
       "<style scoped>\n",
       "    .dataframe tbody tr th:only-of-type {\n",
       "        vertical-align: middle;\n",
       "    }\n",
       "\n",
       "    .dataframe tbody tr th {\n",
       "        vertical-align: top;\n",
       "    }\n",
       "\n",
       "    .dataframe thead th {\n",
       "        text-align: right;\n",
       "    }\n",
       "</style>\n",
       "<table border=\"1\" class=\"dataframe\">\n",
       "  <thead>\n",
       "    <tr style=\"text-align: right;\">\n",
       "      <th></th>\n",
       "      <th>CHAS_0</th>\n",
       "      <th>CHAS_1</th>\n",
       "    </tr>\n",
       "  </thead>\n",
       "  <tbody>\n",
       "    <tr>\n",
       "      <th>0</th>\n",
       "      <td>1</td>\n",
       "      <td>0</td>\n",
       "    </tr>\n",
       "    <tr>\n",
       "      <th>1</th>\n",
       "      <td>1</td>\n",
       "      <td>0</td>\n",
       "    </tr>\n",
       "    <tr>\n",
       "      <th>2</th>\n",
       "      <td>1</td>\n",
       "      <td>0</td>\n",
       "    </tr>\n",
       "    <tr>\n",
       "      <th>3</th>\n",
       "      <td>1</td>\n",
       "      <td>0</td>\n",
       "    </tr>\n",
       "    <tr>\n",
       "      <th>4</th>\n",
       "      <td>1</td>\n",
       "      <td>0</td>\n",
       "    </tr>\n",
       "  </tbody>\n",
       "</table>\n",
       "</div>"
      ],
      "text/plain": [
       "   CHAS_0  CHAS_1\n",
       "0       1       0\n",
       "1       1       0\n",
       "2       1       0\n",
       "3       1       0\n",
       "4       1       0"
      ]
     },
     "execution_count": 56,
     "metadata": {},
     "output_type": "execute_result"
    }
   ],
   "source": [
    "chas_df = pd.get_dummies(df['CHAS'])\n",
    "chas_df.columns = ['CHAS_0', 'CHAS_1']\n",
    "chas_df.head()"
   ]
  },
  {
   "cell_type": "code",
   "execution_count": 57,
   "metadata": {},
   "outputs": [
    {
     "data": {
      "text/html": [
       "<div>\n",
       "<style scoped>\n",
       "    .dataframe tbody tr th:only-of-type {\n",
       "        vertical-align: middle;\n",
       "    }\n",
       "\n",
       "    .dataframe tbody tr th {\n",
       "        vertical-align: top;\n",
       "    }\n",
       "\n",
       "    .dataframe thead th {\n",
       "        text-align: right;\n",
       "    }\n",
       "</style>\n",
       "<table border=\"1\" class=\"dataframe\">\n",
       "  <thead>\n",
       "    <tr style=\"text-align: right;\">\n",
       "      <th></th>\n",
       "      <th>CRIM</th>\n",
       "      <th>ZN</th>\n",
       "      <th>INDUS</th>\n",
       "      <th>NOX</th>\n",
       "      <th>RM</th>\n",
       "      <th>AGE</th>\n",
       "      <th>DIS</th>\n",
       "      <th>RAD</th>\n",
       "      <th>TAX</th>\n",
       "      <th>PTRATIO</th>\n",
       "      <th>B</th>\n",
       "      <th>LSTAT</th>\n",
       "      <th>MEDV</th>\n",
       "      <th>CHAS_0</th>\n",
       "      <th>CHAS_1</th>\n",
       "    </tr>\n",
       "  </thead>\n",
       "  <tbody>\n",
       "    <tr>\n",
       "      <th>0</th>\n",
       "      <td>0.00632</td>\n",
       "      <td>18.0</td>\n",
       "      <td>2.31</td>\n",
       "      <td>0.538</td>\n",
       "      <td>6.575</td>\n",
       "      <td>65.2</td>\n",
       "      <td>4.0900</td>\n",
       "      <td>1.0</td>\n",
       "      <td>296.0</td>\n",
       "      <td>15.3</td>\n",
       "      <td>396.90</td>\n",
       "      <td>4.98</td>\n",
       "      <td>24.0</td>\n",
       "      <td>1</td>\n",
       "      <td>0</td>\n",
       "    </tr>\n",
       "    <tr>\n",
       "      <th>1</th>\n",
       "      <td>0.02731</td>\n",
       "      <td>0.0</td>\n",
       "      <td>7.07</td>\n",
       "      <td>0.469</td>\n",
       "      <td>6.421</td>\n",
       "      <td>78.9</td>\n",
       "      <td>4.9671</td>\n",
       "      <td>2.0</td>\n",
       "      <td>242.0</td>\n",
       "      <td>17.8</td>\n",
       "      <td>396.90</td>\n",
       "      <td>9.14</td>\n",
       "      <td>21.6</td>\n",
       "      <td>1</td>\n",
       "      <td>0</td>\n",
       "    </tr>\n",
       "    <tr>\n",
       "      <th>2</th>\n",
       "      <td>0.02729</td>\n",
       "      <td>0.0</td>\n",
       "      <td>7.07</td>\n",
       "      <td>0.469</td>\n",
       "      <td>7.185</td>\n",
       "      <td>61.1</td>\n",
       "      <td>4.9671</td>\n",
       "      <td>2.0</td>\n",
       "      <td>242.0</td>\n",
       "      <td>17.8</td>\n",
       "      <td>392.83</td>\n",
       "      <td>4.03</td>\n",
       "      <td>34.7</td>\n",
       "      <td>1</td>\n",
       "      <td>0</td>\n",
       "    </tr>\n",
       "    <tr>\n",
       "      <th>3</th>\n",
       "      <td>0.03237</td>\n",
       "      <td>0.0</td>\n",
       "      <td>2.18</td>\n",
       "      <td>0.458</td>\n",
       "      <td>6.998</td>\n",
       "      <td>45.8</td>\n",
       "      <td>6.0622</td>\n",
       "      <td>3.0</td>\n",
       "      <td>222.0</td>\n",
       "      <td>18.7</td>\n",
       "      <td>394.63</td>\n",
       "      <td>2.94</td>\n",
       "      <td>33.4</td>\n",
       "      <td>1</td>\n",
       "      <td>0</td>\n",
       "    </tr>\n",
       "    <tr>\n",
       "      <th>4</th>\n",
       "      <td>0.06905</td>\n",
       "      <td>0.0</td>\n",
       "      <td>2.18</td>\n",
       "      <td>0.458</td>\n",
       "      <td>7.147</td>\n",
       "      <td>54.2</td>\n",
       "      <td>6.0622</td>\n",
       "      <td>3.0</td>\n",
       "      <td>222.0</td>\n",
       "      <td>18.7</td>\n",
       "      <td>396.90</td>\n",
       "      <td>5.33</td>\n",
       "      <td>36.2</td>\n",
       "      <td>1</td>\n",
       "      <td>0</td>\n",
       "    </tr>\n",
       "  </tbody>\n",
       "</table>\n",
       "</div>"
      ],
      "text/plain": [
       "      CRIM    ZN  INDUS    NOX     RM   AGE     DIS  RAD    TAX  PTRATIO  \\\n",
       "0  0.00632  18.0   2.31  0.538  6.575  65.2  4.0900  1.0  296.0     15.3   \n",
       "1  0.02731   0.0   7.07  0.469  6.421  78.9  4.9671  2.0  242.0     17.8   \n",
       "2  0.02729   0.0   7.07  0.469  7.185  61.1  4.9671  2.0  242.0     17.8   \n",
       "3  0.03237   0.0   2.18  0.458  6.998  45.8  6.0622  3.0  222.0     18.7   \n",
       "4  0.06905   0.0   2.18  0.458  7.147  54.2  6.0622  3.0  222.0     18.7   \n",
       "\n",
       "        B  LSTAT  MEDV  CHAS_0  CHAS_1  \n",
       "0  396.90   4.98  24.0       1       0  \n",
       "1  396.90   9.14  21.6       1       0  \n",
       "2  392.83   4.03  34.7       1       0  \n",
       "3  394.63   2.94  33.4       1       0  \n",
       "4  396.90   5.33  36.2       1       0  "
      ]
     },
     "execution_count": 57,
     "metadata": {},
     "output_type": "execute_result"
    }
   ],
   "source": [
    "df2 = df.join(chas_df) #CHAS 원핫인코딩 컬럼을 DF에 추가\n",
    "df2.drop(columns='CHAS', inplace=True) #CHAS컬럼 제거\n",
    "df2.head()"
   ]
  },
  {
   "cell_type": "code",
   "execution_count": 58,
   "metadata": {},
   "outputs": [],
   "source": [
    "y = df2['MEDV']\n",
    "X = df2.drop(columns='MEDV')"
   ]
  },
  {
   "cell_type": "code",
   "execution_count": 59,
   "metadata": {},
   "outputs": [
    {
     "data": {
      "text/plain": [
       "((379, 14), (127, 14))"
      ]
     },
     "execution_count": 59,
     "metadata": {},
     "output_type": "execute_result"
    }
   ],
   "source": [
    "# TRAIN/TEST SET으로 분리\n",
    "# 연속형 컬럼 Scaling\n",
    "from sklearn.model_selection import train_test_split\n",
    "X_train, X_test, y_train, y_test = train_test_split(X, y, random_state=0)\n",
    "X_train.shape, X_test.shape"
   ]
  },
  {
   "cell_type": "code",
   "execution_count": 60,
   "metadata": {},
   "outputs": [],
   "source": [
    "from sklearn.preprocessing import StandardScaler\n",
    "scaler = StandardScaler()\n",
    "X_train_scaled = scaler.fit_transform(X_train)\n",
    "X_test_scaled = scaler.transform(X_test)"
   ]
  },
  {
   "cell_type": "code",
   "execution_count": 61,
   "metadata": {},
   "outputs": [
    {
     "data": {
      "text/plain": [
       "Index(['CRIM', 'ZN', 'INDUS', 'NOX', 'RM', 'AGE', 'DIS', 'RAD', 'TAX',\n",
       "       'PTRATIO', 'B', 'LSTAT', 'CHAS_0', 'CHAS_1'],\n",
       "      dtype='object')"
      ]
     },
     "execution_count": 61,
     "metadata": {},
     "output_type": "execute_result"
    }
   ],
   "source": [
    "X_train.columns"
   ]
  },
  {
   "cell_type": "code",
   "execution_count": 62,
   "metadata": {},
   "outputs": [],
   "source": [
    "from sklearn.linear_model import LinearRegression\n",
    "from sklearn.metrics import mean_squared_error, r2_score\n",
    "\n",
    "#평가지표 출력함수\n",
    "def print_regression_metrics(y, pred, title=None):\n",
    "    mse = mean_squared_error(y, pred)\n",
    "    rmse = np.sqrt(mse)\n",
    "    r2 = r2_score(y, pred)\n",
    "    if title:\n",
    "        print(title)\n",
    "    print(f\"MSE: {mse}, RMSE: {rmse}, R2: {r2}\")\n",
    "    print(\"-\"*100)"
   ]
  },
  {
   "cell_type": "code",
   "execution_count": 63,
   "metadata": {},
   "outputs": [],
   "source": [
    "from util import print_metrics, print_regression_metrics"
   ]
  },
  {
   "cell_type": "code",
   "execution_count": 64,
   "metadata": {},
   "outputs": [
    {
     "data": {
      "text/plain": [
       "LinearRegression()"
      ]
     },
     "execution_count": 64,
     "metadata": {},
     "output_type": "execute_result"
    }
   ],
   "source": [
    "lr = LinearRegression()\n",
    "lr.fit(X_train_scaled, y_train) #각 Feature에 곱할 weight(가중치), bias(편향)을 찾는다."
   ]
  },
  {
   "cell_type": "code",
   "execution_count": 65,
   "metadata": {},
   "outputs": [
    {
     "data": {
      "text/plain": [
       "22.608707124010557"
      ]
     },
     "execution_count": 65,
     "metadata": {},
     "output_type": "execute_result"
    }
   ],
   "source": [
    "# 편향(절편, bias)\n",
    "lr.intercept_"
   ]
  },
  {
   "cell_type": "code",
   "execution_count": 66,
   "metadata": {},
   "outputs": [
    {
     "data": {
      "text/plain": [
       "array([-0.97100092,  1.04667838, -0.04044753, -1.80876877,  2.60991991,\n",
       "       -0.19823317, -3.00216551,  2.08021582, -1.93289037, -2.15743759,\n",
       "        0.75199122, -3.59027047, -0.29704388,  0.29704388])"
      ]
     },
     "execution_count": 66,
     "metadata": {},
     "output_type": "execute_result"
    }
   ],
   "source": [
    "# 가중치(WEIGHT)\n",
    "lr.coef_"
   ]
  },
  {
   "cell_type": "code",
   "execution_count": 67,
   "metadata": {
    "scrolled": true
   },
   "outputs": [
    {
     "data": {
      "text/plain": [
       "CRIM      -0.971001\n",
       "ZN         1.046678\n",
       "INDUS     -0.040448\n",
       "NOX       -1.808769\n",
       "RM         2.609920\n",
       "AGE       -0.198233\n",
       "DIS       -3.002166\n",
       "RAD        2.080216\n",
       "TAX       -1.932890\n",
       "PTRATIO   -2.157438\n",
       "B          0.751991\n",
       "LSTAT     -3.590270\n",
       "CHAS_0    -0.297044\n",
       "CHAS_1     0.297044\n",
       "dtype: float64"
      ]
     },
     "execution_count": 67,
     "metadata": {},
     "output_type": "execute_result"
    }
   ],
   "source": [
    "pd.Series(lr.coef_, index=X_train.columns)"
   ]
  },
  {
   "cell_type": "code",
   "execution_count": 68,
   "metadata": {},
   "outputs": [
    {
     "name": "stdout",
     "output_type": "stream",
     "text": [
      "Train\n",
      "MSE: 19.640519427908046, RMSE: 4.4317625644779355, R2: 0.7697699488741149\n",
      "----------------------------------------------------------------------------------------------------\n",
      "Test\n",
      "MSE: 29.782245092302407, RMSE: 5.457311159564059, R2: 0.6354638433202124\n",
      "----------------------------------------------------------------------------------------------------\n"
     ]
    }
   ],
   "source": [
    "# 모델 평가\n",
    "pred_train = lr.predict(X_train_scaled)\n",
    "pred_test = lr.predict(X_test_scaled)\n",
    "\n",
    "print_regression_metrics(y_train, pred_train, title='Train')\n",
    "print_regression_metrics(y_test, pred_test, title='Test')"
   ]
  },
  {
   "cell_type": "code",
   "execution_count": 69,
   "metadata": {
    "scrolled": true
   },
   "outputs": [
    {
     "data": {
      "image/png": "[encoded data removed]",
      "text/plain": [
       "<Figure size 1080x504 with 1 Axes>"
      ]
     },
     "metadata": {
      "needs_background": "light"
     },
     "output_type": "display_data"
    }
   ],
   "source": [
    "# 실제값(MEDV)과 예측값 을 plotting \n",
    "import matplotlib.pyplot as plt\n",
    "plt.figure(figsize=(15, 7))\n",
    "plt.plot(range(len(y_test)), y_test, label='MEDV', marker='x')\n",
    "plt.plot(range(len(y_test)), pred_test, label='Pred', marker='o')\n",
    "plt.legend()\n",
    "plt.show()"
   ]
  },
  {
   "cell_type": "code",
   "execution_count": null,
   "metadata": {},
   "outputs": [],
   "source": []
  },
  {
   "cell_type": "markdown",
   "metadata": {},
   "source": [
    "# 다항회귀 (Polynomial Regression)\n",
    "- 단순한 직선형 보다는 복잡한 비선형 형태의 데이터를 추론하기 위한 모델\n",
    "- Feature들을 거듭제곱한 Feature들을 추가하여 모델링한다.\n",
    "- PolynomialFeatures 변환기를 이용"
   ]
  },
  {
   "cell_type": "code",
   "execution_count": 70,
   "metadata": {},
   "outputs": [],
   "source": [
    "np.random.seed(0)\n",
    "m = 100 #데이터개수\n",
    "X = 6*np.random.rand(m, 1) - 3\n",
    "y = X**2 + X + 2 + np.random.normal(0,1, size=(m,1))\n",
    "y = y.flatten()"
   ]
  },
  {
   "cell_type": "code",
   "execution_count": 71,
   "metadata": {},
   "outputs": [
    {
     "data": {
      "text/html": [
       "<div>\n",
       "<style scoped>\n",
       "    .dataframe tbody tr th:only-of-type {\n",
       "        vertical-align: middle;\n",
       "    }\n",
       "\n",
       "    .dataframe tbody tr th {\n",
       "        vertical-align: top;\n",
       "    }\n",
       "\n",
       "    .dataframe thead th {\n",
       "        text-align: right;\n",
       "    }\n",
       "</style>\n",
       "<table border=\"1\" class=\"dataframe\">\n",
       "  <thead>\n",
       "    <tr style=\"text-align: right;\">\n",
       "      <th></th>\n",
       "      <th>X</th>\n",
       "      <th>Y</th>\n",
       "    </tr>\n",
       "  </thead>\n",
       "  <tbody>\n",
       "    <tr>\n",
       "      <th>0</th>\n",
       "      <td>0.292881</td>\n",
       "      <td>1.213510</td>\n",
       "    </tr>\n",
       "    <tr>\n",
       "      <th>1</th>\n",
       "      <td>1.291136</td>\n",
       "      <td>5.858995</td>\n",
       "    </tr>\n",
       "    <tr>\n",
       "      <th>2</th>\n",
       "      <td>0.616580</td>\n",
       "      <td>3.462414</td>\n",
       "    </tr>\n",
       "    <tr>\n",
       "      <th>3</th>\n",
       "      <td>0.269299</td>\n",
       "      <td>0.805577</td>\n",
       "    </tr>\n",
       "    <tr>\n",
       "      <th>4</th>\n",
       "      <td>-0.458071</td>\n",
       "      <td>3.240010</td>\n",
       "    </tr>\n",
       "  </tbody>\n",
       "</table>\n",
       "</div>"
      ],
      "text/plain": [
       "          X         Y\n",
       "0  0.292881  1.213510\n",
       "1  1.291136  5.858995\n",
       "2  0.616580  3.462414\n",
       "3  0.269299  0.805577\n",
       "4 -0.458071  3.240010"
      ]
     },
     "execution_count": 71,
     "metadata": {},
     "output_type": "execute_result"
    }
   ],
   "source": [
    "df = pd.DataFrame({\"X\":X.flatten(), \"Y\":y})\n",
    "df.head()"
   ]
  },
  {
   "cell_type": "code",
   "execution_count": 72,
   "metadata": {},
   "outputs": [
    {
     "data": {
      "image/png": "[encoded data removed]",
      "text/plain": [
       "<Figure size 504x432 with 1 Axes>"
      ]
     },
     "metadata": {
      "needs_background": "light"
     },
     "output_type": "display_data"
    }
   ],
   "source": [
    "plt.figure(figsize=(7,6))\n",
    "plt.scatter(X, y, alpha=0.5)\n",
    "plt.show()"
   ]
  },
  {
   "cell_type": "code",
   "execution_count": 73,
   "metadata": {},
   "outputs": [
    {
     "data": {
      "text/plain": [
       "(array([0.78189543]), 5.175619278567209)"
      ]
     },
     "execution_count": 73,
     "metadata": {},
     "output_type": "execute_result"
    }
   ],
   "source": [
    "lr = LinearRegression()\n",
    "lr.fit(X, y)\n",
    "lr.coef_, lr.intercept_\n",
    "#  0.781 * X + 5.1756 = pred"
   ]
  },
  {
   "cell_type": "code",
   "execution_count": 74,
   "metadata": {},
   "outputs": [
    {
     "name": "stdout",
     "output_type": "stream",
     "text": [
      "MSE: 7.729204760808937, RMSE: 2.7801447373848966, R2: 0.19138252437306003\n",
      "----------------------------------------------------------------------------------------------------\n"
     ]
    }
   ],
   "source": [
    "# 평가\n",
    "pred = lr.predict(X)\n",
    "print_regression_metrics(y, pred)"
   ]
  },
  {
   "cell_type": "code",
   "execution_count": 75,
   "metadata": {},
   "outputs": [
    {
     "data": {
      "image/png": "[encoded data removed]",
      "text/plain": [
       "<Figure size 504x432 with 1 Axes>"
      ]
     },
     "metadata": {
      "needs_background": "light"
     },
     "output_type": "display_data"
    }
   ],
   "source": [
    "X_new = np.linspace(-3, 3, 100).reshape(-1,1)\n",
    "y_new = lr.predict(X_new)\n",
    "\n",
    "plt.figure(figsize=(7,6))\n",
    "plt.scatter(X, y, alpha=0.5)\n",
    "plt.plot(X_new, y_new, color='red')\n",
    "plt.show()"
   ]
  },
  {
   "cell_type": "code",
   "execution_count": 76,
   "metadata": {},
   "outputs": [],
   "source": [
    "# X의 Feature를 늘려서 다항식이 되도록 처리 (2차함수) => PolynomialFeatures\n",
    "from sklearn.preprocessing import PolynomialFeatures\n",
    "\n",
    "pnf = PolynomialFeatures(degree=2, #degree: 최고차항 지정\n",
    "                         include_bias=False) # 상수항을 추가 (모든값 1인 Feature추가)\n",
    "X_poly = pnf.fit_transform(X)"
   ]
  },
  {
   "cell_type": "code",
   "execution_count": 77,
   "metadata": {},
   "outputs": [
    {
     "data": {
      "text/plain": [
       "((100, 1), (100, 2))"
      ]
     },
     "execution_count": 77,
     "metadata": {},
     "output_type": "execute_result"
    }
   ],
   "source": [
    "X.shape, X_poly.shape"
   ]
  },
  {
   "cell_type": "code",
   "execution_count": 78,
   "metadata": {},
   "outputs": [
    {
     "data": {
      "text/plain": [
       "array([[0.29288102],\n",
       "       [1.2911362 ]])"
      ]
     },
     "execution_count": 78,
     "metadata": {},
     "output_type": "execute_result"
    }
   ],
   "source": [
    "X[:2]"
   ]
  },
  {
   "cell_type": "code",
   "execution_count": 79,
   "metadata": {},
   "outputs": [
    {
     "data": {
      "text/plain": [
       "['x0', 'x0^2']"
      ]
     },
     "execution_count": 79,
     "metadata": {},
     "output_type": "execute_result"
    }
   ],
   "source": [
    "pnf.get_feature_names()"
   ]
  },
  {
   "cell_type": "code",
   "execution_count": 80,
   "metadata": {},
   "outputs": [
    {
     "data": {
      "text/plain": [
       "LinearRegression()"
      ]
     },
     "execution_count": 80,
     "metadata": {},
     "output_type": "execute_result"
    }
   ],
   "source": [
    "lr2 = LinearRegression()\n",
    "lr2.fit(X_poly, y)"
   ]
  },
  {
   "cell_type": "code",
   "execution_count": 81,
   "metadata": {},
   "outputs": [
    {
     "data": {
      "text/plain": [
       "(array([0.97906552, 0.94978823]), 2.340500756262887)"
      ]
     },
     "execution_count": 81,
     "metadata": {},
     "output_type": "execute_result"
    }
   ],
   "source": [
    "lr2.coef_, lr2.intercept_"
   ]
  },
  {
   "cell_type": "code",
   "execution_count": 82,
   "metadata": {},
   "outputs": [
    {
     "data": {
      "text/plain": [
       "array([[ 2.37866032],\n",
       "       [ 4.95816888],\n",
       "       [ 2.99675147],\n",
       "       [ 2.3418211 ],\n",
       "       [ 1.75175802],\n",
       "       [ 3.641628  ],\n",
       "       [ 1.76575609],\n",
       "       [ 9.87613703],\n",
       "       [12.52137016],\n",
       "       [ 1.78974078],\n",
       "       [ 6.81407615],\n",
       "       [ 2.20342651],\n",
       "       [ 2.57494961],\n",
       "       [11.07434978],\n",
       "       [ 6.05057863],\n",
       "       [ 5.65941554],\n",
       "       [ 7.40816429],\n",
       "       [ 7.97861369],\n",
       "       [ 6.45430292],\n",
       "       [ 9.14879652],\n",
       "       [13.11842868],\n",
       "       [ 7.01680186],\n",
       "       [ 1.8222944 ],\n",
       "       [ 6.51625333],\n",
       "       [ 4.95536546],\n",
       "       [ 3.54433025],\n",
       "       [ 4.43920732],\n",
       "       [11.78630955],\n",
       "       [ 2.1482745 ],\n",
       "       [ 1.75014468],\n",
       "       [ 2.58295983],\n",
       "       [ 6.35275033],\n",
       "       [ 1.80612255],\n",
       "       [ 2.57919909],\n",
       "       [ 7.44901602],\n",
       "       [ 3.20398495],\n",
       "       [ 3.12493057],\n",
       "       [ 3.19385213],\n",
       "       [11.75133333],\n",
       "       [ 4.28103216],\n",
       "       [ 1.86761648],\n",
       "       [ 1.76493082],\n",
       "       [ 4.5918784 ],\n",
       "       [ 6.32381172],\n",
       "       [ 4.00180124],\n",
       "       [ 4.07204939],\n",
       "       [ 3.28191276],\n",
       "       [ 4.73060272],\n",
       "       [ 2.11897108],\n",
       "       [ 1.85095577],\n",
       "       [ 2.59857374],\n",
       "       [ 1.76732095],\n",
       "       [13.51656723],\n",
       "       [ 5.31352884],\n",
       "       [ 3.30435929],\n",
       "       [ 4.09746184],\n",
       "       [ 3.76256769],\n",
       "       [ 2.71089082],\n",
       "       [ 1.83872334],\n",
       "       [ 2.81801156],\n",
       "       [ 4.14068032],\n",
       "       [ 5.12732195],\n",
       "       [ 3.8177794 ],\n",
       "       [ 4.54191447],\n",
       "       [ 3.49373565],\n",
       "       [ 1.83274193],\n",
       "       [ 7.63527891],\n",
       "       [ 5.42639341],\n",
       "       [ 8.13911282],\n",
       "       [ 5.44950431],\n",
       "       [13.03124717],\n",
       "       [ 1.84728611],\n",
       "       [13.0434074 ],\n",
       "       [ 3.02480611],\n",
       "       [ 5.49647565],\n",
       "       [ 6.87965082],\n",
       "       [ 2.39506313],\n",
       "       [ 4.91420284],\n",
       "       [ 2.27295867],\n",
       "       [ 4.9456342 ],\n",
       "       [ 2.1005835 ],\n",
       "       [ 1.750208  ],\n",
       "       [ 6.22371156],\n",
       "       [ 4.48847132],\n",
       "       [ 2.55929586],\n",
       "       [ 2.57385222],\n",
       "       [ 2.15894531],\n",
       "       [ 5.49947818],\n",
       "       [ 2.6633223 ],\n",
       "       [11.21040529],\n",
       "       [ 2.09643382],\n",
       "       [ 4.01340675],\n",
       "       [ 4.67140848],\n",
       "       [ 4.98267176],\n",
       "       [ 2.33302913],\n",
       "       [ 3.71238584],\n",
       "       [ 2.78851917],\n",
       "       [ 7.4113289 ],\n",
       "       [ 7.86889572],\n",
       "       [ 7.85992942]])"
      ]
     },
     "execution_count": 82,
     "metadata": {},
     "output_type": "execute_result"
    }
   ],
   "source": [
    "X**2 + X + 2"
   ]
  },
  {
   "cell_type": "code",
   "execution_count": 83,
   "metadata": {},
   "outputs": [],
   "source": [
    "# 그래프 확인"
   ]
  },
  {
   "cell_type": "code",
   "execution_count": 84,
   "metadata": {},
   "outputs": [
    {
     "data": {
      "image/png": "[encoded data removed]",
      "text/plain": [
       "<Figure size 504x432 with 1 Axes>"
      ]
     },
     "metadata": {
      "needs_background": "light"
     },
     "output_type": "display_data"
    }
   ],
   "source": [
    "X_new_poly = pnf.transform(X_new)\n",
    "# X_new.shape, X_new_poly.shape\n",
    "y_new = lr2.predict(X_new_poly)\n",
    "\n",
    "plt.figure(figsize=(7,6))\n",
    "plt.scatter(X, y, alpha=0.5)\n",
    "plt.plot(X_new, y_new, color='red')\n",
    "plt.show()"
   ]
  },
  {
   "cell_type": "code",
   "execution_count": 85,
   "metadata": {},
   "outputs": [
    {
     "name": "stdout",
     "output_type": "stream",
     "text": [
      "MSE: 7.729204760808937, RMSE: 2.7801447373848966, R2: 0.19138252437306003\n",
      "----------------------------------------------------------------------------------------------------\n"
     ]
    }
   ],
   "source": [
    "print_regression_metrics(y, lr.predict(X))"
   ]
  },
  {
   "cell_type": "code",
   "execution_count": 86,
   "metadata": {},
   "outputs": [
    {
     "name": "stdout",
     "output_type": "stream",
     "text": [
      "MSE: 0.9735576723414217, RMSE: 0.9866902616026073, R2: 0.8981478985551461\n",
      "----------------------------------------------------------------------------------------------------\n"
     ]
    }
   ],
   "source": [
    "#모델 평가\n",
    "print_regression_metrics(y, lr2.predict(X_poly))"
   ]
  },
  {
   "cell_type": "code",
   "execution_count": 87,
   "metadata": {},
   "outputs": [
    {
     "data": {
      "text/plain": [
       "5.047985043575299"
      ]
     },
     "execution_count": 87,
     "metadata": {},
     "output_type": "execute_result"
    }
   ],
   "source": [
    "np.mean(y)"
   ]
  },
  {
   "cell_type": "code",
   "execution_count": 88,
   "metadata": {},
   "outputs": [
    {
     "data": {
      "text/plain": [
       "(4, 3)"
      ]
     },
     "execution_count": 88,
     "metadata": {},
     "output_type": "execute_result"
    }
   ],
   "source": [
    "# input data 가 다차원인 경우(Feature수가 N개)\n",
    "data = np.arange(12).reshape(4,3) #Feature: 3\n",
    "data.shape"
   ]
  },
  {
   "cell_type": "code",
   "execution_count": 89,
   "metadata": {},
   "outputs": [
    {
     "data": {
      "text/plain": [
       "array([[ 0,  1,  2],\n",
       "       [ 3,  4,  5],\n",
       "       [ 6,  7,  8],\n",
       "       [ 9, 10, 11]])"
      ]
     },
     "execution_count": 89,
     "metadata": {},
     "output_type": "execute_result"
    }
   ],
   "source": [
    "data"
   ]
  },
  {
   "cell_type": "code",
   "execution_count": 90,
   "metadata": {},
   "outputs": [
    {
     "data": {
      "text/plain": [
       "(4, 10)"
      ]
     },
     "execution_count": 90,
     "metadata": {},
     "output_type": "execute_result"
    }
   ],
   "source": [
    "pnf2 = PolynomialFeatures(degree=2)\n",
    "data_poly = pnf2.fit_transform(data)\n",
    "data_poly.shape"
   ]
  },
  {
   "cell_type": "code",
   "execution_count": 91,
   "metadata": {},
   "outputs": [
    {
     "data": {
      "text/plain": [
       "['1', 'x0', 'x1', 'x2', 'x0^2', 'x0 x1', 'x0 x2', 'x1^2', 'x1 x2', 'x2^2']"
      ]
     },
     "execution_count": 91,
     "metadata": {},
     "output_type": "execute_result"
    }
   ],
   "source": [
    "pnf2.get_feature_names()"
   ]
  },
  {
   "cell_type": "code",
   "execution_count": 92,
   "metadata": {},
   "outputs": [
    {
     "data": {
      "text/html": [
       "<div>\n",
       "<style scoped>\n",
       "    .dataframe tbody tr th:only-of-type {\n",
       "        vertical-align: middle;\n",
       "    }\n",
       "\n",
       "    .dataframe tbody tr th {\n",
       "        vertical-align: top;\n",
       "    }\n",
       "\n",
       "    .dataframe thead th {\n",
       "        text-align: right;\n",
       "    }\n",
       "</style>\n",
       "<table border=\"1\" class=\"dataframe\">\n",
       "  <thead>\n",
       "    <tr style=\"text-align: right;\">\n",
       "      <th></th>\n",
       "      <th>1</th>\n",
       "      <th>x0</th>\n",
       "      <th>x1</th>\n",
       "      <th>x2</th>\n",
       "      <th>x0^2</th>\n",
       "      <th>x0 x1</th>\n",
       "      <th>x0 x2</th>\n",
       "      <th>x1^2</th>\n",
       "      <th>x1 x2</th>\n",
       "      <th>x2^2</th>\n",
       "    </tr>\n",
       "  </thead>\n",
       "  <tbody>\n",
       "    <tr>\n",
       "      <th>0</th>\n",
       "      <td>1.0</td>\n",
       "      <td>0.0</td>\n",
       "      <td>1.0</td>\n",
       "      <td>2.0</td>\n",
       "      <td>0.0</td>\n",
       "      <td>0.0</td>\n",
       "      <td>0.0</td>\n",
       "      <td>1.0</td>\n",
       "      <td>2.0</td>\n",
       "      <td>4.0</td>\n",
       "    </tr>\n",
       "    <tr>\n",
       "      <th>1</th>\n",
       "      <td>1.0</td>\n",
       "      <td>3.0</td>\n",
       "      <td>4.0</td>\n",
       "      <td>5.0</td>\n",
       "      <td>9.0</td>\n",
       "      <td>12.0</td>\n",
       "      <td>15.0</td>\n",
       "      <td>16.0</td>\n",
       "      <td>20.0</td>\n",
       "      <td>25.0</td>\n",
       "    </tr>\n",
       "    <tr>\n",
       "      <th>2</th>\n",
       "      <td>1.0</td>\n",
       "      <td>6.0</td>\n",
       "      <td>7.0</td>\n",
       "      <td>8.0</td>\n",
       "      <td>36.0</td>\n",
       "      <td>42.0</td>\n",
       "      <td>48.0</td>\n",
       "      <td>49.0</td>\n",
       "      <td>56.0</td>\n",
       "      <td>64.0</td>\n",
       "    </tr>\n",
       "    <tr>\n",
       "      <th>3</th>\n",
       "      <td>1.0</td>\n",
       "      <td>9.0</td>\n",
       "      <td>10.0</td>\n",
       "      <td>11.0</td>\n",
       "      <td>81.0</td>\n",
       "      <td>90.0</td>\n",
       "      <td>99.0</td>\n",
       "      <td>100.0</td>\n",
       "      <td>110.0</td>\n",
       "      <td>121.0</td>\n",
       "    </tr>\n",
       "  </tbody>\n",
       "</table>\n",
       "</div>"
      ],
      "text/plain": [
       "     1   x0    x1    x2  x0^2  x0 x1  x0 x2   x1^2  x1 x2   x2^2\n",
       "0  1.0  0.0   1.0   2.0   0.0    0.0    0.0    1.0    2.0    4.0\n",
       "1  1.0  3.0   4.0   5.0   9.0   12.0   15.0   16.0   20.0   25.0\n",
       "2  1.0  6.0   7.0   8.0  36.0   42.0   48.0   49.0   56.0   64.0\n",
       "3  1.0  9.0  10.0  11.0  81.0   90.0   99.0  100.0  110.0  121.0"
      ]
     },
     "execution_count": 92,
     "metadata": {},
     "output_type": "execute_result"
    }
   ],
   "source": [
    "pd.DataFrame(data_poly, columns=pnf2.get_feature_names())"
   ]
  },
  {
   "cell_type": "code",
   "execution_count": 93,
   "metadata": {},
   "outputs": [
    {
     "data": {
      "text/plain": [
       "(4, 56)"
      ]
     },
     "execution_count": 93,
     "metadata": {},
     "output_type": "execute_result"
    }
   ],
   "source": [
    "pnf3 = PolynomialFeatures(degree=5)\n",
    "data_poly2 = pnf3.fit_transform(data)\n",
    "data_poly2.shape"
   ]
  },
  {
   "cell_type": "code",
   "execution_count": 94,
   "metadata": {
    "collapsed": true
   },
   "outputs": [
    {
     "data": {
      "text/plain": [
       "['1',\n",
       " 'x0',\n",
       " 'x1',\n",
       " 'x2',\n",
       " 'x0^2',\n",
       " 'x0 x1',\n",
       " 'x0 x2',\n",
       " 'x1^2',\n",
       " 'x1 x2',\n",
       " 'x2^2',\n",
       " 'x0^3',\n",
       " 'x0^2 x1',\n",
       " 'x0^2 x2',\n",
       " 'x0 x1^2',\n",
       " 'x0 x1 x2',\n",
       " 'x0 x2^2',\n",
       " 'x1^3',\n",
       " 'x1^2 x2',\n",
       " 'x1 x2^2',\n",
       " 'x2^3',\n",
       " 'x0^4',\n",
       " 'x0^3 x1',\n",
       " 'x0^3 x2',\n",
       " 'x0^2 x1^2',\n",
       " 'x0^2 x1 x2',\n",
       " 'x0^2 x2^2',\n",
       " 'x0 x1^3',\n",
       " 'x0 x1^2 x2',\n",
       " 'x0 x1 x2^2',\n",
       " 'x0 x2^3',\n",
       " 'x1^4',\n",
       " 'x1^3 x2',\n",
       " 'x1^2 x2^2',\n",
       " 'x1 x2^3',\n",
       " 'x2^4',\n",
       " 'x0^5',\n",
       " 'x0^4 x1',\n",
       " 'x0^4 x2',\n",
       " 'x0^3 x1^2',\n",
       " 'x0^3 x1 x2',\n",
       " 'x0^3 x2^2',\n",
       " 'x0^2 x1^3',\n",
       " 'x0^2 x1^2 x2',\n",
       " 'x0^2 x1 x2^2',\n",
       " 'x0^2 x2^3',\n",
       " 'x0 x1^4',\n",
       " 'x0 x1^3 x2',\n",
       " 'x0 x1^2 x2^2',\n",
       " 'x0 x1 x2^3',\n",
       " 'x0 x2^4',\n",
       " 'x1^5',\n",
       " 'x1^4 x2',\n",
       " 'x1^3 x2^2',\n",
       " 'x1^2 x2^3',\n",
       " 'x1 x2^4',\n",
       " 'x2^5']"
      ]
     },
     "execution_count": 94,
     "metadata": {},
     "output_type": "execute_result"
    }
   ],
   "source": [
    "pnf3.get_feature_names()"
   ]
  },
  {
   "cell_type": "code",
   "execution_count": 97,
   "metadata": {},
   "outputs": [
    {
     "data": {
      "text/plain": [
       "((100, 100), (100, 1))"
      ]
     },
     "execution_count": 97,
     "metadata": {},
     "output_type": "execute_result"
    }
   ],
   "source": [
    "# Degree를 크게\n",
    "pnf = PolynomialFeatures(degree=100, include_bias=False)\n",
    "X_train_poly_100 = pnf.fit_transform(X)\n",
    "X_train_poly_100.shape, X.shape"
   ]
  },
  {
   "cell_type": "code",
   "execution_count": 98,
   "metadata": {},
   "outputs": [
    {
     "data": {
      "text/plain": [
       "LinearRegression()"
      ]
     },
     "execution_count": 98,
     "metadata": {},
     "output_type": "execute_result"
    }
   ],
   "source": [
    "lr = LinearRegression()\n",
    "lr.fit(X_train_poly_100, y)"
   ]
  },
  {
   "cell_type": "code",
   "execution_count": 100,
   "metadata": {},
   "outputs": [
    {
     "data": {
      "text/plain": [
       "(100,)"
      ]
     },
     "execution_count": 100,
     "metadata": {},
     "output_type": "execute_result"
    }
   ],
   "source": [
    "lr.coef_.shape"
   ]
  },
  {
   "cell_type": "code",
   "execution_count": 103,
   "metadata": {},
   "outputs": [],
   "source": [
    "X_new = np.linspace(-3,3,100).reshape(-1, 1)\n",
    "X_new_poly_100 = pnf.transform(X_new)\n",
    "pred_new_100 = lr.predict(X_new_poly_100)"
   ]
  },
  {
   "cell_type": "code",
   "execution_count": 107,
   "metadata": {
    "collapsed": true
   },
   "outputs": [
    {
     "data": {
      "image/png": "[encoded data removed]",
      "text/plain": [
       "<Figure size 504x432 with 1 Axes>"
      ]
     },
     "metadata": {
      "needs_background": "light"
     },
     "output_type": "display_data"
    }
   ],
   "source": [
    "plt.figure(figsize=(7,6))\n",
    "plt.scatter(X, y)\n",
    "plt.plot(X_new, pred_new_100, color='r', alpha=0.5)\n",
    "plt.show()"
   ]
  },
  {
   "cell_type": "markdown",
   "metadata": {},
   "source": [
    "### PolynomialFeatures를 Boston set에 적용"
   ]
  },
  {
   "cell_type": "code",
   "execution_count": 155,
   "metadata": {},
   "outputs": [],
   "source": [
    "pnf = PolynomialFeatures(degree=2, include_bias=False)\n",
    "X_train_scaled_poly = pnf.fit_transform(X_train_scaled)\n",
    "X_test_scaled_poly = pnf.transform(X_test_scaled)"
   ]
  },
  {
   "cell_type": "code",
   "execution_count": 156,
   "metadata": {},
   "outputs": [
    {
     "data": {
      "text/plain": [
       "((379, 13), (379, 104))"
      ]
     },
     "execution_count": 156,
     "metadata": {},
     "output_type": "execute_result"
    }
   ],
   "source": [
    "X_train_scaled.shape, X_train_scaled_poly.shape"
   ]
  },
  {
   "cell_type": "code",
   "execution_count": 93,
   "metadata": {
    "collapsed": true
   },
   "outputs": [
    {
     "data": {
      "text/plain": [
       "['x0',\n",
       " 'x1',\n",
       " 'x2',\n",
       " 'x3',\n",
       " 'x4',\n",
       " 'x5',\n",
       " 'x6',\n",
       " 'x7',\n",
       " 'x8',\n",
       " 'x9',\n",
       " 'x10',\n",
       " 'x11',\n",
       " 'x12',\n",
       " 'x13',\n",
       " 'x0^2',\n",
       " 'x0 x1',\n",
       " 'x0 x2',\n",
       " 'x0 x3',\n",
       " 'x0 x4',\n",
       " 'x0 x5',\n",
       " 'x0 x6',\n",
       " 'x0 x7',\n",
       " 'x0 x8',\n",
       " 'x0 x9',\n",
       " 'x0 x10',\n",
       " 'x0 x11',\n",
       " 'x0 x12',\n",
       " 'x0 x13',\n",
       " 'x1^2',\n",
       " 'x1 x2',\n",
       " 'x1 x3',\n",
       " 'x1 x4',\n",
       " 'x1 x5',\n",
       " 'x1 x6',\n",
       " 'x1 x7',\n",
       " 'x1 x8',\n",
       " 'x1 x9',\n",
       " 'x1 x10',\n",
       " 'x1 x11',\n",
       " 'x1 x12',\n",
       " 'x1 x13',\n",
       " 'x2^2',\n",
       " 'x2 x3',\n",
       " 'x2 x4',\n",
       " 'x2 x5',\n",
       " 'x2 x6',\n",
       " 'x2 x7',\n",
       " 'x2 x8',\n",
       " 'x2 x9',\n",
       " 'x2 x10',\n",
       " 'x2 x11',\n",
       " 'x2 x12',\n",
       " 'x2 x13',\n",
       " 'x3^2',\n",
       " 'x3 x4',\n",
       " 'x3 x5',\n",
       " 'x3 x6',\n",
       " 'x3 x7',\n",
       " 'x3 x8',\n",
       " 'x3 x9',\n",
       " 'x3 x10',\n",
       " 'x3 x11',\n",
       " 'x3 x12',\n",
       " 'x3 x13',\n",
       " 'x4^2',\n",
       " 'x4 x5',\n",
       " 'x4 x6',\n",
       " 'x4 x7',\n",
       " 'x4 x8',\n",
       " 'x4 x9',\n",
       " 'x4 x10',\n",
       " 'x4 x11',\n",
       " 'x4 x12',\n",
       " 'x4 x13',\n",
       " 'x5^2',\n",
       " 'x5 x6',\n",
       " 'x5 x7',\n",
       " 'x5 x8',\n",
       " 'x5 x9',\n",
       " 'x5 x10',\n",
       " 'x5 x11',\n",
       " 'x5 x12',\n",
       " 'x5 x13',\n",
       " 'x6^2',\n",
       " 'x6 x7',\n",
       " 'x6 x8',\n",
       " 'x6 x9',\n",
       " 'x6 x10',\n",
       " 'x6 x11',\n",
       " 'x6 x12',\n",
       " 'x6 x13',\n",
       " 'x7^2',\n",
       " 'x7 x8',\n",
       " 'x7 x9',\n",
       " 'x7 x10',\n",
       " 'x7 x11',\n",
       " 'x7 x12',\n",
       " 'x7 x13',\n",
       " 'x8^2',\n",
       " 'x8 x9',\n",
       " 'x8 x10',\n",
       " 'x8 x11',\n",
       " 'x8 x12',\n",
       " 'x8 x13',\n",
       " 'x9^2',\n",
       " 'x9 x10',\n",
       " 'x9 x11',\n",
       " 'x9 x12',\n",
       " 'x9 x13',\n",
       " 'x10^2',\n",
       " 'x10 x11',\n",
       " 'x10 x12',\n",
       " 'x10 x13',\n",
       " 'x11^2',\n",
       " 'x11 x12',\n",
       " 'x11 x13',\n",
       " 'x12^2',\n",
       " 'x12 x13',\n",
       " 'x13^2']"
      ]
     },
     "execution_count": 93,
     "metadata": {},
     "output_type": "execute_result"
    }
   ],
   "source": [
    "pnf.get_feature_names()"
   ]
  },
  {
   "cell_type": "code",
   "execution_count": 157,
   "metadata": {},
   "outputs": [
    {
     "data": {
      "text/plain": [
       "LinearRegression()"
      ]
     },
     "execution_count": 157,
     "metadata": {},
     "output_type": "execute_result"
    }
   ],
   "source": [
    "lr3 = LinearRegression()\n",
    "lr3.fit(X_train_scaled_poly, y_train)"
   ]
  },
  {
   "cell_type": "code",
   "execution_count": 158,
   "metadata": {},
   "outputs": [],
   "source": [
    "pred_train3 = lr3.predict(X_train_scaled_poly)\n",
    "pred_test3 = lr3.predict(X_test_scaled_poly)"
   ]
  },
  {
   "cell_type": "code",
   "execution_count": 159,
   "metadata": {},
   "outputs": [
    {
     "name": "stdout",
     "output_type": "stream",
     "text": [
      "Train poly\n",
      "MSE: 4.090362612543778, RMSE: 2.0224644898103348, R2: 0.9520519609032729\n",
      "----------------------------------------------------------------------------------------------------\n",
      "Test poly\n",
      "MSE: 32.06913512158057, RMSE: 5.662961691692835, R2: 0.6074721959666065\n",
      "----------------------------------------------------------------------------------------------------\n"
     ]
    }
   ],
   "source": [
    "print_regression_metrics(y_train, pred_train3, title='Train poly')\n",
    "print_regression_metrics(y_test, pred_test3, title='Test poly')"
   ]
  },
  {
   "cell_type": "code",
   "execution_count": 114,
   "metadata": {
    "collapsed": true
   },
   "outputs": [
    {
     "data": {
      "text/html": [
       "<div>\n",
       "<style scoped>\n",
       "    .dataframe tbody tr th:only-of-type {\n",
       "        vertical-align: middle;\n",
       "    }\n",
       "\n",
       "    .dataframe tbody tr th {\n",
       "        vertical-align: top;\n",
       "    }\n",
       "\n",
       "    .dataframe thead th {\n",
       "        text-align: right;\n",
       "    }\n",
       "</style>\n",
       "<table border=\"1\" class=\"dataframe\">\n",
       "  <thead>\n",
       "    <tr style=\"text-align: right;\">\n",
       "      <th></th>\n",
       "      <th>CRIM</th>\n",
       "      <th>ZN</th>\n",
       "      <th>INDUS</th>\n",
       "      <th>NOX</th>\n",
       "      <th>RM</th>\n",
       "      <th>AGE</th>\n",
       "      <th>DIS</th>\n",
       "      <th>RAD</th>\n",
       "      <th>TAX</th>\n",
       "      <th>PTRATIO</th>\n",
       "      <th>B</th>\n",
       "      <th>LSTAT</th>\n",
       "      <th>MEDV</th>\n",
       "      <th>CHAS_0</th>\n",
       "      <th>CHAS_1</th>\n",
       "    </tr>\n",
       "  </thead>\n",
       "  <tbody>\n",
       "    <tr>\n",
       "      <th>0</th>\n",
       "      <td>0.00632</td>\n",
       "      <td>18.0</td>\n",
       "      <td>2.31</td>\n",
       "      <td>0.538</td>\n",
       "      <td>6.575</td>\n",
       "      <td>65.2</td>\n",
       "      <td>4.0900</td>\n",
       "      <td>1.0</td>\n",
       "      <td>296.0</td>\n",
       "      <td>15.3</td>\n",
       "      <td>396.90</td>\n",
       "      <td>4.98</td>\n",
       "      <td>24.0</td>\n",
       "      <td>1</td>\n",
       "      <td>0</td>\n",
       "    </tr>\n",
       "    <tr>\n",
       "      <th>1</th>\n",
       "      <td>0.02731</td>\n",
       "      <td>0.0</td>\n",
       "      <td>7.07</td>\n",
       "      <td>0.469</td>\n",
       "      <td>6.421</td>\n",
       "      <td>78.9</td>\n",
       "      <td>4.9671</td>\n",
       "      <td>2.0</td>\n",
       "      <td>242.0</td>\n",
       "      <td>17.8</td>\n",
       "      <td>396.90</td>\n",
       "      <td>9.14</td>\n",
       "      <td>21.6</td>\n",
       "      <td>1</td>\n",
       "      <td>0</td>\n",
       "    </tr>\n",
       "    <tr>\n",
       "      <th>2</th>\n",
       "      <td>0.02729</td>\n",
       "      <td>0.0</td>\n",
       "      <td>7.07</td>\n",
       "      <td>0.469</td>\n",
       "      <td>7.185</td>\n",
       "      <td>61.1</td>\n",
       "      <td>4.9671</td>\n",
       "      <td>2.0</td>\n",
       "      <td>242.0</td>\n",
       "      <td>17.8</td>\n",
       "      <td>392.83</td>\n",
       "      <td>4.03</td>\n",
       "      <td>34.7</td>\n",
       "      <td>1</td>\n",
       "      <td>0</td>\n",
       "    </tr>\n",
       "    <tr>\n",
       "      <th>3</th>\n",
       "      <td>0.03237</td>\n",
       "      <td>0.0</td>\n",
       "      <td>2.18</td>\n",
       "      <td>0.458</td>\n",
       "      <td>6.998</td>\n",
       "      <td>45.8</td>\n",
       "      <td>6.0622</td>\n",
       "      <td>3.0</td>\n",
       "      <td>222.0</td>\n",
       "      <td>18.7</td>\n",
       "      <td>394.63</td>\n",
       "      <td>2.94</td>\n",
       "      <td>33.4</td>\n",
       "      <td>1</td>\n",
       "      <td>0</td>\n",
       "    </tr>\n",
       "    <tr>\n",
       "      <th>4</th>\n",
       "      <td>0.06905</td>\n",
       "      <td>0.0</td>\n",
       "      <td>2.18</td>\n",
       "      <td>0.458</td>\n",
       "      <td>7.147</td>\n",
       "      <td>54.2</td>\n",
       "      <td>6.0622</td>\n",
       "      <td>3.0</td>\n",
       "      <td>222.0</td>\n",
       "      <td>18.7</td>\n",
       "      <td>396.90</td>\n",
       "      <td>5.33</td>\n",
       "      <td>36.2</td>\n",
       "      <td>1</td>\n",
       "      <td>0</td>\n",
       "    </tr>\n",
       "    <tr>\n",
       "      <th>...</th>\n",
       "      <td>...</td>\n",
       "      <td>...</td>\n",
       "      <td>...</td>\n",
       "      <td>...</td>\n",
       "      <td>...</td>\n",
       "      <td>...</td>\n",
       "      <td>...</td>\n",
       "      <td>...</td>\n",
       "      <td>...</td>\n",
       "      <td>...</td>\n",
       "      <td>...</td>\n",
       "      <td>...</td>\n",
       "      <td>...</td>\n",
       "      <td>...</td>\n",
       "      <td>...</td>\n",
       "    </tr>\n",
       "    <tr>\n",
       "      <th>501</th>\n",
       "      <td>0.06263</td>\n",
       "      <td>0.0</td>\n",
       "      <td>11.93</td>\n",
       "      <td>0.573</td>\n",
       "      <td>6.593</td>\n",
       "      <td>69.1</td>\n",
       "      <td>2.4786</td>\n",
       "      <td>1.0</td>\n",
       "      <td>273.0</td>\n",
       "      <td>21.0</td>\n",
       "      <td>391.99</td>\n",
       "      <td>9.67</td>\n",
       "      <td>22.4</td>\n",
       "      <td>1</td>\n",
       "      <td>0</td>\n",
       "    </tr>\n",
       "    <tr>\n",
       "      <th>502</th>\n",
       "      <td>0.04527</td>\n",
       "      <td>0.0</td>\n",
       "      <td>11.93</td>\n",
       "      <td>0.573</td>\n",
       "      <td>6.120</td>\n",
       "      <td>76.7</td>\n",
       "      <td>2.2875</td>\n",
       "      <td>1.0</td>\n",
       "      <td>273.0</td>\n",
       "      <td>21.0</td>\n",
       "      <td>396.90</td>\n",
       "      <td>9.08</td>\n",
       "      <td>20.6</td>\n",
       "      <td>1</td>\n",
       "      <td>0</td>\n",
       "    </tr>\n",
       "    <tr>\n",
       "      <th>503</th>\n",
       "      <td>0.06076</td>\n",
       "      <td>0.0</td>\n",
       "      <td>11.93</td>\n",
       "      <td>0.573</td>\n",
       "      <td>6.976</td>\n",
       "      <td>91.0</td>\n",
       "      <td>2.1675</td>\n",
       "      <td>1.0</td>\n",
       "      <td>273.0</td>\n",
       "      <td>21.0</td>\n",
       "      <td>396.90</td>\n",
       "      <td>5.64</td>\n",
       "      <td>23.9</td>\n",
       "      <td>1</td>\n",
       "      <td>0</td>\n",
       "    </tr>\n",
       "    <tr>\n",
       "      <th>504</th>\n",
       "      <td>0.10959</td>\n",
       "      <td>0.0</td>\n",
       "      <td>11.93</td>\n",
       "      <td>0.573</td>\n",
       "      <td>6.794</td>\n",
       "      <td>89.3</td>\n",
       "      <td>2.3889</td>\n",
       "      <td>1.0</td>\n",
       "      <td>273.0</td>\n",
       "      <td>21.0</td>\n",
       "      <td>393.45</td>\n",
       "      <td>6.48</td>\n",
       "      <td>22.0</td>\n",
       "      <td>1</td>\n",
       "      <td>0</td>\n",
       "    </tr>\n",
       "    <tr>\n",
       "      <th>505</th>\n",
       "      <td>0.04741</td>\n",
       "      <td>0.0</td>\n",
       "      <td>11.93</td>\n",
       "      <td>0.573</td>\n",
       "      <td>6.030</td>\n",
       "      <td>80.8</td>\n",
       "      <td>2.5050</td>\n",
       "      <td>1.0</td>\n",
       "      <td>273.0</td>\n",
       "      <td>21.0</td>\n",
       "      <td>396.90</td>\n",
       "      <td>7.88</td>\n",
       "      <td>11.9</td>\n",
       "      <td>1</td>\n",
       "      <td>0</td>\n",
       "    </tr>\n",
       "  </tbody>\n",
       "</table>\n",
       "<p>506 rows × 15 columns</p>\n",
       "</div>"
      ],
      "text/plain": [
       "        CRIM    ZN  INDUS    NOX     RM   AGE     DIS  RAD    TAX  PTRATIO  \\\n",
       "0    0.00632  18.0   2.31  0.538  6.575  65.2  4.0900  1.0  296.0     15.3   \n",
       "1    0.02731   0.0   7.07  0.469  6.421  78.9  4.9671  2.0  242.0     17.8   \n",
       "2    0.02729   0.0   7.07  0.469  7.185  61.1  4.9671  2.0  242.0     17.8   \n",
       "3    0.03237   0.0   2.18  0.458  6.998  45.8  6.0622  3.0  222.0     18.7   \n",
       "4    0.06905   0.0   2.18  0.458  7.147  54.2  6.0622  3.0  222.0     18.7   \n",
       "..       ...   ...    ...    ...    ...   ...     ...  ...    ...      ...   \n",
       "501  0.06263   0.0  11.93  0.573  6.593  69.1  2.4786  1.0  273.0     21.0   \n",
       "502  0.04527   0.0  11.93  0.573  6.120  76.7  2.2875  1.0  273.0     21.0   \n",
       "503  0.06076   0.0  11.93  0.573  6.976  91.0  2.1675  1.0  273.0     21.0   \n",
       "504  0.10959   0.0  11.93  0.573  6.794  89.3  2.3889  1.0  273.0     21.0   \n",
       "505  0.04741   0.0  11.93  0.573  6.030  80.8  2.5050  1.0  273.0     21.0   \n",
       "\n",
       "          B  LSTAT  MEDV  CHAS_0  CHAS_1  \n",
       "0    396.90   4.98  24.0       1       0  \n",
       "1    396.90   9.14  21.6       1       0  \n",
       "2    392.83   4.03  34.7       1       0  \n",
       "3    394.63   2.94  33.4       1       0  \n",
       "4    396.90   5.33  36.2       1       0  \n",
       "..      ...    ...   ...     ...     ...  \n",
       "501  391.99   9.67  22.4       1       0  \n",
       "502  396.90   9.08  20.6       1       0  \n",
       "503  396.90   5.64  23.9       1       0  \n",
       "504  393.45   6.48  22.0       1       0  \n",
       "505  396.90   7.88  11.9       1       0  \n",
       "\n",
       "[506 rows x 15 columns]"
      ]
     },
     "execution_count": 114,
     "metadata": {},
     "output_type": "execute_result"
    }
   ],
   "source": [
    "df2"
   ]
  },
  {
   "cell_type": "code",
   "execution_count": null,
   "metadata": {},
   "outputs": [],
   "source": [
    "Train\n",
    "MSE: 19.640519427908046, RMSE: 4.4317625644779355, R2: 0.7697699488741149\n",
    "----------------------------------------------------------------------------------------------------\n",
    "Test\n",
    "MSE: 29.782245092302407, RMSE: 5.457311159564059, R2: 0.6354638433202124"
   ]
  },
  {
   "cell_type": "markdown",
   "metadata": {},
   "source": [
    "## 규제 (Regularization)\n",
    "- 선형 회귀 모델에서 과대적합(Overfitting) 문제를 해결하기 위해 가중치(회귀계수)에 페널티 값을 적용하는 것.\n",
    "- 입력데이터의 Feature들이 너무 많은 경우 과적합이 발생.\n",
    "    - Feature수에 비해 관측치 수가 적은 경우 모델이 복잡해 지면서 과적합이 발생한다.\n",
    "- 해결\n",
    "    - 데이터를 더 수집한다. \n",
    "    - Feature selection\n",
    "        - 불필요한 Features들을 제거한다.\n",
    "    - 규제 (Regularization) 을 통해 Feature들에 곱해지는 가중치가 커지지 않도록 제한한다.\n",
    "    "
   ]
  },
  {
   "cell_type": "markdown",
   "metadata": {},
   "source": [
    "## Ridge Regression\n",
    "- 손실함수(loss function)에 규제항으로 $\\alpha \\sum_{i=1}^{n}{w_{i}^{2}}$ (L2 Norm)을 더해준다.\n",
    "- $\\alpha$는 하이퍼파라미터로 모델을 얼마나 많이 규제할지 조절한다. \n",
    "    - $\\alpha = 0$ 에 가까울수록 규제가 약해진다. (0일 경우 선형 회귀동일)\n",
    "    - $\\alpha$ 가 커질 수록 모든 가중치가 작아져 입력데이터의 Feature들 중 중요하지 않은 Feature의 output에 대한 영향력이 작아지게 된다.\n",
    "\n",
    "$$\n",
    "\\text{손실함수}(w) = \\text{MSE}(w) + \\alpha \\cfrac{1}{2}\\sum_{i=1}^{n}{w_{i}^{2}}\n",
    "$$"
   ]
  },
  {
   "cell_type": "code",
   "execution_count": 120,
   "metadata": {},
   "outputs": [],
   "source": [
    "from sklearn.datasets import load_boston\n",
    "from sklearn.preprocessing import StandardScaler\n",
    "\n",
    "X, y = load_boston(return_X_y=True)\n",
    "X_train, X_test, y_train, y_test = train_test_split(X, y, random_state=0)\n",
    "\n",
    "scaler = StandardScaler()\n",
    "X_train_scaled = scaler.fit_transform(X_train)\n",
    "X_test_scaled = scaler.transform(X_test)"
   ]
  },
  {
   "cell_type": "code",
   "execution_count": 126,
   "metadata": {},
   "outputs": [],
   "source": [
    "from sklearn.linear_model import Ridge\n",
    "ridge1 = Ridge(random_state=0) #alpah=1\n",
    "ridge1.fit(X_train_scaled, y_train)\n",
    "pred_train1 = ridge1.predict(X_train_scaled)\n",
    "pred_test1 = ridge1.predict(X_test_scaled)"
   ]
  },
  {
   "cell_type": "code",
   "execution_count": 127,
   "metadata": {},
   "outputs": [
    {
     "name": "stdout",
     "output_type": "stream",
     "text": [
      "alpha=1\n",
      "Train\n",
      "MSE: 19.64194935381896, RMSE: 4.431923888540839, R2: 0.76975318699993\n",
      "----------------------------------------------------------------------------------------------------\n",
      "Test\n",
      "MSE: 29.853763334547608, RMSE: 5.463859746968951, R2: 0.6345884564889054\n",
      "----------------------------------------------------------------------------------------------------\n"
     ]
    }
   ],
   "source": [
    "print('alpha=1')\n",
    "print_regression_metrics(y_train, pred_train1, title='Train')\n",
    "print_regression_metrics(y_test, pred_test1, title=\"Test\")"
   ]
  },
  {
   "cell_type": "code",
   "execution_count": 128,
   "metadata": {},
   "outputs": [
    {
     "data": {
      "text/plain": [
       "array([-0.96187481,  1.02775462, -0.06861144,  0.59814087, -1.77318401,\n",
       "        2.6205672 , -0.20466821, -2.96504904,  2.00091047, -1.85840697,\n",
       "       -2.14955893,  0.75175979, -3.57350065])"
      ]
     },
     "execution_count": 128,
     "metadata": {},
     "output_type": "execute_result"
    }
   ],
   "source": [
    "ridge1.coef_"
   ]
  },
  {
   "cell_type": "code",
   "execution_count": 131,
   "metadata": {},
   "outputs": [
    {
     "name": "stdout",
     "output_type": "stream",
     "text": [
      "alpha=0.01\n",
      "Train\n",
      "MSE: 19.6405195795332, RMSE: 4.431762581584578, R2: 0.7697699470967347\n",
      "----------------------------------------------------------------------------------------------------\n",
      "Test\n",
      "MSE: 29.782964300126416, RMSE: 5.457377053138845, R2: 0.6354550401807847\n",
      "----------------------------------------------------------------------------------------------------\n"
     ]
    }
   ],
   "source": [
    "from sklearn.linear_model import Ridge\n",
    "ridge1 = Ridge(alpha=0.01, random_state=0) #alpah=0.01\n",
    "ridge1.fit(X_train_scaled, y_train)\n",
    "pred_train1 = ridge1.predict(X_train_scaled)\n",
    "pred_test1 = ridge1.predict(X_test_scaled)\n",
    "\n",
    "print('alpha=0.01')\n",
    "print_regression_metrics(y_train, pred_train1, title='Train')\n",
    "print_regression_metrics(y_test, pred_test1, title=\"Test\")"
   ]
  },
  {
   "cell_type": "code",
   "execution_count": 132,
   "metadata": {},
   "outputs": [
    {
     "data": {
      "text/plain": [
       "array([-0.97090686,  1.04648351, -0.04074187,  0.59413006, -1.80840456,\n",
       "        2.61003017, -0.19830017, -3.00178921,  2.07939188, -1.93211252,\n",
       "       -2.15735709,  0.75198861, -3.59010071])"
      ]
     },
     "execution_count": 132,
     "metadata": {},
     "output_type": "execute_result"
    }
   ],
   "source": [
    "ridge1.coef_"
   ]
  },
  {
   "cell_type": "code",
   "execution_count": 147,
   "metadata": {},
   "outputs": [
    {
     "name": "stdout",
     "output_type": "stream",
     "text": [
      "alpha=1000\n",
      "Train\n",
      "MSE: 37.6379127019148, RMSE: 6.13497454778052, R2: 0.55880094732523\n",
      "----------------------------------------------------------------------------------------------------\n",
      "Test\n",
      "MSE: 47.385118128796044, RMSE: 6.883684923701552, R2: 0.42000380451661745\n",
      "----------------------------------------------------------------------------------------------------\n"
     ]
    }
   ],
   "source": [
    "from sklearn.linear_model import Ridge\n",
    "ridge1 = Ridge(alpha=1000, random_state=0) #alpah=100\n",
    "ridge1.fit(X_train_scaled, y_train)\n",
    "pred_train1 = ridge1.predict(X_train_scaled)\n",
    "pred_test1 = ridge1.predict(X_test_scaled)\n",
    "\n",
    "print('alpha=1000')\n",
    "print_regression_metrics(y_train, pred_train1, title='Train')\n",
    "print_regression_metrics(y_test, pred_test1, title=\"Test\")"
   ]
  },
  {
   "cell_type": "code",
   "execution_count": 148,
   "metadata": {},
   "outputs": [
    {
     "data": {
      "text/plain": [
       "array([-0.44267768,  0.38220219, -0.51288178,  0.3335525 , -0.37129939,\n",
       "        1.25386598, -0.32729508, -0.06287806, -0.28302417, -0.47738562,\n",
       "       -0.87977916,  0.4225767 , -1.16283877])"
      ]
     },
     "execution_count": 148,
     "metadata": {},
     "output_type": "execute_result"
    }
   ],
   "source": [
    "ridge1.coef_"
   ]
  },
  {
   "cell_type": "code",
   "execution_count": 137,
   "metadata": {},
   "outputs": [
    {
     "data": {
      "text/plain": [
       "GridSearchCV(cv=4, estimator=Ridge(random_state=0),\n",
       "             param_grid={'alpha': [0.01, 0.1, 1, 5, 10, 20, 30, 40, 100]},\n",
       "             refit='r2', scoring=['r2', 'neg_mean_squared_error'])"
      ]
     },
     "execution_count": 137,
     "metadata": {},
     "output_type": "execute_result"
    }
   ],
   "source": [
    "### GridSearchCV 이용해 최적의 alpha\n",
    "from sklearn.model_selection import GridSearchCV\n",
    "param = {\"alpha\":[0.01, 0.1, 1, 5, 10, 20, 30, 40, 100]}\n",
    "ridge = Ridge(random_state=0)\n",
    "gs = GridSearchCV(ridge, param, cv=4, scoring=['r2', 'neg_mean_squared_error'], refit='r2')\n",
    "\n",
    "gs.fit(X_train_scaled, y_train)"
   ]
  },
  {
   "cell_type": "code",
   "execution_count": 140,
   "metadata": {
    "collapsed": true
   },
   "outputs": [
    {
     "data": {
      "text/html": [
       "<div>\n",
       "<style scoped>\n",
       "    .dataframe tbody tr th:only-of-type {\n",
       "        vertical-align: middle;\n",
       "    }\n",
       "\n",
       "    .dataframe tbody tr th {\n",
       "        vertical-align: top;\n",
       "    }\n",
       "\n",
       "    .dataframe thead th {\n",
       "        text-align: right;\n",
       "    }\n",
       "</style>\n",
       "<table border=\"1\" class=\"dataframe\">\n",
       "  <thead>\n",
       "    <tr style=\"text-align: right;\">\n",
       "      <th></th>\n",
       "      <th>mean_fit_time</th>\n",
       "      <th>std_fit_time</th>\n",
       "      <th>mean_score_time</th>\n",
       "      <th>std_score_time</th>\n",
       "      <th>param_alpha</th>\n",
       "      <th>params</th>\n",
       "      <th>split0_test_r2</th>\n",
       "      <th>split1_test_r2</th>\n",
       "      <th>split2_test_r2</th>\n",
       "      <th>split3_test_r2</th>\n",
       "      <th>mean_test_r2</th>\n",
       "      <th>std_test_r2</th>\n",
       "      <th>rank_test_r2</th>\n",
       "      <th>split0_test_neg_mean_squared_error</th>\n",
       "      <th>split1_test_neg_mean_squared_error</th>\n",
       "      <th>split2_test_neg_mean_squared_error</th>\n",
       "      <th>split3_test_neg_mean_squared_error</th>\n",
       "      <th>mean_test_neg_mean_squared_error</th>\n",
       "      <th>std_test_neg_mean_squared_error</th>\n",
       "      <th>rank_test_neg_mean_squared_error</th>\n",
       "    </tr>\n",
       "  </thead>\n",
       "  <tbody>\n",
       "    <tr>\n",
       "      <th>5</th>\n",
       "      <td>0.001494</td>\n",
       "      <td>0.000501</td>\n",
       "      <td>0.001000</td>\n",
       "      <td>0.000004</td>\n",
       "      <td>20</td>\n",
       "      <td>{'alpha': 20}</td>\n",
       "      <td>0.769783</td>\n",
       "      <td>0.645949</td>\n",
       "      <td>0.646802</td>\n",
       "      <td>0.818040</td>\n",
       "      <td>0.720144</td>\n",
       "      <td>0.075716</td>\n",
       "      <td>1</td>\n",
       "      <td>-17.823357</td>\n",
       "      <td>-26.999550</td>\n",
       "      <td>-30.525873</td>\n",
       "      <td>-18.104060</td>\n",
       "      <td>-23.363210</td>\n",
       "      <td>5.542457</td>\n",
       "      <td>2</td>\n",
       "    </tr>\n",
       "    <tr>\n",
       "      <th>4</th>\n",
       "      <td>0.000997</td>\n",
       "      <td>0.000002</td>\n",
       "      <td>0.000499</td>\n",
       "      <td>0.000499</td>\n",
       "      <td>10</td>\n",
       "      <td>{'alpha': 10}</td>\n",
       "      <td>0.762913</td>\n",
       "      <td>0.645798</td>\n",
       "      <td>0.650567</td>\n",
       "      <td>0.820667</td>\n",
       "      <td>0.719986</td>\n",
       "      <td>0.074670</td>\n",
       "      <td>2</td>\n",
       "      <td>-18.355176</td>\n",
       "      <td>-27.011065</td>\n",
       "      <td>-30.200460</td>\n",
       "      <td>-17.842694</td>\n",
       "      <td>-23.352349</td>\n",
       "      <td>5.376125</td>\n",
       "      <td>1</td>\n",
       "    </tr>\n",
       "    <tr>\n",
       "      <th>6</th>\n",
       "      <td>0.001739</td>\n",
       "      <td>0.000826</td>\n",
       "      <td>0.002248</td>\n",
       "      <td>0.001632</td>\n",
       "      <td>30</td>\n",
       "      <td>{'alpha': 30}</td>\n",
       "      <td>0.773569</td>\n",
       "      <td>0.646587</td>\n",
       "      <td>0.644039</td>\n",
       "      <td>0.814082</td>\n",
       "      <td>0.719569</td>\n",
       "      <td>0.075631</td>\n",
       "      <td>3</td>\n",
       "      <td>-17.530173</td>\n",
       "      <td>-26.950941</td>\n",
       "      <td>-30.764711</td>\n",
       "      <td>-18.497835</td>\n",
       "      <td>-23.435915</td>\n",
       "      <td>5.597524</td>\n",
       "      <td>4</td>\n",
       "    </tr>\n",
       "    <tr>\n",
       "      <th>3</th>\n",
       "      <td>0.000748</td>\n",
       "      <td>0.000432</td>\n",
       "      <td>0.000994</td>\n",
       "      <td>0.000006</td>\n",
       "      <td>5</td>\n",
       "      <td>{'alpha': 5}</td>\n",
       "      <td>0.757436</td>\n",
       "      <td>0.646131</td>\n",
       "      <td>0.653369</td>\n",
       "      <td>0.820574</td>\n",
       "      <td>0.719378</td>\n",
       "      <td>0.073163</td>\n",
       "      <td>4</td>\n",
       "      <td>-18.779233</td>\n",
       "      <td>-26.985694</td>\n",
       "      <td>-29.958289</td>\n",
       "      <td>-17.851926</td>\n",
       "      <td>-23.393786</td>\n",
       "      <td>5.196172</td>\n",
       "      <td>3</td>\n",
       "    </tr>\n",
       "    <tr>\n",
       "      <th>7</th>\n",
       "      <td>0.003743</td>\n",
       "      <td>0.004190</td>\n",
       "      <td>0.000990</td>\n",
       "      <td>0.000703</td>\n",
       "      <td>40</td>\n",
       "      <td>{'alpha': 40}</td>\n",
       "      <td>0.775585</td>\n",
       "      <td>0.647291</td>\n",
       "      <td>0.641584</td>\n",
       "      <td>0.809645</td>\n",
       "      <td>0.718526</td>\n",
       "      <td>0.075088</td>\n",
       "      <td>5</td>\n",
       "      <td>-17.374137</td>\n",
       "      <td>-26.897195</td>\n",
       "      <td>-30.976839</td>\n",
       "      <td>-18.939336</td>\n",
       "      <td>-23.546877</td>\n",
       "      <td>5.607163</td>\n",
       "      <td>8</td>\n",
       "    </tr>\n",
       "  </tbody>\n",
       "</table>\n",
       "</div>"
      ],
      "text/plain": [
       "   mean_fit_time  std_fit_time  mean_score_time  std_score_time param_alpha  \\\n",
       "5       0.001494      0.000501         0.001000        0.000004          20   \n",
       "4       0.000997      0.000002         0.000499        0.000499          10   \n",
       "6       0.001739      0.000826         0.002248        0.001632          30   \n",
       "3       0.000748      0.000432         0.000994        0.000006           5   \n",
       "7       0.003743      0.004190         0.000990        0.000703          40   \n",
       "\n",
       "          params  split0_test_r2  split1_test_r2  split2_test_r2  \\\n",
       "5  {'alpha': 20}        0.769783        0.645949        0.646802   \n",
       "4  {'alpha': 10}        0.762913        0.645798        0.650567   \n",
       "6  {'alpha': 30}        0.773569        0.646587        0.644039   \n",
       "3   {'alpha': 5}        0.757436        0.646131        0.653369   \n",
       "7  {'alpha': 40}        0.775585        0.647291        0.641584   \n",
       "\n",
       "   split3_test_r2  mean_test_r2  std_test_r2  rank_test_r2  \\\n",
       "5        0.818040      0.720144     0.075716             1   \n",
       "4        0.820667      0.719986     0.074670             2   \n",
       "6        0.814082      0.719569     0.075631             3   \n",
       "3        0.820574      0.719378     0.073163             4   \n",
       "7        0.809645      0.718526     0.075088             5   \n",
       "\n",
       "   split0_test_neg_mean_squared_error  split1_test_neg_mean_squared_error  \\\n",
       "5                          -17.823357                          -26.999550   \n",
       "4                          -18.355176                          -27.011065   \n",
       "6                          -17.530173                          -26.950941   \n",
       "3                          -18.779233                          -26.985694   \n",
       "7                          -17.374137                          -26.897195   \n",
       "\n",
       "   split2_test_neg_mean_squared_error  split3_test_neg_mean_squared_error  \\\n",
       "5                          -30.525873                          -18.104060   \n",
       "4                          -30.200460                          -17.842694   \n",
       "6                          -30.764711                          -18.497835   \n",
       "3                          -29.958289                          -17.851926   \n",
       "7                          -30.976839                          -18.939336   \n",
       "\n",
       "   mean_test_neg_mean_squared_error  std_test_neg_mean_squared_error  \\\n",
       "5                        -23.363210                         5.542457   \n",
       "4                        -23.352349                         5.376125   \n",
       "6                        -23.435915                         5.597524   \n",
       "3                        -23.393786                         5.196172   \n",
       "7                        -23.546877                         5.607163   \n",
       "\n",
       "   rank_test_neg_mean_squared_error  \n",
       "5                                 2  \n",
       "4                                 1  \n",
       "6                                 4  \n",
       "3                                 3  \n",
       "7                                 8  "
      ]
     },
     "execution_count": 140,
     "metadata": {},
     "output_type": "execute_result"
    }
   ],
   "source": [
    "result_df = pd.DataFrame(gs.cv_results_)\n",
    "result_df.sort_values('rank_test_r2').head()"
   ]
  },
  {
   "cell_type": "code",
   "execution_count": null,
   "metadata": {},
   "outputs": [],
   "source": []
  },
  {
   "cell_type": "markdown",
   "metadata": {},
   "source": [
    "## Lasso(Least Absolut Shrinkage and Selection Operator) Regression\n",
    "\n",
    "- 손실함수에 규제항으로 $\\alpha \\sum_{i=1}^{n}{\\left| w_i \\right|}$ (L1 Norm)더한다.\n",
    "- Lasso 회귀의 상대적으로 덜 중요한 특성의 가중치를 0으로 만들어 자동으로 Feature Selection이 된다.\n",
    "\n",
    "$$\n",
    "\\text{손실함수}(w) = \\text{MSE}(w) + \\alpha \\sum_{i=1}^{n}{\\left| w_i \\right|}\n",
    "$$"
   ]
  },
  {
   "cell_type": "code",
   "execution_count": 142,
   "metadata": {},
   "outputs": [],
   "source": [
    "from sklearn.linear_model import Lasso"
   ]
  },
  {
   "cell_type": "code",
   "execution_count": 144,
   "metadata": {},
   "outputs": [
    {
     "name": "stdout",
     "output_type": "stream",
     "text": [
      "alpha=1\n",
      "alpha=1 Train\n",
      "MSE: 25.38793844433231, RMSE: 5.038644504659196, R2: 0.702397567056503\n",
      "----------------------------------------------------------------------------------------------------\n",
      "alpha=1 Test\n",
      "MSE: 35.48963616828034, RMSE: 5.957317866983458, R2: 0.5656050935497574\n",
      "----------------------------------------------------------------------------------------------------\n"
     ]
    }
   ],
   "source": [
    "lasso = Lasso() #alpha=1\n",
    "lasso.fit(X_train_scaled, y_train)\n",
    "pred_train = lasso.predict(X_train_scaled)\n",
    "pred_test = lasso.predict(X_test_scaled)\n",
    "\n",
    "print('alpha=1')\n",
    "print_regression_metrics(y_train, pred_train, \"alpha=1 Train\")\n",
    "print_regression_metrics(y_test, pred_test, \"alpha=1 Test\")"
   ]
  },
  {
   "cell_type": "code",
   "execution_count": 145,
   "metadata": {},
   "outputs": [
    {
     "data": {
      "text/plain": [
       "array([-0.        ,  0.        , -0.        ,  0.        , -0.        ,\n",
       "        2.52933025, -0.        , -0.        , -0.        , -0.22763148,\n",
       "       -1.70088382,  0.13186059, -3.60565498])"
      ]
     },
     "execution_count": 145,
     "metadata": {},
     "output_type": "execute_result"
    }
   ],
   "source": [
    "lasso.coef_"
   ]
  },
  {
   "cell_type": "code",
   "execution_count": 152,
   "metadata": {},
   "outputs": [
    {
     "name": "stdout",
     "output_type": "stream",
     "text": [
      "alpha=10\n",
      "alpha=10 Train\n",
      "MSE: 85.30823553163789, RMSE: 9.236245748768159, R2: 0.0\n",
      "----------------------------------------------------------------------------------------------------\n",
      "alpha=10 Test\n",
      "MSE: 81.7904659829155, RMSE: 9.043808157126925, R2: -0.001119359203955339\n",
      "----------------------------------------------------------------------------------------------------\n"
     ]
    }
   ],
   "source": [
    "lasso = Lasso(alpha=10, random_state=0) #alpha=10\n",
    "lasso.fit(X_train_scaled, y_train)\n",
    "pred_train = lasso.predict(X_train_scaled)\n",
    "pred_test = lasso.predict(X_test_scaled)\n",
    "\n",
    "print('alpha=10')\n",
    "print_regression_metrics(y_train, pred_train, \"alpha=10 Train\")\n",
    "print_regression_metrics(y_test, pred_test, \"alpha=10 Test\")"
   ]
  },
  {
   "cell_type": "code",
   "execution_count": 153,
   "metadata": {},
   "outputs": [
    {
     "data": {
      "text/plain": [
       "22.608707124010557"
      ]
     },
     "execution_count": 153,
     "metadata": {},
     "output_type": "execute_result"
    }
   ],
   "source": [
    "lasso.intercept_"
   ]
  },
  {
   "cell_type": "code",
   "execution_count": 154,
   "metadata": {},
   "outputs": [
    {
     "data": {
      "text/plain": [
       "array([-0.,  0., -0.,  0., -0.,  0., -0.,  0., -0., -0., -0.,  0., -0.])"
      ]
     },
     "execution_count": 154,
     "metadata": {},
     "output_type": "execute_result"
    }
   ],
   "source": [
    "lasso.coef_"
   ]
  },
  {
   "cell_type": "markdown",
   "metadata": {},
   "source": [
    "### Ridge, Lasso => Boston Dataset (PolynomialFeatures로 전처리한) "
   ]
  },
  {
   "cell_type": "code",
   "execution_count": 160,
   "metadata": {},
   "outputs": [],
   "source": [
    "alpha_list = [0.01, 0.1, 1, 10, 100]"
   ]
  },
  {
   "cell_type": "code",
   "execution_count": 161,
   "metadata": {},
   "outputs": [],
   "source": [
    "from sklearn.linear_model import Ridge, Lasso, LinearRegression"
   ]
  },
  {
   "cell_type": "code",
   "execution_count": 164,
   "metadata": {},
   "outputs": [
    {
     "name": "stdout",
     "output_type": "stream",
     "text": [
      "LinearRegression Train\n",
      "MSE: 4.090362612543778, RMSE: 2.0224644898103348, R2: 0.9520519609032729\n",
      "----------------------------------------------------------------------------------------------------\n",
      "LinearRegression Test\n",
      "MSE: 32.06913512158057, RMSE: 5.662961691692835, R2: 0.6074721959666065\n",
      "----------------------------------------------------------------------------------------------------\n"
     ]
    }
   ],
   "source": [
    "lr = LinearRegression()\n",
    "lr.fit(X_train_scaled_poly, y_train)\n",
    "\n",
    "pred_train_lr = lr.predict(X_train_scaled_poly)\n",
    "pred_test_lr = lr.predict(X_test_scaled_poly)\n",
    "\n",
    "print_regression_metrics(y_train, pred_train_lr, title=\"LinearRegression Train\")\n",
    "print_regression_metrics(y_test, pred_test_lr, title=\"LinearRegression Test\")"
   ]
  },
  {
   "cell_type": "code",
   "execution_count": 165,
   "metadata": {},
   "outputs": [],
   "source": [
    "# Ridge 의 alpha값 변화에 따른 R2 값을 저장할 리스트\n",
    "ridge_train_metrics_list = []\n",
    "ridge_test_metrics_list = []\n",
    "\n",
    "for alpha in alpha_list:\n",
    "    ridge = Ridge(alpha=alpha, random_state=0)\n",
    "    ridge.fit(X_train_scaled_poly, y_train)\n",
    "    pred_train = ridge.predict(X_train_scaled_poly)\n",
    "    pred_test = ridge.predict(X_test_scaled_poly)\n",
    "    ridge_train_metrics_list.append(r2_score(y_train, pred_train))\n",
    "    ridge_test_metrics_list.append(r2_score(y_test, pred_test))"
   ]
  },
  {
   "cell_type": "code",
   "execution_count": 166,
   "metadata": {},
   "outputs": [],
   "source": [
    "ridge_result = pd.DataFrame({\n",
    "    \"alpha\":alpha_list,\n",
    "    \"train\":ridge_train_metrics_list,\n",
    "    \"test\":ridge_test_metrics_list\n",
    "})"
   ]
  },
  {
   "cell_type": "code",
   "execution_count": 167,
   "metadata": {},
   "outputs": [
    {
     "data": {
      "text/html": [
       "<div>\n",
       "<style scoped>\n",
       "    .dataframe tbody tr th:only-of-type {\n",
       "        vertical-align: middle;\n",
       "    }\n",
       "\n",
       "    .dataframe tbody tr th {\n",
       "        vertical-align: top;\n",
       "    }\n",
       "\n",
       "    .dataframe thead th {\n",
       "        text-align: right;\n",
       "    }\n",
       "</style>\n",
       "<table border=\"1\" class=\"dataframe\">\n",
       "  <thead>\n",
       "    <tr style=\"text-align: right;\">\n",
       "      <th></th>\n",
       "      <th>alpha</th>\n",
       "      <th>train</th>\n",
       "      <th>test</th>\n",
       "    </tr>\n",
       "  </thead>\n",
       "  <tbody>\n",
       "    <tr>\n",
       "      <th>0</th>\n",
       "      <td>0.01</td>\n",
       "      <td>0.951620</td>\n",
       "      <td>0.617099</td>\n",
       "    </tr>\n",
       "    <tr>\n",
       "      <th>1</th>\n",
       "      <td>0.10</td>\n",
       "      <td>0.951046</td>\n",
       "      <td>0.628387</td>\n",
       "    </tr>\n",
       "    <tr>\n",
       "      <th>2</th>\n",
       "      <td>1.00</td>\n",
       "      <td>0.948182</td>\n",
       "      <td>0.669643</td>\n",
       "    </tr>\n",
       "    <tr>\n",
       "      <th>3</th>\n",
       "      <td>10.00</td>\n",
       "      <td>0.938182</td>\n",
       "      <td>0.768305</td>\n",
       "    </tr>\n",
       "    <tr>\n",
       "      <th>4</th>\n",
       "      <td>100.00</td>\n",
       "      <td>0.901260</td>\n",
       "      <td>0.761119</td>\n",
       "    </tr>\n",
       "  </tbody>\n",
       "</table>\n",
       "</div>"
      ],
      "text/plain": [
       "    alpha     train      test\n",
       "0    0.01  0.951620  0.617099\n",
       "1    0.10  0.951046  0.628387\n",
       "2    1.00  0.948182  0.669643\n",
       "3   10.00  0.938182  0.768305\n",
       "4  100.00  0.901260  0.761119"
      ]
     },
     "execution_count": 167,
     "metadata": {},
     "output_type": "execute_result"
    }
   ],
   "source": [
    "ridge_result"
   ]
  },
  {
   "cell_type": "code",
   "execution_count": 168,
   "metadata": {},
   "outputs": [
    {
     "data": {
      "text/plain": [
       "(379, 104)"
      ]
     },
     "execution_count": 168,
     "metadata": {},
     "output_type": "execute_result"
    }
   ],
   "source": [
    "X_train_scaled_poly.shape"
   ]
  },
  {
   "cell_type": "code",
   "execution_count": 169,
   "metadata": {},
   "outputs": [],
   "source": [
    "lasso_train_metrics_list = []\n",
    "lasso_test_metrics_list = []\n",
    "\n",
    "for alpha in alpha_list:\n",
    "    lasso = Lasso(alpha=alpha, random_state=0)\n",
    "    lasso.fit(X_train_scaled_poly, y_train)\n",
    "    pred_train = lasso.predict(X_train_scaled_poly)\n",
    "    pred_test = lasso.predict(X_test_scaled_poly)\n",
    "    lasso_train_metrics_list.append(r2_score(y_train, pred_train))\n",
    "    lasso_test_metrics_list.append(r2_score(y_test, pred_test))"
   ]
  },
  {
   "cell_type": "code",
   "execution_count": 170,
   "metadata": {},
   "outputs": [],
   "source": [
    "lasso_result = pd.DataFrame({\n",
    "    \"alpha\":alpha_list,\n",
    "    \"train\":lasso_train_metrics_list,\n",
    "    \"test\":lasso_test_metrics_list\n",
    "})"
   ]
  },
  {
   "cell_type": "code",
   "execution_count": 171,
   "metadata": {},
   "outputs": [
    {
     "data": {
      "text/html": [
       "<div>\n",
       "<style scoped>\n",
       "    .dataframe tbody tr th:only-of-type {\n",
       "        vertical-align: middle;\n",
       "    }\n",
       "\n",
       "    .dataframe tbody tr th {\n",
       "        vertical-align: top;\n",
       "    }\n",
       "\n",
       "    .dataframe thead th {\n",
       "        text-align: right;\n",
       "    }\n",
       "</style>\n",
       "<table border=\"1\" class=\"dataframe\">\n",
       "  <thead>\n",
       "    <tr style=\"text-align: right;\">\n",
       "      <th></th>\n",
       "      <th>alpha</th>\n",
       "      <th>train</th>\n",
       "      <th>test</th>\n",
       "    </tr>\n",
       "  </thead>\n",
       "  <tbody>\n",
       "    <tr>\n",
       "      <th>0</th>\n",
       "      <td>0.01</td>\n",
       "      <td>0.944940</td>\n",
       "      <td>0.687005</td>\n",
       "    </tr>\n",
       "    <tr>\n",
       "      <th>1</th>\n",
       "      <td>0.10</td>\n",
       "      <td>0.910694</td>\n",
       "      <td>0.776997</td>\n",
       "    </tr>\n",
       "    <tr>\n",
       "      <th>2</th>\n",
       "      <td>1.00</td>\n",
       "      <td>0.802262</td>\n",
       "      <td>0.695405</td>\n",
       "    </tr>\n",
       "    <tr>\n",
       "      <th>3</th>\n",
       "      <td>10.00</td>\n",
       "      <td>0.008723</td>\n",
       "      <td>0.009718</td>\n",
       "    </tr>\n",
       "    <tr>\n",
       "      <th>4</th>\n",
       "      <td>100.00</td>\n",
       "      <td>0.000000</td>\n",
       "      <td>-0.001119</td>\n",
       "    </tr>\n",
       "  </tbody>\n",
       "</table>\n",
       "</div>"
      ],
      "text/plain": [
       "    alpha     train      test\n",
       "0    0.01  0.944940  0.687005\n",
       "1    0.10  0.910694  0.776997\n",
       "2    1.00  0.802262  0.695405\n",
       "3   10.00  0.008723  0.009718\n",
       "4  100.00  0.000000 -0.001119"
      ]
     },
     "execution_count": 171,
     "metadata": {},
     "output_type": "execute_result"
    }
   ],
   "source": [
    "lasso_result"
   ]
  },
  {
   "cell_type": "markdown",
   "metadata": {},
   "source": [
    "## 엘라스틱넷\n",
    "- 릿지와 라쏘를 절충한 모델.\n",
    "- 규제항에 릿지, 회귀 규제항을 더해서 추가한다. \n",
    "- 혼합뷰율 $r$을 사용해 혼합정도를 조절\n",
    "- $r=0$이면 릿지와 같고 $r=1$이면 라쏘와 같다.\n",
    "\n",
    "$$\n",
    "\\text{손실함수}(w) = \\text{MSE}(w) + r\\alpha \\sum_{i=1}^{n}{\\left| w_i \\right|}  + \\cfrac{1-r}{2}\\alpha\\sum_{i=1}^{n}{w_{i}^{2}}\n",
    "$$"
   ]
  },
  {
   "cell_type": "code",
   "execution_count": 172,
   "metadata": {},
   "outputs": [],
   "source": [
    "from sklearn.linear_model import ElasticNet"
   ]
  },
  {
   "cell_type": "code",
   "execution_count": 177,
   "metadata": {},
   "outputs": [],
   "source": [
    "elastic = ElasticNet(alpha=0.1, l1_ratio=0.5) #L1규제(Lasso) 비율: 0.4, L2규제(Ridge) 비율: 0.6\n",
    "elastic.fit(X_train_scaled_poly, y_train)\n",
    "\n",
    "pred_train = elastic.predict(X_train_scaled_poly)\n",
    "pred_test = elastic.predict(X_test_scaled_poly)"
   ]
  },
  {
   "cell_type": "code",
   "execution_count": 178,
   "metadata": {},
   "outputs": [
    {
     "name": "stdout",
     "output_type": "stream",
     "text": [
      "Train\n",
      "MSE: 6.975316104503311, RMSE: 2.6410823736686653, R2: 0.9182339657943528\n",
      "----------------------------------------------------------------------------------------------------\n",
      "Test\n",
      "MSE: 17.425921064062766, RMSE: 4.174436616366664, R2: 0.7867058621131069\n",
      "----------------------------------------------------------------------------------------------------\n"
     ]
    }
   ],
   "source": [
    "print_regression_metrics(y_train, pred_train, title='Train')\n",
    "print_regression_metrics(y_test, pred_test, title='Test')"
   ]
  },
  {
   "cell_type": "code",
   "execution_count": null,
   "metadata": {},
   "outputs": [],
   "source": []
  },
  {
   "cell_type": "markdown",
   "metadata": {},
   "source": [
    "# 정리\n",
    "- 일반적으로 선형회귀의 경우 어느정도 규제가 있는 경우가 성능이 좋다.\n",
    "- 기본적으로 릿지를 사용한다.\n",
    "- Target에 영향을 주는 Feature가 몇 개뿐일 경우 특성의 가중치를 0으로 만들어 주는 라쏘 사용한다. \n",
    "- 특성 수가 학습 샘플 수 보다 많거나 feature간에 연관성이 높을 때는 엘라스틱넷을 사용한다."
   ]
  }
 ],
 "metadata": {
  "kernelspec": {
   "display_name": "Python 3 (ipykernel)",
   "language": "python",
   "name": "python3"
  },
  "language_info": {
   "codemirror_mode": {
    "name": "ipython",
    "version": 3
   },
   "file_extension": ".py",
   "mimetype": "text/x-python",
   "name": "python",
   "nbconvert_exporter": "python",
   "pygments_lexer": "ipython3",
   "version": "3.8.10"
  },
  "toc": {
   "base_numbering": 1,
   "nav_menu": {},
   "number_sections": false,
   "sideBar": true,
   "skip_h1_title": false,
   "title_cell": "Table of Contents",
   "title_sidebar": "Contents",
   "toc_cell": false,
   "toc_position": {},
   "toc_section_display": true,
   "toc_window_display": false
  },
  "varInspector": {
   "cols": {
    "lenName": 16,
    "lenType": 16,
    "lenVar": 40
   },
   "kernels_config": {
    "python": {
     "delete_cmd_postfix": "",
     "delete_cmd_prefix": "del ",
     "library": "var_list.py",
     "varRefreshCmd": "print(var_dic_list())"
    },
    "r": {
     "delete_cmd_postfix": ") ",
     "delete_cmd_prefix": "rm(",
     "library": "var_list.r",
     "varRefreshCmd": "cat(var_dic_list()) "
    }
   },
   "types_to_exclude": [
    "module",
    "function",
    "builtin_function_or_method",
    "instance",
    "_Feature"
   ],
   "window_display": false
  }
 },
 "nbformat": 4,
 "nbformat_minor": 2
}
