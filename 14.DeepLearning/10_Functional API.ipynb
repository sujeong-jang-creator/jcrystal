{
 "cells": [
  {
   "cell_type": "code",
   "execution_count": 17,
   "metadata": {},
   "outputs": [],
   "source": [
    "class Person:\n",
    "    \n",
    "    # initailizer\n",
    "    # __이름__() : 매직메소드, Dundu 메소드, special method\n",
    "    def __init__(self, name):\n",
    "        self.name = name\n",
    "    \n",
    "    def __str__(self):\n",
    "        return self.name\n",
    "    \n",
    "    # 객체를 함수처럼 사용할 수 있도록 하는 매직매소드.\n",
    "    # 객체()\n",
    "    def __call__(self, age):\n",
    "        print(\"__call___\", self.name, age)\n",
    "        return age+50\n",
    "    \n",
    "    "
   ]
  },
  {
   "cell_type": "code",
   "execution_count": 14,
   "metadata": {},
   "outputs": [
    {
     "name": "stdout",
     "output_type": "stream",
     "text": [
      "__call___ 이순신\n"
     ]
    }
   ],
   "source": [
    "p = Person('이순신')\n",
    "p() #__call__() 매직매서드를 호출"
   ]
  },
  {
   "cell_type": "code",
   "execution_count": 16,
   "metadata": {},
   "outputs": [
    {
     "name": "stdout",
     "output_type": "stream",
     "text": [
      "__call___ 김영수 30\n"
     ]
    }
   ],
   "source": [
    "p = Person('김영수')\n",
    "p(30)"
   ]
  },
  {
   "cell_type": "code",
   "execution_count": 18,
   "metadata": {},
   "outputs": [
    {
     "name": "stdout",
     "output_type": "stream",
     "text": [
      "__call___ 박영희 20\n",
      "70\n"
     ]
    }
   ],
   "source": [
    "p = Person('박영희')\n",
    "r = p(20)\n",
    "print(r)"
   ]
  },
  {
   "cell_type": "code",
   "execution_count": 19,
   "metadata": {},
   "outputs": [
    {
     "name": "stdout",
     "output_type": "stream",
     "text": [
      "__call___ 박철우 50\n"
     ]
    },
    {
     "data": {
      "text/plain": [
       "100"
      ]
     },
     "execution_count": 19,
     "metadata": {},
     "output_type": "execute_result"
    }
   ],
   "source": [
    "result = Person(\"박철우\")(50)\n",
    "result"
   ]
  },
  {
   "cell_type": "markdown",
   "metadata": {},
   "source": [
    "# Functional API\n",
    "- Sequential 모델은 각 Layer들의 입력과 출력이 하나라고 가정한다. 그리고 각각의 Layer(입력층, 은닉층, 출력층)들을 차례대로 쌓아 구성한다. 그래서 다양한 구조의 네트워크를 만드는데 한계가 있다.\n",
    "- 함수형 API를 사용하면 **다중입력, 다중출력, 그래프 형태**의 다양한 형태의 모델을 유연하게 구성할 수 있다.\n",
    "\n",
    "- Functional API는 직접 텐서들의 입출력을 다룬다. \n",
    "- 함수호출 처럼 Layer를 이용하여 입력 텐서(Input Tensor)를 입력 받고 그 결과를 출력 텐서(Output Tensor)로 반환하는 형식으로 모델을 구현한다.\n",
    "\n",
    "\n",
    "```\n",
    "input_tensor = Input(shape=(16,))\n",
    "dense = layers.Dense(32, activation='relu')(input_tensor)\n",
    "output_tensor = layers.Dense(32, activation='sigmoid')(dense)\n",
    "\n",
    "model = models.Model(input_tensor, output_tensor)\n",
    "```"
   ]
  },
  {
   "cell_type": "code",
   "execution_count": null,
   "metadata": {},
   "outputs": [],
   "source": []
  },
  {
   "cell_type": "code",
   "execution_count": null,
   "metadata": {},
   "outputs": [],
   "source": []
  },
  {
   "cell_type": "code",
   "execution_count": null,
   "metadata": {},
   "outputs": [],
   "source": []
  },
  {
   "cell_type": "code",
   "execution_count": null,
   "metadata": {},
   "outputs": [],
   "source": []
  },
  {
   "cell_type": "code",
   "execution_count": null,
   "metadata": {},
   "outputs": [],
   "source": []
  },
  {
   "cell_type": "markdown",
   "metadata": {},
   "source": [
    "## Sequential, Functional API "
   ]
  },
  {
   "cell_type": "code",
   "execution_count": 20,
   "metadata": {},
   "outputs": [],
   "source": [
    "import tensorflow as tf\n",
    "from tensorflow import keras\n",
    "from tensorflow.keras import models, layers"
   ]
  },
  {
   "cell_type": "markdown",
   "metadata": {},
   "source": [
    "### Sequential"
   ]
  },
  {
   "cell_type": "code",
   "execution_count": null,
   "metadata": {},
   "outputs": [],
   "source": [
    "출력데이터_1 = layers.Conv2D(filters=16, kernel_size=3, padding='same', activation='relu')(입력데이터)"
   ]
  },
  {
   "cell_type": "code",
   "execution_count": null,
   "metadata": {},
   "outputs": [],
   "source": [
    "출력데이터_2 = layers.MaxPooling2D(padding='same')(출력데이터_1)"
   ]
  },
  {
   "cell_type": "code",
   "execution_count": null,
   "metadata": {},
   "outputs": [],
   "source": [
    "layers.Conv2D(filters=16, kernel_size=3, padding='same', activation='relu')(출력데이터_1)"
   ]
  },
  {
   "cell_type": "code",
   "execution_count": null,
   "metadata": {},
   "outputs": [],
   "source": [
    "출력데이터_3 = layers.Flatten()(출력데이터_2)"
   ]
  },
  {
   "cell_type": "code",
   "execution_count": 21,
   "metadata": {},
   "outputs": [],
   "source": [
    "seq_model = keras.Sequential()\n",
    "seq_model.add(layers.InputLayer(input_shape=(32,32,3)))\n",
    "seq_model.add(layers.Conv2D(filters=16, kernel_size=3, padding='same', activation='relu'))\n",
    "seq_model.add(layers.MaxPooling2D(padding='same'))\n",
    "seq_model.add(layers.Flatten())\n",
    "seq_model.add(layers.Dense(units=8, activation='relu'))\n",
    "seq_model.add(layers.Dense(units=1, activation='sigmoid'))"
   ]
  },
  {
   "cell_type": "code",
   "execution_count": null,
   "metadata": {},
   "outputs": [],
   "source": [
    "# seq_model.predict(image_np)"
   ]
  },
  {
   "cell_type": "markdown",
   "metadata": {},
   "source": [
    "### Functional"
   ]
  },
  {
   "cell_type": "code",
   "execution_count": 24,
   "metadata": {},
   "outputs": [],
   "source": [
    "# 레이어들의 구조를 먼저 만든다.\n",
    "input_tensor = layers.Input(shape=(32,32,3))  #Input Layer는 입력을 지정하지 않는다. (model.predict(인풋))\n",
    "\n",
    "conv_tensor = layers.Conv2D(filters=16, kernel_size=3, padding='same', activation='relu')(input_tensor)\n",
    "\n",
    "mp_tensor = layers.MaxPooling2D(padding=\"same\")(conv_tensor)\n",
    "\n",
    "flatten_tensor = layers.Flatten()(mp_tensor)\n",
    "\n",
    "d1_tensor = layers.Dense(units=8, activation='relu')(flatten_tensor)\n",
    "\n",
    "output_tensor = layers.Dense(units=1, activation='sigmoid')(d1_tensor)\n",
    "\n",
    "# 모델 정의\n",
    "fn_model = models.Model(input_tensor, output_tensor)  #입력 tensor, 출력 tensor\n",
    "\n",
    "# 모델 컴파일, 모델 학습, 평가, 추론 은 동일"
   ]
  },
  {
   "cell_type": "code",
   "execution_count": 25,
   "metadata": {},
   "outputs": [
    {
     "name": "stdout",
     "output_type": "stream",
     "text": [
      "Model: \"model\"\n",
      "_________________________________________________________________\n",
      "Layer (type)                 Output Shape              Param #   \n",
      "=================================================================\n",
      "input_4 (InputLayer)         [(None, 32, 32, 3)]       0         \n",
      "_________________________________________________________________\n",
      "conv2d_2 (Conv2D)            (None, 32, 32, 16)        448       \n",
      "_________________________________________________________________\n",
      "max_pooling2d_1 (MaxPooling2 (None, 16, 16, 16)        0         \n",
      "_________________________________________________________________\n",
      "flatten_1 (Flatten)          (None, 4096)              0         \n",
      "_________________________________________________________________\n",
      "dense_2 (Dense)              (None, 8)                 32776     \n",
      "_________________________________________________________________\n",
      "dense_3 (Dense)              (None, 1)                 9         \n",
      "=================================================================\n",
      "Total params: 33,233\n",
      "Trainable params: 33,233\n",
      "Non-trainable params: 0\n",
      "_________________________________________________________________\n"
     ]
    }
   ],
   "source": [
    "fn_model.summary()"
   ]
  },
  {
   "cell_type": "code",
   "execution_count": null,
   "metadata": {},
   "outputs": [],
   "source": [
    "# fn_model.predict(img_np)"
   ]
  },
  {
   "cell_type": "code",
   "execution_count": 26,
   "metadata": {},
   "outputs": [],
   "source": [
    "#  출력 변수들은 통일. 일반적으로 block 단위로 동일한 변수명을 사용.\n",
    "input_tensor = layers.Input(shape=(32,32,3))  #Input Layer는 입력을 지정하지 않는다. (model.predict(인풋))\n",
    "\n",
    "x1 = layers.Conv2D(filters=16, kernel_size=3, padding='same', activation='relu')(input_tensor)\n",
    "x1 = layers.MaxPooling2D(padding=\"same\")(x1)\n",
    "\n",
    "x2 = layers.Conv2D(filters=16, kernel_size=3, padding='same', activation='relu')(x1)\n",
    "x2 = layers.MaxPooling2D(padding=\"same\")(x2)\n",
    "\n",
    "\n",
    "x3 = layers.Flatten()(x2)\n",
    "x3 = layers.Dense(units=8, activation='relu')(x3)\n",
    "\n",
    "# 출력레이어\n",
    "output_tensor = layers.Dense(units=1, activation='sigmoid')(x3)\n",
    "\n",
    "# 모델 정의\n",
    "fn_model = models.Model(input_tensor, output_tensor)  #입력 tensor, 출력 tensor"
   ]
  },
  {
   "cell_type": "code",
   "execution_count": 28,
   "metadata": {},
   "outputs": [
    {
     "name": "stdout",
     "output_type": "stream",
     "text": [
      "Model: \"model_1\"\n",
      "_________________________________________________________________\n",
      "Layer (type)                 Output Shape              Param #   \n",
      "=================================================================\n",
      "input_5 (InputLayer)         [(None, 32, 32, 3)]       0         \n",
      "_________________________________________________________________\n",
      "conv2d_3 (Conv2D)            (None, 32, 32, 16)        448       \n",
      "_________________________________________________________________\n",
      "max_pooling2d_2 (MaxPooling2 (None, 16, 16, 16)        0         \n",
      "_________________________________________________________________\n",
      "conv2d_4 (Conv2D)            (None, 16, 16, 16)        2320      \n",
      "_________________________________________________________________\n",
      "max_pooling2d_3 (MaxPooling2 (None, 8, 8, 16)          0         \n",
      "_________________________________________________________________\n",
      "flatten_2 (Flatten)          (None, 1024)              0         \n",
      "_________________________________________________________________\n",
      "dense_4 (Dense)              (None, 8)                 8200      \n",
      "_________________________________________________________________\n",
      "dense_5 (Dense)              (None, 1)                 9         \n",
      "=================================================================\n",
      "Total params: 10,977\n",
      "Trainable params: 10,977\n",
      "Non-trainable params: 0\n",
      "_________________________________________________________________\n"
     ]
    }
   ],
   "source": [
    "fn_model.summary()"
   ]
  },
  {
   "cell_type": "code",
   "execution_count": 29,
   "metadata": {},
   "outputs": [],
   "source": [
    "# trainable 설정\n",
    "input_tensor = layers.Input(shape=(32,32,3))  #Input Layer는 입력을 지정하지 않는다. (model.predict(인풋))\n",
    "\n",
    "conv_layer = layers.Conv2D(filters=16, kernel_size=3, padding='same', activation='relu')\n",
    "conv_layer.trainable = False\n",
    "\n",
    "x1 = conv_layer(input_tensor) \n",
    "x1 = layers.MaxPooling2D(padding=\"same\")(x1)\n",
    "\n",
    "x2 = layers.Conv2D(filters=16, kernel_size=3, padding='same', activation='relu')(x1)\n",
    "x2 = layers.MaxPooling2D(padding=\"same\")(x2)\n",
    "\n",
    "\n",
    "x3 = layers.Flatten()(x2)\n",
    "x3 = layers.Dense(units=8, activation='relu')(x3)\n",
    "\n",
    "# 출력레이어\n",
    "output_tensor = layers.Dense(units=1, activation='sigmoid')(x3)\n",
    "\n",
    "# 모델 정의\n",
    "fn_model = models.Model(input_tensor, output_tensor)  #입력 tensor, 출력 tensor"
   ]
  },
  {
   "cell_type": "code",
   "execution_count": 31,
   "metadata": {
    "collapsed": true
   },
   "outputs": [
    {
     "name": "stdout",
     "output_type": "stream",
     "text": [
      "Model: \"model_2\"\n",
      "_________________________________________________________________\n",
      "Layer (type)                 Output Shape              Param #   \n",
      "=================================================================\n",
      "input_6 (InputLayer)         [(None, 32, 32, 3)]       0         \n",
      "_________________________________________________________________\n",
      "conv2d_5 (Conv2D)            (None, 32, 32, 16)        448       \n",
      "_________________________________________________________________\n",
      "max_pooling2d_4 (MaxPooling2 (None, 16, 16, 16)        0         \n",
      "_________________________________________________________________\n",
      "conv2d_6 (Conv2D)            (None, 16, 16, 16)        2320      \n",
      "_________________________________________________________________\n",
      "max_pooling2d_5 (MaxPooling2 (None, 8, 8, 16)          0         \n",
      "_________________________________________________________________\n",
      "flatten_3 (Flatten)          (None, 1024)              0         \n",
      "_________________________________________________________________\n",
      "dense_6 (Dense)              (None, 8)                 8200      \n",
      "_________________________________________________________________\n",
      "dense_7 (Dense)              (None, 1)                 9         \n",
      "=================================================================\n",
      "Total params: 10,977\n",
      "Trainable params: 10,529\n",
      "Non-trainable params: 448\n",
      "_________________________________________________________________\n"
     ]
    }
   ],
   "source": [
    "fn_model.summary()"
   ]
  },
  {
   "cell_type": "code",
   "execution_count": 32,
   "metadata": {},
   "outputs": [],
   "source": [
    "# transfer learning\n",
    "from tensorflow.keras.applications import VGG16"
   ]
  },
  {
   "cell_type": "code",
   "execution_count": 38,
   "metadata": {},
   "outputs": [],
   "source": [
    "conv_base = VGG16(include_top=False)\n",
    "conv_base.trainable=False"
   ]
  },
  {
   "cell_type": "code",
   "execution_count": 39,
   "metadata": {},
   "outputs": [
    {
     "name": "stdout",
     "output_type": "stream",
     "text": [
      "Model: \"model_4\"\n",
      "_________________________________________________________________\n",
      "Layer (type)                 Output Shape              Param #   \n",
      "=================================================================\n",
      "input_11 (InputLayer)        [(None, 224, 224, 3)]     0         \n",
      "_________________________________________________________________\n",
      "vgg16 (Functional)           (None, None, None, 512)   14714688  \n",
      "_________________________________________________________________\n",
      "global_average_pooling2d_1 ( (None, 512)               0         \n",
      "_________________________________________________________________\n",
      "dense_9 (Dense)              (None, 1)                 513       \n",
      "=================================================================\n",
      "Total params: 14,715,201\n",
      "Trainable params: 513\n",
      "Non-trainable params: 14,714,688\n",
      "_________________________________________________________________\n"
     ]
    }
   ],
   "source": [
    "input_tensor = layers.Input(shape=(224,224,3))\n",
    "x = conv_base(input_tensor)\n",
    "x = layers.GlobalAveragePooling2D()(x)\n",
    "#출력\n",
    "output_tensor = layers.Dense(units=1, activation='sigmoid')(x)\n",
    "\n",
    "model = models.Model(input_tensor, output_tensor)\n",
    "\n",
    "model.compile(optimizer='adam', loss='binary_crossentropy', metrics=['accuracy'])\n",
    "model.summary()\n",
    "# model.fit(....)"
   ]
  },
  {
   "cell_type": "markdown",
   "metadata": {},
   "source": [
    "## 레이어를 합치는 함수\n",
    "- concatenate(list, axis=-1)\n",
    "    - 레이어들을 합친다\n",
    "    - list: 합칠 레이어들을 리스트에 묶어 전달\n",
    "    - axis: 합칠 기준축. (기본값: -1 : 마지막 축기준)\n",
    "- add(list), substract(list), multiply(list)\n",
    "    - 같은 index의 값들을 계산해서(더하기, 빼기, 곱하기) 하나의 레이어로 만든다.\n",
    "    - list: 합칠 레이어들을 리스트에 묶어 전달"
   ]
  },
  {
   "cell_type": "code",
   "execution_count": 67,
   "metadata": {},
   "outputs": [],
   "source": [
    "# ResNet 의 Residual Block \n",
    "input_tensor = layers.Input(shape=(32,32,3))\n",
    "\n",
    "x = layers.Conv2D(filters=64, kernel_size=3, padding='same')(input_tensor)\n",
    "#-----residual block\n",
    "x1 = layers.Conv2D(filters=64, kernel_size=3, padding='same')(x)\n",
    "x1 = layers.BatchNormalization()(x1)\n",
    "x1 = layers.ReLU()(x1)\n",
    "\n",
    "x2 = layers.Conv2D(filters=64, kernel_size=3, padding='same')(x1)\n",
    "x2 = layers.BatchNormalization()(x2)\n",
    "\n",
    "# input_tensor(입력), x2(block의 출력)을 더한다.\n",
    "add_result = layers.add([x, x2])  \n",
    "\n",
    "output_tensor = layers.ReLU()(add_result)\n",
    "\n",
    "rb_model = models.Model(input_tensor, output_tensor)"
   ]
  },
  {
   "cell_type": "code",
   "execution_count": 44,
   "metadata": {},
   "outputs": [
    {
     "name": "stdout",
     "output_type": "stream",
     "text": [
      "Model: \"model_5\"\n",
      "__________________________________________________________________________________________________\n",
      "Layer (type)                    Output Shape         Param #     Connected to                     \n",
      "==================================================================================================\n",
      "input_15 (InputLayer)           [(None, 32, 32, 3)]  0                                            \n",
      "__________________________________________________________________________________________________\n",
      "conv2d_10 (Conv2D)              (None, 32, 32, 64)   1792        input_15[0][0]                   \n",
      "__________________________________________________________________________________________________\n",
      "conv2d_11 (Conv2D)              (None, 32, 32, 64)   36928       conv2d_10[0][0]                  \n",
      "__________________________________________________________________________________________________\n",
      "batch_normalization_3 (BatchNor (None, 32, 32, 64)   256         conv2d_11[0][0]                  \n",
      "__________________________________________________________________________________________________\n",
      "re_lu_1 (ReLU)                  (None, 32, 32, 64)   0           batch_normalization_3[0][0]      \n",
      "__________________________________________________________________________________________________\n",
      "conv2d_12 (Conv2D)              (None, 32, 32, 64)   36928       re_lu_1[0][0]                    \n",
      "__________________________________________________________________________________________________\n",
      "batch_normalization_4 (BatchNor (None, 32, 32, 64)   256         conv2d_12[0][0]                  \n",
      "__________________________________________________________________________________________________\n",
      "add_1 (Add)                     (None, 32, 32, 64)   0           conv2d_10[0][0]                  \n",
      "                                                                 batch_normalization_4[0][0]      \n",
      "__________________________________________________________________________________________________\n",
      "re_lu_2 (ReLU)                  (None, 32, 32, 64)   0           add_1[0][0]                      \n",
      "==================================================================================================\n",
      "Total params: 76,160\n",
      "Trainable params: 75,904\n",
      "Non-trainable params: 256\n",
      "__________________________________________________________________________________________________\n"
     ]
    }
   ],
   "source": [
    "rb_model.summary()"
   ]
  },
  {
   "cell_type": "code",
   "execution_count": 45,
   "metadata": {},
   "outputs": [
    {
     "data": {
      "image/png": "[encoded data removed]",
      "text/plain": [
       "<IPython.core.display.Image object>"
      ]
     },
     "execution_count": 45,
     "metadata": {},
     "output_type": "execute_result"
    }
   ],
   "source": [
    "keras.utils.plot_model(rb_model, show_shapes=True)"
   ]
  },
  {
   "cell_type": "code",
   "execution_count": null,
   "metadata": {},
   "outputs": [],
   "source": []
  },
  {
   "cell_type": "markdown",
   "metadata": {},
   "source": [
    "### 다중 출력 모델\n",
    "- 가정\n",
    "    - iris 데이터셋에서 꽃받침의 너비와 높이로 꽃입의 너비, 높이, 꽃 종류를 예측하는 모델\n",
    "    - 출력결과가 3개가 나와야 한다.\n",
    "- X: 꽃받침 너비, 높이\n",
    "- y: 꽃잎 너비, 높이, 꽃 종류"
   ]
  },
  {
   "cell_type": "code",
   "execution_count": 46,
   "metadata": {},
   "outputs": [
    {
     "data": {
      "text/plain": [
       "((150, 4), (150,))"
      ]
     },
     "execution_count": 46,
     "metadata": {},
     "output_type": "execute_result"
    }
   ],
   "source": [
    "from sklearn.datasets import load_iris\n",
    "\n",
    "X, y = load_iris(return_X_y=True)\n",
    "X.shape, y.shape"
   ]
  },
  {
   "cell_type": "code",
   "execution_count": 47,
   "metadata": {},
   "outputs": [
    {
     "data": {
      "text/plain": [
       "((150, 2), (150,), (150,), (150,))"
      ]
     },
     "execution_count": 47,
     "metadata": {},
     "output_type": "execute_result"
    }
   ],
   "source": [
    "# 꽃잎 너비: y1, 꽃잎 높이: y2, 종류: y3\n",
    "# X: [꽃받침 너비, 높이]\n",
    "\n",
    "y1 = X[:, 2]\n",
    "y2 = X[:, 3]\n",
    "y3 = y\n",
    "\n",
    "X = X[:, [0,1]]\n",
    "X.shape, y1.shape, y2.shape, y3.shape"
   ]
  },
  {
   "cell_type": "code",
   "execution_count": 49,
   "metadata": {},
   "outputs": [],
   "source": [
    "# 모델 정의 - 입력: X 출력: y1, y2, y3  (다중출력)\n",
    "input_tensor = layers.Input(shape=(2, ))\n",
    "# hidden\n",
    "x = layers.Dense(units=16, activation='relu')(input_tensor)\n",
    "x = layers.Dense(units=8, activation='relu')(x)\n",
    "\n",
    "# 출력 layer => 3\n",
    "output_1 = layers.Dense(units=1, name='petal_width_output')(x) #꽃잎 너비(연속형): 회귀 - units:1, activation: None\n",
    "output_2 = layers.Dense(units=1, name='petal_length_output')(x) #꽃잎 길이(연속형)\n",
    "output_3 = layers.Dense(units=3, activation='softmax', name='species_output')(x) #종류(범주형-다중분류): units: class개수, activation: softmax\n",
    "\n",
    "# o = layers.concatenate([o1, o2, o3])\n",
    "# layers.Dense(...)(o)\n",
    "\n",
    "# 모델\n",
    "model = models.Model(input_tensor, [output_1, output_2, output_3])  #input/output이 여러개일 경우 List로 묶어서 전달."
   ]
  },
  {
   "cell_type": "code",
   "execution_count": 50,
   "metadata": {},
   "outputs": [
    {
     "name": "stdout",
     "output_type": "stream",
     "text": [
      "Model: \"model_6\"\n",
      "__________________________________________________________________________________________________\n",
      "Layer (type)                    Output Shape         Param #     Connected to                     \n",
      "==================================================================================================\n",
      "input_16 (InputLayer)           [(None, 2)]          0                                            \n",
      "__________________________________________________________________________________________________\n",
      "dense_10 (Dense)                (None, 16)           48          input_16[0][0]                   \n",
      "__________________________________________________________________________________________________\n",
      "dense_11 (Dense)                (None, 8)            136         dense_10[0][0]                   \n",
      "__________________________________________________________________________________________________\n",
      "petal_width_output (Dense)      (None, 1)            9           dense_11[0][0]                   \n",
      "__________________________________________________________________________________________________\n",
      "petal_length_output (Dense)     (None, 1)            9           dense_11[0][0]                   \n",
      "__________________________________________________________________________________________________\n",
      "species_output (Dense)          (None, 3)            27          dense_11[0][0]                   \n",
      "==================================================================================================\n",
      "Total params: 229\n",
      "Trainable params: 229\n",
      "Non-trainable params: 0\n",
      "__________________________________________________________________________________________________\n"
     ]
    }
   ],
   "source": [
    "model.summary()"
   ]
  },
  {
   "cell_type": "code",
   "execution_count": 51,
   "metadata": {},
   "outputs": [
    {
     "data": {
      "image/png": "[encoded data removed]",
      "text/plain": [
       "<IPython.core.display.Image object>"
      ]
     },
     "execution_count": 51,
     "metadata": {},
     "output_type": "execute_result"
    }
   ],
   "source": [
    "keras.utils.plot_model(model, show_shapes=True)"
   ]
  },
  {
   "cell_type": "code",
   "execution_count": 55,
   "metadata": {},
   "outputs": [],
   "source": [
    "# 컴파일\n",
    "model.compile(optimizer='adam',\n",
    "              loss=[\"mse\", \"mse\", \"sparse_categorical_crossentropy\"]) #sparse_categorical_crossentropy: y(정답)을 내부적으로 원핫인코딩 처리후 오차계산을 해준다.\n",
    "\n",
    "# 출력(예측) 결과가 3개에 대한 각각의 loss 함수를 순서대로 리스트로 묶어서 전달.\n",
    "# 3개의 오차를 더해서 total loss를 계산한 뒤 total loss를 기반으로 역전파해서 파라미터들을 업데이트 한다."
   ]
  },
  {
   "cell_type": "code",
   "execution_count": 56,
   "metadata": {
    "collapsed": true
   },
   "outputs": [
    {
     "name": "stdout",
     "output_type": "stream",
     "text": [
      "Epoch 1/100\n",
      "5/5 [==============================] - 1s 86ms/step - loss: 35.1354 - petal_width_output_loss: 27.8650 - petal_length_output_loss: 5.6365 - species_output_loss: 1.6339 - val_loss: 59.8622 - val_petal_width_output_loss: 45.8096 - val_petal_length_output_loss: 11.3481 - val_species_output_loss: 2.7045\n",
      "Epoch 2/100\n",
      "5/5 [==============================] - 0s 15ms/step - loss: 32.9185 - petal_width_output_loss: 26.3052 - petal_length_output_loss: 5.0683 - species_output_loss: 1.5451 - val_loss: 56.4796 - val_petal_width_output_loss: 43.6326 - val_petal_length_output_loss: 10.3226 - val_species_output_loss: 2.5244\n",
      "Epoch 3/100\n",
      "5/5 [==============================] - 0s 17ms/step - loss: 30.8771 - petal_width_output_loss: 24.8966 - petal_length_output_loss: 4.5098 - species_output_loss: 1.4706 - val_loss: 53.2652 - val_petal_width_output_loss: 41.5864 - val_petal_length_output_loss: 9.3233 - val_species_output_loss: 2.3555\n",
      "Epoch 4/100\n",
      "5/5 [==============================] - 0s 14ms/step - loss: 28.9372 - petal_width_output_loss: 23.5583 - petal_length_output_loss: 3.9770 - species_output_loss: 1.4020 - val_loss: 50.2717 - val_petal_width_output_loss: 39.6745 - val_petal_length_output_loss: 8.3921 - val_species_output_loss: 2.2052\n",
      "Epoch 5/100\n",
      "5/5 [==============================] - 0s 16ms/step - loss: 27.2018 - petal_width_output_loss: 22.3485 - petal_length_output_loss: 3.5053 - species_output_loss: 1.3481 - val_loss: 47.4799 - val_petal_width_output_loss: 37.8731 - val_petal_length_output_loss: 7.5385 - val_species_output_loss: 2.0684\n",
      "Epoch 6/100\n",
      "5/5 [==============================] - 0s 17ms/step - loss: 25.5611 - petal_width_output_loss: 21.1908 - petal_length_output_loss: 3.0662 - species_output_loss: 1.3041 - val_loss: 44.9137 - val_petal_width_output_loss: 36.1860 - val_petal_length_output_loss: 6.7792 - val_species_output_loss: 1.9485\n",
      "Epoch 7/100\n",
      "5/5 [==============================] - 0s 14ms/step - loss: 24.0675 - petal_width_output_loss: 20.1144 - petal_length_output_loss: 2.6862 - species_output_loss: 1.2670 - val_loss: 42.5132 - val_petal_width_output_loss: 34.5864 - val_petal_length_output_loss: 6.0854 - val_species_output_loss: 1.8415\n",
      "Epoch 8/100\n",
      "5/5 [==============================] - 0s 16ms/step - loss: 22.7380 - petal_width_output_loss: 19.1388 - petal_length_output_loss: 2.3628 - species_output_loss: 1.2364 - val_loss: 40.2413 - val_petal_width_output_loss: 33.0578 - val_petal_length_output_loss: 5.4397 - val_species_output_loss: 1.7438\n",
      "Epoch 9/100\n",
      "5/5 [==============================] - 0s 21ms/step - loss: 21.4527 - petal_width_output_loss: 18.1851 - petal_length_output_loss: 2.0560 - species_output_loss: 1.2117 - val_loss: 38.1839 - val_petal_width_output_loss: 31.6447 - val_petal_length_output_loss: 4.8771 - val_species_output_loss: 1.6620\n",
      "Epoch 10/100\n",
      "5/5 [==============================] - 0s 22ms/step - loss: 20.2681 - petal_width_output_loss: 17.2893 - petal_length_output_loss: 1.7868 - species_output_loss: 1.1920 - val_loss: 36.2751 - val_petal_width_output_loss: 30.3269 - val_petal_length_output_loss: 4.3586 - val_species_output_loss: 1.5896\n",
      "Epoch 11/100\n",
      "5/5 [==============================] - 0s 17ms/step - loss: 19.2244 - petal_width_output_loss: 16.4895 - petal_length_output_loss: 1.5576 - species_output_loss: 1.1773 - val_loss: 34.4697 - val_petal_width_output_loss: 29.0758 - val_petal_length_output_loss: 3.8711 - val_species_output_loss: 1.5228\n",
      "Epoch 12/100\n",
      "5/5 [==============================] - 0s 16ms/step - loss: 18.2264 - petal_width_output_loss: 15.7125 - petal_length_output_loss: 1.3486 - species_output_loss: 1.1654 - val_loss: 32.7940 - val_petal_width_output_loss: 27.8900 - val_petal_length_output_loss: 3.4384 - val_species_output_loss: 1.4655\n",
      "Epoch 13/100\n",
      "5/5 [==============================] - 0s 16ms/step - loss: 17.3186 - petal_width_output_loss: 14.9863 - petal_length_output_loss: 1.1754 - species_output_loss: 1.1569 - val_loss: 31.2740 - val_petal_width_output_loss: 26.7767 - val_petal_length_output_loss: 3.0745 - val_species_output_loss: 1.4229\n",
      "Epoch 14/100\n",
      "5/5 [==============================] - 0s 9ms/step - loss: 16.4827 - petal_width_output_loss: 14.2974 - petal_length_output_loss: 1.0353 - species_output_loss: 1.1501 - val_loss: 29.8598 - val_petal_width_output_loss: 25.7109 - val_petal_length_output_loss: 2.7575 - val_species_output_loss: 1.3914\n",
      "Epoch 15/100\n",
      "5/5 [==============================] - 0s 17ms/step - loss: 15.7561 - petal_width_output_loss: 13.6861 - petal_length_output_loss: 0.9255 - species_output_loss: 1.1445 - val_loss: 28.8382 - val_petal_width_output_loss: 24.9353 - val_petal_length_output_loss: 2.5127 - val_species_output_loss: 1.3902\n",
      "Epoch 16/100\n",
      "5/5 [==============================] - 0s 19ms/step - loss: 15.2353 - petal_width_output_loss: 13.2513 - petal_length_output_loss: 0.8445 - species_output_loss: 1.1395 - val_loss: 28.0177 - val_petal_width_output_loss: 24.3054 - val_petal_length_output_loss: 2.3056 - val_species_output_loss: 1.4067\n",
      "Epoch 17/100\n",
      "5/5 [==============================] - 0s 12ms/step - loss: 14.8184 - petal_width_output_loss: 12.8970 - petal_length_output_loss: 0.7842 - species_output_loss: 1.1372 - val_loss: 27.4107 - val_petal_width_output_loss: 23.8235 - val_petal_length_output_loss: 2.1618 - val_species_output_loss: 1.4254\n",
      "Epoch 18/100\n",
      "5/5 [==============================] - 0s 23ms/step - loss: 14.4742 - petal_width_output_loss: 12.5944 - petal_length_output_loss: 0.7426 - species_output_loss: 1.1372 - val_loss: 26.8706 - val_petal_width_output_loss: 23.3504 - val_petal_length_output_loss: 2.0654 - val_species_output_loss: 1.4547\n",
      "Epoch 19/100\n",
      "5/5 [==============================] - 0s 21ms/step - loss: 14.1530 - petal_width_output_loss: 12.3002 - petal_length_output_loss: 0.7153 - species_output_loss: 1.1375 - val_loss: 26.3420 - val_petal_width_output_loss: 22.8656 - val_petal_length_output_loss: 1.9893 - val_species_output_loss: 1.4871\n",
      "Epoch 20/100\n",
      "5/5 [==============================] - 0s 12ms/step - loss: 13.8265 - petal_width_output_loss: 11.9943 - petal_length_output_loss: 0.6926 - species_output_loss: 1.1396 - val_loss: 25.8079 - val_petal_width_output_loss: 22.3611 - val_petal_length_output_loss: 1.9228 - val_species_output_loss: 1.5241\n",
      "Epoch 21/100\n",
      "5/5 [==============================] - 0s 19ms/step - loss: 13.5082 - petal_width_output_loss: 11.6923 - petal_length_output_loss: 0.6737 - species_output_loss: 1.1422 - val_loss: 25.2437 - val_petal_width_output_loss: 21.8391 - val_petal_length_output_loss: 1.8488 - val_species_output_loss: 1.5557\n",
      "Epoch 22/100\n",
      "5/5 [==============================] - 0s 21ms/step - loss: 13.1699 - petal_width_output_loss: 11.3722 - petal_length_output_loss: 0.6525 - species_output_loss: 1.1452 - val_loss: 24.6602 - val_petal_width_output_loss: 21.3005 - val_petal_length_output_loss: 1.7749 - val_species_output_loss: 1.5848\n",
      "Epoch 23/100\n",
      "5/5 [==============================] - 0s 22ms/step - loss: 12.8256 - petal_width_output_loss: 11.0456 - petal_length_output_loss: 0.6322 - species_output_loss: 1.1478 - val_loss: 24.0541 - val_petal_width_output_loss: 20.7438 - val_petal_length_output_loss: 1.6983 - val_species_output_loss: 1.6120\n",
      "Epoch 24/100\n",
      "5/5 [==============================] - 0s 9ms/step - loss: 12.4841 - petal_width_output_loss: 10.7190 - petal_length_output_loss: 0.6140 - species_output_loss: 1.1511 - val_loss: 23.4395 - val_petal_width_output_loss: 20.1768 - val_petal_length_output_loss: 1.6235 - val_species_output_loss: 1.6392\n",
      "Epoch 25/100\n",
      "5/5 [==============================] - 0s 21ms/step - loss: 12.1299 - petal_width_output_loss: 10.3803 - petal_length_output_loss: 0.5948 - species_output_loss: 1.1548 - val_loss: 22.8021 - val_petal_width_output_loss: 19.5943 - val_petal_length_output_loss: 1.5436 - val_species_output_loss: 1.6642\n",
      "Epoch 26/100\n",
      "5/5 [==============================] - 0s 22ms/step - loss: 11.7620 - petal_width_output_loss: 10.0285 - petal_length_output_loss: 0.5755 - species_output_loss: 1.1580 - val_loss: 22.1427 - val_petal_width_output_loss: 18.9986 - val_petal_length_output_loss: 1.4592 - val_species_output_loss: 1.6849\n",
      "Epoch 27/100\n"
     ]
    },
    {
     "name": "stdout",
     "output_type": "stream",
     "text": [
      "5/5 [==============================] - 0s 17ms/step - loss: 11.3992 - petal_width_output_loss: 9.6786 - petal_length_output_loss: 0.5593 - species_output_loss: 1.1614 - val_loss: 21.4600 - val_petal_width_output_loss: 18.3874 - val_petal_length_output_loss: 1.3729 - val_species_output_loss: 1.6997\n",
      "Epoch 28/100\n",
      "5/5 [==============================] - 0s 16ms/step - loss: 11.0254 - petal_width_output_loss: 9.3176 - petal_length_output_loss: 0.5446 - species_output_loss: 1.1633 - val_loss: 20.7506 - val_petal_width_output_loss: 17.7621 - val_petal_length_output_loss: 1.2820 - val_species_output_loss: 1.7065\n",
      "Epoch 29/100\n",
      "5/5 [==============================] - 0s 17ms/step - loss: 10.6457 - petal_width_output_loss: 8.9504 - petal_length_output_loss: 0.5306 - species_output_loss: 1.1647 - val_loss: 20.0474 - val_petal_width_output_loss: 17.1330 - val_petal_length_output_loss: 1.2027 - val_species_output_loss: 1.7118\n",
      "Epoch 30/100\n",
      "5/5 [==============================] - 0s 12ms/step - loss: 10.2718 - petal_width_output_loss: 8.5857 - petal_length_output_loss: 0.5205 - species_output_loss: 1.1656 - val_loss: 19.3390 - val_petal_width_output_loss: 16.5004 - val_petal_length_output_loss: 1.1258 - val_species_output_loss: 1.7129\n",
      "Epoch 31/100\n",
      "5/5 [==============================] - 0s 11ms/step - loss: 9.9098 - petal_width_output_loss: 8.2302 - petal_length_output_loss: 0.5134 - species_output_loss: 1.1661 - val_loss: 18.6129 - val_petal_width_output_loss: 15.8608 - val_petal_length_output_loss: 1.0441 - val_species_output_loss: 1.7080\n",
      "Epoch 32/100\n",
      "5/5 [==============================] - 0s 9ms/step - loss: 9.5387 - petal_width_output_loss: 7.8670 - petal_length_output_loss: 0.5057 - species_output_loss: 1.1660 - val_loss: 17.9076 - val_petal_width_output_loss: 15.2280 - val_petal_length_output_loss: 0.9759 - val_species_output_loss: 1.7037\n",
      "Epoch 33/100\n",
      "5/5 [==============================] - 0s 14ms/step - loss: 9.1765 - petal_width_output_loss: 7.5096 - petal_length_output_loss: 0.5010 - species_output_loss: 1.1659 - val_loss: 17.2350 - val_petal_width_output_loss: 14.6023 - val_petal_length_output_loss: 0.9254 - val_species_output_loss: 1.7073\n",
      "Epoch 34/100\n",
      "5/5 [==============================] - 0s 14ms/step - loss: 8.8218 - petal_width_output_loss: 7.1572 - petal_length_output_loss: 0.4983 - species_output_loss: 1.1663 - val_loss: 16.5780 - val_petal_width_output_loss: 13.9789 - val_petal_length_output_loss: 0.8846 - val_species_output_loss: 1.7145\n",
      "Epoch 35/100\n",
      "5/5 [==============================] - 0s 13ms/step - loss: 8.4737 - petal_width_output_loss: 6.8104 - petal_length_output_loss: 0.4969 - species_output_loss: 1.1664 - val_loss: 15.8839 - val_petal_width_output_loss: 13.3372 - val_petal_length_output_loss: 0.8365 - val_species_output_loss: 1.7102\n",
      "Epoch 36/100\n",
      "5/5 [==============================] - 0s 16ms/step - loss: 8.1176 - petal_width_output_loss: 6.4560 - petal_length_output_loss: 0.4957 - species_output_loss: 1.1659 - val_loss: 15.2042 - val_petal_width_output_loss: 12.6997 - val_petal_length_output_loss: 0.7987 - val_species_output_loss: 1.7058\n",
      "Epoch 37/100\n",
      "5/5 [==============================] - 0s 10ms/step - loss: 7.7752 - petal_width_output_loss: 6.1142 - petal_length_output_loss: 0.4960 - species_output_loss: 1.1649 - val_loss: 14.5248 - val_petal_width_output_loss: 12.0632 - val_petal_length_output_loss: 0.7604 - val_species_output_loss: 1.7013\n",
      "Epoch 38/100\n",
      "5/5 [==============================] - 0s 17ms/step - loss: 7.4341 - petal_width_output_loss: 5.7733 - petal_length_output_loss: 0.4961 - species_output_loss: 1.1647 - val_loss: 13.8663 - val_petal_width_output_loss: 11.4354 - val_petal_length_output_loss: 0.7324 - val_species_output_loss: 1.6984\n",
      "Epoch 39/100\n",
      "5/5 [==============================] - 0s 10ms/step - loss: 7.1001 - petal_width_output_loss: 5.4393 - petal_length_output_loss: 0.4967 - species_output_loss: 1.1642 - val_loss: 13.1732 - val_petal_width_output_loss: 10.7942 - val_petal_length_output_loss: 0.6933 - val_species_output_loss: 1.6856\n",
      "Epoch 40/100\n",
      "5/5 [==============================] - 0s 15ms/step - loss: 6.7844 - petal_width_output_loss: 5.1209 - petal_length_output_loss: 0.5001 - species_output_loss: 1.1634 - val_loss: 12.5042 - val_petal_width_output_loss: 10.1716 - val_petal_length_output_loss: 0.6636 - val_species_output_loss: 1.6690\n",
      "Epoch 41/100\n",
      "5/5 [==============================] - 0s 7ms/step - loss: 6.4679 - petal_width_output_loss: 4.8063 - petal_length_output_loss: 0.4995 - species_output_loss: 1.1620 - val_loss: 11.8961 - val_petal_width_output_loss: 9.5785 - val_petal_length_output_loss: 0.6569 - val_species_output_loss: 1.6607\n",
      "Epoch 42/100\n",
      "5/5 [==============================] - 0s 19ms/step - loss: 6.1629 - petal_width_output_loss: 4.5037 - petal_length_output_loss: 0.4980 - species_output_loss: 1.1612 - val_loss: 11.3068 - val_petal_width_output_loss: 9.0010 - val_petal_length_output_loss: 0.6555 - val_species_output_loss: 1.6503\n",
      "Epoch 43/100\n",
      "5/5 [==============================] - 0s 13ms/step - loss: 5.8774 - petal_width_output_loss: 4.2213 - petal_length_output_loss: 0.4957 - species_output_loss: 1.1603 - val_loss: 10.7486 - val_petal_width_output_loss: 8.4441 - val_petal_length_output_loss: 0.6613 - val_species_output_loss: 1.6432\n",
      "Epoch 44/100\n",
      "5/5 [==============================] - 0s 12ms/step - loss: 5.6057 - petal_width_output_loss: 3.9525 - petal_length_output_loss: 0.4938 - species_output_loss: 1.1594 - val_loss: 10.1938 - val_petal_width_output_loss: 7.8993 - val_petal_length_output_loss: 0.6621 - val_species_output_loss: 1.6324\n",
      "Epoch 45/100\n",
      "5/5 [==============================] - 0s 13ms/step - loss: 5.3572 - petal_width_output_loss: 3.7068 - petal_length_output_loss: 0.4925 - species_output_loss: 1.1580 - val_loss: 9.6681 - val_petal_width_output_loss: 7.3767 - val_petal_length_output_loss: 0.6681 - val_species_output_loss: 1.6233\n",
      "Epoch 46/100\n",
      "5/5 [==============================] - 0s 17ms/step - loss: 5.1152 - petal_width_output_loss: 3.4693 - petal_length_output_loss: 0.4892 - species_output_loss: 1.1567 - val_loss: 9.2076 - val_petal_width_output_loss: 6.8981 - val_petal_length_output_loss: 0.6933 - val_species_output_loss: 1.6162\n",
      "Epoch 47/100\n",
      "5/5 [==============================] - 0s 15ms/step - loss: 4.8944 - petal_width_output_loss: 3.2534 - petal_length_output_loss: 0.4853 - species_output_loss: 1.1557 - val_loss: 8.7724 - val_petal_width_output_loss: 6.4425 - val_petal_length_output_loss: 0.7205 - val_species_output_loss: 1.6094\n",
      "Epoch 48/100\n",
      "5/5 [==============================] - 0s 10ms/step - loss: 4.6919 - petal_width_output_loss: 3.0557 - petal_length_output_loss: 0.4822 - species_output_loss: 1.1540 - val_loss: 8.2918 - val_petal_width_output_loss: 5.9811 - val_petal_length_output_loss: 0.7227 - val_species_output_loss: 1.5880\n",
      "Epoch 49/100\n",
      "5/5 [==============================] - 0s 12ms/step - loss: 4.5035 - petal_width_output_loss: 2.8701 - petal_length_output_loss: 0.4812 - species_output_loss: 1.1523 - val_loss: 7.8379 - val_petal_width_output_loss: 5.5464 - val_petal_length_output_loss: 0.7228 - val_species_output_loss: 1.5687\n",
      "Epoch 50/100\n",
      "5/5 [==============================] - 0s 17ms/step - loss: 4.3217 - petal_width_output_loss: 2.6918 - petal_length_output_loss: 0.4793 - species_output_loss: 1.1506 - val_loss: 7.4822 - val_petal_width_output_loss: 5.1705 - val_petal_length_output_loss: 0.7463 - val_species_output_loss: 1.5653\n",
      "Epoch 51/100\n",
      "5/5 [==============================] - 0s 8ms/step - loss: 4.1824 - petal_width_output_loss: 2.5555 - petal_length_output_loss: 0.4767 - species_output_loss: 1.1502 - val_loss: 7.1011 - val_petal_width_output_loss: 4.8010 - val_petal_length_output_loss: 0.7493 - val_species_output_loss: 1.5508\n",
      "Epoch 52/100\n",
      "5/5 [==============================] - 0s 18ms/step - loss: 4.0322 - petal_width_output_loss: 2.4090 - petal_length_output_loss: 0.4743 - species_output_loss: 1.1489 - val_loss: 6.7943 - val_petal_width_output_loss: 4.4772 - val_petal_length_output_loss: 0.7691 - val_species_output_loss: 1.5480\n",
      "Epoch 53/100\n"
     ]
    },
    {
     "name": "stdout",
     "output_type": "stream",
     "text": [
      "5/5 [==============================] - 0s 9ms/step - loss: 3.9112 - petal_width_output_loss: 2.2907 - petal_length_output_loss: 0.4718 - species_output_loss: 1.1487 - val_loss: 6.4763 - val_petal_width_output_loss: 4.1615 - val_petal_length_output_loss: 0.7731 - val_species_output_loss: 1.5416\n",
      "Epoch 54/100\n",
      "5/5 [==============================] - 0s 14ms/step - loss: 3.7999 - petal_width_output_loss: 2.1824 - petal_length_output_loss: 0.4703 - species_output_loss: 1.1471 - val_loss: 6.1250 - val_petal_width_output_loss: 3.8538 - val_petal_length_output_loss: 0.7587 - val_species_output_loss: 1.5124\n",
      "Epoch 55/100\n",
      "5/5 [==============================] - 0s 13ms/step - loss: 3.6949 - petal_width_output_loss: 2.0810 - petal_length_output_loss: 0.4692 - species_output_loss: 1.1446 - val_loss: 5.8037 - val_petal_width_output_loss: 3.5738 - val_petal_length_output_loss: 0.7466 - val_species_output_loss: 1.4833\n",
      "Epoch 56/100\n",
      "5/5 [==============================] - ETA: 0s - loss: 3.6133 - petal_width_output_loss: 2.0460 - petal_length_output_loss: 0.4158 - species_output_loss: 1.15 - 0s 15ms/step - loss: 3.6144 - petal_width_output_loss: 2.0035 - petal_length_output_loss: 0.4683 - species_output_loss: 1.1426 - val_loss: 5.5200 - val_petal_width_output_loss: 3.3187 - val_petal_length_output_loss: 0.7416 - val_species_output_loss: 1.4597\n",
      "Epoch 57/100\n",
      "5/5 [==============================] - 0s 16ms/step - loss: 3.5352 - petal_width_output_loss: 1.9271 - petal_length_output_loss: 0.4670 - species_output_loss: 1.1412 - val_loss: 5.3229 - val_petal_width_output_loss: 3.1092 - val_petal_length_output_loss: 0.7600 - val_species_output_loss: 1.4537\n",
      "Epoch 58/100\n",
      "5/5 [==============================] - 0s 12ms/step - loss: 3.4724 - petal_width_output_loss: 1.8687 - petal_length_output_loss: 0.4641 - species_output_loss: 1.1396 - val_loss: 5.1022 - val_petal_width_output_loss: 2.9060 - val_petal_length_output_loss: 0.7657 - val_species_output_loss: 1.4305\n",
      "Epoch 59/100\n",
      "5/5 [==============================] - 0s 17ms/step - loss: 3.4301 - petal_width_output_loss: 1.8285 - petal_length_output_loss: 0.4630 - species_output_loss: 1.1386 - val_loss: 4.8490 - val_petal_width_output_loss: 2.7059 - val_petal_length_output_loss: 0.7475 - val_species_output_loss: 1.3955\n",
      "Epoch 60/100\n",
      "5/5 [==============================] - 0s 10ms/step - loss: 3.3740 - petal_width_output_loss: 1.7778 - petal_length_output_loss: 0.4602 - species_output_loss: 1.1361 - val_loss: 4.7070 - val_petal_width_output_loss: 2.5590 - val_petal_length_output_loss: 0.7652 - val_species_output_loss: 1.3828\n",
      "Epoch 61/100\n",
      "5/5 [==============================] - 0s 15ms/step - loss: 3.3357 - petal_width_output_loss: 1.7434 - petal_length_output_loss: 0.4571 - species_output_loss: 1.1352 - val_loss: 4.5996 - val_petal_width_output_loss: 2.4331 - val_petal_length_output_loss: 0.7890 - val_species_output_loss: 1.3775\n",
      "Epoch 62/100\n",
      "5/5 [==============================] - 0s 14ms/step - loss: 3.3053 - petal_width_output_loss: 1.7165 - petal_length_output_loss: 0.4542 - species_output_loss: 1.1347 - val_loss: 4.4723 - val_petal_width_output_loss: 2.3110 - val_petal_length_output_loss: 0.7971 - val_species_output_loss: 1.3642\n",
      "Epoch 63/100\n",
      "5/5 [==============================] - 0s 10ms/step - loss: 3.2772 - petal_width_output_loss: 1.6915 - petal_length_output_loss: 0.4517 - species_output_loss: 1.1340 - val_loss: 4.3930 - val_petal_width_output_loss: 2.2195 - val_petal_length_output_loss: 0.8169 - val_species_output_loss: 1.3566\n",
      "Epoch 64/100\n",
      "5/5 [==============================] - 0s 16ms/step - loss: 3.2543 - petal_width_output_loss: 1.6729 - petal_length_output_loss: 0.4487 - species_output_loss: 1.1327 - val_loss: 4.2555 - val_petal_width_output_loss: 2.1104 - val_petal_length_output_loss: 0.8060 - val_species_output_loss: 1.3391\n",
      "Epoch 65/100\n",
      "5/5 [==============================] - 0s 18ms/step - loss: 3.2380 - petal_width_output_loss: 1.6590 - petal_length_output_loss: 0.4472 - species_output_loss: 1.1319 - val_loss: 4.0996 - val_petal_width_output_loss: 2.0023 - val_petal_length_output_loss: 0.7829 - val_species_output_loss: 1.3144\n",
      "Epoch 66/100\n",
      "5/5 [==============================] - 0s 9ms/step - loss: 3.2162 - petal_width_output_loss: 1.6418 - petal_length_output_loss: 0.4441 - species_output_loss: 1.1303 - val_loss: 3.9990 - val_petal_width_output_loss: 1.9219 - val_petal_length_output_loss: 0.7760 - val_species_output_loss: 1.3011\n",
      "Epoch 67/100\n",
      "5/5 [==============================] - 0s 17ms/step - loss: 3.1977 - petal_width_output_loss: 1.6272 - petal_length_output_loss: 0.4410 - species_output_loss: 1.1295 - val_loss: 3.9214 - val_petal_width_output_loss: 1.8586 - val_petal_length_output_loss: 0.7751 - val_species_output_loss: 1.2877\n",
      "Epoch 68/100\n",
      "5/5 [==============================] - 0s 11ms/step - loss: 3.1829 - petal_width_output_loss: 1.6163 - petal_length_output_loss: 0.4380 - species_output_loss: 1.1287 - val_loss: 3.8634 - val_petal_width_output_loss: 1.8039 - val_petal_length_output_loss: 0.7745 - val_species_output_loss: 1.2850\n",
      "Epoch 69/100\n",
      "5/5 [==============================] - 0s 13ms/step - loss: 3.1691 - petal_width_output_loss: 1.6063 - petal_length_output_loss: 0.4350 - species_output_loss: 1.1278 - val_loss: 3.7746 - val_petal_width_output_loss: 1.7367 - val_petal_length_output_loss: 0.7603 - val_species_output_loss: 1.2776\n",
      "Epoch 70/100\n",
      "5/5 [==============================] - 0s 11ms/step - loss: 3.1639 - petal_width_output_loss: 1.6021 - petal_length_output_loss: 0.4341 - species_output_loss: 1.1277 - val_loss: 3.6711 - val_petal_width_output_loss: 1.6672 - val_petal_length_output_loss: 0.7358 - val_species_output_loss: 1.2682\n",
      "Epoch 71/100\n",
      "5/5 [==============================] - 0s 14ms/step - loss: 3.1501 - petal_width_output_loss: 1.5928 - petal_length_output_loss: 0.4304 - species_output_loss: 1.1269 - val_loss: 3.6562 - val_petal_width_output_loss: 1.6333 - val_petal_length_output_loss: 0.7477 - val_species_output_loss: 1.2752\n",
      "Epoch 72/100\n",
      "5/5 [==============================] - 0s 14ms/step - loss: 3.1400 - petal_width_output_loss: 1.5860 - petal_length_output_loss: 0.4274 - species_output_loss: 1.1267 - val_loss: 3.6700 - val_petal_width_output_loss: 1.6141 - val_petal_length_output_loss: 0.7733 - val_species_output_loss: 1.2825\n",
      "Epoch 73/100\n",
      "5/5 [==============================] - 0s 10ms/step - loss: 3.1315 - petal_width_output_loss: 1.5808 - petal_length_output_loss: 0.4244 - species_output_loss: 1.1263 - val_loss: 3.6748 - val_petal_width_output_loss: 1.5973 - val_petal_length_output_loss: 0.7944 - val_species_output_loss: 1.2831\n",
      "Epoch 74/100\n",
      "5/5 [==============================] - 0s 17ms/step - loss: 3.1216 - petal_width_output_loss: 1.5756 - petal_length_output_loss: 0.4206 - species_output_loss: 1.1255 - val_loss: 3.6092 - val_petal_width_output_loss: 1.5625 - val_petal_length_output_loss: 0.7797 - val_species_output_loss: 1.2670\n",
      "Epoch 75/100\n",
      "5/5 [==============================] - 0s 9ms/step - loss: 3.1142 - petal_width_output_loss: 1.5717 - petal_length_output_loss: 0.4181 - species_output_loss: 1.1244 - val_loss: 3.5372 - val_petal_width_output_loss: 1.5270 - val_petal_length_output_loss: 0.7579 - val_species_output_loss: 1.2523\n",
      "Epoch 76/100\n",
      "5/5 [==============================] - 0s 14ms/step - loss: 3.1044 - petal_width_output_loss: 1.5664 - petal_length_output_loss: 0.4147 - species_output_loss: 1.1233 - val_loss: 3.5500 - val_petal_width_output_loss: 1.5228 - val_petal_length_output_loss: 0.7728 - val_species_output_loss: 1.2544\n",
      "Epoch 77/100\n",
      "5/5 [==============================] - 0s 17ms/step - loss: 3.0995 - petal_width_output_loss: 1.5631 - petal_length_output_loss: 0.4131 - species_output_loss: 1.1233 - val_loss: 3.6331 - val_petal_width_output_loss: 1.5456 - val_petal_length_output_loss: 0.8182 - val_species_output_loss: 1.2693\n",
      "Epoch 78/100\n",
      "5/5 [==============================] - 0s 11ms/step - loss: 3.0870 - petal_width_output_loss: 1.5571 - petal_length_output_loss: 0.4082 - species_output_loss: 1.1217 - val_loss: 3.6437 - val_petal_width_output_loss: 1.5475 - val_petal_length_output_loss: 0.8297 - val_species_output_loss: 1.2666\n",
      "Epoch 79/100\n"
     ]
    },
    {
     "name": "stdout",
     "output_type": "stream",
     "text": [
      "5/5 [==============================] - 0s 15ms/step - loss: 3.0806 - petal_width_output_loss: 1.5534 - petal_length_output_loss: 0.4062 - species_output_loss: 1.1210 - val_loss: 3.6832 - val_petal_width_output_loss: 1.5593 - val_petal_length_output_loss: 0.8480 - val_species_output_loss: 1.2760\n",
      "Epoch 80/100\n",
      "5/5 [==============================] - 0s 9ms/step - loss: 3.0711 - petal_width_output_loss: 1.5485 - petal_length_output_loss: 0.4028 - species_output_loss: 1.1199 - val_loss: 3.6767 - val_petal_width_output_loss: 1.5543 - val_petal_length_output_loss: 0.8448 - val_species_output_loss: 1.2776\n",
      "Epoch 81/100\n",
      "5/5 [==============================] - 0s 14ms/step - loss: 3.0622 - petal_width_output_loss: 1.5440 - petal_length_output_loss: 0.3994 - species_output_loss: 1.1188 - val_loss: 3.6135 - val_petal_width_output_loss: 1.5310 - val_petal_length_output_loss: 0.8185 - val_species_output_loss: 1.2640\n",
      "Epoch 82/100\n",
      "5/5 [==============================] - 0s 12ms/step - loss: 3.0532 - petal_width_output_loss: 1.5396 - petal_length_output_loss: 0.3959 - species_output_loss: 1.1178 - val_loss: 3.5662 - val_petal_width_output_loss: 1.5172 - val_petal_length_output_loss: 0.7976 - val_species_output_loss: 1.2514\n",
      "Epoch 83/100\n",
      "5/5 [==============================] - 0s 14ms/step - loss: 3.0443 - petal_width_output_loss: 1.5350 - petal_length_output_loss: 0.3924 - species_output_loss: 1.1169 - val_loss: 3.5248 - val_petal_width_output_loss: 1.5038 - val_petal_length_output_loss: 0.7780 - val_species_output_loss: 1.2430\n",
      "Epoch 84/100\n",
      "5/5 [==============================] - 0s 18ms/step - loss: 3.0359 - petal_width_output_loss: 1.5303 - petal_length_output_loss: 0.3895 - species_output_loss: 1.1161 - val_loss: 3.5276 - val_petal_width_output_loss: 1.5025 - val_petal_length_output_loss: 0.7742 - val_species_output_loss: 1.2509\n",
      "Epoch 85/100\n",
      "5/5 [==============================] - 0s 10ms/step - loss: 3.0268 - petal_width_output_loss: 1.5253 - petal_length_output_loss: 0.3862 - species_output_loss: 1.1152 - val_loss: 3.5854 - val_petal_width_output_loss: 1.5258 - val_petal_length_output_loss: 0.7964 - val_species_output_loss: 1.2632\n",
      "Epoch 86/100\n",
      "5/5 [==============================] - 0s 7ms/step - loss: 3.0189 - petal_width_output_loss: 1.5206 - petal_length_output_loss: 0.3836 - species_output_loss: 1.1147 - val_loss: 3.6837 - val_petal_width_output_loss: 1.5630 - val_petal_length_output_loss: 0.8359 - val_species_output_loss: 1.2848\n",
      "Epoch 87/100\n",
      "5/5 [==============================] - 0s 18ms/step - loss: 3.0195 - petal_width_output_loss: 1.5194 - petal_length_output_loss: 0.3846 - species_output_loss: 1.1155 - val_loss: 3.8103 - val_petal_width_output_loss: 1.6117 - val_petal_length_output_loss: 0.8861 - val_species_output_loss: 1.3125\n",
      "Epoch 88/100\n",
      "5/5 [==============================] - 0s 19ms/step - loss: 3.0132 - petal_width_output_loss: 1.5160 - petal_length_output_loss: 0.3823 - species_output_loss: 1.1148 - val_loss: 3.8330 - val_petal_width_output_loss: 1.6277 - val_petal_length_output_loss: 0.8842 - val_species_output_loss: 1.3211\n",
      "Epoch 89/100\n",
      "5/5 [==============================] - 0s 12ms/step - loss: 3.0015 - petal_width_output_loss: 1.5105 - petal_length_output_loss: 0.3775 - species_output_loss: 1.1135 - val_loss: 3.7329 - val_petal_width_output_loss: 1.6012 - val_petal_length_output_loss: 0.8298 - val_species_output_loss: 1.3019\n",
      "Epoch 90/100\n",
      "5/5 [==============================] - 0s 12ms/step - loss: 2.9886 - petal_width_output_loss: 1.5047 - petal_length_output_loss: 0.3720 - species_output_loss: 1.1119 - val_loss: 3.6441 - val_petal_width_output_loss: 1.5747 - val_petal_length_output_loss: 0.7815 - val_species_output_loss: 1.2879\n",
      "Epoch 91/100\n",
      "5/5 [==============================] - 0s 11ms/step - loss: 2.9776 - petal_width_output_loss: 1.4989 - petal_length_output_loss: 0.3682 - species_output_loss: 1.1105 - val_loss: 3.5366 - val_petal_width_output_loss: 1.5357 - val_petal_length_output_loss: 0.7336 - val_species_output_loss: 1.2673\n",
      "Epoch 92/100\n",
      "5/5 [==============================] - 0s 20ms/step - loss: 2.9721 - petal_width_output_loss: 1.4957 - petal_length_output_loss: 0.3667 - species_output_loss: 1.1097 - val_loss: 3.4113 - val_petal_width_output_loss: 1.4810 - val_petal_length_output_loss: 0.6873 - val_species_output_loss: 1.2431\n",
      "Epoch 93/100\n",
      "5/5 [==============================] - 0s 10ms/step - loss: 2.9619 - petal_width_output_loss: 1.4892 - petal_length_output_loss: 0.3646 - species_output_loss: 1.1081 - val_loss: 3.3613 - val_petal_width_output_loss: 1.4551 - val_petal_length_output_loss: 0.6748 - val_species_output_loss: 1.2314\n",
      "Epoch 94/100\n",
      "5/5 [==============================] - 0s 13ms/step - loss: 2.9529 - petal_width_output_loss: 1.4839 - petal_length_output_loss: 0.3621 - species_output_loss: 1.1069 - val_loss: 3.2935 - val_petal_width_output_loss: 1.4232 - val_petal_length_output_loss: 0.6587 - val_species_output_loss: 1.2116\n",
      "Epoch 95/100\n",
      "5/5 [==============================] - 0s 18ms/step - loss: 2.9478 - petal_width_output_loss: 1.4806 - petal_length_output_loss: 0.3606 - species_output_loss: 1.1066 - val_loss: 3.2563 - val_petal_width_output_loss: 1.4013 - val_petal_length_output_loss: 0.6563 - val_species_output_loss: 1.1987\n",
      "Epoch 96/100\n",
      "5/5 [==============================] - 0s 9ms/step - loss: 2.9376 - petal_width_output_loss: 1.4746 - petal_length_output_loss: 0.3572 - species_output_loss: 1.1057 - val_loss: 3.3278 - val_petal_width_output_loss: 1.4246 - val_petal_length_output_loss: 0.6973 - val_species_output_loss: 1.2059\n",
      "Epoch 97/100\n",
      "5/5 [==============================] - 0s 14ms/step - loss: 2.9271 - petal_width_output_loss: 1.4688 - petal_length_output_loss: 0.3534 - species_output_loss: 1.1048 - val_loss: 3.3980 - val_petal_width_output_loss: 1.4431 - val_petal_length_output_loss: 0.7351 - val_species_output_loss: 1.2198\n",
      "Epoch 98/100\n",
      "5/5 [==============================] - 0s 12ms/step - loss: 2.9186 - petal_width_output_loss: 1.4639 - petal_length_output_loss: 0.3507 - species_output_loss: 1.1039 - val_loss: 3.4535 - val_petal_width_output_loss: 1.4615 - val_petal_length_output_loss: 0.7644 - val_species_output_loss: 1.2277\n",
      "Epoch 99/100\n",
      "5/5 [==============================] - 0s 11ms/step - loss: 2.9099 - petal_width_output_loss: 1.4589 - petal_length_output_loss: 0.3479 - species_output_loss: 1.1030 - val_loss: 3.4230 - val_petal_width_output_loss: 1.4459 - val_petal_length_output_loss: 0.7549 - val_species_output_loss: 1.2222\n",
      "Epoch 100/100\n",
      "5/5 [==============================] - 0s 14ms/step - loss: 2.9009 - petal_width_output_loss: 1.4538 - petal_length_output_loss: 0.3452 - species_output_loss: 1.1019 - val_loss: 3.3715 - val_petal_width_output_loss: 1.4270 - val_petal_length_output_loss: 0.7345 - val_species_output_loss: 1.2099\n"
     ]
    }
   ],
   "source": [
    "# 학습\n",
    "hist= model.fit(x=X, \n",
    "              y=[y1, y2, y3], \n",
    "              epochs=100, \n",
    "              validation_split=0.1)"
   ]
  },
  {
   "cell_type": "code",
   "execution_count": 59,
   "metadata": {},
   "outputs": [
    {
     "data": {
      "text/plain": [
       "<TensorSliceDataset shapes: ((2,), ((), (), ())), types: (tf.float64, (tf.float64, tf.float64, tf.int32))>"
      ]
     },
     "execution_count": 59,
     "metadata": {},
     "output_type": "execute_result"
    }
   ],
   "source": [
    "# tf.data.Dataset.from_tensor_slices((X, (y1, y2, y3)))"
   ]
  },
  {
   "cell_type": "code",
   "execution_count": 63,
   "metadata": {},
   "outputs": [
    {
     "data": {
      "text/plain": [
       "array([[5.1, 3.5]])"
      ]
     },
     "execution_count": 63,
     "metadata": {},
     "output_type": "execute_result"
    }
   ],
   "source": [
    "# 추론\n",
    "import numpy as np\n",
    "new_data = X[0]\n",
    "new_data = new_data[np.newaxis, ...]\n",
    "new_data"
   ]
  },
  {
   "cell_type": "code",
   "execution_count": 64,
   "metadata": {},
   "outputs": [
    {
     "data": {
      "text/plain": [
       "[array([[3.0563126]], dtype=float32),\n",
       " array([[0.9814011]], dtype=float32),\n",
       " array([[0.31457844, 0.40909502, 0.27632654]], dtype=float32)]"
      ]
     },
     "execution_count": 64,
     "metadata": {},
     "output_type": "execute_result"
    }
   ],
   "source": [
    "pred = model.predict(new_data)\n",
    "pred"
   ]
  },
  {
   "cell_type": "code",
   "execution_count": 65,
   "metadata": {},
   "outputs": [
    {
     "name": "stdout",
     "output_type": "stream",
     "text": [
      "1.4\n",
      "0.2\n",
      "0\n"
     ]
    }
   ],
   "source": [
    "print(y1[0])\n",
    "print(y2[0])\n",
    "print(y3[0])"
   ]
  },
  {
   "cell_type": "markdown",
   "metadata": {},
   "source": [
    "## 다중 입력 모델\n",
    "- 가정 \n",
    "    - IRIS 꽃 데이터 + 꽃의 사진을 입력해서 꽃의 종류를 예측한다.\n",
    "- X: 꽃 데이터, 꽃 사진\n",
    "- y: 꽃 종류"
   ]
  },
  {
   "cell_type": "code",
   "execution_count": 71,
   "metadata": {},
   "outputs": [
    {
     "data": {
      "text/plain": [
       "((150, 4), (150,))"
      ]
     },
     "execution_count": 71,
     "metadata": {},
     "output_type": "execute_result"
    }
   ],
   "source": [
    "X, y = load_iris(return_X_y=True)\n",
    "X.shape, y.shape"
   ]
  },
  {
   "cell_type": "code",
   "execution_count": 72,
   "metadata": {},
   "outputs": [
    {
     "data": {
      "text/plain": [
       "((60000, 28, 28), (150, 28, 28))"
      ]
     },
     "execution_count": 72,
     "metadata": {},
     "output_type": "execute_result"
    }
   ],
   "source": [
    "# iris 사진 대신 mnist 사진을 사용 - 6만개중 150개만 추출\n",
    "(X_train, _), (_, _) = keras.datasets.mnist.load_data()\n",
    "X_img = X_train[:150]\n",
    "X_train.shape, X_img.shape"
   ]
  },
  {
   "cell_type": "code",
   "execution_count": 74,
   "metadata": {},
   "outputs": [],
   "source": [
    "# input을 2개 받는 모델 구현\n",
    "iris_info_tensor = layers.Input(shape=(4,)) #꽃정보 input\n",
    "x1 = layers.Dense(units=32, activation='relu')(iris_info_tensor)\n",
    "x1 = layers.Dense(units=16, activation='relu')(x1)\n",
    "\n",
    "iris_img_tensor = layers.Input(shape=(28, 28, 1))\n",
    "\n",
    "x2 = layers.Conv2D(filters=32, kernel_size=3, padding='same',  activation='relu')(iris_img_tensor)\n",
    "x2 = layers.Conv2D(filters=32, kernel_size=3, padding='same',  activation='relu')(x2)\n",
    "x2 = layers.MaxPooling2D(padding='same')(x2)\n",
    "\n",
    "x3 = layers.Conv2D(filters=64, kernel_size=3, padding='same', activation='relu')(x2)\n",
    "x3 = layers.Conv2D(filters=64, kernel_size=3, padding='same', activation='relu')(x3)\n",
    "x3 = layers.MaxPooling2D(padding='same')(x3)\n",
    "x3 = layers.GlobalAveragePooling2D()(x3)\n",
    "\n",
    "# x1, x3를 합치기. - info, img 두개 정보를 합치는 것.\n",
    "x4 = layers.concatenate([x1, x3])\n",
    "\n",
    "output_tensor = layers.Dense(units=3, activation='softmax')(x4)\n",
    "\n",
    "model = models.Model([iris_info_tensor, iris_img_tensor] , output_tensor)\n"
   ]
  },
  {
   "cell_type": "code",
   "execution_count": 75,
   "metadata": {},
   "outputs": [
    {
     "name": "stdout",
     "output_type": "stream",
     "text": [
      "Model: \"model_9\"\n",
      "__________________________________________________________________________________________________\n",
      "Layer (type)                    Output Shape         Param #     Connected to                     \n",
      "==================================================================================================\n",
      "input_22 (InputLayer)           [(None, 28, 28, 1)]  0                                            \n",
      "__________________________________________________________________________________________________\n",
      "conv2d_23 (Conv2D)              (None, 28, 28, 32)   320         input_22[0][0]                   \n",
      "__________________________________________________________________________________________________\n",
      "conv2d_24 (Conv2D)              (None, 28, 28, 32)   9248        conv2d_23[0][0]                  \n",
      "__________________________________________________________________________________________________\n",
      "max_pooling2d_8 (MaxPooling2D)  (None, 14, 14, 32)   0           conv2d_24[0][0]                  \n",
      "__________________________________________________________________________________________________\n",
      "conv2d_25 (Conv2D)              (None, 14, 14, 64)   18496       max_pooling2d_8[0][0]            \n",
      "__________________________________________________________________________________________________\n",
      "input_21 (InputLayer)           [(None, 4)]          0                                            \n",
      "__________________________________________________________________________________________________\n",
      "conv2d_26 (Conv2D)              (None, 14, 14, 64)   36928       conv2d_25[0][0]                  \n",
      "__________________________________________________________________________________________________\n",
      "dense_15 (Dense)                (None, 32)           160         input_21[0][0]                   \n",
      "__________________________________________________________________________________________________\n",
      "max_pooling2d_9 (MaxPooling2D)  (None, 7, 7, 64)     0           conv2d_26[0][0]                  \n",
      "__________________________________________________________________________________________________\n",
      "dense_16 (Dense)                (None, 16)           528         dense_15[0][0]                   \n",
      "__________________________________________________________________________________________________\n",
      "global_average_pooling2d_3 (Glo (None, 64)           0           max_pooling2d_9[0][0]            \n",
      "__________________________________________________________________________________________________\n",
      "concatenate_1 (Concatenate)     (None, 80)           0           dense_16[0][0]                   \n",
      "                                                                 global_average_pooling2d_3[0][0] \n",
      "__________________________________________________________________________________________________\n",
      "dense_17 (Dense)                (None, 3)            243         concatenate_1[0][0]              \n",
      "==================================================================================================\n",
      "Total params: 65,923\n",
      "Trainable params: 65,923\n",
      "Non-trainable params: 0\n",
      "__________________________________________________________________________________________________\n"
     ]
    }
   ],
   "source": [
    "model.summary()"
   ]
  },
  {
   "cell_type": "code",
   "execution_count": 76,
   "metadata": {},
   "outputs": [
    {
     "data": {
      "image/png": "[encoded data removed]",
      "text/plain": [
       "<IPython.core.display.Image object>"
      ]
     },
     "execution_count": 76,
     "metadata": {},
     "output_type": "execute_result"
    }
   ],
   "source": [
    "keras.utils.plot_model(model, show_shapes=True)"
   ]
  },
  {
   "cell_type": "code",
   "execution_count": 77,
   "metadata": {},
   "outputs": [],
   "source": [
    "model.compile(optimizer='adam', loss='sparse_categorical_crossentropy', metrics=['accuracy'])"
   ]
  },
  {
   "cell_type": "code",
   "execution_count": 79,
   "metadata": {},
   "outputs": [
    {
     "name": "stdout",
     "output_type": "stream",
     "text": [
      "Epoch 1/2\n",
      "5/5 [==============================] - 2s 187ms/step - loss: 7.4301 - accuracy: 0.3556 - val_loss: 7.9059 - val_accuracy: 0.0000e+00\n",
      "Epoch 2/2\n",
      "5/5 [==============================] - 1s 127ms/step - loss: 2.3196 - accuracy: 0.2667 - val_loss: 1.1979 - val_accuracy: 0.0000e+00\n"
     ]
    },
    {
     "data": {
      "text/plain": [
       "<tensorflow.python.keras.callbacks.History at 0x1d5383a6040>"
      ]
     },
     "execution_count": 79,
     "metadata": {},
     "output_type": "execute_result"
    }
   ],
   "source": [
    "model.fit(x=[X, X_img],  #입력이 2개이므로 순서대(모델에 layer추가한 순서)로 리스트로 묶어서 전달.\n",
    "          y=y, \n",
    "          epochs=2,\n",
    "          validation_split=0.1)"
   ]
  },
  {
   "cell_type": "code",
   "execution_count": 80,
   "metadata": {},
   "outputs": [
    {
     "data": {
      "text/plain": [
       "<TensorSliceDataset shapes: (((4,), (28, 28)), ()), types: ((tf.float64, tf.uint8), tf.int32)>"
      ]
     },
     "execution_count": 80,
     "metadata": {},
     "output_type": "execute_result"
    }
   ],
   "source": [
    "tf.data.Dataset.from_tensor_slices(((X, X_img), y))"
   ]
  },
  {
   "cell_type": "code",
   "execution_count": null,
   "metadata": {},
   "outputs": [],
   "source": []
  },
  {
   "cell_type": "code",
   "execution_count": null,
   "metadata": {},
   "outputs": [],
   "source": []
  },
  {
   "cell_type": "code",
   "execution_count": null,
   "metadata": {},
   "outputs": [],
   "source": []
  },
  {
   "cell_type": "code",
   "execution_count": null,
   "metadata": {},
   "outputs": [],
   "source": []
  },
  {
   "cell_type": "code",
   "execution_count": null,
   "metadata": {},
   "outputs": [],
   "source": []
  },
  {
   "cell_type": "code",
   "execution_count": null,
   "metadata": {},
   "outputs": [],
   "source": []
  },
  {
   "cell_type": "code",
   "execution_count": null,
   "metadata": {},
   "outputs": [],
   "source": []
  }
 ],
 "metadata": {
  "kernelspec": {
   "display_name": "Python 3 (ipykernel)",
   "language": "python",
   "name": "python3"
  },
  "language_info": {
   "codemirror_mode": {
    "name": "ipython",
    "version": 3
   },
   "file_extension": ".py",
   "mimetype": "text/x-python",
   "name": "python",
   "nbconvert_exporter": "python",
   "pygments_lexer": "ipython3",
   "version": "3.8.11"
  },
  "toc": {
   "base_numbering": 1,
   "nav_menu": {},
   "number_sections": true,
   "sideBar": true,
   "skip_h1_title": false,
   "title_cell": "Table of Contents",
   "title_sidebar": "Contents",
   "toc_cell": false,
   "toc_position": {},
   "toc_section_display": true,
   "toc_window_display": false
  },
  "varInspector": {
   "cols": {
    "lenName": 16,
    "lenType": 16,
    "lenVar": 40
   },
   "kernels_config": {
    "python": {
     "delete_cmd_postfix": "",
     "delete_cmd_prefix": "del ",
     "library": "var_list.py",
     "varRefreshCmd": "print(var_dic_list())"
    },
    "r": {
     "delete_cmd_postfix": ") ",
     "delete_cmd_prefix": "rm(",
     "library": "var_list.r",
     "varRefreshCmd": "cat(var_dic_list()) "
    }
   },
   "types_to_exclude": [
    "module",
    "function",
    "builtin_function_or_method",
    "instance",
    "_Feature"
   ],
   "window_display": false
  }
 },
 "nbformat": 4,
 "nbformat_minor": 4
}
