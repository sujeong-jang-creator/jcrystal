{
 "cells": [
  {
   "cell_type": "markdown",
   "metadata": {},
   "source": [
    "# tf.data 모듈\n",
    "- 데이터 입력 파이프라인을 위한 모듈\n",
    "    - 모델 학습/평가을 위한 대용량 데이터셋을 제공(feeding)하기 위한 모듈\n",
    "    - raw dataset 에서 입력을 위한 전처리, 제공을 위한 배치, shuffling등을 한번에 처리할 수 있게 한다.\n",
    "- tf.data.Dataset 추상클래스에서 상속된 여러가지 클래스들을 제공\n",
    "    - 입력 소스의 제공 형태에 따라 다양한 방식을 제공\n",
    "\n",
    "\n",
    "## 데이터셋 API 사용\n",
    "1. <span style='font-size:1.2em;font-weight:bolder'>Dataset 생성</span>\n",
    "    - raw dataset을 지정\n",
    "    - from_tensor_slices(), from_generator() 클래스 메소드, tf.data.TFRecordDataset 클래스등를 사용해 메모리나 파일에 있는 데이터를 Dataset으로 만든다.\n",
    "    - from_tensor_slices(): 리스트 넘파이배열, 텐서플로 자료형에서 데이터를 생성한다.\n",
    "2. <span style='font-size:1.2em;font-weight:bolder'>제공 데이터 전처리</span>\n",
    "    - map(함수) : 하나 하나의 데이터를 변환\n",
    "        - 함수: 값을 변환할 함수로 입력데이터셋의 개수만큼 매개변수 선언\n",
    "    - filter(함수): 특정 조건의 데이터만 제공하도록 처리.\n",
    "        - - 함수: 제공할 값의 조건을 정의한 함수로 입력데이터셋의 개수만큼 매개변수 선언하고 bool 값을 반환.\n",
    "3. <span style='font-size:1.2em;font-weight:bolder'>Dataset을 사용해 데이터 제공</span>\n",
    "    - batch(), shuffle()을 이용해 제공 방식 지정\n",
    "        - batch(size): 학습/평가시 한번에 제공할 batch size 지정\n",
    "            - size: int. batch size 지정\n",
    "            - drop_remainder: bool. True일 경우 마지막 제공시 남은 데이터수가 batch size보다 작으면 제공하지 않는다.\n",
    "    -  shuffle(buffer 크기): dataset의 원소들의 순서를 섞는다. \n",
    "        - buffer 크기: int. buffer 크기는 섞는 공간의 크기로  **데이터보다 크거나 같으면** 완전셔플, **적으면 일부만 가져와서 섞어** 완전셔플이 안된다.\n",
    "        - 데이터 사이즈가 너무 커서 메모리가 부족할 경우 버퍼크기를 적게 준다.\n",
    "        - 메모리가 충분하다면 데이터의 개수와 동일하게 주면된다.\n",
    "    - repeat(count): 전체 데이터를 한번 다 제공한 뒤 다시 데이터를 제공한다.\n",
    "        - count: 몇번 제공할지 반복 횟수\n",
    "        - shuffle이 적용된 Dataset의 경우 다음 반복 제공마다 shuffle을 진행한다.\n",
    "        \n",
    "### Dataset 메소드\n",
    "- take(개수): 지정한 개수만큼의 데이터만 제공한다.\n"
   ]
  },
  {
   "cell_type": "code",
   "execution_count": 1,
   "metadata": {},
   "outputs": [],
   "source": [
    "import tensorflow as tf\n",
    "import numpy as np"
   ]
  },
  {
   "cell_type": "code",
   "execution_count": 3,
   "metadata": {},
   "outputs": [
    {
     "data": {
      "text/plain": [
       "array([0, 1, 2, 3, 4, 5, 6, 7, 8, 9])"
      ]
     },
     "execution_count": 3,
     "metadata": {},
     "output_type": "execute_result"
    }
   ],
   "source": [
    "raw_data = np.arange(10) \n",
    "raw_data"
   ]
  },
  {
   "cell_type": "code",
   "execution_count": 4,
   "metadata": {},
   "outputs": [
    {
     "name": "stdout",
     "output_type": "stream",
     "text": [
      "<class 'tensorflow.python.data.ops.dataset_ops.TensorSliceDataset'>\n"
     ]
    }
   ],
   "source": [
    "dataset = tf.data.Dataset.from_tensor_slices(raw_data)\n",
    "print(type(dataset))"
   ]
  },
  {
   "cell_type": "code",
   "execution_count": 5,
   "metadata": {},
   "outputs": [
    {
     "name": "stdout",
     "output_type": "stream",
     "text": [
      "tf.Tensor(0, shape=(), dtype=int32)\n",
      "tf.Tensor(1, shape=(), dtype=int32)\n",
      "tf.Tensor(2, shape=(), dtype=int32)\n",
      "tf.Tensor(3, shape=(), dtype=int32)\n",
      "tf.Tensor(4, shape=(), dtype=int32)\n",
      "tf.Tensor(5, shape=(), dtype=int32)\n",
      "tf.Tensor(6, shape=(), dtype=int32)\n",
      "tf.Tensor(7, shape=(), dtype=int32)\n",
      "tf.Tensor(8, shape=(), dtype=int32)\n",
      "tf.Tensor(9, shape=(), dtype=int32)\n"
     ]
    }
   ],
   "source": [
    "# Dataset으로 부터 값 조회\n",
    "# take()함수사용-원하는 개수만큼, 반복문 (Dataset=>Iterable타입)-전체조회\n",
    "for data in dataset:\n",
    "    print(data)"
   ]
  },
  {
   "cell_type": "code",
   "execution_count": 24,
   "metadata": {},
   "outputs": [
    {
     "data": {
      "text/plain": [
       "array([10, 11, 12, 13, 14, 15, 16, 17, 18, 19])"
      ]
     },
     "execution_count": 24,
     "metadata": {},
     "output_type": "execute_result"
    }
   ],
   "source": [
    "raw_data2 = np.arange(10,20)\n",
    "raw_data2"
   ]
  },
  {
   "cell_type": "code",
   "execution_count": 25,
   "metadata": {},
   "outputs": [
    {
     "name": "stdout",
     "output_type": "stream",
     "text": [
      "tf.Tensor(0, shape=(), dtype=int32) tf.Tensor(10, shape=(), dtype=int32)\n",
      "tf.Tensor(1, shape=(), dtype=int32) tf.Tensor(11, shape=(), dtype=int32)\n",
      "tf.Tensor(2, shape=(), dtype=int32) tf.Tensor(12, shape=(), dtype=int32)\n",
      "tf.Tensor(3, shape=(), dtype=int32) tf.Tensor(13, shape=(), dtype=int32)\n",
      "tf.Tensor(4, shape=(), dtype=int32) tf.Tensor(14, shape=(), dtype=int32)\n",
      "tf.Tensor(5, shape=(), dtype=int32) tf.Tensor(15, shape=(), dtype=int32)\n",
      "tf.Tensor(6, shape=(), dtype=int32) tf.Tensor(16, shape=(), dtype=int32)\n",
      "tf.Tensor(7, shape=(), dtype=int32) tf.Tensor(17, shape=(), dtype=int32)\n",
      "tf.Tensor(8, shape=(), dtype=int32) tf.Tensor(18, shape=(), dtype=int32)\n",
      "tf.Tensor(9, shape=(), dtype=int32) tf.Tensor(19, shape=(), dtype=int32)\n"
     ]
    }
   ],
   "source": [
    "# 학습- model.fit(X, y)\n",
    "# raw_data: X_train, raw_data2: y_train\n",
    "dataset2 = tf.data.Dataset.from_tensor_slices((raw_data, raw_data2)) \n",
    "for X, y in dataset2:\n",
    "    print(X, y)\n",
    "#     print(type(data))\n",
    "#     print(data)\n",
    "    "
   ]
  },
  {
   "cell_type": "code",
   "execution_count": 8,
   "metadata": {},
   "outputs": [
    {
     "name": "stdout",
     "output_type": "stream",
     "text": [
      "[0 1 2 3 4 5 6 7 8 9]\n",
      "[10 11 12 13 14 15 16 17 18 19]\n"
     ]
    }
   ],
   "source": [
    "print(raw_data)\n",
    "print(raw_data2)"
   ]
  },
  {
   "cell_type": "code",
   "execution_count": 6,
   "metadata": {},
   "outputs": [
    {
     "name": "stdout",
     "output_type": "stream",
     "text": [
      "<class 'tensorflow.python.data.ops.dataset_ops.TakeDataset'>\n",
      "tf.Tensor(0, shape=(), dtype=int32)\n",
      "tf.Tensor(1, shape=(), dtype=int32)\n",
      "tf.Tensor(2, shape=(), dtype=int32)\n"
     ]
    }
   ],
   "source": [
    "# dataset.take(개수): 지정한 개수만큼만 조회\n",
    "dataset3 = dataset.take(3) #dataset으로 부터 3개\n",
    "print(type(dataset3))\n",
    "for data in dataset3:\n",
    "    print(data)"
   ]
  },
  {
   "cell_type": "code",
   "execution_count": 7,
   "metadata": {},
   "outputs": [
    {
     "name": "stdout",
     "output_type": "stream",
     "text": [
      "<class 'tensorflow.python.data.ops.dataset_ops.ShuffleDataset'>\n",
      "tf.Tensor(3, shape=(), dtype=int32)\n",
      "tf.Tensor(6, shape=(), dtype=int32)\n",
      "tf.Tensor(2, shape=(), dtype=int32)\n",
      "tf.Tensor(5, shape=(), dtype=int32)\n",
      "tf.Tensor(1, shape=(), dtype=int32)\n",
      "tf.Tensor(4, shape=(), dtype=int32)\n",
      "tf.Tensor(0, shape=(), dtype=int32)\n",
      "tf.Tensor(7, shape=(), dtype=int32)\n",
      "tf.Tensor(8, shape=(), dtype=int32)\n",
      "tf.Tensor(9, shape=(), dtype=int32)\n"
     ]
    }
   ],
   "source": [
    "# dataset.shuffle(buffer_size:정수) : dataset의 원소들을 섞어준다. buffer_size는 메모리가 허용하는 한 raw_data와 같은 개수로 지정.\n",
    "dataset4 = dataset.shuffle(10) \n",
    "print(type(dataset4))\n",
    "for data in dataset4:\n",
    "    print(data)"
   ]
  },
  {
   "cell_type": "code",
   "execution_count": 76,
   "metadata": {},
   "outputs": [
    {
     "name": "stdout",
     "output_type": "stream",
     "text": [
      "<class 'tensorflow.python.data.ops.dataset_ops.BatchDataset'>\n",
      "tf.Tensor([0 1 2], shape=(3,), dtype=int32)\n",
      "tf.Tensor([3 4 5], shape=(3,), dtype=int32)\n",
      "tf.Tensor([6 7 8], shape=(3,), dtype=int32)\n"
     ]
    }
   ],
   "source": [
    "# dataset.batch(batch_size): 한번에 제공하는 데이터의 개수\n",
    "# dataset5 = dataset.batch(3)  # 한번에 3개씩 제공\n",
    "dataset5 = dataset.batch(3, drop_remainder=True)\n",
    "print(type(dataset5))\n",
    "for data in dataset5:\n",
    "    print(data)\n",
    "    "
   ]
  },
  {
   "cell_type": "code",
   "execution_count": 9,
   "metadata": {},
   "outputs": [
    {
     "name": "stdout",
     "output_type": "stream",
     "text": [
      "tf.Tensor([7 0 5], shape=(3,), dtype=int32)\n",
      "tf.Tensor([8 6 9], shape=(3,), dtype=int32)\n",
      "tf.Tensor([1 3 2], shape=(3,), dtype=int32)\n",
      "tf.Tensor([4], shape=(1,), dtype=int32)\n"
     ]
    }
   ],
   "source": [
    "# 기본 dataset + shuffle + batch \n",
    "# a = dataset.shuffle(10)\n",
    "# b = a.batch(3)\n",
    "dataset = tf.data.Dataset.from_tensor_slices(raw_data)\n",
    "\n",
    "dataset6 = dataset.shuffle(10).batch(3)\n",
    "for d in dataset6:\n",
    "    print(d)"
   ]
  },
  {
   "cell_type": "code",
   "execution_count": 12,
   "metadata": {},
   "outputs": [
    {
     "name": "stdout",
     "output_type": "stream",
     "text": [
      "<class 'tensorflow.python.data.ops.dataset_ops.RepeatDataset'>\n",
      "tf.Tensor(0, shape=(), dtype=int32)\n",
      "tf.Tensor(1, shape=(), dtype=int32)\n",
      "tf.Tensor(2, shape=(), dtype=int32)\n",
      "tf.Tensor(3, shape=(), dtype=int32)\n",
      "tf.Tensor(4, shape=(), dtype=int32)\n",
      "tf.Tensor(5, shape=(), dtype=int32)\n",
      "tf.Tensor(6, shape=(), dtype=int32)\n",
      "tf.Tensor(7, shape=(), dtype=int32)\n",
      "tf.Tensor(8, shape=(), dtype=int32)\n",
      "tf.Tensor(9, shape=(), dtype=int32)\n",
      "tf.Tensor(0, shape=(), dtype=int32)\n",
      "tf.Tensor(1, shape=(), dtype=int32)\n",
      "tf.Tensor(2, shape=(), dtype=int32)\n",
      "tf.Tensor(3, shape=(), dtype=int32)\n",
      "tf.Tensor(4, shape=(), dtype=int32)\n",
      "tf.Tensor(5, shape=(), dtype=int32)\n",
      "tf.Tensor(6, shape=(), dtype=int32)\n",
      "tf.Tensor(7, shape=(), dtype=int32)\n",
      "tf.Tensor(8, shape=(), dtype=int32)\n",
      "tf.Tensor(9, shape=(), dtype=int32)\n"
     ]
    }
   ],
   "source": [
    "# dataset.repeat(count) # 전체 데이터셋을 count 만큼 반복해서 제공, count 생략하면 무한제공\n",
    "dataset7 = dataset.repeat(2) #3번 반복해서 제공\n",
    "print(type(dataset7))\n",
    "for data in dataset7:\n",
    "    print(data)"
   ]
  },
  {
   "cell_type": "code",
   "execution_count": 13,
   "metadata": {},
   "outputs": [
    {
     "name": "stdout",
     "output_type": "stream",
     "text": [
      "tf.Tensor([5 9 8 0 2], shape=(5,), dtype=int32)\n",
      "tf.Tensor([3 6 4 1 7], shape=(5,), dtype=int32)\n",
      "tf.Tensor([8 0 7 1 3], shape=(5,), dtype=int32)\n",
      "tf.Tensor([4 5 2 6 9], shape=(5,), dtype=int32)\n",
      "tf.Tensor([8 3 2 1 9], shape=(5,), dtype=int32)\n",
      "tf.Tensor([6 5 0 4 7], shape=(5,), dtype=int32)\n"
     ]
    }
   ],
   "source": [
    "# 여러번 반복해서(repeat) 값을 제공할 경우 반복을 시작할 때 마다 shuffle을 한다.\n",
    "dataset8 = dataset.shuffle(10).batch(5).repeat(3)\n",
    "for data in dataset8:\n",
    "    print(data)"
   ]
  },
  {
   "cell_type": "code",
   "execution_count": 19,
   "metadata": {
    "collapsed": true
   },
   "outputs": [
    {
     "name": "stdout",
     "output_type": "stream",
     "text": [
      "<class 'tensorflow.python.data.ops.dataset_ops.MapDataset'>\n",
      "tf.Tensor(0, shape=(), dtype=int32)\n",
      "tf.Tensor(1, shape=(), dtype=int32)\n",
      "tf.Tensor(4, shape=(), dtype=int32)\n",
      "tf.Tensor(9, shape=(), dtype=int32)\n",
      "tf.Tensor(16, shape=(), dtype=int32)\n",
      "tf.Tensor(25, shape=(), dtype=int32)\n",
      "tf.Tensor(36, shape=(), dtype=int32)\n",
      "tf.Tensor(49, shape=(), dtype=int32)\n",
      "tf.Tensor(64, shape=(), dtype=int32)\n",
      "tf.Tensor(81, shape=(), dtype=int32)\n"
     ]
    }
   ],
   "source": [
    "# dataset.map(함수): 원소들의 값을 변환해서 제공. \n",
    "# 함수: 어떻게 변환할지 - 매개변수: dataset이 제공하는 값을 받는 변수(dataset의 배열개수만큼 지정), 반환값: dataset이 제공하는 값\n",
    "# 값들을 제곱해서 변환\n",
    "# mapping함수 - 입력데이터(argument)와 출력데이터(return)의 타입이 동일해야 한다.\n",
    "def mapping_func(x):\n",
    "    return x**2\n",
    "#     return x/255.\n",
    "\n",
    "dataset9 = dataset.map(mapping_func)\n",
    "print(type(dataset9))\n",
    "for data in dataset9:\n",
    "    print(data)"
   ]
  },
  {
   "cell_type": "code",
   "execution_count": 32,
   "metadata": {},
   "outputs": [],
   "source": [
    "def mapping_func2(x, y):#x: raw_data, y: raw_data2\n",
    "    \n",
    "#     return x**3, y**2 #x**3: raw_data에 변환값,  y**2: raw_data2에 변환값\n",
    "    return x**3, y  # 변환하지 않는 경우는 받은 값을 그대로 반환.\n",
    "\n",
    "dataset2 = tf.data.Dataset.from_tensor_slices((raw_data, raw_data2))\n",
    "dataset10 = dataset2.map(mapping_func2)"
   ]
  },
  {
   "cell_type": "code",
   "execution_count": 33,
   "metadata": {
    "collapsed": true
   },
   "outputs": [
    {
     "name": "stdout",
     "output_type": "stream",
     "text": [
      "(<tf.Tensor: shape=(), dtype=int32, numpy=0>, <tf.Tensor: shape=(), dtype=int32, numpy=10>)\n",
      "(<tf.Tensor: shape=(), dtype=int32, numpy=1>, <tf.Tensor: shape=(), dtype=int32, numpy=11>)\n",
      "(<tf.Tensor: shape=(), dtype=int32, numpy=8>, <tf.Tensor: shape=(), dtype=int32, numpy=12>)\n",
      "(<tf.Tensor: shape=(), dtype=int32, numpy=27>, <tf.Tensor: shape=(), dtype=int32, numpy=13>)\n",
      "(<tf.Tensor: shape=(), dtype=int32, numpy=64>, <tf.Tensor: shape=(), dtype=int32, numpy=14>)\n",
      "(<tf.Tensor: shape=(), dtype=int32, numpy=125>, <tf.Tensor: shape=(), dtype=int32, numpy=15>)\n",
      "(<tf.Tensor: shape=(), dtype=int32, numpy=216>, <tf.Tensor: shape=(), dtype=int32, numpy=16>)\n",
      "(<tf.Tensor: shape=(), dtype=int32, numpy=343>, <tf.Tensor: shape=(), dtype=int32, numpy=17>)\n",
      "(<tf.Tensor: shape=(), dtype=int32, numpy=512>, <tf.Tensor: shape=(), dtype=int32, numpy=18>)\n",
      "(<tf.Tensor: shape=(), dtype=int32, numpy=729>, <tf.Tensor: shape=(), dtype=int32, numpy=19>)\n"
     ]
    }
   ],
   "source": [
    "for data in dataset10:\n",
    "    print(data)"
   ]
  },
  {
   "cell_type": "code",
   "execution_count": 34,
   "metadata": {},
   "outputs": [],
   "source": [
    "def test(x):\n",
    "    return x+10"
   ]
  },
  {
   "cell_type": "code",
   "execution_count": 36,
   "metadata": {},
   "outputs": [
    {
     "data": {
      "text/plain": [
       "(20, 40)"
      ]
     },
     "execution_count": 36,
     "metadata": {},
     "output_type": "execute_result"
    }
   ],
   "source": [
    "test(10), test(30)"
   ]
  },
  {
   "cell_type": "code",
   "execution_count": 42,
   "metadata": {},
   "outputs": [],
   "source": [
    "# 람다(표현)식: 함수를 연산식으로 정의한 것. lambda 매개변수들 : 반환값구현\n",
    "test2 = lambda x: x+10\n",
    "test3 = lambda x, y: (x+10, y*2)"
   ]
  },
  {
   "cell_type": "code",
   "execution_count": 39,
   "metadata": {},
   "outputs": [
    {
     "data": {
      "text/plain": [
       "(20, 40)"
      ]
     },
     "execution_count": 39,
     "metadata": {},
     "output_type": "execute_result"
    }
   ],
   "source": [
    "test2(10), test(30)"
   ]
  },
  {
   "cell_type": "code",
   "execution_count": 43,
   "metadata": {},
   "outputs": [
    {
     "data": {
      "text/plain": [
       "(20, 10)"
      ]
     },
     "execution_count": 43,
     "metadata": {},
     "output_type": "execute_result"
    }
   ],
   "source": [
    "test3(10,5)"
   ]
  },
  {
   "cell_type": "code",
   "execution_count": 44,
   "metadata": {
    "collapsed": true
   },
   "outputs": [
    {
     "name": "stdout",
     "output_type": "stream",
     "text": [
      "tf.Tensor(0, shape=(), dtype=int32)\n",
      "tf.Tensor(1, shape=(), dtype=int32)\n",
      "tf.Tensor(4, shape=(), dtype=int32)\n",
      "tf.Tensor(9, shape=(), dtype=int32)\n",
      "tf.Tensor(16, shape=(), dtype=int32)\n",
      "tf.Tensor(25, shape=(), dtype=int32)\n",
      "tf.Tensor(36, shape=(), dtype=int32)\n",
      "tf.Tensor(49, shape=(), dtype=int32)\n",
      "tf.Tensor(64, shape=(), dtype=int32)\n",
      "tf.Tensor(81, shape=(), dtype=int32)\n"
     ]
    }
   ],
   "source": [
    "dataset11 = dataset.map(lambda x: x**2)\n",
    "for data in dataset11:\n",
    "    print(data)"
   ]
  },
  {
   "cell_type": "code",
   "execution_count": 47,
   "metadata": {
    "collapsed": true
   },
   "outputs": [
    {
     "name": "stdout",
     "output_type": "stream",
     "text": [
      "(<tf.Tensor: shape=(), dtype=int32, numpy=0>, <tf.Tensor: shape=(), dtype=int32, numpy=100>)\n",
      "(<tf.Tensor: shape=(), dtype=int32, numpy=1>, <tf.Tensor: shape=(), dtype=int32, numpy=121>)\n",
      "(<tf.Tensor: shape=(), dtype=int32, numpy=8>, <tf.Tensor: shape=(), dtype=int32, numpy=144>)\n",
      "(<tf.Tensor: shape=(), dtype=int32, numpy=27>, <tf.Tensor: shape=(), dtype=int32, numpy=169>)\n",
      "(<tf.Tensor: shape=(), dtype=int32, numpy=64>, <tf.Tensor: shape=(), dtype=int32, numpy=196>)\n",
      "(<tf.Tensor: shape=(), dtype=int32, numpy=125>, <tf.Tensor: shape=(), dtype=int32, numpy=225>)\n",
      "(<tf.Tensor: shape=(), dtype=int32, numpy=216>, <tf.Tensor: shape=(), dtype=int32, numpy=256>)\n",
      "(<tf.Tensor: shape=(), dtype=int32, numpy=343>, <tf.Tensor: shape=(), dtype=int32, numpy=289>)\n",
      "(<tf.Tensor: shape=(), dtype=int32, numpy=512>, <tf.Tensor: shape=(), dtype=int32, numpy=324>)\n",
      "(<tf.Tensor: shape=(), dtype=int32, numpy=729>, <tf.Tensor: shape=(), dtype=int32, numpy=361>)\n"
     ]
    }
   ],
   "source": [
    "dataset12 = dataset2.map(lambda x, y: (x**3, y**2))\n",
    "for data in dataset12:\n",
    "    print(data)"
   ]
  },
  {
   "cell_type": "code",
   "execution_count": 50,
   "metadata": {},
   "outputs": [
    {
     "name": "stdout",
     "output_type": "stream",
     "text": [
      "<class 'tensorflow.python.data.ops.dataset_ops.FilterDataset'>\n",
      "tf.Tensor(0, shape=(), dtype=int32)\n",
      "tf.Tensor(2, shape=(), dtype=int32)\n",
      "tf.Tensor(4, shape=(), dtype=int32)\n",
      "tf.Tensor(6, shape=(), dtype=int32)\n",
      "tf.Tensor(8, shape=(), dtype=int32)\n"
     ]
    }
   ],
   "source": [
    "# dataset.filter(함수): 원소들 중에서 특정 조건이 True인 값들만 제공.\n",
    "# 함수-매개변수: dataset이 제공하는 값을 받을 변수. (dataset의 배열개수만큼 지정), 반환값: Boolean\n",
    "\n",
    "# 원소들 중에서 2의 배수만 제공하는 dataset\n",
    "\n",
    "def filter_func(x):\n",
    "    return x%2 == 0  #x가 2의 배수인 경우 True 반환\n",
    "\n",
    "dataset13 = dataset.filter(filter_func) #각각의 값을 filter_func() 넣었을때 True를 반환하는 값만 제공.\n",
    "print(type(dataset13))\n",
    "for data in dataset13:\n",
    "    print(data)"
   ]
  },
  {
   "cell_type": "code",
   "execution_count": 51,
   "metadata": {},
   "outputs": [
    {
     "name": "stdout",
     "output_type": "stream",
     "text": [
      "tf.Tensor(6, shape=(), dtype=int32)\n",
      "tf.Tensor(7, shape=(), dtype=int32)\n",
      "tf.Tensor(8, shape=(), dtype=int32)\n",
      "tf.Tensor(9, shape=(), dtype=int32)\n"
     ]
    }
   ],
   "source": [
    "dataset14 = dataset.filter(lambda x : x > 5)  # 값들 중에서 5보다 큰값들만 제공\n",
    "for data in dataset14:\n",
    "    print(data)"
   ]
  },
  {
   "cell_type": "code",
   "execution_count": null,
   "metadata": {},
   "outputs": [],
   "source": []
  },
  {
   "cell_type": "code",
   "execution_count": 58,
   "metadata": {},
   "outputs": [],
   "source": [
    "raw_data = np.arange(-10,11)\n",
    "dataset_final = tf.data.Dataset.from_tensor_slices(raw_data).filter(lambda x:x>=0).map(lambda y:y+10).shuffle(raw_data.size).batch(3).repeat(2)"
   ]
  },
  {
   "cell_type": "code",
   "execution_count": 59,
   "metadata": {},
   "outputs": [
    {
     "name": "stdout",
     "output_type": "stream",
     "text": [
      "tf.Tensor([17 10 13], shape=(3,), dtype=int32)\n",
      "tf.Tensor([18 11 14], shape=(3,), dtype=int32)\n",
      "tf.Tensor([12 16 15], shape=(3,), dtype=int32)\n",
      "tf.Tensor([19 20], shape=(2,), dtype=int32)\n",
      "tf.Tensor([18 12 13], shape=(3,), dtype=int32)\n",
      "tf.Tensor([16 17 20], shape=(3,), dtype=int32)\n",
      "tf.Tensor([15 14 19], shape=(3,), dtype=int32)\n",
      "tf.Tensor([11 10], shape=(2,), dtype=int32)\n"
     ]
    }
   ],
   "source": [
    "for data in dataset_final:\n",
    "    print(data)"
   ]
  },
  {
   "cell_type": "code",
   "execution_count": null,
   "metadata": {},
   "outputs": [],
   "source": []
  },
  {
   "cell_type": "markdown",
   "metadata": {},
   "source": [
    "# 1. 회귀 - Boston Housing Dataset\n",
    "보스턴 주택가격 dataset은 다음과 같은 속성을 바탕으로 해당 타운 주택 가격의 중앙값을 예측하는 문제.\n",
    "- CRIM: 범죄율\n",
    "- ZN: 25,000 평방피트당 주거지역 비율\n",
    "- INDUS: 비소매 상업지구 비율\n",
    "- CHAS: 찰스강에 인접해 있는지 여부(인접:1, 아니면:0)\n",
    "- NOX: 일산화질소 농도(단위: 0.1ppm)\n",
    "- RM: 주택당 방의 수\n",
    "- AGE: 1940년 이전에 건설된 주택의 비율\n",
    "- DIS: 5개의 보스턴 직업고용센터와의 거리(가중 평균)\n",
    "- RAD: 고속도로 접근성\n",
    "- TAX: 재산세율\n",
    "- PTRATIO: 학생/교사 비율\n",
    "- B: 흑인 비율\n",
    "- LSTAT: 하위 계층 비율\n",
    "\n",
    "예측해야하는 것\n",
    "- MEDV: 타운의 주택가격 중앙값(단위: 1,000달러)"
   ]
  },
  {
   "cell_type": "code",
   "execution_count": 60,
   "metadata": {},
   "outputs": [],
   "source": [
    "import numpy as np\n",
    "\n",
    "import tensorflow as tf\n",
    "from tensorflow import keras\n",
    "\n",
    "from tensorflow.keras import layers, models  #layers: Deeplearning 모델의 Layer를 정의하는 클래스들을 가진 모듈"
   ]
  },
  {
   "cell_type": "code",
   "execution_count": 62,
   "metadata": {},
   "outputs": [],
   "source": [
    "# 랜덤값들의 seed값 지정\n",
    "np.random.seed(0)\n",
    "tf.random.set_seed(0)"
   ]
  },
  {
   "cell_type": "code",
   "execution_count": 67,
   "metadata": {},
   "outputs": [
    {
     "name": "stdout",
     "output_type": "stream",
     "text": [
      "(404, 13) (102, 13)\n",
      "(404,) (102,)\n"
     ]
    }
   ],
   "source": [
    "# 데이터를 로딩\n",
    "(train_X, train_y), (test_X, test_y) = keras.datasets.boston_housing.load_data()\n",
    "print(train_X.shape, test_X.shape)\n",
    "print(train_y.shape, test_y.shape)"
   ]
  },
  {
   "cell_type": "code",
   "execution_count": 68,
   "metadata": {
    "collapsed": true
   },
   "outputs": [
    {
     "data": {
      "text/plain": [
       "array([[1.23247e+00, 0.00000e+00, 8.14000e+00, 0.00000e+00, 5.38000e-01,\n",
       "        6.14200e+00, 9.17000e+01, 3.97690e+00, 4.00000e+00, 3.07000e+02,\n",
       "        2.10000e+01, 3.96900e+02, 1.87200e+01],\n",
       "       [2.17700e-02, 8.25000e+01, 2.03000e+00, 0.00000e+00, 4.15000e-01,\n",
       "        7.61000e+00, 1.57000e+01, 6.27000e+00, 2.00000e+00, 3.48000e+02,\n",
       "        1.47000e+01, 3.95380e+02, 3.11000e+00],\n",
       "       [4.89822e+00, 0.00000e+00, 1.81000e+01, 0.00000e+00, 6.31000e-01,\n",
       "        4.97000e+00, 1.00000e+02, 1.33250e+00, 2.40000e+01, 6.66000e+02,\n",
       "        2.02000e+01, 3.75520e+02, 3.26000e+00]])"
      ]
     },
     "execution_count": 68,
     "metadata": {},
     "output_type": "execute_result"
    }
   ],
   "source": [
    "train_X[:3]"
   ]
  },
  {
   "cell_type": "code",
   "execution_count": 70,
   "metadata": {},
   "outputs": [
    {
     "data": {
      "text/plain": [
       "array([15.2, 42.3, 50. ])"
      ]
     },
     "execution_count": 70,
     "metadata": {},
     "output_type": "execute_result"
    }
   ],
   "source": [
    "train_y[:3]"
   ]
  },
  {
   "cell_type": "markdown",
   "metadata": {},
   "source": [
    "#### 하이퍼파라미터, 변수 정의"
   ]
  },
  {
   "cell_type": "code",
   "execution_count": 103,
   "metadata": {},
   "outputs": [],
   "source": [
    "# 하이퍼파라미터\n",
    "LEARNING_RATE = 0.001  # 학습률\n",
    "N_EPOCHS  = 300  # epoch수\n",
    "N_BATCHS = 32    # 배치 사이즈\n",
    "\n",
    "# 변수\n",
    "N_TRAIN = train_X.shape[0]  #train 데이터셋의 데이터 개수\n",
    "N_TEST = test_X.shape[0]    #test 데이터셋의 데이터 개수"
   ]
  },
  {
   "cell_type": "markdown",
   "metadata": {},
   "source": [
    "#### X, y 전처리, Dataset 생성"
   ]
  },
  {
   "cell_type": "code",
   "execution_count": 73,
   "metadata": {},
   "outputs": [],
   "source": [
    "# X 전처리 - Scaling\n",
    "from sklearn.preprocessing import StandardScaler\n",
    "scaler = StandardScaler()\n",
    "X_train = scaler.fit_transform(train_X)\n",
    "X_test = scaler.transform(test_X)"
   ]
  },
  {
   "cell_type": "code",
   "execution_count": 78,
   "metadata": {},
   "outputs": [
    {
     "data": {
      "text/plain": [
       "(404, 13)"
      ]
     },
     "execution_count": 78,
     "metadata": {},
     "output_type": "execute_result"
    }
   ],
   "source": [
    "X_train.shape"
   ]
  },
  {
   "cell_type": "code",
   "execution_count": 77,
   "metadata": {},
   "outputs": [],
   "source": [
    "# Dataset 구현\n",
    "# drop_remainder=True: 남은 짜투리는 버려라(제공하지 말아라.) - 마지막 배치의 원소 수가 batch size보다 작으면 제공하지 않겠다.\n",
    "train_dataset = tf.data.Dataset.from_tensor_slices((X_train, train_y)).shuffle(N_TRAIN).batch(N_BATCHS, drop_remainder=True)\n",
    "\n",
    "test_dataset = tf.data.Dataset.from_tensor_slices((X_test, test_y)).batch(N_BATCHS)"
   ]
  },
  {
   "cell_type": "markdown",
   "metadata": {},
   "source": [
    "#### 모델 구현"
   ]
  },
  {
   "cell_type": "code",
   "execution_count": 104,
   "metadata": {},
   "outputs": [],
   "source": [
    "# 모델(네트워크)를 정의하는 함수\n",
    "def create_housing_model():\n",
    "    # 모델 생성\n",
    "    model = keras.Sequential()\n",
    "#     model = models.Sequential()\n",
    "    # 모델에 layer들을 추가\n",
    "#     model.add(layers.InputLayer((13,)))\n",
    "#     model.add(layers.Dense(units=32, activation=\"relu\"))\n",
    "# DenseLayer: units개수는 2배수를 사용. 개수는 줄여나간다.\n",
    "    model.add(layers.Dense(units=32, activation=\"relu\", input_shape=(13,)))  #첫번째 Hidden Layer에 input_shape을 지정할 수 있다.\n",
    "    model.add(layers.Dense(units=16, activation='relu'))\n",
    "    model.add(layers.Dense(units=8, activation='relu'))\n",
    "    # **출력레이어: 회귀** - units수: 1 (추론할 값이 1개), 활성함수: None\n",
    "    model.add(layers.Dense(units=1))\n",
    "    \n",
    "    return model\n",
    "    "
   ]
  },
  {
   "cell_type": "code",
   "execution_count": 105,
   "metadata": {},
   "outputs": [
    {
     "name": "stdout",
     "output_type": "stream",
     "text": [
      "<tensorflow.python.keras.engine.sequential.Sequential object at 0x00000295CA858220>\n"
     ]
    }
   ],
   "source": [
    "model = create_housing_model()\n",
    "print(model)"
   ]
  },
  {
   "cell_type": "code",
   "execution_count": 106,
   "metadata": {},
   "outputs": [
    {
     "name": "stdout",
     "output_type": "stream",
     "text": [
      "Model: \"sequential_1\"\n",
      "_________________________________________________________________\n",
      "Layer (type)                 Output Shape              Param #   \n",
      "=================================================================\n",
      "dense_4 (Dense)              (None, 32)                448       \n",
      "_________________________________________________________________\n",
      "dense_5 (Dense)              (None, 16)                528       \n",
      "_________________________________________________________________\n",
      "dense_6 (Dense)              (None, 8)                 136       \n",
      "_________________________________________________________________\n",
      "dense_7 (Dense)              (None, 1)                 9         \n",
      "=================================================================\n",
      "Total params: 1,121\n",
      "Trainable params: 1,121\n",
      "Non-trainable params: 0\n",
      "_________________________________________________________________\n"
     ]
    }
   ],
   "source": [
    "# 생성된 네트워크의 구조(summay)를 확인\n",
    "model.summary()"
   ]
  },
  {
   "cell_type": "code",
   "execution_count": 107,
   "metadata": {},
   "outputs": [
    {
     "data": {
      "text/plain": [
       "448"
      ]
     },
     "execution_count": 107,
     "metadata": {},
     "output_type": "execute_result"
    }
   ],
   "source": [
    "# 레이어당 파라미터의 개수\n",
    "# 1 노드: input 속성수  + 1\n",
    "# input속성수 * unit수 + unit수(bias의개수)\n",
    "13*32 + 32"
   ]
  },
  {
   "cell_type": "code",
   "execution_count": 108,
   "metadata": {},
   "outputs": [
    {
     "data": {
      "image/png": "[encoded data removed]",
      "text/plain": [
       "<IPython.core.display.Image object>"
      ]
     },
     "execution_count": 108,
     "metadata": {},
     "output_type": "execute_result"
    }
   ],
   "source": [
    "# 모델구조를 그래프로 확인 -> graphviz 가 설치되있어야 한다.\n",
    "keras.utils.plot_model(model, show_shapes=True, to_file='housing_model.png')  #to_file은 파일경로(절대,상대)를 지정. 생략: model.png"
   ]
  },
  {
   "cell_type": "markdown",
   "metadata": {},
   "source": [
    "#### 컴파일 \n",
    "- 모델이 학습 할 때 필요한 설정을 해주는 작업\n",
    "    - loss\n",
    "    - optimizer\n",
    "    - metrics"
   ]
  },
  {
   "cell_type": "code",
   "execution_count": 109,
   "metadata": {},
   "outputs": [],
   "source": [
    "# 회귀 - loss: mean squared error - \"mse\"\n",
    "model.compile(loss='mse', \n",
    "              optimizer=keras.optimizers.Adam(learning_rate=LEARNING_RATE)) #optimizer를 문자열 지정: 기본설정을 사용."
   ]
  },
  {
   "cell_type": "markdown",
   "metadata": {},
   "source": [
    "#### 학습(Train)"
   ]
  },
  {
   "cell_type": "code",
   "execution_count": 110,
   "metadata": {},
   "outputs": [
    {
     "name": "stdout",
     "output_type": "stream",
     "text": [
      "Epoch 1/300\n",
      "12/12 [==============================] - 1s 12ms/step - loss: 592.8709 - val_loss: 619.4831\n",
      "Epoch 2/300\n",
      "12/12 [==============================] - 0s 4ms/step - loss: 593.2823 - val_loss: 611.2827\n",
      "Epoch 3/300\n",
      "12/12 [==============================] - 0s 5ms/step - loss: 584.1644 - val_loss: 604.6678\n",
      "Epoch 4/300\n",
      "12/12 [==============================] - 0s 8ms/step - loss: 575.6312 - val_loss: 596.9319\n",
      "Epoch 5/300\n",
      "12/12 [==============================] - 0s 6ms/step - loss: 563.8726 - val_loss: 585.2517\n",
      "Epoch 6/300\n",
      "12/12 [==============================] - 0s 4ms/step - loss: 558.0722 - val_loss: 568.1948\n",
      "Epoch 7/300\n",
      "12/12 [==============================] - 0s 5ms/step - loss: 535.7719 - val_loss: 544.5541\n",
      "Epoch 8/300\n",
      "12/12 [==============================] - 0s 7ms/step - loss: 503.5483 - val_loss: 512.6765\n",
      "Epoch 9/300\n",
      "12/12 [==============================] - 0s 7ms/step - loss: 473.6726 - val_loss: 469.5892\n",
      "Epoch 10/300\n",
      "12/12 [==============================] - 0s 4ms/step - loss: 412.9160 - val_loss: 412.9219\n",
      "Epoch 11/300\n",
      "12/12 [==============================] - 0s 4ms/step - loss: 354.6806 - val_loss: 341.1898\n",
      "Epoch 12/300\n",
      "12/12 [==============================] - 0s 6ms/step - loss: 283.8534 - val_loss: 258.3792\n",
      "Epoch 13/300\n",
      "12/12 [==============================] - 0s 4ms/step - loss: 208.9051 - val_loss: 183.4699\n",
      "Epoch 14/300\n",
      "12/12 [==============================] - 0s 5ms/step - loss: 143.6332 - val_loss: 132.8607\n",
      "Epoch 15/300\n",
      "12/12 [==============================] - 0s 8ms/step - loss: 103.6136 - val_loss: 107.4637\n",
      "Epoch 16/300\n",
      "12/12 [==============================] - 0s 8ms/step - loss: 90.6190 - val_loss: 91.0795\n",
      "Epoch 17/300\n",
      "12/12 [==============================] - 0s 6ms/step - loss: 77.2150 - val_loss: 76.3993\n",
      "Epoch 18/300\n",
      "12/12 [==============================] - 0s 4ms/step - loss: 61.6012 - val_loss: 64.9398\n",
      "Epoch 19/300\n",
      "12/12 [==============================] - 0s 5ms/step - loss: 52.4850 - val_loss: 55.0182\n",
      "Epoch 20/300\n",
      "12/12 [==============================] - 0s 6ms/step - loss: 46.7034 - val_loss: 46.5010\n",
      "Epoch 21/300\n",
      "12/12 [==============================] - 0s 6ms/step - loss: 40.1014 - val_loss: 39.8260\n",
      "Epoch 22/300\n",
      "12/12 [==============================] - 0s 4ms/step - loss: 33.7703 - val_loss: 35.1739\n",
      "Epoch 23/300\n",
      "12/12 [==============================] - 0s 6ms/step - loss: 27.5779 - val_loss: 31.7602\n",
      "Epoch 24/300\n",
      "12/12 [==============================] - 0s 6ms/step - loss: 27.6649 - val_loss: 29.3388\n",
      "Epoch 25/300\n",
      "12/12 [==============================] - 0s 6ms/step - loss: 23.9614 - val_loss: 27.8242\n",
      "Epoch 26/300\n",
      "12/12 [==============================] - 0s 4ms/step - loss: 23.3946 - val_loss: 26.3801\n",
      "Epoch 27/300\n",
      "12/12 [==============================] - 0s 5ms/step - loss: 20.7681 - val_loss: 25.1748\n",
      "Epoch 28/300\n",
      "12/12 [==============================] - 0s 7ms/step - loss: 21.6531 - val_loss: 24.4487\n",
      "Epoch 29/300\n",
      "12/12 [==============================] - 0s 5ms/step - loss: 20.0100 - val_loss: 23.7965\n",
      "Epoch 30/300\n",
      "12/12 [==============================] - 0s 4ms/step - loss: 20.2853 - val_loss: 23.3818\n",
      "Epoch 31/300\n",
      "12/12 [==============================] - 0s 4ms/step - loss: 19.3490 - val_loss: 22.7845\n",
      "Epoch 32/300\n",
      "12/12 [==============================] - 0s 6ms/step - loss: 18.6347 - val_loss: 22.3190\n",
      "Epoch 33/300\n",
      "12/12 [==============================] - 0s 6ms/step - loss: 17.7654 - val_loss: 22.2496\n",
      "Epoch 34/300\n",
      "12/12 [==============================] - 0s 5ms/step - loss: 17.2935 - val_loss: 21.9019\n",
      "Epoch 35/300\n",
      "12/12 [==============================] - 0s 5ms/step - loss: 17.1169 - val_loss: 21.9617\n",
      "Epoch 36/300\n",
      "12/12 [==============================] - 0s 6ms/step - loss: 16.7845 - val_loss: 22.0537\n",
      "Epoch 37/300\n",
      "12/12 [==============================] - 0s 4ms/step - loss: 16.4885 - val_loss: 21.4905\n",
      "Epoch 38/300\n",
      "12/12 [==============================] - 0s 6ms/step - loss: 15.6661 - val_loss: 21.4793\n",
      "Epoch 39/300\n",
      "12/12 [==============================] - 0s 5ms/step - loss: 15.5358 - val_loss: 21.6564\n",
      "Epoch 40/300\n",
      "12/12 [==============================] - 0s 5ms/step - loss: 15.0631 - val_loss: 21.6406\n",
      "Epoch 41/300\n",
      "12/12 [==============================] - 0s 8ms/step - loss: 14.6867 - val_loss: 21.4129\n",
      "Epoch 42/300\n",
      "12/12 [==============================] - 0s 7ms/step - loss: 14.1592 - val_loss: 21.2208\n",
      "Epoch 43/300\n",
      "12/12 [==============================] - 0s 4ms/step - loss: 13.9702 - val_loss: 21.5380\n",
      "Epoch 44/300\n",
      "12/12 [==============================] - 0s 5ms/step - loss: 12.8710 - val_loss: 21.2386\n",
      "Epoch 45/300\n",
      "12/12 [==============================] - 0s 7ms/step - loss: 13.7020 - val_loss: 20.6768\n",
      "Epoch 46/300\n",
      "12/12 [==============================] - 0s 6ms/step - loss: 12.5704 - val_loss: 21.0152\n",
      "Epoch 47/300\n",
      "12/12 [==============================] - 0s 4ms/step - loss: 13.2815 - val_loss: 20.7397\n",
      "Epoch 48/300\n",
      "12/12 [==============================] - 0s 6ms/step - loss: 13.1976 - val_loss: 21.1270\n",
      "Epoch 49/300\n",
      "12/12 [==============================] - 0s 5ms/step - loss: 12.7518 - val_loss: 20.6333\n",
      "Epoch 50/300\n",
      "12/12 [==============================] - 0s 4ms/step - loss: 12.7056 - val_loss: 21.2380\n",
      "Epoch 51/300\n",
      "12/12 [==============================] - 0s 7ms/step - loss: 12.6366 - val_loss: 21.3596\n",
      "Epoch 52/300\n",
      "12/12 [==============================] - 0s 5ms/step - loss: 12.4363 - val_loss: 21.1579\n",
      "Epoch 53/300\n",
      "12/12 [==============================] - 0s 5ms/step - loss: 12.1992 - val_loss: 21.2392\n",
      "Epoch 54/300\n",
      "12/12 [==============================] - 0s 6ms/step - loss: 12.1094 - val_loss: 21.1873\n",
      "Epoch 55/300\n",
      "12/12 [==============================] - 0s 5ms/step - loss: 11.1275 - val_loss: 21.2852\n",
      "Epoch 56/300\n",
      "12/12 [==============================] - 0s 6ms/step - loss: 11.9093 - val_loss: 20.9577\n",
      "Epoch 57/300\n",
      "12/12 [==============================] - 0s 3ms/step - loss: 11.5067 - val_loss: 21.1449\n",
      "Epoch 58/300\n",
      "12/12 [==============================] - 0s 8ms/step - loss: 11.7616 - val_loss: 21.1590\n",
      "Epoch 59/300\n",
      "12/12 [==============================] - 0s 7ms/step - loss: 11.3885 - val_loss: 21.9364\n",
      "Epoch 60/300\n",
      "12/12 [==============================] - 0s 3ms/step - loss: 11.3068 - val_loss: 21.6955\n",
      "Epoch 61/300\n",
      "12/12 [==============================] - 0s 5ms/step - loss: 11.0110 - val_loss: 21.3216\n",
      "Epoch 62/300\n",
      "12/12 [==============================] - 0s 6ms/step - loss: 10.5199 - val_loss: 20.9009\n",
      "Epoch 63/300\n",
      "12/12 [==============================] - 0s 8ms/step - loss: 11.1194 - val_loss: 20.7823\n",
      "Epoch 64/300\n",
      "12/12 [==============================] - 0s 6ms/step - loss: 11.0392 - val_loss: 21.6452\n",
      "Epoch 65/300\n",
      "12/12 [==============================] - 0s 4ms/step - loss: 10.9838 - val_loss: 21.6807\n",
      "Epoch 66/300\n",
      "12/12 [==============================] - 0s 5ms/step - loss: 10.9748 - val_loss: 21.4052\n",
      "Epoch 67/300\n",
      "12/12 [==============================] - 0s 6ms/step - loss: 10.7356 - val_loss: 21.7133\n",
      "Epoch 68/300\n",
      "12/12 [==============================] - 0s 7ms/step - loss: 9.3124 - val_loss: 21.3024\n",
      "Epoch 69/300\n",
      "12/12 [==============================] - 0s 5ms/step - loss: 10.6459 - val_loss: 21.6404\n",
      "Epoch 70/300\n",
      "12/12 [==============================] - 0s 3ms/step - loss: 10.3288 - val_loss: 21.7202\n",
      "Epoch 71/300\n",
      "12/12 [==============================] - 0s 5ms/step - loss: 10.5696 - val_loss: 21.7029\n",
      "Epoch 72/300\n",
      "12/12 [==============================] - 0s 4ms/step - loss: 10.4536 - val_loss: 21.4199\n",
      "Epoch 73/300\n",
      "12/12 [==============================] - 0s 5ms/step - loss: 10.1337 - val_loss: 22.2211\n",
      "Epoch 74/300\n",
      "12/12 [==============================] - 0s 6ms/step - loss: 10.3598 - val_loss: 21.4765\n",
      "Epoch 75/300\n",
      "12/12 [==============================] - 0s 5ms/step - loss: 9.7439 - val_loss: 21.2262\n",
      "Epoch 76/300\n",
      "12/12 [==============================] - 0s 6ms/step - loss: 10.3368 - val_loss: 21.8447\n",
      "Epoch 77/300\n",
      "12/12 [==============================] - 0s 4ms/step - loss: 9.8774 - val_loss: 22.1599\n",
      "Epoch 78/300\n",
      "12/12 [==============================] - 0s 5ms/step - loss: 9.8959 - val_loss: 21.5082\n",
      "Epoch 79/300\n",
      "12/12 [==============================] - 0s 7ms/step - loss: 9.8692 - val_loss: 21.8216\n",
      "Epoch 80/300\n",
      "12/12 [==============================] - 0s 3ms/step - loss: 9.5800 - val_loss: 22.0657\n",
      "Epoch 81/300\n",
      "12/12 [==============================] - 0s 8ms/step - loss: 9.6645 - val_loss: 21.8680\n",
      "Epoch 82/300\n",
      "12/12 [==============================] - 0s 3ms/step - loss: 9.9396 - val_loss: 21.9844\n",
      "Epoch 83/300\n",
      "12/12 [==============================] - 0s 4ms/step - loss: 8.3388 - val_loss: 21.3135\n",
      "Epoch 84/300\n",
      "12/12 [==============================] - 0s 3ms/step - loss: 9.7844 - val_loss: 21.6823\n",
      "Epoch 85/300\n",
      "12/12 [==============================] - 0s 4ms/step - loss: 9.6562 - val_loss: 22.0061\n",
      "Epoch 86/300\n",
      "12/12 [==============================] - 0s 4ms/step - loss: 9.8046 - val_loss: 21.3084\n",
      "Epoch 87/300\n",
      "12/12 [==============================] - 0s 4ms/step - loss: 7.7731 - val_loss: 21.2818\n",
      "Epoch 88/300\n",
      "12/12 [==============================] - 0s 4ms/step - loss: 8.0223 - val_loss: 21.1109\n",
      "Epoch 89/300\n",
      "12/12 [==============================] - 0s 4ms/step - loss: 9.0804 - val_loss: 21.0041\n",
      "Epoch 90/300\n",
      "12/12 [==============================] - 0s 4ms/step - loss: 9.5089 - val_loss: 22.6944\n",
      "Epoch 91/300\n",
      "12/12 [==============================] - 0s 4ms/step - loss: 9.1919 - val_loss: 21.7596\n",
      "Epoch 92/300\n",
      "12/12 [==============================] - ETA: 0s - loss: 7.454 - 0s 4ms/step - loss: 9.3819 - val_loss: 21.7980\n",
      "Epoch 93/300\n",
      "12/12 [==============================] - 0s 4ms/step - loss: 9.3871 - val_loss: 22.7420\n",
      "Epoch 94/300\n",
      "12/12 [==============================] - 0s 5ms/step - loss: 9.2535 - val_loss: 21.8278\n",
      "Epoch 95/300\n",
      "12/12 [==============================] - 0s 4ms/step - loss: 9.0217 - val_loss: 22.1086\n",
      "Epoch 96/300\n",
      "12/12 [==============================] - 0s 5ms/step - loss: 9.2068 - val_loss: 22.1922\n",
      "Epoch 97/300\n",
      "12/12 [==============================] - 0s 5ms/step - loss: 9.2349 - val_loss: 22.0319\n",
      "Epoch 98/300\n",
      "12/12 [==============================] - 0s 4ms/step - loss: 9.0827 - val_loss: 22.1094\n",
      "Epoch 99/300\n",
      "12/12 [==============================] - 0s 3ms/step - loss: 9.1078 - val_loss: 22.0146\n",
      "Epoch 100/300\n",
      "12/12 [==============================] - 0s 4ms/step - loss: 8.9913 - val_loss: 21.5820\n",
      "Epoch 101/300\n",
      "12/12 [==============================] - 0s 3ms/step - loss: 8.8295 - val_loss: 21.6330\n",
      "Epoch 102/300\n",
      "12/12 [==============================] - 0s 4ms/step - loss: 8.7765 - val_loss: 22.2253\n",
      "Epoch 103/300\n",
      "12/12 [==============================] - 0s 4ms/step - loss: 8.7290 - val_loss: 21.8391\n",
      "Epoch 104/300\n",
      "12/12 [==============================] - 0s 3ms/step - loss: 8.7951 - val_loss: 21.5613\n",
      "Epoch 105/300\n",
      "12/12 [==============================] - 0s 5ms/step - loss: 8.7931 - val_loss: 21.4853\n",
      "Epoch 106/300\n",
      "12/12 [==============================] - 0s 3ms/step - loss: 8.3855 - val_loss: 21.5905\n",
      "Epoch 107/300\n",
      "12/12 [==============================] - 0s 7ms/step - loss: 8.9157 - val_loss: 20.9913\n",
      "Epoch 108/300\n",
      "12/12 [==============================] - 0s 6ms/step - loss: 8.7727 - val_loss: 21.5445\n",
      "Epoch 109/300\n",
      "12/12 [==============================] - 0s 3ms/step - loss: 7.5806 - val_loss: 20.9843\n",
      "Epoch 110/300\n",
      "12/12 [==============================] - 0s 4ms/step - loss: 8.6938 - val_loss: 21.0667\n",
      "Epoch 111/300\n",
      "12/12 [==============================] - 0s 5ms/step - loss: 8.3591 - val_loss: 21.3426\n",
      "Epoch 112/300\n",
      "12/12 [==============================] - 0s 4ms/step - loss: 8.4524 - val_loss: 21.7086\n",
      "Epoch 113/300\n",
      "12/12 [==============================] - 0s 5ms/step - loss: 8.5866 - val_loss: 21.8930\n",
      "Epoch 114/300\n",
      "12/12 [==============================] - 0s 3ms/step - loss: 7.4948 - val_loss: 21.3354\n",
      "Epoch 115/300\n",
      "12/12 [==============================] - 0s 4ms/step - loss: 8.5278 - val_loss: 21.3215\n",
      "Epoch 116/300\n",
      "12/12 [==============================] - 0s 5ms/step - loss: 8.5595 - val_loss: 21.0519\n",
      "Epoch 117/300\n",
      "12/12 [==============================] - 0s 4ms/step - loss: 8.3476 - val_loss: 21.0650\n",
      "Epoch 118/300\n",
      "12/12 [==============================] - 0s 5ms/step - loss: 7.1535 - val_loss: 21.2676\n",
      "Epoch 119/300\n",
      "12/12 [==============================] - 0s 3ms/step - loss: 8.3879 - val_loss: 21.1042\n",
      "Epoch 120/300\n",
      "12/12 [==============================] - 0s 5ms/step - loss: 8.5166 - val_loss: 21.9270\n",
      "Epoch 121/300\n",
      "12/12 [==============================] - 0s 4ms/step - loss: 8.3934 - val_loss: 21.2963\n",
      "Epoch 122/300\n",
      "12/12 [==============================] - 0s 4ms/step - loss: 8.3507 - val_loss: 21.1429\n",
      "Epoch 123/300\n",
      "12/12 [==============================] - 0s 6ms/step - loss: 8.2164 - val_loss: 21.3047\n",
      "Epoch 124/300\n",
      "12/12 [==============================] - 0s 4ms/step - loss: 8.3010 - val_loss: 21.0978\n",
      "Epoch 125/300\n",
      "12/12 [==============================] - 0s 4ms/step - loss: 8.1686 - val_loss: 20.7696\n",
      "Epoch 126/300\n",
      "12/12 [==============================] - 0s 5ms/step - loss: 8.2866 - val_loss: 21.2059\n",
      "Epoch 127/300\n",
      "12/12 [==============================] - 0s 5ms/step - loss: 8.1212 - val_loss: 21.2996\n",
      "Epoch 128/300\n",
      "12/12 [==============================] - 0s 4ms/step - loss: 8.1081 - val_loss: 21.0740\n",
      "Epoch 129/300\n",
      "12/12 [==============================] - 0s 5ms/step - loss: 8.2076 - val_loss: 21.2411\n",
      "Epoch 130/300\n",
      "12/12 [==============================] - 0s 3ms/step - loss: 7.7926 - val_loss: 21.3910\n",
      "Epoch 131/300\n",
      "12/12 [==============================] - 0s 6ms/step - loss: 8.1417 - val_loss: 21.3805\n",
      "Epoch 132/300\n",
      "12/12 [==============================] - 0s 5ms/step - loss: 8.0628 - val_loss: 20.9251\n",
      "Epoch 133/300\n",
      "12/12 [==============================] - 0s 4ms/step - loss: 8.0342 - val_loss: 21.4589\n",
      "Epoch 134/300\n",
      "12/12 [==============================] - 0s 5ms/step - loss: 7.6816 - val_loss: 20.5081\n",
      "Epoch 135/300\n",
      "12/12 [==============================] - 0s 6ms/step - loss: 7.9470 - val_loss: 20.4971\n",
      "Epoch 136/300\n",
      "12/12 [==============================] - 0s 4ms/step - loss: 7.8494 - val_loss: 21.1051\n",
      "Epoch 137/300\n",
      "12/12 [==============================] - 0s 6ms/step - loss: 7.8978 - val_loss: 20.4209\n",
      "Epoch 138/300\n",
      "12/12 [==============================] - 0s 4ms/step - loss: 7.9894 - val_loss: 20.9821\n",
      "Epoch 139/300\n",
      "12/12 [==============================] - 0s 4ms/step - loss: 7.8007 - val_loss: 20.7853\n",
      "Epoch 140/300\n",
      "12/12 [==============================] - 0s 6ms/step - loss: 7.7958 - val_loss: 20.7391\n",
      "Epoch 141/300\n",
      "12/12 [==============================] - 0s 5ms/step - loss: 7.6755 - val_loss: 21.1509\n",
      "Epoch 142/300\n",
      "12/12 [==============================] - 0s 4ms/step - loss: 7.4200 - val_loss: 20.3559\n",
      "Epoch 143/300\n",
      "12/12 [==============================] - 0s 5ms/step - loss: 7.5973 - val_loss: 21.0061\n",
      "Epoch 144/300\n",
      "12/12 [==============================] - 0s 5ms/step - loss: 7.6466 - val_loss: 20.6810\n",
      "Epoch 145/300\n",
      "12/12 [==============================] - 0s 3ms/step - loss: 7.6397 - val_loss: 21.0997\n",
      "Epoch 146/300\n",
      "12/12 [==============================] - 0s 6ms/step - loss: 7.6331 - val_loss: 20.8423\n",
      "Epoch 147/300\n",
      "12/12 [==============================] - 0s 4ms/step - loss: 7.3489 - val_loss: 20.2306\n",
      "Epoch 148/300\n",
      "12/12 [==============================] - 0s 4ms/step - loss: 7.1378 - val_loss: 19.8951\n",
      "Epoch 149/300\n",
      "12/12 [==============================] - 0s 5ms/step - loss: 7.7095 - val_loss: 20.3146\n",
      "Epoch 150/300\n",
      "12/12 [==============================] - 0s 3ms/step - loss: 7.4050 - val_loss: 20.2516\n",
      "Epoch 151/300\n",
      "12/12 [==============================] - 0s 3ms/step - loss: 7.4261 - val_loss: 20.4034\n",
      "Epoch 152/300\n",
      "12/12 [==============================] - 0s 4ms/step - loss: 7.1150 - val_loss: 20.4320\n",
      "Epoch 153/300\n",
      "12/12 [==============================] - 0s 4ms/step - loss: 7.3223 - val_loss: 20.5435\n",
      "Epoch 154/300\n",
      "12/12 [==============================] - 0s 4ms/step - loss: 7.3077 - val_loss: 20.3318\n",
      "Epoch 155/300\n",
      "12/12 [==============================] - 0s 4ms/step - loss: 7.4744 - val_loss: 20.5081\n",
      "Epoch 156/300\n",
      "12/12 [==============================] - 0s 4ms/step - loss: 7.5742 - val_loss: 20.6237\n",
      "Epoch 157/300\n",
      "12/12 [==============================] - 0s 5ms/step - loss: 7.4421 - val_loss: 20.3761\n",
      "Epoch 158/300\n",
      "12/12 [==============================] - 0s 4ms/step - loss: 7.2502 - val_loss: 20.8411\n",
      "Epoch 159/300\n",
      "12/12 [==============================] - 0s 5ms/step - loss: 7.4332 - val_loss: 20.0603\n",
      "Epoch 160/300\n",
      "12/12 [==============================] - 0s 4ms/step - loss: 7.4751 - val_loss: 20.9667\n",
      "Epoch 161/300\n"
     ]
    },
    {
     "name": "stdout",
     "output_type": "stream",
     "text": [
      "12/12 [==============================] - 0s 3ms/step - loss: 7.0345 - val_loss: 20.6265\n",
      "Epoch 162/300\n",
      "12/12 [==============================] - 0s 5ms/step - loss: 7.2066 - val_loss: 20.9311\n",
      "Epoch 163/300\n",
      "12/12 [==============================] - 0s 4ms/step - loss: 7.2230 - val_loss: 20.8154\n",
      "Epoch 164/300\n",
      "12/12 [==============================] - 0s 4ms/step - loss: 7.1319 - val_loss: 20.3926\n",
      "Epoch 165/300\n",
      "12/12 [==============================] - 0s 4ms/step - loss: 7.2942 - val_loss: 21.3469\n",
      "Epoch 166/300\n",
      "12/12 [==============================] - 0s 4ms/step - loss: 7.2296 - val_loss: 20.1810\n",
      "Epoch 167/300\n",
      "12/12 [==============================] - 0s 2ms/step - loss: 7.1465 - val_loss: 20.3193\n",
      "Epoch 168/300\n",
      "12/12 [==============================] - 0s 4ms/step - loss: 7.0689 - val_loss: 20.7123\n",
      "Epoch 169/300\n",
      "12/12 [==============================] - ETA: 0s - loss: 9.003 - 0s 5ms/step - loss: 6.9806 - val_loss: 20.4480\n",
      "Epoch 170/300\n",
      "12/12 [==============================] - 0s 4ms/step - loss: 7.0417 - val_loss: 20.0129\n",
      "Epoch 171/300\n",
      "12/12 [==============================] - 0s 6ms/step - loss: 7.0809 - val_loss: 20.3304\n",
      "Epoch 172/300\n",
      "12/12 [==============================] - 0s 5ms/step - loss: 6.2215 - val_loss: 20.3213\n",
      "Epoch 173/300\n",
      "12/12 [==============================] - 0s 4ms/step - loss: 6.6428 - val_loss: 19.7475\n",
      "Epoch 174/300\n",
      "12/12 [==============================] - 0s 6ms/step - loss: 6.7825 - val_loss: 19.9679\n",
      "Epoch 175/300\n",
      "12/12 [==============================] - 0s 4ms/step - loss: 6.6785 - val_loss: 19.4694\n",
      "Epoch 176/300\n",
      "12/12 [==============================] - 0s 3ms/step - loss: 7.1447 - val_loss: 19.6826\n",
      "Epoch 177/300\n",
      "12/12 [==============================] - 0s 5ms/step - loss: 7.0112 - val_loss: 19.9100\n",
      "Epoch 178/300\n",
      "12/12 [==============================] - 0s 3ms/step - loss: 7.0675 - val_loss: 19.5757\n",
      "Epoch 179/300\n",
      "12/12 [==============================] - 0s 4ms/step - loss: 6.4449 - val_loss: 19.6512\n",
      "Epoch 180/300\n",
      "12/12 [==============================] - 0s 6ms/step - loss: 6.9467 - val_loss: 19.2353\n",
      "Epoch 181/300\n",
      "12/12 [==============================] - 0s 3ms/step - loss: 7.0663 - val_loss: 19.6078\n",
      "Epoch 182/300\n",
      "12/12 [==============================] - 0s 5ms/step - loss: 6.8086 - val_loss: 19.5151\n",
      "Epoch 183/300\n",
      "12/12 [==============================] - 0s 5ms/step - loss: 6.8696 - val_loss: 19.5461\n",
      "Epoch 184/300\n",
      "12/12 [==============================] - 0s 4ms/step - loss: 6.7754 - val_loss: 19.9003\n",
      "Epoch 185/300\n",
      "12/12 [==============================] - 0s 5ms/step - loss: 6.8006 - val_loss: 20.2189\n",
      "Epoch 186/300\n",
      "12/12 [==============================] - 0s 3ms/step - loss: 5.9247 - val_loss: 19.1241\n",
      "Epoch 187/300\n",
      "12/12 [==============================] - 0s 4ms/step - loss: 6.8339 - val_loss: 19.6212\n",
      "Epoch 188/300\n",
      "12/12 [==============================] - 0s 5ms/step - loss: 6.7851 - val_loss: 20.0278\n",
      "Epoch 189/300\n",
      "12/12 [==============================] - 0s 4ms/step - loss: 5.8081 - val_loss: 18.9750\n",
      "Epoch 190/300\n",
      "12/12 [==============================] - 0s 5ms/step - loss: 6.7976 - val_loss: 19.7546\n",
      "Epoch 191/300\n",
      "12/12 [==============================] - 0s 4ms/step - loss: 6.7947 - val_loss: 19.4224\n",
      "Epoch 192/300\n",
      "12/12 [==============================] - 0s 5ms/step - loss: 6.4571 - val_loss: 19.6029\n",
      "Epoch 193/300\n",
      "12/12 [==============================] - 0s 4ms/step - loss: 6.7164 - val_loss: 18.9895\n",
      "Epoch 194/300\n",
      "12/12 [==============================] - 0s 5ms/step - loss: 6.8601 - val_loss: 19.7885\n",
      "Epoch 195/300\n",
      "12/12 [==============================] - 0s 4ms/step - loss: 6.5989 - val_loss: 20.0044\n",
      "Epoch 196/300\n",
      "12/12 [==============================] - 0s 5ms/step - loss: 6.4164 - val_loss: 20.1724\n",
      "Epoch 197/300\n",
      "12/12 [==============================] - 0s 3ms/step - loss: 6.5808 - val_loss: 19.8730\n",
      "Epoch 198/300\n",
      "12/12 [==============================] - 0s 4ms/step - loss: 6.5706 - val_loss: 19.6792\n",
      "Epoch 199/300\n",
      "12/12 [==============================] - 0s 4ms/step - loss: 6.6865 - val_loss: 19.3544\n",
      "Epoch 200/300\n",
      "12/12 [==============================] - 0s 6ms/step - loss: 6.6952 - val_loss: 19.8556\n",
      "Epoch 201/300\n",
      "12/12 [==============================] - 0s 3ms/step - loss: 5.7832 - val_loss: 18.6963\n",
      "Epoch 202/300\n",
      "12/12 [==============================] - 0s 6ms/step - loss: 5.7887 - val_loss: 18.8826\n",
      "Epoch 203/300\n",
      "12/12 [==============================] - 0s 5ms/step - loss: 6.5392 - val_loss: 19.2381\n",
      "Epoch 204/300\n",
      "12/12 [==============================] - 0s 4ms/step - loss: 6.5787 - val_loss: 19.5296\n",
      "Epoch 205/300\n",
      "12/12 [==============================] - 0s 6ms/step - loss: 6.6360 - val_loss: 18.8289\n",
      "Epoch 206/300\n",
      "12/12 [==============================] - 0s 3ms/step - loss: 6.4839 - val_loss: 19.5055\n",
      "Epoch 207/300\n",
      "12/12 [==============================] - 0s 6ms/step - loss: 6.5940 - val_loss: 19.3622\n",
      "Epoch 208/300\n",
      "12/12 [==============================] - 0s 5ms/step - loss: 6.5241 - val_loss: 19.1222\n",
      "Epoch 209/300\n",
      "12/12 [==============================] - 0s 4ms/step - loss: 6.6094 - val_loss: 19.5163\n",
      "Epoch 210/300\n",
      "12/12 [==============================] - 0s 5ms/step - loss: 6.3110 - val_loss: 19.6535\n",
      "Epoch 211/300\n",
      "12/12 [==============================] - 0s 3ms/step - loss: 6.4310 - val_loss: 19.2702\n",
      "Epoch 212/300\n",
      "12/12 [==============================] - 0s 4ms/step - loss: 6.3632 - val_loss: 19.3076\n",
      "Epoch 213/300\n",
      "12/12 [==============================] - 0s 4ms/step - loss: 6.4270 - val_loss: 18.8108\n",
      "Epoch 214/300\n",
      "12/12 [==============================] - 0s 5ms/step - loss: 6.1050 - val_loss: 19.2245\n",
      "Epoch 215/300\n",
      "12/12 [==============================] - 0s 5ms/step - loss: 6.4777 - val_loss: 18.4946\n",
      "Epoch 216/300\n",
      "12/12 [==============================] - 0s 3ms/step - loss: 6.2957 - val_loss: 18.7216\n",
      "Epoch 217/300\n",
      "12/12 [==============================] - 0s 3ms/step - loss: 6.1922 - val_loss: 19.0222\n",
      "Epoch 218/300\n",
      "12/12 [==============================] - 0s 5ms/step - loss: 6.2262 - val_loss: 19.2422\n",
      "Epoch 219/300\n",
      "12/12 [==============================] - 0s 3ms/step - loss: 6.4956 - val_loss: 19.4507\n",
      "Epoch 220/300\n",
      "12/12 [==============================] - 0s 5ms/step - loss: 6.2919 - val_loss: 18.6622\n",
      "Epoch 221/300\n",
      "12/12 [==============================] - 0s 4ms/step - loss: 6.1219 - val_loss: 19.0551\n",
      "Epoch 222/300\n",
      "12/12 [==============================] - 0s 4ms/step - loss: 6.1532 - val_loss: 19.3453\n",
      "Epoch 223/300\n",
      "12/12 [==============================] - 0s 5ms/step - loss: 6.3360 - val_loss: 18.9862\n",
      "Epoch 224/300\n",
      "12/12 [==============================] - 0s 4ms/step - loss: 5.4915 - val_loss: 18.8428\n",
      "Epoch 225/300\n",
      "12/12 [==============================] - 0s 5ms/step - loss: 6.3136 - val_loss: 19.0523\n",
      "Epoch 226/300\n",
      "12/12 [==============================] - 0s 5ms/step - loss: 6.3058 - val_loss: 18.6475\n",
      "Epoch 227/300\n",
      "12/12 [==============================] - 0s 3ms/step - loss: 6.2191 - val_loss: 19.1046\n",
      "Epoch 228/300\n",
      "12/12 [==============================] - 0s 5ms/step - loss: 6.3242 - val_loss: 19.1834\n",
      "Epoch 229/300\n",
      "12/12 [==============================] - 0s 4ms/step - loss: 6.3008 - val_loss: 18.5386\n",
      "Epoch 230/300\n",
      "12/12 [==============================] - 0s 4ms/step - loss: 6.1872 - val_loss: 18.3575\n",
      "Epoch 231/300\n",
      "12/12 [==============================] - 0s 5ms/step - loss: 6.2138 - val_loss: 18.7292\n",
      "Epoch 232/300\n",
      "12/12 [==============================] - 0s 5ms/step - loss: 5.9494 - val_loss: 19.2424\n",
      "Epoch 233/300\n",
      "12/12 [==============================] - 0s 4ms/step - loss: 6.0032 - val_loss: 18.5994\n",
      "Epoch 234/300\n",
      "12/12 [==============================] - 0s 5ms/step - loss: 6.1232 - val_loss: 18.5993\n",
      "Epoch 235/300\n",
      "12/12 [==============================] - 0s 6ms/step - loss: 6.0940 - val_loss: 18.5047\n",
      "Epoch 236/300\n",
      "12/12 [==============================] - 0s 3ms/step - loss: 5.7916 - val_loss: 18.9921\n",
      "Epoch 237/300\n",
      "12/12 [==============================] - 0s 4ms/step - loss: 6.0878 - val_loss: 18.3745\n",
      "Epoch 238/300\n",
      "12/12 [==============================] - 0s 4ms/step - loss: 6.0133 - val_loss: 18.7910\n",
      "Epoch 239/300\n",
      "12/12 [==============================] - 0s 5ms/step - loss: 5.9348 - val_loss: 18.4445\n",
      "Epoch 240/300\n",
      "12/12 [==============================] - 0s 4ms/step - loss: 5.8498 - val_loss: 18.5426\n",
      "Epoch 241/300\n",
      "12/12 [==============================] - 0s 4ms/step - loss: 6.0073 - val_loss: 18.6171\n",
      "Epoch 242/300\n",
      "12/12 [==============================] - 0s 4ms/step - loss: 6.0770 - val_loss: 18.5857\n",
      "Epoch 243/300\n",
      "12/12 [==============================] - 0s 3ms/step - loss: 6.0658 - val_loss: 18.7697\n",
      "Epoch 244/300\n",
      "12/12 [==============================] - 0s 3ms/step - loss: 6.0404 - val_loss: 18.3963\n",
      "Epoch 245/300\n",
      "12/12 [==============================] - 0s 4ms/step - loss: 5.9955 - val_loss: 18.2059\n",
      "Epoch 246/300\n",
      "12/12 [==============================] - 0s 5ms/step - loss: 6.0274 - val_loss: 18.4314\n",
      "Epoch 247/300\n",
      "12/12 [==============================] - 0s 5ms/step - loss: 5.9882 - val_loss: 18.2602\n",
      "Epoch 248/300\n",
      "12/12 [==============================] - 0s 4ms/step - loss: 6.0928 - val_loss: 18.7907\n",
      "Epoch 249/300\n",
      "12/12 [==============================] - 0s 4ms/step - loss: 5.9237 - val_loss: 18.3844\n",
      "Epoch 250/300\n",
      "12/12 [==============================] - 0s 3ms/step - loss: 5.9778 - val_loss: 18.6359\n",
      "Epoch 251/300\n",
      "12/12 [==============================] - 0s 3ms/step - loss: 5.9909 - val_loss: 18.1948\n",
      "Epoch 252/300\n",
      "12/12 [==============================] - 0s 6ms/step - loss: 5.9865 - val_loss: 18.6045\n",
      "Epoch 253/300\n",
      "12/12 [==============================] - 0s 3ms/step - loss: 5.7309 - val_loss: 18.1563\n",
      "Epoch 254/300\n",
      "12/12 [==============================] - 0s 6ms/step - loss: 5.9180 - val_loss: 18.4711\n",
      "Epoch 255/300\n",
      "12/12 [==============================] - 0s 5ms/step - loss: 5.9559 - val_loss: 17.7753\n",
      "Epoch 256/300\n",
      "12/12 [==============================] - 0s 3ms/step - loss: 5.9243 - val_loss: 18.4582\n",
      "Epoch 257/300\n",
      "12/12 [==============================] - 0s 4ms/step - loss: 6.0176 - val_loss: 18.2032\n",
      "Epoch 258/300\n",
      "12/12 [==============================] - 0s 3ms/step - loss: 5.8572 - val_loss: 18.1761\n",
      "Epoch 259/300\n",
      "12/12 [==============================] - 0s 3ms/step - loss: 5.8737 - val_loss: 18.5357\n",
      "Epoch 260/300\n",
      "12/12 [==============================] - 0s 5ms/step - loss: 5.8610 - val_loss: 17.9540\n",
      "Epoch 261/300\n",
      "12/12 [==============================] - 0s 4ms/step - loss: 5.8598 - val_loss: 18.6094\n",
      "Epoch 262/300\n",
      "12/12 [==============================] - 0s 6ms/step - loss: 5.1386 - val_loss: 17.8480\n",
      "Epoch 263/300\n",
      "12/12 [==============================] - 0s 3ms/step - loss: 5.9639 - val_loss: 18.2303\n",
      "Epoch 264/300\n",
      "12/12 [==============================] - 0s 5ms/step - loss: 5.7358 - val_loss: 18.1642\n",
      "Epoch 265/300\n",
      "12/12 [==============================] - 0s 3ms/step - loss: 5.9680 - val_loss: 17.8071\n",
      "Epoch 266/300\n",
      "12/12 [==============================] - 0s 4ms/step - loss: 5.7088 - val_loss: 18.4248\n",
      "Epoch 267/300\n",
      "12/12 [==============================] - 0s 5ms/step - loss: 5.9198 - val_loss: 18.1265\n",
      "Epoch 268/300\n",
      "12/12 [==============================] - 0s 3ms/step - loss: 5.6866 - val_loss: 17.8542\n",
      "Epoch 269/300\n",
      "12/12 [==============================] - 0s 5ms/step - loss: 5.8011 - val_loss: 18.3827\n",
      "Epoch 270/300\n",
      "12/12 [==============================] - 0s 5ms/step - loss: 5.6986 - val_loss: 17.9372\n",
      "Epoch 271/300\n",
      "12/12 [==============================] - 0s 3ms/step - loss: 5.7815 - val_loss: 17.9720\n",
      "Epoch 272/300\n",
      "12/12 [==============================] - 0s 3ms/step - loss: 5.8316 - val_loss: 17.7678\n",
      "Epoch 273/300\n",
      "12/12 [==============================] - 0s 6ms/step - loss: 5.6870 - val_loss: 18.0676\n",
      "Epoch 274/300\n",
      "12/12 [==============================] - 0s 4ms/step - loss: 5.6733 - val_loss: 17.9270\n",
      "Epoch 275/300\n",
      "12/12 [==============================] - 0s 6ms/step - loss: 5.5348 - val_loss: 18.1546\n",
      "Epoch 276/300\n",
      "12/12 [==============================] - 0s 4ms/step - loss: 5.5890 - val_loss: 18.0829\n",
      "Epoch 277/300\n",
      "12/12 [==============================] - 0s 5ms/step - loss: 5.0239 - val_loss: 17.8288\n",
      "Epoch 278/300\n",
      "12/12 [==============================] - 0s 5ms/step - loss: 5.5863 - val_loss: 18.1931\n",
      "Epoch 279/300\n",
      "12/12 [==============================] - 0s 6ms/step - loss: 5.4274 - val_loss: 17.8180\n",
      "Epoch 280/300\n",
      "12/12 [==============================] - 0s 4ms/step - loss: 5.7157 - val_loss: 17.8625\n",
      "Epoch 281/300\n",
      "12/12 [==============================] - 0s 5ms/step - loss: 5.7183 - val_loss: 18.1937\n",
      "Epoch 282/300\n",
      "12/12 [==============================] - 0s 6ms/step - loss: 5.6141 - val_loss: 17.9426\n",
      "Epoch 283/300\n",
      "12/12 [==============================] - 0s 4ms/step - loss: 5.6804 - val_loss: 17.9428\n",
      "Epoch 284/300\n",
      "12/12 [==============================] - 0s 5ms/step - loss: 5.6563 - val_loss: 17.9097\n",
      "Epoch 285/300\n",
      "12/12 [==============================] - 0s 4ms/step - loss: 5.6006 - val_loss: 17.9760\n",
      "Epoch 286/300\n",
      "12/12 [==============================] - 0s 4ms/step - loss: 5.5112 - val_loss: 17.9210\n",
      "Epoch 287/300\n",
      "12/12 [==============================] - 0s 6ms/step - loss: 5.6269 - val_loss: 17.3888\n",
      "Epoch 288/300\n",
      "12/12 [==============================] - 0s 3ms/step - loss: 5.6202 - val_loss: 17.8224\n",
      "Epoch 289/300\n",
      "12/12 [==============================] - 0s 5ms/step - loss: 5.4444 - val_loss: 17.3044\n",
      "Epoch 290/300\n",
      "12/12 [==============================] - 0s 5ms/step - loss: 5.4273 - val_loss: 17.7189\n",
      "Epoch 291/300\n",
      "12/12 [==============================] - 0s 4ms/step - loss: 5.5892 - val_loss: 17.3581\n",
      "Epoch 292/300\n",
      "12/12 [==============================] - 0s 5ms/step - loss: 5.2558 - val_loss: 17.9259\n",
      "Epoch 293/300\n",
      "12/12 [==============================] - 0s 4ms/step - loss: 5.5500 - val_loss: 18.0529\n",
      "Epoch 294/300\n",
      "12/12 [==============================] - 0s 5ms/step - loss: 5.6351 - val_loss: 17.6824\n",
      "Epoch 295/300\n",
      "12/12 [==============================] - 0s 5ms/step - loss: 5.5521 - val_loss: 17.7424\n",
      "Epoch 296/300\n",
      "12/12 [==============================] - 0s 4ms/step - loss: 4.7304 - val_loss: 17.2387\n",
      "Epoch 297/300\n",
      "12/12 [==============================] - 0s 4ms/step - loss: 5.4389 - val_loss: 17.9101\n",
      "Epoch 298/300\n",
      "12/12 [==============================] - 0s 4ms/step - loss: 5.4572 - val_loss: 17.6291\n",
      "Epoch 299/300\n",
      "12/12 [==============================] - 0s 4ms/step - loss: 5.3662 - val_loss: 17.6900\n",
      "Epoch 300/300\n",
      "12/12 [==============================] - 0s 4ms/step - loss: 5.5907 - val_loss: 17.4885\n"
     ]
    }
   ],
   "source": [
    "# batch_size는 train_dataset생성시 batch를 지정했기 때문에 학습시에는 지정하지 않는다.\n",
    "hist = model.fit(train_dataset, \n",
    "                 epochs=N_EPOCHS,\n",
    "                 validation_data=test_dataset) #Dataset을 이용할 경우 validation_split=비율 는 사용할 수 없다."
   ]
  },
  {
   "cell_type": "code",
   "execution_count": 93,
   "metadata": {},
   "outputs": [
    {
     "data": {
      "text/plain": [
       "4.123105625617661"
      ]
     },
     "execution_count": 93,
     "metadata": {},
     "output_type": "execute_result"
    }
   ],
   "source": [
    "np.sqrt(17)"
   ]
  },
  {
   "cell_type": "markdown",
   "metadata": {},
   "source": [
    "#### 결과 시각화"
   ]
  },
  {
   "cell_type": "code",
   "execution_count": 111,
   "metadata": {},
   "outputs": [],
   "source": [
    "import matplotlib.pyplot as plt"
   ]
  },
  {
   "cell_type": "code",
   "execution_count": 112,
   "metadata": {},
   "outputs": [
    {
     "name": "stdout",
     "output_type": "stream",
     "text": [
      "<class 'dict'>\n"
     ]
    },
    {
     "data": {
      "text/plain": [
       "dict_keys(['loss', 'val_loss'])"
      ]
     },
     "execution_count": 112,
     "metadata": {},
     "output_type": "execute_result"
    }
   ],
   "source": [
    "print(type(hist.history))\n",
    "hist.history.keys()"
   ]
  },
  {
   "cell_type": "code",
   "execution_count": 113,
   "metadata": {},
   "outputs": [
    {
     "data": {
      "text/plain": [
       "[592.8709106445312,\n",
       " 593.2822875976562,\n",
       " 584.1643676757812,\n",
       " 575.6312255859375,\n",
       " 563.87255859375,\n",
       " 558.0722045898438,\n",
       " 535.7719116210938,\n",
       " 503.5483093261719,\n",
       " 473.6726379394531,\n",
       " 412.916015625,\n",
       " 354.6805725097656,\n",
       " 283.8533935546875,\n",
       " 208.90513610839844,\n",
       " 143.6331787109375,\n",
       " 103.61356353759766,\n",
       " 90.61896514892578,\n",
       " 77.21500396728516,\n",
       " 61.6012077331543,\n",
       " 52.48503494262695,\n",
       " 46.70335388183594,\n",
       " 40.101402282714844,\n",
       " 33.77028274536133,\n",
       " 27.577857971191406,\n",
       " 27.66492462158203,\n",
       " 23.96141815185547,\n",
       " 23.394559860229492,\n",
       " 20.768064498901367,\n",
       " 21.65313720703125,\n",
       " 20.010011672973633,\n",
       " 20.28533363342285,\n",
       " 19.34895133972168,\n",
       " 18.63469123840332,\n",
       " 17.765363693237305,\n",
       " 17.293527603149414,\n",
       " 17.116872787475586,\n",
       " 16.784475326538086,\n",
       " 16.48845672607422,\n",
       " 15.666072845458984,\n",
       " 15.535822868347168,\n",
       " 15.063124656677246,\n",
       " 14.686683654785156,\n",
       " 14.159222602844238,\n",
       " 13.970169067382812,\n",
       " 12.870989799499512,\n",
       " 13.701972007751465,\n",
       " 12.570427894592285,\n",
       " 13.281486511230469,\n",
       " 13.197608947753906,\n",
       " 12.7517671585083,\n",
       " 12.705550193786621,\n",
       " 12.636592864990234,\n",
       " 12.436251640319824,\n",
       " 12.199246406555176,\n",
       " 12.109395027160645,\n",
       " 11.127520561218262,\n",
       " 11.90930461883545,\n",
       " 11.506656646728516,\n",
       " 11.761591911315918,\n",
       " 11.3885498046875,\n",
       " 11.306800842285156,\n",
       " 11.01101016998291,\n",
       " 10.519869804382324,\n",
       " 11.119426727294922,\n",
       " 11.039207458496094,\n",
       " 10.983821868896484,\n",
       " 10.974800109863281,\n",
       " 10.735607147216797,\n",
       " 9.312447547912598,\n",
       " 10.64591121673584,\n",
       " 10.32884693145752,\n",
       " 10.569632530212402,\n",
       " 10.453648567199707,\n",
       " 10.13366985321045,\n",
       " 10.359795570373535,\n",
       " 9.743929862976074,\n",
       " 10.336762428283691,\n",
       " 9.877384185791016,\n",
       " 9.895940780639648,\n",
       " 9.86916732788086,\n",
       " 9.58001708984375,\n",
       " 9.664466857910156,\n",
       " 9.939640998840332,\n",
       " 8.33878231048584,\n",
       " 9.784350395202637,\n",
       " 9.65615177154541,\n",
       " 9.804621696472168,\n",
       " 7.773052215576172,\n",
       " 8.022305488586426,\n",
       " 9.080361366271973,\n",
       " 9.508931159973145,\n",
       " 9.191916465759277,\n",
       " 9.381872177124023,\n",
       " 9.387127876281738,\n",
       " 9.2534818649292,\n",
       " 9.021717071533203,\n",
       " 9.206829071044922,\n",
       " 9.234946250915527,\n",
       " 9.082661628723145,\n",
       " 9.10776138305664,\n",
       " 8.991349220275879,\n",
       " 8.829507827758789,\n",
       " 8.776506423950195,\n",
       " 8.728978157043457,\n",
       " 8.795096397399902,\n",
       " 8.793058395385742,\n",
       " 8.385481834411621,\n",
       " 8.915657997131348,\n",
       " 8.772655487060547,\n",
       " 7.5805535316467285,\n",
       " 8.693785667419434,\n",
       " 8.359121322631836,\n",
       " 8.452353477478027,\n",
       " 8.586638450622559,\n",
       " 7.4948344230651855,\n",
       " 8.527826309204102,\n",
       " 8.559531211853027,\n",
       " 8.347613334655762,\n",
       " 7.153509616851807,\n",
       " 8.387892723083496,\n",
       " 8.516583442687988,\n",
       " 8.393383979797363,\n",
       " 8.350738525390625,\n",
       " 8.216377258300781,\n",
       " 8.300985336303711,\n",
       " 8.168628692626953,\n",
       " 8.28661823272705,\n",
       " 8.1211519241333,\n",
       " 8.108128547668457,\n",
       " 8.207585334777832,\n",
       " 7.792646884918213,\n",
       " 8.141728401184082,\n",
       " 8.062776565551758,\n",
       " 8.03416919708252,\n",
       " 7.6815619468688965,\n",
       " 7.946987628936768,\n",
       " 7.849449634552002,\n",
       " 7.8978424072265625,\n",
       " 7.9894256591796875,\n",
       " 7.800661087036133,\n",
       " 7.795849323272705,\n",
       " 7.675514221191406,\n",
       " 7.420022487640381,\n",
       " 7.597288608551025,\n",
       " 7.6465911865234375,\n",
       " 7.639749526977539,\n",
       " 7.633144378662109,\n",
       " 7.348941802978516,\n",
       " 7.1378397941589355,\n",
       " 7.709518909454346,\n",
       " 7.405026912689209,\n",
       " 7.426120281219482,\n",
       " 7.114962100982666,\n",
       " 7.322291851043701,\n",
       " 7.307682037353516,\n",
       " 7.474375247955322,\n",
       " 7.57418966293335,\n",
       " 7.442075252532959,\n",
       " 7.250208377838135,\n",
       " 7.433248996734619,\n",
       " 7.4750847816467285,\n",
       " 7.034479141235352,\n",
       " 7.206599712371826,\n",
       " 7.223003387451172,\n",
       " 7.1318817138671875,\n",
       " 7.294172763824463,\n",
       " 7.229560852050781,\n",
       " 7.14654541015625,\n",
       " 7.068872928619385,\n",
       " 6.980554103851318,\n",
       " 7.041748523712158,\n",
       " 7.0808563232421875,\n",
       " 6.221496105194092,\n",
       " 6.6428070068359375,\n",
       " 6.782507419586182,\n",
       " 6.67848014831543,\n",
       " 7.144713878631592,\n",
       " 7.011176586151123,\n",
       " 7.067471027374268,\n",
       " 6.444936275482178,\n",
       " 6.946653366088867,\n",
       " 7.066322326660156,\n",
       " 6.8085618019104,\n",
       " 6.869591236114502,\n",
       " 6.7754364013671875,\n",
       " 6.800647258758545,\n",
       " 5.924686908721924,\n",
       " 6.833878040313721,\n",
       " 6.785073757171631,\n",
       " 5.8080925941467285,\n",
       " 6.797558307647705,\n",
       " 6.794702053070068,\n",
       " 6.457133769989014,\n",
       " 6.71637487411499,\n",
       " 6.860137939453125,\n",
       " 6.5989155769348145,\n",
       " 6.4163665771484375,\n",
       " 6.580807209014893,\n",
       " 6.570619106292725,\n",
       " 6.6865363121032715,\n",
       " 6.695191860198975,\n",
       " 5.783243656158447,\n",
       " 5.788682460784912,\n",
       " 6.539183139801025,\n",
       " 6.578660488128662,\n",
       " 6.636030197143555,\n",
       " 6.483875274658203,\n",
       " 6.594025135040283,\n",
       " 6.5241312980651855,\n",
       " 6.609365463256836,\n",
       " 6.31097412109375,\n",
       " 6.431013107299805,\n",
       " 6.363218307495117,\n",
       " 6.427029132843018,\n",
       " 6.1050262451171875,\n",
       " 6.477701663970947,\n",
       " 6.295703887939453,\n",
       " 6.19223165512085,\n",
       " 6.226207733154297,\n",
       " 6.495550632476807,\n",
       " 6.291907787322998,\n",
       " 6.121889591217041,\n",
       " 6.153192043304443,\n",
       " 6.3359599113464355,\n",
       " 5.491466045379639,\n",
       " 6.313600063323975,\n",
       " 6.3057861328125,\n",
       " 6.2190775871276855,\n",
       " 6.324156284332275,\n",
       " 6.300844192504883,\n",
       " 6.1871514320373535,\n",
       " 6.213819980621338,\n",
       " 5.949391841888428,\n",
       " 6.003194808959961,\n",
       " 6.123202800750732,\n",
       " 6.0939717292785645,\n",
       " 5.791621685028076,\n",
       " 6.0878424644470215,\n",
       " 6.013322353363037,\n",
       " 5.934762477874756,\n",
       " 5.849829196929932,\n",
       " 6.007298946380615,\n",
       " 6.076992034912109,\n",
       " 6.065828323364258,\n",
       " 6.040406703948975,\n",
       " 5.995504379272461,\n",
       " 6.027414321899414,\n",
       " 5.988179683685303,\n",
       " 6.092814922332764,\n",
       " 5.923708438873291,\n",
       " 5.977817535400391,\n",
       " 5.99088716506958,\n",
       " 5.986476421356201,\n",
       " 5.73091459274292,\n",
       " 5.91797399520874,\n",
       " 5.955850124359131,\n",
       " 5.924302577972412,\n",
       " 6.01763916015625,\n",
       " 5.857181549072266,\n",
       " 5.873683929443359,\n",
       " 5.861008167266846,\n",
       " 5.859761714935303,\n",
       " 5.13862419128418,\n",
       " 5.9639058113098145,\n",
       " 5.7358078956604,\n",
       " 5.967970371246338,\n",
       " 5.708780765533447,\n",
       " 5.919760227203369,\n",
       " 5.686586856842041,\n",
       " 5.801136016845703,\n",
       " 5.698634624481201,\n",
       " 5.781498432159424,\n",
       " 5.831596851348877,\n",
       " 5.686966419219971,\n",
       " 5.6733012199401855,\n",
       " 5.5348358154296875,\n",
       " 5.589023590087891,\n",
       " 5.02390718460083,\n",
       " 5.5863423347473145,\n",
       " 5.427414417266846,\n",
       " 5.715732097625732,\n",
       " 5.7183051109313965,\n",
       " 5.614139556884766,\n",
       " 5.680419921875,\n",
       " 5.656270980834961,\n",
       " 5.6006245613098145,\n",
       " 5.511186599731445,\n",
       " 5.626947402954102,\n",
       " 5.620206356048584,\n",
       " 5.444424152374268,\n",
       " 5.4272637367248535,\n",
       " 5.589216232299805,\n",
       " 5.255759239196777,\n",
       " 5.549991607666016,\n",
       " 5.635135173797607,\n",
       " 5.552120685577393,\n",
       " 4.73035192489624,\n",
       " 5.4388909339904785,\n",
       " 5.457190990447998,\n",
       " 5.366209030151367,\n",
       " 5.590668201446533]"
      ]
     },
     "execution_count": 113,
     "metadata": {},
     "output_type": "execute_result"
    }
   ],
   "source": [
    "hist.history['loss']"
   ]
  },
  {
   "cell_type": "code",
   "execution_count": 114,
   "metadata": {},
   "outputs": [
    {
     "data": {
      "image/png": "[encoded data removed]",
      "text/plain": [
       "<Figure size 576x432 with 1 Axes>"
      ]
     },
     "metadata": {
      "needs_background": "light"
     },
     "output_type": "display_data"
    }
   ],
   "source": [
    "plt.figure(figsize=(8,6))\n",
    "plt.plot(range(1,N_EPOCHS+1), hist.history['loss'], label='Train Loss')\n",
    "plt.plot(range(1,N_EPOCHS+1), hist.history['val_loss'], label='Validation Loss')\n",
    "plt.xlabel(\"Epochs\")\n",
    "plt.ylabel('Loss')\n",
    "plt.legend()\n",
    "plt.show()"
   ]
  },
  {
   "cell_type": "code",
   "execution_count": 115,
   "metadata": {},
   "outputs": [
    {
     "data": {
      "image/png": "[encoded data removed]",
      "text/plain": [
       "<Figure size 576x432 with 1 Axes>"
      ]
     },
     "metadata": {
      "needs_background": "light"
     },
     "output_type": "display_data"
    }
   ],
   "source": [
    "plt.figure(figsize=(8,6))\n",
    "plt.plot(range(1,N_EPOCHS+1), hist.history['loss'], label='Train Loss')\n",
    "plt.plot(range(1,N_EPOCHS+1), hist.history['val_loss'], label='Validation Loss')\n",
    "plt.xlabel(\"Epochs\")\n",
    "plt.ylabel('Loss')\n",
    "\n",
    "plt.ylim(0,50)\n",
    "\n",
    "plt.legend()\n",
    "plt.show()"
   ]
  },
  {
   "cell_type": "markdown",
   "metadata": {},
   "source": [
    "#### 최종 테스트"
   ]
  },
  {
   "cell_type": "code",
   "execution_count": 118,
   "metadata": {},
   "outputs": [
    {
     "name": "stdout",
     "output_type": "stream",
     "text": [
      "4/4 [==============================] - 0s 3ms/step - loss: 17.4885\n",
      "17.48847770690918 4.181922728471819\n"
     ]
    }
   ],
   "source": [
    "loss = model.evaluate(test_dataset)\n",
    "print(loss, np.sqrt(loss))"
   ]
  },
  {
   "cell_type": "markdown",
   "metadata": {},
   "source": [
    "#### 추론"
   ]
  },
  {
   "cell_type": "code",
   "execution_count": 119,
   "metadata": {},
   "outputs": [],
   "source": [
    "new_data = X_test[:5]\n",
    "pred = model.predict(new_data)"
   ]
  },
  {
   "cell_type": "code",
   "execution_count": 122,
   "metadata": {
    "scrolled": true
   },
   "outputs": [
    {
     "data": {
      "text/plain": [
       "array([[ 8.359838],\n",
       "       [19.241558],\n",
       "       [22.145933],\n",
       "       [33.964783],\n",
       "       [24.167013]], dtype=float32)"
      ]
     },
     "execution_count": 122,
     "metadata": {},
     "output_type": "execute_result"
    }
   ],
   "source": [
    "pred"
   ]
  },
  {
   "cell_type": "code",
   "execution_count": 123,
   "metadata": {},
   "outputs": [
    {
     "data": {
      "text/plain": [
       "array([ 7.2, 18.8, 19. , 27. , 22.2])"
      ]
     },
     "execution_count": 123,
     "metadata": {},
     "output_type": "execute_result"
    }
   ],
   "source": [
    "test_y[:5]"
   ]
  },
  {
   "cell_type": "code",
   "execution_count": null,
   "metadata": {},
   "outputs": [],
   "source": []
  },
  {
   "cell_type": "code",
   "execution_count": null,
   "metadata": {},
   "outputs": [],
   "source": []
  },
  {
   "cell_type": "markdown",
   "metadata": {},
   "source": [
    "## 2. Classification\n",
    "\n",
    "### Fashion MNIST Dataset - 다중분류"
   ]
  },
  {
   "cell_type": "markdown",
   "metadata": {},
   "source": [
    "10개의 범주(category)와 70,000개의 흑백 이미지로 구성된 [패션 MNIST](https://github.com/zalandoresearch/fashion-mnist) 데이터셋. \n",
    "이미지는 해상도(28x28 픽셀)가 낮고 다음처럼 개별 의류 품목을 나타낸다:\n",
    "\n",
    "<table>\n",
    "  <tr><td>\n",
    "    <img src=\"https://tensorflow.org/images/fashion-mnist-sprite.png\"\n",
    "         alt=\"Fashion MNIST sprite\"  width=\"600\">\n",
    "  </td></tr>\n",
    "  <tr><td align=\"center\">\n",
    "    <b>그림</b> <a href=\"https://github.com/zalandoresearch/fashion-mnist\">패션-MNIST 샘플</a> (Zalando, MIT License).<br/>&nbsp;\n",
    "  </td></tr>\n",
    "</table>\n",
    "\n",
    "패션 MNIST와 손글씨 MNIST는  비교적 작기 때문에 알고리즘의 작동 여부를 확인하기 위해 사용되곤 하며 코드를 테스트하고 디버깅하는 용도로 좋다."
   ]
  },
  {
   "cell_type": "markdown",
   "metadata": {},
   "source": [
    "이미지는 28x28 크기의 넘파이 배열이고 픽셀 값은 0과 255 사이이다. *레이블*(label)은 0에서 9까지의 정수 배열이다. 아래 표는 이미지에 있는 의류의 **클래스**(class)를 나낸다.\n",
    "\n",
    "<table>\n",
    "  <tr>\n",
    "    <th>레이블</th>\n",
    "    <th>클래스</th>\n",
    "  </tr>\n",
    "  <tr>\n",
    "    <td>0</td>\n",
    "    <td>T-shirt/top</td>\n",
    "  </tr>\n",
    "  <tr>\n",
    "    <td>1</td>\n",
    "    <td>Trousers</td>\n",
    "  </tr>\n",
    "    <tr>\n",
    "    <td>2</td>\n",
    "    <td>Pullover</td>\n",
    "  </tr>\n",
    "    <tr>\n",
    "    <td>3</td>\n",
    "    <td>Dress</td>\n",
    "  </tr>\n",
    "    <tr>\n",
    "    <td>4</td>\n",
    "    <td>Coat</td>\n",
    "  </tr>\n",
    "    <tr>\n",
    "    <td>5</td>\n",
    "    <td>Sandal</td>\n",
    "  </tr>\n",
    "    <tr>\n",
    "    <td>6</td>\n",
    "    <td>Shirt</td>\n",
    "  </tr>\n",
    "    <tr>\n",
    "    <td>7</td>\n",
    "    <td>Sneaker</td>\n",
    "  </tr>\n",
    "    <tr>\n",
    "    <td>8</td>\n",
    "    <td>Bag</td>\n",
    "  </tr>\n",
    "    <tr>\n",
    "    <td>9</td>\n",
    "    <td>Ankle boot</td>\n",
    "  </tr>\n",
    "</table>\n",
    "\n",
    "각 이미지는 하나의 레이블에 매핑되어 있다. 데이터셋에 클래스 이름이 들어있지 않기 때문에 나중에 이미지를 출력할 때 사용하기 위해 별도의 변수를 만들어 저장한다."
   ]
  },
  {
   "cell_type": "code",
   "execution_count": 126,
   "metadata": {},
   "outputs": [],
   "source": [
    "import numpy as np\n",
    "import tensorflow as tf\n",
    "from tensorflow import keras\n",
    "from tensorflow.keras import layers\n",
    "import matplotlib.pyplot as plt\n",
    "\n",
    "np.random.seed(0)\n",
    "tf.random.set_seed(0)\n"
   ]
  },
  {
   "cell_type": "code",
   "execution_count": 127,
   "metadata": {
    "ExecuteTime": {
     "end_time": "2021-04-14T09:13:37.059205Z",
     "start_time": "2021-04-14T09:13:37.050854Z"
    }
   },
   "outputs": [],
   "source": [
    "class_names = ['T-shirt/top', 'Trousers', 'Pullover', 'Dress', 'Coat', 'Sandal', 'Shirt', 'Sneaker', 'Bag', 'Ankle boot']"
   ]
  },
  {
   "cell_type": "markdown",
   "metadata": {},
   "source": [
    "#### data 로딩"
   ]
  },
  {
   "cell_type": "code",
   "execution_count": 129,
   "metadata": {},
   "outputs": [],
   "source": [
    "(train_image, train_label), (test_image, test_label) = keras.datasets.fashion_mnist.load_data()"
   ]
  },
  {
   "cell_type": "code",
   "execution_count": 131,
   "metadata": {},
   "outputs": [
    {
     "name": "stdout",
     "output_type": "stream",
     "text": [
      "(60000, 28, 28) (10000, 28, 28)\n",
      "(60000,) (10000,)\n"
     ]
    }
   ],
   "source": [
    "# 데이터 shape\n",
    "print(train_image.shape,  test_image.shape)\n",
    "print(train_label.shape, test_label.shape)"
   ]
  },
  {
   "cell_type": "code",
   "execution_count": 133,
   "metadata": {},
   "outputs": [
    {
     "data": {
      "text/plain": [
       "(array([0, 1, 2, 3, 4, 5, 6, 7, 8, 9], dtype=uint8),\n",
       " array([6000, 6000, 6000, 6000, 6000, 6000, 6000, 6000, 6000, 6000],\n",
       "       dtype=int64))"
      ]
     },
     "execution_count": 133,
     "metadata": {},
     "output_type": "execute_result"
    }
   ],
   "source": [
    "# class별 데이터 개수\n",
    "# train\n",
    "np.unique(train_label, return_counts=True)"
   ]
  },
  {
   "cell_type": "code",
   "execution_count": 134,
   "metadata": {},
   "outputs": [
    {
     "data": {
      "text/plain": [
       "(array([0, 1, 2, 3, 4, 5, 6, 7, 8, 9], dtype=uint8),\n",
       " array([1000, 1000, 1000, 1000, 1000, 1000, 1000, 1000, 1000, 1000],\n",
       "       dtype=int64))"
      ]
     },
     "execution_count": 134,
     "metadata": {},
     "output_type": "execute_result"
    }
   ],
   "source": [
    "# test\n",
    "np.unique(test_label, return_counts=True)"
   ]
  },
  {
   "cell_type": "code",
   "execution_count": 135,
   "metadata": {},
   "outputs": [],
   "source": [
    "# validata set \n",
    "from sklearn.model_selection import train_test_split\n",
    "train_image, val_image, train_label, val_label = train_test_split(train_image, train_label, test_size=0.2, stratify=train_label, random_state=0)"
   ]
  },
  {
   "cell_type": "code",
   "execution_count": 138,
   "metadata": {},
   "outputs": [
    {
     "name": "stdout",
     "output_type": "stream",
     "text": [
      "(48000, 28, 28) (12000, 28, 28)\n"
     ]
    },
    {
     "data": {
      "text/plain": [
       "(array([0, 1, 2, 3, 4, 5, 6, 7, 8, 9], dtype=uint8),\n",
       " array([4800, 4800, 4800, 4800, 4800, 4800, 4800, 4800, 4800, 4800],\n",
       "       dtype=int64))"
      ]
     },
     "execution_count": 138,
     "metadata": {},
     "output_type": "execute_result"
    }
   ],
   "source": [
    "print(train_image.shape, val_image.shape)\n",
    "np.unique(train_label, return_counts=True)"
   ]
  },
  {
   "cell_type": "code",
   "execution_count": null,
   "metadata": {},
   "outputs": [],
   "source": [
    "# train_image, val_image, test_image : X\n",
    "# train_label, val_label, test_label : y"
   ]
  },
  {
   "cell_type": "markdown",
   "metadata": {},
   "source": [
    "#### 이미지 확인"
   ]
  },
  {
   "cell_type": "code",
   "execution_count": 149,
   "metadata": {},
   "outputs": [
    {
     "data": {
      "text/plain": [
       "(6, 'Shirt')"
      ]
     },
     "execution_count": 149,
     "metadata": {},
     "output_type": "execute_result"
    }
   ],
   "source": [
    "train_label[0], class_names[train_label[0]]"
   ]
  },
  {
   "cell_type": "code",
   "execution_count": 147,
   "metadata": {},
   "outputs": [
    {
     "data": {
      "image/png": "[encoded data removed]",
      "text/plain": [
       "<Figure size 1440x360 with 5 Axes>"
      ]
     },
     "metadata": {
      "needs_background": "light"
     },
     "output_type": "display_data"
    }
   ],
   "source": [
    "plt.figure(figsize=(20,5))\n",
    "for i in range(5):\n",
    "    plt.subplot(1,5, i+1)\n",
    "    plt.imshow(train_image[i], cmap='gray')\n",
    "    plt.title(f\"{train_label[i]}. {class_names[train_label[i]]}\")\n",
    "    plt.axis('off')\n",
    "    \n",
    "plt.tight_layout()\n",
    "plt.show()"
   ]
  },
  {
   "cell_type": "markdown",
   "metadata": {},
   "source": [
    "#### 하이퍼파라미터, 변수 설정"
   ]
  },
  {
   "cell_type": "code",
   "execution_count": 160,
   "metadata": {},
   "outputs": [],
   "source": [
    "LEARNING_RATE = 0.001\n",
    "N_EPOCHS = 100\n",
    "N_BATCHS = 100\n",
    "\n",
    "N_TRAIN = train_image.shape[0]\n",
    "N_VAL = val_image.shape[0]\n",
    "N_TEST = test_image.shape[0]"
   ]
  },
  {
   "cell_type": "markdown",
   "metadata": {},
   "source": [
    "#### X, y  전처리\n",
    "- y값 처리\n",
    "    - 다중 분류에서 label encoding 형식의 label을 one hot encoding 처리"
   ]
  },
  {
   "cell_type": "code",
   "execution_count": 151,
   "metadata": {},
   "outputs": [
    {
     "name": "stdout",
     "output_type": "stream",
     "text": [
      "(48000, 10) (12000, 10) (10000, 10)\n"
     ]
    }
   ],
   "source": [
    "y_train = keras.utils.to_categorical(train_label)\n",
    "y_val = keras.utils.to_categorical(val_label)\n",
    "y_test = keras.utils.to_categorical(test_label)\n",
    "print(y_train.shape, y_val.shape, y_test.shape)"
   ]
  },
  {
   "cell_type": "code",
   "execution_count": 152,
   "metadata": {},
   "outputs": [
    {
     "data": {
      "text/plain": [
       "array([[0., 0., 0., 0., 0., 0., 1., 0., 0., 0.],\n",
       "       [0., 0., 0., 0., 0., 1., 0., 0., 0., 0.],\n",
       "       [1., 0., 0., 0., 0., 0., 0., 0., 0., 0.]], dtype=float32)"
      ]
     },
     "execution_count": 152,
     "metadata": {},
     "output_type": "execute_result"
    }
   ],
   "source": [
    "y_train[:3]"
   ]
  },
  {
   "cell_type": "markdown",
   "metadata": {},
   "source": [
    "- x값(이미지) 처리\n",
    "    - 이미지데이터 전처리: 0 ~ 1 정규화. X/255.0 => Dataset 생성에서 처리"
   ]
  },
  {
   "cell_type": "code",
   "execution_count": 162,
   "metadata": {},
   "outputs": [],
   "source": [
    "# X의 타입을 uint8 -> float32 \n",
    "X_train = train_image.astype(np.float32)\n",
    "X_val = val_image.astype(np.float32)\n",
    "X_test = test_image.astype(np.float32)"
   ]
  },
  {
   "cell_type": "code",
   "execution_count": null,
   "metadata": {},
   "outputs": [],
   "source": [
    "# X_train = (train_image/255.0).astype(np.float32)\n",
    "# X_val = (val_image/255.0).astype(np.float32)\n",
    "# X_test = (test_image/255.0).astype(np.float32)"
   ]
  },
  {
   "cell_type": "markdown",
   "metadata": {},
   "source": [
    "#### Dataset 생성\n",
    "- 데이터입력 파이프라인"
   ]
  },
  {
   "cell_type": "code",
   "execution_count": 164,
   "metadata": {},
   "outputs": [],
   "source": [
    "train_dataset = tf.data.Dataset.from_tensor_slices((X_train, y_train))\\\n",
    "                               .map(lambda x, y : (x/255, y))\\\n",
    "                               .shuffle(N_TRAIN)\\\n",
    "                               .batch(N_BATCHS, drop_remainder=True)\n",
    "\n",
    "val_dataset = tf.data.Dataset.from_tensor_slices((X_val, y_val)).map(lambda x, y:(x/255, y)).batch(N_BATCHS)\n",
    "test_dataset = tf.data.Dataset.from_tensor_slices((X_test, y_test)).map(lambda x, y:(x/255, y)).batch(N_BATCHS)"
   ]
  },
  {
   "cell_type": "code",
   "execution_count": 166,
   "metadata": {},
   "outputs": [
    {
     "data": {
      "text/plain": [
       "(48000, 28, 28)"
      ]
     },
     "execution_count": 166,
     "metadata": {},
     "output_type": "execute_result"
    }
   ],
   "source": [
    "X_train.shape"
   ]
  },
  {
   "cell_type": "markdown",
   "metadata": {},
   "source": [
    "#### 모델 생성 및 컴파일"
   ]
  },
  {
   "cell_type": "code",
   "execution_count": 167,
   "metadata": {},
   "outputs": [],
   "source": [
    "# 모델 생성 함수\n",
    "def create_mnist_model():\n",
    "    model = keras.Sequential()\n",
    "    model.add(layers.Flatten(input_shape=(28,28)))\n",
    "    model.add(layers.Dense(units=256, activation='relu'))\n",
    "    model.add(layers.Dense(units=128, activation='relu'))\n",
    "    model.add(layers.Dense(units=64, activation='relu'))\n",
    "    # 출력 레이어: 다중분류 - unit개수: class개수, activation함수: softmax\n",
    "    model.add(layers.Dense(units=10, activation='softmax'))\n",
    "    \n",
    "    return model"
   ]
  },
  {
   "cell_type": "code",
   "execution_count": 168,
   "metadata": {},
   "outputs": [],
   "source": [
    "# 모델 생성 및 컴파일\n",
    "model = create_mnist_model()\n",
    "model.compile(optimizer=keras.optimizers.Adam(learning_rate=LEARNING_RATE), \n",
    "              loss='categorical_crossentropy',  #다중분류 loss: categorical_crossentropy\n",
    "              metrics=['accuracy']) #분류 : metrics(평가지표)로 accuracy를 추가."
   ]
  },
  {
   "cell_type": "code",
   "execution_count": 169,
   "metadata": {},
   "outputs": [
    {
     "name": "stdout",
     "output_type": "stream",
     "text": [
      "Model: \"sequential_2\"\n",
      "_________________________________________________________________\n",
      "Layer (type)                 Output Shape              Param #   \n",
      "=================================================================\n",
      "flatten (Flatten)            (None, 784)               0         \n",
      "_________________________________________________________________\n",
      "dense_8 (Dense)              (None, 256)               200960    \n",
      "_________________________________________________________________\n",
      "dense_9 (Dense)              (None, 128)               32896     \n",
      "_________________________________________________________________\n",
      "dense_10 (Dense)             (None, 64)                8256      \n",
      "_________________________________________________________________\n",
      "dense_11 (Dense)             (None, 10)                650       \n",
      "=================================================================\n",
      "Total params: 242,762\n",
      "Trainable params: 242,762\n",
      "Non-trainable params: 0\n",
      "_________________________________________________________________\n"
     ]
    }
   ],
   "source": [
    "model.summary()"
   ]
  },
  {
   "cell_type": "code",
   "execution_count": 170,
   "metadata": {},
   "outputs": [
    {
     "data": {
      "image/png": "[encoded data removed]",
      "text/plain": [
       "<IPython.core.display.Image object>"
      ]
     },
     "execution_count": 170,
     "metadata": {},
     "output_type": "execute_result"
    }
   ],
   "source": [
    "keras.utils.plot_model(model, show_shapes=True, to_file='fashion_mnist_model.png')"
   ]
  },
  {
   "cell_type": "markdown",
   "metadata": {},
   "source": [
    "#### Train"
   ]
  },
  {
   "cell_type": "code",
   "execution_count": 171,
   "metadata": {
    "scrolled": true
   },
   "outputs": [
    {
     "name": "stdout",
     "output_type": "stream",
     "text": [
      "Epoch 1/100\n",
      "480/480 [==============================] - 5s 8ms/step - loss: 0.5409 - accuracy: 0.8085 - val_loss: 0.4742 - val_accuracy: 0.8279\n",
      "Epoch 2/100\n",
      "480/480 [==============================] - 4s 7ms/step - loss: 0.3797 - accuracy: 0.8616 - val_loss: 0.3550 - val_accuracy: 0.8697\n",
      "Epoch 3/100\n",
      "480/480 [==============================] - 5s 7ms/step - loss: 0.3367 - accuracy: 0.8773 - val_loss: 0.3430 - val_accuracy: 0.8742\n",
      "Epoch 4/100\n",
      "480/480 [==============================] - 5s 7ms/step - loss: 0.3123 - accuracy: 0.8845 - val_loss: 0.3196 - val_accuracy: 0.8820\n",
      "Epoch 5/100\n",
      "480/480 [==============================] - 5s 7ms/step - loss: 0.2927 - accuracy: 0.8906 - val_loss: 0.3215 - val_accuracy: 0.8792\n",
      "Epoch 6/100\n",
      "480/480 [==============================] - 5s 7ms/step - loss: 0.2767 - accuracy: 0.8961 - val_loss: 0.3234 - val_accuracy: 0.8813\n",
      "Epoch 7/100\n",
      "480/480 [==============================] - 4s 7ms/step - loss: 0.2670 - accuracy: 0.9012 - val_loss: 0.3047 - val_accuracy: 0.8887\n",
      "Epoch 8/100\n",
      "480/480 [==============================] - 4s 7ms/step - loss: 0.2541 - accuracy: 0.9041 - val_loss: 0.3081 - val_accuracy: 0.8899\n",
      "Epoch 9/100\n",
      "480/480 [==============================] - 4s 7ms/step - loss: 0.2418 - accuracy: 0.9088 - val_loss: 0.3139 - val_accuracy: 0.8881\n",
      "Epoch 10/100\n",
      "480/480 [==============================] - 4s 7ms/step - loss: 0.2328 - accuracy: 0.9119 - val_loss: 0.3154 - val_accuracy: 0.8878\n",
      "Epoch 11/100\n",
      "480/480 [==============================] - 4s 7ms/step - loss: 0.2257 - accuracy: 0.9142 - val_loss: 0.3015 - val_accuracy: 0.8910\n",
      "Epoch 12/100\n",
      "480/480 [==============================] - 4s 7ms/step - loss: 0.2153 - accuracy: 0.9189 - val_loss: 0.3125 - val_accuracy: 0.8916\n",
      "Epoch 13/100\n",
      "480/480 [==============================] - 5s 8ms/step - loss: 0.2084 - accuracy: 0.9212 - val_loss: 0.3394 - val_accuracy: 0.8812\n",
      "Epoch 14/100\n",
      "480/480 [==============================] - 4s 7ms/step - loss: 0.2034 - accuracy: 0.9221 - val_loss: 0.3115 - val_accuracy: 0.8888\n",
      "Epoch 15/100\n",
      "480/480 [==============================] - 4s 6ms/step - loss: 0.1936 - accuracy: 0.9261 - val_loss: 0.3121 - val_accuracy: 0.8919\n",
      "Epoch 16/100\n",
      "480/480 [==============================] - 4s 6ms/step - loss: 0.1867 - accuracy: 0.9288 - val_loss: 0.3252 - val_accuracy: 0.8929\n",
      "Epoch 17/100\n",
      "480/480 [==============================] - 4s 6ms/step - loss: 0.1858 - accuracy: 0.9292 - val_loss: 0.3438 - val_accuracy: 0.8900\n",
      "Epoch 18/100\n",
      "480/480 [==============================] - 4s 6ms/step - loss: 0.1727 - accuracy: 0.9338 - val_loss: 0.3369 - val_accuracy: 0.8922\n",
      "Epoch 19/100\n",
      "480/480 [==============================] - 4s 6ms/step - loss: 0.1691 - accuracy: 0.9356 - val_loss: 0.3263 - val_accuracy: 0.8947\n",
      "Epoch 20/100\n",
      "480/480 [==============================] - 4s 6ms/step - loss: 0.1623 - accuracy: 0.9382 - val_loss: 0.3366 - val_accuracy: 0.8979\n",
      "Epoch 21/100\n",
      "480/480 [==============================] - 4s 6ms/step - loss: 0.1557 - accuracy: 0.9389 - val_loss: 0.3634 - val_accuracy: 0.8904\n",
      "Epoch 22/100\n",
      "480/480 [==============================] - 4s 6ms/step - loss: 0.1513 - accuracy: 0.9414 - val_loss: 0.3626 - val_accuracy: 0.8910\n",
      "Epoch 23/100\n",
      "480/480 [==============================] - 4s 6ms/step - loss: 0.1441 - accuracy: 0.9450 - val_loss: 0.3637 - val_accuracy: 0.8882\n",
      "Epoch 24/100\n",
      "480/480 [==============================] - 4s 6ms/step - loss: 0.1460 - accuracy: 0.9432 - val_loss: 0.3481 - val_accuracy: 0.8957\n",
      "Epoch 25/100\n",
      "480/480 [==============================] - 4s 6ms/step - loss: 0.1420 - accuracy: 0.9447 - val_loss: 0.3906 - val_accuracy: 0.8905\n",
      "Epoch 26/100\n",
      "480/480 [==============================] - 4s 6ms/step - loss: 0.1354 - accuracy: 0.9476 - val_loss: 0.3755 - val_accuracy: 0.8889\n",
      "Epoch 27/100\n",
      "480/480 [==============================] - 4s 6ms/step - loss: 0.1260 - accuracy: 0.9515 - val_loss: 0.3859 - val_accuracy: 0.8932\n",
      "Epoch 28/100\n",
      "480/480 [==============================] - 4s 6ms/step - loss: 0.1263 - accuracy: 0.9508 - val_loss: 0.3790 - val_accuracy: 0.8918\n",
      "Epoch 29/100\n",
      "480/480 [==============================] - 4s 6ms/step - loss: 0.1265 - accuracy: 0.9513 - val_loss: 0.3724 - val_accuracy: 0.8952\n",
      "Epoch 30/100\n",
      "480/480 [==============================] - 5s 7ms/step - loss: 0.1174 - accuracy: 0.9550 - val_loss: 0.4171 - val_accuracy: 0.8888\n",
      "Epoch 31/100\n",
      "480/480 [==============================] - 4s 6ms/step - loss: 0.1131 - accuracy: 0.9567 - val_loss: 0.4063 - val_accuracy: 0.8924\n",
      "Epoch 32/100\n",
      "480/480 [==============================] - 4s 6ms/step - loss: 0.1139 - accuracy: 0.9558 - val_loss: 0.3989 - val_accuracy: 0.8924\n",
      "Epoch 33/100\n",
      "480/480 [==============================] - 4s 7ms/step - loss: 0.1113 - accuracy: 0.9574 - val_loss: 0.4230 - val_accuracy: 0.8934\n",
      "Epoch 34/100\n",
      "480/480 [==============================] - 4s 6ms/step - loss: 0.1026 - accuracy: 0.9600 - val_loss: 0.4004 - val_accuracy: 0.8983\n",
      "Epoch 35/100\n",
      "480/480 [==============================] - 4s 6ms/step - loss: 0.1052 - accuracy: 0.9600 - val_loss: 0.4124 - val_accuracy: 0.8989\n",
      "Epoch 36/100\n",
      "480/480 [==============================] - 4s 6ms/step - loss: 0.1052 - accuracy: 0.9593 - val_loss: 0.4271 - val_accuracy: 0.8900\n",
      "Epoch 37/100\n",
      "480/480 [==============================] - 4s 6ms/step - loss: 0.0954 - accuracy: 0.9623 - val_loss: 0.4603 - val_accuracy: 0.8935\n",
      "Epoch 38/100\n",
      "480/480 [==============================] - 4s 6ms/step - loss: 0.0948 - accuracy: 0.9621 - val_loss: 0.4498 - val_accuracy: 0.8917\n",
      "Epoch 39/100\n",
      "480/480 [==============================] - 4s 7ms/step - loss: 0.0929 - accuracy: 0.9636 - val_loss: 0.4571 - val_accuracy: 0.8944\n",
      "Epoch 40/100\n",
      "480/480 [==============================] - 4s 7ms/step - loss: 0.0923 - accuracy: 0.9646 - val_loss: 0.4644 - val_accuracy: 0.8869\n",
      "Epoch 41/100\n",
      "480/480 [==============================] - 4s 7ms/step - loss: 0.0902 - accuracy: 0.9662 - val_loss: 0.4444 - val_accuracy: 0.8948\n",
      "Epoch 42/100\n",
      "480/480 [==============================] - 4s 7ms/step - loss: 0.0854 - accuracy: 0.9674 - val_loss: 0.5167 - val_accuracy: 0.8930\n",
      "Epoch 43/100\n",
      "480/480 [==============================] - 4s 7ms/step - loss: 0.0790 - accuracy: 0.9691 - val_loss: 0.4501 - val_accuracy: 0.8942\n",
      "Epoch 44/100\n",
      "480/480 [==============================] - 4s 6ms/step - loss: 0.0818 - accuracy: 0.9684 - val_loss: 0.5298 - val_accuracy: 0.8887\n",
      "Epoch 45/100\n",
      "480/480 [==============================] - 4s 6ms/step - loss: 0.0880 - accuracy: 0.9653 - val_loss: 0.5163 - val_accuracy: 0.8919\n",
      "Epoch 46/100\n",
      "480/480 [==============================] - 4s 6ms/step - loss: 0.0768 - accuracy: 0.9703 - val_loss: 0.4940 - val_accuracy: 0.8923\n",
      "Epoch 47/100\n",
      "480/480 [==============================] - 4s 7ms/step - loss: 0.0753 - accuracy: 0.9706 - val_loss: 0.5218 - val_accuracy: 0.8952\n",
      "Epoch 48/100\n",
      "480/480 [==============================] - 4s 7ms/step - loss: 0.0811 - accuracy: 0.9680 - val_loss: 0.5303 - val_accuracy: 0.8943\n",
      "Epoch 49/100\n",
      "480/480 [==============================] - 4s 6ms/step - loss: 0.0709 - accuracy: 0.9731 - val_loss: 0.5617 - val_accuracy: 0.8885\n",
      "Epoch 50/100\n",
      "480/480 [==============================] - 4s 6ms/step - loss: 0.0701 - accuracy: 0.9723 - val_loss: 0.5455 - val_accuracy: 0.8928\n",
      "Epoch 51/100\n",
      "480/480 [==============================] - 4s 6ms/step - loss: 0.0713 - accuracy: 0.9718 - val_loss: 0.5382 - val_accuracy: 0.8910\n",
      "Epoch 52/100\n",
      "480/480 [==============================] - 4s 7ms/step - loss: 0.0642 - accuracy: 0.9755 - val_loss: 0.5753 - val_accuracy: 0.8915\n",
      "Epoch 53/100\n",
      "480/480 [==============================] - 4s 6ms/step - loss: 0.0672 - accuracy: 0.9746 - val_loss: 0.6268 - val_accuracy: 0.8866\n",
      "Epoch 54/100\n",
      "480/480 [==============================] - 4s 7ms/step - loss: 0.0720 - accuracy: 0.9725 - val_loss: 0.5277 - val_accuracy: 0.8907\n",
      "Epoch 55/100\n",
      "480/480 [==============================] - 4s 6ms/step - loss: 0.0699 - accuracy: 0.9733 - val_loss: 0.6520 - val_accuracy: 0.8813\n",
      "Epoch 56/100\n",
      "480/480 [==============================] - 4s 6ms/step - loss: 0.0644 - accuracy: 0.9752 - val_loss: 0.5627 - val_accuracy: 0.8933\n",
      "Epoch 57/100\n",
      "480/480 [==============================] - 4s 7ms/step - loss: 0.0596 - accuracy: 0.9772 - val_loss: 0.5626 - val_accuracy: 0.8915\n",
      "Epoch 58/100\n",
      "480/480 [==============================] - 4s 5ms/step - loss: 0.0649 - accuracy: 0.9756 - val_loss: 0.5468 - val_accuracy: 0.8947\n",
      "Epoch 59/100\n",
      "480/480 [==============================] - 4s 6ms/step - loss: 0.0563 - accuracy: 0.9789 - val_loss: 0.5746 - val_accuracy: 0.8958\n",
      "Epoch 60/100\n",
      "480/480 [==============================] - 4s 6ms/step - loss: 0.0569 - accuracy: 0.9781 - val_loss: 0.5570 - val_accuracy: 0.8960\n",
      "Epoch 61/100\n",
      "480/480 [==============================] - 4s 6ms/step - loss: 0.0589 - accuracy: 0.9766 - val_loss: 0.6066 - val_accuracy: 0.8943\n",
      "Epoch 62/100\n",
      "480/480 [==============================] - 4s 6ms/step - loss: 0.0540 - accuracy: 0.9799 - val_loss: 0.6372 - val_accuracy: 0.8960\n",
      "Epoch 63/100\n",
      "480/480 [==============================] - 5s 8ms/step - loss: 0.0576 - accuracy: 0.9784 - val_loss: 0.5881 - val_accuracy: 0.8951\n",
      "Epoch 64/100\n",
      "480/480 [==============================] - 4s 5ms/step - loss: 0.0610 - accuracy: 0.9777 - val_loss: 0.6139 - val_accuracy: 0.8921\n",
      "Epoch 65/100\n",
      "480/480 [==============================] - 4s 6ms/step - loss: 0.0564 - accuracy: 0.9788 - val_loss: 0.6878 - val_accuracy: 0.8925\n",
      "Epoch 66/100\n",
      "480/480 [==============================] - 4s 6ms/step - loss: 0.0594 - accuracy: 0.9780 - val_loss: 0.6633 - val_accuracy: 0.8901\n",
      "Epoch 67/100\n",
      "480/480 [==============================] - 4s 6ms/step - loss: 0.0471 - accuracy: 0.9824 - val_loss: 0.6425 - val_accuracy: 0.8940\n",
      "Epoch 68/100\n",
      "480/480 [==============================] - 3s 5ms/step - loss: 0.0573 - accuracy: 0.9785 - val_loss: 0.6463 - val_accuracy: 0.8944\n",
      "Epoch 69/100\n",
      "480/480 [==============================] - 4s 6ms/step - loss: 0.0478 - accuracy: 0.9821 - val_loss: 0.6257 - val_accuracy: 0.8929\n",
      "Epoch 70/100\n",
      "480/480 [==============================] - 3s 5ms/step - loss: 0.0472 - accuracy: 0.9821 - val_loss: 0.6044 - val_accuracy: 0.8945\n",
      "Epoch 71/100\n",
      "480/480 [==============================] - 4s 6ms/step - loss: 0.0481 - accuracy: 0.9814 - val_loss: 0.6583 - val_accuracy: 0.8961\n",
      "Epoch 72/100\n",
      "480/480 [==============================] - 4s 6ms/step - loss: 0.0510 - accuracy: 0.9815 - val_loss: 0.5993 - val_accuracy: 0.8913\n",
      "Epoch 73/100\n",
      "480/480 [==============================] - 4s 6ms/step - loss: 0.0500 - accuracy: 0.9812 - val_loss: 0.6419 - val_accuracy: 0.8903\n",
      "Epoch 74/100\n",
      "480/480 [==============================] - 4s 5ms/step - loss: 0.0476 - accuracy: 0.9821 - val_loss: 0.7674 - val_accuracy: 0.8878\n",
      "Epoch 75/100\n",
      "480/480 [==============================] - 4s 6ms/step - loss: 0.0485 - accuracy: 0.9816 - val_loss: 0.6778 - val_accuracy: 0.8901\n",
      "Epoch 76/100\n",
      "480/480 [==============================] - 4s 5ms/step - loss: 0.0501 - accuracy: 0.9811 - val_loss: 0.6632 - val_accuracy: 0.8940\n",
      "Epoch 77/100\n",
      "480/480 [==============================] - 4s 6ms/step - loss: 0.0379 - accuracy: 0.9857 - val_loss: 0.6875 - val_accuracy: 0.8963\n",
      "Epoch 78/100\n",
      "480/480 [==============================] - 4s 5ms/step - loss: 0.0516 - accuracy: 0.9804 - val_loss: 0.6842 - val_accuracy: 0.8976\n",
      "Epoch 79/100\n",
      "480/480 [==============================] - 4s 5ms/step - loss: 0.0388 - accuracy: 0.9858 - val_loss: 0.6728 - val_accuracy: 0.8961\n",
      "Epoch 80/100\n",
      "480/480 [==============================] - 3s 5ms/step - loss: 0.0480 - accuracy: 0.9824 - val_loss: 0.6861 - val_accuracy: 0.8867\n",
      "Epoch 81/100\n",
      "480/480 [==============================] - 4s 5ms/step - loss: 0.0369 - accuracy: 0.9860 - val_loss: 0.6703 - val_accuracy: 0.8938\n",
      "Epoch 82/100\n",
      "480/480 [==============================] - 3s 5ms/step - loss: 0.0398 - accuracy: 0.9854 - val_loss: 0.6872 - val_accuracy: 0.8915\n",
      "Epoch 83/100\n",
      "480/480 [==============================] - 3s 5ms/step - loss: 0.0399 - accuracy: 0.9848 - val_loss: 0.7613 - val_accuracy: 0.8913\n",
      "Epoch 84/100\n",
      "480/480 [==============================] - 3s 5ms/step - loss: 0.0471 - accuracy: 0.9828 - val_loss: 0.6666 - val_accuracy: 0.8945\n",
      "Epoch 85/100\n",
      "480/480 [==============================] - 4s 6ms/step - loss: 0.0380 - accuracy: 0.9857 - val_loss: 0.7125 - val_accuracy: 0.8915\n",
      "Epoch 86/100\n",
      "480/480 [==============================] - 4s 6ms/step - loss: 0.0458 - accuracy: 0.9839 - val_loss: 0.6742 - val_accuracy: 0.8943\n",
      "Epoch 87/100\n",
      "480/480 [==============================] - 4s 6ms/step - loss: 0.0389 - accuracy: 0.9865 - val_loss: 0.7244 - val_accuracy: 0.8939\n",
      "Epoch 88/100\n",
      "480/480 [==============================] - 4s 5ms/step - loss: 0.0432 - accuracy: 0.9841 - val_loss: 0.7298 - val_accuracy: 0.8962\n",
      "Epoch 89/100\n",
      "480/480 [==============================] - 4s 6ms/step - loss: 0.0297 - accuracy: 0.9890 - val_loss: 0.7304 - val_accuracy: 0.8966\n",
      "Epoch 90/100\n",
      "480/480 [==============================] - 4s 6ms/step - loss: 0.0395 - accuracy: 0.9853 - val_loss: 0.7154 - val_accuracy: 0.8919\n",
      "Epoch 91/100\n",
      "480/480 [==============================] - 4s 6ms/step - loss: 0.0390 - accuracy: 0.9856 - val_loss: 0.7079 - val_accuracy: 0.8919\n",
      "Epoch 92/100\n",
      "480/480 [==============================] - 4s 6ms/step - loss: 0.0320 - accuracy: 0.9882 - val_loss: 0.8151 - val_accuracy: 0.8855\n",
      "Epoch 93/100\n",
      "480/480 [==============================] - 4s 5ms/step - loss: 0.0426 - accuracy: 0.9846 - val_loss: 0.7445 - val_accuracy: 0.8875\n",
      "Epoch 94/100\n",
      "480/480 [==============================] - 4s 6ms/step - loss: 0.0304 - accuracy: 0.9891 - val_loss: 0.9288 - val_accuracy: 0.8871\n",
      "Epoch 95/100\n",
      "480/480 [==============================] - 4s 6ms/step - loss: 0.0375 - accuracy: 0.9860 - val_loss: 0.7666 - val_accuracy: 0.8892\n",
      "Epoch 96/100\n",
      "480/480 [==============================] - 4s 6ms/step - loss: 0.0358 - accuracy: 0.9871 - val_loss: 0.7539 - val_accuracy: 0.8941\n",
      "Epoch 97/100\n",
      "480/480 [==============================] - 4s 6ms/step - loss: 0.0344 - accuracy: 0.9865 - val_loss: 0.7888 - val_accuracy: 0.8949\n",
      "Epoch 98/100\n",
      "480/480 [==============================] - 4s 6ms/step - loss: 0.0393 - accuracy: 0.9854 - val_loss: 0.7502 - val_accuracy: 0.8911\n",
      "Epoch 99/100\n",
      "480/480 [==============================] - 4s 6ms/step - loss: 0.0304 - accuracy: 0.9888 - val_loss: 0.7792 - val_accuracy: 0.8941\n",
      "Epoch 100/100\n",
      "480/480 [==============================] - 4s 6ms/step - loss: 0.0316 - accuracy: 0.9879 - val_loss: 0.8179 - val_accuracy: 0.8923\n"
     ]
    }
   ],
   "source": [
    "hist = model.fit(train_dataset, epochs=N_EPOCHS, validation_data=val_dataset)"
   ]
  },
  {
   "cell_type": "code",
   "execution_count": 174,
   "metadata": {},
   "outputs": [
    {
     "data": {
      "image/png": "[encoded data removed]",
      "text/plain": [
       "<Figure size 504x432 with 1 Axes>"
      ]
     },
     "metadata": {
      "needs_background": "light"
     },
     "output_type": "display_data"
    }
   ],
   "source": [
    "plt.figure(figsize=(7,6))\n",
    "plt.plot(range(1, N_EPOCHS+1), hist.history['loss'], label='train loss')\n",
    "plt.plot(range(1, N_EPOCHS+1), hist.history['val_loss'], label='validation loss')\n",
    "plt.title(\"LOSS\", fontsize=20)\n",
    "plt.xlabel(\"Epochs\")\n",
    "plt.ylabel(\"Loss\")\n",
    "plt.legend()\n",
    "plt.show()"
   ]
  },
  {
   "cell_type": "code",
   "execution_count": 175,
   "metadata": {},
   "outputs": [
    {
     "data": {
      "image/png": "[encoded data removed]",
      "text/plain": [
       "<Figure size 504x432 with 1 Axes>"
      ]
     },
     "metadata": {
      "needs_background": "light"
     },
     "output_type": "display_data"
    }
   ],
   "source": [
    "plt.figure(figsize=(7,6))\n",
    "plt.plot(range(1, N_EPOCHS+1), hist.history['accuracy'], label='train accuracy')\n",
    "plt.plot(range(1, N_EPOCHS+1), hist.history['val_accuracy'], label='validation accuracy')\n",
    "plt.title(\"Accuracy\", fontsize=20)\n",
    "plt.xlabel(\"Epochs\")\n",
    "plt.ylabel(\"Accuracy\")\n",
    "plt.legend()\n",
    "plt.show()"
   ]
  },
  {
   "cell_type": "markdown",
   "metadata": {},
   "source": [
    "#### 최종평가"
   ]
  },
  {
   "cell_type": "code",
   "execution_count": 177,
   "metadata": {},
   "outputs": [
    {
     "name": "stdout",
     "output_type": "stream",
     "text": [
      "100/100 [==============================] - 1s 5ms/step - loss: 0.9263 - accuracy: 0.8910\n"
     ]
    }
   ],
   "source": [
    "loss, accuracy = model.evaluate(test_dataset)"
   ]
  },
  {
   "cell_type": "code",
   "execution_count": 178,
   "metadata": {},
   "outputs": [
    {
     "name": "stdout",
     "output_type": "stream",
     "text": [
      "0.9263355731964111 0.890999972820282\n"
     ]
    }
   ],
   "source": [
    "print(loss, accuracy)"
   ]
  },
  {
   "cell_type": "markdown",
   "metadata": {},
   "source": [
    "#### 새로운 데이터 추론"
   ]
  },
  {
   "cell_type": "code",
   "execution_count": 180,
   "metadata": {},
   "outputs": [],
   "source": [
    "new_input = X_test[:5]\n",
    "new_input = new_input/255 #정규화"
   ]
  },
  {
   "cell_type": "code",
   "execution_count": 181,
   "metadata": {},
   "outputs": [],
   "source": [
    "pred = model.predict(new_input)"
   ]
  },
  {
   "cell_type": "code",
   "execution_count": 184,
   "metadata": {},
   "outputs": [
    {
     "data": {
      "text/plain": [
       "array([9, 2, 1, 1, 6], dtype=int64)"
      ]
     },
     "execution_count": 184,
     "metadata": {},
     "output_type": "execute_result"
    }
   ],
   "source": [
    "pred_class = np.argmax(pred, axis=-1)\n",
    "pred_class"
   ]
  },
  {
   "cell_type": "code",
   "execution_count": 191,
   "metadata": {},
   "outputs": [
    {
     "data": {
      "text/plain": [
       "array([9, 2, 1, 1, 6], dtype=uint8)"
      ]
     },
     "execution_count": 191,
     "metadata": {},
     "output_type": "execute_result"
    }
   ],
   "source": [
    "test_label[:5]"
   ]
  },
  {
   "cell_type": "code",
   "execution_count": 190,
   "metadata": {},
   "outputs": [
    {
     "data": {
      "text/plain": [
       "array(['Ankle boot', 'Pullover', 'Trousers', 'Trousers', 'Shirt'],\n",
       "      dtype='<U11')"
      ]
     },
     "execution_count": 190,
     "metadata": {},
     "output_type": "execute_result"
    }
   ],
   "source": [
    "class_names = np.array(class_names)\n",
    "class_names[pred_class]"
   ]
  },
  {
   "cell_type": "code",
   "execution_count": null,
   "metadata": {},
   "outputs": [],
   "source": []
  },
  {
   "cell_type": "markdown",
   "metadata": {},
   "source": [
    "### 위스콘신 유방암 데이터셋 - 이진분류 문제\n",
    "- 위스콘신 대학교에서 제공한 종양의 악성/양성여부 분류를 위한 데이터셋\n",
    "- Feature\n",
    "    - 종양에 대한 다양한 측정값들\n",
    "- Target의 class\n",
    "    - 0 - malignant(악성종양)\n",
    "    - 1 - benign(양성종양)"
   ]
  },
  {
   "cell_type": "code",
   "execution_count": 2,
   "metadata": {},
   "outputs": [],
   "source": [
    "import numpy as np\n",
    "import tensorflow as tf\n",
    "from tensorflow import keras\n",
    "from tensorflow.keras import layers\n",
    "\n",
    "from sklearn.datasets import load_breast_cancer\n",
    "from sklearn.preprocessing import StandardScaler\n",
    "from sklearn.model_selection import train_test_split"
   ]
  },
  {
   "cell_type": "code",
   "execution_count": 3,
   "metadata": {},
   "outputs": [],
   "source": [
    "np.random.seed(0)\n",
    "tf.random.set_seed(0)"
   ]
  },
  {
   "cell_type": "markdown",
   "metadata": {},
   "source": [
    "#### data loading and split"
   ]
  },
  {
   "cell_type": "code",
   "execution_count": 4,
   "metadata": {},
   "outputs": [
    {
     "data": {
      "text/plain": [
       "((569, 30), (569,))"
      ]
     },
     "execution_count": 4,
     "metadata": {},
     "output_type": "execute_result"
    }
   ],
   "source": [
    "X, y = load_breast_cancer(return_X_y=True)\n",
    "X.shape, y.shape"
   ]
  },
  {
   "cell_type": "code",
   "execution_count": 5,
   "metadata": {},
   "outputs": [
    {
     "data": {
      "text/plain": [
       "((364, 30), (91, 30), (114, 30))"
      ]
     },
     "execution_count": 5,
     "metadata": {},
     "output_type": "execute_result"
    }
   ],
   "source": [
    "# Test set분리\n",
    "X_train, X_test, y_train, y_test = train_test_split(X, y, test_size=0.2, stratify=y, random_state=0)\n",
    "# Train/Val set 분리\n",
    "X_train, X_val, y_train, y_val = train_test_split(X_train, y_train, test_size=0.2, stratify=y_train, random_state=0)\n",
    "\n",
    "X_train.shape, X_val.shape, X_test.shape"
   ]
  },
  {
   "cell_type": "code",
   "execution_count": 6,
   "metadata": {
    "collapsed": true
   },
   "outputs": [
    {
     "data": {
      "text/plain": [
       "array([[1.955e+01, 2.321e+01, 1.289e+02, 1.174e+03, 1.010e-01, 1.318e-01,\n",
       "        1.856e-01, 1.021e-01, 1.989e-01, 5.884e-02, 6.107e-01, 2.836e+00,\n",
       "        5.383e+00, 7.010e+01, 1.124e-02, 4.097e-02, 7.469e-02, 3.441e-02,\n",
       "        2.768e-02, 6.240e-03, 2.082e+01, 3.044e+01, 1.420e+02, 1.313e+03,\n",
       "        1.251e-01, 2.414e-01, 3.829e-01, 1.825e-01, 2.576e-01, 7.602e-02],\n",
       "       [1.378e+01, 1.579e+01, 8.837e+01, 5.859e+02, 8.817e-02, 6.718e-02,\n",
       "        1.055e-02, 9.937e-03, 1.405e-01, 5.848e-02, 3.563e-01, 4.833e-01,\n",
       "        2.235e+00, 2.934e+01, 6.432e-03, 1.156e-02, 7.741e-03, 5.657e-03,\n",
       "        1.227e-02, 2.564e-03, 1.527e+01, 1.750e+01, 9.790e+01, 7.066e+02,\n",
       "        1.072e-01, 1.071e-01, 3.517e-02, 3.312e-02, 1.859e-01, 6.810e-02],\n",
       "       [1.865e+01, 1.760e+01, 1.237e+02, 1.076e+03, 1.099e-01, 1.686e-01,\n",
       "        1.974e-01, 1.009e-01, 1.907e-01, 6.049e-02, 6.289e-01, 6.633e-01,\n",
       "        4.293e+00, 7.156e+01, 6.294e-03, 3.994e-02, 5.554e-02, 1.695e-02,\n",
       "        2.428e-02, 3.535e-03, 2.282e+01, 2.132e+01, 1.506e+02, 1.567e+03,\n",
       "        1.679e-01, 5.090e-01, 7.345e-01, 2.378e-01, 3.799e-01, 9.185e-02]])"
      ]
     },
     "execution_count": 6,
     "metadata": {},
     "output_type": "execute_result"
    }
   ],
   "source": [
    "X_train[:3]"
   ]
  },
  {
   "cell_type": "code",
   "execution_count": 9,
   "metadata": {},
   "outputs": [
    {
     "data": {
      "text/plain": [
       "array([0, 1, 0])"
      ]
     },
     "execution_count": 9,
     "metadata": {},
     "output_type": "execute_result"
    }
   ],
   "source": [
    "y_train[:3]"
   ]
  },
  {
   "cell_type": "markdown",
   "metadata": {},
   "source": [
    "#### 하이퍼파라미터, 변수 정의"
   ]
  },
  {
   "cell_type": "code",
   "execution_count": 12,
   "metadata": {},
   "outputs": [],
   "source": [
    "LEARNING_RATE = 0.001\n",
    "N_EPOCHS = 150\n",
    "N_BATCHS = 50\n",
    "\n",
    "#각 데이터셋의 데이터 개수\n",
    "N_TRAIN = X_train.shape[0]\n",
    "N_VAL = X_val.shape[0]\n",
    "N_TEST = X_test.shape[0]"
   ]
  },
  {
   "cell_type": "markdown",
   "metadata": {},
   "source": [
    "#### 데이터 전처리\n",
    "- 이진 분류\n",
    "    - 출력 레이어의 unit을 1개, activation 함수를 sigmoid를 사용하는 경우(1일 확률) => y:그대로 사용\n",
    "    - 출력 레이어의 unit을 2개, activation 함수를 sofmax를 사용하는 경우(0일 확률, 1일 확률) - 다중분류와 동일하게 구현 => y: one hot encoding\n",
    "- X: 테이블데이터\n",
    "    - 문자열(범주형): one hot encoding\n",
    "    - 연속형(수치형): feature scaling"
   ]
  },
  {
   "cell_type": "code",
   "execution_count": 10,
   "metadata": {},
   "outputs": [],
   "source": [
    "# Feature Scaling\n",
    "scaler = StandardScaler()\n",
    "X_train_scaled = scaler.fit_transform(X_train)\n",
    "X_val_scaled = scaler.transform(X_val)\n",
    "X_test_scaled = scaler.transform(X_test)"
   ]
  },
  {
   "cell_type": "markdown",
   "metadata": {},
   "source": [
    "#### Dataset 생성"
   ]
  },
  {
   "cell_type": "code",
   "execution_count": 23,
   "metadata": {},
   "outputs": [],
   "source": [
    "train_dataset = tf.data.Dataset.from_tensor_slices((X_train_scaled, y_train)).shuffle(N_TRAIN).batch(N_BATCHS, drop_remainder=True)\n",
    "\n",
    "val_dataset = tf.data.Dataset.from_tensor_slices((X_val_scaled, y_val)).batch(N_BATCHS)\n",
    "\n",
    "test_dataset = tf.data.Dataset.from_tensor_slices((X_test_scaled, y_test)).batch(N_BATCHS)"
   ]
  },
  {
   "cell_type": "code",
   "execution_count": 24,
   "metadata": {},
   "outputs": [
    {
     "data": {
      "text/plain": [
       "(364, 30)"
      ]
     },
     "execution_count": 24,
     "metadata": {},
     "output_type": "execute_result"
    }
   ],
   "source": [
    "X_train.shape"
   ]
  },
  {
   "cell_type": "markdown",
   "metadata": {},
   "source": [
    "#### model 생성, 컴파일"
   ]
  },
  {
   "cell_type": "code",
   "execution_count": 25,
   "metadata": {},
   "outputs": [],
   "source": [
    "def create_cancer_model():\n",
    "    model = keras.Sequential()\n",
    "    model.add(layers.Dense(units=32, activation='relu', input_shape=(30, )))\n",
    "    model.add(layers.Dense(units=16, activation='relu'))\n",
    "    model.add(layers.Dense(units=8, activation='relu'))\n",
    "    #출력: 1일확률 - unit:1, activation: sigmoid  (0확률, 0확률-unit-2, activation: softmax)\n",
    "    model.add(layers.Dense(units=1, activation='sigmoid', name='Output_layer'))\n",
    "    return model"
   ]
  },
  {
   "cell_type": "code",
   "execution_count": 26,
   "metadata": {},
   "outputs": [],
   "source": [
    "model = create_cancer_model()\n",
    "model.compile(optimizer=keras.optimizers.Adam(learning_rate=LEARNING_RATE), \n",
    "              loss='binary_crossentropy', # 1일확률: binary_crossentropy,  (0확률,1확률): categorical_crossentropy\n",
    "              metrics=['accuracy'])"
   ]
  },
  {
   "cell_type": "code",
   "execution_count": 27,
   "metadata": {},
   "outputs": [
    {
     "name": "stdout",
     "output_type": "stream",
     "text": [
      "Model: \"sequential_2\"\n",
      "_________________________________________________________________\n",
      "Layer (type)                 Output Shape              Param #   \n",
      "=================================================================\n",
      "dense_7 (Dense)              (None, 32)                992       \n",
      "_________________________________________________________________\n",
      "dense_8 (Dense)              (None, 16)                528       \n",
      "_________________________________________________________________\n",
      "dense_9 (Dense)              (None, 8)                 136       \n",
      "_________________________________________________________________\n",
      "Output_layer (Dense)         (None, 1)                 9         \n",
      "=================================================================\n",
      "Total params: 1,665\n",
      "Trainable params: 1,665\n",
      "Non-trainable params: 0\n",
      "_________________________________________________________________\n"
     ]
    }
   ],
   "source": [
    "model.summary()"
   ]
  },
  {
   "cell_type": "code",
   "execution_count": 21,
   "metadata": {
    "collapsed": true
   },
   "outputs": [
    {
     "data": {
      "image/png": "[encoded data removed]",
      "text/plain": [
       "<IPython.core.display.Image object>"
      ]
     },
     "execution_count": 21,
     "metadata": {},
     "output_type": "execute_result"
    }
   ],
   "source": [
    "keras.utils.plot_model(model, show_shapes=True, to_file='cancer_model.png')"
   ]
  },
  {
   "cell_type": "markdown",
   "metadata": {},
   "source": [
    "#### Train(학습)"
   ]
  },
  {
   "cell_type": "code",
   "execution_count": 28,
   "metadata": {},
   "outputs": [
    {
     "name": "stdout",
     "output_type": "stream",
     "text": [
      "Epoch 1/150\n",
      "7/7 [==============================] - 1s 41ms/step - loss: 0.5845 - accuracy: 0.7314 - val_loss: 0.5223 - val_accuracy: 0.7802\n",
      "Epoch 2/150\n",
      "7/7 [==============================] - 0s 6ms/step - loss: 0.4585 - accuracy: 0.8571 - val_loss: 0.4239 - val_accuracy: 0.8791\n",
      "Epoch 3/150\n",
      "7/7 [==============================] - 0s 10ms/step - loss: 0.3747 - accuracy: 0.9000 - val_loss: 0.3525 - val_accuracy: 0.9011\n",
      "Epoch 4/150\n",
      "7/7 [==============================] - 0s 6ms/step - loss: 0.3115 - accuracy: 0.9314 - val_loss: 0.2948 - val_accuracy: 0.9121\n",
      "Epoch 5/150\n",
      "7/7 [==============================] - 0s 6ms/step - loss: 0.2626 - accuracy: 0.9457 - val_loss: 0.2476 - val_accuracy: 0.9451\n",
      "Epoch 6/150\n",
      "7/7 [==============================] - 0s 9ms/step - loss: 0.2205 - accuracy: 0.9457 - val_loss: 0.2111 - val_accuracy: 0.9451\n",
      "Epoch 7/150\n",
      "7/7 [==============================] - 0s 10ms/step - loss: 0.1862 - accuracy: 0.9571 - val_loss: 0.1821 - val_accuracy: 0.9670\n",
      "Epoch 8/150\n",
      "7/7 [==============================] - 0s 8ms/step - loss: 0.1628 - accuracy: 0.9657 - val_loss: 0.1583 - val_accuracy: 0.9670\n",
      "Epoch 9/150\n",
      "7/7 [==============================] - 0s 6ms/step - loss: 0.1458 - accuracy: 0.9629 - val_loss: 0.1401 - val_accuracy: 0.9670\n",
      "Epoch 10/150\n",
      "7/7 [==============================] - 0s 12ms/step - loss: 0.1317 - accuracy: 0.9657 - val_loss: 0.1257 - val_accuracy: 0.9780\n",
      "Epoch 11/150\n",
      "7/7 [==============================] - 0s 8ms/step - loss: 0.1155 - accuracy: 0.9800 - val_loss: 0.1137 - val_accuracy: 0.9780\n",
      "Epoch 12/150\n",
      "7/7 [==============================] - 0s 9ms/step - loss: 0.1073 - accuracy: 0.9800 - val_loss: 0.1040 - val_accuracy: 0.9780\n",
      "Epoch 13/150\n",
      "7/7 [==============================] - 0s 11ms/step - loss: 0.0984 - accuracy: 0.9800 - val_loss: 0.0959 - val_accuracy: 0.9780\n",
      "Epoch 14/150\n",
      "7/7 [==============================] - 0s 13ms/step - loss: 0.0902 - accuracy: 0.9800 - val_loss: 0.0894 - val_accuracy: 0.9780\n",
      "Epoch 15/150\n",
      "7/7 [==============================] - 0s 8ms/step - loss: 0.0828 - accuracy: 0.9829 - val_loss: 0.0833 - val_accuracy: 0.9780\n",
      "Epoch 16/150\n",
      "7/7 [==============================] - 0s 10ms/step - loss: 0.0767 - accuracy: 0.9857 - val_loss: 0.0782 - val_accuracy: 0.9780\n",
      "Epoch 17/150\n",
      "7/7 [==============================] - 0s 10ms/step - loss: 0.0705 - accuracy: 0.9886 - val_loss: 0.0738 - val_accuracy: 0.9780\n",
      "Epoch 18/150\n",
      "7/7 [==============================] - 0s 6ms/step - loss: 0.0681 - accuracy: 0.9857 - val_loss: 0.0696 - val_accuracy: 0.9780\n",
      "Epoch 19/150\n",
      "7/7 [==============================] - 0s 5ms/step - loss: 0.0657 - accuracy: 0.9857 - val_loss: 0.0663 - val_accuracy: 0.9780\n",
      "Epoch 20/150\n",
      "7/7 [==============================] - 0s 9ms/step - loss: 0.0597 - accuracy: 0.9886 - val_loss: 0.0627 - val_accuracy: 0.9780\n",
      "Epoch 21/150\n",
      "7/7 [==============================] - 0s 8ms/step - loss: 0.0591 - accuracy: 0.9857 - val_loss: 0.0607 - val_accuracy: 0.9890\n",
      "Epoch 22/150\n",
      "7/7 [==============================] - 0s 12ms/step - loss: 0.0569 - accuracy: 0.9886 - val_loss: 0.0590 - val_accuracy: 0.9890\n",
      "Epoch 23/150\n",
      "7/7 [==============================] - 0s 4ms/step - loss: 0.0535 - accuracy: 0.9886 - val_loss: 0.0563 - val_accuracy: 0.9890\n",
      "Epoch 24/150\n",
      "7/7 [==============================] - 0s 11ms/step - loss: 0.0509 - accuracy: 0.9914 - val_loss: 0.0547 - val_accuracy: 0.9890\n",
      "Epoch 25/150\n",
      "7/7 [==============================] - 0s 4ms/step - loss: 0.0492 - accuracy: 0.9914 - val_loss: 0.0529 - val_accuracy: 0.9890\n",
      "Epoch 26/150\n",
      "7/7 [==============================] - 0s 16ms/step - loss: 0.0473 - accuracy: 0.9914 - val_loss: 0.0512 - val_accuracy: 0.9890\n",
      "Epoch 27/150\n",
      "7/7 [==============================] - 0s 7ms/step - loss: 0.0450 - accuracy: 0.9914 - val_loss: 0.0496 - val_accuracy: 0.9890\n",
      "Epoch 28/150\n",
      "7/7 [==============================] - 0s 12ms/step - loss: 0.0429 - accuracy: 0.9914 - val_loss: 0.0475 - val_accuracy: 0.9890\n",
      "Epoch 29/150\n",
      "7/7 [==============================] - 0s 14ms/step - loss: 0.0408 - accuracy: 0.9914 - val_loss: 0.0463 - val_accuracy: 0.9890\n",
      "Epoch 30/150\n",
      "7/7 [==============================] - 0s 5ms/step - loss: 0.0394 - accuracy: 0.9943 - val_loss: 0.0452 - val_accuracy: 0.9890\n",
      "Epoch 31/150\n",
      "7/7 [==============================] - 0s 12ms/step - loss: 0.0380 - accuracy: 0.9943 - val_loss: 0.0452 - val_accuracy: 0.9780\n",
      "Epoch 32/150\n",
      "7/7 [==============================] - 0s 13ms/step - loss: 0.0365 - accuracy: 0.9943 - val_loss: 0.0440 - val_accuracy: 0.9890\n",
      "Epoch 33/150\n",
      "7/7 [==============================] - 0s 8ms/step - loss: 0.0352 - accuracy: 0.9943 - val_loss: 0.0438 - val_accuracy: 0.9780\n",
      "Epoch 34/150\n",
      "7/7 [==============================] - 0s 10ms/step - loss: 0.0333 - accuracy: 0.9943 - val_loss: 0.0431 - val_accuracy: 0.9780\n",
      "Epoch 35/150\n",
      "7/7 [==============================] - 0s 8ms/step - loss: 0.0326 - accuracy: 0.9943 - val_loss: 0.0427 - val_accuracy: 0.9780\n",
      "Epoch 36/150\n",
      "7/7 [==============================] - 0s 17ms/step - loss: 0.0310 - accuracy: 0.9943 - val_loss: 0.0414 - val_accuracy: 0.9780\n",
      "Epoch 37/150\n",
      "7/7 [==============================] - 0s 8ms/step - loss: 0.0290 - accuracy: 0.9943 - val_loss: 0.0404 - val_accuracy: 0.9780\n",
      "Epoch 38/150\n",
      "7/7 [==============================] - 0s 8ms/step - loss: 0.0283 - accuracy: 0.9943 - val_loss: 0.0399 - val_accuracy: 0.9780\n",
      "Epoch 39/150\n",
      "7/7 [==============================] - 0s 14ms/step - loss: 0.0270 - accuracy: 0.9971 - val_loss: 0.0399 - val_accuracy: 0.9780\n",
      "Epoch 40/150\n",
      "7/7 [==============================] - 0s 15ms/step - loss: 0.0262 - accuracy: 0.9971 - val_loss: 0.0397 - val_accuracy: 0.9780\n",
      "Epoch 41/150\n",
      "7/7 [==============================] - 0s 14ms/step - loss: 0.0256 - accuracy: 0.9971 - val_loss: 0.0390 - val_accuracy: 0.9890\n",
      "Epoch 42/150\n",
      "7/7 [==============================] - 0s 9ms/step - loss: 0.0243 - accuracy: 0.9971 - val_loss: 0.0385 - val_accuracy: 0.9890\n",
      "Epoch 43/150\n",
      "7/7 [==============================] - 0s 11ms/step - loss: 0.0228 - accuracy: 0.9971 - val_loss: 0.0375 - val_accuracy: 0.9890\n",
      "Epoch 44/150\n",
      "7/7 [==============================] - 0s 11ms/step - loss: 0.0226 - accuracy: 0.9971 - val_loss: 0.0375 - val_accuracy: 0.9780\n",
      "Epoch 45/150\n",
      "7/7 [==============================] - 0s 9ms/step - loss: 0.0214 - accuracy: 0.9971 - val_loss: 0.0372 - val_accuracy: 0.9780\n",
      "Epoch 46/150\n",
      "7/7 [==============================] - 0s 9ms/step - loss: 0.0204 - accuracy: 0.9971 - val_loss: 0.0354 - val_accuracy: 0.9780\n",
      "Epoch 47/150\n",
      "7/7 [==============================] - 0s 11ms/step - loss: 0.0202 - accuracy: 0.9971 - val_loss: 0.0348 - val_accuracy: 0.9890\n",
      "Epoch 48/150\n",
      "7/7 [==============================] - 0s 5ms/step - loss: 0.0182 - accuracy: 0.9971 - val_loss: 0.0338 - val_accuracy: 0.9890\n",
      "Epoch 49/150\n",
      "7/7 [==============================] - 0s 9ms/step - loss: 0.0187 - accuracy: 0.9971 - val_loss: 0.0337 - val_accuracy: 0.9890\n",
      "Epoch 50/150\n",
      "7/7 [==============================] - 0s 9ms/step - loss: 0.0175 - accuracy: 0.9971 - val_loss: 0.0335 - val_accuracy: 0.9890\n",
      "Epoch 51/150\n",
      "7/7 [==============================] - 0s 8ms/step - loss: 0.0170 - accuracy: 0.9971 - val_loss: 0.0328 - val_accuracy: 0.9890\n",
      "Epoch 52/150\n",
      "7/7 [==============================] - 0s 10ms/step - loss: 0.0164 - accuracy: 0.9971 - val_loss: 0.0327 - val_accuracy: 0.9890\n",
      "Epoch 53/150\n",
      "7/7 [==============================] - 0s 7ms/step - loss: 0.0159 - accuracy: 0.9971 - val_loss: 0.0328 - val_accuracy: 0.9890\n",
      "Epoch 54/150\n",
      "7/7 [==============================] - 0s 11ms/step - loss: 0.0149 - accuracy: 0.9971 - val_loss: 0.0318 - val_accuracy: 0.9890\n",
      "Epoch 55/150\n",
      "7/7 [==============================] - 0s 5ms/step - loss: 0.0145 - accuracy: 0.9971 - val_loss: 0.0314 - val_accuracy: 0.9890\n",
      "Epoch 56/150\n",
      "7/7 [==============================] - 0s 6ms/step - loss: 0.0136 - accuracy: 0.9971 - val_loss: 0.0313 - val_accuracy: 0.9890\n",
      "Epoch 57/150\n",
      "7/7 [==============================] - 0s 12ms/step - loss: 0.0133 - accuracy: 0.9971 - val_loss: 0.0309 - val_accuracy: 0.9890\n",
      "Epoch 58/150\n",
      "7/7 [==============================] - 0s 6ms/step - loss: 0.0130 - accuracy: 0.9971 - val_loss: 0.0295 - val_accuracy: 0.9890\n",
      "Epoch 59/150\n"
     ]
    },
    {
     "name": "stdout",
     "output_type": "stream",
     "text": [
      "7/7 [==============================] - 0s 7ms/step - loss: 0.0123 - accuracy: 0.9971 - val_loss: 0.0291 - val_accuracy: 0.9890\n",
      "Epoch 60/150\n",
      "7/7 [==============================] - 0s 10ms/step - loss: 0.0071 - accuracy: 1.0000 - val_loss: 0.0289 - val_accuracy: 0.9890\n",
      "Epoch 61/150\n",
      "7/7 [==============================] - 0s 6ms/step - loss: 0.0119 - accuracy: 0.9971 - val_loss: 0.0283 - val_accuracy: 0.9890\n",
      "Epoch 62/150\n",
      "7/7 [==============================] - 0s 9ms/step - loss: 0.0112 - accuracy: 0.9971 - val_loss: 0.0279 - val_accuracy: 0.9890\n",
      "Epoch 63/150\n",
      "7/7 [==============================] - 0s 4ms/step - loss: 0.0109 - accuracy: 0.9971 - val_loss: 0.0272 - val_accuracy: 0.9890\n",
      "Epoch 64/150\n",
      "7/7 [==============================] - 0s 9ms/step - loss: 0.0106 - accuracy: 0.9971 - val_loss: 0.0270 - val_accuracy: 0.9890\n",
      "Epoch 65/150\n",
      "7/7 [==============================] - 0s 4ms/step - loss: 0.0100 - accuracy: 0.9971 - val_loss: 0.0269 - val_accuracy: 0.9890\n",
      "Epoch 66/150\n",
      "7/7 [==============================] - 0s 7ms/step - loss: 0.0097 - accuracy: 0.9971 - val_loss: 0.0262 - val_accuracy: 0.9890\n",
      "Epoch 67/150\n",
      "7/7 [==============================] - 0s 13ms/step - loss: 0.0096 - accuracy: 0.9971 - val_loss: 0.0261 - val_accuracy: 0.9890\n",
      "Epoch 68/150\n",
      "7/7 [==============================] - 0s 5ms/step - loss: 0.0091 - accuracy: 0.9971 - val_loss: 0.0256 - val_accuracy: 0.9890\n",
      "Epoch 69/150\n",
      "7/7 [==============================] - 0s 10ms/step - loss: 0.0087 - accuracy: 0.9971 - val_loss: 0.0248 - val_accuracy: 1.0000\n",
      "Epoch 70/150\n",
      "7/7 [==============================] - 0s 5ms/step - loss: 0.0084 - accuracy: 0.9971 - val_loss: 0.0242 - val_accuracy: 1.0000\n",
      "Epoch 71/150\n",
      "7/7 [==============================] - 0s 6ms/step - loss: 0.0080 - accuracy: 0.9971 - val_loss: 0.0239 - val_accuracy: 1.0000\n",
      "Epoch 72/150\n",
      "7/7 [==============================] - 0s 5ms/step - loss: 0.0075 - accuracy: 0.9971 - val_loss: 0.0239 - val_accuracy: 1.0000\n",
      "Epoch 73/150\n",
      "7/7 [==============================] - 0s 4ms/step - loss: 0.0074 - accuracy: 0.9971 - val_loss: 0.0243 - val_accuracy: 1.0000\n",
      "Epoch 74/150\n",
      "7/7 [==============================] - 0s 8ms/step - loss: 0.0071 - accuracy: 0.9971 - val_loss: 0.0242 - val_accuracy: 1.0000\n",
      "Epoch 75/150\n",
      "7/7 [==============================] - 0s 5ms/step - loss: 0.0062 - accuracy: 0.9971 - val_loss: 0.0231 - val_accuracy: 1.0000\n",
      "Epoch 76/150\n",
      "7/7 [==============================] - 0s 9ms/step - loss: 0.0054 - accuracy: 0.9971 - val_loss: 0.0225 - val_accuracy: 1.0000\n",
      "Epoch 77/150\n",
      "7/7 [==============================] - 0s 7ms/step - loss: 0.0052 - accuracy: 1.0000 - val_loss: 0.0223 - val_accuracy: 1.0000\n",
      "Epoch 78/150\n",
      "7/7 [==============================] - 0s 9ms/step - loss: 0.0048 - accuracy: 1.0000 - val_loss: 0.0221 - val_accuracy: 1.0000\n",
      "Epoch 79/150\n",
      "7/7 [==============================] - 0s 8ms/step - loss: 0.0044 - accuracy: 1.0000 - val_loss: 0.0213 - val_accuracy: 1.0000\n",
      "Epoch 80/150\n",
      "7/7 [==============================] - 0s 5ms/step - loss: 0.0042 - accuracy: 1.0000 - val_loss: 0.0213 - val_accuracy: 1.0000\n",
      "Epoch 81/150\n",
      "7/7 [==============================] - 0s 5ms/step - loss: 0.0038 - accuracy: 1.0000 - val_loss: 0.0211 - val_accuracy: 1.0000\n",
      "Epoch 82/150\n",
      "7/7 [==============================] - 0s 8ms/step - loss: 0.0037 - accuracy: 1.0000 - val_loss: 0.0202 - val_accuracy: 1.0000\n",
      "Epoch 83/150\n",
      "7/7 [==============================] - 0s 8ms/step - loss: 0.0035 - accuracy: 1.0000 - val_loss: 0.0199 - val_accuracy: 1.0000\n",
      "Epoch 84/150\n",
      "7/7 [==============================] - 0s 4ms/step - loss: 0.0033 - accuracy: 1.0000 - val_loss: 0.0193 - val_accuracy: 1.0000\n",
      "Epoch 85/150\n",
      "7/7 [==============================] - 0s 6ms/step - loss: 0.0031 - accuracy: 1.0000 - val_loss: 0.0192 - val_accuracy: 1.0000\n",
      "Epoch 86/150\n",
      "7/7 [==============================] - 0s 4ms/step - loss: 0.0030 - accuracy: 1.0000 - val_loss: 0.0186 - val_accuracy: 1.0000\n",
      "Epoch 87/150\n",
      "7/7 [==============================] - 0s 6ms/step - loss: 0.0029 - accuracy: 1.0000 - val_loss: 0.0182 - val_accuracy: 1.0000\n",
      "Epoch 88/150\n",
      "7/7 [==============================] - 0s 4ms/step - loss: 0.0027 - accuracy: 1.0000 - val_loss: 0.0181 - val_accuracy: 1.0000\n",
      "Epoch 89/150\n",
      "7/7 [==============================] - 0s 9ms/step - loss: 0.0027 - accuracy: 1.0000 - val_loss: 0.0180 - val_accuracy: 1.0000\n",
      "Epoch 90/150\n",
      "7/7 [==============================] - 0s 5ms/step - loss: 0.0025 - accuracy: 1.0000 - val_loss: 0.0178 - val_accuracy: 1.0000\n",
      "Epoch 91/150\n",
      "7/7 [==============================] - 0s 9ms/step - loss: 0.0020 - accuracy: 1.0000 - val_loss: 0.0174 - val_accuracy: 1.0000\n",
      "Epoch 92/150\n",
      "7/7 [==============================] - 0s 4ms/step - loss: 0.0023 - accuracy: 1.0000 - val_loss: 0.0170 - val_accuracy: 1.0000\n",
      "Epoch 93/150\n",
      "7/7 [==============================] - 0s 8ms/step - loss: 0.0022 - accuracy: 1.0000 - val_loss: 0.0172 - val_accuracy: 1.0000\n",
      "Epoch 94/150\n",
      "7/7 [==============================] - 0s 4ms/step - loss: 0.0021 - accuracy: 1.0000 - val_loss: 0.0171 - val_accuracy: 1.0000\n",
      "Epoch 95/150\n",
      "7/7 [==============================] - 0s 8ms/step - loss: 0.0020 - accuracy: 1.0000 - val_loss: 0.0171 - val_accuracy: 1.0000\n",
      "Epoch 96/150\n",
      "7/7 [==============================] - 0s 6ms/step - loss: 0.0020 - accuracy: 1.0000 - val_loss: 0.0166 - val_accuracy: 1.0000\n",
      "Epoch 97/150\n",
      "7/7 [==============================] - 0s 6ms/step - loss: 0.0019 - accuracy: 1.0000 - val_loss: 0.0165 - val_accuracy: 1.0000\n",
      "Epoch 98/150\n",
      "7/7 [==============================] - 0s 5ms/step - loss: 0.0014 - accuracy: 1.0000 - val_loss: 0.0164 - val_accuracy: 1.0000\n",
      "Epoch 99/150\n",
      "7/7 [==============================] - 0s 4ms/step - loss: 0.0017 - accuracy: 1.0000 - val_loss: 0.0163 - val_accuracy: 1.0000\n",
      "Epoch 100/150\n",
      "7/7 [==============================] - 0s 4ms/step - loss: 0.0017 - accuracy: 1.0000 - val_loss: 0.0162 - val_accuracy: 1.0000\n",
      "Epoch 101/150\n",
      "7/7 [==============================] - 0s 9ms/step - loss: 0.0017 - accuracy: 1.0000 - val_loss: 0.0162 - val_accuracy: 1.0000\n",
      "Epoch 102/150\n",
      "7/7 [==============================] - 0s 5ms/step - loss: 0.0016 - accuracy: 1.0000 - val_loss: 0.0160 - val_accuracy: 1.0000\n",
      "Epoch 103/150\n",
      "7/7 [==============================] - 0s 11ms/step - loss: 0.0016 - accuracy: 1.0000 - val_loss: 0.0159 - val_accuracy: 1.0000\n",
      "Epoch 104/150\n",
      "7/7 [==============================] - 0s 5ms/step - loss: 0.0015 - accuracy: 1.0000 - val_loss: 0.0160 - val_accuracy: 1.0000\n",
      "Epoch 105/150\n",
      "7/7 [==============================] - 0s 5ms/step - loss: 0.0015 - accuracy: 1.0000 - val_loss: 0.0159 - val_accuracy: 1.0000\n",
      "Epoch 106/150\n",
      "7/7 [==============================] - 0s 4ms/step - loss: 0.0014 - accuracy: 1.0000 - val_loss: 0.0158 - val_accuracy: 1.0000\n",
      "Epoch 107/150\n",
      "7/7 [==============================] - 0s 8ms/step - loss: 0.0012 - accuracy: 1.0000 - val_loss: 0.0157 - val_accuracy: 1.0000\n",
      "Epoch 108/150\n",
      "7/7 [==============================] - 0s 8ms/step - loss: 0.0013 - accuracy: 1.0000 - val_loss: 0.0156 - val_accuracy: 1.0000\n",
      "Epoch 109/150\n",
      "7/7 [==============================] - 0s 6ms/step - loss: 0.0013 - accuracy: 1.0000 - val_loss: 0.0156 - val_accuracy: 1.0000\n",
      "Epoch 110/150\n",
      "7/7 [==============================] - 0s 11ms/step - loss: 0.0012 - accuracy: 1.0000 - val_loss: 0.0157 - val_accuracy: 1.0000\n",
      "Epoch 111/150\n",
      "7/7 [==============================] - 0s 5ms/step - loss: 0.0012 - accuracy: 1.0000 - val_loss: 0.0157 - val_accuracy: 1.0000\n",
      "Epoch 112/150\n",
      "7/7 [==============================] - 0s 9ms/step - loss: 0.0012 - accuracy: 1.0000 - val_loss: 0.0156 - val_accuracy: 1.0000\n",
      "Epoch 113/150\n",
      "7/7 [==============================] - 0s 6ms/step - loss: 0.0011 - accuracy: 1.0000 - val_loss: 0.0155 - val_accuracy: 1.0000\n",
      "Epoch 114/150\n",
      "7/7 [==============================] - 0s 8ms/step - loss: 0.0011 - accuracy: 1.0000 - val_loss: 0.0155 - val_accuracy: 1.0000\n",
      "Epoch 115/150\n",
      "7/7 [==============================] - 0s 4ms/step - loss: 0.0011 - accuracy: 1.0000 - val_loss: 0.0154 - val_accuracy: 1.0000\n",
      "Epoch 116/150\n",
      "7/7 [==============================] - 0s 10ms/step - loss: 9.9836e-04 - accuracy: 1.0000 - val_loss: 0.0154 - val_accuracy: 1.0000\n",
      "Epoch 117/150\n"
     ]
    },
    {
     "name": "stdout",
     "output_type": "stream",
     "text": [
      "7/7 [==============================] - 0s 5ms/step - loss: 8.3548e-04 - accuracy: 1.0000 - val_loss: 0.0153 - val_accuracy: 1.0000\n",
      "Epoch 118/150\n",
      "7/7 [==============================] - 0s 5ms/step - loss: 9.6452e-04 - accuracy: 1.0000 - val_loss: 0.0153 - val_accuracy: 1.0000\n",
      "Epoch 119/150\n",
      "7/7 [==============================] - 0s 5ms/step - loss: 8.1943e-04 - accuracy: 1.0000 - val_loss: 0.0152 - val_accuracy: 1.0000\n",
      "Epoch 120/150\n",
      "7/7 [==============================] - 0s 7ms/step - loss: 9.1844e-04 - accuracy: 1.0000 - val_loss: 0.0152 - val_accuracy: 1.0000\n",
      "Epoch 121/150\n",
      "7/7 [==============================] - 0s 9ms/step - loss: 8.9175e-04 - accuracy: 1.0000 - val_loss: 0.0152 - val_accuracy: 1.0000\n",
      "Epoch 122/150\n",
      "7/7 [==============================] - 0s 6ms/step - loss: 9.0546e-04 - accuracy: 1.0000 - val_loss: 0.0153 - val_accuracy: 1.0000\n",
      "Epoch 123/150\n",
      "7/7 [==============================] - 0s 6ms/step - loss: 8.4892e-04 - accuracy: 1.0000 - val_loss: 0.0152 - val_accuracy: 1.0000\n",
      "Epoch 124/150\n",
      "7/7 [==============================] - 0s 5ms/step - loss: 8.5399e-04 - accuracy: 1.0000 - val_loss: 0.0152 - val_accuracy: 1.0000\n",
      "Epoch 125/150\n",
      "7/7 [==============================] - 0s 6ms/step - loss: 8.2216e-04 - accuracy: 1.0000 - val_loss: 0.0152 - val_accuracy: 1.0000\n",
      "Epoch 126/150\n",
      "7/7 [==============================] - 0s 5ms/step - loss: 7.7146e-04 - accuracy: 1.0000 - val_loss: 0.0152 - val_accuracy: 1.0000\n",
      "Epoch 127/150\n",
      "7/7 [==============================] - 0s 6ms/step - loss: 7.7659e-04 - accuracy: 1.0000 - val_loss: 0.0151 - val_accuracy: 1.0000\n",
      "Epoch 128/150\n",
      "7/7 [==============================] - 0s 10ms/step - loss: 7.7431e-04 - accuracy: 1.0000 - val_loss: 0.0152 - val_accuracy: 1.0000\n",
      "Epoch 129/150\n",
      "7/7 [==============================] - 0s 5ms/step - loss: 7.4636e-04 - accuracy: 1.0000 - val_loss: 0.0151 - val_accuracy: 1.0000\n",
      "Epoch 130/150\n",
      "7/7 [==============================] - 0s 9ms/step - loss: 7.3306e-04 - accuracy: 1.0000 - val_loss: 0.0151 - val_accuracy: 1.0000\n",
      "Epoch 131/150\n",
      "7/7 [==============================] - 0s 6ms/step - loss: 6.9597e-04 - accuracy: 1.0000 - val_loss: 0.0151 - val_accuracy: 1.0000\n",
      "Epoch 132/150\n",
      "7/7 [==============================] - 0s 6ms/step - loss: 5.4374e-04 - accuracy: 1.0000 - val_loss: 0.0151 - val_accuracy: 1.0000\n",
      "Epoch 133/150\n",
      "7/7 [==============================] - 0s 9ms/step - loss: 6.8530e-04 - accuracy: 1.0000 - val_loss: 0.0151 - val_accuracy: 1.0000\n",
      "Epoch 134/150\n",
      "7/7 [==============================] - 0s 4ms/step - loss: 6.1678e-04 - accuracy: 1.0000 - val_loss: 0.0150 - val_accuracy: 1.0000\n",
      "Epoch 135/150\n",
      "7/7 [==============================] - 0s 8ms/step - loss: 6.6737e-04 - accuracy: 1.0000 - val_loss: 0.0149 - val_accuracy: 1.0000\n",
      "Epoch 136/150\n",
      "7/7 [==============================] - 0s 4ms/step - loss: 6.4230e-04 - accuracy: 1.0000 - val_loss: 0.0150 - val_accuracy: 1.0000\n",
      "Epoch 137/150\n",
      "7/7 [==============================] - 0s 9ms/step - loss: 6.1341e-04 - accuracy: 1.0000 - val_loss: 0.0150 - val_accuracy: 1.0000\n",
      "Epoch 138/150\n",
      "7/7 [==============================] - 0s 6ms/step - loss: 6.1241e-04 - accuracy: 1.0000 - val_loss: 0.0151 - val_accuracy: 1.0000\n",
      "Epoch 139/150\n",
      "7/7 [==============================] - ETA: 0s - loss: 4.5639e-04 - accuracy: 1.00 - 0s 7ms/step - loss: 5.9583e-04 - accuracy: 1.0000 - val_loss: 0.0151 - val_accuracy: 1.0000\n",
      "Epoch 140/150\n",
      "7/7 [==============================] - 0s 10ms/step - loss: 5.6678e-04 - accuracy: 1.0000 - val_loss: 0.0152 - val_accuracy: 1.0000\n",
      "Epoch 141/150\n",
      "7/7 [==============================] - 0s 6ms/step - loss: 5.5945e-04 - accuracy: 1.0000 - val_loss: 0.0151 - val_accuracy: 1.0000\n",
      "Epoch 142/150\n",
      "7/7 [==============================] - 0s 8ms/step - loss: 5.5605e-04 - accuracy: 1.0000 - val_loss: 0.0150 - val_accuracy: 1.0000\n",
      "Epoch 143/150\n",
      "7/7 [==============================] - 0s 7ms/step - loss: 5.5798e-04 - accuracy: 1.0000 - val_loss: 0.0149 - val_accuracy: 1.0000\n",
      "Epoch 144/150\n",
      "7/7 [==============================] - 0s 9ms/step - loss: 5.1110e-04 - accuracy: 1.0000 - val_loss: 0.0151 - val_accuracy: 1.0000\n",
      "Epoch 145/150\n",
      "7/7 [==============================] - 0s 5ms/step - loss: 5.3446e-04 - accuracy: 1.0000 - val_loss: 0.0152 - val_accuracy: 1.0000\n",
      "Epoch 146/150\n",
      "7/7 [==============================] - 0s 8ms/step - loss: 5.0722e-04 - accuracy: 1.0000 - val_loss: 0.0151 - val_accuracy: 1.0000\n",
      "Epoch 147/150\n",
      "7/7 [==============================] - 0s 6ms/step - loss: 5.1131e-04 - accuracy: 1.0000 - val_loss: 0.0151 - val_accuracy: 1.0000\n",
      "Epoch 148/150\n",
      "7/7 [==============================] - 0s 5ms/step - loss: 4.8011e-04 - accuracy: 1.0000 - val_loss: 0.0151 - val_accuracy: 1.0000\n",
      "Epoch 149/150\n",
      "7/7 [==============================] - 0s 5ms/step - loss: 4.7377e-04 - accuracy: 1.0000 - val_loss: 0.0150 - val_accuracy: 1.0000\n",
      "Epoch 150/150\n",
      "7/7 [==============================] - 0s 6ms/step - loss: 4.7683e-04 - accuracy: 1.0000 - val_loss: 0.0150 - val_accuracy: 1.0000\n"
     ]
    }
   ],
   "source": [
    "hist = model.fit(train_dataset, epochs=N_EPOCHS, validation_data=val_dataset)"
   ]
  },
  {
   "cell_type": "markdown",
   "metadata": {},
   "source": [
    "#### 결과 plotting"
   ]
  },
  {
   "cell_type": "code",
   "execution_count": 29,
   "metadata": {},
   "outputs": [],
   "source": [
    "# loss\n",
    "import matplotlib.pyplot as plt"
   ]
  },
  {
   "cell_type": "code",
   "execution_count": 30,
   "metadata": {},
   "outputs": [
    {
     "data": {
      "image/png": "[encoded data removed]",
      "text/plain": [
       "<Figure size 504x432 with 1 Axes>"
      ]
     },
     "metadata": {
      "needs_background": "light"
     },
     "output_type": "display_data"
    }
   ],
   "source": [
    "plt.figure(figsize=(7,6))\n",
    "plt.plot(range(1, N_EPOCHS+1), hist.history['loss'], label='Train Loss')\n",
    "plt.plot(range(1, N_EPOCHS+1), hist.history['val_loss'], label='Validation Loss')\n",
    "plt.title('Loss', fontsize=20)\n",
    "plt.xlabel('Epochs')\n",
    "plt.ylabel('Loss')\n",
    "plt.legend()\n",
    "plt.show()"
   ]
  },
  {
   "cell_type": "code",
   "execution_count": 31,
   "metadata": {},
   "outputs": [
    {
     "data": {
      "image/png": "[encoded data removed]",
      "text/plain": [
       "<Figure size 504x432 with 1 Axes>"
      ]
     },
     "metadata": {
      "needs_background": "light"
     },
     "output_type": "display_data"
    }
   ],
   "source": [
    "plt.figure(figsize=(7,6))\n",
    "plt.plot(range(1, N_EPOCHS+1), hist.history['accuracy'], label='Train Accuracy')\n",
    "plt.plot(range(1, N_EPOCHS+1), hist.history['val_accuracy'], label='Validation Accuracy')\n",
    "plt.title('Accuracy', fontsize=20)\n",
    "plt.xlabel('Epochs')\n",
    "plt.ylabel('Accuracy')\n",
    "plt.legend()\n",
    "plt.show()"
   ]
  },
  {
   "cell_type": "markdown",
   "metadata": {},
   "source": [
    "#### 최종평가"
   ]
  },
  {
   "cell_type": "code",
   "execution_count": 32,
   "metadata": {},
   "outputs": [
    {
     "name": "stdout",
     "output_type": "stream",
     "text": [
      "3/3 [==============================] - 0s 2ms/step - loss: 0.2025 - accuracy: 0.9649\n"
     ]
    }
   ],
   "source": [
    "loss, acc = model.evaluate(test_dataset)"
   ]
  },
  {
   "cell_type": "code",
   "execution_count": 33,
   "metadata": {},
   "outputs": [
    {
     "name": "stdout",
     "output_type": "stream",
     "text": [
      "0.20245976746082306 0.9649122953414917\n"
     ]
    }
   ],
   "source": [
    "print(loss, acc)"
   ]
  },
  {
   "cell_type": "markdown",
   "metadata": {},
   "source": [
    "#### 새로운 데이터 추론"
   ]
  },
  {
   "cell_type": "code",
   "execution_count": 35,
   "metadata": {},
   "outputs": [],
   "source": [
    "new_data = X_test[:5]\n",
    "new_data_scaled = scaler.transform(new_data) # 전처리"
   ]
  },
  {
   "cell_type": "code",
   "execution_count": 36,
   "metadata": {},
   "outputs": [],
   "source": [
    "pred = model.predict(new_data_scaled)"
   ]
  },
  {
   "cell_type": "code",
   "execution_count": 37,
   "metadata": {},
   "outputs": [
    {
     "data": {
      "text/plain": [
       "array([[2.2280736e-05],\n",
       "       [1.4693959e-19],\n",
       "       [4.8656590e-09],\n",
       "       [9.9999958e-01],\n",
       "       [4.2908283e-08]], dtype=float32)"
      ]
     },
     "execution_count": 37,
     "metadata": {},
     "output_type": "execute_result"
    }
   ],
   "source": [
    "pred"
   ]
  },
  {
   "cell_type": "code",
   "execution_count": 39,
   "metadata": {},
   "outputs": [
    {
     "data": {
      "text/plain": [
       "array([[0],\n",
       "       [0],\n",
       "       [0],\n",
       "       [1],\n",
       "       [0]], dtype=int8)"
      ]
     },
     "execution_count": 39,
     "metadata": {},
     "output_type": "execute_result"
    }
   ],
   "source": [
    "result = (pred > 0.5).astype(np.int8) #True:1, False: 0\n",
    "result"
   ]
  },
  {
   "cell_type": "code",
   "execution_count": 40,
   "metadata": {},
   "outputs": [
    {
     "data": {
      "text/plain": [
       "array([['악성'],\n",
       "       ['악성'],\n",
       "       ['악성'],\n",
       "       ['양성'],\n",
       "       ['악성']], dtype='<U2')"
      ]
     },
     "execution_count": 40,
     "metadata": {},
     "output_type": "execute_result"
    }
   ],
   "source": [
    "result_label = np.where(pred>=0.5, \"양성\", \"악성\") #0: 악성, 1: 양성\n",
    "result_label"
   ]
  },
  {
   "cell_type": "code",
   "execution_count": 42,
   "metadata": {},
   "outputs": [
    {
     "name": "stderr",
     "output_type": "stream",
     "text": [
      "C:\\Users\\Playdata\\anaconda3\\envs\\tf2\\lib\\site-packages\\tensorflow\\python\\keras\\engine\\sequential.py:455: UserWarning: `model.predict_classes()` is deprecated and will be removed after 2021-01-01. Please use instead:* `np.argmax(model.predict(x), axis=-1)`,   if your model does multi-class classification   (e.g. if it uses a `softmax` last-layer activation).* `(model.predict(x) > 0.5).astype(\"int32\")`,   if your model does binary classification   (e.g. if it uses a `sigmoid` last-layer activation).\n",
      "  warnings.warn('`model.predict_classes()` is deprecated and '\n"
     ]
    },
    {
     "data": {
      "text/plain": [
       "array([[0],\n",
       "       [0],\n",
       "       [0],\n",
       "       [1],\n",
       "       [0]])"
      ]
     },
     "execution_count": 42,
     "metadata": {},
     "output_type": "execute_result"
    }
   ],
   "source": [
    "result2 = model.predict_classes(new_data_scaled)\n",
    "result2"
   ]
  },
  {
   "cell_type": "markdown",
   "metadata": {},
   "source": [
    "### Tensorflow 2.3이하 버전에서 Train dataset 구성 및 학습 \n",
    "- 위의 코드들은 2.4 이후 버전\n",
    "1. train_dataset 구성시 repeat를 추가\n",
    "2. 학습시에 train/validation step 횟수를 추가"
   ]
  },
  {
   "cell_type": "code",
   "execution_count": 43,
   "metadata": {},
   "outputs": [],
   "source": [
    "train_dataset2 = tf.data.Dataset.from_tensor_slices((X_train_scaled, y_train)).shuffle(N_TRAIN).batch(N_BATCHS, drop_remainder=True).repeat()\n",
    "\n",
    "#validation/test는 동일\n",
    "val_dataset2 = tf.data.Dataset.from_tensor_slices((X_val_scaled, y_val)).batch(N_BATCHS)\n",
    "test_dataset2 = tf.data.Dataset.from_tensor_slices((X_test_scaled, y_test)).batch(N_BATCHS)"
   ]
  },
  {
   "cell_type": "code",
   "execution_count": 44,
   "metadata": {},
   "outputs": [
    {
     "name": "stdout",
     "output_type": "stream",
     "text": [
      "7 2\n"
     ]
    }
   ],
   "source": [
    "# 학습시 train/validation 스텝 횟수 계산\n",
    "steps_per_epoch = N_TRAIN // N_BATCHS # TRAIN 시 1 에폭당 STEP 횟수: TRAIN데이터개수 // BATCH_SIZE (drop_remainder=True)\n",
    "validation_steps = int(np.ceil(N_VAL / N_BATCHS))                  # 한 에폭에서 validation step수. ceil(VAL데이터수/BATCH_SIZE) - drop_remainder=False\n",
    "print(steps_per_epoch, validation_steps)"
   ]
  },
  {
   "cell_type": "code",
   "execution_count": 48,
   "metadata": {},
   "outputs": [
    {
     "name": "stdout",
     "output_type": "stream",
     "text": [
      "Epoch 1/2\n",
      "7/7 [==============================] - 0s 4ms/step - loss: 4.4479e-04 - accuracy: 1.0000 - val_loss: 0.0150 - val_accuracy: 1.0000\n",
      "Epoch 2/2\n",
      "7/7 [==============================] - 0s 4ms/step - loss: 4.3774e-04 - accuracy: 1.0000 - val_loss: 0.0148 - val_accuracy: 1.0000\n"
     ]
    },
    {
     "data": {
      "text/plain": [
       "<tensorflow.python.keras.callbacks.History at 0x272a1f05f70>"
      ]
     },
     "execution_count": 48,
     "metadata": {},
     "output_type": "execute_result"
    }
   ],
   "source": [
    "model.fit(train_dataset2, \n",
    "          steps_per_epoch=steps_per_epoch,\n",
    "          validation_data=val_dataset2,\n",
    "          validation_steps=validation_steps, \n",
    "          epochs=2)"
   ]
  },
  {
   "cell_type": "code",
   "execution_count": 49,
   "metadata": {},
   "outputs": [],
   "source": [
    "model.fit?"
   ]
  },
  {
   "cell_type": "code",
   "execution_count": null,
   "metadata": {},
   "outputs": [],
   "source": []
  },
  {
   "cell_type": "code",
   "execution_count": null,
   "metadata": {},
   "outputs": [],
   "source": []
  },
  {
   "cell_type": "code",
   "execution_count": null,
   "metadata": {},
   "outputs": [],
   "source": []
  },
  {
   "cell_type": "code",
   "execution_count": null,
   "metadata": {},
   "outputs": [],
   "source": []
  },
  {
   "cell_type": "code",
   "execution_count": null,
   "metadata": {},
   "outputs": [],
   "source": []
  }
 ],
 "metadata": {
  "kernelspec": {
   "display_name": "Python 3 (ipykernel)",
   "language": "python",
   "name": "python3"
  },
  "language_info": {
   "codemirror_mode": {
    "name": "ipython",
    "version": 3
   },
   "file_extension": ".py",
   "mimetype": "text/x-python",
   "name": "python",
   "nbconvert_exporter": "python",
   "pygments_lexer": "ipython3",
   "version": "3.8.11"
  },
  "toc": {
   "base_numbering": 1,
   "nav_menu": {},
   "number_sections": false,
   "sideBar": true,
   "skip_h1_title": false,
   "title_cell": "Table of Contents",
   "title_sidebar": "Contents",
   "toc_cell": false,
   "toc_position": {},
   "toc_section_display": true,
   "toc_window_display": false
  },
  "varInspector": {
   "cols": {
    "lenName": 16,
    "lenType": 16,
    "lenVar": 40
   },
   "kernels_config": {
    "python": {
     "delete_cmd_postfix": "",
     "delete_cmd_prefix": "del ",
     "library": "var_list.py",
     "varRefreshCmd": "print(var_dic_list())"
    },
    "r": {
     "delete_cmd_postfix": ") ",
     "delete_cmd_prefix": "rm(",
     "library": "var_list.r",
     "varRefreshCmd": "cat(var_dic_list()) "
    }
   },
   "types_to_exclude": [
    "module",
    "function",
    "builtin_function_or_method",
    "instance",
    "_Feature"
   ],
   "window_display": false
  }
 },
 "nbformat": 4,
 "nbformat_minor": 2
}
