{
 "cells": [
  {
   "cell_type": "code",
   "execution_count": 1,
   "id": "22169f5e",
   "metadata": {},
   "outputs": [],
   "source": [
    "import numpy as np\n",
    "import tensorflow as tf\n",
    "from tensorflow import keras\n",
    "from tensorflow.keras import layers\n",
    "\n",
    "import matplotlib as mpl\n",
    "import matplotlib.pyplot as plt\n",
    "\n",
    "np.random.seed(0)\n",
    "tf.random.set_seed(0)"
   ]
  },
  {
   "cell_type": "code",
   "execution_count": 2,
   "id": "aef37ff0",
   "metadata": {},
   "outputs": [],
   "source": [
    "mpl.rcParams['font.family'] = 'malgun gothic'\n",
    "mpl.rcParams['axes.unicode_minus'] = False\n",
    "mpl.rcParams['axes.titlesize'] = 20"
   ]
  },
  {
   "cell_type": "code",
   "execution_count": 3,
   "id": "2fad545d",
   "metadata": {},
   "outputs": [],
   "source": [
    "# 학습 결과 plotting 함수\n",
    "# loss 출력\n",
    "def plot_loss(epochs, history):\n",
    "    plt.figure(figsize=(7,6))\n",
    "    plt.plot(range(1, epochs+1), history.history['loss'], label='Train Loss')\n",
    "    plt.plot(range(1, epochs+1), history.history['val_loss'], label='Validation Loss')\n",
    "    plt.title(\"Loss\")\n",
    "    plt.xlabel('Epochs')\n",
    "    plt.ylabel(\"Loss\")\n",
    "    plt.legend()\n",
    "    plt.show()"
   ]
  },
  {
   "cell_type": "code",
   "execution_count": 4,
   "id": "bf1f7712",
   "metadata": {},
   "outputs": [],
   "source": [
    "# Accuracy 출력    \n",
    "def plot_accuracy(epochs, history):\n",
    "    plt.figure(figsize=(7,6))\n",
    "    plt.plot(range(1, epochs+1), history.history['accuracy'], label=\"Train Accuracy\")\n",
    "    plt.plot(range(1, epochs+1), history.history['val_accuracy'], label='Validation Accuracy')\n",
    "    plt.title(\"Accuracy\")\n",
    "    plt.xlabel('Epochs')\n",
    "    plt.ylabel('Accurach')\n",
    "    plt.legend()\n",
    "    plt.show()"
   ]
  },
  {
   "cell_type": "markdown",
   "id": "31064c8a",
   "metadata": {},
   "source": [
    "### 데이터 로딩"
   ]
  },
  {
   "cell_type": "code",
   "execution_count": 5,
   "id": "ae5e6b38",
   "metadata": {},
   "outputs": [
    {
     "data": {
      "text/plain": [
       "((60000, 28, 28), (10000, 28, 28))"
      ]
     },
     "execution_count": 5,
     "metadata": {},
     "output_type": "execute_result"
    }
   ],
   "source": [
    "(train_image, train_label), (test_image, test_label) = keras.datasets.mnist.load_data()\n",
    "train_image.shape, test_image.shape"
   ]
  },
  {
   "cell_type": "markdown",
   "id": "f9cd52e6",
   "metadata": {},
   "source": [
    "### 하이퍼파라미터, 변수 정의"
   ]
  },
  {
   "cell_type": "code",
   "execution_count": 6,
   "id": "1fdf3322",
   "metadata": {},
   "outputs": [],
   "source": [
    "LEARNING_RATE = 0.001\n",
    "N_EPOCHS = 20\n",
    "N_BATCHS = 100\n",
    "\n",
    "# 데이터개수\n",
    "N_TRAIN = train_image.shape[0]\n",
    "N_TEST = test_image.shape[0]"
   ]
  },
  {
   "cell_type": "markdown",
   "id": "30f93b44",
   "metadata": {},
   "source": [
    "### 전처리\n",
    "- image : 0 ~ 1 로 정규화\n",
    "- label : one hot encoding"
   ]
  },
  {
   "cell_type": "code",
   "execution_count": 7,
   "id": "9f027e07",
   "metadata": {},
   "outputs": [],
   "source": [
    "X_train = (train_image/255.0).astype(np.float32)\n",
    "X_test = (test_image/255.0).astype(np.float32)"
   ]
  },
  {
   "cell_type": "code",
   "execution_count": 8,
   "id": "8b438272",
   "metadata": {},
   "outputs": [],
   "source": [
    "y_train = keras.utils.to_categorical(train_label)\n",
    "y_test = keras.utils.to_categorical(test_label)"
   ]
  },
  {
   "cell_type": "code",
   "execution_count": 9,
   "id": "84f05071",
   "metadata": {},
   "outputs": [
    {
     "data": {
      "text/plain": [
       "(0.0, 1.0, 0.0, 1.0, dtype('float32'))"
      ]
     },
     "execution_count": 9,
     "metadata": {},
     "output_type": "execute_result"
    }
   ],
   "source": [
    "np.min(X_train), np.max(X_train), np.min(X_test), np.max(X_test), X_train.dtype"
   ]
  },
  {
   "cell_type": "code",
   "execution_count": 10,
   "id": "fa526058",
   "metadata": {},
   "outputs": [
    {
     "data": {
      "text/plain": [
       "((60000, 10), (10000, 10))"
      ]
     },
     "execution_count": 10,
     "metadata": {},
     "output_type": "execute_result"
    }
   ],
   "source": [
    "y_train.shape, y_test.shape"
   ]
  },
  {
   "cell_type": "markdown",
   "id": "f2516167",
   "metadata": {},
   "source": [
    "### Dataset 생성"
   ]
  },
  {
   "cell_type": "code",
   "execution_count": 11,
   "id": "6b6a9c3e",
   "metadata": {},
   "outputs": [],
   "source": [
    "train_dataset = tf.data.Dataset.from_tensor_slices((X_train, y_train)).shuffle(N_TRAIN).batch(N_BATCHS)\n",
    "test_dataset = tf.data.Dataset.from_tensor_slices((X_test, y_test)).batch(N_BATCHS)"
   ]
  },
  {
   "cell_type": "code",
   "execution_count": null,
   "id": "175a2d07",
   "metadata": {},
   "outputs": [],
   "source": []
  },
  {
   "cell_type": "markdown",
   "id": "bb227fa1",
   "metadata": {},
   "source": [
    "# 모델의 크기 변경"
   ]
  },
  {
   "cell_type": "code",
   "execution_count": 16,
   "id": "1b0d6e4e",
   "metadata": {},
   "outputs": [],
   "source": [
    "# smaller model\n",
    "def create_small_model():\n",
    "    model = keras.Sequential()\n",
    "    model.add(layers.Flatten(input_shape=(28,28)))\n",
    "    model.add(layers.Dense(units=8, activation='relu')) #hidden\n",
    "    model.add(layers.Dense(units=10, activation='softmax')) #output\n",
    "    return model"
   ]
  },
  {
   "cell_type": "code",
   "execution_count": 17,
   "id": "5931c348",
   "metadata": {},
   "outputs": [],
   "source": [
    "model = create_small_model()\n",
    "model.compile(optimizer=keras.optimizers.Adam(learning_rate=LEARNING_RATE), loss='categorical_crossentropy', metrics=['accuracy'])"
   ]
  },
  {
   "cell_type": "code",
   "execution_count": 18,
   "id": "1a649067",
   "metadata": {},
   "outputs": [
    {
     "name": "stdout",
     "output_type": "stream",
     "text": [
      "Model: \"sequential\"\n",
      "_________________________________________________________________\n",
      "Layer (type)                 Output Shape              Param #   \n",
      "=================================================================\n",
      "flatten (Flatten)            (None, 784)               0         \n",
      "_________________________________________________________________\n",
      "dense (Dense)                (None, 8)                 6280      \n",
      "_________________________________________________________________\n",
      "dense_1 (Dense)              (None, 10)                90        \n",
      "=================================================================\n",
      "Total params: 6,370\n",
      "Trainable params: 6,370\n",
      "Non-trainable params: 0\n",
      "_________________________________________________________________\n"
     ]
    }
   ],
   "source": [
    "model.summary()"
   ]
  },
  {
   "cell_type": "code",
   "execution_count": 20,
   "id": "194f4fb6",
   "metadata": {
    "scrolled": true
   },
   "outputs": [
    {
     "name": "stdout",
     "output_type": "stream",
     "text": [
      "Epoch 1/50\n",
      "600/600 [==============================] - 3s 3ms/step - loss: 0.7702 - accuracy: 0.7874 - val_loss: 0.3830 - val_accuracy: 0.8983\n",
      "Epoch 2/50\n",
      "600/600 [==============================] - 2s 3ms/step - loss: 0.3559 - accuracy: 0.9017 - val_loss: 0.3180 - val_accuracy: 0.9133\n",
      "Epoch 3/50\n",
      "600/600 [==============================] - 2s 3ms/step - loss: 0.3173 - accuracy: 0.9113 - val_loss: 0.3055 - val_accuracy: 0.9145\n",
      "Epoch 4/50\n",
      "600/600 [==============================] - 2s 3ms/step - loss: 0.3007 - accuracy: 0.9156 - val_loss: 0.2921 - val_accuracy: 0.9203\n",
      "Epoch 5/50\n",
      "600/600 [==============================] - 2s 3ms/step - loss: 0.2899 - accuracy: 0.9191 - val_loss: 0.2870 - val_accuracy: 0.9233\n",
      "Epoch 6/50\n",
      "600/600 [==============================] - 2s 3ms/step - loss: 0.2822 - accuracy: 0.9215 - val_loss: 0.2810 - val_accuracy: 0.9226\n",
      "Epoch 7/50\n",
      "600/600 [==============================] - 2s 3ms/step - loss: 0.2764 - accuracy: 0.9229 - val_loss: 0.2792 - val_accuracy: 0.9227\n",
      "Epoch 8/50\n",
      "600/600 [==============================] - 2s 3ms/step - loss: 0.2709 - accuracy: 0.9247 - val_loss: 0.2757 - val_accuracy: 0.9239\n",
      "Epoch 9/50\n",
      "600/600 [==============================] - 2s 3ms/step - loss: 0.2665 - accuracy: 0.9260 - val_loss: 0.2726 - val_accuracy: 0.9239\n",
      "Epoch 10/50\n",
      "600/600 [==============================] - 3s 3ms/step - loss: 0.2624 - accuracy: 0.9264 - val_loss: 0.2698 - val_accuracy: 0.9250\n",
      "Epoch 11/50\n",
      "600/600 [==============================] - 2s 3ms/step - loss: 0.2595 - accuracy: 0.9277 - val_loss: 0.2763 - val_accuracy: 0.9237\n",
      "Epoch 12/50\n",
      "600/600 [==============================] - 2s 3ms/step - loss: 0.2564 - accuracy: 0.9286 - val_loss: 0.2692 - val_accuracy: 0.9241\n",
      "Epoch 13/50\n",
      "600/600 [==============================] - 2s 3ms/step - loss: 0.2531 - accuracy: 0.9290 - val_loss: 0.2677 - val_accuracy: 0.9243\n",
      "Epoch 14/50\n",
      "600/600 [==============================] - 2s 3ms/step - loss: 0.2507 - accuracy: 0.9293 - val_loss: 0.2688 - val_accuracy: 0.9259\n",
      "Epoch 15/50\n",
      "600/600 [==============================] - 2s 3ms/step - loss: 0.2487 - accuracy: 0.9298 - val_loss: 0.2641 - val_accuracy: 0.9264\n",
      "Epoch 16/50\n",
      "600/600 [==============================] - 2s 3ms/step - loss: 0.2469 - accuracy: 0.9312 - val_loss: 0.2636 - val_accuracy: 0.9274\n",
      "Epoch 17/50\n",
      "600/600 [==============================] - 3s 5ms/step - loss: 0.2451 - accuracy: 0.9305 - val_loss: 0.2610 - val_accuracy: 0.9259\n",
      "Epoch 18/50\n",
      "600/600 [==============================] - 3s 5ms/step - loss: 0.2426 - accuracy: 0.9311 - val_loss: 0.2620 - val_accuracy: 0.9269\n",
      "Epoch 19/50\n",
      "600/600 [==============================] - 3s 4ms/step - loss: 0.2408 - accuracy: 0.9323 - val_loss: 0.2645 - val_accuracy: 0.9261\n",
      "Epoch 20/50\n",
      "600/600 [==============================] - 3s 5ms/step - loss: 0.2390 - accuracy: 0.9317 - val_loss: 0.2574 - val_accuracy: 0.9272\n",
      "Epoch 21/50\n",
      "600/600 [==============================] - 2s 3ms/step - loss: 0.2370 - accuracy: 0.9329 - val_loss: 0.2573 - val_accuracy: 0.9259\n",
      "Epoch 22/50\n",
      "600/600 [==============================] - 2s 4ms/step - loss: 0.2355 - accuracy: 0.9331 - val_loss: 0.2569 - val_accuracy: 0.9266\n",
      "Epoch 23/50\n",
      "600/600 [==============================] - 2s 3ms/step - loss: 0.2339 - accuracy: 0.9337 - val_loss: 0.2564 - val_accuracy: 0.9243\n",
      "Epoch 24/50\n",
      "600/600 [==============================] - 2s 4ms/step - loss: 0.2321 - accuracy: 0.9338 - val_loss: 0.2616 - val_accuracy: 0.9216\n",
      "Epoch 25/50\n",
      "600/600 [==============================] - 2s 3ms/step - loss: 0.2314 - accuracy: 0.9337 - val_loss: 0.2518 - val_accuracy: 0.9279\n",
      "Epoch 26/50\n",
      "600/600 [==============================] - 3s 5ms/step - loss: 0.2298 - accuracy: 0.9344 - val_loss: 0.2554 - val_accuracy: 0.9263\n",
      "Epoch 27/50\n",
      "600/600 [==============================] - 2s 3ms/step - loss: 0.2288 - accuracy: 0.9345 - val_loss: 0.2496 - val_accuracy: 0.9290\n",
      "Epoch 28/50\n",
      "600/600 [==============================] - 2s 3ms/step - loss: 0.2271 - accuracy: 0.9355 - val_loss: 0.2567 - val_accuracy: 0.9249\n",
      "Epoch 29/50\n",
      "600/600 [==============================] - 2s 3ms/step - loss: 0.2262 - accuracy: 0.9351 - val_loss: 0.2495 - val_accuracy: 0.9278\n",
      "Epoch 30/50\n",
      "600/600 [==============================] - 2s 3ms/step - loss: 0.2241 - accuracy: 0.9357 - val_loss: 0.2504 - val_accuracy: 0.9268\n",
      "Epoch 31/50\n",
      "600/600 [==============================] - 2s 3ms/step - loss: 0.2235 - accuracy: 0.9362 - val_loss: 0.2501 - val_accuracy: 0.9279\n",
      "Epoch 32/50\n",
      "600/600 [==============================] - 2s 3ms/step - loss: 0.2220 - accuracy: 0.9370 - val_loss: 0.2474 - val_accuracy: 0.9276\n",
      "Epoch 33/50\n",
      "600/600 [==============================] - 2s 3ms/step - loss: 0.2210 - accuracy: 0.9368 - val_loss: 0.2529 - val_accuracy: 0.9252\n",
      "Epoch 34/50\n",
      "600/600 [==============================] - 2s 3ms/step - loss: 0.2203 - accuracy: 0.9365 - val_loss: 0.2524 - val_accuracy: 0.9271\n",
      "Epoch 35/50\n",
      "600/600 [==============================] - 2s 3ms/step - loss: 0.2190 - accuracy: 0.9375 - val_loss: 0.2478 - val_accuracy: 0.9283\n",
      "Epoch 36/50\n",
      "600/600 [==============================] - 2s 3ms/step - loss: 0.2176 - accuracy: 0.9380 - val_loss: 0.2480 - val_accuracy: 0.9279\n",
      "Epoch 37/50\n",
      "600/600 [==============================] - 2s 4ms/step - loss: 0.2171 - accuracy: 0.9369 - val_loss: 0.2518 - val_accuracy: 0.9262\n",
      "Epoch 38/50\n",
      "600/600 [==============================] - 2s 3ms/step - loss: 0.2166 - accuracy: 0.9380 - val_loss: 0.2457 - val_accuracy: 0.9266\n",
      "Epoch 39/50\n",
      "600/600 [==============================] - 2s 3ms/step - loss: 0.2148 - accuracy: 0.9388 - val_loss: 0.2508 - val_accuracy: 0.9249\n",
      "Epoch 40/50\n",
      "600/600 [==============================] - 2s 3ms/step - loss: 0.2136 - accuracy: 0.9379 - val_loss: 0.2448 - val_accuracy: 0.9290\n",
      "Epoch 41/50\n",
      "600/600 [==============================] - 2s 3ms/step - loss: 0.2134 - accuracy: 0.9389 - val_loss: 0.2522 - val_accuracy: 0.9255 - loss: 0.2 - ETA: 0s - los\n",
      "Epoch 42/50\n",
      "600/600 [==============================] - 3s 4ms/step - loss: 0.2130 - accuracy: 0.9387 - val_loss: 0.2453 - val_accuracy: 0.9296\n",
      "Epoch 43/50\n",
      "600/600 [==============================] - 2s 4ms/step - loss: 0.2112 - accuracy: 0.9393 - val_loss: 0.2461 - val_accuracy: 0.9279\n",
      "Epoch 44/50\n",
      "600/600 [==============================] - 2s 4ms/step - loss: 0.2103 - accuracy: 0.9402 - val_loss: 0.2441 - val_accuracy: 0.9284\n",
      "Epoch 45/50\n",
      "600/600 [==============================] - 3s 4ms/step - loss: 0.2102 - accuracy: 0.9398 - val_loss: 0.2439 - val_accuracy: 0.9296\n",
      "Epoch 46/50\n",
      "600/600 [==============================] - 3s 5ms/step - loss: 0.2094 - accuracy: 0.9393 - val_loss: 0.2440 - val_accuracy: 0.9311\n",
      "Epoch 47/50\n",
      "600/600 [==============================] - 3s 4ms/step - loss: 0.2086 - accuracy: 0.9403 - val_loss: 0.2445 - val_accuracy: 0.9285\n",
      "Epoch 48/50\n",
      "600/600 [==============================] - 3s 4ms/step - loss: 0.2077 - accuracy: 0.9398 - val_loss: 0.2444 - val_accuracy: 0.9304s: 0.2077 - accuracy: 0.93\n",
      "Epoch 49/50\n",
      "600/600 [==============================] - 3s 4ms/step - loss: 0.2072 - accuracy: 0.9398 - val_loss: 0.2439 - val_accuracy: 0.9306.2058 - accura\n",
      "Epoch 50/50\n",
      "600/600 [==============================] - 3s 5ms/step - loss: 0.2059 - accuracy: 0.9401 - val_loss: 0.2427 - val_accuracy: 0.9289\n"
     ]
    }
   ],
   "source": [
    "hist = model.fit(train_dataset, epochs=N_EPOCHS, validation_data=test_dataset)"
   ]
  },
  {
   "cell_type": "code",
   "execution_count": 21,
   "id": "89907e97",
   "metadata": {},
   "outputs": [
    {
     "data": {
      "image/png": "[encoded data removed]",
      "text/plain": [
       "<Figure size 504x432 with 1 Axes>"
      ]
     },
     "metadata": {
      "needs_background": "light"
     },
     "output_type": "display_data"
    }
   ],
   "source": [
    "plot_loss(N_EPOCHS, hist)"
   ]
  },
  {
   "cell_type": "code",
   "execution_count": 23,
   "id": "116e9677",
   "metadata": {
    "collapsed": true
   },
   "outputs": [
    {
     "data": {
      "image/png": "[encoded data removed]",
      "text/plain": [
       "<Figure size 504x432 with 1 Axes>"
      ]
     },
     "metadata": {
      "needs_background": "light"
     },
     "output_type": "display_data"
    }
   ],
   "source": [
    "plot_accuracy(50, hist)"
   ]
  },
  {
   "cell_type": "code",
   "execution_count": 24,
   "id": "4ecd1fe8",
   "metadata": {},
   "outputs": [],
   "source": [
    "# 위의 모델보다 큰 모델\n",
    "# hidden layer: Dense: 4개, 각각 unit: 256, 256, 128, 128, actitivation: relu\n",
    "def create_bigger_model():\n",
    "    model = keras.Sequential()\n",
    "    model.add(layers.Flatten(input_shape=(28,28)))\n",
    "    model.add(layers.Dense(units=256, activation='relu'))\n",
    "    model.add(layers.Dense(units=256, activation='relu'))\n",
    "    model.add(layers.Dense(units=128, activation='relu'))\n",
    "    model.add(layers.Dense(units=128, activation='relu'))\n",
    "    model.add(layers.Dense(units=10, activation='softmax')) #출력\n",
    "    return model"
   ]
  },
  {
   "cell_type": "code",
   "execution_count": 25,
   "id": "3f4ee465",
   "metadata": {},
   "outputs": [
    {
     "name": "stdout",
     "output_type": "stream",
     "text": [
      "Model: \"sequential_1\"\n",
      "_________________________________________________________________\n",
      "Layer (type)                 Output Shape              Param #   \n",
      "=================================================================\n",
      "flatten_1 (Flatten)          (None, 784)               0         \n",
      "_________________________________________________________________\n",
      "dense_2 (Dense)              (None, 256)               200960    \n",
      "_________________________________________________________________\n",
      "dense_3 (Dense)              (None, 256)               65792     \n",
      "_________________________________________________________________\n",
      "dense_4 (Dense)              (None, 128)               32896     \n",
      "_________________________________________________________________\n",
      "dense_5 (Dense)              (None, 128)               16512     \n",
      "_________________________________________________________________\n",
      "dense_6 (Dense)              (None, 10)                1290      \n",
      "=================================================================\n",
      "Total params: 317,450\n",
      "Trainable params: 317,450\n",
      "Non-trainable params: 0\n",
      "_________________________________________________________________\n"
     ]
    }
   ],
   "source": [
    "# 모델 생성 + compile\n",
    "model = create_bigger_model()\n",
    "model.compile(optimizer=keras.optimizers.Adam(learning_rate=LEARNING_RATE), loss='categorical_crossentropy', metrics=['accuracy'])\n",
    "model.summary()"
   ]
  },
  {
   "cell_type": "code",
   "execution_count": 26,
   "id": "52ca430b",
   "metadata": {
    "scrolled": false
   },
   "outputs": [
    {
     "name": "stdout",
     "output_type": "stream",
     "text": [
      "Epoch 1/20\n",
      "600/600 [==============================] - 6s 9ms/step - loss: 0.2445 - accuracy: 0.9264 - val_loss: 0.1085 - val_accuracy: 0.9663\n",
      "Epoch 2/20\n",
      "600/600 [==============================] - 6s 9ms/step - loss: 0.0911 - accuracy: 0.9714 - val_loss: 0.0873 - val_accuracy: 0.9730\n",
      "Epoch 3/20\n",
      "600/600 [==============================] - 6s 10ms/step - loss: 0.0625 - accuracy: 0.9804 - val_loss: 0.0712 - val_accuracy: 0.9789\n",
      "Epoch 4/20\n",
      "600/600 [==============================] - 6s 10ms/step - loss: 0.0472 - accuracy: 0.9853 - val_loss: 0.0746 - val_accuracy: 0.9765\n",
      "Epoch 5/20\n",
      "600/600 [==============================] - 6s 10ms/step - loss: 0.0386 - accuracy: 0.9878 - val_loss: 0.0695 - val_accuracy: 0.9790\n",
      "Epoch 6/20\n",
      "600/600 [==============================] - 6s 9ms/step - loss: 0.0345 - accuracy: 0.9888 - val_loss: 0.0850 - val_accuracy: 0.9763\n",
      "Epoch 7/20\n",
      "600/600 [==============================] - 6s 10ms/step - loss: 0.0277 - accuracy: 0.9913 - val_loss: 0.0763 - val_accuracy: 0.9795\n",
      "Epoch 8/20\n",
      "600/600 [==============================] - 7s 11ms/step - loss: 0.0233 - accuracy: 0.9929 - val_loss: 0.0842 - val_accuracy: 0.9791\n",
      "Epoch 9/20\n",
      "600/600 [==============================] - 6s 9ms/step - loss: 0.0226 - accuracy: 0.9929 - val_loss: 0.0831 - val_accuracy: 0.9790\n",
      "Epoch 10/20\n",
      "600/600 [==============================] - 5s 8ms/step - loss: 0.0203 - accuracy: 0.9935 - val_loss: 0.0937 - val_accuracy: 0.9770\n",
      "Epoch 11/20\n",
      "600/600 [==============================] - 5s 8ms/step - loss: 0.0176 - accuracy: 0.9942 - val_loss: 0.0874 - val_accuracy: 0.9788\n",
      "Epoch 12/20\n",
      "600/600 [==============================] - 6s 9ms/step - loss: 0.0168 - accuracy: 0.9949 - val_loss: 0.1003 - val_accuracy: 0.9767\n",
      "Epoch 13/20\n",
      "600/600 [==============================] - 5s 8ms/step - loss: 0.0172 - accuracy: 0.9945 - val_loss: 0.0810 - val_accuracy: 0.9815\n",
      "Epoch 14/20\n",
      "600/600 [==============================] - 5s 8ms/step - loss: 0.0127 - accuracy: 0.9960 - val_loss: 0.0926 - val_accuracy: 0.9794\n",
      "Epoch 15/20\n",
      "600/600 [==============================] - 4s 7ms/step - loss: 0.0111 - accuracy: 0.9967 - val_loss: 0.0958 - val_accuracy: 0.9798\n",
      "Epoch 16/20\n",
      "600/600 [==============================] - 4s 7ms/step - loss: 0.0125 - accuracy: 0.9961 - val_loss: 0.1012 - val_accuracy: 0.9812\n",
      "Epoch 17/20\n",
      "600/600 [==============================] - 5s 7ms/step - loss: 0.0135 - accuracy: 0.9958 - val_loss: 0.0888 - val_accuracy: 0.9819\n",
      "Epoch 18/20\n",
      "600/600 [==============================] - 4s 6ms/step - loss: 0.0081 - accuracy: 0.9974 - val_loss: 0.0833 - val_accuracy: 0.9825\n",
      "Epoch 19/20\n",
      "600/600 [==============================] - 4s 6ms/step - loss: 0.0125 - accuracy: 0.9962 - val_loss: 0.0940 - val_accuracy: 0.9812\n",
      "Epoch 20/20\n",
      "600/600 [==============================] - 4s 6ms/step - loss: 0.0095 - accuracy: 0.9971 - val_loss: 0.0786 - val_accuracy: 0.9814\n"
     ]
    }
   ],
   "source": [
    "hist = model.fit(train_dataset, epochs=N_EPOCHS, validation_data=test_dataset)"
   ]
  },
  {
   "cell_type": "code",
   "execution_count": 27,
   "id": "10c6412b",
   "metadata": {},
   "outputs": [
    {
     "data": {
      "image/png": "[encoded data removed]",
      "text/plain": [
       "<Figure size 504x432 with 1 Axes>"
      ]
     },
     "metadata": {
      "needs_background": "light"
     },
     "output_type": "display_data"
    }
   ],
   "source": [
    "plot_loss(N_EPOCHS, hist)"
   ]
  },
  {
   "cell_type": "code",
   "execution_count": 28,
   "id": "717c190c",
   "metadata": {},
   "outputs": [
    {
     "data": {
      "image/png": "[encoded data removed]",
      "text/plain": [
       "<Figure size 504x432 with 1 Axes>"
      ]
     },
     "metadata": {
      "needs_background": "light"
     },
     "output_type": "display_data"
    }
   ],
   "source": [
    "plot_accuracy(N_EPOCHS, hist)"
   ]
  },
  {
   "cell_type": "code",
   "execution_count": 29,
   "id": "e74bb7bc",
   "metadata": {},
   "outputs": [],
   "source": [
    "def create_biggest_model():\n",
    "    model = keras.Sequential()\n",
    "    model.add(layers.Flatten(input_shape=(28,28)))\n",
    "    \n",
    "    model.add(layers.Dense(units=2048, activation='relu'))\n",
    "    model.add(layers.Dense(units=2048, activation='relu'))\n",
    "    \n",
    "    model.add(layers.Dense(units=1024, activation='relu'))\n",
    "    model.add(layers.Dense(units=1024, activation='relu'))\n",
    "    \n",
    "    model.add(layers.Dense(units=512, activation='relu'))\n",
    "    model.add(layers.Dense(units=512, activation='relu'))\n",
    "    \n",
    "    model.add(layers.Dense(units=256, activation='relu'))\n",
    "    model.add(layers.Dense(units=256, activation='relu'))\n",
    "    \n",
    "    model.add(layers.Dense(units=10, activation='softmax'))\n",
    "    \n",
    "    return model"
   ]
  },
  {
   "cell_type": "code",
   "execution_count": 31,
   "id": "c5a9917e",
   "metadata": {
    "collapsed": true
   },
   "outputs": [
    {
     "name": "stdout",
     "output_type": "stream",
     "text": [
      "Model: \"sequential_2\"\n",
      "_________________________________________________________________\n",
      "Layer (type)                 Output Shape              Param #   \n",
      "=================================================================\n",
      "flatten_2 (Flatten)          (None, 784)               0         \n",
      "_________________________________________________________________\n",
      "dense_7 (Dense)              (None, 2048)              1607680   \n",
      "_________________________________________________________________\n",
      "dense_8 (Dense)              (None, 2048)              4196352   \n",
      "_________________________________________________________________\n",
      "dense_9 (Dense)              (None, 1024)              2098176   \n",
      "_________________________________________________________________\n",
      "dense_10 (Dense)             (None, 1024)              1049600   \n",
      "_________________________________________________________________\n",
      "dense_11 (Dense)             (None, 512)               524800    \n",
      "_________________________________________________________________\n",
      "dense_12 (Dense)             (None, 512)               262656    \n",
      "_________________________________________________________________\n",
      "dense_13 (Dense)             (None, 256)               131328    \n",
      "_________________________________________________________________\n",
      "dense_14 (Dense)             (None, 256)               65792     \n",
      "_________________________________________________________________\n",
      "dense_15 (Dense)             (None, 10)                2570      \n",
      "=================================================================\n",
      "Total params: 9,938,954\n",
      "Trainable params: 9,938,954\n",
      "Non-trainable params: 0\n",
      "_________________________________________________________________\n"
     ]
    }
   ],
   "source": [
    "model = create_biggest_model()\n",
    "model.compile(optimizer=keras.optimizers.Adam(learning_rate=LEARNING_RATE), loss='categorical_crossentropy', metrics=['accuracy'])\n",
    "model.summary()"
   ]
  },
  {
   "cell_type": "code",
   "execution_count": 32,
   "id": "206dc1da",
   "metadata": {},
   "outputs": [
    {
     "name": "stdout",
     "output_type": "stream",
     "text": [
      "Epoch 1/20\n",
      "600/600 [==============================] - 116s 192ms/step - loss: 0.2859 - accuracy: 0.9182 - val_loss: 0.1578 - val_accuracy: 0.9586\n",
      "Epoch 2/20\n",
      "600/600 [==============================] - 110s 183ms/step - loss: 0.1320 - accuracy: 0.9675 - val_loss: 0.1163 - val_accuracy: 0.9690\n",
      "Epoch 3/20\n",
      "600/600 [==============================] - 110s 182ms/step - loss: 0.0990 - accuracy: 0.9760 - val_loss: 0.1053 - val_accuracy: 0.9725\n",
      "Epoch 4/20\n",
      "600/600 [==============================] - 121s 202ms/step - loss: 0.0798 - accuracy: 0.9809 - val_loss: 0.1058 - val_accuracy: 0.9766\n",
      "Epoch 5/20\n",
      "600/600 [==============================] - 117s 195ms/step - loss: 0.0711 - accuracy: 0.9832 - val_loss: 0.1116 - val_accuracy: 0.9766\n",
      "Epoch 6/20\n",
      "600/600 [==============================] - 113s 188ms/step - loss: 0.0611 - accuracy: 0.9859 - val_loss: 0.0966 - val_accuracy: 0.9789\n",
      "Epoch 7/20\n",
      "600/600 [==============================] - 117s 195ms/step - loss: 0.0521 - accuracy: 0.9881 - val_loss: 0.1329 - val_accuracy: 0.9770\n",
      "Epoch 8/20\n",
      "600/600 [==============================] - 126s 209ms/step - loss: 0.0543 - accuracy: 0.9882 - val_loss: 0.1059 - val_accuracy: 0.9756\n",
      "Epoch 9/20\n",
      "600/600 [==============================] - 119s 199ms/step - loss: 0.0388 - accuracy: 0.9913 - val_loss: 0.0909 - val_accuracy: 0.9815\n",
      "Epoch 10/20\n",
      "600/600 [==============================] - 111s 184ms/step - loss: 0.0488 - accuracy: 0.9889 - val_loss: 0.1106 - val_accuracy: 0.9816\n",
      "Epoch 11/20\n",
      "600/600 [==============================] - 112s 186ms/step - loss: 0.0369 - accuracy: 0.9917 - val_loss: 0.1381 - val_accuracy: 0.9785\n",
      "Epoch 12/20\n",
      "600/600 [==============================] - 116s 192ms/step - loss: 0.0346 - accuracy: 0.9921 - val_loss: 0.1144 - val_accuracy: 0.9794\n",
      "Epoch 13/20\n",
      "600/600 [==============================] - 112s 187ms/step - loss: 0.0355 - accuracy: 0.9918 - val_loss: 0.1105 - val_accuracy: 0.9834\n",
      "Epoch 14/20\n",
      "600/600 [==============================] - 113s 187ms/step - loss: 0.0311 - accuracy: 0.9939 - val_loss: 0.1018 - val_accuracy: 0.9827\n",
      "Epoch 15/20\n",
      "600/600 [==============================] - 106s 177ms/step - loss: 0.0315 - accuracy: 0.9939 - val_loss: 0.0996 - val_accuracy: 0.9831\n",
      "Epoch 16/20\n",
      "600/600 [==============================] - 104s 173ms/step - loss: 0.0308 - accuracy: 0.9930 - val_loss: 0.1448 - val_accuracy: 0.9789\n",
      "Epoch 17/20\n",
      "600/600 [==============================] - 105s 175ms/step - loss: 0.0265 - accuracy: 0.9946 - val_loss: 0.0987 - val_accuracy: 0.9822\n",
      "Epoch 18/20\n",
      "600/600 [==============================] - 104s 173ms/step - loss: 0.0228 - accuracy: 0.9955 - val_loss: 0.1413 - val_accuracy: 0.9829\n",
      "Epoch 19/20\n",
      "600/600 [==============================] - 104s 173ms/step - loss: 0.0251 - accuracy: 0.9946 - val_loss: 0.1375 - val_accuracy: 0.9830\n",
      "Epoch 20/20\n",
      "600/600 [==============================] - 104s 173ms/step - loss: 0.0226 - accuracy: 0.9950 - val_loss: 0.1404 - val_accuracy: 0.9798\n"
     ]
    }
   ],
   "source": [
    "hist = model.fit(train_dataset, epochs=N_EPOCHS, validation_data=test_dataset)"
   ]
  },
  {
   "cell_type": "code",
   "execution_count": 33,
   "id": "80137f51",
   "metadata": {},
   "outputs": [
    {
     "data": {
      "image/png": "[encoded data removed]",
      "text/plain": [
       "<Figure size 504x432 with 1 Axes>"
      ]
     },
     "metadata": {
      "needs_background": "light"
     },
     "output_type": "display_data"
    }
   ],
   "source": [
    "plot_loss(N_EPOCHS, hist)"
   ]
  },
  {
   "cell_type": "markdown",
   "id": "9f2266c6",
   "metadata": {},
   "source": [
    "# Dropout 예제\n",
    "- dropout 각 레이어에 적용\n",
    "    - dropout은 layers.Dropout 객체를 사용\n",
    "    - 객체 생성시 dropout_rate 설정: 0.2 ~ 0.5\n",
    "    - Drop시킬 노드를 가진 Layer앞에 추가"
   ]
  },
  {
   "cell_type": "code",
   "execution_count": 12,
   "id": "479e6f69",
   "metadata": {},
   "outputs": [],
   "source": [
    "# DROPOUT_RATE = 0.3 #모든 DROPUT레이어에 동일한 비율을 지정.\n",
    "DROPOUT_RATE = 0.9 #DROPOUT RATE를 너무 크게 잡으면 UNDERFITTING 발생\n",
    "\n",
    "def create_dropout_model():\n",
    "    model = keras.Sequential()\n",
    "    model.add(layers.Flatten(input_shape=(28,28)))\n",
    "    \n",
    "    model.add(layers.Dropout(DROPOUT_RATE)) #학습시에만 작동을 한다. (검증, Test, 새로운데이터 추론는 적용이 안된다.)\n",
    "    model.add(layers.Dense(units=256, activation='relu'))\n",
    "    \n",
    "    model.add(layers.Dropout(DROPOUT_RATE))\n",
    "    model.add(layers.Dense(units=256, activation='relu'))\n",
    "    \n",
    "    model.add(layers.Dropout(DROPOUT_RATE))\n",
    "    model.add(layers.Dense(units=128, activation='relu'))\n",
    "    \n",
    "    model.add(layers.Dropout(DROPOUT_RATE))\n",
    "    model.add(layers.Dense(units=128, activation='relu'))\n",
    "    \n",
    "    model.add(layers.Dropout(DROPOUT_RATE))\n",
    "    model.add(layers.Dense(units=10, activation='softmax')) #출력\n",
    "    return model"
   ]
  },
  {
   "cell_type": "code",
   "execution_count": 13,
   "id": "c53de1cb",
   "metadata": {
    "scrolled": true
   },
   "outputs": [
    {
     "name": "stdout",
     "output_type": "stream",
     "text": [
      "Model: \"sequential\"\n",
      "_________________________________________________________________\n",
      "Layer (type)                 Output Shape              Param #   \n",
      "=================================================================\n",
      "flatten (Flatten)            (None, 784)               0         \n",
      "_________________________________________________________________\n",
      "dropout (Dropout)            (None, 784)               0         \n",
      "_________________________________________________________________\n",
      "dense (Dense)                (None, 256)               200960    \n",
      "_________________________________________________________________\n",
      "dropout_1 (Dropout)          (None, 256)               0         \n",
      "_________________________________________________________________\n",
      "dense_1 (Dense)              (None, 256)               65792     \n",
      "_________________________________________________________________\n",
      "dropout_2 (Dropout)          (None, 256)               0         \n",
      "_________________________________________________________________\n",
      "dense_2 (Dense)              (None, 128)               32896     \n",
      "_________________________________________________________________\n",
      "dropout_3 (Dropout)          (None, 128)               0         \n",
      "_________________________________________________________________\n",
      "dense_3 (Dense)              (None, 128)               16512     \n",
      "_________________________________________________________________\n",
      "dropout_4 (Dropout)          (None, 128)               0         \n",
      "_________________________________________________________________\n",
      "dense_4 (Dense)              (None, 10)                1290      \n",
      "=================================================================\n",
      "Total params: 317,450\n",
      "Trainable params: 317,450\n",
      "Non-trainable params: 0\n",
      "_________________________________________________________________\n"
     ]
    }
   ],
   "source": [
    "model = create_dropout_model()\n",
    "model.compile(optimizer=keras.optimizers.Adam(learning_rate=LEARNING_RATE), loss='categorical_crossentropy', metrics=['accuracy'])\n",
    "\n",
    "model.summary()"
   ]
  },
  {
   "cell_type": "code",
   "execution_count": 38,
   "id": "7c41c830",
   "metadata": {},
   "outputs": [
    {
     "data": {
      "text/plain": [
       "6.0"
      ]
     },
     "execution_count": 38,
     "metadata": {},
     "output_type": "execute_result"
    }
   ],
   "source": [
    "N_EPOCHS*DROPOUT_RATE"
   ]
  },
  {
   "cell_type": "code",
   "execution_count": 14,
   "id": "8df8adb8",
   "metadata": {
    "scrolled": true
   },
   "outputs": [
    {
     "name": "stdout",
     "output_type": "stream",
     "text": [
      "Epoch 1/3\n",
      "600/600 [==============================] - 8s 11ms/step - loss: 8.8960 - accuracy: 0.1026 - val_loss: 2.3030 - val_accuracy: 0.1135\n",
      "Epoch 2/3\n",
      "600/600 [==============================] - 8s 13ms/step - loss: 2.4765 - accuracy: 0.1083 - val_loss: 2.3013 - val_accuracy: 0.1135\n",
      "Epoch 3/3\n",
      "600/600 [==============================] - 8s 13ms/step - loss: 2.3470 - accuracy: 0.1090 - val_loss: 2.3012 - val_accuracy: 0.1135\n"
     ]
    }
   ],
   "source": [
    "#Dropout 을 사용하는 경우 Epoch수를 늘려준다.\n",
    "#원래 epoch에서 dropout 비율만큼을 더한\n",
    "\n",
    "hist = model.fit(train_dataset, epochs=3, validation_data=test_dataset)"
   ]
  },
  {
   "cell_type": "code",
   "execution_count": 42,
   "id": "71e6c9f2",
   "metadata": {},
   "outputs": [
    {
     "data": {
      "image/png": "[encoded data removed]",
      "text/plain": [
       "<Figure size 504x432 with 1 Axes>"
      ]
     },
     "metadata": {
      "needs_background": "light"
     },
     "output_type": "display_data"
    }
   ],
   "source": [
    "plot_loss(N_EPOCHS+6, hist)"
   ]
  },
  {
   "cell_type": "code",
   "execution_count": 43,
   "id": "aa80e2b9",
   "metadata": {},
   "outputs": [
    {
     "data": {
      "image/png": "[encoded data removed]",
      "text/plain": [
       "<Figure size 504x432 with 1 Axes>"
      ]
     },
     "metadata": {
      "needs_background": "light"
     },
     "output_type": "display_data"
    }
   ],
   "source": [
    "plot_accuracy(N_EPOCHS+6, hist)"
   ]
  },
  {
   "cell_type": "markdown",
   "id": "04e9fc10",
   "metadata": {},
   "source": [
    "# Batch Normalization\n",
    "- Dense => BN => Activation"
   ]
  },
  {
   "cell_type": "code",
   "execution_count": null,
   "id": "a4a4844d",
   "metadata": {},
   "outputs": [],
   "source": [
    "# momentum : z score에 곱해주는 초기값\n",
    "# scale: z score에 더해주는 초기값\n",
    "# epsilon: z score계산시 분산값에 더해주는 값 = 0.001"
   ]
  },
  {
   "cell_type": "code",
   "execution_count": 49,
   "id": "235015d7",
   "metadata": {},
   "outputs": [],
   "source": [
    "def create_bn_model():\n",
    "    model = keras.Sequential()\n",
    "    model.add(layers.Flatten(input_shape=(28,28)))\n",
    "    \n",
    "    model.add(layers.Dense(units=256)) #WX + b\n",
    "    model.add(layers.BatchNormalization())\n",
    "    model.add(layers.ReLU())#activation 함수\n",
    "    \n",
    "    \n",
    "    model.add(layers.Dense(units=256))\n",
    "    model.add(layers.BatchNormalization())\n",
    "    model.add(layers.ReLU())\n",
    "    \n",
    "    model.add(layers.Dense(units=128))\n",
    "    model.add(layers.BatchNormalization())\n",
    "    model.add(layers.ReLU())\n",
    "    \n",
    "    model.add(layers.Dense(units=128))\n",
    "    model.add(layers.BatchNormalization())\n",
    "    model.add(layers.ReLU())\n",
    "    \n",
    "    model.add(layers.Dense(units=10)) #출력\n",
    "    model.add(layers.BatchNormalization())\n",
    "    model.add(layers.Softmax())\n",
    "    return model"
   ]
  },
  {
   "cell_type": "code",
   "execution_count": 15,
   "id": "8eb30259",
   "metadata": {},
   "outputs": [
    {
     "data": {
      "text/plain": [
       "0.001"
      ]
     },
     "execution_count": 15,
     "metadata": {},
     "output_type": "execute_result"
    }
   ],
   "source": [
    "LEARNING_RATE"
   ]
  },
  {
   "cell_type": "code",
   "execution_count": 50,
   "id": "fc39280c",
   "metadata": {},
   "outputs": [
    {
     "name": "stdout",
     "output_type": "stream",
     "text": [
      "Model: \"sequential_6\"\n",
      "_________________________________________________________________\n",
      "Layer (type)                 Output Shape              Param #   \n",
      "=================================================================\n",
      "flatten_6 (Flatten)          (None, 784)               0         \n",
      "_________________________________________________________________\n",
      "dense_31 (Dense)             (None, 256)               200960    \n",
      "_________________________________________________________________\n",
      "batch_normalization_4 (Batch (None, 256)               1024      \n",
      "_________________________________________________________________\n",
      "re_lu_4 (ReLU)               (None, 256)               0         \n",
      "_________________________________________________________________\n",
      "dense_32 (Dense)             (None, 256)               65792     \n",
      "_________________________________________________________________\n",
      "batch_normalization_5 (Batch (None, 256)               1024      \n",
      "_________________________________________________________________\n",
      "re_lu_5 (ReLU)               (None, 256)               0         \n",
      "_________________________________________________________________\n",
      "dense_33 (Dense)             (None, 128)               32896     \n",
      "_________________________________________________________________\n",
      "batch_normalization_6 (Batch (None, 128)               512       \n",
      "_________________________________________________________________\n",
      "re_lu_6 (ReLU)               (None, 128)               0         \n",
      "_________________________________________________________________\n",
      "dense_34 (Dense)             (None, 128)               16512     \n",
      "_________________________________________________________________\n",
      "batch_normalization_7 (Batch (None, 128)               512       \n",
      "_________________________________________________________________\n",
      "re_lu_7 (ReLU)               (None, 128)               0         \n",
      "_________________________________________________________________\n",
      "dense_35 (Dense)             (None, 10)                1290      \n",
      "_________________________________________________________________\n",
      "batch_normalization_8 (Batch (None, 10)                40        \n",
      "_________________________________________________________________\n",
      "softmax (Softmax)            (None, 10)                0         \n",
      "=================================================================\n",
      "Total params: 320,562\n",
      "Trainable params: 319,006\n",
      "Non-trainable params: 1,556\n",
      "_________________________________________________________________\n"
     ]
    }
   ],
   "source": [
    "model = create_bn_model()\n",
    "model.compile(optimizer=keras.optimizers.Adam(learning_rate=LEARNING_RATE), loss='categorical_crossentropy', metrics=['accuracy'])\n",
    "\n",
    "model.summary()"
   ]
  },
  {
   "cell_type": "code",
   "execution_count": 51,
   "id": "4a97019e",
   "metadata": {
    "collapsed": true
   },
   "outputs": [
    {
     "name": "stdout",
     "output_type": "stream",
     "text": [
      "Epoch 1/20\n",
      "600/600 [==============================] - 10s 14ms/step - loss: 0.3908 - accuracy: 0.9366 - val_loss: 0.1962 - val_accuracy: 0.9684\n",
      "Epoch 2/20\n",
      "600/600 [==============================] - 9s 14ms/step - loss: 0.1646 - accuracy: 0.9725 - val_loss: 0.1491 - val_accuracy: 0.9690\n",
      "Epoch 3/20\n",
      "600/600 [==============================] - 8s 13ms/step - loss: 0.1055 - accuracy: 0.9803 - val_loss: 0.0864 - val_accuracy: 0.9800\n",
      "Epoch 4/20\n",
      "600/600 [==============================] - 7s 11ms/step - loss: 0.0750 - accuracy: 0.9845 - val_loss: 0.0876 - val_accuracy: 0.9791\n",
      "Epoch 5/20\n",
      "600/600 [==============================] - 5s 9ms/step - loss: 0.0604 - accuracy: 0.9864 - val_loss: 0.0635 - val_accuracy: 0.9842\n",
      "Epoch 6/20\n",
      "600/600 [==============================] - 6s 9ms/step - loss: 0.0452 - accuracy: 0.9902 - val_loss: 0.0700 - val_accuracy: 0.9799\n",
      "Epoch 7/20\n",
      "600/600 [==============================] - 7s 11ms/step - loss: 0.0415 - accuracy: 0.9897 - val_loss: 0.0655 - val_accuracy: 0.9818\n",
      "Epoch 8/20\n",
      "600/600 [==============================] - 11s 18ms/step - loss: 0.0330 - accuracy: 0.9915 - val_loss: 0.0587 - val_accuracy: 0.9828\n",
      "Epoch 9/20\n",
      "600/600 [==============================] - 7s 10ms/step - loss: 0.0286 - accuracy: 0.9925 - val_loss: 0.0625 - val_accuracy: 0.9829\n",
      "Epoch 10/20\n",
      "600/600 [==============================] - 8s 12ms/step - loss: 0.0247 - accuracy: 0.9936 - val_loss: 0.0637 - val_accuracy: 0.9801\n",
      "Epoch 11/20\n",
      "600/600 [==============================] - 5s 9ms/step - loss: 0.0235 - accuracy: 0.9938 - val_loss: 0.0649 - val_accuracy: 0.9815\n",
      "Epoch 12/20\n",
      "600/600 [==============================] - 5s 9ms/step - loss: 0.0200 - accuracy: 0.9944 - val_loss: 0.0611 - val_accuracy: 0.9832\n",
      "Epoch 13/20\n",
      "600/600 [==============================] - 5s 8ms/step - loss: 0.0183 - accuracy: 0.9946 - val_loss: 0.0672 - val_accuracy: 0.9817\n",
      "Epoch 14/20\n",
      "600/600 [==============================] - 5s 8ms/step - loss: 0.0198 - accuracy: 0.9944 - val_loss: 0.0596 - val_accuracy: 0.9830\n",
      "Epoch 15/20\n",
      "600/600 [==============================] - 5s 8ms/step - loss: 0.0158 - accuracy: 0.9956 - val_loss: 0.0599 - val_accuracy: 0.9840\n",
      "Epoch 16/20\n",
      "600/600 [==============================] - 5s 8ms/step - loss: 0.0153 - accuracy: 0.9956 - val_loss: 0.0648 - val_accuracy: 0.9832\n",
      "Epoch 17/20\n",
      "600/600 [==============================] - 5s 9ms/step - loss: 0.0153 - accuracy: 0.9954 - val_loss: 0.0661 - val_accuracy: 0.9822\n",
      "Epoch 18/20\n",
      "600/600 [==============================] - 5s 8ms/step - loss: 0.0109 - accuracy: 0.9966 - val_loss: 0.0628 - val_accuracy: 0.9823\n",
      "Epoch 19/20\n",
      "600/600 [==============================] - 5s 8ms/step - loss: 0.0130 - accuracy: 0.9961 - val_loss: 0.0627 - val_accuracy: 0.9833\n",
      "Epoch 20/20\n",
      "600/600 [==============================] - 5s 9ms/step - loss: 0.0112 - accuracy: 0.9971 - val_loss: 0.0615 - val_accuracy: 0.9837\n"
     ]
    }
   ],
   "source": [
    "hist = model.fit(train_dataset, epochs=N_EPOCHS, validation_data=test_dataset)"
   ]
  },
  {
   "cell_type": "code",
   "execution_count": 47,
   "id": "01ec894c",
   "metadata": {},
   "outputs": [
    {
     "data": {
      "image/png": "[encoded data removed]",
      "text/plain": [
       "<Figure size 504x432 with 1 Axes>"
      ]
     },
     "metadata": {
      "needs_background": "light"
     },
     "output_type": "display_data"
    }
   ],
   "source": [
    "plot_loss(N_EPOCHS, hist)"
   ]
  },
  {
   "cell_type": "code",
   "execution_count": 48,
   "id": "ebf3975d",
   "metadata": {},
   "outputs": [
    {
     "data": {
      "image/png": "[encoded data removed]",
      "text/plain": [
       "<Figure size 504x432 with 1 Axes>"
      ]
     },
     "metadata": {
      "needs_background": "light"
     },
     "output_type": "display_data"
    }
   ],
   "source": [
    "plot_accuracy(N_EPOCHS, hist)"
   ]
  },
  {
   "cell_type": "markdown",
   "id": "c0168839",
   "metadata": {},
   "source": [
    "# 가변 LearningRate(학습률)를 이용한 성능개선\n",
    "- 기본 개념: learning rate를 크게 잡고 epoch이 진행할 수록 learning rate를 줄여주는 방식."
   ]
  },
  {
   "cell_type": "markdown",
   "id": "309c2a3d",
   "metadata": {},
   "source": [
    "### 1. Learning Rate scheduler 이용\n",
    "- 공학적 처리 - 지정한(일정한) step 마다 learning rate를 일정한 비율로 변경"
   ]
  },
  {
   "cell_type": "code",
   "execution_count": 19,
   "id": "04c987a4",
   "metadata": {},
   "outputs": [],
   "source": [
    "def create_model():\n",
    "    model = keras.Sequential()\n",
    "    model.add(layers.Flatten(input_shape=(28,28)))\n",
    "    \n",
    "    model.add(layers.Dense(units=256, activation='relu'))\n",
    "    model.add(layers.Dense(units=128, activation='relu'))\n",
    "    model.add(layers.Dense(units=64, activation='relu'))\n",
    "    \n",
    "    model.add(layers.Dense(units=10, activation='softmax'))\n",
    "    return model"
   ]
  },
  {
   "cell_type": "code",
   "execution_count": 21,
   "id": "56e8fa71",
   "metadata": {
    "collapsed": true
   },
   "outputs": [
    {
     "name": "stdout",
     "output_type": "stream",
     "text": [
      "Model: \"sequential_2\"\n",
      "_________________________________________________________________\n",
      "Layer (type)                 Output Shape              Param #   \n",
      "=================================================================\n",
      "flatten_2 (Flatten)          (None, 784)               0         \n",
      "_________________________________________________________________\n",
      "dense_9 (Dense)              (None, 256)               200960    \n",
      "_________________________________________________________________\n",
      "dense_10 (Dense)             (None, 128)               32896     \n",
      "_________________________________________________________________\n",
      "dense_11 (Dense)             (None, 64)                8256      \n",
      "_________________________________________________________________\n",
      "dense_12 (Dense)             (None, 10)                650       \n",
      "=================================================================\n",
      "Total params: 242,762\n",
      "Trainable params: 242,762\n",
      "Non-trainable params: 0\n",
      "_________________________________________________________________\n"
     ]
    }
   ],
   "source": [
    "model = create_model()\n",
    "model.summary()"
   ]
  },
  {
   "cell_type": "code",
   "execution_count": 36,
   "id": "a9e55dc7",
   "metadata": {},
   "outputs": [],
   "source": [
    "# optimizer에 고정된 learning rate 대신에 Learning Rate Scheduler를 생성해서 등록\n",
    "lr_scheduler = keras.optimizers.schedules.ExponentialDecay(initial_learning_rate=LEARNING_RATE, # 초기(시작) 학습률\n",
    "                                                           decay_steps= 600*5, # 몇 step마다 learing rate를 변경할 것인지 지정. (1에폭당 600스텝-600*5: 5에폭 당 LR를 변경)\n",
    "                                                           decay_rate=0.5, # 변화율. 현재 Learning Rate * decay_rate = 새 Learing rate\n",
    "                                                           staircase=True # 계단형태로 떨어트릴지(True), step마다 조금씩 떨어트릴지(False) 설정\n",
    "                                                          )\n",
    "model.compile(optimizer=keras.optimizers.Adam(learning_rate=lr_scheduler), \n",
    "              loss='categorical_crossentropy',\n",
    "              metrics=['accuracy'])"
   ]
  },
  {
   "cell_type": "code",
   "execution_count": 37,
   "id": "b984d694",
   "metadata": {},
   "outputs": [
    {
     "name": "stdout",
     "output_type": "stream",
     "text": [
      "Epoch 1/20\n",
      "600/600 [==============================] - 5s 7ms/step - loss: 0.2580 - accuracy: 0.9237 - val_loss: 0.1134 - val_accuracy: 0.9655\n",
      "Epoch 2/20\n",
      "600/600 [==============================] - 5s 9ms/step - loss: 0.0986 - accuracy: 0.9699 - val_loss: 0.0818 - val_accuracy: 0.9736\n",
      "Epoch 3/20\n",
      "600/600 [==============================] - 6s 9ms/step - loss: 0.0664 - accuracy: 0.9795 - val_loss: 0.0890 - val_accuracy: 0.9725 loss: 0.0659 - accu\n",
      "Epoch 4/20\n",
      "600/600 [==============================] - 6s 9ms/step - loss: 0.0486 - accuracy: 0.9847 - val_loss: 0.0823 - val_accuracy: 0.9752\n",
      "Epoch 5/20\n",
      "600/600 [==============================] - 5s 8ms/step - loss: 0.0379 - accuracy: 0.9877 - val_loss: 0.0733 - val_accuracy: 0.9769\n",
      "Epoch 6/20\n",
      "600/600 [==============================] - 5s 8ms/step - loss: 0.0174 - accuracy: 0.9947 - val_loss: 0.0622 - val_accuracy: 0.9811\n",
      "Epoch 7/20\n",
      "600/600 [==============================] - 5s 8ms/step - loss: 0.0110 - accuracy: 0.9969 - val_loss: 0.0609 - val_accuracy: 0.9838\n",
      "Epoch 8/20\n",
      "600/600 [==============================] - 5s 8ms/step - loss: 0.0087 - accuracy: 0.9977 - val_loss: 0.0671 - val_accuracy: 0.9831\n",
      "Epoch 9/20\n",
      "600/600 [==============================] - 5s 9ms/step - loss: 0.0087 - accuracy: 0.9974 - val_loss: 0.0740 - val_accuracy: 0.9809\n",
      "Epoch 10/20\n",
      "600/600 [==============================] - 5s 8ms/step - loss: 0.0080 - accuracy: 0.9974 - val_loss: 0.0853 - val_accuracy: 0.9790\n",
      "Epoch 11/20\n",
      "600/600 [==============================] - 5s 8ms/step - loss: 0.0026 - accuracy: 0.9996 - val_loss: 0.0707 - val_accuracy: 0.9834s: 0.0028 - accuracy:  - ETA: 0s - loss: 0.002\n",
      "Epoch 12/20\n",
      "600/600 [==============================] - 5s 8ms/step - loss: 9.4929e-04 - accuracy: 0.9999 - val_loss: 0.0702 - val_accuracy: 0.9847\n",
      "Epoch 13/20\n",
      "600/600 [==============================] - 5s 8ms/step - loss: 6.3554e-04 - accuracy: 1.0000 - val_loss: 0.0725 - val_accuracy: 0.9846\n",
      "Epoch 14/20\n",
      "600/600 [==============================] - 5s 8ms/step - loss: 5.2126e-04 - accuracy: 1.0000 - val_loss: 0.0769 - val_accuracy: 0.9835\n",
      "Epoch 15/20\n",
      "600/600 [==============================] - 5s 9ms/step - loss: 0.0015 - accuracy: 0.9996 - val_loss: 0.0852 - val_accuracy: 0.9812\n",
      "Epoch 16/20\n",
      "600/600 [==============================] - 5s 8ms/step - loss: 8.4167e-04 - accuracy: 0.9999 - val_loss: 0.0796 - val_accuracy: 0.9838\n",
      "Epoch 17/20\n",
      "600/600 [==============================] - 5s 8ms/step - loss: 2.7529e-04 - accuracy: 1.0000 - val_loss: 0.0806 - val_accuracy: 0.9839\n",
      "Epoch 18/20\n",
      "600/600 [==============================] - 4s 7ms/step - loss: 2.0168e-04 - accuracy: 1.0000 - val_loss: 0.0833 - val_accuracy: 0.9842\n",
      "Epoch 19/20\n",
      "600/600 [==============================] - 4s 6ms/step - loss: 1.5702e-04 - accuracy: 1.0000 - val_loss: 0.0849 - val_accuracy: 0.9843\n",
      "Epoch 20/20\n",
      "600/600 [==============================] - 4s 7ms/step - loss: 1.3270e-04 - accuracy: 1.0000 - val_loss: 0.0856 - val_accuracy: 0.9843\n"
     ]
    }
   ],
   "source": [
    "hist = model.fit(train_dataset, epochs=N_EPOCHS, validation_data=test_dataset)"
   ]
  },
  {
   "cell_type": "markdown",
   "id": "aadca2ad",
   "metadata": {},
   "source": [
    "### 2. Callback을 이용\n",
    "- 학습도중에 성능이 개선되지 않을 때 마다 learning rate를 변경\n",
    "\n",
    "> callback - 실행환경이 호출에 의해서 호출되는 정의된 기능(함수, 메소드)\n",
    ">  실행도중에 어떤 변화가 발생할 때 마다 호출하는 기능."
   ]
  },
  {
   "cell_type": "code",
   "execution_count": 38,
   "id": "89063f30",
   "metadata": {},
   "outputs": [],
   "source": [
    "# val_loss(monitor) 가 3(patience) epoch동안 개선이 없으면 현재 learning_rate에 0.2(factor)곱한 것을 새 learing_rate으로 사용.\n",
    "# factor : 0 ~ 1(0.x)\n",
    "# patience: 10~\n",
    "# monitor: validation loss를 지정.\n",
    "lr_callback = keras.callbacks.ReduceLROnPlateau(monitor='val_loss', factor=0.5, patience=3, verbose=2) #verbose: learning rate 변경시 로그남긴다.\n",
    "\n",
    "# callback 은 fit() 안에서 등록(설정)"
   ]
  },
  {
   "cell_type": "code",
   "execution_count": 40,
   "id": "653336b3",
   "metadata": {},
   "outputs": [],
   "source": [
    "model = create_model()\n",
    "model.compile(optimizer=keras.optimizers.Adam(learning_rate=LEARNING_RATE),\n",
    "              loss='categorical_crossentropy',\n",
    "              metrics=['accuracy'])"
   ]
  },
  {
   "cell_type": "code",
   "execution_count": 41,
   "id": "39c36b36",
   "metadata": {},
   "outputs": [
    {
     "name": "stdout",
     "output_type": "stream",
     "text": [
      "Epoch 1/20\n",
      "600/600 [==============================] - 5s 8ms/step - loss: 0.2587 - accuracy: 0.9250 - val_loss: 0.1295 - val_accuracy: 0.9613\n",
      "Epoch 2/20\n",
      "600/600 [==============================] - 5s 8ms/step - loss: 0.0997 - accuracy: 0.9699 - val_loss: 0.0858 - val_accuracy: 0.9732\n",
      "Epoch 3/20\n",
      "600/600 [==============================] - 5s 8ms/step - loss: 0.0664 - accuracy: 0.9797 - val_loss: 0.0780 - val_accuracy: 0.9767\n",
      "Epoch 4/20\n",
      "600/600 [==============================] - 5s 8ms/step - loss: 0.0479 - accuracy: 0.9847 - val_loss: 0.0740 - val_accuracy: 0.9767\n",
      "Epoch 5/20\n",
      "600/600 [==============================] - 5s 9ms/step - loss: 0.0351 - accuracy: 0.9887 - val_loss: 0.0729 - val_accuracy: 0.9785\n",
      "Epoch 6/20\n",
      "600/600 [==============================] - 5s 8ms/step - loss: 0.0325 - accuracy: 0.9895 - val_loss: 0.0822 - val_accuracy: 0.9753\n",
      "Epoch 7/20\n",
      "600/600 [==============================] - 5s 8ms/step - loss: 0.0223 - accuracy: 0.9927 - val_loss: 0.0818 - val_accuracy: 0.9768\n",
      "Epoch 8/20\n",
      "600/600 [==============================] - 5s 8ms/step - loss: 0.0198 - accuracy: 0.9932 - val_loss: 0.0840 - val_accuracy: 0.9780\n",
      "\n",
      "Epoch 00008: ReduceLROnPlateau reducing learning rate to 0.0005000000237487257.\n",
      "Epoch 9/20\n",
      "600/600 [==============================] - 6s 9ms/step - loss: 0.0075 - accuracy: 0.9978 - val_loss: 0.0656 - val_accuracy: 0.9830\n",
      "Epoch 10/20\n",
      "600/600 [==============================] - 6s 10ms/step - loss: 0.0030 - accuracy: 0.9993 - val_loss: 0.0687 - val_accuracy: 0.9835\n",
      "Epoch 11/20\n",
      "600/600 [==============================] - 7s 12ms/step - loss: 0.0031 - accuracy: 0.9992 - val_loss: 0.0782 - val_accuracy: 0.9817\n",
      "Epoch 12/20\n",
      "600/600 [==============================] - 7s 11ms/step - loss: 0.0027 - accuracy: 0.9994 - val_loss: 0.0822 - val_accuracy: 0.9816\n",
      "\n",
      "Epoch 00012: ReduceLROnPlateau reducing learning rate to 0.0002500000118743628.\n",
      "Epoch 13/20\n",
      "600/600 [==============================] - 8s 13ms/step - loss: 8.1886e-04 - accuracy: 0.9999 - val_loss: 0.0716 - val_accuracy: 0.9845\n",
      "Epoch 14/20\n",
      "600/600 [==============================] - 7s 11ms/step - loss: 2.8373e-04 - accuracy: 1.0000 - val_loss: 0.0738 - val_accuracy: 0.9850\n",
      "Epoch 15/20\n",
      "600/600 [==============================] - 6s 10ms/step - loss: 2.0118e-04 - accuracy: 1.0000 - val_loss: 0.0762 - val_accuracy: 0.9846\n",
      "\n",
      "Epoch 00015: ReduceLROnPlateau reducing learning rate to 0.0001250000059371814.\n",
      "Epoch 16/20\n",
      "600/600 [==============================] - 6s 10ms/step - loss: 1.5154e-04 - accuracy: 1.0000 - val_loss: 0.0777 - val_accuracy: 0.9842\n",
      "Epoch 17/20\n",
      "600/600 [==============================] - 7s 11ms/step - loss: 1.2771e-04 - accuracy: 1.0000 - val_loss: 0.0785 - val_accuracy: 0.9845\n",
      "Epoch 18/20\n",
      "600/600 [==============================] - 7s 10ms/step - loss: 1.1144e-04 - accuracy: 1.0000 - val_loss: 0.0799 - val_accuracy: 0.9844- loss: 1.1232e-04 - accura\n",
      "\n",
      "Epoch 00018: ReduceLROnPlateau reducing learning rate to 6.25000029685907e-05.\n",
      "Epoch 19/20\n",
      "600/600 [==============================] - 6s 9ms/step - loss: 9.2893e-05 - accuracy: 1.0000 - val_loss: 0.0807 - val_accuracy: 0.9841\n",
      "Epoch 20/20\n",
      "600/600 [==============================] - 6s 10ms/step - loss: 8.4229e-05 - accuracy: 1.0000 - val_loss: 0.0819 - val_accuracy: 0.9840\n"
     ]
    }
   ],
   "source": [
    "hist = model.fit(train_dataset, epochs=N_EPOCHS, validation_data=test_dataset, \n",
    "                 callbacks=[lr_callback]) #학습할 때 사용할 callback은 여러개 지정할 수 있기 때문에 list로 설정."
   ]
  },
  {
   "cell_type": "code",
   "execution_count": null,
   "id": "66233f4a",
   "metadata": {},
   "outputs": [],
   "source": []
  },
  {
   "cell_type": "code",
   "execution_count": null,
   "id": "a07589f3",
   "metadata": {},
   "outputs": [],
   "source": []
  },
  {
   "cell_type": "code",
   "execution_count": null,
   "id": "075b66e1",
   "metadata": {},
   "outputs": [],
   "source": []
  },
  {
   "cell_type": "code",
   "execution_count": null,
   "id": "55c2db42",
   "metadata": {},
   "outputs": [],
   "source": []
  },
  {
   "cell_type": "code",
   "execution_count": null,
   "id": "232c7775",
   "metadata": {},
   "outputs": [],
   "source": []
  }
 ],
 "metadata": {
  "kernelspec": {
   "display_name": "Python 3 (ipykernel)",
   "language": "python",
   "name": "python3"
  },
  "language_info": {
   "codemirror_mode": {
    "name": "ipython",
    "version": 3
   },
   "file_extension": ".py",
   "mimetype": "text/x-python",
   "name": "python",
   "nbconvert_exporter": "python",
   "pygments_lexer": "ipython3",
   "version": "3.8.11"
  }
 },
 "nbformat": 4,
 "nbformat_minor": 5
}
