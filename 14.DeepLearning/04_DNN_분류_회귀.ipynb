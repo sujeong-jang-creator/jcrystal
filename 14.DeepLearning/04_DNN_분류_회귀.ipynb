{
 "cells": [
  {
   "cell_type": "markdown",
   "metadata": {},
   "source": [
    "# tf.data 모듈\n",
    "- 데이터 입력 파이프라인을 위한 모듈\n",
    "    - 모델 학습/평가을 위한 대용량 데이터셋을 제공(feeding)하기 위한 모듈\n",
    "    - raw dataset 에서 입력을 위한 전처리, 제공을 위한 배치, shuffling등을 한번에 처리할 수 있게 한다.\n",
    "- tf.data.Dataset 추상클래스에서 상속된 여러가지 클래스들을 제공\n",
    "    - 입력 소스의 제공 형태에 따라 다양한 방식을 제공\n",
    "\n",
    "\n",
    "## 데이터셋 API 사용\n",
    "1. <span style='font-size:1.2em;font-weight:bolder'>Dataset 생성</span>\n",
    "    - raw dataset을 지정\n",
    "    - from_tensor_slices(), from_generator() 클래스 메소드, tf.data.TFRecordDataset 클래스등를 사용해 메모리나 파일에 있는 데이터를 Dataset으로 만든다.\n",
    "    - from_tensor_slices(): 리스트 넘파이배열, 텐서플로 자료형에서 데이터를 생성한다.\n",
    "2. <span style='font-size:1.2em;font-weight:bolder'>제공 데이터 전처리</span>\n",
    "    - map(함수) : 하나 하나의 데이터를 변환\n",
    "        - 함수: 값을 변환할 함수로 입력데이터셋의 개수만큼 매개변수 선언\n",
    "    - filter(함수): 특정 조건의 데이터만 제공하도록 처리.\n",
    "        - - 함수: 제공할 값의 조건을 정의한 함수로 입력데이터셋의 개수만큼 매개변수 선언하고 bool 값을 반환.\n",
    "3. <span style='font-size:1.2em;font-weight:bolder'>Dataset을 사용해 데이터 제공</span>\n",
    "    - batch(), shuffle()을 이용해 제공 방식 지정\n",
    "        - batch(size): 학습/평가시 한번에 제공할 batch size 지정\n",
    "            - size: int. batch size 지정\n",
    "            - drop_remainder: bool. True일 경우 마지막 제공시 남은 데이터수가 batch size보다 작으면 제공하지 않는다.\n",
    "    -  shuffle(buffer 크기): dataset의 원소들의 순서를 섞는다. \n",
    "        - buffer 크기: int. buffer 크기는 섞는 공간의 크기로  **데이터보다 크거나 같으면** 완전셔플, **적으면 일부만 가져와서 섞어** 완전셔플이 안된다.\n",
    "        - 데이터 사이즈가 너무 커서 메모리가 부족할 경우 버퍼크기를 적게 준다.\n",
    "        - 메모리가 충분하다면 데이터의 개수와 동일하게 주면된다.\n",
    "    - repeat(count): 전체 데이터를 한번 다 제공한 뒤 다시 데이터를 제공한다.\n",
    "        - count: 몇번 제공할지 반복 횟수\n",
    "        - shuffle이 적용된 Dataset의 경우 다음 반복 제공마다 shuffle을 진행한다.\n",
    "        \n",
    "### Dataset 메소드\n",
    "- take(개수): 지정한 개수만큼의 데이터만 제공한다.\n"
   ]
  },
  {
   "cell_type": "code",
   "execution_count": 1,
   "metadata": {},
   "outputs": [],
   "source": [
    "import tensorflow as tf\n",
    "import numpy as np"
   ]
  },
  {
   "cell_type": "code",
   "execution_count": 2,
   "metadata": {},
   "outputs": [
    {
     "data": {
      "text/plain": [
       "array([0, 1, 2, 3, 4, 5, 6, 7, 8, 9])"
      ]
     },
     "execution_count": 2,
     "metadata": {},
     "output_type": "execute_result"
    }
   ],
   "source": [
    "raw_data = np.arange(10)\n",
    "raw_data"
   ]
  },
  {
   "cell_type": "code",
   "execution_count": 3,
   "metadata": {},
   "outputs": [
    {
     "name": "stdout",
     "output_type": "stream",
     "text": [
      "<class 'tensorflow.python.data.ops.dataset_ops.TensorSliceDataset'>\n"
     ]
    }
   ],
   "source": [
    "dataset = tf.data.Dataset.from_tensor_slices(raw_data)\n",
    "print(type(dataset))"
   ]
  },
  {
   "cell_type": "code",
   "execution_count": 4,
   "metadata": {},
   "outputs": [
    {
     "name": "stdout",
     "output_type": "stream",
     "text": [
      "tf.Tensor(0, shape=(), dtype=int32)\n",
      "tf.Tensor(1, shape=(), dtype=int32)\n",
      "tf.Tensor(2, shape=(), dtype=int32)\n",
      "tf.Tensor(3, shape=(), dtype=int32)\n",
      "tf.Tensor(4, shape=(), dtype=int32)\n",
      "tf.Tensor(5, shape=(), dtype=int32)\n",
      "tf.Tensor(6, shape=(), dtype=int32)\n",
      "tf.Tensor(7, shape=(), dtype=int32)\n",
      "tf.Tensor(8, shape=(), dtype=int32)\n",
      "tf.Tensor(9, shape=(), dtype=int32)\n"
     ]
    }
   ],
   "source": [
    "# Dataset으로 부터 값 조회\n",
    "# take()함수사용-원하는 개수만큼, 반복문 (Dataset=>Iterable타입)-전체조회\n",
    "for data in dataset:\n",
    "    print(data)"
   ]
  },
  {
   "cell_type": "code",
   "execution_count": 5,
   "metadata": {},
   "outputs": [
    {
     "data": {
      "text/plain": [
       "array([10, 11, 12, 13, 14, 15, 16, 17, 18, 19])"
      ]
     },
     "execution_count": 5,
     "metadata": {},
     "output_type": "execute_result"
    }
   ],
   "source": [
    "raw_data2 = np.arange(10,20)\n",
    "raw_data2"
   ]
  },
  {
   "cell_type": "code",
   "execution_count": 6,
   "metadata": {},
   "outputs": [
    {
     "name": "stdout",
     "output_type": "stream",
     "text": [
      "tf.Tensor(0, shape=(), dtype=int32) tf.Tensor(10, shape=(), dtype=int32)\n",
      "tf.Tensor(1, shape=(), dtype=int32) tf.Tensor(11, shape=(), dtype=int32)\n",
      "tf.Tensor(2, shape=(), dtype=int32) tf.Tensor(12, shape=(), dtype=int32)\n",
      "tf.Tensor(3, shape=(), dtype=int32) tf.Tensor(13, shape=(), dtype=int32)\n",
      "tf.Tensor(4, shape=(), dtype=int32) tf.Tensor(14, shape=(), dtype=int32)\n",
      "tf.Tensor(5, shape=(), dtype=int32) tf.Tensor(15, shape=(), dtype=int32)\n",
      "tf.Tensor(6, shape=(), dtype=int32) tf.Tensor(16, shape=(), dtype=int32)\n",
      "tf.Tensor(7, shape=(), dtype=int32) tf.Tensor(17, shape=(), dtype=int32)\n",
      "tf.Tensor(8, shape=(), dtype=int32) tf.Tensor(18, shape=(), dtype=int32)\n",
      "tf.Tensor(9, shape=(), dtype=int32) tf.Tensor(19, shape=(), dtype=int32)\n"
     ]
    }
   ],
   "source": [
    "# 학습- model.fit(X, y)\n",
    "# raw_data: X_train, raw_data2: y_train\n",
    "dataset2 = tf.data.Dataset.from_tensor_slices((raw_data, raw_data2)) \n",
    "for X, y in dataset2:\n",
    "    print(X, y)\n",
    "#     print(type(data))\n",
    "#     print(data)\n",
    "    "
   ]
  },
  {
   "cell_type": "code",
   "execution_count": 7,
   "metadata": {},
   "outputs": [
    {
     "name": "stdout",
     "output_type": "stream",
     "text": [
      "[0 1 2 3 4 5 6 7 8 9]\n",
      "[10 11 12 13 14 15 16 17 18 19]\n"
     ]
    }
   ],
   "source": [
    "print(raw_data)\n",
    "print(raw_data2)"
   ]
  },
  {
   "cell_type": "code",
   "execution_count": 8,
   "metadata": {},
   "outputs": [
    {
     "name": "stdout",
     "output_type": "stream",
     "text": [
      "<class 'tensorflow.python.data.ops.dataset_ops.TakeDataset'>\n",
      "tf.Tensor(0, shape=(), dtype=int32)\n",
      "tf.Tensor(1, shape=(), dtype=int32)\n",
      "tf.Tensor(2, shape=(), dtype=int32)\n"
     ]
    }
   ],
   "source": [
    "# dataset.take(개수): 지정한 개수만큼만 조회\n",
    "dataset3 = dataset.take(3) #dataset으로 부터 3개\n",
    "print(type(dataset3))\n",
    "for data in dataset3:\n",
    "    print(data)"
   ]
  },
  {
   "cell_type": "code",
   "execution_count": 9,
   "metadata": {},
   "outputs": [
    {
     "name": "stdout",
     "output_type": "stream",
     "text": [
      "<class 'tensorflow.python.data.ops.dataset_ops.ShuffleDataset'>\n",
      "tf.Tensor(9, shape=(), dtype=int32)\n",
      "tf.Tensor(1, shape=(), dtype=int32)\n",
      "tf.Tensor(5, shape=(), dtype=int32)\n",
      "tf.Tensor(7, shape=(), dtype=int32)\n",
      "tf.Tensor(3, shape=(), dtype=int32)\n",
      "tf.Tensor(0, shape=(), dtype=int32)\n",
      "tf.Tensor(2, shape=(), dtype=int32)\n",
      "tf.Tensor(4, shape=(), dtype=int32)\n",
      "tf.Tensor(6, shape=(), dtype=int32)\n",
      "tf.Tensor(8, shape=(), dtype=int32)\n"
     ]
    }
   ],
   "source": [
    "# dataset.shuffle(buffer_size:정수) : dataset의 원소들을 섞어준다. buffer_size는 메모리가 허용하는 한 raw_data와 같은 개수로 지정.\n",
    "# shuffle : 섞어주는 것\n",
    "# shuffle(3) : 3개만 섞음\n",
    "dataset4 = dataset.shuffle(10) \n",
    "print(type(dataset4))\n",
    "for data in dataset4:\n",
    "    print(data)"
   ]
  },
  {
   "cell_type": "code",
   "execution_count": 10,
   "metadata": {},
   "outputs": [
    {
     "name": "stdout",
     "output_type": "stream",
     "text": [
      "<class 'tensorflow.python.data.ops.dataset_ops.BatchDataset'>\n",
      "tf.Tensor([0 1 2], shape=(3,), dtype=int32)\n",
      "tf.Tensor([3 4 5], shape=(3,), dtype=int32)\n",
      "tf.Tensor([6 7 8], shape=(3,), dtype=int32)\n",
      "tf.Tensor([9], shape=(1,), dtype=int32)\n"
     ]
    }
   ],
   "source": [
    "# dataset.batch(batch_size): 한번에 제공하는 데이터의 개수\n",
    "# batch(!00) : 한번에 100개씩 학습\n",
    "dataset5 = dataset.batch(3)  # 한번에 3개씩 제공\n",
    "print(type(dataset5))\n",
    "for data in dataset5:\n",
    "    print(data)\n",
    "    "
   ]
  },
  {
   "cell_type": "code",
   "execution_count": 11,
   "metadata": {},
   "outputs": [
    {
     "name": "stdout",
     "output_type": "stream",
     "text": [
      "tf.Tensor([1 6 9], shape=(3,), dtype=int32)\n",
      "tf.Tensor([2 5 4], shape=(3,), dtype=int32)\n",
      "tf.Tensor([8 0 3], shape=(3,), dtype=int32)\n",
      "tf.Tensor([7], shape=(1,), dtype=int32)\n"
     ]
    }
   ],
   "source": [
    "# 기본 dataset + shuffle + batch \n",
    "# a = dataset.shuffle(10)\n",
    "# b = a.batch(3)\n",
    "dataset = tf.data.Dataset.from_tensor_slices(raw_data)\n",
    "\n",
    "# shuffle 된 애가 3개씩 나오도록\n",
    "dataset6 = dataset.shuffle(10).batch(3)\n",
    "for d in dataset6:\n",
    "    print(d)"
   ]
  },
  {
   "cell_type": "code",
   "execution_count": 12,
   "metadata": {},
   "outputs": [
    {
     "name": "stdout",
     "output_type": "stream",
     "text": [
      "<class 'tensorflow.python.data.ops.dataset_ops.RepeatDataset'>\n",
      "tf.Tensor(0, shape=(), dtype=int32)\n",
      "tf.Tensor(1, shape=(), dtype=int32)\n",
      "tf.Tensor(2, shape=(), dtype=int32)\n",
      "tf.Tensor(3, shape=(), dtype=int32)\n",
      "tf.Tensor(4, shape=(), dtype=int32)\n",
      "tf.Tensor(5, shape=(), dtype=int32)\n",
      "tf.Tensor(6, shape=(), dtype=int32)\n",
      "tf.Tensor(7, shape=(), dtype=int32)\n",
      "tf.Tensor(8, shape=(), dtype=int32)\n",
      "tf.Tensor(9, shape=(), dtype=int32)\n",
      "tf.Tensor(0, shape=(), dtype=int32)\n",
      "tf.Tensor(1, shape=(), dtype=int32)\n",
      "tf.Tensor(2, shape=(), dtype=int32)\n",
      "tf.Tensor(3, shape=(), dtype=int32)\n",
      "tf.Tensor(4, shape=(), dtype=int32)\n",
      "tf.Tensor(5, shape=(), dtype=int32)\n",
      "tf.Tensor(6, shape=(), dtype=int32)\n",
      "tf.Tensor(7, shape=(), dtype=int32)\n",
      "tf.Tensor(8, shape=(), dtype=int32)\n",
      "tf.Tensor(9, shape=(), dtype=int32)\n",
      "tf.Tensor(0, shape=(), dtype=int32)\n",
      "tf.Tensor(1, shape=(), dtype=int32)\n",
      "tf.Tensor(2, shape=(), dtype=int32)\n",
      "tf.Tensor(3, shape=(), dtype=int32)\n",
      "tf.Tensor(4, shape=(), dtype=int32)\n",
      "tf.Tensor(5, shape=(), dtype=int32)\n",
      "tf.Tensor(6, shape=(), dtype=int32)\n",
      "tf.Tensor(7, shape=(), dtype=int32)\n",
      "tf.Tensor(8, shape=(), dtype=int32)\n",
      "tf.Tensor(9, shape=(), dtype=int32)\n"
     ]
    }
   ],
   "source": [
    "# dataset.repeat(count) # 전체 데이터셋을 count 만큼 반복해서 제공, count 생략하면 무한제공\n",
    "dataset7 = dataset.repeat(3) #3번 반복해서 제공\n",
    "print(type(dataset7))\n",
    "for data in dataset7:\n",
    "    print(data)"
   ]
  },
  {
   "cell_type": "code",
   "execution_count": 13,
   "metadata": {},
   "outputs": [
    {
     "name": "stdout",
     "output_type": "stream",
     "text": [
      "tf.Tensor([1 0 2 3 6], shape=(5,), dtype=int32)\n",
      "tf.Tensor([9 8 5 4 7], shape=(5,), dtype=int32)\n",
      "tf.Tensor([6 4 3 9 8], shape=(5,), dtype=int32)\n",
      "tf.Tensor([0 7 2 1 5], shape=(5,), dtype=int32)\n",
      "tf.Tensor([8 4 3 2 9], shape=(5,), dtype=int32)\n",
      "tf.Tensor([6 7 1 5 0], shape=(5,), dtype=int32)\n"
     ]
    }
   ],
   "source": [
    "# 여러번 반복해서(repeat) 값을 제공할 경우 반복을 시작할 때 마다 shuffle을 한다.\n",
    "dataset8 = dataset.shuffle(10).batch(5).repeat(3)\n",
    "for data in dataset8:\n",
    "    print(data)"
   ]
  },
  {
   "cell_type": "code",
   "execution_count": 14,
   "metadata": {},
   "outputs": [
    {
     "name": "stdout",
     "output_type": "stream",
     "text": [
      "<class 'tensorflow.python.data.ops.dataset_ops.MapDataset'>\n",
      "tf.Tensor(0, shape=(), dtype=int32)\n",
      "tf.Tensor(1, shape=(), dtype=int32)\n",
      "tf.Tensor(4, shape=(), dtype=int32)\n",
      "tf.Tensor(9, shape=(), dtype=int32)\n",
      "tf.Tensor(16, shape=(), dtype=int32)\n",
      "tf.Tensor(25, shape=(), dtype=int32)\n",
      "tf.Tensor(36, shape=(), dtype=int32)\n",
      "tf.Tensor(49, shape=(), dtype=int32)\n",
      "tf.Tensor(64, shape=(), dtype=int32)\n",
      "tf.Tensor(81, shape=(), dtype=int32)\n"
     ]
    }
   ],
   "source": [
    "# dataset.map(함수) : 원소들의 값을 변환해서 제공. 함수: 어떻게 변환할지 - 매개변수:dataset이 제공하는 값을 받는 변수, 반환값:dataset이 제공하는 값.\n",
    "# 값들을 제곱해서 변환\n",
    "# mapping함수 - 입력데이터(argument)와 출력데이터(return)의 타입이 동일해야 한다.\n",
    "def mapping_func(x):\n",
    "    return x**2\n",
    "\n",
    "dataset9 = dataset.map(mapping_func)\n",
    "print(type(dataset9))\n",
    "for data in dataset9:print(data)"
   ]
  },
  {
   "cell_type": "code",
   "execution_count": 15,
   "metadata": {},
   "outputs": [],
   "source": [
    "# x : raw_data, y: raw)data2\n",
    "def mapping_func2(x,y):\n",
    "    \n",
    "    return x**3, y**2  # x**3: raw_data에 변환값, y**2:raw_data2에 변환값\n",
    "\n",
    "dataset2 = tf.data.Dataset.from_tensor_slices((raw_data, raw_data2))\n",
    "dataset10 = dataset2.map(mapping_func2)"
   ]
  },
  {
   "cell_type": "code",
   "execution_count": 16,
   "metadata": {},
   "outputs": [
    {
     "name": "stdout",
     "output_type": "stream",
     "text": [
      "(<tf.Tensor: shape=(), dtype=int32, numpy=0>, <tf.Tensor: shape=(), dtype=int32, numpy=100>)\n",
      "(<tf.Tensor: shape=(), dtype=int32, numpy=1>, <tf.Tensor: shape=(), dtype=int32, numpy=121>)\n",
      "(<tf.Tensor: shape=(), dtype=int32, numpy=8>, <tf.Tensor: shape=(), dtype=int32, numpy=144>)\n",
      "(<tf.Tensor: shape=(), dtype=int32, numpy=27>, <tf.Tensor: shape=(), dtype=int32, numpy=169>)\n",
      "(<tf.Tensor: shape=(), dtype=int32, numpy=64>, <tf.Tensor: shape=(), dtype=int32, numpy=196>)\n",
      "(<tf.Tensor: shape=(), dtype=int32, numpy=125>, <tf.Tensor: shape=(), dtype=int32, numpy=225>)\n",
      "(<tf.Tensor: shape=(), dtype=int32, numpy=216>, <tf.Tensor: shape=(), dtype=int32, numpy=256>)\n",
      "(<tf.Tensor: shape=(), dtype=int32, numpy=343>, <tf.Tensor: shape=(), dtype=int32, numpy=289>)\n",
      "(<tf.Tensor: shape=(), dtype=int32, numpy=512>, <tf.Tensor: shape=(), dtype=int32, numpy=324>)\n",
      "(<tf.Tensor: shape=(), dtype=int32, numpy=729>, <tf.Tensor: shape=(), dtype=int32, numpy=361>)\n"
     ]
    }
   ],
   "source": [
    "# 중간 numpy 부분, 맨 끝 numpy부분이 각각 x, y\n",
    "for data in dataset10:\n",
    "    print(data)"
   ]
  },
  {
   "cell_type": "code",
   "execution_count": 17,
   "metadata": {},
   "outputs": [
    {
     "data": {
      "text/plain": [
       "(20, (30, 100))"
      ]
     },
     "execution_count": 17,
     "metadata": {},
     "output_type": "execute_result"
    }
   ],
   "source": [
    "# 랍도(표현)식: 함수를 연산식으로 정의한 것. lambda 매개변수들 : 반환값구현\n",
    "test2 =lambda x:x+10\n",
    "test3 = lambda x,y: (x+10,y**2)\n",
    "test2(10), test3(20,10)"
   ]
  },
  {
   "cell_type": "code",
   "execution_count": 18,
   "metadata": {},
   "outputs": [
    {
     "name": "stdout",
     "output_type": "stream",
     "text": [
      "tf.Tensor(0, shape=(), dtype=int32)\n",
      "tf.Tensor(1, shape=(), dtype=int32)\n",
      "tf.Tensor(4, shape=(), dtype=int32)\n",
      "tf.Tensor(9, shape=(), dtype=int32)\n",
      "tf.Tensor(16, shape=(), dtype=int32)\n",
      "tf.Tensor(25, shape=(), dtype=int32)\n",
      "tf.Tensor(36, shape=(), dtype=int32)\n",
      "tf.Tensor(49, shape=(), dtype=int32)\n",
      "tf.Tensor(64, shape=(), dtype=int32)\n",
      "tf.Tensor(81, shape=(), dtype=int32)\n"
     ]
    }
   ],
   "source": [
    "'''\n",
    "dataset9 = dataset.map(mapping_func)\n",
    "print(type(dataset9))\n",
    "for data in dataset9:print(data)  를 람다식으로\n",
    "\n",
    "한번의 연산을 할 때만 람다식. 여러번의 계산이 필요하다면 일반 함수\n",
    "'''\n",
    "\n",
    "dataset11 = dataset.map(lambda x:x**2)\n",
    "for data in dataset11:\n",
    "    print(data)"
   ]
  },
  {
   "cell_type": "code",
   "execution_count": 19,
   "metadata": {},
   "outputs": [
    {
     "name": "stdout",
     "output_type": "stream",
     "text": [
      "<class 'tensorflow.python.data.ops.dataset_ops.FilterDataset'>\n",
      "tf.Tensor(0, shape=(), dtype=int32)\n",
      "tf.Tensor(2, shape=(), dtype=int32)\n",
      "tf.Tensor(4, shape=(), dtype=int32)\n",
      "tf.Tensor(6, shape=(), dtype=int32)\n",
      "tf.Tensor(8, shape=(), dtype=int32)\n"
     ]
    }
   ],
   "source": [
    "# dataset.filter(함수): 원소들 중에서 특정 조건이 True인 값들만 제공.\n",
    "# 함수-매개변수:dataset이 제공하는 값을 받을 변수. (dataset의 배열개수만큼 지정), 반환값 : Boolean\n",
    "\n",
    "# 원소들 중에서 2의 배수만 제공하는 dataset\n",
    "\n",
    "def filter_func(x):\n",
    "    return x%2 == 0  # x가 2dml qotndls ruddn True 반환\n",
    "\n",
    "dataset13 = dataset.filter(filter_func)  # 각각의 값을 filter_func() 넣었을 때 True를 반환하는 값만 제공.\n",
    "print(type(dataset13))\n",
    "for data in dataset13:\n",
    "    print(data)"
   ]
  },
  {
   "cell_type": "code",
   "execution_count": 20,
   "metadata": {},
   "outputs": [],
   "source": [
    "dataset14 = dataset.filter(lambda x:x%2 ==0)\n",
    "# dataset14 = dataset.filter(lambda x:x>5) # 값들 중에서 5보다 큰 값들만 제공"
   ]
  },
  {
   "cell_type": "code",
   "execution_count": 21,
   "metadata": {},
   "outputs": [
    {
     "name": "stdout",
     "output_type": "stream",
     "text": [
      "tf.Tensor(0, shape=(), dtype=int32)\n",
      "tf.Tensor(2, shape=(), dtype=int32)\n",
      "tf.Tensor(4, shape=(), dtype=int32)\n",
      "tf.Tensor(6, shape=(), dtype=int32)\n",
      "tf.Tensor(8, shape=(), dtype=int32)\n"
     ]
    }
   ],
   "source": [
    "for d in dataset14:\n",
    "    print(d)"
   ]
  },
  {
   "cell_type": "code",
   "execution_count": 22,
   "metadata": {},
   "outputs": [
    {
     "name": "stdout",
     "output_type": "stream",
     "text": [
      "tf.Tensor(0, shape=(), dtype=int32)\n",
      "tf.Tensor(1, shape=(), dtype=int32)\n",
      "tf.Tensor(2, shape=(), dtype=int32)\n",
      "tf.Tensor(3, shape=(), dtype=int32)\n",
      "tf.Tensor(4, shape=(), dtype=int32)\n",
      "tf.Tensor(5, shape=(), dtype=int32)\n",
      "tf.Tensor(6, shape=(), dtype=int32)\n",
      "tf.Tensor(7, shape=(), dtype=int32)\n",
      "tf.Tensor(8, shape=(), dtype=int32)\n",
      "tf.Tensor(9, shape=(), dtype=int32)\n"
     ]
    }
   ],
   "source": [
    "for d in dataset:\n",
    "    print(d)"
   ]
  },
  {
   "cell_type": "markdown",
   "metadata": {},
   "source": [
    "![딥러닝4.jpg](image/딥러닝4.jpg)"
   ]
  },
  {
   "cell_type": "code",
   "execution_count": 23,
   "metadata": {},
   "outputs": [],
   "source": [
    "raw_data = np.arange(-10, 11)\n",
    "dataset_final = tf.data.Dataset.from_tensor_slices(raw_data).filter(lambda x:x>=0).map(lambda y:y+10).shuffle(raw_data.size).batch(3).repeat(2)"
   ]
  },
  {
   "cell_type": "code",
   "execution_count": 24,
   "metadata": {},
   "outputs": [
    {
     "name": "stdout",
     "output_type": "stream",
     "text": [
      "tf.Tensor([15 10 20], shape=(3,), dtype=int32)\n",
      "tf.Tensor([18 13 14], shape=(3,), dtype=int32)\n",
      "tf.Tensor([12 17 19], shape=(3,), dtype=int32)\n",
      "tf.Tensor([16 11], shape=(2,), dtype=int32)\n",
      "tf.Tensor([19 14 15], shape=(3,), dtype=int32)\n",
      "tf.Tensor([20 17 12], shape=(3,), dtype=int32)\n",
      "tf.Tensor([11 18 16], shape=(3,), dtype=int32)\n",
      "tf.Tensor([10 13], shape=(2,), dtype=int32)\n"
     ]
    }
   ],
   "source": [
    "for data in dataset_final:\n",
    "    print(data)"
   ]
  },
  {
   "cell_type": "markdown",
   "metadata": {},
   "source": [
    "# 1. 회귀 - Boston Housing Dataset\n",
    "보스턴 주택가격 dataset은 다음과 같은 속성을 바탕으로 해당 타운 주택 가격의 중앙값을 예측하는 문제.\n",
    "- CRIM: 범죄율\n",
    "- ZN: 25,000 평방피트당 주거지역 비율\n",
    "- INDUS: 비소매 상업지구 비율\n",
    "- CHAS: 찰스강에 인접해 있는지 여부(인접:1, 아니면:0)\n",
    "- NOX: 일산화질소 농도(단위: 0.1ppm)\n",
    "- RM: 주택당 방의 수\n",
    "- AGE: 1940년 이전에 건설된 주택의 비율\n",
    "- DIS: 5개의 보스턴 직업고용센터와의 거리(가중 평균)\n",
    "- RAD: 고속도로 접근성\n",
    "- TAX: 재산세율\n",
    "- PTRATIO: 학생/교사 비율\n",
    "- B: 흑인 비율\n",
    "- LSTAT: 하위 계층 비율\n",
    "\n",
    "예측해야하는 것\n",
    "- MEDV: 타운의 주택가격 중앙값(단위: 1,000달러)"
   ]
  },
  {
   "cell_type": "code",
   "execution_count": 25,
   "metadata": {},
   "outputs": [],
   "source": [
    "import numpy as np\n",
    "\n",
    "import tensorflow as tf\n",
    "from tensorflow import keras\n",
    "\n",
    "from tensorflow.keras import layers, models  # Layers: Deeplearning 모델의 Layer를 정의하는 클래스 들을 가진 모듈"
   ]
  },
  {
   "cell_type": "code",
   "execution_count": 26,
   "metadata": {},
   "outputs": [],
   "source": [
    "# 랜덤값들의 seed값 지정\n",
    "np.random.seed(0)\n",
    "tf.random.set_seed(0)"
   ]
  },
  {
   "cell_type": "code",
   "execution_count": 27,
   "metadata": {},
   "outputs": [
    {
     "name": "stdout",
     "output_type": "stream",
     "text": [
      "(404, 13) (102, 13)\n",
      "(404,) (102,)\n"
     ]
    }
   ],
   "source": [
    "# 데이터를 로딩\n",
    "(train_X, train_y), (test_X, test_y) = keras.datasets.boston_housing.load_data()\n",
    "print(train_X.shape, test_X.shape)\n",
    "print(train_y.shape, test_y.shape)"
   ]
  },
  {
   "cell_type": "code",
   "execution_count": 28,
   "metadata": {},
   "outputs": [
    {
     "data": {
      "text/plain": [
       "array([[1.23247e+00, 0.00000e+00, 8.14000e+00, 0.00000e+00, 5.38000e-01,\n",
       "        6.14200e+00, 9.17000e+01, 3.97690e+00, 4.00000e+00, 3.07000e+02,\n",
       "        2.10000e+01, 3.96900e+02, 1.87200e+01],\n",
       "       [2.17700e-02, 8.25000e+01, 2.03000e+00, 0.00000e+00, 4.15000e-01,\n",
       "        7.61000e+00, 1.57000e+01, 6.27000e+00, 2.00000e+00, 3.48000e+02,\n",
       "        1.47000e+01, 3.95380e+02, 3.11000e+00],\n",
       "       [4.89822e+00, 0.00000e+00, 1.81000e+01, 0.00000e+00, 6.31000e-01,\n",
       "        4.97000e+00, 1.00000e+02, 1.33250e+00, 2.40000e+01, 6.66000e+02,\n",
       "        2.02000e+01, 3.75520e+02, 3.26000e+00]])"
      ]
     },
     "execution_count": 28,
     "metadata": {},
     "output_type": "execute_result"
    }
   ],
   "source": [
    "train_X[:3]"
   ]
  },
  {
   "cell_type": "code",
   "execution_count": 29,
   "metadata": {},
   "outputs": [
    {
     "data": {
      "text/plain": [
       "array([15.2, 42.3, 50. ])"
      ]
     },
     "execution_count": 29,
     "metadata": {},
     "output_type": "execute_result"
    }
   ],
   "source": [
    "train_y[:3]"
   ]
  },
  {
   "cell_type": "code",
   "execution_count": 30,
   "metadata": {},
   "outputs": [],
   "source": [
    "# 하이퍼파라미터\n",
    "LEARNING_RATE = 0.001  # 학습률\n",
    "N_EPOCHS = 200  # epoch수\n",
    "N_BATCHS = 32   # 배치사이즈\n",
    "\n",
    "# 변수\n",
    "N_TRAIN = train_X.shape[0]  # train 데이터셋의 데이터 개수\n",
    "N_TEST = test_X.shape[0]   # test 데이터셋의 데이터 개수"
   ]
  },
  {
   "cell_type": "markdown",
   "metadata": {},
   "source": [
    "#### x,y 전처리, Dataset 생성"
   ]
  },
  {
   "cell_type": "code",
   "execution_count": 31,
   "metadata": {},
   "outputs": [],
   "source": [
    "# X 전처리 - Scaling\n",
    "from sklearn.preprocessing import StandardScaler\n",
    "scaler = StandardScaler()\n",
    "X_train = scaler.fit_transform(train_X)\n",
    "X_test = scaler.transform(test_X)"
   ]
  },
  {
   "cell_type": "code",
   "execution_count": 32,
   "metadata": {},
   "outputs": [
    {
     "data": {
      "text/plain": [
       "(404, 13)"
      ]
     },
     "execution_count": 32,
     "metadata": {},
     "output_type": "execute_result"
    }
   ],
   "source": [
    "# 0번째 인덱스 말고 뒤에거가 모델 갯수로 넣어주면 됨\n",
    "X_train.shape"
   ]
  },
  {
   "cell_type": "code",
   "execution_count": 33,
   "metadata": {},
   "outputs": [],
   "source": [
    "# Dataset 구현\n",
    "# drop_remainder=True : 남은 짜투리는 버려(제공하지 말아라.) - 마지막 배치의 원소 수가 batch size보다 작으면 제공하지 않겠다.\n",
    "train_dataset = tf.data.Dataset.from_tensor_slices((X_train, train_y)).shuffle(N_TRAIN).batch(N_BATCHS, drop_remainder=True)\n",
    "\n",
    "test_dataset = tf.data.Dataset.from_tensor_slices((X_test, test_y)).batch(N_BATCHS)"
   ]
  },
  {
   "cell_type": "markdown",
   "metadata": {},
   "source": [
    "#### 모델 구현"
   ]
  },
  {
   "cell_type": "code",
   "execution_count": 50,
   "metadata": {},
   "outputs": [],
   "source": [
    "# 모델(네트워크)를 정의하는 함수\n",
    "def create_housing_model():\n",
    "    # 모델 생성\n",
    "    model = keras.Sequential()\n",
    "#     model = keras.models.Sequential() : 위에거랑 같은데 이게 옛날버전임. 참고!\n",
    "\n",
    "    # 모델에  Layer들을 추가\n",
    "    model.add(layers.InputLayer((13,)))\n",
    "#     model.add(layers.Dense(units=32, activation=\"relu\"))\n",
    "\n",
    "    '''\n",
    "    첫번째 Hidden Layer에 input_shape를 지정할 수 있다.\n",
    "         DenseLayer : units 개수는 2배수를 사용. top으로 갈수록 개수를 줄여나간다.\n",
    "    '''\n",
    "    \n",
    "    model.add(layers.Dense(units=32, activation=\"relu\", input_shape=(13,)))\n",
    "    \n",
    "# 밑에거는 input_shape 지정안함. input_shape는 하나의 노드에 몇개 들어오는지 정해주는 건데,\n",
    "#     처음모델에서 13개 지정했고 그 다음순서가 아래 레이어니까 안정해줌. 첫번째 레이어에만 정해줌.\n",
    "    model.add(layers.Dense(units=16, activation=\"relu\"))\n",
    "    model.add(layers.Dense(units=8, activation=\"relu\"))\n",
    "    \n",
    "    # **출력레이어 : 회귀** - units수: 1(추론할 값이 1개), 활성함수:None\n",
    "    model.add(layers.Dense(units=1))\n",
    "    \n",
    "    return model"
   ]
  },
  {
   "cell_type": "code",
   "execution_count": 51,
   "metadata": {},
   "outputs": [
    {
     "name": "stdout",
     "output_type": "stream",
     "text": [
      "<tensorflow.python.keras.engine.sequential.Sequential object at 0x000002B171AFC520>\n"
     ]
    }
   ],
   "source": [
    "model = create_housing_model()\n",
    "print(model)"
   ]
  },
  {
   "cell_type": "code",
   "execution_count": 52,
   "metadata": {},
   "outputs": [
    {
     "name": "stdout",
     "output_type": "stream",
     "text": [
      "Model: \"sequential_1\"\n",
      "_________________________________________________________________\n",
      "Layer (type)                 Output Shape              Param #   \n",
      "=================================================================\n",
      "dense_4 (Dense)              (None, 32)                448       \n",
      "_________________________________________________________________\n",
      "dense_5 (Dense)              (None, 16)                528       \n",
      "_________________________________________________________________\n",
      "dense_6 (Dense)              (None, 8)                 136       \n",
      "_________________________________________________________________\n",
      "dense_7 (Dense)              (None, 1)                 9         \n",
      "=================================================================\n",
      "Total params: 1,121\n",
      "Trainable params: 1,121\n",
      "Non-trainable params: 0\n",
      "_________________________________________________________________\n"
     ]
    }
   ],
   "source": [
    "# 생성된 네트워크의 구조(summary)를 확인\n",
    "model.summary()"
   ]
  },
  {
   "cell_type": "code",
   "execution_count": 53,
   "metadata": {},
   "outputs": [
    {
     "data": {
      "text/plain": [
       "448"
      ]
     },
     "execution_count": 53,
     "metadata": {},
     "output_type": "execute_result"
    }
   ],
   "source": [
    "# 레이어당 파라미터의 개수\n",
    "# 1 노드 : input 속성수 + 1\n",
    "# input 속성수 * unit수 + unit수(bias의 개수)\n",
    "13 * 32 + 32"
   ]
  },
  {
   "cell_type": "code",
   "execution_count": 54,
   "metadata": {},
   "outputs": [
    {
     "data": {
      "image/png": "[encoded data removed]",
      "text/plain": [
       "<IPython.core.display.Image object>"
      ]
     },
     "execution_count": 54,
     "metadata": {},
     "output_type": "execute_result"
    }
   ],
   "source": [
    "# 모델 구조를 그래프로 확인\n",
    "# to_file은 파일경로(절대, 상대)를 지정. 생략\n",
    "keras.utils.plot_model(model, show_shapes=True, to_file='housing_model.png')"
   ]
  },
  {
   "cell_type": "markdown",
   "metadata": {},
   "source": [
    "#### 컴파일\n",
    "    - 모델이 학습 할 때 필요한 설정을 해주는 작업\n",
    "        - loss\n",
    "        - optimizer\n",
    "        - metrics"
   ]
  },
  {
   "cell_type": "code",
   "execution_count": 55,
   "metadata": {},
   "outputs": [],
   "source": [
    "# 회귀 - Loss: mean squared error = \"mse\"\n",
    "model.compile(loss='mse',\n",
    "             optimizer=keras.optimizers.Adam(learning_rate=LEARNING_RATE))  # optimaizer를 문자열 지정: 기본설정을 사용."
   ]
  },
  {
   "cell_type": "markdown",
   "metadata": {},
   "source": [
    "#### 학습(Train)"
   ]
  },
  {
   "cell_type": "code",
   "execution_count": 56,
   "metadata": {},
   "outputs": [
    {
     "name": "stdout",
     "output_type": "stream",
     "text": [
      "Epoch 1/200\n",
      "12/12 [==============================] - 1s 12ms/step - loss: 594.0577 - val_loss: 619.4501\n",
      "Epoch 2/200\n",
      "12/12 [==============================] - 0s 4ms/step - loss: 581.0176 - val_loss: 611.4102\n",
      "Epoch 3/200\n",
      "12/12 [==============================] - 0s 3ms/step - loss: 575.4075 - val_loss: 605.0936\n",
      "Epoch 4/200\n",
      "12/12 [==============================] - 0s 3ms/step - loss: 567.8315 - val_loss: 597.8579\n",
      "Epoch 5/200\n",
      "12/12 [==============================] - 0s 4ms/step - loss: 552.8268 - val_loss: 586.6671\n",
      "Epoch 6/200\n",
      "12/12 [==============================] - 0s 4ms/step - loss: 555.4159 - val_loss: 570.1842\n",
      "Epoch 7/200\n",
      "12/12 [==============================] - 0s 4ms/step - loss: 538.6273 - val_loss: 546.4211\n",
      "Epoch 8/200\n",
      "12/12 [==============================] - 0s 4ms/step - loss: 514.7725 - val_loss: 514.3775\n",
      "Epoch 9/200\n",
      "12/12 [==============================] - 0s 3ms/step - loss: 470.4890 - val_loss: 472.0646\n",
      "Epoch 10/200\n",
      "12/12 [==============================] - 0s 5ms/step - loss: 422.1372 - val_loss: 415.4435\n",
      "Epoch 11/200\n",
      "12/12 [==============================] - 0s 6ms/step - loss: 360.6338 - val_loss: 343.4030\n",
      "Epoch 12/200\n",
      "12/12 [==============================] - 0s 5ms/step - loss: 284.6969 - val_loss: 258.9221\n",
      "Epoch 13/200\n",
      "12/12 [==============================] - 0s 5ms/step - loss: 204.0871 - val_loss: 180.8174\n",
      "Epoch 14/200\n",
      "12/12 [==============================] - 0s 5ms/step - loss: 142.2232 - val_loss: 129.5939\n",
      "Epoch 15/200\n",
      "12/12 [==============================] - 0s 4ms/step - loss: 105.0907 - val_loss: 105.3718\n",
      "Epoch 16/200\n",
      "12/12 [==============================] - 0s 4ms/step - loss: 89.7254 - val_loss: 88.5451\n",
      "Epoch 17/200\n",
      "12/12 [==============================] - 0s 4ms/step - loss: 75.4728 - val_loss: 75.3605\n",
      "Epoch 18/200\n",
      "12/12 [==============================] - 0s 3ms/step - loss: 64.2640 - val_loss: 63.8228\n",
      "Epoch 19/200\n",
      "12/12 [==============================] - 0s 5ms/step - loss: 53.4916 - val_loss: 54.3436\n",
      "Epoch 20/200\n",
      "12/12 [==============================] - 0s 4ms/step - loss: 46.1852 - val_loss: 46.8524\n",
      "Epoch 21/200\n",
      "12/12 [==============================] - 0s 4ms/step - loss: 37.0375 - val_loss: 40.1947\n",
      "Epoch 22/200\n",
      "12/12 [==============================] - 0s 4ms/step - loss: 35.0088 - val_loss: 35.2729\n",
      "Epoch 23/200\n",
      "12/12 [==============================] - 0s 4ms/step - loss: 28.0962 - val_loss: 31.7910\n",
      "Epoch 24/200\n",
      "12/12 [==============================] - 0s 4ms/step - loss: 27.5174 - val_loss: 29.6171\n",
      "Epoch 25/200\n",
      "12/12 [==============================] - 0s 5ms/step - loss: 25.7867 - val_loss: 27.5627\n",
      "Epoch 26/200\n",
      "12/12 [==============================] - 0s 4ms/step - loss: 23.8432 - val_loss: 26.1400\n",
      "Epoch 27/200\n",
      "12/12 [==============================] - 0s 4ms/step - loss: 23.1226 - val_loss: 25.1185\n",
      "Epoch 28/200\n",
      "12/12 [==============================] - 0s 3ms/step - loss: 21.5512 - val_loss: 24.3016\n",
      "Epoch 29/200\n",
      "12/12 [==============================] - 0s 6ms/step - loss: 20.7877 - val_loss: 23.7503\n",
      "Epoch 30/200\n",
      "12/12 [==============================] - 0s 3ms/step - loss: 20.3683 - val_loss: 23.0458\n",
      "Epoch 31/200\n",
      "12/12 [==============================] - 0s 4ms/step - loss: 19.2409 - val_loss: 22.6502\n",
      "Epoch 32/200\n",
      "12/12 [==============================] - 0s 3ms/step - loss: 18.6781 - val_loss: 22.4448\n",
      "Epoch 33/200\n",
      "12/12 [==============================] - 0s 3ms/step - loss: 18.1682 - val_loss: 22.4061\n",
      "Epoch 34/200\n",
      "12/12 [==============================] - 0s 4ms/step - loss: 17.3029 - val_loss: 22.0103\n",
      "Epoch 35/200\n",
      "12/12 [==============================] - 0s 4ms/step - loss: 16.3144 - val_loss: 21.4670\n",
      "Epoch 36/200\n",
      "12/12 [==============================] - 0s 4ms/step - loss: 16.7740 - val_loss: 21.1894\n",
      "Epoch 37/200\n",
      "12/12 [==============================] - 0s 6ms/step - loss: 16.0514 - val_loss: 21.1033\n",
      "Epoch 38/200\n",
      "12/12 [==============================] - 0s 4ms/step - loss: 15.5047 - val_loss: 20.9581\n",
      "Epoch 39/200\n",
      "12/12 [==============================] - 0s 3ms/step - loss: 14.5559 - val_loss: 20.9647\n",
      "Epoch 40/200\n",
      "12/12 [==============================] - 0s 4ms/step - loss: 14.3999 - val_loss: 20.9540\n",
      "Epoch 41/200\n",
      "12/12 [==============================] - 0s 4ms/step - loss: 15.2177 - val_loss: 20.8377\n",
      "Epoch 42/200\n",
      "12/12 [==============================] - 0s 5ms/step - loss: 14.7812 - val_loss: 20.9103\n",
      "Epoch 43/200\n",
      "12/12 [==============================] - 0s 4ms/step - loss: 13.9723 - val_loss: 20.7426\n",
      "Epoch 44/200\n",
      "12/12 [==============================] - 0s 3ms/step - loss: 14.3329 - val_loss: 20.8944\n",
      "Epoch 45/200\n",
      "12/12 [==============================] - 0s 4ms/step - loss: 13.8403 - val_loss: 21.0366\n",
      "Epoch 46/200\n",
      "12/12 [==============================] - 0s 4ms/step - loss: 12.9406 - val_loss: 20.5917\n",
      "Epoch 47/200\n",
      "12/12 [==============================] - 0s 5ms/step - loss: 13.5131 - val_loss: 20.8870\n",
      "Epoch 48/200\n",
      "12/12 [==============================] - 0s 4ms/step - loss: 13.4189 - val_loss: 21.1867\n",
      "Epoch 49/200\n",
      "12/12 [==============================] - 0s 4ms/step - loss: 12.9220 - val_loss: 21.0829\n",
      "Epoch 50/200\n",
      "12/12 [==============================] - 0s 3ms/step - loss: 12.9852 - val_loss: 20.7515\n",
      "Epoch 51/200\n",
      "12/12 [==============================] - 0s 4ms/step - loss: 12.6951 - val_loss: 21.3485\n",
      "Epoch 52/200\n",
      "12/12 [==============================] - 0s 4ms/step - loss: 12.4911 - val_loss: 20.8120\n",
      "Epoch 53/200\n",
      "12/12 [==============================] - 0s 4ms/step - loss: 12.3871 - val_loss: 21.0358\n",
      "Epoch 54/200\n",
      "12/12 [==============================] - 0s 4ms/step - loss: 11.8142 - val_loss: 20.4262\n",
      "Epoch 55/200\n",
      "12/12 [==============================] - 0s 4ms/step - loss: 12.1171 - val_loss: 20.9438\n",
      "Epoch 56/200\n",
      "12/12 [==============================] - 0s 3ms/step - loss: 12.0668 - val_loss: 21.2500\n",
      "Epoch 57/200\n",
      "12/12 [==============================] - 0s 4ms/step - loss: 11.9388 - val_loss: 21.3686\n",
      "Epoch 58/200\n",
      "12/12 [==============================] - 0s 4ms/step - loss: 11.8043 - val_loss: 21.4031\n",
      "Epoch 59/200\n",
      "12/12 [==============================] - 0s 4ms/step - loss: 11.3811 - val_loss: 20.9089\n",
      "Epoch 60/200\n",
      "12/12 [==============================] - 0s 4ms/step - loss: 11.5184 - val_loss: 21.4027\n",
      "Epoch 61/200\n",
      "12/12 [==============================] - 0s 4ms/step - loss: 9.8940 - val_loss: 21.0441\n",
      "Epoch 62/200\n",
      "12/12 [==============================] - 0s 4ms/step - loss: 11.5430 - val_loss: 21.4881\n",
      "Epoch 63/200\n",
      "12/12 [==============================] - 0s 4ms/step - loss: 11.2652 - val_loss: 21.4520\n",
      "Epoch 64/200\n",
      "12/12 [==============================] - 0s 5ms/step - loss: 11.3925 - val_loss: 21.1663\n",
      "Epoch 65/200\n",
      "12/12 [==============================] - 0s 4ms/step - loss: 11.0444 - val_loss: 21.6782\n",
      "Epoch 66/200\n",
      "12/12 [==============================] - 0s 4ms/step - loss: 10.9857 - val_loss: 21.7879\n",
      "Epoch 67/200\n",
      "12/12 [==============================] - 0s 4ms/step - loss: 10.8215 - val_loss: 21.4560\n",
      "Epoch 68/200\n",
      "12/12 [==============================] - 0s 4ms/step - loss: 10.9612 - val_loss: 21.3657\n",
      "Epoch 69/200\n",
      "12/12 [==============================] - 0s 4ms/step - loss: 10.7319 - val_loss: 21.7128\n",
      "Epoch 70/200\n",
      "12/12 [==============================] - 0s 4ms/step - loss: 10.7585 - val_loss: 22.0281\n",
      "Epoch 71/200\n",
      "12/12 [==============================] - 0s 4ms/step - loss: 10.4589 - val_loss: 21.3209\n",
      "Epoch 72/200\n",
      "12/12 [==============================] - 0s 4ms/step - loss: 10.3959 - val_loss: 21.6120\n",
      "Epoch 73/200\n",
      "12/12 [==============================] - 0s 4ms/step - loss: 10.4649 - val_loss: 22.0454\n",
      "Epoch 74/200\n",
      "12/12 [==============================] - 0s 5ms/step - loss: 10.0763 - val_loss: 21.9459\n",
      "Epoch 75/200\n",
      "12/12 [==============================] - 0s 6ms/step - loss: 10.1362 - val_loss: 21.6038\n",
      "Epoch 76/200\n",
      "12/12 [==============================] - 0s 7ms/step - loss: 8.7992 - val_loss: 21.9764\n",
      "Epoch 77/200\n",
      "12/12 [==============================] - 0s 7ms/step - loss: 9.6399 - val_loss: 22.3276\n",
      "Epoch 78/200\n",
      "12/12 [==============================] - 0s 6ms/step - loss: 9.6457 - val_loss: 21.9297\n",
      "Epoch 79/200\n",
      "12/12 [==============================] - 0s 10ms/step - loss: 10.0606 - val_loss: 21.7854\n",
      "Epoch 80/200\n",
      "12/12 [==============================] - 0s 6ms/step - loss: 9.7815 - val_loss: 22.2937\n",
      "Epoch 81/200\n"
     ]
    },
    {
     "name": "stdout",
     "output_type": "stream",
     "text": [
      "12/12 [==============================] - 0s 4ms/step - loss: 9.8959 - val_loss: 22.0856\n",
      "Epoch 82/200\n",
      "12/12 [==============================] - 0s 6ms/step - loss: 9.8830 - val_loss: 22.4864\n",
      "Epoch 83/200\n",
      "12/12 [==============================] - 0s 4ms/step - loss: 9.7978 - val_loss: 22.1994\n",
      "Epoch 84/200\n",
      "12/12 [==============================] - 0s 3ms/step - loss: 9.5070 - val_loss: 22.1216\n",
      "Epoch 85/200\n",
      "12/12 [==============================] - 0s 6ms/step - loss: 8.7389 - val_loss: 21.9392\n",
      "Epoch 86/200\n",
      "12/12 [==============================] - 0s 7ms/step - loss: 9.6943 - val_loss: 21.5596\n",
      "Epoch 87/200\n",
      "12/12 [==============================] - 0s 8ms/step - loss: 9.6121 - val_loss: 21.8267\n",
      "Epoch 88/200\n",
      "12/12 [==============================] - 0s 4ms/step - loss: 9.0090 - val_loss: 21.2166\n",
      "Epoch 89/200\n",
      "12/12 [==============================] - 0s 3ms/step - loss: 9.0869 - val_loss: 21.3965\n",
      "Epoch 90/200\n",
      "12/12 [==============================] - 0s 3ms/step - loss: 9.4828 - val_loss: 21.7084\n",
      "Epoch 91/200\n",
      "12/12 [==============================] - 0s 5ms/step - loss: 8.9219 - val_loss: 21.7924\n",
      "Epoch 92/200\n",
      "12/12 [==============================] - 0s 4ms/step - loss: 9.3853 - val_loss: 22.4747\n",
      "Epoch 93/200\n",
      "12/12 [==============================] - 0s 5ms/step - loss: 9.4158 - val_loss: 21.8737\n",
      "Epoch 94/200\n",
      "12/12 [==============================] - 0s 5ms/step - loss: 9.3277 - val_loss: 21.6691\n",
      "Epoch 95/200\n",
      "12/12 [==============================] - 0s 5ms/step - loss: 7.8628 - val_loss: 21.4355\n",
      "Epoch 96/200\n",
      "12/12 [==============================] - 0s 4ms/step - loss: 9.1446 - val_loss: 22.3188\n",
      "Epoch 97/200\n",
      "12/12 [==============================] - 0s 4ms/step - loss: 9.0567 - val_loss: 21.8666\n",
      "Epoch 98/200\n",
      "12/12 [==============================] - 0s 3ms/step - loss: 8.7711 - val_loss: 21.3634\n",
      "Epoch 99/200\n",
      "12/12 [==============================] - 0s 3ms/step - loss: 9.1972 - val_loss: 21.7138\n",
      "Epoch 100/200\n",
      "12/12 [==============================] - 0s 3ms/step - loss: 8.6106 - val_loss: 21.1348\n",
      "Epoch 101/200\n",
      "12/12 [==============================] - 0s 5ms/step - loss: 9.0478 - val_loss: 21.3149\n",
      "Epoch 102/200\n",
      "12/12 [==============================] - 0s 7ms/step - loss: 7.3479 - val_loss: 20.8355\n",
      "Epoch 103/200\n",
      "12/12 [==============================] - 0s 4ms/step - loss: 8.9961 - val_loss: 21.3835\n",
      "Epoch 104/200\n",
      "12/12 [==============================] - 0s 4ms/step - loss: 7.6895 - val_loss: 21.2717\n",
      "Epoch 105/200\n",
      "12/12 [==============================] - 0s 3ms/step - loss: 7.6518 - val_loss: 20.8995\n",
      "Epoch 106/200\n",
      "12/12 [==============================] - 0s 3ms/step - loss: 8.9236 - val_loss: 21.5752\n",
      "Epoch 107/200\n",
      "12/12 [==============================] - 0s 4ms/step - loss: 8.7121 - val_loss: 21.7229\n",
      "Epoch 108/200\n",
      "12/12 [==============================] - 0s 4ms/step - loss: 8.7408 - val_loss: 22.2177\n",
      "Epoch 109/200\n",
      "12/12 [==============================] - 0s 3ms/step - loss: 8.8889 - val_loss: 21.5922\n",
      "Epoch 110/200\n",
      "12/12 [==============================] - 0s 3ms/step - loss: 8.4442 - val_loss: 21.7431\n",
      "Epoch 111/200\n",
      "12/12 [==============================] - 0s 4ms/step - loss: 8.6522 - val_loss: 21.8837\n",
      "Epoch 112/200\n",
      "12/12 [==============================] - 0s 5ms/step - loss: 8.8763 - val_loss: 20.9508\n",
      "Epoch 113/200\n",
      "12/12 [==============================] - 0s 6ms/step - loss: 8.4402 - val_loss: 22.3752\n",
      "Epoch 114/200\n",
      "12/12 [==============================] - 0s 5ms/step - loss: 8.5589 - val_loss: 21.7021\n",
      "Epoch 115/200\n",
      "12/12 [==============================] - 0s 5ms/step - loss: 8.4240 - val_loss: 21.3379\n",
      "Epoch 116/200\n",
      "12/12 [==============================] - 0s 5ms/step - loss: 8.6624 - val_loss: 21.5186\n",
      "Epoch 117/200\n",
      "12/12 [==============================] - 0s 6ms/step - loss: 8.3835 - val_loss: 21.1103\n",
      "Epoch 118/200\n",
      "12/12 [==============================] - 0s 4ms/step - loss: 8.5376 - val_loss: 21.4545\n",
      "Epoch 119/200\n",
      "12/12 [==============================] - 0s 4ms/step - loss: 8.4223 - val_loss: 20.8675\n",
      "Epoch 120/200\n",
      "12/12 [==============================] - 0s 3ms/step - loss: 8.5253 - val_loss: 21.5619\n",
      "Epoch 121/200\n",
      "12/12 [==============================] - 0s 3ms/step - loss: 8.3018 - val_loss: 21.4607\n",
      "Epoch 122/200\n",
      "12/12 [==============================] - 0s 3ms/step - loss: 8.5092 - val_loss: 21.1153\n",
      "Epoch 123/200\n",
      "12/12 [==============================] - 0s 4ms/step - loss: 8.2878 - val_loss: 21.2970\n",
      "Epoch 124/200\n",
      "12/12 [==============================] - 0s 4ms/step - loss: 8.3636 - val_loss: 21.3517\n",
      "Epoch 125/200\n",
      "12/12 [==============================] - 0s 5ms/step - loss: 7.9268 - val_loss: 20.2406\n",
      "Epoch 126/200\n",
      "12/12 [==============================] - 0s 5ms/step - loss: 8.2445 - val_loss: 20.0583\n",
      "Epoch 127/200\n",
      "12/12 [==============================] - 0s 4ms/step - loss: 8.1486 - val_loss: 20.9748\n",
      "Epoch 128/200\n",
      "12/12 [==============================] - 0s 4ms/step - loss: 8.1872 - val_loss: 20.6591\n",
      "Epoch 129/200\n",
      "12/12 [==============================] - 0s 3ms/step - loss: 8.1855 - val_loss: 20.9210\n",
      "Epoch 130/200\n",
      "12/12 [==============================] - 0s 3ms/step - loss: 8.0995 - val_loss: 21.1970\n",
      "Epoch 131/200\n",
      "12/12 [==============================] - 0s 4ms/step - loss: 7.9785 - val_loss: 20.7979\n",
      "Epoch 132/200\n",
      "12/12 [==============================] - 0s 4ms/step - loss: 8.0852 - val_loss: 20.9966\n",
      "Epoch 133/200\n",
      "12/12 [==============================] - 0s 3ms/step - loss: 7.9998 - val_loss: 20.9661\n",
      "Epoch 134/200\n",
      "12/12 [==============================] - 0s 4ms/step - loss: 7.9615 - val_loss: 20.8817\n",
      "Epoch 135/200\n",
      "12/12 [==============================] - 0s 5ms/step - loss: 7.6672 - val_loss: 20.5349\n",
      "Epoch 136/200\n",
      "12/12 [==============================] - 0s 4ms/step - loss: 7.8212 - val_loss: 20.6021\n",
      "Epoch 137/200\n",
      "12/12 [==============================] - 0s 3ms/step - loss: 7.7769 - val_loss: 20.6764\n",
      "Epoch 138/200\n",
      "12/12 [==============================] - 0s 3ms/step - loss: 7.5669 - val_loss: 20.3931\n",
      "Epoch 139/200\n",
      "12/12 [==============================] - 0s 3ms/step - loss: 7.8906 - val_loss: 20.8734\n",
      "Epoch 140/200\n",
      "12/12 [==============================] - 0s 5ms/step - loss: 7.6514 - val_loss: 20.7589\n",
      "Epoch 141/200\n",
      "12/12 [==============================] - 0s 4ms/step - loss: 7.8268 - val_loss: 20.4438\n",
      "Epoch 142/200\n",
      "12/12 [==============================] - 0s 4ms/step - loss: 7.7972 - val_loss: 20.7278\n",
      "Epoch 143/200\n",
      "12/12 [==============================] - 0s 5ms/step - loss: 7.4989 - val_loss: 20.0013\n",
      "Epoch 144/200\n",
      "12/12 [==============================] - 0s 3ms/step - loss: 7.6456 - val_loss: 20.3540\n",
      "Epoch 145/200\n",
      "12/12 [==============================] - 0s 3ms/step - loss: 7.5569 - val_loss: 20.1284\n",
      "Epoch 146/200\n",
      "12/12 [==============================] - 0s 4ms/step - loss: 7.5532 - val_loss: 20.1338\n",
      "Epoch 147/200\n",
      "12/12 [==============================] - 0s 3ms/step - loss: 7.4471 - val_loss: 20.5348\n",
      "Epoch 148/200\n",
      "12/12 [==============================] - 0s 3ms/step - loss: 7.3224 - val_loss: 20.0624\n",
      "Epoch 149/200\n",
      "12/12 [==============================] - 0s 3ms/step - loss: 7.5111 - val_loss: 19.6658\n",
      "Epoch 150/200\n",
      "12/12 [==============================] - 0s 4ms/step - loss: 7.4690 - val_loss: 20.2449\n",
      "Epoch 151/200\n",
      "12/12 [==============================] - 0s 4ms/step - loss: 7.2804 - val_loss: 19.8641\n",
      "Epoch 152/200\n",
      "12/12 [==============================] - 0s 3ms/step - loss: 7.2298 - val_loss: 20.3024\n",
      "Epoch 153/200\n",
      "12/12 [==============================] - 0s 3ms/step - loss: 7.6254 - val_loss: 20.3887\n",
      "Epoch 154/200\n",
      "12/12 [==============================] - 0s 3ms/step - loss: 7.3996 - val_loss: 20.5846\n",
      "Epoch 155/200\n",
      "12/12 [==============================] - 0s 4ms/step - loss: 7.4881 - val_loss: 20.1361\n",
      "Epoch 156/200\n",
      "12/12 [==============================] - 0s 4ms/step - loss: 7.3068 - val_loss: 19.8512\n",
      "Epoch 157/200\n",
      "12/12 [==============================] - 0s 4ms/step - loss: 7.3065 - val_loss: 20.4823\n",
      "Epoch 158/200\n",
      "12/12 [==============================] - 0s 3ms/step - loss: 7.4900 - val_loss: 20.0981\n",
      "Epoch 159/200\n",
      "12/12 [==============================] - 0s 3ms/step - loss: 7.2248 - val_loss: 20.3978\n",
      "Epoch 160/200\n",
      "12/12 [==============================] - 0s 4ms/step - loss: 7.4150 - val_loss: 20.0081\n",
      "Epoch 161/200\n"
     ]
    },
    {
     "name": "stdout",
     "output_type": "stream",
     "text": [
      "12/12 [==============================] - 0s 4ms/step - loss: 7.3541 - val_loss: 20.2894\n",
      "Epoch 162/200\n",
      "12/12 [==============================] - 0s 3ms/step - loss: 7.1489 - val_loss: 20.1237\n",
      "Epoch 163/200\n",
      "12/12 [==============================] - 0s 3ms/step - loss: 7.2092 - val_loss: 20.5487\n",
      "Epoch 164/200\n",
      "12/12 [==============================] - 0s 4ms/step - loss: 7.2479 - val_loss: 20.6063\n",
      "Epoch 165/200\n",
      "12/12 [==============================] - 0s 4ms/step - loss: 7.1267 - val_loss: 20.2709\n",
      "Epoch 166/200\n",
      "12/12 [==============================] - 0s 8ms/step - loss: 6.9358 - val_loss: 19.7580\n",
      "Epoch 167/200\n",
      "12/12 [==============================] - 0s 6ms/step - loss: 7.3303 - val_loss: 20.1915\n",
      "Epoch 168/200\n",
      "12/12 [==============================] - 0s 6ms/step - loss: 7.1268 - val_loss: 20.1077\n",
      "Epoch 169/200\n",
      "12/12 [==============================] - 0s 4ms/step - loss: 7.2091 - val_loss: 19.8226\n",
      "Epoch 170/200\n",
      "12/12 [==============================] - 0s 5ms/step - loss: 7.0569 - val_loss: 19.8748\n",
      "Epoch 171/200\n",
      "12/12 [==============================] - 0s 3ms/step - loss: 6.7849 - val_loss: 19.7598\n",
      "Epoch 172/200\n",
      "12/12 [==============================] - 0s 4ms/step - loss: 7.1221 - val_loss: 20.5094\n",
      "Epoch 173/200\n",
      "12/12 [==============================] - 0s 5ms/step - loss: 7.0208 - val_loss: 19.3805\n",
      "Epoch 174/200\n",
      "12/12 [==============================] - 0s 4ms/step - loss: 6.8172 - val_loss: 20.1057\n",
      "Epoch 175/200\n",
      "12/12 [==============================] - 0s 4ms/step - loss: 5.9754 - val_loss: 19.6759\n",
      "Epoch 176/200\n",
      "12/12 [==============================] - 0s 4ms/step - loss: 6.9916 - val_loss: 19.4642\n",
      "Epoch 177/200\n",
      "12/12 [==============================] - 0s 4ms/step - loss: 6.9451 - val_loss: 19.6704\n",
      "Epoch 178/200\n",
      "12/12 [==============================] - 0s 4ms/step - loss: 7.0658 - val_loss: 19.5011\n",
      "Epoch 179/200\n",
      "12/12 [==============================] - 0s 4ms/step - loss: 7.0112 - val_loss: 20.0834\n",
      "Epoch 180/200\n",
      "12/12 [==============================] - 0s 8ms/step - loss: 6.8992 - val_loss: 19.8406\n",
      "Epoch 181/200\n",
      "12/12 [==============================] - 0s 5ms/step - loss: 6.8906 - val_loss: 19.6749\n",
      "Epoch 182/200\n",
      "12/12 [==============================] - 0s 5ms/step - loss: 6.9460 - val_loss: 20.2753\n",
      "Epoch 183/200\n",
      "12/12 [==============================] - 0s 4ms/step - loss: 6.9785 - val_loss: 19.3161\n",
      "Epoch 184/200\n",
      "12/12 [==============================] - 0s 5ms/step - loss: 6.9477 - val_loss: 19.7418\n",
      "Epoch 185/200\n",
      "12/12 [==============================] - 0s 5ms/step - loss: 6.7494 - val_loss: 19.8139\n",
      "Epoch 186/200\n",
      "12/12 [==============================] - 0s 4ms/step - loss: 6.7315 - val_loss: 20.1539\n",
      "Epoch 187/200\n",
      "12/12 [==============================] - 0s 6ms/step - loss: 6.7528 - val_loss: 19.4463\n",
      "Epoch 188/200\n",
      "12/12 [==============================] - 0s 5ms/step - loss: 6.9410 - val_loss: 19.6075\n",
      "Epoch 189/200\n",
      "12/12 [==============================] - 0s 4ms/step - loss: 6.8331 - val_loss: 19.0689\n",
      "Epoch 190/200\n",
      "12/12 [==============================] - 0s 5ms/step - loss: 6.9202 - val_loss: 19.9159\n",
      "Epoch 191/200\n",
      "12/12 [==============================] - 0s 4ms/step - loss: 6.5259 - val_loss: 19.2282\n",
      "Epoch 192/200\n",
      "12/12 [==============================] - 0s 5ms/step - loss: 6.6013 - val_loss: 19.5125\n",
      "Epoch 193/200\n",
      "12/12 [==============================] - 0s 6ms/step - loss: 6.5457 - val_loss: 19.3554\n",
      "Epoch 194/200\n",
      "12/12 [==============================] - 0s 5ms/step - loss: 6.7083 - val_loss: 19.6212\n",
      "Epoch 195/200\n",
      "12/12 [==============================] - 0s 7ms/step - loss: 6.6986 - val_loss: 19.4585\n",
      "Epoch 196/200\n",
      "12/12 [==============================] - 0s 5ms/step - loss: 6.7965 - val_loss: 18.8358\n",
      "Epoch 197/200\n",
      "12/12 [==============================] - 0s 4ms/step - loss: 6.9916 - val_loss: 19.9115\n",
      "Epoch 198/200\n",
      "12/12 [==============================] - 0s 6ms/step - loss: 7.0288 - val_loss: 18.5184\n",
      "Epoch 199/200\n",
      "12/12 [==============================] - 0s 9ms/step - loss: 6.5803 - val_loss: 20.1003\n",
      "Epoch 200/200\n",
      "12/12 [==============================] - 0s 6ms/step - loss: 6.5983 - val_loss: 18.9611\n"
     ]
    }
   ],
   "source": [
    "# batch_size 는 train dataset을 만들때 batchs를 지정했기 때문에 따로 지정 안함. 왜냐면 배치사이즈는 한번에 데이터 몇개씩 검증할건지 이니까!\n",
    "hist = model.fit(train_dataset,\n",
    "                epochs=N_EPOCHS,\n",
    "                validation_data=test_dataset)  # Dataset을 이용할 경우 validation_split=비율 은 사용할 수 없다."
   ]
  },
  {
   "cell_type": "code",
   "execution_count": 57,
   "metadata": {},
   "outputs": [
    {
     "data": {
      "text/plain": [
       "4.123105625617661"
      ]
     },
     "execution_count": 57,
     "metadata": {},
     "output_type": "execute_result"
    }
   ],
   "source": [
    "np.sqrt(17)"
   ]
  },
  {
   "cell_type": "markdown",
   "metadata": {},
   "source": [
    "#### 결과 시각화"
   ]
  },
  {
   "cell_type": "code",
   "execution_count": 58,
   "metadata": {},
   "outputs": [],
   "source": [
    "import matplotlib.pyplot as plt"
   ]
  },
  {
   "cell_type": "code",
   "execution_count": 59,
   "metadata": {},
   "outputs": [
    {
     "name": "stdout",
     "output_type": "stream",
     "text": [
      "<class 'dict'>\n"
     ]
    },
    {
     "data": {
      "text/plain": [
       "dict_keys(['loss', 'val_loss'])"
      ]
     },
     "execution_count": 59,
     "metadata": {},
     "output_type": "execute_result"
    }
   ],
   "source": [
    "print(type(hist.history))\n",
    "hist.history.keys()"
   ]
  },
  {
   "cell_type": "code",
   "execution_count": 60,
   "metadata": {},
   "outputs": [
    {
     "data": {
      "text/plain": [
       "[594.0576782226562,\n",
       " 581.0176391601562,\n",
       " 575.4075317382812,\n",
       " 567.8314819335938,\n",
       " 552.8268432617188,\n",
       " 555.4158935546875,\n",
       " 538.6273193359375,\n",
       " 514.7724609375,\n",
       " 470.489013671875,\n",
       " 422.1372375488281,\n",
       " 360.6337585449219,\n",
       " 284.6968994140625,\n",
       " 204.08705139160156,\n",
       " 142.2231903076172,\n",
       " 105.09069061279297,\n",
       " 89.72541046142578,\n",
       " 75.47278594970703,\n",
       " 64.26399230957031,\n",
       " 53.49163818359375,\n",
       " 46.185150146484375,\n",
       " 37.037479400634766,\n",
       " 35.00881576538086,\n",
       " 28.09619140625,\n",
       " 27.517356872558594,\n",
       " 25.78668212890625,\n",
       " 23.84322166442871,\n",
       " 23.12257194519043,\n",
       " 21.551179885864258,\n",
       " 20.78774070739746,\n",
       " 20.368349075317383,\n",
       " 19.24089241027832,\n",
       " 18.678115844726562,\n",
       " 18.168195724487305,\n",
       " 17.302919387817383,\n",
       " 16.314390182495117,\n",
       " 16.774015426635742,\n",
       " 16.051389694213867,\n",
       " 15.504734992980957,\n",
       " 14.555865287780762,\n",
       " 14.399906158447266,\n",
       " 15.217681884765625,\n",
       " 14.781233787536621,\n",
       " 13.972264289855957,\n",
       " 14.33287525177002,\n",
       " 13.840282440185547,\n",
       " 12.940608978271484,\n",
       " 13.513130187988281,\n",
       " 13.4188814163208,\n",
       " 12.922039985656738,\n",
       " 12.985241889953613,\n",
       " 12.69506549835205,\n",
       " 12.491124153137207,\n",
       " 12.387115478515625,\n",
       " 11.814238548278809,\n",
       " 12.117115020751953,\n",
       " 12.066825866699219,\n",
       " 11.938835144042969,\n",
       " 11.804289817810059,\n",
       " 11.381065368652344,\n",
       " 11.518366813659668,\n",
       " 9.893952369689941,\n",
       " 11.543011665344238,\n",
       " 11.26517105102539,\n",
       " 11.392487525939941,\n",
       " 11.04440689086914,\n",
       " 10.98572826385498,\n",
       " 10.82154369354248,\n",
       " 10.96115493774414,\n",
       " 10.731919288635254,\n",
       " 10.75852108001709,\n",
       " 10.458941459655762,\n",
       " 10.395906448364258,\n",
       " 10.4649076461792,\n",
       " 10.076308250427246,\n",
       " 10.136226654052734,\n",
       " 8.799235343933105,\n",
       " 9.639860153198242,\n",
       " 9.645662307739258,\n",
       " 10.06064510345459,\n",
       " 9.781521797180176,\n",
       " 9.89588451385498,\n",
       " 9.88302993774414,\n",
       " 9.797844886779785,\n",
       " 9.506974220275879,\n",
       " 8.738862037658691,\n",
       " 9.694258689880371,\n",
       " 9.612143516540527,\n",
       " 9.008953094482422,\n",
       " 9.086909294128418,\n",
       " 9.482767105102539,\n",
       " 8.921897888183594,\n",
       " 9.385290145874023,\n",
       " 9.41582202911377,\n",
       " 9.327651023864746,\n",
       " 7.862762928009033,\n",
       " 9.144607543945312,\n",
       " 9.056678771972656,\n",
       " 8.771058082580566,\n",
       " 9.197230339050293,\n",
       " 8.610580444335938,\n",
       " 9.047770500183105,\n",
       " 7.347890377044678,\n",
       " 8.996061325073242,\n",
       " 7.689506530761719,\n",
       " 7.651805877685547,\n",
       " 8.923626899719238,\n",
       " 8.712109565734863,\n",
       " 8.740782737731934,\n",
       " 8.888851165771484,\n",
       " 8.444184303283691,\n",
       " 8.652183532714844,\n",
       " 8.876265525817871,\n",
       " 8.44021224975586,\n",
       " 8.558887481689453,\n",
       " 8.423998832702637,\n",
       " 8.662386894226074,\n",
       " 8.383458137512207,\n",
       " 8.537601470947266,\n",
       " 8.422318458557129,\n",
       " 8.525333404541016,\n",
       " 8.301814079284668,\n",
       " 8.509200096130371,\n",
       " 8.28781509399414,\n",
       " 8.363588333129883,\n",
       " 7.92681884765625,\n",
       " 8.244505882263184,\n",
       " 8.14863109588623,\n",
       " 8.187225341796875,\n",
       " 8.185479164123535,\n",
       " 8.099522590637207,\n",
       " 7.978450298309326,\n",
       " 8.08520793914795,\n",
       " 7.999800205230713,\n",
       " 7.961514949798584,\n",
       " 7.667194843292236,\n",
       " 7.821178913116455,\n",
       " 7.77685546875,\n",
       " 7.566902160644531,\n",
       " 7.890563488006592,\n",
       " 7.651426315307617,\n",
       " 7.82677698135376,\n",
       " 7.79718542098999,\n",
       " 7.4988789558410645,\n",
       " 7.6456122398376465,\n",
       " 7.55693244934082,\n",
       " 7.553249835968018,\n",
       " 7.44707727432251,\n",
       " 7.322434902191162,\n",
       " 7.511134624481201,\n",
       " 7.469027996063232,\n",
       " 7.280374526977539,\n",
       " 7.229837417602539,\n",
       " 7.625406742095947,\n",
       " 7.399594783782959,\n",
       " 7.4881134033203125,\n",
       " 7.30681037902832,\n",
       " 7.306457996368408,\n",
       " 7.4900054931640625,\n",
       " 7.2248215675354,\n",
       " 7.414963245391846,\n",
       " 7.354069232940674,\n",
       " 7.14892578125,\n",
       " 7.209168910980225,\n",
       " 7.247879505157471,\n",
       " 7.126671314239502,\n",
       " 6.935819149017334,\n",
       " 7.330292224884033,\n",
       " 7.126811981201172,\n",
       " 7.209064483642578,\n",
       " 7.056940078735352,\n",
       " 6.784945011138916,\n",
       " 7.122093200683594,\n",
       " 7.020780086517334,\n",
       " 6.817216396331787,\n",
       " 5.975423336029053,\n",
       " 6.991591930389404,\n",
       " 6.945087909698486,\n",
       " 7.065810680389404,\n",
       " 7.01121711730957,\n",
       " 6.899238109588623,\n",
       " 6.890625,\n",
       " 6.945983409881592,\n",
       " 6.978526592254639,\n",
       " 6.947683811187744,\n",
       " 6.749353885650635,\n",
       " 6.7315192222595215,\n",
       " 6.752754211425781,\n",
       " 6.940950393676758,\n",
       " 6.833084583282471,\n",
       " 6.920175552368164,\n",
       " 6.525915622711182,\n",
       " 6.601322174072266,\n",
       " 6.545687198638916,\n",
       " 6.708272933959961,\n",
       " 6.6986260414123535,\n",
       " 6.796531677246094,\n",
       " 6.991577625274658,\n",
       " 7.028781890869141,\n",
       " 6.580302715301514,\n",
       " 6.598291873931885]"
      ]
     },
     "execution_count": 60,
     "metadata": {},
     "output_type": "execute_result"
    }
   ],
   "source": [
    "hist.history['loss']"
   ]
  },
  {
   "cell_type": "code",
   "execution_count": 61,
   "metadata": {},
   "outputs": [
    {
     "data": {
      "image/png": "[encoded data removed]",
      "text/plain": [
       "<Figure size 576x432 with 1 Axes>"
      ]
     },
     "metadata": {
      "needs_background": "light"
     },
     "output_type": "display_data"
    }
   ],
   "source": [
    "plt.figure(figsize=(8,6))\n",
    "plt.plot(range(1,N_EPOCHS+1), hist.history['loss'], label='Train Loss')\n",
    "plt.plot(range(1,N_EPOCHS+1), hist.history['val_loss'], label='Validation Loss')\n",
    "plt.xlabel(\"Eplchs\")\n",
    "plt.ylabel('Loss')\n",
    "plt.legend()\n",
    "plt.show()"
   ]
  },
  {
   "cell_type": "markdown",
   "metadata": {},
   "source": [
    "#### 최종테스트"
   ]
  },
  {
   "cell_type": "code",
   "execution_count": 62,
   "metadata": {},
   "outputs": [
    {
     "name": "stdout",
     "output_type": "stream",
     "text": [
      "4/4 [==============================] - 0s 2ms/step - loss: 18.9611\n",
      "18.961076736450195 4.354431850017887\n"
     ]
    }
   ],
   "source": [
    "loss = model.evaluate(test_dataset)\n",
    "print(loss, np.sqrt(loss))"
   ]
  },
  {
   "cell_type": "markdown",
   "metadata": {},
   "source": [
    "#### 추론"
   ]
  },
  {
   "cell_type": "code",
   "execution_count": 63,
   "metadata": {},
   "outputs": [],
   "source": [
    "new_data = X_test[:5]\n",
    "pred = model.predict(new_data)"
   ]
  },
  {
   "cell_type": "code",
   "execution_count": 64,
   "metadata": {},
   "outputs": [
    {
     "data": {
      "text/plain": [
       "array([[ 7.948782],\n",
       "       [18.594095],\n",
       "       [21.37749 ],\n",
       "       [33.92717 ],\n",
       "       [23.974976]], dtype=float32)"
      ]
     },
     "execution_count": 64,
     "metadata": {},
     "output_type": "execute_result"
    }
   ],
   "source": [
    "pred"
   ]
  },
  {
   "cell_type": "markdown",
   "metadata": {},
   "source": [
    "## 2. Classification\n",
    "\n",
    "### Fashion MNIST(MNIST) Dataset - 다중분류"
   ]
  },
  {
   "cell_type": "markdown",
   "metadata": {},
   "source": [
    "10개의 범주(category)와 70,000개의 흑백 이미지로 구성된 [패션 MNIST](https://github.com/zalandoresearch/fashion-mnist) 데이터셋. \n",
    "이미지는 해상도(28x28 픽셀)가 낮고 다음처럼 개별 의류 품목을 나타낸다:\n",
    "\n",
    "<table>\n",
    "  <tr><td>\n",
    "    <img src=\"https://tensorflow.org/images/fashion-mnist-sprite.png\"\n",
    "         alt=\"Fashion MNIST sprite\"  width=\"600\">\n",
    "  </td></tr>\n",
    "  <tr><td align=\"center\">\n",
    "    <b>그림</b> <a href=\"https://github.com/zalandoresearch/fashion-mnist\">패션-MNIST 샘플</a> (Zalando, MIT License).<br/>&nbsp;\n",
    "  </td></tr>\n",
    "</table>\n",
    "\n",
    "패션 MNIST와 손글씨 MNIST는  비교적 작기 때문에 알고리즘의 작동 여부를 확인하기 위해 사용되곤 하며 코드를 테스트하고 디버깅하는 용도로 좋다."
   ]
  },
  {
   "cell_type": "markdown",
   "metadata": {},
   "source": [
    "이미지는 28x28 크기의 넘파이 배열이고 픽셀 값은 0과 255 사이이다. *레이블*(label)은 0에서 9까지의 정수 배열이다. 아래 표는 이미지에 있는 의류의 **클래스**(class)를 나낸다.\n",
    "\n",
    "<table>\n",
    "  <tr>\n",
    "    <th>레이블</th>\n",
    "    <th>클래스</th>\n",
    "  </tr>\n",
    "  <tr>\n",
    "    <td>0</td>\n",
    "    <td>T-shirt/top</td>\n",
    "  </tr>\n",
    "  <tr>\n",
    "    <td>1</td>\n",
    "    <td>Trousers</td>\n",
    "  </tr>\n",
    "    <tr>\n",
    "    <td>2</td>\n",
    "    <td>Pullover</td>\n",
    "  </tr>\n",
    "    <tr>\n",
    "    <td>3</td>\n",
    "    <td>Dress</td>\n",
    "  </tr>\n",
    "    <tr>\n",
    "    <td>4</td>\n",
    "    <td>Coat</td>\n",
    "  </tr>\n",
    "    <tr>\n",
    "    <td>5</td>\n",
    "    <td>Sandal</td>\n",
    "  </tr>\n",
    "    <tr>\n",
    "    <td>6</td>\n",
    "    <td>Shirt</td>\n",
    "  </tr>\n",
    "    <tr>\n",
    "    <td>7</td>\n",
    "    <td>Sneaker</td>\n",
    "  </tr>\n",
    "    <tr>\n",
    "    <td>8</td>\n",
    "    <td>Bag</td>\n",
    "  </tr>\n",
    "    <tr>\n",
    "    <td>9</td>\n",
    "    <td>Ankle boot</td>\n",
    "  </tr>\n",
    "</table>\n",
    "\n",
    "각 이미지는 하나의 레이블에 매핑되어 있다. 데이터셋에 클래스 이름이 들어있지 않기 때문에 나중에 이미지를 출력할 때 사용하기 위해 별도의 변수를 만들어 저장한다."
   ]
  },
  {
   "cell_type": "code",
   "execution_count": 66,
   "metadata": {},
   "outputs": [],
   "source": [
    "import numpy as np\n",
    "import tensorflow as tf\n",
    "from tensorflow import keras\n",
    "from tensorflow.keras import layers\n",
    "import matplotlib.pyplot as plt\n",
    "\n",
    "np.random.seed(0)\n",
    "tf.random.set_seed(0)"
   ]
  },
  {
   "cell_type": "code",
   "execution_count": 77,
   "metadata": {
    "ExecuteTime": {
     "end_time": "2021-04-14T09:13:37.059205Z",
     "start_time": "2021-04-14T09:13:37.050854Z"
    }
   },
   "outputs": [],
   "source": [
    "class_names = ['T-shirt/top', 'Trousers', 'Pullover', 'Dress', 'Coat', 'Sandal', 'Shirt', 'Sneaker', 'Bag', 'Ankle boot']"
   ]
  },
  {
   "cell_type": "markdown",
   "metadata": {},
   "source": [
    "#### data 로딩"
   ]
  },
  {
   "cell_type": "code",
   "execution_count": 67,
   "metadata": {},
   "outputs": [
    {
     "name": "stdout",
     "output_type": "stream",
     "text": [
      "Downloading data from https://storage.googleapis.com/tensorflow/tf-keras-datasets/train-labels-idx1-ubyte.gz\n",
      "32768/29515 [=================================] - 0s 0us/step\n",
      "Downloading data from https://storage.googleapis.com/tensorflow/tf-keras-datasets/train-images-idx3-ubyte.gz\n",
      "26427392/26421880 [==============================] - 2s 0us/step\n",
      "Downloading data from https://storage.googleapis.com/tensorflow/tf-keras-datasets/t10k-labels-idx1-ubyte.gz\n",
      "8192/5148 [===============================================] - 0s 0us/step\n",
      "Downloading data from https://storage.googleapis.com/tensorflow/tf-keras-datasets/t10k-images-idx3-ubyte.gz\n",
      "4423680/4422102 [==============================] - 0s 0us/step\n"
     ]
    }
   ],
   "source": [
    "(train_image, train_label), (test_image, test_label) = keras.datasets.fashion_mnist.load_data()"
   ]
  },
  {
   "cell_type": "code",
   "execution_count": 68,
   "metadata": {},
   "outputs": [
    {
     "name": "stdout",
     "output_type": "stream",
     "text": [
      "(60000, 28, 28) (10000, 28, 28)\n",
      "(60000,) (10000,)\n"
     ]
    }
   ],
   "source": [
    "# 데이터 shape\n",
    "print(train_image.shape, test_image.shape)\n",
    "print(train_label.shape, test_label.shape)"
   ]
  },
  {
   "cell_type": "code",
   "execution_count": 69,
   "metadata": {},
   "outputs": [
    {
     "data": {
      "text/plain": [
       "(array([0, 1, 2, 3, 4, 5, 6, 7, 8, 9], dtype=uint8),\n",
       " array([6000, 6000, 6000, 6000, 6000, 6000, 6000, 6000, 6000, 6000],\n",
       "       dtype=int64))"
      ]
     },
     "execution_count": 69,
     "metadata": {},
     "output_type": "execute_result"
    }
   ],
   "source": [
    "# class별 데이터 개수\n",
    "# train\n",
    "np.unique(train_label, return_counts=True)"
   ]
  },
  {
   "cell_type": "code",
   "execution_count": 70,
   "metadata": {},
   "outputs": [
    {
     "data": {
      "text/plain": [
       "(array([0, 1, 2, 3, 4, 5, 6, 7, 8, 9], dtype=uint8),\n",
       " array([1000, 1000, 1000, 1000, 1000, 1000, 1000, 1000, 1000, 1000],\n",
       "       dtype=int64))"
      ]
     },
     "execution_count": 70,
     "metadata": {},
     "output_type": "execute_result"
    }
   ],
   "source": [
    "# test\n",
    "np.unique(test_label, return_counts=True)"
   ]
  },
  {
   "cell_type": "code",
   "execution_count": 71,
   "metadata": {},
   "outputs": [],
   "source": [
    "# validata set\n",
    "from sklearn.model_selection import train_test_split\n",
    "train_image, val_image, train_label, val_label = train_test_split(train_image, train_label, test_size=0.2, stratify=train_label, random_state=0)"
   ]
  },
  {
   "cell_type": "code",
   "execution_count": 72,
   "metadata": {},
   "outputs": [
    {
     "name": "stdout",
     "output_type": "stream",
     "text": [
      "(48000, 28, 28) (12000, 28, 28)\n"
     ]
    },
    {
     "data": {
      "text/plain": [
       "(array([0, 1, 2, 3, 4, 5, 6, 7, 8, 9], dtype=uint8),\n",
       " array([4800, 4800, 4800, 4800, 4800, 4800, 4800, 4800, 4800, 4800],\n",
       "       dtype=int64))"
      ]
     },
     "execution_count": 72,
     "metadata": {},
     "output_type": "execute_result"
    }
   ],
   "source": [
    "print(train_image.shape, val_image.shape)\n",
    "np.unique(train_label, return_counts=True)"
   ]
  },
  {
   "cell_type": "code",
   "execution_count": 73,
   "metadata": {},
   "outputs": [],
   "source": [
    "# train_image, val_image, test_image : X\n",
    "# train_label, val_label, test_label : y"
   ]
  },
  {
   "cell_type": "markdown",
   "metadata": {},
   "source": [
    "#### 이미지 확인"
   ]
  },
  {
   "cell_type": "code",
   "execution_count": 80,
   "metadata": {},
   "outputs": [
    {
     "data": {
      "text/plain": [
       "(6, 'Shirt')"
      ]
     },
     "execution_count": 80,
     "metadata": {},
     "output_type": "execute_result"
    }
   ],
   "source": [
    "train_label[0], class_names[train_label[0]]"
   ]
  },
  {
   "cell_type": "code",
   "execution_count": 82,
   "metadata": {},
   "outputs": [
    {
     "data": {
      "image/png": "[encoded data removed]",
      "text/plain": [
       "<Figure size 1440x360 with 5 Axes>"
      ]
     },
     "metadata": {
      "needs_background": "light"
     },
     "output_type": "display_data"
    }
   ],
   "source": [
    "plt.figure(figsize=(20,5))\n",
    "for i in range(5):\n",
    "    plt.subplot(1, 5, i+1)\n",
    "    plt.imshow(train_image[i], cmap='gray')\n",
    "    plt.title(f\"{train_label[i]}. {class_names[train_label[i]]}\")\n",
    "    plt.axis('off')\n",
    "    \n",
    "plt.tight_layout()\n",
    "plt.show()"
   ]
  },
  {
   "cell_type": "markdown",
   "metadata": {},
   "source": [
    "#### 하이퍼파라미터, 변수설정"
   ]
  },
  {
   "cell_type": "code",
   "execution_count": 94,
   "metadata": {},
   "outputs": [],
   "source": [
    "LEARNING_RATE = 0.001\n",
    "N_EPOCHS = 100\n",
    "N_BATCHS = 100\n",
    "\n",
    "N_TRAIN = train_image.shape[0]\n",
    "N_VAL = val_image.shape[0]\n",
    "N_TEST = test_image.shape[0]"
   ]
  },
  {
   "cell_type": "markdown",
   "metadata": {},
   "source": [
    "#### x,  y값 처리\n",
    "- y값 처리\n",
    "    - 다중 분류에서 label encoding형식의 label을 one hot encoding 처리"
   ]
  },
  {
   "cell_type": "code",
   "execution_count": 84,
   "metadata": {},
   "outputs": [
    {
     "name": "stdout",
     "output_type": "stream",
     "text": [
      "(48000, 10) (12000, 10) (10000, 10)\n"
     ]
    }
   ],
   "source": [
    "y_train = keras.utils.to_categorical(train_label)\n",
    "y_val = keras.utils.to_categorical(val_label)\n",
    "y_test = keras.utils.to_categorical(test_label)\n",
    "print(y_train.shape, y_val.shape, y_test.shape)"
   ]
  },
  {
   "cell_type": "code",
   "execution_count": 86,
   "metadata": {},
   "outputs": [
    {
     "data": {
      "text/plain": [
       "array([[0., 0., 0., 0., 0., 0., 1., 0., 0., 0.],\n",
       "       [0., 0., 0., 0., 0., 1., 0., 0., 0., 0.],\n",
       "       [1., 0., 0., 0., 0., 0., 0., 0., 0., 0.]], dtype=float32)"
      ]
     },
     "execution_count": 86,
     "metadata": {},
     "output_type": "execute_result"
    }
   ],
   "source": [
    "# 위에 그림보면 셔츠는 6번 > index 7이라서 밑에 첫째줄에 1이고.. 다른사진들 다같은원리임.\n",
    "y_train[:3]"
   ]
  },
  {
   "cell_type": "markdown",
   "metadata": {},
   "source": [
    "- x값(이미지) 처리\n",
    "    - 이미지데이터 전처리 : 0 ~ 1 정규화. X/255.0 => Dataset 생성에서 처리"
   ]
  },
  {
   "cell_type": "code",
   "execution_count": 88,
   "metadata": {},
   "outputs": [],
   "source": [
    "# X의 타입을 uint8 -> float32 변환\n",
    "X_train = train_image.astype(np.float32)\n",
    "X_val = val_image.astype(np.float32)\n",
    "X_test = test_image.astype(np.float32)"
   ]
  },
  {
   "cell_type": "code",
   "execution_count": 90,
   "metadata": {},
   "outputs": [],
   "source": [
    "# X_train = (train_image/255.0).astype(np.float32)\n",
    "# X_val = (val_image/255.0).astype(np.float32)\n",
    "# X_test = (test_image/255.0).astype(np.float32)"
   ]
  },
  {
   "cell_type": "markdown",
   "metadata": {},
   "source": [
    "#### Dataset 생성\n",
    "    - 데이터입력 파이프라인"
   ]
  },
  {
   "cell_type": "code",
   "execution_count": 95,
   "metadata": {},
   "outputs": [],
   "source": [
    "train_dataset = tf.data.Dataset.from_tensor_slices((X_train, y_train))\\\n",
    "        .map(lambda x,y : (x/255, y))\\\n",
    "        .shuffle(N_TRAIN)\\\n",
    "        .batch(N_BATCHS, drop_remainder=True)\n",
    "\n",
    "val_dataset = tf.data.Dataset.from_tensor_slices((X_val, y_val)).map(lambda x,y:(x/255, y)).batch(N_BATCHS)\n",
    "test_dataset = tf.data.Dataset.from_tensor_slices((X_test, y_test)).map(lambda x,y:(x/255, y)).batch(N_BATCHS)"
   ]
  },
  {
   "cell_type": "markdown",
   "metadata": {},
   "source": [
    "#### 모델 생성 및 컴파일"
   ]
  },
  {
   "cell_type": "code",
   "execution_count": 96,
   "metadata": {},
   "outputs": [],
   "source": [
    "# 모델 생성 함수\n",
    "def create_mnist_model():\n",
    "    model = keras.Sequential()\n",
    "    model.add(layers.Flatten(input_shape=(28,28)))\n",
    "    model.add(layers.Dense(units=256, activation='relu'))\n",
    "    model.add(layers.Dense(units=128, activation='relu'))\n",
    "    model.add(layers.Dense(units=64, activation='relu'))\n",
    "    # 출력 레이어: 다중분류 - unit개수 : class개수, activation 함수 : softmax\n",
    "    model.add(layers.Dense(units=10, activation='softmax'))\n",
    "    \n",
    "    return model"
   ]
  },
  {
   "cell_type": "code",
   "execution_count": 113,
   "metadata": {},
   "outputs": [],
   "source": [
    "# 모델 생성 및 컴파일\n",
    "model = create_mnist_model()\n",
    "model.compile(optimizer=keras.optimizers.Adam(learning_rate=LEARNING_RATE),\n",
    "             loss='categorical_crossentropy',  # 다중분류 loss:categorical_crossentropy\n",
    "             metrics=['accuracy'])   # 분류 : metrics(평가지표)로 accuracy를 추가. "
   ]
  },
  {
   "cell_type": "code",
   "execution_count": 114,
   "metadata": {},
   "outputs": [
    {
     "name": "stdout",
     "output_type": "stream",
     "text": [
      "Model: \"sequential_3\"\n",
      "_________________________________________________________________\n",
      "Layer (type)                 Output Shape              Param #   \n",
      "=================================================================\n",
      "flatten_1 (Flatten)          (None, 784)               0         \n",
      "_________________________________________________________________\n",
      "dense_12 (Dense)             (None, 256)               200960    \n",
      "_________________________________________________________________\n",
      "dense_13 (Dense)             (None, 128)               32896     \n",
      "_________________________________________________________________\n",
      "dense_14 (Dense)             (None, 64)                8256      \n",
      "_________________________________________________________________\n",
      "dense_15 (Dense)             (None, 10)                650       \n",
      "=================================================================\n",
      "Total params: 242,762\n",
      "Trainable params: 242,762\n",
      "Non-trainable params: 0\n",
      "_________________________________________________________________\n"
     ]
    }
   ],
   "source": [
    "model.summary()"
   ]
  },
  {
   "cell_type": "code",
   "execution_count": 115,
   "metadata": {},
   "outputs": [
    {
     "data": {
      "image/png": "[encoded data removed]",
      "text/plain": [
       "<IPython.core.display.Image object>"
      ]
     },
     "execution_count": 115,
     "metadata": {},
     "output_type": "execute_result"
    }
   ],
   "source": [
    "keras.utils.plot_model(model, show_shapes=True, to_file='fashion_mnist_model.png')"
   ]
  },
  {
   "cell_type": "markdown",
   "metadata": {},
   "source": [
    "Train"
   ]
  },
  {
   "cell_type": "code",
   "execution_count": 116,
   "metadata": {},
   "outputs": [
    {
     "name": "stdout",
     "output_type": "stream",
     "text": [
      "Epoch 1/100\n",
      "480/480 [==============================] - 5s 7ms/step - loss: 1.0557 - accuracy: 0.6204 - val_loss: 0.7626 - val_accuracy: 0.7253\n",
      "Epoch 2/100\n",
      "480/480 [==============================] - 5s 8ms/step - loss: 0.6806 - accuracy: 0.7516 - val_loss: 0.6402 - val_accuracy: 0.7627\n",
      "Epoch 3/100\n",
      "480/480 [==============================] - 5s 7ms/step - loss: 0.5997 - accuracy: 0.7817 - val_loss: 0.5891 - val_accuracy: 0.7832\n",
      "Epoch 4/100\n",
      "480/480 [==============================] - 5s 7ms/step - loss: 0.5392 - accuracy: 0.8050 - val_loss: 0.5327 - val_accuracy: 0.8045\n",
      "Epoch 5/100\n",
      "480/480 [==============================] - 5s 9ms/step - loss: 0.5007 - accuracy: 0.8202 - val_loss: 0.4972 - val_accuracy: 0.8201\n",
      "Epoch 6/100\n",
      "480/480 [==============================] - 6s 9ms/step - loss: 0.4757 - accuracy: 0.8299 - val_loss: 0.4749 - val_accuracy: 0.8254\n",
      "Epoch 7/100\n",
      "480/480 [==============================] - 6s 8ms/step - loss: 0.4538 - accuracy: 0.8365 - val_loss: 0.4571 - val_accuracy: 0.8351\n",
      "Epoch 8/100\n",
      "480/480 [==============================] - 5s 8ms/step - loss: 0.4380 - accuracy: 0.8429 - val_loss: 0.4431 - val_accuracy: 0.8382\n",
      "Epoch 9/100\n",
      "480/480 [==============================] - 9s 14ms/step - loss: 0.4232 - accuracy: 0.8485 - val_loss: 0.4298 - val_accuracy: 0.8442\n",
      "Epoch 10/100\n",
      "480/480 [==============================] - 7s 11ms/step - loss: 0.4117 - accuracy: 0.8511 - val_loss: 0.4179 - val_accuracy: 0.8437\n",
      "Epoch 11/100\n",
      "480/480 [==============================] - 5s 8ms/step - loss: 0.3999 - accuracy: 0.8566 - val_loss: 0.4294 - val_accuracy: 0.8416\n",
      "Epoch 12/100\n",
      "480/480 [==============================] - 5s 7ms/step - loss: 0.3884 - accuracy: 0.8600 - val_loss: 0.4066 - val_accuracy: 0.8508\n",
      "Epoch 13/100\n",
      "480/480 [==============================] - 7s 12ms/step - loss: 0.3809 - accuracy: 0.8606 - val_loss: 0.3980 - val_accuracy: 0.8536\n",
      "Epoch 14/100\n",
      "480/480 [==============================] - 8s 12ms/step - loss: 0.3716 - accuracy: 0.8646 - val_loss: 0.3860 - val_accuracy: 0.8581\n",
      "Epoch 15/100\n",
      "480/480 [==============================] - 6s 9ms/step - loss: 0.3639 - accuracy: 0.8674 - val_loss: 0.3851 - val_accuracy: 0.8572\n",
      "Epoch 16/100\n",
      "480/480 [==============================] - 5s 7ms/step - loss: 0.3538 - accuracy: 0.8711 - val_loss: 0.3918 - val_accuracy: 0.8534\n",
      "Epoch 17/100\n",
      "480/480 [==============================] - 4s 7ms/step - loss: 0.3473 - accuracy: 0.8730 - val_loss: 0.3700 - val_accuracy: 0.8619\n",
      "Epoch 18/100\n",
      "480/480 [==============================] - 4s 6ms/step - loss: 0.3407 - accuracy: 0.8764 - val_loss: 0.3671 - val_accuracy: 0.8653\n",
      "Epoch 19/100\n",
      "480/480 [==============================] - 5s 7ms/step - loss: 0.3326 - accuracy: 0.8786 - val_loss: 0.3622 - val_accuracy: 0.8667\n",
      "Epoch 20/100\n",
      "480/480 [==============================] - 5s 8ms/step - loss: 0.3274 - accuracy: 0.8812 - val_loss: 0.3705 - val_accuracy: 0.8625\n",
      "Epoch 21/100\n",
      "480/480 [==============================] - 4s 7ms/step - loss: 0.3214 - accuracy: 0.8824 - val_loss: 0.3499 - val_accuracy: 0.8714\n",
      "Epoch 22/100\n",
      "480/480 [==============================] - 5s 7ms/step - loss: 0.3157 - accuracy: 0.8849 - val_loss: 0.3575 - val_accuracy: 0.8684\n",
      "Epoch 23/100\n",
      "480/480 [==============================] - 4s 7ms/step - loss: 0.3119 - accuracy: 0.8865 - val_loss: 0.3467 - val_accuracy: 0.8708\n",
      "Epoch 24/100\n",
      "480/480 [==============================] - 4s 7ms/step - loss: 0.3054 - accuracy: 0.8888 - val_loss: 0.3348 - val_accuracy: 0.8758\n",
      "Epoch 25/100\n",
      "480/480 [==============================] - 4s 7ms/step - loss: 0.3005 - accuracy: 0.8899 - val_loss: 0.3313 - val_accuracy: 0.8782\n",
      "Epoch 26/100\n",
      "480/480 [==============================] - 5s 8ms/step - loss: 0.2936 - accuracy: 0.8935 - val_loss: 0.3340 - val_accuracy: 0.8781\n",
      "Epoch 27/100\n",
      "480/480 [==============================] - 5s 9ms/step - loss: 0.2922 - accuracy: 0.8941 - val_loss: 0.3239 - val_accuracy: 0.8830\n",
      "Epoch 28/100\n",
      "480/480 [==============================] - 4s 7ms/step - loss: 0.2863 - accuracy: 0.8943 - val_loss: 0.3292 - val_accuracy: 0.8789\n",
      "Epoch 29/100\n",
      "480/480 [==============================] - 5s 7ms/step - loss: 0.2812 - accuracy: 0.8967 - val_loss: 0.3414 - val_accuracy: 0.8734\n",
      "Epoch 30/100\n",
      "480/480 [==============================] - 4s 6ms/step - loss: 0.2786 - accuracy: 0.8972 - val_loss: 0.3369 - val_accuracy: 0.8767\n",
      "Epoch 31/100\n",
      "480/480 [==============================] - 4s 7ms/step - loss: 0.2747 - accuracy: 0.8997 - val_loss: 0.3276 - val_accuracy: 0.8796\n",
      "Epoch 32/100\n",
      "480/480 [==============================] - 4s 7ms/step - loss: 0.2712 - accuracy: 0.8999 - val_loss: 0.3286 - val_accuracy: 0.8813\n",
      "Epoch 33/100\n",
      "480/480 [==============================] - 6s 10ms/step - loss: 0.2680 - accuracy: 0.9006 - val_loss: 0.3212 - val_accuracy: 0.8826\n",
      "Epoch 34/100\n",
      "480/480 [==============================] - 10s 17ms/step - loss: 0.2602 - accuracy: 0.9040 - val_loss: 0.3359 - val_accuracy: 0.8770\n",
      "Epoch 35/100\n",
      "480/480 [==============================] - 10s 14ms/step - loss: 0.2617 - accuracy: 0.9027 - val_loss: 0.3172 - val_accuracy: 0.8837\n",
      "Epoch 36/100\n",
      "480/480 [==============================] - 9s 15ms/step - loss: 0.2549 - accuracy: 0.9060 - val_loss: 0.3109 - val_accuracy: 0.8870\n",
      "Epoch 37/100\n",
      "480/480 [==============================] - 7s 11ms/step - loss: 0.2516 - accuracy: 0.9076 - val_loss: 0.3093 - val_accuracy: 0.8872\n",
      "Epoch 38/100\n",
      "480/480 [==============================] - 6s 10ms/step - loss: 0.2489 - accuracy: 0.9087 - val_loss: 0.3143 - val_accuracy: 0.8863\n",
      "Epoch 39/100\n",
      "480/480 [==============================] - 8s 14ms/step - loss: 0.2455 - accuracy: 0.9093 - val_loss: 0.3113 - val_accuracy: 0.8865- loss:\n",
      "Epoch 40/100\n",
      "480/480 [==============================] - 5s 8ms/step - loss: 0.2416 - accuracy: 0.9109 - val_loss: 0.3158 - val_accuracy: 0.8856\n",
      "Epoch 41/100\n",
      "480/480 [==============================] - 6s 9ms/step - loss: 0.2376 - accuracy: 0.9114 - val_loss: 0.3138 - val_accuracy: 0.8860 loss: 0.2360 - \n",
      "Epoch 42/100\n",
      "480/480 [==============================] - 5s 7ms/step - loss: 0.2340 - accuracy: 0.9133 - val_loss: 0.3280 - val_accuracy: 0.8777\n",
      "Epoch 43/100\n",
      "480/480 [==============================] - 5s 8ms/step - loss: 0.2316 - accuracy: 0.9141 - val_loss: 0.3130 - val_accuracy: 0.8862\n",
      "Epoch 44/100\n",
      "480/480 [==============================] - 6s 8ms/step - loss: 0.2287 - accuracy: 0.9152 - val_loss: 0.3082 - val_accuracy: 0.8898\n",
      "Epoch 45/100\n",
      "480/480 [==============================] - 6s 8ms/step - loss: 0.2270 - accuracy: 0.9161 - val_loss: 0.3176 - val_accuracy: 0.8885\n",
      "Epoch 46/100\n",
      "480/480 [==============================] - 5s 7ms/step - loss: 0.2257 - accuracy: 0.9167 - val_loss: 0.3113 - val_accuracy: 0.8910\n",
      "Epoch 47/100\n",
      "480/480 [==============================] - 5s 7ms/step - loss: 0.2174 - accuracy: 0.9195 - val_loss: 0.3178 - val_accuracy: 0.8878\n",
      "Epoch 48/100\n",
      "480/480 [==============================] - 6s 10ms/step - loss: 0.2189 - accuracy: 0.9191 - val_loss: 0.3215 - val_accuracy: 0.8850\n",
      "Epoch 49/100\n",
      "480/480 [==============================] - 5s 8ms/step - loss: 0.2150 - accuracy: 0.9210 - val_loss: 0.3157 - val_accuracy: 0.8861\n",
      "Epoch 50/100\n",
      "480/480 [==============================] - 7s 12ms/step - loss: 0.2144 - accuracy: 0.9207 - val_loss: 0.3154 - val_accuracy: 0.8868\n",
      "Epoch 51/100\n",
      "480/480 [==============================] - 8s 12ms/step - loss: 0.2112 - accuracy: 0.9220 - val_loss: 0.3097 - val_accuracy: 0.8899\n",
      "Epoch 52/100\n",
      "480/480 [==============================] - 7s 12ms/step - loss: 0.2054 - accuracy: 0.9246 - val_loss: 0.3189 - val_accuracy: 0.8887\n",
      "Epoch 53/100\n",
      "480/480 [==============================] - 6s 9ms/step - loss: 0.2062 - accuracy: 0.9252 - val_loss: 0.3252 - val_accuracy: 0.8882 - loss: 0\n",
      "Epoch 54/100\n",
      "480/480 [==============================] - 7s 13ms/step - loss: 0.1993 - accuracy: 0.9263 - val_loss: 0.3238 - val_accuracy: 0.8902\n",
      "Epoch 55/100\n",
      "480/480 [==============================] - 8s 12ms/step - loss: 0.1971 - accuracy: 0.9270 - val_loss: 0.3150 - val_accuracy: 0.8913\n",
      "Epoch 56/100\n",
      "480/480 [==============================] - 9s 14ms/step - loss: 0.1954 - accuracy: 0.9278 - val_loss: 0.3324 - val_accuracy: 0.8858\n",
      "Epoch 57/100\n"
     ]
    },
    {
     "name": "stdout",
     "output_type": "stream",
     "text": [
      "480/480 [==============================] - 6s 9ms/step - loss: 0.1935 - accuracy: 0.9285 - val_loss: 0.3257 - val_accuracy: 0.8880\n",
      "Epoch 58/100\n",
      "480/480 [==============================] - 5s 7ms/step - loss: 0.1925 - accuracy: 0.9293 - val_loss: 0.3202 - val_accuracy: 0.8921\n",
      "Epoch 59/100\n",
      "480/480 [==============================] - 4s 5ms/step - loss: 0.1866 - accuracy: 0.9304 - val_loss: 0.3193 - val_accuracy: 0.8924\n",
      "Epoch 60/100\n",
      "480/480 [==============================] - 4s 6ms/step - loss: 0.1839 - accuracy: 0.9321 - val_loss: 0.3298 - val_accuracy: 0.8902\n",
      "Epoch 61/100\n",
      "480/480 [==============================] - 5s 8ms/step - loss: 0.1851 - accuracy: 0.9314 - val_loss: 0.3475 - val_accuracy: 0.8838\n",
      "Epoch 62/100\n",
      "480/480 [==============================] - 5s 8ms/step - loss: 0.1814 - accuracy: 0.9327 - val_loss: 0.3344 - val_accuracy: 0.8889\n",
      "Epoch 63/100\n",
      "480/480 [==============================] - 5s 7ms/step - loss: 0.1806 - accuracy: 0.9334 - val_loss: 0.3373 - val_accuracy: 0.8903\n",
      "Epoch 64/100\n",
      "480/480 [==============================] - 5s 8ms/step - loss: 0.1751 - accuracy: 0.9355 - val_loss: 0.3375 - val_accuracy: 0.8889\n",
      "Epoch 65/100\n",
      "480/480 [==============================] - 6s 9ms/step - loss: 0.1738 - accuracy: 0.9352 - val_loss: 0.3280 - val_accuracy: 0.8898\n",
      "Epoch 66/100\n",
      "480/480 [==============================] - 5s 8ms/step - loss: 0.1723 - accuracy: 0.9360 - val_loss: 0.3314 - val_accuracy: 0.8915\n",
      "Epoch 67/100\n",
      "480/480 [==============================] - 4s 6ms/step - loss: 0.1693 - accuracy: 0.9371 - val_loss: 0.3294 - val_accuracy: 0.8916\n",
      "Epoch 68/100\n",
      "480/480 [==============================] - 5s 8ms/step - loss: 0.1680 - accuracy: 0.9367 - val_loss: 0.3395 - val_accuracy: 0.8878\n",
      "Epoch 69/100\n",
      "480/480 [==============================] - 4s 6ms/step - loss: 0.1619 - accuracy: 0.9411 - val_loss: 0.3529 - val_accuracy: 0.8858\n",
      "Epoch 70/100\n",
      "480/480 [==============================] - 4s 6ms/step - loss: 0.1663 - accuracy: 0.9382 - val_loss: 0.3406 - val_accuracy: 0.8898\n",
      "Epoch 71/100\n",
      "480/480 [==============================] - 3s 5ms/step - loss: 0.1626 - accuracy: 0.9393 - val_loss: 0.3385 - val_accuracy: 0.8917\n",
      "Epoch 72/100\n",
      "480/480 [==============================] - 4s 6ms/step - loss: 0.1591 - accuracy: 0.9416 - val_loss: 0.3397 - val_accuracy: 0.8916\n",
      "Epoch 73/100\n",
      "480/480 [==============================] - 4s 6ms/step - loss: 0.1573 - accuracy: 0.9416 - val_loss: 0.3671 - val_accuracy: 0.8842\n",
      "Epoch 74/100\n",
      "480/480 [==============================] - 4s 6ms/step - loss: 0.1550 - accuracy: 0.9433 - val_loss: 0.3484 - val_accuracy: 0.8893\n",
      "Epoch 75/100\n",
      "480/480 [==============================] - 3s 5ms/step - loss: 0.1503 - accuracy: 0.9444 - val_loss: 0.3478 - val_accuracy: 0.8882\n",
      "Epoch 76/100\n",
      "480/480 [==============================] - 3s 5ms/step - loss: 0.1494 - accuracy: 0.9447 - val_loss: 0.3485 - val_accuracy: 0.8893\n",
      "Epoch 77/100\n",
      "480/480 [==============================] - 3s 5ms/step - loss: 0.1481 - accuracy: 0.9450 - val_loss: 0.3561 - val_accuracy: 0.8879\n",
      "Epoch 78/100\n",
      "480/480 [==============================] - 3s 5ms/step - loss: 0.1466 - accuracy: 0.9450 - val_loss: 0.3672 - val_accuracy: 0.8881\n",
      "Epoch 79/100\n",
      "480/480 [==============================] - 3s 5ms/step - loss: 0.1461 - accuracy: 0.9451 - val_loss: 0.3497 - val_accuracy: 0.8924\n",
      "Epoch 80/100\n",
      "480/480 [==============================] - 3s 5ms/step - loss: 0.1417 - accuracy: 0.9478 - val_loss: 0.3662 - val_accuracy: 0.8907\n",
      "Epoch 81/100\n",
      "480/480 [==============================] - 3s 5ms/step - loss: 0.1396 - accuracy: 0.9479 - val_loss: 0.3561 - val_accuracy: 0.8927\n",
      "Epoch 82/100\n",
      "480/480 [==============================] - 3s 5ms/step - loss: 0.1372 - accuracy: 0.9493 - val_loss: 0.3667 - val_accuracy: 0.8887\n",
      "Epoch 83/100\n",
      "480/480 [==============================] - 3s 5ms/step - loss: 0.1374 - accuracy: 0.9491 - val_loss: 0.4088 - val_accuracy: 0.8813\n",
      "Epoch 84/100\n",
      "480/480 [==============================] - 3s 5ms/step - loss: 0.1364 - accuracy: 0.9500 - val_loss: 0.3949 - val_accuracy: 0.8865\n",
      "Epoch 85/100\n",
      "480/480 [==============================] - 3s 5ms/step - loss: 0.1343 - accuracy: 0.9505 - val_loss: 0.3743 - val_accuracy: 0.8918\n",
      "Epoch 86/100\n",
      "480/480 [==============================] - 3s 5ms/step - loss: 0.1320 - accuracy: 0.9515 - val_loss: 0.3799 - val_accuracy: 0.8907\n",
      "Epoch 87/100\n",
      "480/480 [==============================] - 3s 5ms/step - loss: 0.1270 - accuracy: 0.9531 - val_loss: 0.3775 - val_accuracy: 0.8907\n",
      "Epoch 88/100\n",
      "480/480 [==============================] - 3s 5ms/step - loss: 0.1304 - accuracy: 0.9516 - val_loss: 0.3845 - val_accuracy: 0.8870\n",
      "Epoch 89/100\n",
      "480/480 [==============================] - 3s 5ms/step - loss: 0.1220 - accuracy: 0.9557 - val_loss: 0.4012 - val_accuracy: 0.8849\n",
      "Epoch 90/100\n",
      "480/480 [==============================] - 3s 5ms/step - loss: 0.1235 - accuracy: 0.9548 - val_loss: 0.3737 - val_accuracy: 0.8924\n",
      "Epoch 91/100\n",
      "480/480 [==============================] - 3s 5ms/step - loss: 0.1192 - accuracy: 0.9565 - val_loss: 0.4020 - val_accuracy: 0.8860\n",
      "Epoch 92/100\n",
      "480/480 [==============================] - 3s 5ms/step - loss: 0.1208 - accuracy: 0.9556 - val_loss: 0.3953 - val_accuracy: 0.8865\n",
      "Epoch 93/100\n",
      "480/480 [==============================] - 3s 5ms/step - loss: 0.1206 - accuracy: 0.9558 - val_loss: 0.4226 - val_accuracy: 0.8816\n",
      "Epoch 94/100\n",
      "480/480 [==============================] - 3s 5ms/step - loss: 0.1181 - accuracy: 0.9559 - val_loss: 0.4125 - val_accuracy: 0.8847\n",
      "Epoch 95/100\n",
      "480/480 [==============================] - 3s 5ms/step - loss: 0.1175 - accuracy: 0.9566 - val_loss: 0.3945 - val_accuracy: 0.8897\n",
      "Epoch 96/100\n",
      "480/480 [==============================] - 3s 5ms/step - loss: 0.1170 - accuracy: 0.9570 - val_loss: 0.4085 - val_accuracy: 0.8861\n",
      "Epoch 97/100\n",
      "480/480 [==============================] - 3s 5ms/step - loss: 0.1117 - accuracy: 0.9598 - val_loss: 0.4140 - val_accuracy: 0.8871\n",
      "Epoch 98/100\n",
      "480/480 [==============================] - 3s 5ms/step - loss: 0.1118 - accuracy: 0.9584 - val_loss: 0.3970 - val_accuracy: 0.8884\n",
      "Epoch 99/100\n",
      "480/480 [==============================] - 3s 5ms/step - loss: 0.1090 - accuracy: 0.9595 - val_loss: 0.4378 - val_accuracy: 0.8839\n",
      "Epoch 100/100\n",
      "480/480 [==============================] - 3s 5ms/step - loss: 0.1042 - accuracy: 0.9614 - val_loss: 0.4141 - val_accuracy: 0.8885\n"
     ]
    }
   ],
   "source": [
    "hist = model.fit(train_dataset, epochs=N_EPOCHS, validation_data=val_dataset)"
   ]
  },
  {
   "cell_type": "code",
   "execution_count": 117,
   "metadata": {},
   "outputs": [
    {
     "data": {
      "text/plain": [
       "100"
      ]
     },
     "execution_count": 117,
     "metadata": {},
     "output_type": "execute_result"
    }
   ],
   "source": [
    "len(hist.history['loss'])"
   ]
  },
  {
   "cell_type": "code",
   "execution_count": 118,
   "metadata": {},
   "outputs": [
    {
     "data": {
      "image/png": "[encoded data removed]",
      "text/plain": [
       "<Figure size 504x432 with 1 Axes>"
      ]
     },
     "metadata": {
      "needs_background": "light"
     },
     "output_type": "display_data"
    }
   ],
   "source": [
    "plt.figure(figsize=(7,6))\n",
    "plt.plot(range(1, N_EPOCHS+1), hist.history['loss'], label='train loss')\n",
    "plt.plot(range(1, N_EPOCHS+1), hist.history['val_loss'], label='validation loss')\n",
    "plt.title(\"LOSS\", fontsize=20)\n",
    "plt.xlabel(\"Epochs\")\n",
    "plt.ylabel(\"Loss\")\n",
    "plt.legend()\n",
    "plt.show()"
   ]
  },
  {
   "cell_type": "code",
   "execution_count": 119,
   "metadata": {},
   "outputs": [
    {
     "data": {
      "image/png": "[encoded data removed]",
      "text/plain": [
       "<Figure size 504x432 with 1 Axes>"
      ]
     },
     "metadata": {
      "needs_background": "light"
     },
     "output_type": "display_data"
    }
   ],
   "source": [
    "plt.figure(figsize=(7,6))\n",
    "plt.plot(range(1, N_EPOCHS+1), hist.history['accuracy'], label='train accuracy')\n",
    "plt.plot(range(1, N_EPOCHS+1), hist.history['val_accuracy'], label='validation accuracy')\n",
    "plt.title(\"Accuracy\", fontsize=20)\n",
    "plt.xlabel(\"Epochs\")\n",
    "plt.ylabel(\"Accuracy\")\n",
    "plt.legend()\n",
    "plt.show()"
   ]
  },
  {
   "cell_type": "markdown",
   "metadata": {},
   "source": [
    "#### 최종평가"
   ]
  },
  {
   "cell_type": "code",
   "execution_count": 120,
   "metadata": {},
   "outputs": [
    {
     "name": "stdout",
     "output_type": "stream",
     "text": [
      "100/100 [==============================] - 0s 3ms/step - loss: 0.4620 - accuracy: 0.8821\n"
     ]
    }
   ],
   "source": [
    "loss, accuracy = model.evaluate(test_dataset)"
   ]
  },
  {
   "cell_type": "code",
   "execution_count": 121,
   "metadata": {},
   "outputs": [
    {
     "name": "stdout",
     "output_type": "stream",
     "text": [
      "0.4620336890220642 0.882099986076355\n"
     ]
    }
   ],
   "source": [
    "print(loss, accuracy)"
   ]
  },
  {
   "cell_type": "markdown",
   "metadata": {},
   "source": [
    "#### 새로운 데이터 추론"
   ]
  },
  {
   "cell_type": "code",
   "execution_count": 122,
   "metadata": {},
   "outputs": [],
   "source": [
    "new_input = X_test[:5]\n",
    "new_input = new_input/255   # 정규화"
   ]
  },
  {
   "cell_type": "code",
   "execution_count": 123,
   "metadata": {},
   "outputs": [],
   "source": [
    "pred = model.predict(new_input)"
   ]
  },
  {
   "cell_type": "code",
   "execution_count": 124,
   "metadata": {},
   "outputs": [
    {
     "data": {
      "text/plain": [
       "array([9, 2, 1, 1, 0], dtype=int64)"
      ]
     },
     "execution_count": 124,
     "metadata": {},
     "output_type": "execute_result"
    }
   ],
   "source": [
    "pred_class = np.argmax(pred, axis=-1)\n",
    "pred_class"
   ]
  },
  {
   "cell_type": "code",
   "execution_count": 125,
   "metadata": {},
   "outputs": [
    {
     "data": {
      "text/plain": [
       "array([9, 2, 1, 1, 6], dtype=uint8)"
      ]
     },
     "execution_count": 125,
     "metadata": {},
     "output_type": "execute_result"
    }
   ],
   "source": [
    "test_label[:5]"
   ]
  },
  {
   "cell_type": "code",
   "execution_count": 126,
   "metadata": {},
   "outputs": [
    {
     "data": {
      "text/plain": [
       "array(['Ankle boot', 'Pullover', 'Trousers', 'Trousers', 'T-shirt/top'],\n",
       "      dtype='<U11')"
      ]
     },
     "execution_count": 126,
     "metadata": {},
     "output_type": "execute_result"
    }
   ],
   "source": [
    "class_names = np.array(class_names)\n",
    "class_names[pred_class]"
   ]
  },
  {
   "cell_type": "markdown",
   "metadata": {},
   "source": [
    "### 위스콘신 유방암 데이터셋 - 이진분류 문제\n",
    "- 위스콘신 대학교에서 제공한 종양의 악성/양성여부 분류를 위한 데이터셋\n",
    "- Feature\n",
    "    - 종양에 대한 다양한 측정값들\n",
    "- Target의 class\n",
    "    - 0 - malignant(악성종양)\n",
    "    - 1 - benign(양성종양)"
   ]
  },
  {
   "cell_type": "code",
   "execution_count": null,
   "metadata": {},
   "outputs": [],
   "source": []
  },
  {
   "cell_type": "code",
   "execution_count": null,
   "metadata": {},
   "outputs": [],
   "source": []
  },
  {
   "cell_type": "code",
   "execution_count": null,
   "metadata": {},
   "outputs": [],
   "source": []
  },
  {
   "cell_type": "code",
   "execution_count": null,
   "metadata": {},
   "outputs": [],
   "source": []
  },
  {
   "cell_type": "code",
   "execution_count": null,
   "metadata": {},
   "outputs": [],
   "source": []
  }
 ],
 "metadata": {
  "kernelspec": {
   "display_name": "Python 3 (ipykernel)",
   "language": "python",
   "name": "python3"
  },
  "language_info": {
   "codemirror_mode": {
    "name": "ipython",
    "version": 3
   },
   "file_extension": ".py",
   "mimetype": "text/x-python",
   "name": "python",
   "nbconvert_exporter": "python",
   "pygments_lexer": "ipython3",
   "version": "3.8.11"
  },
  "toc": {
   "base_numbering": 1,
   "nav_menu": {},
   "number_sections": false,
   "sideBar": true,
   "skip_h1_title": false,
   "title_cell": "Table of Contents",
   "title_sidebar": "Contents",
   "toc_cell": false,
   "toc_position": {},
   "toc_section_display": true,
   "toc_window_display": false
  },
  "varInspector": {
   "cols": {
    "lenName": 16,
    "lenType": 16,
    "lenVar": 40
   },
   "kernels_config": {
    "python": {
     "delete_cmd_postfix": "",
     "delete_cmd_prefix": "del ",
     "library": "var_list.py",
     "varRefreshCmd": "print(var_dic_list())"
    },
    "r": {
     "delete_cmd_postfix": ") ",
     "delete_cmd_prefix": "rm(",
     "library": "var_list.r",
     "varRefreshCmd": "cat(var_dic_list()) "
    }
   },
   "types_to_exclude": [
    "module",
    "function",
    "builtin_function_or_method",
    "instance",
    "_Feature"
   ],
   "window_display": false
  }
 },
 "nbformat": 4,
 "nbformat_minor": 2
}
