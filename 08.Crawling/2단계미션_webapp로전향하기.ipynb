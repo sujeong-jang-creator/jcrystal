{
 "cells": [
  {
   "cell_type": "markdown",
   "metadata": {},
   "source": [
    "## 3.2.1 유튜브 랭킹 데이터 수집하기"
   ]
  },
  {
   "cell_type": "code",
   "execution_count": 1,
   "metadata": {},
   "outputs": [],
   "source": [
    "# 예제 3-38 라이브러리 추가하기\n",
    "from selenium import webdriver \n",
    "from bs4 import BeautifulSoup \n",
    "import time\n",
    "import pandas as pd"
   ]
  },
  {
   "cell_type": "code",
   "execution_count": 4,
   "metadata": {},
   "outputs": [],
   "source": [
    "# 예제 3-39 webdriver로 크롬 브라우저 실행하기\n",
    "browser = webdriver.Chrome('c:/driver/chromedriver.exe')\n",
    "url = \"https://youtube-rank.com/board/bbs/board.php?bo_table=youtube\" \n",
    "browser.get(url)"
   ]
  },
  {
   "cell_type": "code",
   "execution_count": 5,
   "metadata": {},
   "outputs": [],
   "source": [
    "# 예제 3-40 페이지 정보 가져오기\n",
    "html = browser.page_source\n",
    "soup = BeautifulSoup(html, 'html.parser')"
   ]
  },
  {
   "cell_type": "code",
   "execution_count": 32,
   "metadata": {},
   "outputs": [
    {
     "name": "stdout",
     "output_type": "stream",
     "text": [
      "102 \n",
      "\n",
      "<tr>\n",
      "<th class=\"rank\"><a href=\"/board/bbs/board.php?bo_table=youtube&amp;sop=and&amp;sst=rank&amp;sod=desc&amp;sfl=&amp;stx=&amp;sca=&amp;page=1\">순위 <i aria-hidden=\"true\" class=\"fa fa-sort\"></i></a></th>\n",
      "<th class=\"td_img\">이미지</th>\n",
      "<th class=\"subject\">제목</th>\n",
      "<th class=\"subscriber_cnt\"><a href=\"/board/bbs/board.php?bo_table=youtube&amp;sop=and&amp;sst=subscriber_cnt&amp;sod=desc&amp;sfl=&amp;stx=&amp;sca=&amp;page=1\">구독자순 <i aria-hidden=\"true\" class=\"fa fa-sort\"></i></a></th>\n",
      "<th class=\"view_cnt\"><a href=\"/board/bbs/board.php?bo_table=youtube&amp;sop=and&amp;sst=view_cnt&amp;sod=desc&amp;sfl=&amp;stx=&amp;sca=&amp;page=1\">View순 <i aria-hidden=\"true\" class=\"fa fa-sort\"></i></a></th>\n",
      "<th class=\"video_cnt\"><a href=\"/board/bbs/board.php?bo_table=youtube&amp;sop=and&amp;sst=video_cnt&amp;sod=desc&amp;sfl=&amp;stx=&amp;sca=&amp;page=1\">Video순 <i aria-hidden=\"true\" class=\"fa fa-sort\"></i></a></th>\n",
      "<th class=\"hit\"><a href=\"/board/bbs/board.php?bo_table=youtube&amp;sop=and&amp;sst=wr_hit&amp;sod=desc&amp;sfl=&amp;stx=&amp;sca=&amp;page=1\">조회수 <i aria-hidden=\"true\" class=\"fa fa-sort\"></i></a></th>\n",
      "</tr>\n"
     ]
    }
   ],
   "source": [
    "# 예제 3-41 BeautifulSoup으로 tr 태그 추출하기\n",
    "channel_list = soup.select('tr') \n",
    "print(len(channel_list), '\\n')\n",
    "print(channel_list[0])"
   ]
  },
  {
   "cell_type": "code",
   "execution_count": 33,
   "metadata": {},
   "outputs": [
    {
     "name": "stdout",
     "output_type": "stream",
     "text": [
      "100\n"
     ]
    }
   ],
   "source": [
    "# 예제 3-42 tr 태그 확인하기\n",
    "channel_list = soup.select('form > table > tbody > tr')\n",
    "print(len(channel_list))"
   ]
  },
  {
   "cell_type": "code",
   "execution_count": 34,
   "metadata": {},
   "outputs": [
    {
     "name": "stdout",
     "output_type": "stream",
     "text": [
      "<tr class=\"aos-init aos-animate\" data-aos=\"fade-up\" data-aos-duration=\"800\">\n",
      "<td class=\"rank\">\n",
      "                        1                    </td>\n",
      "<td class=\"td_img\">\n",
      "<div class=\"info_img\"><a href=\"https://youtube-rank.com/board/bbs/board.php?bo_table=youtube&amp;wr_id=3203\"><img class=\"lazyload\" data-src=\"https://yt3.ggpht.com/ytc/AKedOLTat8_vr7h2i29n67lvNLMp1F-9Ch2ejFRlRzt0zQ=s88-c-k-c0x00ffffff-no-rj-mo\" height=\"88\" src=\"https://yt3.ggpht.com/ytc/AKedOLTat8_vr7h2i29n67lvNLMp1F-9Ch2ejFRlRzt0zQ=s88-c-k-c0x00ffffff-no-rj-mo\" width=\"88\"/></a></div>\n",
      "<p class=\"info_rank\">1</p>\n",
      "</td>\n",
      "<td class=\"subject\">\n",
      "<h1>\n",
      "<p <a=\"\" class=\"category\" href=\"https://youtube-rank.com/board/bbs/board.php?bo_table=youtube&amp;sca=%EC%9D%8C%EC%95%85%2F%EB%8C%84%EC%8A%A4%2F%EA%B0%80%EC%88%98\">[음악/댄스/가수]\n",
      "                                \n",
      "                                </p>\n",
      "<a href=\"https://youtube-rank.com/board/bbs/board.php?bo_table=youtube&amp;wr_id=3203\">\n",
      "\t\t\t\t\t\t\t\t\n",
      "\t\t\t\t\t\t\t\tBLACKPINK\t\t\t\t\t\t\t</a>\n",
      "<span>\n",
      "<i class=\"fa fa-comment\"></i>\n",
      "\t\t\t\t\t\t\t\t1\t\t\t\t\t\t\t</span>\n",
      "<i aria-hidden=\"true\" class=\"fa fa-heart\"></i> </h1>\n",
      "<h2><span><a href=\"https://youtube-rank.com/board/bbs/board.php?bo_table=youtube&amp;wr_id=3203\">\"YG Entertainment\" YG 와이지 K-pop BLACKPINK 블랙핑크 블핑 제니 로제 리사 지수 Lisa Jisoo Jennie ...</a></span></h2>\n",
      "<h3>\n",
      "<i class=\"fa fa-user\"></i>\n",
      "                            6270만<i class=\"fa fa-play\"></i>183억9786만                            <i class=\"fa fa-video-camera\"></i>\n",
      "                            360                            <i class=\"fa fa-eye\"></i>\n",
      "                            13,548                        </h3>\n",
      "</td>\n",
      "<td class=\"subscriber_cnt\">6270만</td>\n",
      "<td class=\"view_cnt\">183억9786만</td>\n",
      "<td class=\"video_cnt\">360개</td>\n",
      "<td class=\"hit\">\n",
      "<strong>13,548</strong>\n",
      "<span>HIT</span>\n",
      "</td>\n",
      "</tr>\n"
     ]
    }
   ],
   "source": [
    "# 예제3-43채널태그출력및태그구조 확인하기\n",
    "channel = channel_list[0]\n",
    "print(channel)"
   ]
  },
  {
   "cell_type": "code",
   "execution_count": 35,
   "metadata": {},
   "outputs": [
    {
     "name": "stdout",
     "output_type": "stream",
     "text": [
      "[음악/댄스/가수]\n"
     ]
    }
   ],
   "source": [
    "# 예제 3-44 카테고리 정보 추출하기\n",
    "category = channel.select('p.category')[0].text.strip()\n",
    "print(category)"
   ]
  },
  {
   "cell_type": "code",
   "execution_count": 36,
   "metadata": {},
   "outputs": [
    {
     "name": "stdout",
     "output_type": "stream",
     "text": [
      "BLACKPINK\n"
     ]
    }
   ],
   "source": [
    "# 예제 3-45 채널명 찾아오기\n",
    "title = channel.select('h1 > a')[0].text.strip()\n",
    "print(title)"
   ]
  },
  {
   "cell_type": "code",
   "execution_count": 37,
   "metadata": {},
   "outputs": [
    {
     "name": "stdout",
     "output_type": "stream",
     "text": [
      "6270만\n",
      "183억9786만\n",
      "360개\n"
     ]
    }
   ],
   "source": [
    "# 예제 3-46 구독자 수, View 수, 동영상 수 추출하기\n",
    "subscriber = channel.select('.subscriber_cnt')[0].text\n",
    "view = channel.select('.view_cnt')[0].text\n",
    "video = channel.select('.video_cnt')[0].text\n",
    "\n",
    "print(subscriber)\n",
    "print(view)\n",
    "print(video)"
   ]
  },
  {
   "cell_type": "code",
   "execution_count": 38,
   "metadata": {},
   "outputs": [
    {
     "name": "stdout",
     "output_type": "stream",
     "text": [
      "BLACKPINK [음악/댄스/가수] 6270만 183억9786만 360개\n",
      "HYBE LABELS [음악/댄스/가수] 5810만 177억0085만 630개\n",
      "BANGTANTV [음악/댄스/가수] 5310만 110억7672만 1,525개\n",
      "SMTOWN [음악/댄스/가수] 2820만 214억6339만 3,714개\n",
      "Boram Tube Vlog [보람튜브 브이로그] [키즈/어린이] 2650만 110억5288만 223개\n",
      "1MILLION Dance Studio [음악/댄스/가수] 2410만 66억0942만 2,738개\n",
      "1theK (원더케이) [음악/댄스/가수] 2300만 202억6948만 14,726개\n",
      "JYP Entertainment [음악/댄스/가수] 2130만 133억8615만 1,303개\n",
      "Coldplay [미분류] 1910만 125억7588만 273개\n",
      "Mnet K-POP [음악/댄스/가수] 1820만 125억8938만 24,609개\n",
      "JFlaMusic [음악/댄스/가수] 1720만 33억8775만 279개\n",
      "KBS WORLD TV [TV/방송] 1640만 121억3144만 51,830개\n",
      "officialpsy [음악/댄스/가수] 1490만 85억4141만 90개\n",
      "Jane ASMR 제인 [음식/요리/레시피] 1370만 46억3688만 1,147개\n",
      "BIGBANG [음악/댄스/가수] 1370만 66억1510만 773개\n",
      "TWICE [음악/댄스/가수] 1110만 20억6694만 575개\n",
      "Nao FunFun [키즈/어린이] 1080만 360만 34개\n",
      "Stone Music Entertainment [음악/댄스/가수] 989만 77억1709만 7,735개\n",
      "DuDuPopTOY [키즈/어린이] 974만 43억2686만 1,676개\n",
      "MBCkpop [TV/방송] 937만 72억5144만 40,454개\n",
      "서은이야기[SeoeunStory] [키즈/어린이] 931만 39억5411만 981개\n",
      "핑크퐁 (인기 동요・동화) [키즈/어린이] 928만 55억9363만 2,177개\n",
      "Hongyu ASMR 홍유 [음식/요리/레시피] 927만 25억0168만 370개\n",
      "Larva TUBA [키즈/어린이] 918만 39억7655만 2,795개\n",
      "Toymong tv 토이몽TV [키즈/어린이] 916만 37억6907만 1,796개\n",
      "The Late Show with Stephen Colbert [미분류] 857만 77억4967만 8,221개\n",
      "MBCentertainment [뉴스/정치/사회] 833만 140억6631만 84,850개\n",
      "Mnet Official [음악/댄스/가수] 827만 89억1500만 18,030개\n",
      "iKON [음악/댄스/가수] 825만 20억5960만 468개\n",
      "EXO [음악/댄스/가수] 812만 4억3459만 194개\n",
      "Nintendo [미분류] 796만 27억2688만 5,053개\n",
      "MariAndKids [키즈/어린이] 747만 22억7784만 808개\n",
      "M2 [TV/방송] 737만 53억4554만 14,025개\n",
      "SonicToy소닉토이 [키즈/어린이] 714만 29억0722만 164개\n",
      "[햄지]Hamzy [음식/요리/레시피] 709만 20억1405만 317개\n",
      "TOMORROW X TOGETHER OFFICIAL [음악/댄스/가수] 702만 3억9968만 716개\n",
      "Serie A [해외] 682만 23억7672만 20,450개\n",
      "JTBC Entertainment [뉴스/정치/사회] 676만 95억0887만 62,986개\n",
      "Travel Thirsty [음식/요리/레시피] 671만 27억9969만 658개\n",
      "Sungha Jung [음악/댄스/가수] 670만 18억6284만 1,257개\n",
      "SEVENTEEN [음악/댄스/가수] 666만 20억2496만 847개\n",
      "Stray Kids [음악/댄스/가수] 661만 9억3276만 452개\n",
      "이지금 [IU Official] [음악/댄스/가수] 644만 8억5185만 124개\n",
      "ALL THE K-POP [음악/댄스/가수] 634만 38억2769만 19,036개\n",
      "YG ENTERTAINMENT [음악/댄스/가수] 629만 16억1935만 389개\n",
      "KBS Kpop [TV/방송] 620만 45억7020만 28,493개\n",
      "문복희 Eat with Boki [음식/요리/레시피] 612만 13억3887만 392개\n",
      "GOT7 [음악/댄스/가수] 601만 7억4334만 579개\n",
      "쏘영 Ssoyoung [음식/요리/레시피] 600만 8억6783만 546개\n",
      "MAMAMOO [음악/댄스/가수] 592만 15억5741만 596개\n",
      "PONY Syndrome [패션/미용] 586만 3억5206만 185개\n",
      "스브스케이팝 / SBS KPOP [TV/방송] 575만 37억2822만 25,233개\n",
      "tvN DRAMA [TV/방송] 574만 53억9335만 33,902개\n",
      "Samsung [회사/오피셜] 564만 9억6415만 1,520개\n",
      "SBS Entertainment [TV/방송] 563만 64억7024만 216,124개\n",
      "스위트티비 SweetTV [키즈/어린이] 557만 26억0468만 500개\n",
      "SBS Drama [TV/방송] 534만 55억8959만 340,672개\n",
      "ITZY [음악/댄스/가수] 532만 9억0103만 409개\n",
      "[장난감티비]TOYTV [키즈/어린이] 531만 25억5655만 1,441개\n",
      "2NE1 [음악/댄스/가수] 527만 19억2954만 321개\n",
      "미니특공대TV [키즈/어린이] 526만 29억3997만 1,086개\n",
      "콩순이 • 시크릿 쥬쥬 [Kongsuni • Secret Jouju] [키즈/어린이] 515만 44억3538만 1,227개\n",
      "[Awesome Haeun]어썸하은 [BJ/인물/연예인] 513만 7억8658만 478개\n",
      "백종원의 요리비책 Paik's Cuisine [음식/요리/레시피] 505만 4억9704만 321개\n",
      "ToyMart TV [키즈/어린이] 496만 21억4820만 651개\n",
      "starshipTV [음악/댄스/가수] 477만 27억3232만 1,925개\n",
      "베이비버스 -인기 동요・동화 [키즈/어린이] 473만 31억1871만 1,250개\n",
      "BT21 [음악/댄스/가수] 451만 3억4864만 189개\n",
      "SBS NOW / SBS 공식 채널 [뉴스/정치/사회] 448만 44억2485만 19,629개\n",
      "TOY GUMA [키즈/어린이] 448만 14억8307만 306개\n",
      "야미보이 Yummyboy [음식/요리/레시피] 446만 15억3777만 827개\n",
      "KBS Entertain [TV/방송] 442만 68억8478만 99,075개\n",
      "떵개떵 [음식/요리/레시피] 441만 24억5842만 4,287개\n",
      "ASTRO 아스트로 [음악/댄스/가수] 429만 3억9041만 411개\n",
      "하루한끼 one meal a day [음식/요리/레시피] 429만 4억0209만 158개\n",
      "뽀로로(Pororo) [키즈/어린이] 429만 57억7079만 3,557개\n",
      "MBCdrama [TV/방송] 428만 48억4466만 53,698개\n",
      "Raon Lee [음악/댄스/가수] 417만 8억9836만 290개\n",
      "슈슈토이 Shushu ToysReview [키즈/어린이] 416만 15억3116만 556개\n",
      "Red Velvet [음악/댄스/가수] 415만 5억4582만 131개\n",
      "[Dorothy]도로시 [음식/요리/레시피] 414만 9억8109만 905개\n",
      "TREASURE (트레저) [음악/댄스/가수] 412만 7억7329만 245개\n",
      "채널 NCT DAILY [TV/방송] 412만 6억9876만 467개\n",
      "푸메Fume [음식/요리/레시피] 411만 8억2369만 444개\n",
      "Cooking tree 쿠킹트리 [음식/요리/레시피] 407만 3억6726만 1,111개\n",
      "With Kids Playground [위드키즈 놀이터] [키즈/어린이] 406만 15억2635만 392개\n",
      "JTBC Drama [TV/방송] 404만 41억2425만 22,230개\n",
      "SBS TV동물농장x애니멀봐 [애완/반려동물] 404만 36억6530만 2,933개\n",
      "로미유 스토리[Romiyu Story] [키즈/어린이] 403만 10억4928만 429개\n",
      "까니짱 [ G-NI ] [음식/요리/레시피] 402만 10억0455만 461개\n",
      "NCT [음악/댄스/가수] 392만 2억4918만 208개\n",
      "Evan Kids [키즈/어린이] 392만 7543만 23개\n",
      "영국남자 Korean Englishman [BJ/인물/연예인] 392만 12억8703만 426개\n",
      "크림히어로즈 [애완/반려동물] 382만 13억5981만 915개\n",
      "허팝Heopop [BJ/인물/연예인] 377만 30억6670만 1,804개\n",
      "워크맨-Workman [BJ/인물/연예인] 374만 6억4541만 135개\n",
      "waveya 2011 [BJ/인물/연예인] 373만 13억4111만 695개\n",
      "Lime Tube[라임튜브] [키즈/어린이] 372만 25억7614만 1,691개\n",
      "JaeYeol ASMR 재열 [취미/라이프] 371만 9억6420만 949개\n",
      "WINNER [음악/댄스/가수] 370만 11억5675만 428개\n"
     ]
    },
    {
     "ename": "IndexError",
     "evalue": "list index out of range",
     "output_type": "error",
     "traceback": [
      "\u001b[1;31m---------------------------------------------------------------------------\u001b[0m",
      "\u001b[1;31mIndexError\u001b[0m                                Traceback (most recent call last)",
      "\u001b[1;32m<ipython-input-38-58c5c724cc0b>\u001b[0m in \u001b[0;36m<module>\u001b[1;34m\u001b[0m\n\u001b[0;32m      2\u001b[0m \u001b[0mchannel_list\u001b[0m \u001b[1;33m=\u001b[0m \u001b[0msoup\u001b[0m\u001b[1;33m.\u001b[0m\u001b[0mselect\u001b[0m\u001b[1;33m(\u001b[0m\u001b[1;34m'tbody > tr'\u001b[0m\u001b[1;33m)\u001b[0m\u001b[1;33m\u001b[0m\u001b[1;33m\u001b[0m\u001b[0m\n\u001b[0;32m      3\u001b[0m \u001b[1;32mfor\u001b[0m \u001b[0mchannel\u001b[0m \u001b[1;32min\u001b[0m \u001b[0mchannel_list\u001b[0m\u001b[1;33m:\u001b[0m\u001b[1;33m\u001b[0m\u001b[1;33m\u001b[0m\u001b[0m\n\u001b[1;32m----> 4\u001b[1;33m     \u001b[0mtitle\u001b[0m \u001b[1;33m=\u001b[0m \u001b[0mchannel\u001b[0m\u001b[1;33m.\u001b[0m\u001b[0mselect\u001b[0m\u001b[1;33m(\u001b[0m\u001b[1;34m'h1 > a'\u001b[0m\u001b[1;33m)\u001b[0m\u001b[1;33m[\u001b[0m\u001b[1;36m0\u001b[0m\u001b[1;33m]\u001b[0m\u001b[1;33m.\u001b[0m\u001b[0mtext\u001b[0m\u001b[1;33m.\u001b[0m\u001b[0mstrip\u001b[0m\u001b[1;33m(\u001b[0m\u001b[1;33m)\u001b[0m\u001b[1;33m\u001b[0m\u001b[1;33m\u001b[0m\u001b[0m\n\u001b[0m\u001b[0;32m      5\u001b[0m     \u001b[0mcategory\u001b[0m \u001b[1;33m=\u001b[0m \u001b[0mchannel\u001b[0m\u001b[1;33m.\u001b[0m\u001b[0mselect\u001b[0m\u001b[1;33m(\u001b[0m\u001b[1;34m'p.category'\u001b[0m\u001b[1;33m)\u001b[0m\u001b[1;33m[\u001b[0m\u001b[1;36m0\u001b[0m\u001b[1;33m]\u001b[0m\u001b[1;33m.\u001b[0m\u001b[0mtext\u001b[0m\u001b[1;33m.\u001b[0m\u001b[0mstrip\u001b[0m\u001b[1;33m(\u001b[0m\u001b[1;33m)\u001b[0m\u001b[1;33m\u001b[0m\u001b[1;33m\u001b[0m\u001b[0m\n\u001b[0;32m      6\u001b[0m     \u001b[0msubscriber\u001b[0m \u001b[1;33m=\u001b[0m \u001b[0mchannel\u001b[0m\u001b[1;33m.\u001b[0m\u001b[0mselect\u001b[0m\u001b[1;33m(\u001b[0m\u001b[1;34m'.subscriber_cnt'\u001b[0m\u001b[1;33m)\u001b[0m\u001b[1;33m[\u001b[0m\u001b[1;36m0\u001b[0m\u001b[1;33m]\u001b[0m\u001b[1;33m.\u001b[0m\u001b[0mtext\u001b[0m\u001b[1;33m\u001b[0m\u001b[1;33m\u001b[0m\u001b[0m\n",
      "\u001b[1;31mIndexError\u001b[0m: list index out of range"
     ]
    }
   ],
   "source": [
    "# 예제 3-47 반복문으로 채널 정보 추출하기\n",
    "channel_list = soup.select('tbody > tr') \n",
    "for channel in channel_list:\n",
    "    title = channel.select('h1 > a')[0].text.strip()\n",
    "    category = channel.select('p.category')[0].text.strip()\n",
    "    subscriber = channel.select('.subscriber_cnt')[0].text\n",
    "    view = channel.select('.view_cnt')[0].text\n",
    "    video = channel.select('.video_cnt')[0].text \n",
    "    print(title, category, subscriber, view, video)"
   ]
  },
  {
   "cell_type": "code",
   "execution_count": 39,
   "metadata": {},
   "outputs": [
    {
     "name": "stdout",
     "output_type": "stream",
     "text": [
      "https://youtube-rank.com/board/bbs/board.php?bo_table=youtube&page=1\n"
     ]
    }
   ],
   "source": [
    "# 예제 3-48 페이지별 URL 만들기\n",
    "page = 1\n",
    "url = 'https://youtube-rank.com/board/bbs/board.php?bo_table=youtube&page={}'.format(page)\n",
    "print(url)"
   ]
  },
  {
   "cell_type": "code",
   "execution_count": 40,
   "metadata": {},
   "outputs": [],
   "source": [
    "# 예제 3-49 반복문으로 유튜브 랭킹 화면의 여러 페이지를 크롤링하기\n",
    "results = []\n",
    "for page in range(1,11):\n",
    "    url = f\"https://youtube-rank.com/board/bbs/board.php?bo_table=youtube&page={page}\" \n",
    "    browser.get(url)\n",
    "    time.sleep(2)\n",
    "    html = browser.page_source\n",
    "    soup = BeautifulSoup(html, 'html.parser')\n",
    "    channel_list = soup.select('form > table > tbody > tr')\n",
    "    for channel in channel_list:\n",
    "        title = channel.select('h1 > a')[0].text.strip() \n",
    "        category = channel.select('p.category')[0].text.strip()\n",
    "        subscriber = channel.select('.subscriber_cnt')[0].text \n",
    "        view = channel.select('.view_cnt')[0].text\n",
    "        video = channel.select('.video_cnt')[0].text\n",
    "        data = [title, category, subscriber, view, video]\n",
    "        results.append(data)"
   ]
  },
  {
   "cell_type": "code",
   "execution_count": 42,
   "metadata": {},
   "outputs": [],
   "source": [
    "# 예제 3-50 데이터 칼럼명을 설정하고 엑셀 파일로 저장하기\n",
    "df = pd.DataFrame(results)\n",
    "df.columns = ['title', 'category', 'subscriber', 'view', 'video']\n",
    "df.to_excel('./youtube_rank.xlsx', index = False)"
   ]
  },
  {
   "cell_type": "markdown",
   "metadata": {},
   "source": [
    "## 3.2.2 유튜브 랭킹 데이터 시각화하기"
   ]
  },
  {
   "cell_type": "code",
   "execution_count": 43,
   "metadata": {},
   "outputs": [],
   "source": [
    "# 예제 3-51 라이브러리 추가하기\n",
    "import pandas as pd\n",
    "import matplotlib.pyplot as plt"
   ]
  },
  {
   "cell_type": "code",
   "execution_count": 44,
   "metadata": {},
   "outputs": [],
   "source": [
    "# 예제 3-52 그래프에서 한글을 표기하기 위한 글꼴 변경(윈도우, macOS에 대해 각각 처리)\n",
    "from matplotlib import font_manager, rc\n",
    "import platform\n",
    "if platform.system() == 'Windows':\n",
    "    path = 'c:/Windows/Fonts/malgun.ttf'\n",
    "    font_name = font_manager.FontProperties(fname = path).get_name()\n",
    "    rc('font', family = font_name)\n",
    "elif platform.system() == 'Darwin':\n",
    "    rc('font', family = 'AppleGothic')\n",
    "else:\n",
    "    print('Check your OS system')"
   ]
  },
  {
   "cell_type": "code",
   "execution_count": 46,
   "metadata": {},
   "outputs": [
    {
     "data": {
      "text/html": [
       "<div>\n",
       "<style scoped>\n",
       "    .dataframe tbody tr th:only-of-type {\n",
       "        vertical-align: middle;\n",
       "    }\n",
       "\n",
       "    .dataframe tbody tr th {\n",
       "        vertical-align: top;\n",
       "    }\n",
       "\n",
       "    .dataframe thead th {\n",
       "        text-align: right;\n",
       "    }\n",
       "</style>\n",
       "<table border=\"1\" class=\"dataframe\">\n",
       "  <thead>\n",
       "    <tr style=\"text-align: right;\">\n",
       "      <th></th>\n",
       "      <th>title</th>\n",
       "      <th>category</th>\n",
       "      <th>subscriber</th>\n",
       "      <th>view</th>\n",
       "      <th>video</th>\n",
       "    </tr>\n",
       "  </thead>\n",
       "  <tbody>\n",
       "    <tr>\n",
       "      <th>0</th>\n",
       "      <td>BLACKPINK</td>\n",
       "      <td>[음악/댄스/가수]</td>\n",
       "      <td>6270만</td>\n",
       "      <td>183억9786만</td>\n",
       "      <td>360개</td>\n",
       "    </tr>\n",
       "    <tr>\n",
       "      <th>1</th>\n",
       "      <td>HYBE LABELS</td>\n",
       "      <td>[음악/댄스/가수]</td>\n",
       "      <td>5810만</td>\n",
       "      <td>177억0085만</td>\n",
       "      <td>630개</td>\n",
       "    </tr>\n",
       "    <tr>\n",
       "      <th>2</th>\n",
       "      <td>BANGTANTV</td>\n",
       "      <td>[음악/댄스/가수]</td>\n",
       "      <td>5310만</td>\n",
       "      <td>110억7672만</td>\n",
       "      <td>1,525개</td>\n",
       "    </tr>\n",
       "    <tr>\n",
       "      <th>3</th>\n",
       "      <td>SMTOWN</td>\n",
       "      <td>[음악/댄스/가수]</td>\n",
       "      <td>2820만</td>\n",
       "      <td>214억6339만</td>\n",
       "      <td>3,714개</td>\n",
       "    </tr>\n",
       "    <tr>\n",
       "      <th>4</th>\n",
       "      <td>Boram Tube Vlog [보람튜브 브이로그]</td>\n",
       "      <td>[키즈/어린이]</td>\n",
       "      <td>2650만</td>\n",
       "      <td>110억5288만</td>\n",
       "      <td>223개</td>\n",
       "    </tr>\n",
       "  </tbody>\n",
       "</table>\n",
       "</div>"
      ],
      "text/plain": [
       "                         title    category subscriber       view   video\n",
       "0                    BLACKPINK  [음악/댄스/가수]      6270만  183억9786만    360개\n",
       "1                  HYBE LABELS  [음악/댄스/가수]      5810만  177억0085만    630개\n",
       "2                    BANGTANTV  [음악/댄스/가수]      5310만  110억7672만  1,525개\n",
       "3                       SMTOWN  [음악/댄스/가수]      2820만  214억6339만  3,714개\n",
       "4  Boram Tube Vlog [보람튜브 브이로그]    [키즈/어린이]      2650만  110억5288만    223개"
      ]
     },
     "execution_count": 46,
     "metadata": {},
     "output_type": "execute_result"
    }
   ],
   "source": [
    "# 예제 3-53 엑셀 파일 불러오기\n",
    "df = pd.read_excel('./youtube_rank.xlsx')\n",
    "df.head()"
   ]
  },
  {
   "cell_type": "code",
   "execution_count": 47,
   "metadata": {},
   "outputs": [
    {
     "data": {
      "text/html": [
       "<div>\n",
       "<style scoped>\n",
       "    .dataframe tbody tr th:only-of-type {\n",
       "        vertical-align: middle;\n",
       "    }\n",
       "\n",
       "    .dataframe tbody tr th {\n",
       "        vertical-align: top;\n",
       "    }\n",
       "\n",
       "    .dataframe thead th {\n",
       "        text-align: right;\n",
       "    }\n",
       "</style>\n",
       "<table border=\"1\" class=\"dataframe\">\n",
       "  <thead>\n",
       "    <tr style=\"text-align: right;\">\n",
       "      <th></th>\n",
       "      <th>title</th>\n",
       "      <th>category</th>\n",
       "      <th>subscriber</th>\n",
       "      <th>view</th>\n",
       "      <th>video</th>\n",
       "    </tr>\n",
       "  </thead>\n",
       "  <tbody>\n",
       "    <tr>\n",
       "      <th>995</th>\n",
       "      <td>김흥미</td>\n",
       "      <td>[미분류]</td>\n",
       "      <td>49만</td>\n",
       "      <td>1억9346만</td>\n",
       "      <td>445개</td>\n",
       "    </tr>\n",
       "    <tr>\n",
       "      <th>996</th>\n",
       "      <td>KBS 1라디오</td>\n",
       "      <td>[TV/방송]</td>\n",
       "      <td>49만</td>\n",
       "      <td>1억7331만</td>\n",
       "      <td>9,680개</td>\n",
       "    </tr>\n",
       "    <tr>\n",
       "      <th>997</th>\n",
       "      <td>주키니TV</td>\n",
       "      <td>[게임]</td>\n",
       "      <td>49만</td>\n",
       "      <td>1억6464만</td>\n",
       "      <td>414개</td>\n",
       "    </tr>\n",
       "    <tr>\n",
       "      <th>998</th>\n",
       "      <td>공구왕황부장</td>\n",
       "      <td>[취미/라이프]</td>\n",
       "      <td>49만</td>\n",
       "      <td>9787만</td>\n",
       "      <td>433개</td>\n",
       "    </tr>\n",
       "    <tr>\n",
       "      <th>999</th>\n",
       "      <td>도아TV</td>\n",
       "      <td>[BJ/인물/연예인]</td>\n",
       "      <td>49만</td>\n",
       "      <td>1억8203만</td>\n",
       "      <td>1,550개</td>\n",
       "    </tr>\n",
       "  </tbody>\n",
       "</table>\n",
       "</div>"
      ],
      "text/plain": [
       "        title     category subscriber     view   video\n",
       "995       김흥미        [미분류]        49만  1억9346만    445개\n",
       "996  KBS 1라디오      [TV/방송]        49만  1억7331만  9,680개\n",
       "997     주키니TV         [게임]        49만  1억6464만    414개\n",
       "998    공구왕황부장     [취미/라이프]        49만    9787만    433개\n",
       "999      도아TV  [BJ/인물/연예인]        49만  1억8203만  1,550개"
      ]
     },
     "execution_count": 47,
     "metadata": {},
     "output_type": "execute_result"
    }
   ],
   "source": [
    "# 예제 3-54 데이터 살펴보기\n",
    "df.tail()"
   ]
  },
  {
   "cell_type": "code",
   "execution_count": 48,
   "metadata": {},
   "outputs": [
    {
     "data": {
      "text/plain": [
       "0    6270만\n",
       "1    5810만\n",
       "2    5310만\n",
       "3    2820만\n",
       "4    2650만\n",
       "5    2410만\n",
       "6    2300만\n",
       "7    2130만\n",
       "8    1910만\n",
       "9    1820만\n",
       "Name: subscriber, dtype: object"
      ]
     },
     "execution_count": 48,
     "metadata": {},
     "output_type": "execute_result"
    }
   ],
   "source": [
    "# 예제 3-55 데이터 살펴보기\n",
    "df['subscriber'][0:10]"
   ]
  },
  {
   "cell_type": "code",
   "execution_count": 49,
   "metadata": {},
   "outputs": [
    {
     "data": {
      "text/plain": [
       "0    62700000\n",
       "1    58100000\n",
       "2    53100000\n",
       "3    28200000\n",
       "4    26500000\n",
       "5    24100000\n",
       "6    23000000\n",
       "7    21300000\n",
       "8    19100000\n",
       "9    18200000\n",
       "Name: subscriber, dtype: object"
      ]
     },
     "execution_count": 49,
     "metadata": {},
     "output_type": "execute_result"
    }
   ],
   "source": [
    "# 예제 3-56 데이터 살펴보기\n",
    "df['subscriber'].str.replace('만', '0000')[0:10]"
   ]
  },
  {
   "cell_type": "code",
   "execution_count": 50,
   "metadata": {},
   "outputs": [
    {
     "data": {
      "text/html": [
       "<div>\n",
       "<style scoped>\n",
       "    .dataframe tbody tr th:only-of-type {\n",
       "        vertical-align: middle;\n",
       "    }\n",
       "\n",
       "    .dataframe tbody tr th {\n",
       "        vertical-align: top;\n",
       "    }\n",
       "\n",
       "    .dataframe thead th {\n",
       "        text-align: right;\n",
       "    }\n",
       "</style>\n",
       "<table border=\"1\" class=\"dataframe\">\n",
       "  <thead>\n",
       "    <tr style=\"text-align: right;\">\n",
       "      <th></th>\n",
       "      <th>title</th>\n",
       "      <th>category</th>\n",
       "      <th>subscriber</th>\n",
       "      <th>view</th>\n",
       "      <th>video</th>\n",
       "      <th>replaced_subscriber</th>\n",
       "    </tr>\n",
       "  </thead>\n",
       "  <tbody>\n",
       "    <tr>\n",
       "      <th>0</th>\n",
       "      <td>BLACKPINK</td>\n",
       "      <td>[음악/댄스/가수]</td>\n",
       "      <td>6270만</td>\n",
       "      <td>183억9786만</td>\n",
       "      <td>360개</td>\n",
       "      <td>62700000</td>\n",
       "    </tr>\n",
       "    <tr>\n",
       "      <th>1</th>\n",
       "      <td>HYBE LABELS</td>\n",
       "      <td>[음악/댄스/가수]</td>\n",
       "      <td>5810만</td>\n",
       "      <td>177억0085만</td>\n",
       "      <td>630개</td>\n",
       "      <td>58100000</td>\n",
       "    </tr>\n",
       "    <tr>\n",
       "      <th>2</th>\n",
       "      <td>BANGTANTV</td>\n",
       "      <td>[음악/댄스/가수]</td>\n",
       "      <td>5310만</td>\n",
       "      <td>110억7672만</td>\n",
       "      <td>1,525개</td>\n",
       "      <td>53100000</td>\n",
       "    </tr>\n",
       "    <tr>\n",
       "      <th>3</th>\n",
       "      <td>SMTOWN</td>\n",
       "      <td>[음악/댄스/가수]</td>\n",
       "      <td>2820만</td>\n",
       "      <td>214억6339만</td>\n",
       "      <td>3,714개</td>\n",
       "      <td>28200000</td>\n",
       "    </tr>\n",
       "    <tr>\n",
       "      <th>4</th>\n",
       "      <td>Boram Tube Vlog [보람튜브 브이로그]</td>\n",
       "      <td>[키즈/어린이]</td>\n",
       "      <td>2650만</td>\n",
       "      <td>110억5288만</td>\n",
       "      <td>223개</td>\n",
       "      <td>26500000</td>\n",
       "    </tr>\n",
       "  </tbody>\n",
       "</table>\n",
       "</div>"
      ],
      "text/plain": [
       "                         title    category subscriber       view   video  \\\n",
       "0                    BLACKPINK  [음악/댄스/가수]      6270만  183억9786만    360개   \n",
       "1                  HYBE LABELS  [음악/댄스/가수]      5810만  177억0085만    630개   \n",
       "2                    BANGTANTV  [음악/댄스/가수]      5310만  110억7672만  1,525개   \n",
       "3                       SMTOWN  [음악/댄스/가수]      2820만  214억6339만  3,714개   \n",
       "4  Boram Tube Vlog [보람튜브 브이로그]    [키즈/어린이]      2650만  110억5288만    223개   \n",
       "\n",
       "  replaced_subscriber  \n",
       "0            62700000  \n",
       "1            58100000  \n",
       "2            53100000  \n",
       "3            28200000  \n",
       "4            26500000  "
      ]
     },
     "execution_count": 50,
     "metadata": {},
     "output_type": "execute_result"
    }
   ],
   "source": [
    "# 예제 3-57 replaced_subscriber 시리즈 문자열 변경하기\n",
    "df['replaced_subscriber'] = df['subscriber'].str.replace('만', '0000')\n",
    "df.head()"
   ]
  },
  {
   "cell_type": "code",
   "execution_count": 51,
   "metadata": {},
   "outputs": [
    {
     "name": "stdout",
     "output_type": "stream",
     "text": [
      "<class 'pandas.core.frame.DataFrame'>\n",
      "RangeIndex: 1000 entries, 0 to 999\n",
      "Data columns (total 6 columns):\n",
      " #   Column               Non-Null Count  Dtype \n",
      "---  ------               --------------  ----- \n",
      " 0   title                1000 non-null   object\n",
      " 1   category             1000 non-null   object\n",
      " 2   subscriber           1000 non-null   object\n",
      " 3   view                 1000 non-null   object\n",
      " 4   video                1000 non-null   object\n",
      " 5   replaced_subscriber  1000 non-null   object\n",
      "dtypes: object(6)\n",
      "memory usage: 47.0+ KB\n"
     ]
    }
   ],
   "source": [
    "# 예제 3-58 데이터 상세 정보\n",
    "df.info()"
   ]
  },
  {
   "cell_type": "code",
   "execution_count": 52,
   "metadata": {},
   "outputs": [
    {
     "name": "stdout",
     "output_type": "stream",
     "text": [
      "<class 'pandas.core.frame.DataFrame'>\n",
      "RangeIndex: 1000 entries, 0 to 999\n",
      "Data columns (total 6 columns):\n",
      " #   Column               Non-Null Count  Dtype \n",
      "---  ------               --------------  ----- \n",
      " 0   title                1000 non-null   object\n",
      " 1   category             1000 non-null   object\n",
      " 2   subscriber           1000 non-null   object\n",
      " 3   view                 1000 non-null   object\n",
      " 4   video                1000 non-null   object\n",
      " 5   replaced_subscriber  1000 non-null   int32 \n",
      "dtypes: int32(1), object(5)\n",
      "memory usage: 43.1+ KB\n"
     ]
    }
   ],
   "source": [
    "# 예제 3-59 Series 데이터 타입 변환하기\n",
    "df['replaced_subscriber'] = df['replaced_subscriber'].astype('int')\n",
    "df.info()"
   ]
  },
  {
   "cell_type": "code",
   "execution_count": 53,
   "metadata": {},
   "outputs": [
    {
     "data": {
      "text/html": [
       "<div>\n",
       "<style scoped>\n",
       "    .dataframe tbody tr th:only-of-type {\n",
       "        vertical-align: middle;\n",
       "    }\n",
       "\n",
       "    .dataframe tbody tr th {\n",
       "        vertical-align: top;\n",
       "    }\n",
       "\n",
       "    .dataframe thead tr th {\n",
       "        text-align: left;\n",
       "    }\n",
       "\n",
       "    .dataframe thead tr:last-of-type th {\n",
       "        text-align: right;\n",
       "    }\n",
       "</style>\n",
       "<table border=\"1\" class=\"dataframe\">\n",
       "  <thead>\n",
       "    <tr>\n",
       "      <th></th>\n",
       "      <th>sum</th>\n",
       "      <th>count</th>\n",
       "    </tr>\n",
       "    <tr>\n",
       "      <th></th>\n",
       "      <th>replaced_subscriber</th>\n",
       "      <th>replaced_subscriber</th>\n",
       "    </tr>\n",
       "    <tr>\n",
       "      <th>category</th>\n",
       "      <th></th>\n",
       "      <th></th>\n",
       "    </tr>\n",
       "  </thead>\n",
       "  <tbody>\n",
       "    <tr>\n",
       "      <th>[BJ/인물/연예인]</th>\n",
       "      <td>98370000</td>\n",
       "      <td>73</td>\n",
       "    </tr>\n",
       "    <tr>\n",
       "      <th>[IT/기술/컴퓨터]</th>\n",
       "      <td>7760000</td>\n",
       "      <td>8</td>\n",
       "    </tr>\n",
       "    <tr>\n",
       "      <th>[TV/방송]</th>\n",
       "      <td>226400000</td>\n",
       "      <td>147</td>\n",
       "    </tr>\n",
       "    <tr>\n",
       "      <th>[게임]</th>\n",
       "      <td>70070000</td>\n",
       "      <td>81</td>\n",
       "    </tr>\n",
       "    <tr>\n",
       "      <th>[교육/강의]</th>\n",
       "      <td>22440000</td>\n",
       "      <td>21</td>\n",
       "    </tr>\n",
       "  </tbody>\n",
       "</table>\n",
       "</div>"
      ],
      "text/plain": [
       "                            sum               count\n",
       "            replaced_subscriber replaced_subscriber\n",
       "category                                           \n",
       "[BJ/인물/연예인]            98370000                  73\n",
       "[IT/기술/컴퓨터]             7760000                   8\n",
       "[TV/방송]               226400000                 147\n",
       "[게임]                   70070000                  81\n",
       "[교육/강의]                22440000                  21"
      ]
     },
     "execution_count": 53,
     "metadata": {},
     "output_type": "execute_result"
    }
   ],
   "source": [
    "# 예제 3-60 카테고리별 구독자 수, 채널 수 피봇 테이블 생성하기\n",
    "pivot_df = df.pivot_table(index = 'category', values = 'replaced_subscriber', aggfunc = ['sum','count'])\n",
    "pivot_df.head()"
   ]
  },
  {
   "cell_type": "code",
   "execution_count": 54,
   "metadata": {},
   "outputs": [
    {
     "data": {
      "text/html": [
       "<div>\n",
       "<style scoped>\n",
       "    .dataframe tbody tr th:only-of-type {\n",
       "        vertical-align: middle;\n",
       "    }\n",
       "\n",
       "    .dataframe tbody tr th {\n",
       "        vertical-align: top;\n",
       "    }\n",
       "\n",
       "    .dataframe thead th {\n",
       "        text-align: right;\n",
       "    }\n",
       "</style>\n",
       "<table border=\"1\" class=\"dataframe\">\n",
       "  <thead>\n",
       "    <tr style=\"text-align: right;\">\n",
       "      <th></th>\n",
       "      <th>subscriber_sum</th>\n",
       "      <th>category_count</th>\n",
       "    </tr>\n",
       "    <tr>\n",
       "      <th>category</th>\n",
       "      <th></th>\n",
       "      <th></th>\n",
       "    </tr>\n",
       "  </thead>\n",
       "  <tbody>\n",
       "    <tr>\n",
       "      <th>[BJ/인물/연예인]</th>\n",
       "      <td>98370000</td>\n",
       "      <td>73</td>\n",
       "    </tr>\n",
       "    <tr>\n",
       "      <th>[IT/기술/컴퓨터]</th>\n",
       "      <td>7760000</td>\n",
       "      <td>8</td>\n",
       "    </tr>\n",
       "    <tr>\n",
       "      <th>[TV/방송]</th>\n",
       "      <td>226400000</td>\n",
       "      <td>147</td>\n",
       "    </tr>\n",
       "    <tr>\n",
       "      <th>[게임]</th>\n",
       "      <td>70070000</td>\n",
       "      <td>81</td>\n",
       "    </tr>\n",
       "    <tr>\n",
       "      <th>[교육/강의]</th>\n",
       "      <td>22440000</td>\n",
       "      <td>21</td>\n",
       "    </tr>\n",
       "  </tbody>\n",
       "</table>\n",
       "</div>"
      ],
      "text/plain": [
       "             subscriber_sum  category_count\n",
       "category                                   \n",
       "[BJ/인물/연예인]        98370000              73\n",
       "[IT/기술/컴퓨터]         7760000               8\n",
       "[TV/방송]           226400000             147\n",
       "[게임]               70070000              81\n",
       "[교육/강의]            22440000              21"
      ]
     },
     "execution_count": 54,
     "metadata": {},
     "output_type": "execute_result"
    }
   ],
   "source": [
    "# 예제 3-61 데이터프레임의 칼럼명 변경하기\n",
    "pivot_df.columns = ['subscriber_sum', 'category_count']\n",
    "pivot_df.head()"
   ]
  },
  {
   "cell_type": "code",
   "execution_count": 55,
   "metadata": {},
   "outputs": [
    {
     "data": {
      "text/html": [
       "<div>\n",
       "<style scoped>\n",
       "    .dataframe tbody tr th:only-of-type {\n",
       "        vertical-align: middle;\n",
       "    }\n",
       "\n",
       "    .dataframe tbody tr th {\n",
       "        vertical-align: top;\n",
       "    }\n",
       "\n",
       "    .dataframe thead th {\n",
       "        text-align: right;\n",
       "    }\n",
       "</style>\n",
       "<table border=\"1\" class=\"dataframe\">\n",
       "  <thead>\n",
       "    <tr style=\"text-align: right;\">\n",
       "      <th></th>\n",
       "      <th>category</th>\n",
       "      <th>subscriber_sum</th>\n",
       "      <th>category_count</th>\n",
       "    </tr>\n",
       "  </thead>\n",
       "  <tbody>\n",
       "    <tr>\n",
       "      <th>0</th>\n",
       "      <td>[BJ/인물/연예인]</td>\n",
       "      <td>98370000</td>\n",
       "      <td>73</td>\n",
       "    </tr>\n",
       "    <tr>\n",
       "      <th>1</th>\n",
       "      <td>[IT/기술/컴퓨터]</td>\n",
       "      <td>7760000</td>\n",
       "      <td>8</td>\n",
       "    </tr>\n",
       "    <tr>\n",
       "      <th>2</th>\n",
       "      <td>[TV/방송]</td>\n",
       "      <td>226400000</td>\n",
       "      <td>147</td>\n",
       "    </tr>\n",
       "    <tr>\n",
       "      <th>3</th>\n",
       "      <td>[게임]</td>\n",
       "      <td>70070000</td>\n",
       "      <td>81</td>\n",
       "    </tr>\n",
       "    <tr>\n",
       "      <th>4</th>\n",
       "      <td>[교육/강의]</td>\n",
       "      <td>22440000</td>\n",
       "      <td>21</td>\n",
       "    </tr>\n",
       "  </tbody>\n",
       "</table>\n",
       "</div>"
      ],
      "text/plain": [
       "      category  subscriber_sum  category_count\n",
       "0  [BJ/인물/연예인]        98370000              73\n",
       "1  [IT/기술/컴퓨터]         7760000               8\n",
       "2      [TV/방송]       226400000             147\n",
       "3         [게임]        70070000              81\n",
       "4      [교육/강의]        22440000              21"
      ]
     },
     "execution_count": 55,
     "metadata": {},
     "output_type": "execute_result"
    }
   ],
   "source": [
    "# 예제3-62 데이터프레임의인덱스초기화하기\n",
    "pivot_df = pivot_df.reset_index()\n",
    "pivot_df.head()"
   ]
  },
  {
   "cell_type": "code",
   "execution_count": 56,
   "metadata": {},
   "outputs": [
    {
     "data": {
      "text/html": [
       "<div>\n",
       "<style scoped>\n",
       "    .dataframe tbody tr th:only-of-type {\n",
       "        vertical-align: middle;\n",
       "    }\n",
       "\n",
       "    .dataframe tbody tr th {\n",
       "        vertical-align: top;\n",
       "    }\n",
       "\n",
       "    .dataframe thead th {\n",
       "        text-align: right;\n",
       "    }\n",
       "</style>\n",
       "<table border=\"1\" class=\"dataframe\">\n",
       "  <thead>\n",
       "    <tr style=\"text-align: right;\">\n",
       "      <th></th>\n",
       "      <th>category</th>\n",
       "      <th>subscriber_sum</th>\n",
       "      <th>category_count</th>\n",
       "    </tr>\n",
       "  </thead>\n",
       "  <tbody>\n",
       "    <tr>\n",
       "      <th>12</th>\n",
       "      <td>[음악/댄스/가수]</td>\n",
       "      <td>660420000</td>\n",
       "      <td>172</td>\n",
       "    </tr>\n",
       "    <tr>\n",
       "      <th>17</th>\n",
       "      <td>[키즈/어린이]</td>\n",
       "      <td>259740000</td>\n",
       "      <td>90</td>\n",
       "    </tr>\n",
       "    <tr>\n",
       "      <th>2</th>\n",
       "      <td>[TV/방송]</td>\n",
       "      <td>226400000</td>\n",
       "      <td>147</td>\n",
       "    </tr>\n",
       "    <tr>\n",
       "      <th>11</th>\n",
       "      <td>[음식/요리/레시피]</td>\n",
       "      <td>175460000</td>\n",
       "      <td>85</td>\n",
       "    </tr>\n",
       "    <tr>\n",
       "      <th>7</th>\n",
       "      <td>[미분류]</td>\n",
       "      <td>101630000</td>\n",
       "      <td>100</td>\n",
       "    </tr>\n",
       "  </tbody>\n",
       "</table>\n",
       "</div>"
      ],
      "text/plain": [
       "       category  subscriber_sum  category_count\n",
       "12   [음악/댄스/가수]       660420000             172\n",
       "17     [키즈/어린이]       259740000              90\n",
       "2       [TV/방송]       226400000             147\n",
       "11  [음식/요리/레시피]       175460000              85\n",
       "7         [미분류]       101630000             100"
      ]
     },
     "execution_count": 56,
     "metadata": {},
     "output_type": "execute_result"
    }
   ],
   "source": [
    "# 예제3-63 데이터프레임을내림차순정렬하기\n",
    "pivot_df = pivot_df.sort_values(by='subscriber_sum', ascending=False)\n",
    "pivot_df.head()"
   ]
  },
  {
   "cell_type": "code",
   "execution_count": 57,
   "metadata": {},
   "outputs": [
    {
     "data": {
      "image/png": "[encoded data removed]",
      "text/plain": [
       "<Figure size 2160x720 with 1 Axes>"
      ]
     },
     "metadata": {},
     "output_type": "display_data"
    }
   ],
   "source": [
    "# 예제3-64 카테고리별구독자수시각화하기\n",
    "plt.figure(figsize = (30,10))\n",
    "plt.pie(pivot_df['subscriber_sum'], labels=pivot_df['category'], autopct='%1.1f%%')\n",
    "plt.show()"
   ]
  },
  {
   "cell_type": "code",
   "execution_count": 58,
   "metadata": {},
   "outputs": [],
   "source": [
    "# 예제 3-65 카테고리별 채널 수 시각화하기\n",
    "pivot_df = pivot_df.sort_values(by='category_count', ascending=False)"
   ]
  },
  {
   "cell_type": "code",
   "execution_count": 59,
   "metadata": {},
   "outputs": [
    {
     "data": {
      "image/png": "[encoded data removed]",
      "text/plain": [
       "<Figure size 2160x720 with 1 Axes>"
      ]
     },
     "metadata": {},
     "output_type": "display_data"
    }
   ],
   "source": [
    "pivot_df.head()\n",
    "plt.figure(figsize = (30,10))\n",
    "plt.pie(pivot_df['category_count'], labels=pivot_df['category'], autopct='%1.1f%%')\n",
    "plt.show()"
   ]
  },
  {
   "cell_type": "code",
   "execution_count": null,
   "metadata": {},
   "outputs": [],
   "source": []
  },
  {
   "cell_type": "code",
   "execution_count": null,
   "metadata": {},
   "outputs": [],
   "source": []
  }
 ],
 "metadata": {
  "interpreter": {
   "hash": "f2bedd6c1929332cd14b2a248da255989b385da63903a397c1bdae0ba086a5c4"
  },
  "kernelspec": {
   "display_name": "Python 3",
   "language": "python",
   "name": "python3"
  },
  "language_info": {
   "codemirror_mode": {
    "name": "ipython",
    "version": 3
   },
   "file_extension": ".py",
   "mimetype": "text/x-python",
   "name": "python",
   "nbconvert_exporter": "python",
   "pygments_lexer": "ipython3",
   "version": "3.8.5"
  },
  "toc": {
   "base_numbering": 1,
   "nav_menu": {},
   "number_sections": true,
   "sideBar": true,
   "skip_h1_title": false,
   "title_cell": "Table of Contents",
   "title_sidebar": "Contents",
   "toc_cell": false,
   "toc_position": {},
   "toc_section_display": true,
   "toc_window_display": false
  }
 },
 "nbformat": 4,
 "nbformat_minor": 4
}
